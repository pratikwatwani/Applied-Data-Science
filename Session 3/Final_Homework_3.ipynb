{
  "nbformat": 4,
  "nbformat_minor": 0,
  "metadata": {
    "anaconda-cloud": {},
    "kernelspec": {
      "display_name": "Python 3",
      "language": "python",
      "name": "python3"
    },
    "language_info": {
      "codemirror_mode": {
        "name": "ipython",
        "version": 3
      },
      "file_extension": ".py",
      "mimetype": "text/x-python",
      "name": "python",
      "nbconvert_exporter": "python",
      "pygments_lexer": "ipython3",
      "version": "3.7.1"
    },
    "colab": {
      "name": "Final Homework 3",
      "provenance": [],
      "collapsed_sections": []
    }
  },
  "cells": [
    {
      "cell_type": "markdown",
      "metadata": {
        "id": "BpO_5TiPT35O",
        "colab_type": "text"
      },
      "source": [
        "# Linear regression\n",
        "\n",
        "## 1. Uni-variate linear regression\n",
        "\n",
        "### 1.1. Least square estimate\n",
        "One of the basic models to try, while learning dependence between two real-valued variables $X$ and $Y$ is a uni-variate linear regression:\n",
        "$$\n",
        "y=w x.\n",
        "$$\n",
        "\n",
        "Admitting that the model's accuracy is not be absolute: \n",
        "$$\n",
        "y=w x + \\varepsilon,\\hspace{5ex} (1.1)\n",
        "$$\n",
        "where $\\varepsilon$ is the model's error (often called noise or residual).\n",
        "\n",
        "The objective is to learn $w$ given a training set of $\\{(x_i, y_i), i=1..N\\}$ providing the best possible fit for the model. The fit could be characterized by the errors of the model\n",
        "$$\n",
        "\\varepsilon_i=y_i-w x_i\n",
        "$$\n",
        "and in particular by their sum of squares:\n",
        "$$\n",
        "RSS(w)=\\sum\\limits_i \\varepsilon_i^2=\\sum\\limits_i (y_i-w x_i)^2. \\hspace{5ex} (1.2)\n",
        "$$\n",
        "Minimizing such $RSS(w)\\to min$ is called a least square approach. With respect to this criteria, regression becomes an optimization problem\n",
        "$$\n",
        "\\hat{w}=argmin_w RSS(w). \\hspace{5ex} (1.3)\n",
        "$$\n",
        "Luckily this problem has a precise analytic solution following from RSS function's shape and local extremum criteria:\n",
        "$$\n",
        "RSS'(w)=0,\n",
        "$$\n",
        "i.e.\n",
        "$$\n",
        "0=\\frac{d\\sum\\limits_i (y_i-w x_i)^2}{dw}=\\sum\\limits_i\\frac{d (y_i-w x_i)^2}{dw}=\\sum\\limits_i -2 x_i(y_i-w x_i),\n",
        "$$$$\n",
        "0=\\sum\\limits_i x_i y_i- w \\sum\\limits_i (x_i)^2,\n",
        "$$$$\n",
        "\\sum\\limits_i x_i y_i = w \\sum\\limits_i (x_i)^2,\n",
        "$$$$\n",
        "w=\\frac{\\sum\\limits_i x_i y_i}{\\sum\\limits_i (x_i)^2}. \\hspace{5ex} (1.4)\n",
        "$$\n",
        "Thinking of $x_i$ and $y_i$ as the observations of random variables $X$ and $Y$ this can be rewritten as\n",
        "$$\n",
        "w=\\frac{E[XY]}{E[X^2]}.\n",
        "$$\n",
        "\n",
        "### 1.2. Case of normalized variables \n",
        "In case variables $x,y$ were normalized as\n",
        "$$\n",
        "x:=\\frac{x-E[X]}{\\sigma[X]},\\ y:=\\frac{y-E[Y]}{\\sigma[Y]}\n",
        "$$\n",
        "in order to ensure zero averages $E[X]=E[Y]=0$ and unit standard deviations $\\sigma[X]=\\sigma[Y]=1$, the equation for $w$ could be rewritten as\n",
        "$$\n",
        "w=\\frac{E[XY]-E[X]E[Y]}{E[X^2]-E[X]^2}=\\frac{E[XY]-E[X]E[Y]}{\\sigma[X]^2}=\\frac{E[XY]-E[X]E[Y]}{\\sigma[X]\\sigma[Y]}=corr(X,Y).\n",
        "$$\n",
        "So in case of normalized $x,y$ a best fit univariate linear regression is provided by an equation\n",
        "$$\n",
        "y=corr(X,Y)x\n",
        "$$\n",
        "\n"
      ]
    },
    {
      "cell_type": "markdown",
      "metadata": {
        "id": "tJ0Sv3XlT35Q",
        "colab_type": "text"
      },
      "source": [
        "## 2. Multi-variate linear regression\n",
        "\n",
        "### 2.1. Definition and parameter estimation\n",
        "\n",
        "As we remember linear model between single real-value regressor $x$ and output variable $y$ is expressed by \n",
        "$$\n",
        "y=w_1 x + w_0 +\\varepsilon.\n",
        "$$\n",
        "$w_1$-slope coefficient, $w_0$ - intercept, $\\varepsilon$ - random noise. In a more general case when $x$ is a real-valued $n \\times 1$-vector $x=(x_1,x_2,...,x_n)^T$, the model could be easily generalized as\n",
        "$$\n",
        "y=\\sum\\limits_j w_j x_j +\\varepsilon (2.1)\n",
        "$$\n",
        "or in a vector form\n",
        "$$\n",
        "y=w^T x+\\varepsilon, \\hspace{5ex} (2.1')\n",
        "$$\n",
        "where $w=(w_1,w_2,...,w_n)$ is also a $n \\times 1$-vector. \n",
        "Notice that intercept is not specifically separated as it could be always introduced by adding a dummy variable $x^m\\equiv 1$.\n",
        "\n",
        "The probabilistic view on the model in the assumption that $\\varepsilon\\sim {\\cal N}(0,\\sigma^2)$ is\n",
        "$$\n",
        "p(y|x,w,\\sigma)={\\cal N}(y|w^T x,\\sigma^2).\n",
        "$$\n",
        "\n",
        "Given a training set $X=\\{(x_j^i), j=1..n, i=1..N\\}$, $Y=\\{(y^i), i=1..N\\}$ (further also denote columns of $X$ as $X_j=\\{(x_j^i), i=1..N\\}$), the least square optimization criteria for inferring a vector of coefficients $w$ can be written as\n",
        "\n",
        "$$\n",
        "RSS(w)= \\sum \\limits_i \\varepsilon_i^2= \\sum \\limits_i (y^i-w^T x^i)^2. \\hspace{5ex} (2.2)\n",
        "$$\n",
        "\n",
        "or in a matrix form:\n",
        "$$\n",
        "RSS(w)=(Y-X w)^T(Y-X w).\n",
        "$$\n",
        "Then finding an estimate\n",
        "$$\n",
        "\\hat{w}=argmin_w RSS(w)\n",
        "$$\n",
        "can be done by solving the system (in a matrix form)\n",
        "$$\n",
        "0=\\frac{\\partial RSS(\\hat{w})}{\\partial w}=2X^T (Y-X \\hat{w}).\n",
        "$$\n",
        "Using matrix formalism the solution could be expressed as\n",
        "$$\n",
        "\\hat{w}=\\left(X^T X\\right )^{-1}X^T Y. \\hspace{5ex} (2.3)\n",
        "$$\n",
        "This assumes that $X^T X$ is non-singular. Otherwise we have a case of multicollinearity.\n",
        "\n",
        "### 2.2. Case of orthogonal/uncorrelated regressors\n",
        "\n",
        "Typically the resulting estimates for the coefficients $w_j$ of a multi-variate regression (2.1) are not the same as one could get from performing a series of uni-variate regressions \n",
        "$$\n",
        "y\\sim w_j x_j, j=1,2,...,n. \\hspace{5ex} (2.4)\n",
        "$$\n",
        "This is because the regressors might be correlated with each other and their impacts on the output variable could overlap and partly offset one another.\n",
        "\n",
        "But in one special case of mutually orthogonal regressors, such that \n",
        "$$\n",
        "x_i^T x_j=0, \\hspace{5ex} (2.5)\n",
        "$$ \n",
        "for each $i\\neq j$, multi-variate regression can be derived through a series of uni-variate regressions. This is because such a condition makes the matrix $X^T X$ in (2.3) diogonal and the solution effectively splits into a series of solutions (1.4) for the regressions (2.4). Condition (2.5) is called orthogonality of regressors. \n",
        "\n",
        "In a particular case, when all the regressors are normalized as in 1.2, the orthogonality condition (2.5) is equivalent to the regressors being mutually uncorrelated. Then for normalized mutually uncorrelated regressors and a normalized output variable, a multi-variate regression (2.1) can be estimated as\n",
        "$$\n",
        "y\\sim\\sum\\limits_j corr(X_j,Y) x_j, \\hspace{5ex} (2.6)\n",
        "$$\n",
        "i.e. all the coefficients are estimated as correlations between the columns of observations for each regressor and the output variable. But remember, this is only the case when the regressors and the output variable were normalized and the regressors appeared to be mutually uncorrelated. Correlated regressors which we deal with in the most cases do not allow using the formulae (2.6)."
      ]
    },
    {
      "cell_type": "markdown",
      "metadata": {
        "id": "AjTUcm27T35S",
        "colab_type": "text"
      },
      "source": [
        "### 2.3. Regression performance: R-squared\n",
        "\n",
        "In the same way as for the bi-variate regression:\n",
        "$$\n",
        "R^2=1-\\frac{RSS}{\\sum\\limits_i (y_i-\\overline{y})^2}=\\frac{\\sum\\limits_i (\\hat{y}_i-\\overline{y})^2}{\\sum\\limits_i (y_i-\\overline{y})^2},\n",
        "$$\n",
        "where $\\overline{y}=\\sum\\limits_i y_i$ is the sample mean of observed values of responce variable, while $\\hat{y}_i=w^T x_i$ is the predicted value of output variable as compared to the observed value of $y_i$ corresponding to $x=x_i$. This way $R^2$ is often interpreted as a fraction of responce variable's variance explained by linear model. $R^2=1$ is equivalent to $RSS=0$, i.e. the model fits the observations exactly, i.e. responce variable depends linearly on the explaining variables. On the other hand, $R^2=0$ means that the model always predicts the sample mean $\\overline{y}$, i.e. explaining variables $x$ have no effect on responce variable $y$. \n",
        "\n",
        "Least-square criteria is equivalent to maximizing $R^2$.\n",
        "\n",
        "In case of a bi-variate regression with intercept $R^2=corr(Y,X)^2$, i.e. is a square of a correlation coefficient between observations of input and output variables."
      ]
    },
    {
      "cell_type": "markdown",
      "metadata": {
        "id": "V7_qrDXMT35U",
        "colab_type": "text"
      },
      "source": [
        "## Case 1. Real estate prices in NYC"
      ]
    },
    {
      "cell_type": "markdown",
      "metadata": {
        "id": "FFJdEcgQT35V",
        "colab_type": "text"
      },
      "source": [
        "All real estate sales accross NYC could be found on\n",
        "\n",
        "https://www1.nyc.gov/site/finance/taxes/property-rolling-sales-data.page\n",
        "\n",
        "Consider data for Staten Island and ask a question: \n",
        "### **which characteristic of the house would be the best predictor for its price?**"
      ]
    },
    {
      "cell_type": "code",
      "metadata": {
        "id": "7EV1qkW-AQVw",
        "colab_type": "code",
        "outputId": "e9a7d4ca-d0b7-4ec6-f05e-a30f8557b528",
        "colab": {
          "base_uri": "https://localhost:8080/",
          "height": 587
        }
      },
      "source": [
        "pip install geopandas"
      ],
      "execution_count": 0,
      "outputs": [
        {
          "output_type": "stream",
          "text": [
            "Collecting geopandas\n",
            "\u001b[?25l  Downloading https://files.pythonhosted.org/packages/51/10/9b2f2f6e35cc0e427f43faf59c56931709996ad2ffe4440fda2f5c53554f/geopandas-0.6.0-py2.py3-none-any.whl (918kB)\n",
            "\u001b[K     |████████████████████████████████| 921kB 2.7MB/s \n",
            "\u001b[?25hCollecting fiona (from geopandas)\n",
            "\u001b[?25l  Downloading https://files.pythonhosted.org/packages/1e/cf/a1f22d87223cb4f48beecf4de6eb59e5261a7d0d073489bbe7cfe6514ae3/Fiona-1.8.8-1-cp36-cp36m-manylinux1_x86_64.whl (11.9MB)\n",
            "\u001b[K     |████████████████████████████████| 11.9MB 36.1MB/s \n",
            "\u001b[?25hRequirement already satisfied: pandas>=0.23.0 in /usr/local/lib/python3.6/dist-packages (from geopandas) (0.24.2)\n",
            "Collecting pyproj (from geopandas)\n",
            "\u001b[?25l  Downloading https://files.pythonhosted.org/packages/7a/b1/ab67ad924770e1c1432fa0953a665b8ea193b60c7494457b69da052d6e83/pyproj-2.4.0-cp36-cp36m-manylinux1_x86_64.whl (10.1MB)\n",
            "\u001b[K     |████████████████████████████████| 10.1MB 40.5MB/s \n",
            "\u001b[?25hRequirement already satisfied: shapely in /usr/local/lib/python3.6/dist-packages (from geopandas) (1.6.4.post2)\n",
            "Collecting click-plugins>=1.0 (from fiona->geopandas)\n",
            "  Downloading https://files.pythonhosted.org/packages/e9/da/824b92d9942f4e472702488857914bdd50f73021efea15b4cad9aca8ecef/click_plugins-1.1.1-py2.py3-none-any.whl\n",
            "Requirement already satisfied: attrs>=17 in /usr/local/lib/python3.6/dist-packages (from fiona->geopandas) (19.1.0)\n",
            "Requirement already satisfied: click<8,>=4.0 in /usr/local/lib/python3.6/dist-packages (from fiona->geopandas) (7.0)\n",
            "Collecting munch (from fiona->geopandas)\n",
            "  Downloading https://files.pythonhosted.org/packages/68/f4/260ec98ea840757a0da09e0ed8135333d59b8dfebe9752a365b04857660a/munch-2.3.2.tar.gz\n",
            "Requirement already satisfied: six>=1.7 in /usr/local/lib/python3.6/dist-packages (from fiona->geopandas) (1.12.0)\n",
            "Collecting cligj>=0.5 (from fiona->geopandas)\n",
            "  Downloading https://files.pythonhosted.org/packages/e4/be/30a58b4b0733850280d01f8bd132591b4668ed5c7046761098d665ac2174/cligj-0.5.0-py3-none-any.whl\n",
            "Requirement already satisfied: numpy>=1.12.0 in /usr/local/lib/python3.6/dist-packages (from pandas>=0.23.0->geopandas) (1.16.5)\n",
            "Requirement already satisfied: python-dateutil>=2.5.0 in /usr/local/lib/python3.6/dist-packages (from pandas>=0.23.0->geopandas) (2.5.3)\n",
            "Requirement already satisfied: pytz>=2011k in /usr/local/lib/python3.6/dist-packages (from pandas>=0.23.0->geopandas) (2018.9)\n",
            "Building wheels for collected packages: munch\n",
            "  Building wheel for munch (setup.py) ... \u001b[?25l\u001b[?25hdone\n",
            "  Created wheel for munch: filename=munch-2.3.2-py2.py3-none-any.whl size=6614 sha256=9a7ca69d4fe887002f59fad9b25868740aadae88a829b0abd048b229c87b38ee\n",
            "  Stored in directory: /root/.cache/pip/wheels/db/bf/bc/06a3e1bfe0ab27d2e720ceb3cff3159398d92644c0cec2c125\n",
            "Successfully built munch\n",
            "Installing collected packages: click-plugins, munch, cligj, fiona, pyproj, geopandas\n",
            "Successfully installed click-plugins-1.1.1 cligj-0.5.0 fiona-1.8.8 geopandas-0.6.0 munch-2.3.2 pyproj-2.4.0\n"
          ],
          "name": "stdout"
        }
      ]
    },
    {
      "cell_type": "code",
      "metadata": {
        "id": "BmGxg6KHT35W",
        "colab_type": "code",
        "colab": {}
      },
      "source": [
        "import pandas as pd\n",
        "import numpy as np\n",
        "import statsmodels.formula.api as smf\n",
        "import matplotlib.pylab as plt\n",
        "import math\n",
        "import seaborn as sns\n",
        "%matplotlib inline"
      ],
      "execution_count": 0,
      "outputs": []
    },
    {
      "cell_type": "code",
      "metadata": {
        "id": "Y39Z2w2_O0FU",
        "colab_type": "code",
        "outputId": "562caf20-e56d-4d69-f19c-6895c76d00b0",
        "colab": {
          "base_uri": "https://localhost:8080/",
          "height": 132
        }
      },
      "source": [
        "from google.colab import drive\n",
        "drive.mount('/content/drive')"
      ],
      "execution_count": 0,
      "outputs": [
        {
          "output_type": "stream",
          "text": [
            "Go to this URL in a browser: https://accounts.google.com/o/oauth2/auth?client_id=947318989803-6bn6qk8qdgf4n4g3pfee6491hc0brc4i.apps.googleusercontent.com&redirect_uri=urn%3Aietf%3Awg%3Aoauth%3A2.0%3Aoob&scope=email%20https%3A%2F%2Fwww.googleapis.com%2Fauth%2Fdocs.test%20https%3A%2F%2Fwww.googleapis.com%2Fauth%2Fdrive%20https%3A%2F%2Fwww.googleapis.com%2Fauth%2Fdrive.photos.readonly%20https%3A%2F%2Fwww.googleapis.com%2Fauth%2Fpeopleapi.readonly&response_type=code\n",
            "\n",
            "Enter your authorization code:\n",
            "··········\n",
            "Mounted at /content/drive\n"
          ],
          "name": "stdout"
        }
      ]
    },
    {
      "cell_type": "code",
      "metadata": {
        "id": "sGnZItPkT35a",
        "colab_type": "code",
        "colab": {}
      },
      "source": [
        "#load the house sales data from staten island\n",
        "REStaten=pd.read_csv('/content/drive/My Drive/Untitled folder/rollingsales_statenisland.csv')"
      ],
      "execution_count": 0,
      "outputs": []
    },
    {
      "cell_type": "code",
      "metadata": {
        "id": "MQSY9-SaT35c",
        "colab_type": "code",
        "outputId": "fd0c3562-4feb-4597-8964-0bb6ce735803",
        "colab": {
          "base_uri": "https://localhost:8080/",
          "height": 438
        }
      },
      "source": [
        "#look at the format\n",
        "REStaten.head()"
      ],
      "execution_count": 0,
      "outputs": [
        {
          "output_type": "execute_result",
          "data": {
            "text/html": [
              "<div>\n",
              "<style scoped>\n",
              "    .dataframe tbody tr th:only-of-type {\n",
              "        vertical-align: middle;\n",
              "    }\n",
              "\n",
              "    .dataframe tbody tr th {\n",
              "        vertical-align: top;\n",
              "    }\n",
              "\n",
              "    .dataframe thead th {\n",
              "        text-align: right;\n",
              "    }\n",
              "</style>\n",
              "<table border=\"1\" class=\"dataframe\">\n",
              "  <thead>\n",
              "    <tr style=\"text-align: right;\">\n",
              "      <th></th>\n",
              "      <th>BOROUGH</th>\n",
              "      <th>NEIGHBORHOOD</th>\n",
              "      <th>BUILDING_CLASS_CATEGORY</th>\n",
              "      <th>TAX_CLASS_AT_PRESENT</th>\n",
              "      <th>BLOCK</th>\n",
              "      <th>LOT</th>\n",
              "      <th>EASE-MENT</th>\n",
              "      <th>BUILDING_CLASS_AT_PRESENT</th>\n",
              "      <th>ADDRESS</th>\n",
              "      <th>APARTMENT_NUMBER</th>\n",
              "      <th>ZIP_CODE</th>\n",
              "      <th>RESIDENTIAL_UNITS</th>\n",
              "      <th>COMMERCIAL_UNITS</th>\n",
              "      <th>TOTAL_UNITS</th>\n",
              "      <th>LAND_SQUARE_FEET</th>\n",
              "      <th>GROSS_SQUARE_FEET</th>\n",
              "      <th>YEAR_BUILT</th>\n",
              "      <th>TAX_CLASS_AT_TIME_OF_SALE</th>\n",
              "      <th>BUILDING_CLASS_AT_TIME_OF_SALE</th>\n",
              "      <th>SALE_PRICE</th>\n",
              "      <th>SALE_DATE</th>\n",
              "    </tr>\n",
              "  </thead>\n",
              "  <tbody>\n",
              "    <tr>\n",
              "      <th>0</th>\n",
              "      <td>5</td>\n",
              "      <td>ANNADALE</td>\n",
              "      <td>01 ONE FAMILY DWELLINGS</td>\n",
              "      <td>1</td>\n",
              "      <td>5391</td>\n",
              "      <td>65</td>\n",
              "      <td></td>\n",
              "      <td>A3</td>\n",
              "      <td>22 BLUE HERON DRIVE</td>\n",
              "      <td></td>\n",
              "      <td>10312</td>\n",
              "      <td>1</td>\n",
              "      <td>0</td>\n",
              "      <td>1</td>\n",
              "      <td>8000</td>\n",
              "      <td>3000</td>\n",
              "      <td>1987</td>\n",
              "      <td>1</td>\n",
              "      <td>A3</td>\n",
              "      <td>1185000</td>\n",
              "      <td>3/19/18</td>\n",
              "    </tr>\n",
              "    <tr>\n",
              "      <th>1</th>\n",
              "      <td>5</td>\n",
              "      <td>ANNADALE</td>\n",
              "      <td>01 ONE FAMILY DWELLINGS</td>\n",
              "      <td>1</td>\n",
              "      <td>5395</td>\n",
              "      <td>19</td>\n",
              "      <td></td>\n",
              "      <td>A1</td>\n",
              "      <td>4 EDWIN STREET</td>\n",
              "      <td></td>\n",
              "      <td>10312</td>\n",
              "      <td>1</td>\n",
              "      <td>0</td>\n",
              "      <td>1</td>\n",
              "      <td>7258</td>\n",
              "      <td>2230</td>\n",
              "      <td>1980</td>\n",
              "      <td>1</td>\n",
              "      <td>A1</td>\n",
              "      <td>866000</td>\n",
              "      <td>8/3/17</td>\n",
              "    </tr>\n",
              "    <tr>\n",
              "      <th>2</th>\n",
              "      <td>5</td>\n",
              "      <td>ANNADALE</td>\n",
              "      <td>01 ONE FAMILY DWELLINGS</td>\n",
              "      <td>1</td>\n",
              "      <td>5406</td>\n",
              "      <td>26</td>\n",
              "      <td></td>\n",
              "      <td>A2</td>\n",
              "      <td>87 ELMBANK STREET</td>\n",
              "      <td></td>\n",
              "      <td>10312</td>\n",
              "      <td>1</td>\n",
              "      <td>0</td>\n",
              "      <td>1</td>\n",
              "      <td>5000</td>\n",
              "      <td>912</td>\n",
              "      <td>1950</td>\n",
              "      <td>1</td>\n",
              "      <td>A2</td>\n",
              "      <td>530000</td>\n",
              "      <td>4/27/18</td>\n",
              "    </tr>\n",
              "    <tr>\n",
              "      <th>3</th>\n",
              "      <td>5</td>\n",
              "      <td>ANNADALE</td>\n",
              "      <td>01 ONE FAMILY DWELLINGS</td>\n",
              "      <td>1</td>\n",
              "      <td>5407</td>\n",
              "      <td>10</td>\n",
              "      <td></td>\n",
              "      <td>A2</td>\n",
              "      <td>112 ELMBANK STREET</td>\n",
              "      <td></td>\n",
              "      <td>10312</td>\n",
              "      <td>1</td>\n",
              "      <td>0</td>\n",
              "      <td>1</td>\n",
              "      <td>6242</td>\n",
              "      <td>1768</td>\n",
              "      <td>1975</td>\n",
              "      <td>1</td>\n",
              "      <td>A2</td>\n",
              "      <td>735000</td>\n",
              "      <td>11/7/17</td>\n",
              "    </tr>\n",
              "    <tr>\n",
              "      <th>4</th>\n",
              "      <td>5</td>\n",
              "      <td>ANNADALE</td>\n",
              "      <td>01 ONE FAMILY DWELLINGS</td>\n",
              "      <td>1</td>\n",
              "      <td>6205</td>\n",
              "      <td>15</td>\n",
              "      <td></td>\n",
              "      <td>A5</td>\n",
              "      <td>95 EAGAN AVENUE</td>\n",
              "      <td></td>\n",
              "      <td>10312</td>\n",
              "      <td>1</td>\n",
              "      <td>0</td>\n",
              "      <td>1</td>\n",
              "      <td>1546</td>\n",
              "      <td>1579</td>\n",
              "      <td>1986</td>\n",
              "      <td>1</td>\n",
              "      <td>A5</td>\n",
              "      <td>475000</td>\n",
              "      <td>9/7/17</td>\n",
              "    </tr>\n",
              "  </tbody>\n",
              "</table>\n",
              "</div>"
            ],
            "text/plain": [
              "   BOROUGH NEIGHBORHOOD  ... SALE_PRICE SALE_DATE\n",
              "0        5     ANNADALE  ...    1185000   3/19/18\n",
              "1        5     ANNADALE  ...     866000    8/3/17\n",
              "2        5     ANNADALE  ...     530000   4/27/18\n",
              "3        5     ANNADALE  ...     735000   11/7/17\n",
              "4        5     ANNADALE  ...     475000    9/7/17\n",
              "\n",
              "[5 rows x 21 columns]"
            ]
          },
          "metadata": {
            "tags": []
          },
          "execution_count": 5
        }
      ]
    },
    {
      "cell_type": "code",
      "metadata": {
        "id": "okqkhCqlT35f",
        "colab_type": "code",
        "outputId": "342e3da8-4bab-4ced-b749-b821bb8bc1b6",
        "colab": {
          "base_uri": "https://localhost:8080/",
          "height": 169
        }
      },
      "source": [
        "#a more concise way to get the list of column names\n",
        "REStaten.columns"
      ],
      "execution_count": 0,
      "outputs": [
        {
          "output_type": "execute_result",
          "data": {
            "text/plain": [
              "Index(['BOROUGH', 'NEIGHBORHOOD', 'BUILDING_CLASS_CATEGORY',\n",
              "       'TAX_CLASS_AT_PRESENT', 'BLOCK', 'LOT', 'EASE-MENT',\n",
              "       'BUILDING_CLASS_AT_PRESENT', 'ADDRESS', 'APARTMENT_NUMBER', 'ZIP_CODE',\n",
              "       'RESIDENTIAL_UNITS', 'COMMERCIAL_UNITS', 'TOTAL_UNITS',\n",
              "       'LAND_SQUARE_FEET', 'GROSS_SQUARE_FEET', 'YEAR_BUILT',\n",
              "       'TAX_CLASS_AT_TIME_OF_SALE', 'BUILDING_CLASS_AT_TIME_OF_SALE',\n",
              "       'SALE_PRICE', 'SALE_DATE'],\n",
              "      dtype='object')"
            ]
          },
          "metadata": {
            "tags": []
          },
          "execution_count": 6
        }
      ]
    },
    {
      "cell_type": "code",
      "metadata": {
        "id": "qGnHiN5rT35i",
        "colab_type": "code",
        "outputId": "a25496b6-1d59-4409-809d-5d8b80b8cc21",
        "colab": {
          "base_uri": "https://localhost:8080/",
          "height": 353
        }
      },
      "source": [
        "#get some statistics; does not make sense for categorical columns, like zip code, lot etc, but gives an idea of distributions for house characteristics  \n",
        "REStaten.describe()"
      ],
      "execution_count": 0,
      "outputs": [
        {
          "output_type": "execute_result",
          "data": {
            "text/html": [
              "<div>\n",
              "<style scoped>\n",
              "    .dataframe tbody tr th:only-of-type {\n",
              "        vertical-align: middle;\n",
              "    }\n",
              "\n",
              "    .dataframe tbody tr th {\n",
              "        vertical-align: top;\n",
              "    }\n",
              "\n",
              "    .dataframe thead th {\n",
              "        text-align: right;\n",
              "    }\n",
              "</style>\n",
              "<table border=\"1\" class=\"dataframe\">\n",
              "  <thead>\n",
              "    <tr style=\"text-align: right;\">\n",
              "      <th></th>\n",
              "      <th>BOROUGH</th>\n",
              "      <th>BLOCK</th>\n",
              "      <th>LOT</th>\n",
              "      <th>ZIP_CODE</th>\n",
              "      <th>RESIDENTIAL_UNITS</th>\n",
              "      <th>COMMERCIAL_UNITS</th>\n",
              "      <th>TOTAL_UNITS</th>\n",
              "      <th>LAND_SQUARE_FEET</th>\n",
              "      <th>GROSS_SQUARE_FEET</th>\n",
              "      <th>YEAR_BUILT</th>\n",
              "      <th>TAX_CLASS_AT_TIME_OF_SALE</th>\n",
              "      <th>SALE_PRICE</th>\n",
              "    </tr>\n",
              "  </thead>\n",
              "  <tbody>\n",
              "    <tr>\n",
              "      <th>count</th>\n",
              "      <td>8706.0</td>\n",
              "      <td>8706.000000</td>\n",
              "      <td>8706.000000</td>\n",
              "      <td>8706.000000</td>\n",
              "      <td>8706.000000</td>\n",
              "      <td>8706.000000</td>\n",
              "      <td>8706.000000</td>\n",
              "      <td>8.706000e+03</td>\n",
              "      <td>8706.000000</td>\n",
              "      <td>8706.000000</td>\n",
              "      <td>8706.000000</td>\n",
              "      <td>8.706000e+03</td>\n",
              "    </tr>\n",
              "    <tr>\n",
              "      <th>mean</th>\n",
              "      <td>5.0</td>\n",
              "      <td>3319.292212</td>\n",
              "      <td>208.871468</td>\n",
              "      <td>10132.832989</td>\n",
              "      <td>1.257179</td>\n",
              "      <td>0.062486</td>\n",
              "      <td>1.324144</td>\n",
              "      <td>5.016016e+03</td>\n",
              "      <td>1689.650930</td>\n",
              "      <td>1884.641282</td>\n",
              "      <td>1.171721</td>\n",
              "      <td>3.918813e+05</td>\n",
              "    </tr>\n",
              "    <tr>\n",
              "      <th>std</th>\n",
              "      <td>0.0</td>\n",
              "      <td>2344.202564</td>\n",
              "      <td>453.187678</td>\n",
              "      <td>1332.608872</td>\n",
              "      <td>1.579128</td>\n",
              "      <td>0.722336</td>\n",
              "      <td>1.718008</td>\n",
              "      <td>3.779630e+04</td>\n",
              "      <td>5804.911675</td>\n",
              "      <td>400.438263</td>\n",
              "      <td>0.601193</td>\n",
              "      <td>8.260853e+05</td>\n",
              "    </tr>\n",
              "    <tr>\n",
              "      <th>min</th>\n",
              "      <td>5.0</td>\n",
              "      <td>1.000000</td>\n",
              "      <td>1.000000</td>\n",
              "      <td>0.000000</td>\n",
              "      <td>0.000000</td>\n",
              "      <td>0.000000</td>\n",
              "      <td>0.000000</td>\n",
              "      <td>0.000000e+00</td>\n",
              "      <td>0.000000</td>\n",
              "      <td>0.000000</td>\n",
              "      <td>1.000000</td>\n",
              "      <td>0.000000e+00</td>\n",
              "    </tr>\n",
              "    <tr>\n",
              "      <th>25%</th>\n",
              "      <td>5.0</td>\n",
              "      <td>1116.000000</td>\n",
              "      <td>25.000000</td>\n",
              "      <td>10305.000000</td>\n",
              "      <td>1.000000</td>\n",
              "      <td>0.000000</td>\n",
              "      <td>1.000000</td>\n",
              "      <td>2.000000e+03</td>\n",
              "      <td>960.000000</td>\n",
              "      <td>1944.000000</td>\n",
              "      <td>1.000000</td>\n",
              "      <td>0.000000e+00</td>\n",
              "    </tr>\n",
              "    <tr>\n",
              "      <th>50%</th>\n",
              "      <td>5.0</td>\n",
              "      <td>3121.000000</td>\n",
              "      <td>56.000000</td>\n",
              "      <td>10308.000000</td>\n",
              "      <td>1.000000</td>\n",
              "      <td>0.000000</td>\n",
              "      <td>1.000000</td>\n",
              "      <td>3.125000e+03</td>\n",
              "      <td>1400.000000</td>\n",
              "      <td>1975.000000</td>\n",
              "      <td>1.000000</td>\n",
              "      <td>3.858250e+05</td>\n",
              "    </tr>\n",
              "    <tr>\n",
              "      <th>75%</th>\n",
              "      <td>5.0</td>\n",
              "      <td>5432.000000</td>\n",
              "      <td>135.000000</td>\n",
              "      <td>10312.000000</td>\n",
              "      <td>2.000000</td>\n",
              "      <td>0.000000</td>\n",
              "      <td>2.000000</td>\n",
              "      <td>4.520000e+03</td>\n",
              "      <td>1974.000000</td>\n",
              "      <td>1990.000000</td>\n",
              "      <td>1.000000</td>\n",
              "      <td>5.800000e+05</td>\n",
              "    </tr>\n",
              "    <tr>\n",
              "      <th>max</th>\n",
              "      <td>5.0</td>\n",
              "      <td>8050.000000</td>\n",
              "      <td>5359.000000</td>\n",
              "      <td>10314.000000</td>\n",
              "      <td>84.000000</td>\n",
              "      <td>43.000000</td>\n",
              "      <td>84.000000</td>\n",
              "      <td>3.014056e+06</td>\n",
              "      <td>349503.000000</td>\n",
              "      <td>2018.000000</td>\n",
              "      <td>4.000000</td>\n",
              "      <td>4.725000e+07</td>\n",
              "    </tr>\n",
              "  </tbody>\n",
              "</table>\n",
              "</div>"
            ],
            "text/plain": [
              "       BOROUGH        BLOCK  ...  TAX_CLASS_AT_TIME_OF_SALE    SALE_PRICE\n",
              "count   8706.0  8706.000000  ...                8706.000000  8.706000e+03\n",
              "mean       5.0  3319.292212  ...                   1.171721  3.918813e+05\n",
              "std        0.0  2344.202564  ...                   0.601193  8.260853e+05\n",
              "min        5.0     1.000000  ...                   1.000000  0.000000e+00\n",
              "25%        5.0  1116.000000  ...                   1.000000  0.000000e+00\n",
              "50%        5.0  3121.000000  ...                   1.000000  3.858250e+05\n",
              "75%        5.0  5432.000000  ...                   1.000000  5.800000e+05\n",
              "max        5.0  8050.000000  ...                   4.000000  4.725000e+07\n",
              "\n",
              "[8 rows x 12 columns]"
            ]
          },
          "metadata": {
            "tags": []
          },
          "execution_count": 7
        }
      ]
    },
    {
      "cell_type": "code",
      "metadata": {
        "id": "W1Bxm_JdT35k",
        "colab_type": "code",
        "colab": {}
      },
      "source": [
        "#as we see sale price and house size could be as low as zero. Exclude missing/unrealistic values by defining a reliable data index\n",
        "#also take only houses with residential units\n",
        "ind=(REStaten.SALE_PRICE>50000)&(REStaten.GROSS_SQUARE_FEET>300)&(REStaten.LAND_SQUARE_FEET>300)&(REStaten.RESIDENTIAL_UNITS>0)&(REStaten.YEAR_BUILT>160)"
      ],
      "execution_count": 0,
      "outputs": []
    },
    {
      "cell_type": "code",
      "metadata": {
        "id": "lRfOoP5KT35m",
        "colab_type": "code",
        "colab": {}
      },
      "source": [
        "#filter the data; loc accesses rows by boolean index (as opposed to integer positions done with iloc)\n",
        "REStaten_=REStaten.loc[ind].copy()"
      ],
      "execution_count": 0,
      "outputs": []
    },
    {
      "cell_type": "code",
      "metadata": {
        "id": "aOQ4o3kGT35n",
        "colab_type": "code",
        "outputId": "e2ad68f6-b3b5-4b8e-9b13-2f47397c96de",
        "colab": {
          "base_uri": "https://localhost:8080/",
          "height": 36
        }
      },
      "source": [
        "REStaten_.shape"
      ],
      "execution_count": 0,
      "outputs": [
        {
          "output_type": "execute_result",
          "data": {
            "text/plain": [
              "(4866, 21)"
            ]
          },
          "metadata": {
            "tags": []
          },
          "execution_count": 10
        }
      ]
    },
    {
      "cell_type": "code",
      "metadata": {
        "id": "aqN2AOTGT35q",
        "colab_type": "code",
        "outputId": "6b9ef67b-d902-4c94-9481-2199a00c82a1",
        "colab": {
          "base_uri": "https://localhost:8080/",
          "height": 353
        }
      },
      "source": [
        "REStaten_.describe()"
      ],
      "execution_count": 0,
      "outputs": [
        {
          "output_type": "execute_result",
          "data": {
            "text/html": [
              "<div>\n",
              "<style scoped>\n",
              "    .dataframe tbody tr th:only-of-type {\n",
              "        vertical-align: middle;\n",
              "    }\n",
              "\n",
              "    .dataframe tbody tr th {\n",
              "        vertical-align: top;\n",
              "    }\n",
              "\n",
              "    .dataframe thead th {\n",
              "        text-align: right;\n",
              "    }\n",
              "</style>\n",
              "<table border=\"1\" class=\"dataframe\">\n",
              "  <thead>\n",
              "    <tr style=\"text-align: right;\">\n",
              "      <th></th>\n",
              "      <th>BOROUGH</th>\n",
              "      <th>BLOCK</th>\n",
              "      <th>LOT</th>\n",
              "      <th>ZIP_CODE</th>\n",
              "      <th>RESIDENTIAL_UNITS</th>\n",
              "      <th>COMMERCIAL_UNITS</th>\n",
              "      <th>TOTAL_UNITS</th>\n",
              "      <th>LAND_SQUARE_FEET</th>\n",
              "      <th>GROSS_SQUARE_FEET</th>\n",
              "      <th>YEAR_BUILT</th>\n",
              "      <th>TAX_CLASS_AT_TIME_OF_SALE</th>\n",
              "      <th>SALE_PRICE</th>\n",
              "    </tr>\n",
              "  </thead>\n",
              "  <tbody>\n",
              "    <tr>\n",
              "      <th>count</th>\n",
              "      <td>4866.0</td>\n",
              "      <td>4866.000000</td>\n",
              "      <td>4866.000000</td>\n",
              "      <td>4866.000000</td>\n",
              "      <td>4866.000000</td>\n",
              "      <td>4866.000000</td>\n",
              "      <td>4866.000000</td>\n",
              "      <td>4866.000000</td>\n",
              "      <td>4866.000000</td>\n",
              "      <td>4866.000000</td>\n",
              "      <td>4866.000000</td>\n",
              "      <td>4.866000e+03</td>\n",
              "    </tr>\n",
              "    <tr>\n",
              "      <th>mean</th>\n",
              "      <td>5.0</td>\n",
              "      <td>3462.579326</td>\n",
              "      <td>79.148993</td>\n",
              "      <td>10307.940608</td>\n",
              "      <td>1.342376</td>\n",
              "      <td>0.018085</td>\n",
              "      <td>1.360460</td>\n",
              "      <td>3906.581176</td>\n",
              "      <td>1740.041102</td>\n",
              "      <td>1967.412043</td>\n",
              "      <td>1.020345</td>\n",
              "      <td>5.631876e+05</td>\n",
              "    </tr>\n",
              "    <tr>\n",
              "      <th>std</th>\n",
              "      <td>0.0</td>\n",
              "      <td>2390.676182</td>\n",
              "      <td>92.461180</td>\n",
              "      <td>4.088231</td>\n",
              "      <td>1.128679</td>\n",
              "      <td>0.200927</td>\n",
              "      <td>1.175613</td>\n",
              "      <td>3230.453434</td>\n",
              "      <td>1318.247231</td>\n",
              "      <td>31.816460</td>\n",
              "      <td>0.208250</td>\n",
              "      <td>3.802599e+05</td>\n",
              "    </tr>\n",
              "    <tr>\n",
              "      <th>min</th>\n",
              "      <td>5.0</td>\n",
              "      <td>13.000000</td>\n",
              "      <td>1.000000</td>\n",
              "      <td>10301.000000</td>\n",
              "      <td>1.000000</td>\n",
              "      <td>0.000000</td>\n",
              "      <td>1.000000</td>\n",
              "      <td>315.000000</td>\n",
              "      <td>330.000000</td>\n",
              "      <td>1859.000000</td>\n",
              "      <td>1.000000</td>\n",
              "      <td>5.070000e+04</td>\n",
              "    </tr>\n",
              "    <tr>\n",
              "      <th>25%</th>\n",
              "      <td>5.0</td>\n",
              "      <td>1093.250000</td>\n",
              "      <td>23.000000</td>\n",
              "      <td>10305.000000</td>\n",
              "      <td>1.000000</td>\n",
              "      <td>0.000000</td>\n",
              "      <td>1.000000</td>\n",
              "      <td>2300.000000</td>\n",
              "      <td>1216.000000</td>\n",
              "      <td>1945.000000</td>\n",
              "      <td>1.000000</td>\n",
              "      <td>4.050000e+05</td>\n",
              "    </tr>\n",
              "    <tr>\n",
              "      <th>50%</th>\n",
              "      <td>5.0</td>\n",
              "      <td>3373.500000</td>\n",
              "      <td>49.000000</td>\n",
              "      <td>10308.000000</td>\n",
              "      <td>1.000000</td>\n",
              "      <td>0.000000</td>\n",
              "      <td>1.000000</td>\n",
              "      <td>3325.000000</td>\n",
              "      <td>1512.000000</td>\n",
              "      <td>1975.000000</td>\n",
              "      <td>1.000000</td>\n",
              "      <td>5.335000e+05</td>\n",
              "    </tr>\n",
              "    <tr>\n",
              "      <th>75%</th>\n",
              "      <td>5.0</td>\n",
              "      <td>5523.000000</td>\n",
              "      <td>97.000000</td>\n",
              "      <td>10312.000000</td>\n",
              "      <td>2.000000</td>\n",
              "      <td>0.000000</td>\n",
              "      <td>2.000000</td>\n",
              "      <td>4536.000000</td>\n",
              "      <td>2050.000000</td>\n",
              "      <td>1993.000000</td>\n",
              "      <td>1.000000</td>\n",
              "      <td>6.557782e+05</td>\n",
              "    </tr>\n",
              "    <tr>\n",
              "      <th>max</th>\n",
              "      <td>5.0</td>\n",
              "      <td>8050.000000</td>\n",
              "      <td>926.000000</td>\n",
              "      <td>10314.000000</td>\n",
              "      <td>42.000000</td>\n",
              "      <td>7.000000</td>\n",
              "      <td>43.000000</td>\n",
              "      <td>63624.000000</td>\n",
              "      <td>58792.000000</td>\n",
              "      <td>2017.000000</td>\n",
              "      <td>4.000000</td>\n",
              "      <td>2.000000e+07</td>\n",
              "    </tr>\n",
              "  </tbody>\n",
              "</table>\n",
              "</div>"
            ],
            "text/plain": [
              "       BOROUGH        BLOCK  ...  TAX_CLASS_AT_TIME_OF_SALE    SALE_PRICE\n",
              "count   4866.0  4866.000000  ...                4866.000000  4.866000e+03\n",
              "mean       5.0  3462.579326  ...                   1.020345  5.631876e+05\n",
              "std        0.0  2390.676182  ...                   0.208250  3.802599e+05\n",
              "min        5.0    13.000000  ...                   1.000000  5.070000e+04\n",
              "25%        5.0  1093.250000  ...                   1.000000  4.050000e+05\n",
              "50%        5.0  3373.500000  ...                   1.000000  5.335000e+05\n",
              "75%        5.0  5523.000000  ...                   1.000000  6.557782e+05\n",
              "max        5.0  8050.000000  ...                   4.000000  2.000000e+07\n",
              "\n",
              "[8 rows x 12 columns]"
            ]
          },
          "metadata": {
            "tags": []
          },
          "execution_count": 11
        }
      ]
    },
    {
      "cell_type": "markdown",
      "metadata": {
        "id": "sK8AkM2LT35s",
        "colab_type": "text"
      },
      "source": [
        "Get a better idea of the data by looking at the distribution (histograms) of the key characteristics"
      ]
    },
    {
      "cell_type": "code",
      "metadata": {
        "id": "9CU8bjZ9T35t",
        "colab_type": "code",
        "outputId": "6782e66e-ac1b-4dea-a89a-2d2958acc5a6",
        "colab": {
          "base_uri": "https://localhost:8080/",
          "height": 332
        }
      },
      "source": [
        "#start with the price\n",
        "REStaten_.hist('SALE_PRICE',bins=100)"
      ],
      "execution_count": 0,
      "outputs": [
        {
          "output_type": "execute_result",
          "data": {
            "text/plain": [
              "array([[<matplotlib.axes._subplots.AxesSubplot object at 0x7f4926b08e10>]],\n",
              "      dtype=object)"
            ]
          },
          "metadata": {
            "tags": []
          },
          "execution_count": 12
        },
        {
          "output_type": "display_data",
          "data": {
            "image/png": "[encoded data removed]",
            "text/plain": [
              "<Figure size 432x288 with 1 Axes>"
            ]
          },
          "metadata": {
            "tags": []
          }
        }
      ]
    },
    {
      "cell_type": "code",
      "metadata": {
        "id": "YeYFbPu4T35v",
        "colab_type": "code",
        "outputId": "10ff2a47-5ecf-4552-e9e4-ff5e0a20f052",
        "colab": {
          "base_uri": "https://localhost:8080/",
          "height": 708
        }
      },
      "source": [
        "#as the distribution is highly skewed to the left, try log-histogram \n",
        "fig, ax = plt.subplots(figsize = (12,12))\n",
        "ax.set_xscale('log')\n",
        "REStaten_['SALE_PRICE'].hist(ax=ax,bins=500)\n",
        "#add mean price\n",
        "mu=REStaten_['SALE_PRICE'].mean()\n",
        "plt.axvline(mu, color='r', linestyle='dashed', linewidth=1) \n",
        "min_ylim, max_ylim = plt.ylim()\n",
        "plt.text(mu*1.1, max_ylim*0.9, 'Mean: {:.2f}'.format(mu));"
      ],
      "execution_count": 0,
      "outputs": [
        {
          "output_type": "display_data",
          "data": {
            "image/png": "[encoded data removed]",
            "text/plain": [
              "<Figure size 864x864 with 1 Axes>"
            ]
          },
          "metadata": {
            "tags": []
          }
        }
      ]
    },
    {
      "cell_type": "code",
      "metadata": {
        "id": "njHEVHeeT35w",
        "colab_type": "code",
        "outputId": "93800e9c-3f65-4c36-9c6f-66c6aa97fb17",
        "colab": {
          "base_uri": "https://localhost:8080/",
          "height": 273
        }
      },
      "source": [
        "#distribution of house sizes, log-scale\n",
        "fig, ax = plt.subplots()\n",
        "ax.set_xscale('log')\n",
        "REStaten_['GROSS_SQUARE_FEET'].hist(ax=ax,bins=300)\n",
        "#add mean price\n",
        "mu=REStaten_['GROSS_SQUARE_FEET'].mean()\n",
        "plt.axvline(mu, color='k', linestyle='dashed', linewidth=1) \n",
        "min_ylim, max_ylim = plt.ylim()\n",
        "plt.text(mu*1.1, max_ylim*0.9, 'Mean: {:.2f}'.format(mu));"
      ],
      "execution_count": 0,
      "outputs": [
        {
          "output_type": "display_data",
          "data": {
            "image/png": "[encoded data removed]",
            "text/plain": [
              "<Figure size 432x288 with 1 Axes>"
            ]
          },
          "metadata": {
            "tags": []
          }
        }
      ]
    },
    {
      "cell_type": "code",
      "metadata": {
        "id": "r5jkvI-aT35x",
        "colab_type": "code",
        "outputId": "4f6e53c8-519d-4264-fbec-7b1a63079a3b",
        "colab": {
          "base_uri": "https://localhost:8080/",
          "height": 319
        }
      },
      "source": [
        "REStaten_.hist('RESIDENTIAL_UNITS',bins=50)"
      ],
      "execution_count": 0,
      "outputs": [
        {
          "output_type": "execute_result",
          "data": {
            "text/plain": [
              "array([[<matplotlib.axes._subplots.AxesSubplot object at 0x7f492408a358>]],\n",
              "      dtype=object)"
            ]
          },
          "metadata": {
            "tags": []
          },
          "execution_count": 15
        },
        {
          "output_type": "display_data",
          "data": {
            "image/png": "[encoded data removed]",
            "text/plain": [
              "<Figure size 432x288 with 1 Axes>"
            ]
          },
          "metadata": {
            "tags": []
          }
        }
      ]
    },
    {
      "cell_type": "code",
      "metadata": {
        "id": "_9oevAG1T35z",
        "colab_type": "code",
        "outputId": "1661a821-819d-459a-b644-8ce508421da9",
        "colab": {
          "base_uri": "https://localhost:8080/",
          "height": 319
        }
      },
      "source": [
        "#year built distirbution - clearly there were two major period: pre- and post- World War II\n",
        "REStaten_.hist('YEAR_BUILT',bins=35)"
      ],
      "execution_count": 0,
      "outputs": [
        {
          "output_type": "execute_result",
          "data": {
            "text/plain": [
              "array([[<matplotlib.axes._subplots.AxesSubplot object at 0x7f492455b358>]],\n",
              "      dtype=object)"
            ]
          },
          "metadata": {
            "tags": []
          },
          "execution_count": 16
        },
        {
          "output_type": "display_data",
          "data": {
            "image/png": "[encoded data removed]",
            "text/plain": [
              "<Figure size 432x288 with 1 Axes>"
            ]
          },
          "metadata": {
            "tags": []
          }
        }
      ]
    },
    {
      "cell_type": "code",
      "metadata": {
        "id": "BQmHxO7ST350",
        "colab_type": "code",
        "outputId": "69ec955b-b244-4cef-e7b8-a8aa8ace1b92",
        "colab": {
          "base_uri": "https://localhost:8080/",
          "height": 435
        }
      },
      "source": [
        "#now find the most expensive house\n",
        "REStaten_.loc[REStaten_['SALE_PRICE'].idxmax()]"
      ],
      "execution_count": 0,
      "outputs": [
        {
          "output_type": "execute_result",
          "data": {
            "text/plain": [
              "BOROUGH                                                                     5\n",
              "NEIGHBORHOOD                                          NEW BRIGHTON-ST. GEORGE\n",
              "BUILDING_CLASS_CATEGORY           08 RENTALS - ELEVATOR APARTMENTS           \n",
              "TAX_CLASS_AT_PRESENT                                                        2\n",
              "BLOCK                                                                      13\n",
              "LOT                                                                        60\n",
              "EASE-MENT                                                                    \n",
              "BUILDING_CLASS_AT_PRESENT                                                  D6\n",
              "ADDRESS                                                 224 RICHMOND TERRACE \n",
              "APARTMENT_NUMBER                                                             \n",
              "ZIP_CODE                                                                10301\n",
              "RESIDENTIAL_UNITS                                                          40\n",
              "COMMERCIAL_UNITS                                                            3\n",
              "TOTAL_UNITS                                                                43\n",
              "LAND_SQUARE_FEET                                                        16938\n",
              "GROSS_SQUARE_FEET                                                       58792\n",
              "YEAR_BUILT                                                               2012\n",
              "TAX_CLASS_AT_TIME_OF_SALE                                                   2\n",
              "BUILDING_CLASS_AT_TIME_OF_SALE                                            D6 \n",
              "SALE_PRICE                                                           20000000\n",
              "SALE_DATE                                                             1/26/18\n",
              "Name: 4300, dtype: object"
            ]
          },
          "metadata": {
            "tags": []
          },
          "execution_count": 17
        }
      ]
    },
    {
      "cell_type": "code",
      "metadata": {
        "id": "oMYtUwrrT351",
        "colab_type": "code",
        "outputId": "872d0ceb-75ab-41ed-a8ff-5208a7a57827",
        "colab": {
          "base_uri": "https://localhost:8080/",
          "height": 435
        }
      },
      "source": [
        "#and the largest one - the same house apparently!\n",
        "REStaten_.loc[REStaten_['GROSS_SQUARE_FEET'].idxmax()]"
      ],
      "execution_count": 0,
      "outputs": [
        {
          "output_type": "execute_result",
          "data": {
            "text/plain": [
              "BOROUGH                                                                     5\n",
              "NEIGHBORHOOD                                          NEW BRIGHTON-ST. GEORGE\n",
              "BUILDING_CLASS_CATEGORY           08 RENTALS - ELEVATOR APARTMENTS           \n",
              "TAX_CLASS_AT_PRESENT                                                        2\n",
              "BLOCK                                                                      13\n",
              "LOT                                                                        60\n",
              "EASE-MENT                                                                    \n",
              "BUILDING_CLASS_AT_PRESENT                                                  D6\n",
              "ADDRESS                                                 224 RICHMOND TERRACE \n",
              "APARTMENT_NUMBER                                                             \n",
              "ZIP_CODE                                                                10301\n",
              "RESIDENTIAL_UNITS                                                          40\n",
              "COMMERCIAL_UNITS                                                            3\n",
              "TOTAL_UNITS                                                                43\n",
              "LAND_SQUARE_FEET                                                        16938\n",
              "GROSS_SQUARE_FEET                                                       58792\n",
              "YEAR_BUILT                                                               2012\n",
              "TAX_CLASS_AT_TIME_OF_SALE                                                   2\n",
              "BUILDING_CLASS_AT_TIME_OF_SALE                                            D6 \n",
              "SALE_PRICE                                                           20000000\n",
              "SALE_DATE                                                             1/26/18\n",
              "Name: 4300, dtype: object"
            ]
          },
          "metadata": {
            "tags": []
          },
          "execution_count": 18
        }
      ]
    },
    {
      "cell_type": "markdown",
      "metadata": {
        "id": "_cIBIE4dT352",
        "colab_type": "text"
      },
      "source": [
        "Now look at the correlation between all the quantitative parameters of the properties"
      ]
    },
    {
      "cell_type": "code",
      "metadata": {
        "id": "_i4V3QKTT352",
        "colab_type": "code",
        "outputId": "92053337-61a8-456c-872d-90f6c3b067ab",
        "colab": {
          "base_uri": "https://localhost:8080/",
          "height": 263
        }
      },
      "source": [
        "REStaten_[['YEAR_BUILT','RESIDENTIAL_UNITS','COMMERCIAL_UNITS','GROSS_SQUARE_FEET','LAND_SQUARE_FEET','SALE_PRICE']].corr()"
      ],
      "execution_count": 0,
      "outputs": [
        {
          "output_type": "execute_result",
          "data": {
            "text/html": [
              "<div>\n",
              "<style scoped>\n",
              "    .dataframe tbody tr th:only-of-type {\n",
              "        vertical-align: middle;\n",
              "    }\n",
              "\n",
              "    .dataframe tbody tr th {\n",
              "        vertical-align: top;\n",
              "    }\n",
              "\n",
              "    .dataframe thead th {\n",
              "        text-align: right;\n",
              "    }\n",
              "</style>\n",
              "<table border=\"1\" class=\"dataframe\">\n",
              "  <thead>\n",
              "    <tr style=\"text-align: right;\">\n",
              "      <th></th>\n",
              "      <th>YEAR_BUILT</th>\n",
              "      <th>RESIDENTIAL_UNITS</th>\n",
              "      <th>COMMERCIAL_UNITS</th>\n",
              "      <th>GROSS_SQUARE_FEET</th>\n",
              "      <th>LAND_SQUARE_FEET</th>\n",
              "      <th>SALE_PRICE</th>\n",
              "    </tr>\n",
              "  </thead>\n",
              "  <tbody>\n",
              "    <tr>\n",
              "      <th>YEAR_BUILT</th>\n",
              "      <td>1.000000</td>\n",
              "      <td>-0.044512</td>\n",
              "      <td>-0.082578</td>\n",
              "      <td>0.048370</td>\n",
              "      <td>-0.212966</td>\n",
              "      <td>0.105413</td>\n",
              "    </tr>\n",
              "    <tr>\n",
              "      <th>RESIDENTIAL_UNITS</th>\n",
              "      <td>-0.044512</td>\n",
              "      <td>1.000000</td>\n",
              "      <td>0.149435</td>\n",
              "      <td>0.771761</td>\n",
              "      <td>0.215693</td>\n",
              "      <td>0.558894</td>\n",
              "    </tr>\n",
              "    <tr>\n",
              "      <th>COMMERCIAL_UNITS</th>\n",
              "      <td>-0.082578</td>\n",
              "      <td>0.149435</td>\n",
              "      <td>1.000000</td>\n",
              "      <td>0.306401</td>\n",
              "      <td>0.064640</td>\n",
              "      <td>0.195430</td>\n",
              "    </tr>\n",
              "    <tr>\n",
              "      <th>GROSS_SQUARE_FEET</th>\n",
              "      <td>0.048370</td>\n",
              "      <td>0.771761</td>\n",
              "      <td>0.306401</td>\n",
              "      <td>1.000000</td>\n",
              "      <td>0.399676</td>\n",
              "      <td>0.782826</td>\n",
              "    </tr>\n",
              "    <tr>\n",
              "      <th>LAND_SQUARE_FEET</th>\n",
              "      <td>-0.212966</td>\n",
              "      <td>0.215693</td>\n",
              "      <td>0.064640</td>\n",
              "      <td>0.399676</td>\n",
              "      <td>1.000000</td>\n",
              "      <td>0.428592</td>\n",
              "    </tr>\n",
              "    <tr>\n",
              "      <th>SALE_PRICE</th>\n",
              "      <td>0.105413</td>\n",
              "      <td>0.558894</td>\n",
              "      <td>0.195430</td>\n",
              "      <td>0.782826</td>\n",
              "      <td>0.428592</td>\n",
              "      <td>1.000000</td>\n",
              "    </tr>\n",
              "  </tbody>\n",
              "</table>\n",
              "</div>"
            ],
            "text/plain": [
              "                   YEAR_BUILT  RESIDENTIAL_UNITS  ...  LAND_SQUARE_FEET  SALE_PRICE\n",
              "YEAR_BUILT           1.000000          -0.044512  ...         -0.212966    0.105413\n",
              "RESIDENTIAL_UNITS   -0.044512           1.000000  ...          0.215693    0.558894\n",
              "COMMERCIAL_UNITS    -0.082578           0.149435  ...          0.064640    0.195430\n",
              "GROSS_SQUARE_FEET    0.048370           0.771761  ...          0.399676    0.782826\n",
              "LAND_SQUARE_FEET    -0.212966           0.215693  ...          1.000000    0.428592\n",
              "SALE_PRICE           0.105413           0.558894  ...          0.428592    1.000000\n",
              "\n",
              "[6 rows x 6 columns]"
            ]
          },
          "metadata": {
            "tags": []
          },
          "execution_count": 19
        }
      ]
    },
    {
      "cell_type": "markdown",
      "metadata": {
        "id": "1MRVz88TT354",
        "colab_type": "text"
      },
      "source": [
        "Size, land area and the number of residential units appear to demonstrate the strongest correlations"
      ]
    },
    {
      "cell_type": "markdown",
      "metadata": {
        "id": "QiIvMzu6T354",
        "colab_type": "text"
      },
      "source": [
        "Perform a uni-variate linear regression on the feature showing the strongest correlation - the size"
      ]
    },
    {
      "cell_type": "code",
      "metadata": {
        "id": "qC7SwJDqT354",
        "colab_type": "code",
        "colab": {}
      },
      "source": [
        "from sklearn.linear_model import LinearRegression"
      ],
      "execution_count": 0,
      "outputs": []
    },
    {
      "cell_type": "code",
      "metadata": {
        "id": "wCOLejC5T356",
        "colab_type": "code",
        "colab": {}
      },
      "source": [
        "#fit the regression without intercept\n",
        "lm = LinearRegression(fit_intercept=False).fit(REStaten_[['GROSS_SQUARE_FEET']], REStaten_['SALE_PRICE'])"
      ],
      "execution_count": 0,
      "outputs": []
    },
    {
      "cell_type": "code",
      "metadata": {
        "id": "BYRPX-pWT357",
        "colab_type": "code",
        "outputId": "b7dcfd43-356d-4944-ef57-ed34fffd999d",
        "colab": {
          "base_uri": "https://localhost:8080/",
          "height": 36
        }
      },
      "source": [
        "#slope coefficient\n",
        "lm.coef_"
      ],
      "execution_count": 0,
      "outputs": [
        {
          "output_type": "execute_result",
          "data": {
            "text/plain": [
              "array([287.9862361])"
            ]
          },
          "metadata": {
            "tags": []
          },
          "execution_count": 22
        }
      ]
    },
    {
      "cell_type": "code",
      "metadata": {
        "id": "6hYGSXytT358",
        "colab_type": "code",
        "colab": {}
      },
      "source": [
        "#fit regression with intercept\n",
        "lm = LinearRegression(fit_intercept=True).fit(REStaten_[['GROSS_SQUARE_FEET']], REStaten_['SALE_PRICE'])"
      ],
      "execution_count": 0,
      "outputs": []
    },
    {
      "cell_type": "code",
      "metadata": {
        "id": "SumC7lZcT358",
        "colab_type": "code",
        "outputId": "e9da6216-b319-4938-bfdd-d65baa0da6f5",
        "colab": {
          "base_uri": "https://localhost:8080/",
          "height": 36
        }
      },
      "source": [
        "print('Price~{}*Size+{}'.format(lm.coef_[0],lm.intercept_))"
      ],
      "execution_count": 0,
      "outputs": [
        {
          "output_type": "stream",
          "text": [
            "Price~225.81285045689492*Size+170263.92882602802\n"
          ],
          "name": "stdout"
        }
      ]
    },
    {
      "cell_type": "markdown",
      "metadata": {
        "id": "WJMb04H_T359",
        "colab_type": "text"
      },
      "source": [
        "Now standardize the sale_price and gross_square_feet by subtracting averages and dividing by standard deviation\n",
        "$$\n",
        "X^*:=(X-E[X])/\\sigma(X)\n",
        "$$\n",
        "Repeat the regression. Compare the regression coefficient against the correlation between sale_price and gross_square_feet. Do you find smth interesting here? Does the slope coefficient remind you something?"
      ]
    },
    {
      "cell_type": "code",
      "metadata": {
        "id": "uVpt9rL5T359",
        "colab_type": "code",
        "colab": {}
      },
      "source": [
        "REStaten_['PRICE_stand']=(REStaten_['SALE_PRICE']-REStaten_['SALE_PRICE'].mean())/REStaten_['SALE_PRICE'].std()"
      ],
      "execution_count": 0,
      "outputs": []
    },
    {
      "cell_type": "code",
      "metadata": {
        "id": "fQ8doSX_T35-",
        "colab_type": "code",
        "colab": {}
      },
      "source": [
        "REStaten_['SIZE_stand']=(REStaten_['GROSS_SQUARE_FEET']-REStaten_['GROSS_SQUARE_FEET'].mean())/REStaten_['GROSS_SQUARE_FEET'].std()"
      ],
      "execution_count": 0,
      "outputs": []
    },
    {
      "cell_type": "code",
      "metadata": {
        "id": "Mb9OU99YT35_",
        "colab_type": "code",
        "colab": {}
      },
      "source": [
        "#alternative implementation with statistical summary"
      ],
      "execution_count": 0,
      "outputs": []
    },
    {
      "cell_type": "code",
      "metadata": {
        "id": "qK2eqhiOT36A",
        "colab_type": "code",
        "colab": {}
      },
      "source": [
        ""
      ],
      "execution_count": 0,
      "outputs": []
    },
    {
      "cell_type": "code",
      "metadata": {
        "id": "yspuCn8ZT36A",
        "colab_type": "code",
        "outputId": "0c5b45e1-0941-4d1e-9216-9f242f97fffd",
        "colab": {
          "base_uri": "https://localhost:8080/",
          "height": 473
        }
      },
      "source": [
        "#alternative with fomulae (-1 stands for no intercept as it inclused one by default)\n",
        "lm = smf.ols(formula='PRICE_stand~SIZE_stand-1', data = REStaten_).fit()\n",
        "print(lm.summary())"
      ],
      "execution_count": 0,
      "outputs": [
        {
          "output_type": "stream",
          "text": [
            "                                 OLS Regression Results                                \n",
            "=======================================================================================\n",
            "Dep. Variable:            PRICE_stand   R-squared (uncentered):                   0.613\n",
            "Model:                            OLS   Adj. R-squared (uncentered):              0.613\n",
            "Method:                 Least Squares   F-statistic:                              7700.\n",
            "Date:                Mon, 30 Sep 2019   Prob (F-statistic):                        0.00\n",
            "Time:                        14:17:22   Log-Likelihood:                         -4595.5\n",
            "No. Observations:                4866   AIC:                                      9193.\n",
            "Df Residuals:                    4865   BIC:                                      9199.\n",
            "Df Model:                           1                                                  \n",
            "Covariance Type:            nonrobust                                                  \n",
            "==============================================================================\n",
            "                 coef    std err          t      P>|t|      [0.025      0.975]\n",
            "------------------------------------------------------------------------------\n",
            "SIZE_stand     0.7828      0.009     87.750      0.000       0.765       0.800\n",
            "==============================================================================\n",
            "Omnibus:                     4365.926   Durbin-Watson:                   1.768\n",
            "Prob(Omnibus):                  0.000   Jarque-Bera (JB):          7682326.884\n",
            "Skew:                           2.998   Prob(JB):                         0.00\n",
            "Kurtosis:                     197.563   Cond. No.                         1.00\n",
            "==============================================================================\n",
            "\n",
            "Warnings:\n",
            "[1] Standard Errors assume that the covariance matrix of the errors is correctly specified.\n"
          ],
          "name": "stdout"
        }
      ]
    },
    {
      "cell_type": "code",
      "metadata": {
        "id": "TvExeG0zT36B",
        "colab_type": "code",
        "outputId": "1ac2228e-d6ef-4ccf-b256-6fb67e9d02cf",
        "colab": {
          "base_uri": "https://localhost:8080/",
          "height": 530
        }
      },
      "source": [
        "#now get back to the orignal non-standardised regression\n",
        "lm = smf.ols(formula='SALE_PRICE~GROSS_SQUARE_FEET', data = REStaten_).fit()\n",
        "print(lm.summary())"
      ],
      "execution_count": 0,
      "outputs": [
        {
          "output_type": "stream",
          "text": [
            "                            OLS Regression Results                            \n",
            "==============================================================================\n",
            "Dep. Variable:             SALE_PRICE   R-squared:                       0.613\n",
            "Model:                            OLS   Adj. R-squared:                  0.613\n",
            "Method:                 Least Squares   F-statistic:                     7698.\n",
            "Date:                Mon, 30 Sep 2019   Prob (F-statistic):               0.00\n",
            "Time:                        14:17:22   Log-Likelihood:                -67117.\n",
            "No. Observations:                4866   AIC:                         1.342e+05\n",
            "Df Residuals:                    4864   BIC:                         1.343e+05\n",
            "Df Model:                           1                                         \n",
            "Covariance Type:            nonrobust                                         \n",
            "=====================================================================================\n",
            "                        coef    std err          t      P>|t|      [0.025      0.975]\n",
            "-------------------------------------------------------------------------------------\n",
            "Intercept          1.703e+05   5618.037     30.307      0.000    1.59e+05    1.81e+05\n",
            "GROSS_SQUARE_FEET   225.8129      2.574     87.741      0.000     220.767     230.858\n",
            "==============================================================================\n",
            "Omnibus:                     4365.926   Durbin-Watson:                   1.768\n",
            "Prob(Omnibus):                  0.000   Jarque-Bera (JB):          7682326.884\n",
            "Skew:                           2.998   Prob(JB):                         0.00\n",
            "Kurtosis:                     197.563   Cond. No.                     3.62e+03\n",
            "==============================================================================\n",
            "\n",
            "Warnings:\n",
            "[1] Standard Errors assume that the covariance matrix of the errors is correctly specified.\n",
            "[2] The condition number is large, 3.62e+03. This might indicate that there are\n",
            "strong multicollinearity or other numerical problems.\n"
          ],
          "name": "stdout"
        }
      ]
    },
    {
      "cell_type": "code",
      "metadata": {
        "id": "aN0SmpEnT36C",
        "colab_type": "code",
        "outputId": "d7f2189f-2eed-4833-e93d-c540e0dee2ba",
        "colab": {
          "base_uri": "https://localhost:8080/",
          "height": 473
        }
      },
      "source": [
        "#without intercept\n",
        "lm = smf.ols(formula='SALE_PRICE~GROSS_SQUARE_FEET-1', data = REStaten_).fit()\n",
        "print(lm.summary())"
      ],
      "execution_count": 0,
      "outputs": [
        {
          "output_type": "stream",
          "text": [
            "                                 OLS Regression Results                                \n",
            "=======================================================================================\n",
            "Dep. Variable:             SALE_PRICE   R-squared (uncentered):                   0.856\n",
            "Model:                            OLS   Adj. R-squared (uncentered):              0.856\n",
            "Method:                 Least Squares   F-statistic:                          2.889e+04\n",
            "Date:                Mon, 30 Sep 2019   Prob (F-statistic):                        0.00\n",
            "Time:                        14:17:22   Log-Likelihood:                         -67538.\n",
            "No. Observations:                4866   AIC:                                  1.351e+05\n",
            "Df Residuals:                    4865   BIC:                                  1.351e+05\n",
            "Df Model:                           1                                                  \n",
            "Covariance Type:            nonrobust                                                  \n",
            "=====================================================================================\n",
            "                        coef    std err          t      P>|t|      [0.025      0.975]\n",
            "-------------------------------------------------------------------------------------\n",
            "GROSS_SQUARE_FEET   287.9862      1.694    169.979      0.000     284.665     291.308\n",
            "==============================================================================\n",
            "Omnibus:                     6009.932   Durbin-Watson:                   1.540\n",
            "Prob(Omnibus):                  0.000   Jarque-Bera (JB):          9537864.505\n",
            "Skew:                          -5.729   Prob(JB):                         0.00\n",
            "Kurtosis:                     219.590   Cond. No.                         1.00\n",
            "==============================================================================\n",
            "\n",
            "Warnings:\n",
            "[1] Standard Errors assume that the covariance matrix of the errors is correctly specified.\n"
          ],
          "name": "stdout"
        }
      ]
    },
    {
      "cell_type": "markdown",
      "metadata": {
        "id": "JRlpQzxmT36D",
        "colab_type": "text"
      },
      "source": [
        "The summary does not only return the coefficient estimate but also a lot of statistics including standard error and confidence interval for it. Where do those come from as the formulae (2.3) seem perfectly robust. Illustrate uncertainty in the model estimates using the experiment below."
      ]
    },
    {
      "cell_type": "code",
      "metadata": {
        "id": "6caVXVOtT36D",
        "colab_type": "code",
        "colab": {}
      },
      "source": [
        "#perform regression on 100 subsamples\n",
        "np.random.seed(2019)\n",
        "W=[]\n",
        "for i in range(0,100):\n",
        "    df=REStaten_.sample(frac=0.99)\n",
        "    lm = smf.ols(formula='SALE_PRICE~GROSS_SQUARE_FEET-1', data = df).fit()\n",
        "    W+=[lm.params.GROSS_SQUARE_FEET]"
      ],
      "execution_count": 0,
      "outputs": []
    },
    {
      "cell_type": "code",
      "metadata": {
        "id": "wh9nUKWHT36D",
        "colab_type": "code",
        "outputId": "b6915c93-3b61-4978-9b45-c18ac1d466ad",
        "colab": {
          "base_uri": "https://localhost:8080/",
          "height": 36
        }
      },
      "source": [
        "#and report mean and standard deviations of the resulting slope coefficients\n",
        "np.array(W).mean()"
      ],
      "execution_count": 0,
      "outputs": [
        {
          "output_type": "execute_result",
          "data": {
            "text/plain": [
              "287.97094096712567"
            ]
          },
          "metadata": {
            "tags": []
          },
          "execution_count": 32
        }
      ]
    },
    {
      "cell_type": "code",
      "metadata": {
        "id": "bG4NcpgIT36E",
        "colab_type": "code",
        "outputId": "8b3c9e28-b794-41db-f198-b9c3f90193a5",
        "colab": {
          "base_uri": "https://localhost:8080/",
          "height": 36
        }
      },
      "source": [
        "np.array(W).std()"
      ],
      "execution_count": 0,
      "outputs": [
        {
          "output_type": "execute_result",
          "data": {
            "text/plain": [
              "1.6938576270438803"
            ]
          },
          "metadata": {
            "tags": []
          },
          "execution_count": 33
        }
      ]
    },
    {
      "cell_type": "markdown",
      "metadata": {
        "id": "R6DsjPLKT36F",
        "colab_type": "text"
      },
      "source": [
        "but mind the fact that variance will actually depend on the sample sizes and there is no direct correspondence - it was coincidental that the std of our experiments matched standard error reported in the regression summary. Those are different concepts. This experiment is just an illustration of the idea"
      ]
    },
    {
      "cell_type": "markdown",
      "metadata": {
        "id": "vzBXhzIUT36G",
        "colab_type": "text"
      },
      "source": [
        "Visualizations might give an idea on how regression performs "
      ]
    },
    {
      "cell_type": "code",
      "metadata": {
        "id": "X59NLp8yT36G",
        "colab_type": "code",
        "outputId": "d0d43758-be57-484a-8306-0962244b35e4",
        "colab": {
          "base_uri": "https://localhost:8080/",
          "height": 310
        }
      },
      "source": [
        "#first visualize the data\n",
        "REStaten_.plot(x='GROSS_SQUARE_FEET',y='SALE_PRICE',kind='scatter')"
      ],
      "execution_count": 0,
      "outputs": [
        {
          "output_type": "execute_result",
          "data": {
            "text/plain": [
              "<matplotlib.axes._subplots.AxesSubplot at 0x7f491f9ecef0>"
            ]
          },
          "metadata": {
            "tags": []
          },
          "execution_count": 34
        },
        {
          "output_type": "display_data",
          "data": {
            "image/png": "[encoded data removed]",
            "text/plain": [
              "<Figure size 432x288 with 1 Axes>"
            ]
          },
          "metadata": {
            "tags": []
          }
        }
      ]
    },
    {
      "cell_type": "code",
      "metadata": {
        "id": "qdpvK8LWT36H",
        "colab_type": "code",
        "outputId": "5fabf84b-aa80-4548-9605-ae7b1ce63cb4",
        "colab": {
          "base_uri": "https://localhost:8080/",
          "height": 307
        }
      },
      "source": [
        "#as outliers dominate and the distributions are skewed consider log-scale\n",
        "REStaten_.plot(x='GROSS_SQUARE_FEET',y='SALE_PRICE',kind='scatter', logx=True, logy=True)"
      ],
      "execution_count": 0,
      "outputs": [
        {
          "output_type": "execute_result",
          "data": {
            "text/plain": [
              "<matplotlib.axes._subplots.AxesSubplot at 0x7f491f945550>"
            ]
          },
          "metadata": {
            "tags": []
          },
          "execution_count": 35
        },
        {
          "output_type": "display_data",
          "data": {
            "image/png": "[encoded data removed]",
            "text/plain": [
              "<Figure size 432x288 with 1 Axes>"
            ]
          },
          "metadata": {
            "tags": []
          }
        }
      ]
    },
    {
      "cell_type": "code",
      "metadata": {
        "id": "K3vWuQxST36H",
        "colab_type": "code",
        "colab": {}
      },
      "source": [
        "#obtain values predicted by the regression\n",
        "lm = smf.ols(formula='SALE_PRICE~GROSS_SQUARE_FEET-1', data = REStaten_).fit()\n",
        "REStaten_['predicted_price']=lm.predict()"
      ],
      "execution_count": 0,
      "outputs": []
    },
    {
      "cell_type": "code",
      "metadata": {
        "id": "4HPtvFrBT36I",
        "colab_type": "code",
        "outputId": "1e036fe5-62bf-4915-e18c-799da4639409",
        "colab": {
          "base_uri": "https://localhost:8080/",
          "height": 228
        }
      },
      "source": [
        "REStaten_[['SALE_PRICE','predicted_price']].head()"
      ],
      "execution_count": 0,
      "outputs": [
        {
          "output_type": "execute_result",
          "data": {
            "text/html": [
              "<div>\n",
              "<style scoped>\n",
              "    .dataframe tbody tr th:only-of-type {\n",
              "        vertical-align: middle;\n",
              "    }\n",
              "\n",
              "    .dataframe tbody tr th {\n",
              "        vertical-align: top;\n",
              "    }\n",
              "\n",
              "    .dataframe thead th {\n",
              "        text-align: right;\n",
              "    }\n",
              "</style>\n",
              "<table border=\"1\" class=\"dataframe\">\n",
              "  <thead>\n",
              "    <tr style=\"text-align: right;\">\n",
              "      <th></th>\n",
              "      <th>SALE_PRICE</th>\n",
              "      <th>predicted_price</th>\n",
              "    </tr>\n",
              "  </thead>\n",
              "  <tbody>\n",
              "    <tr>\n",
              "      <th>0</th>\n",
              "      <td>1185000</td>\n",
              "      <td>863958.708302</td>\n",
              "    </tr>\n",
              "    <tr>\n",
              "      <th>1</th>\n",
              "      <td>866000</td>\n",
              "      <td>642209.306505</td>\n",
              "    </tr>\n",
              "    <tr>\n",
              "      <th>2</th>\n",
              "      <td>530000</td>\n",
              "      <td>262643.447324</td>\n",
              "    </tr>\n",
              "    <tr>\n",
              "      <th>3</th>\n",
              "      <td>735000</td>\n",
              "      <td>509159.665426</td>\n",
              "    </tr>\n",
              "    <tr>\n",
              "      <th>4</th>\n",
              "      <td>475000</td>\n",
              "      <td>454730.266803</td>\n",
              "    </tr>\n",
              "  </tbody>\n",
              "</table>\n",
              "</div>"
            ],
            "text/plain": [
              "   SALE_PRICE  predicted_price\n",
              "0     1185000    863958.708302\n",
              "1      866000    642209.306505\n",
              "2      530000    262643.447324\n",
              "3      735000    509159.665426\n",
              "4      475000    454730.266803"
            ]
          },
          "metadata": {
            "tags": []
          },
          "execution_count": 37
        }
      ]
    },
    {
      "cell_type": "code",
      "metadata": {
        "id": "1Dbl3U6GT36J",
        "colab_type": "code",
        "outputId": "d92c539d-6461-42fe-9ac5-d7570671c27f",
        "colab": {
          "base_uri": "https://localhost:8080/",
          "height": 288
        }
      },
      "source": [
        "fig, ax = plt.subplots() #get axis to plot on\n",
        "ax.set_xscale('log'); ax.set_yscale('log') #set up log-scale for axis\n",
        "REStaten_.plot(ax=ax,kind='scatter',x='GROSS_SQUARE_FEET',y='SALE_PRICE') #show the data\n",
        "ax.plot(REStaten_.GROSS_SQUARE_FEET,REStaten_.predicted_price,'r-'); #show the regression line"
      ],
      "execution_count": 0,
      "outputs": [
        {
          "output_type": "display_data",
          "data": {
            "image/png": "[encoded data removed]",
            "text/plain": [
              "<Figure size 432x288 with 1 Axes>"
            ]
          },
          "metadata": {
            "tags": []
          }
        }
      ]
    },
    {
      "cell_type": "code",
      "metadata": {
        "id": "UOSwIPaRT36K",
        "colab_type": "code",
        "outputId": "481c49a7-24b5-41ca-82cd-1933fac1d576",
        "colab": {
          "base_uri": "https://localhost:8080/",
          "height": 288
        }
      },
      "source": [
        "#another way - visualize actual values vs predicted (works also for multi-variate regressions)\n",
        "fig, ax = plt.subplots() #get axis to plot on\n",
        "ax.set_xscale('log'); ax.set_yscale('log') #set up log-scale for axis\n",
        "REStaten_.plot(ax=ax,kind='scatter',x='predicted_price',y='SALE_PRICE') #show the data\n",
        "ax.plot(REStaten_.predicted_price,REStaten_.predicted_price,'r-'); #show the regression line"
      ],
      "execution_count": 0,
      "outputs": [
        {
          "output_type": "display_data",
          "data": {
            "image/png": "[encoded data removed]",
            "text/plain": [
              "<Figure size 432x288 with 1 Axes>"
            ]
          },
          "metadata": {
            "tags": []
          }
        }
      ]
    },
    {
      "cell_type": "markdown",
      "metadata": {
        "id": "e3ZSDSQ6T36L",
        "colab_type": "text"
      },
      "source": [
        "## Multi-variate regression case"
      ]
    },
    {
      "cell_type": "markdown",
      "metadata": {
        "id": "Qr3IZU33T36L",
        "colab_type": "text"
      },
      "source": [
        "Now try multivariate regression on GROSS_SQUARE_FEET+LAND_SQUARE_FEET+YEAR_BUILT together"
      ]
    },
    {
      "cell_type": "code",
      "metadata": {
        "id": "f8KzjiXvT36L",
        "colab_type": "code",
        "outputId": "152eb52c-f57f-4ade-f084-d309f98e882a",
        "colab": {
          "base_uri": "https://localhost:8080/",
          "height": 568
        }
      },
      "source": [
        "lm = smf.ols(formula='SALE_PRICE~GROSS_SQUARE_FEET+LAND_SQUARE_FEET+YEAR_BUILT', data = REStaten_).fit()\n",
        "print(lm.summary())"
      ],
      "execution_count": 0,
      "outputs": [
        {
          "output_type": "stream",
          "text": [
            "                            OLS Regression Results                            \n",
            "==============================================================================\n",
            "Dep. Variable:             SALE_PRICE   R-squared:                       0.639\n",
            "Model:                            OLS   Adj. R-squared:                  0.639\n",
            "Method:                 Least Squares   F-statistic:                     2873.\n",
            "Date:                Mon, 30 Sep 2019   Prob (F-statistic):               0.00\n",
            "Time:                        14:17:29   Log-Likelihood:                -66944.\n",
            "No. Observations:                4866   AIC:                         1.339e+05\n",
            "Df Residuals:                    4862   BIC:                         1.339e+05\n",
            "Df Model:                           3                                         \n",
            "Covariance Type:            nonrobust                                         \n",
            "=====================================================================================\n",
            "                        coef    std err          t      P>|t|      [0.025      0.975]\n",
            "-------------------------------------------------------------------------------------\n",
            "Intercept         -2.378e+06    2.1e+05    -11.317      0.000   -2.79e+06   -1.97e+06\n",
            "GROSS_SQUARE_FEET   205.0491      2.741     74.813      0.000     199.676     210.422\n",
            "LAND_SQUARE_FEET     19.6806      1.143     17.213      0.000      17.439      21.922\n",
            "YEAR_BUILT         1274.4885    106.540     11.963      0.000    1065.622    1483.355\n",
            "==============================================================================\n",
            "Omnibus:                     6076.460   Durbin-Watson:                   1.876\n",
            "Prob(Omnibus):                  0.000   Jarque-Bera (JB):         16211561.583\n",
            "Skew:                           5.694   Prob(JB):                         0.00\n",
            "Kurtosis:                     285.540   Cond. No.                     3.59e+05\n",
            "==============================================================================\n",
            "\n",
            "Warnings:\n",
            "[1] Standard Errors assume that the covariance matrix of the errors is correctly specified.\n",
            "[2] The condition number is large, 3.59e+05. This might indicate that there are\n",
            "strong multicollinearity or other numerical problems.\n"
          ],
          "name": "stdout"
        }
      ]
    },
    {
      "cell_type": "code",
      "metadata": {
        "id": "cZR4uRlCT36M",
        "colab_type": "code",
        "colab": {}
      },
      "source": [
        "#notice that the coefficient for the gross_square_feet have changed again - likely due to the correlation with land size"
      ],
      "execution_count": 0,
      "outputs": []
    },
    {
      "cell_type": "markdown",
      "metadata": {
        "id": "WUnUFZ1MT36N",
        "colab_type": "text"
      },
      "source": [
        "Now try multivariate regression on RESIDENTIAL_UNITS+COMMERCIAL_UNITS together"
      ]
    },
    {
      "cell_type": "code",
      "metadata": {
        "id": "7521Eh_hT36N",
        "colab_type": "code",
        "outputId": "018c589e-3aff-423b-c969-5bb22010dda9",
        "colab": {
          "base_uri": "https://localhost:8080/",
          "height": 511
        }
      },
      "source": [
        "lm = smf.ols(formula='SALE_PRICE~RESIDENTIAL_UNITS+COMMERCIAL_UNITS', data = REStaten_).fit()\n",
        "print(lm.summary())"
      ],
      "execution_count": 0,
      "outputs": [
        {
          "output_type": "stream",
          "text": [
            "                            OLS Regression Results                            \n",
            "==============================================================================\n",
            "Dep. Variable:             SALE_PRICE   R-squared:                       0.325\n",
            "Model:                            OLS   Adj. R-squared:                  0.325\n",
            "Method:                 Least Squares   F-statistic:                     1172.\n",
            "Date:                Mon, 30 Sep 2019   Prob (F-statistic):               0.00\n",
            "Time:                        14:17:31   Log-Likelihood:                -68468.\n",
            "No. Observations:                4866   AIC:                         1.369e+05\n",
            "Df Residuals:                    4863   BIC:                         1.370e+05\n",
            "Df Model:                           2                                         \n",
            "Covariance Type:            nonrobust                                         \n",
            "=====================================================================================\n",
            "                        coef    std err          t      P>|t|      [0.025      0.975]\n",
            "-------------------------------------------------------------------------------------\n",
            "Intercept          3.142e+05   6971.526     45.075      0.000    3.01e+05    3.28e+05\n",
            "RESIDENTIAL_UNITS  1.825e+05   4013.824     45.476      0.000    1.75e+05     1.9e+05\n",
            "COMMERCIAL_UNITS   2.166e+05   2.25e+04      9.608      0.000    1.72e+05    2.61e+05\n",
            "==============================================================================\n",
            "Omnibus:                     8411.585   Durbin-Watson:                   1.595\n",
            "Prob(Omnibus):                  0.000   Jarque-Bera (JB):         36902325.927\n",
            "Skew:                          11.312   Prob(JB):                         0.00\n",
            "Kurtosis:                     429.025   Cond. No.                         9.73\n",
            "==============================================================================\n",
            "\n",
            "Warnings:\n",
            "[1] Standard Errors assume that the covariance matrix of the errors is correctly specified.\n"
          ],
          "name": "stdout"
        }
      ]
    },
    {
      "cell_type": "markdown",
      "metadata": {
        "id": "rq1QUucgT36O",
        "colab_type": "text"
      },
      "source": [
        "And now combine all the variables together"
      ]
    },
    {
      "cell_type": "code",
      "metadata": {
        "id": "6DY8blAqT36O",
        "colab_type": "code",
        "outputId": "080e162d-bcd2-444c-dd55-4371fee15714",
        "colab": {
          "base_uri": "https://localhost:8080/",
          "height": 606
        }
      },
      "source": [
        "lm = smf.ols(formula='SALE_PRICE~GROSS_SQUARE_FEET+LAND_SQUARE_FEET+YEAR_BUILT+RESIDENTIAL_UNITS+COMMERCIAL_UNITS', data = REStaten_).fit()\n",
        "print(lm.summary())"
      ],
      "execution_count": 0,
      "outputs": [
        {
          "output_type": "stream",
          "text": [
            "                            OLS Regression Results                            \n",
            "==============================================================================\n",
            "Dep. Variable:             SALE_PRICE   R-squared:                       0.642\n",
            "Model:                            OLS   Adj. R-squared:                  0.641\n",
            "Method:                 Least Squares   F-statistic:                     1740.\n",
            "Date:                Mon, 30 Sep 2019   Prob (F-statistic):               0.00\n",
            "Time:                        14:17:32   Log-Likelihood:                -66929.\n",
            "No. Observations:                4866   AIC:                         1.339e+05\n",
            "Df Residuals:                    4860   BIC:                         1.339e+05\n",
            "Df Model:                           5                                         \n",
            "Covariance Type:            nonrobust                                         \n",
            "=====================================================================================\n",
            "                        coef    std err          t      P>|t|      [0.025      0.975]\n",
            "-------------------------------------------------------------------------------------\n",
            "Intercept         -2.099e+06   2.16e+05     -9.733      0.000   -2.52e+06   -1.68e+06\n",
            "GROSS_SQUARE_FEET   224.2513      4.594     48.812      0.000     215.245     233.258\n",
            "LAND_SQUARE_FEET     18.1697      1.174     15.479      0.000      15.868      20.471\n",
            "YEAR_BUILT         1134.0588    109.273     10.378      0.000     919.833    1348.284\n",
            "RESIDENTIAL_UNITS -2.186e+04   4762.845     -4.590      0.000   -3.12e+04   -1.25e+04\n",
            "COMMERCIAL_UNITS  -6.665e+04   1.75e+04     -3.800      0.000   -1.01e+05   -3.23e+04\n",
            "==============================================================================\n",
            "Omnibus:                     6200.172   Durbin-Watson:                   1.885\n",
            "Prob(Omnibus):                  0.000   Jarque-Bera (JB):         15615680.067\n",
            "Skew:                           5.956   Prob(JB):                         0.00\n",
            "Kurtosis:                     280.268   Cond. No.                     3.69e+05\n",
            "==============================================================================\n",
            "\n",
            "Warnings:\n",
            "[1] Standard Errors assume that the covariance matrix of the errors is correctly specified.\n",
            "[2] The condition number is large, 3.69e+05. This might indicate that there are\n",
            "strong multicollinearity or other numerical problems.\n"
          ],
          "name": "stdout"
        }
      ]
    },
    {
      "cell_type": "code",
      "metadata": {
        "id": "ighGkylaxFsg",
        "colab_type": "code",
        "colab": {}
      },
      "source": [
        ""
      ],
      "execution_count": 0,
      "outputs": []
    },
    {
      "cell_type": "markdown",
      "metadata": {
        "id": "AVC-2tY6T36P",
        "colab_type": "text"
      },
      "source": [
        "Again, the coefficients have changed, but now, surprisingly, now the impact of residential and commercial units seem to be negative!"
      ]
    },
    {
      "cell_type": "markdown",
      "metadata": {
        "id": "i2LBdRIpT36P",
        "colab_type": "text"
      },
      "source": [
        "This is because they are strongly correlated with house size and for the houses of the same size, slicing them into the larger number of smaller units does not seem to increase the price anymore. However we should be careful with interpretations when the regressors are correlated "
      ]
    },
    {
      "cell_type": "code",
      "metadata": {
        "id": "XE5f_gsdT36P",
        "colab_type": "code",
        "colab": {}
      },
      "source": [
        "REStaten[\"SALE_PRICE\"].max()"
      ],
      "execution_count": 0,
      "outputs": []
    },
    {
      "cell_type": "markdown",
      "metadata": {
        "id": "zoN84NwRT36P",
        "colab_type": "text"
      },
      "source": [
        "## Homework task 1\n",
        "Analize the single familty houses (RESIDENTIAL_UNITS==1, COMMERCIAL_UNITS==0) separately"
      ]
    },
    {
      "cell_type": "markdown",
      "metadata": {
        "id": "OexEQKk0T36Q",
        "colab_type": "text"
      },
      "source": [
        "Q1. Find the single-family house with the highest price per square foot"
      ]
    },
    {
      "cell_type": "markdown",
      "metadata": {
        "id": "JO1vzaprT36Q",
        "colab_type": "text"
      },
      "source": [
        "Q2. Build correlation matrix for YEAR_BUILT,GROSS_SQUARE_FEET, LAND_SQUARE_FEET"
      ]
    },
    {
      "cell_type": "markdown",
      "metadata": {
        "id": "I4rZQwwwT36Q",
        "colab_type": "text"
      },
      "source": [
        "Q3. Perform the SALE_PRICE~GROSS_SQUARE_FEET+LAND_SQUARE_FEET+YEAR_BUILT regression using any of the methods above. Visualize the fit"
      ]
    },
    {
      "cell_type": "markdown",
      "metadata": {
        "id": "IqQ43epDT36Q",
        "colab_type": "text"
      },
      "source": [
        "Q4. Apply regression trained for single family houses from Q3 to predict prices for a different dataframe of duplexes (two residential units). Visualize the fit and compute the R2 over duplexes. We can compare it with the R2 of the regression trained for duplexes in task 2"
      ]
    },
    {
      "cell_type": "markdown",
      "metadata": {
        "id": "CUeMVKnIxunO",
        "colab_type": "text"
      },
      "source": [
        ""
      ]
    },
    {
      "cell_type": "code",
      "metadata": {
        "id": "Uzt_FQbpT36R",
        "colab_type": "code",
        "outputId": "8f03b9e5-0bcf-4ce3-b2ea-2c4f39f880d0",
        "colab": {
          "base_uri": "https://localhost:8080/",
          "height": 264
        }
      },
      "source": [
        "REStaten_[\"RESIDENTIAL_UNITS\"].value_counts()"
      ],
      "execution_count": 0,
      "outputs": [
        {
          "output_type": "execute_result",
          "data": {
            "text/plain": [
              "1     3464\n",
              "2     1324\n",
              "3       42\n",
              "4       20\n",
              "6        4\n",
              "8        4\n",
              "5        3\n",
              "7        1\n",
              "42       1\n",
              "18       1\n",
              "40       1\n",
              "36       1\n",
              "Name: RESIDENTIAL_UNITS, dtype: int64"
            ]
          },
          "metadata": {
            "tags": []
          },
          "execution_count": 47
        }
      ]
    },
    {
      "cell_type": "code",
      "metadata": {
        "id": "7p6Lc6U3dEe6",
        "colab_type": "code",
        "outputId": "8c2bfe3d-ed23-43f5-8ba2-047e430a6e19",
        "colab": {
          "base_uri": "https://localhost:8080/",
          "height": 492
        }
      },
      "source": [
        "temp = REStaten_.loc[(REStaten_['RESIDENTIAL_UNITS']==1) & (REStaten_['COMMERCIAL_UNITS']==0)].copy()\n",
        "temp.loc[(temp['SALE_PRICE'] / temp['GROSS_SQUARE_FEET']).idxmax()]"
      ],
      "execution_count": 0,
      "outputs": [
        {
          "output_type": "execute_result",
          "data": {
            "text/plain": [
              "BOROUGH                                                                     5\n",
              "NEIGHBORHOOD                                                    OAKWOOD-BEACH\n",
              "BUILDING_CLASS_CATEGORY           01 ONE FAMILY DWELLINGS                    \n",
              "TAX_CLASS_AT_PRESENT                                                        1\n",
              "BLOCK                                                                    4678\n",
              "LOT                                                                         1\n",
              "EASE-MENT                                                                    \n",
              "BUILDING_CLASS_AT_PRESENT                                                  A1\n",
              "ADDRESS                                                     402 GUYON AVENUE \n",
              "APARTMENT_NUMBER                                                             \n",
              "ZIP_CODE                                                                10306\n",
              "RESIDENTIAL_UNITS                                                           1\n",
              "COMMERCIAL_UNITS                                                            0\n",
              "TOTAL_UNITS                                                                 1\n",
              "LAND_SQUARE_FEET                                                        40000\n",
              "GROSS_SQUARE_FEET                                                        2146\n",
              "YEAR_BUILT                                                               1920\n",
              "TAX_CLASS_AT_TIME_OF_SALE                                                   1\n",
              "BUILDING_CLASS_AT_TIME_OF_SALE                                            A1 \n",
              "SALE_PRICE                                                            4100000\n",
              "SALE_DATE                                                              6/4/18\n",
              "PRICE_stand                                                           9.30104\n",
              "SIZE_stand                                                           0.307954\n",
              "predicted_price                                                        618018\n",
              "Name: 5484, dtype: object"
            ]
          },
          "metadata": {
            "tags": []
          },
          "execution_count": 48
        }
      ]
    },
    {
      "cell_type": "code",
      "metadata": {
        "id": "90hL7ntsdEvV",
        "colab_type": "code",
        "outputId": "ee32196f-644b-46e2-acca-4f72a2b5aad3",
        "colab": {
          "base_uri": "https://localhost:8080/",
          "height": 158
        }
      },
      "source": [
        "cols = [\"YEAR_BUILT\",\"GROSS_SQUARE_FEET\",\"LAND_SQUARE_FEET\"]\n",
        "temp[cols].corr()"
      ],
      "execution_count": 0,
      "outputs": [
        {
          "output_type": "execute_result",
          "data": {
            "text/html": [
              "<div>\n",
              "<style scoped>\n",
              "    .dataframe tbody tr th:only-of-type {\n",
              "        vertical-align: middle;\n",
              "    }\n",
              "\n",
              "    .dataframe tbody tr th {\n",
              "        vertical-align: top;\n",
              "    }\n",
              "\n",
              "    .dataframe thead th {\n",
              "        text-align: right;\n",
              "    }\n",
              "</style>\n",
              "<table border=\"1\" class=\"dataframe\">\n",
              "  <thead>\n",
              "    <tr style=\"text-align: right;\">\n",
              "      <th></th>\n",
              "      <th>YEAR_BUILT</th>\n",
              "      <th>GROSS_SQUARE_FEET</th>\n",
              "      <th>LAND_SQUARE_FEET</th>\n",
              "    </tr>\n",
              "  </thead>\n",
              "  <tbody>\n",
              "    <tr>\n",
              "      <th>YEAR_BUILT</th>\n",
              "      <td>1.000000</td>\n",
              "      <td>0.143736</td>\n",
              "      <td>-0.260088</td>\n",
              "    </tr>\n",
              "    <tr>\n",
              "      <th>GROSS_SQUARE_FEET</th>\n",
              "      <td>0.143736</td>\n",
              "      <td>1.000000</td>\n",
              "      <td>0.515321</td>\n",
              "    </tr>\n",
              "    <tr>\n",
              "      <th>LAND_SQUARE_FEET</th>\n",
              "      <td>-0.260088</td>\n",
              "      <td>0.515321</td>\n",
              "      <td>1.000000</td>\n",
              "    </tr>\n",
              "  </tbody>\n",
              "</table>\n",
              "</div>"
            ],
            "text/plain": [
              "                   YEAR_BUILT  GROSS_SQUARE_FEET  LAND_SQUARE_FEET\n",
              "YEAR_BUILT           1.000000           0.143736         -0.260088\n",
              "GROSS_SQUARE_FEET    0.143736           1.000000          0.515321\n",
              "LAND_SQUARE_FEET    -0.260088           0.515321          1.000000"
            ]
          },
          "metadata": {
            "tags": []
          },
          "execution_count": 49
        }
      ]
    },
    {
      "cell_type": "code",
      "metadata": {
        "id": "FV8l2uKqdRc9",
        "colab_type": "code",
        "outputId": "0a82276b-0b68-4aae-b64f-1266579954da",
        "colab": {
          "base_uri": "https://localhost:8080/",
          "height": 188
        }
      },
      "source": [
        "lr = smf.ols(formula='SALE_PRICE~GROSS_SQUARE_FEET+LAND_SQUARE_FEET+YEAR_BUILT', data = temp).fit()\n",
        "temp[\"GLY-S Prediction\"]= lr.predict()\n",
        "temp[\"GLY-S Prediction\"].head(8)\n"
      ],
      "execution_count": 0,
      "outputs": [
        {
          "output_type": "execute_result",
          "data": {
            "text/plain": [
              "0    889604.821199\n",
              "1    746900.467101\n",
              "2    454567.005296\n",
              "3    643404.338376\n",
              "4    486649.989267\n",
              "5    477149.284997\n",
              "6    649218.480360\n",
              "7    530443.886348\n",
              "Name: GLY-S Prediction, dtype: float64"
            ]
          },
          "metadata": {
            "tags": []
          },
          "execution_count": 50
        }
      ]
    },
    {
      "cell_type": "code",
      "metadata": {
        "id": "AXwzzNxmdRpi",
        "colab_type": "code",
        "outputId": "c15950f4-c4e9-4957-d17f-db953b23d38e",
        "colab": {
          "base_uri": "https://localhost:8080/",
          "height": 722
        }
      },
      "source": [
        "fig, ax = plt.subplots(figsize = (12,12)) \n",
        "ax.set_xscale('log'); ax.set_yscale('log')\n",
        "temp.plot(ax=ax,kind='scatter',x='GLY-S Prediction',y='SALE_PRICE')\n",
        "ax.plot(temp[\"GLY-S Prediction\"],temp[\"GLY-S Prediction\"],'m-'); #show the regression line"
      ],
      "execution_count": 0,
      "outputs": [
        {
          "output_type": "display_data",
          "data": {
            "image/png": "[encoded data removed]",
            "text/plain": [
              "<Figure size 864x864 with 1 Axes>"
            ]
          },
          "metadata": {
            "tags": []
          }
        }
      ]
    },
    {
      "cell_type": "code",
      "metadata": {
        "id": "HSaAipY9djLT",
        "colab_type": "code",
        "outputId": "8c2dd656-a0fe-4984-8d18-95ebf1b2a1da",
        "colab": {
          "base_uri": "https://localhost:8080/",
          "height": 36
        }
      },
      "source": [
        "from sklearn.metrics import r2_score\n",
        "temp03 = REStaten_.loc[REStaten_['RESIDENTIAL_UNITS']==2].copy()\n",
        "temp03.head()\n",
        "#len(temp03)\n",
        "ls1 = smf.ols(formula='SALE_PRICE~GROSS_SQUARE_FEET+LAND_SQUARE_FEET+YEAR_BUILT', data = temp03).fit()\n",
        "temp03[\"GLY-S Prediction\"]= ls1.predict()\n",
        "print('R2 Score: ',r2_score(temp03['SALE_PRICE'],temp03['GLY-S Prediction']))"
      ],
      "execution_count": 0,
      "outputs": [
        {
          "output_type": "stream",
          "text": [
            "R2 Score:  0.3121285571725253\n"
          ],
          "name": "stdout"
        }
      ]
    },
    {
      "cell_type": "markdown",
      "metadata": {
        "id": "SfG28yjMT36R",
        "colab_type": "text"
      },
      "source": [
        "## Homework task 2\n",
        "\n",
        "Now consider houses with different numbers of residential units: repeat the SALE_PRICE~GROSS_SQUARE_FEET+LAND_SQUARE_FEET+YEAR_BUILT regression for houses with  RESIDENTIAL_UNITS==1,2 and \"3 or above\", COMMERCIAL_UNITS==0. Summarize the number of samples in each category, coefficients and r-squared values of the corresponding regressions in a dataframe with the following columns: samples,GROSS_SQUARE_FEET_coef,LAND_SQUARE_FEET_coef,YEAR_BUILT,coef,Intercept,R2. Make the number of RESIDENTIAL_UNITS (1,2 or '3+') an index"
      ]
    },
    {
      "cell_type": "code",
      "metadata": {
        "colab_type": "code",
        "outputId": "56a60ce2-cff3-4c4e-c11e-3440ca6d9e10",
        "id": "FTo05EwZ39zu",
        "colab": {
          "base_uri": "https://localhost:8080/",
          "height": 263
        }
      },
      "source": [
        "condition = (REStaten_.RESIDENTIAL_UNITS==2)&(REStaten_.COMMERCIAL_UNITS==0)\n",
        "df = REStaten_.loc[condition].copy()\n",
        "\n",
        "formula = 'SALE_PRICE~GROSS_SQUARE_FEET+LAND_SQUARE_FEET+YEAR_BUILT'\n",
        "linear_regression = smf.ols(formula=formula, data = df).fit()\n",
        "\n",
        "condition2 = (REStaten_.RESIDENTIAL_UNITS>=3)&(REStaten_.COMMERCIAL_UNITS==0)\n",
        "df2 = REStaten_.loc[condition2].copy()\n",
        "\n",
        "linear_regression2 = smf.ols(formula=formula, data = df2).fit()\n",
        "\n",
        "\n",
        "data_dictionary1 = {'Parameter' : ['Samples' , 'LSF', 'YB', ' Int', 'R2', 'GSF'], 'Units : 1' : [temp.shape[0],lr.params[2],lr.params[3],lr.params[0], lr.rsquared, lr.params[1]]  ,'Units :  2': [temp03.shape[0],linear_regression.params[2], linear_regression.params[3], linear_regression.params[0], linear_regression.rsquared,linear_regression.params[1]] , 'Units >=3':[df.shape[0], linear_regression2.params[2],linear_regression2.params[3], linear_regression2.params[0], linear_regression2.rsquared, linear_regression2.params[1]]}\n",
        "df1 = pd.DataFrame.from_dict(data_dictionary1)\n",
        "df1"
      ],
      "execution_count": 58,
      "outputs": [
        {
          "output_type": "execute_result",
          "data": {
            "text/html": [
              "<div>\n",
              "<style scoped>\n",
              "    .dataframe tbody tr th:only-of-type {\n",
              "        vertical-align: middle;\n",
              "    }\n",
              "\n",
              "    .dataframe tbody tr th {\n",
              "        vertical-align: top;\n",
              "    }\n",
              "\n",
              "    .dataframe thead th {\n",
              "        text-align: right;\n",
              "    }\n",
              "</style>\n",
              "<table border=\"1\" class=\"dataframe\">\n",
              "  <thead>\n",
              "    <tr style=\"text-align: right;\">\n",
              "      <th></th>\n",
              "      <th>Parameter</th>\n",
              "      <th>Units : 1</th>\n",
              "      <th>Units :  2</th>\n",
              "      <th>Units &gt;=3</th>\n",
              "    </tr>\n",
              "  </thead>\n",
              "  <tbody>\n",
              "    <tr>\n",
              "      <th>0</th>\n",
              "      <td>Samples</td>\n",
              "      <td>3.440000e+03</td>\n",
              "      <td>1.324000e+03</td>\n",
              "      <td>1.299000e+03</td>\n",
              "    </tr>\n",
              "    <tr>\n",
              "      <th>1</th>\n",
              "      <td>LSF</td>\n",
              "      <td>2.986947e+01</td>\n",
              "      <td>3.190193e+01</td>\n",
              "      <td>2.660805e+01</td>\n",
              "    </tr>\n",
              "    <tr>\n",
              "      <th>2</th>\n",
              "      <td>YB</td>\n",
              "      <td>1.030027e+03</td>\n",
              "      <td>2.387006e+03</td>\n",
              "      <td>3.168789e+03</td>\n",
              "    </tr>\n",
              "    <tr>\n",
              "      <th>3</th>\n",
              "      <td>Int</td>\n",
              "      <td>-1.837565e+06</td>\n",
              "      <td>-4.389802e+06</td>\n",
              "      <td>-5.813505e+06</td>\n",
              "    </tr>\n",
              "    <tr>\n",
              "      <th>4</th>\n",
              "      <td>R2</td>\n",
              "      <td>5.586154e-01</td>\n",
              "      <td>3.149071e-01</td>\n",
              "      <td>8.410107e-01</td>\n",
              "    </tr>\n",
              "    <tr>\n",
              "      <th>5</th>\n",
              "      <td>GSF</td>\n",
              "      <td>1.471831e+02</td>\n",
              "      <td>9.140410e+01</td>\n",
              "      <td>8.384738e+01</td>\n",
              "    </tr>\n",
              "  </tbody>\n",
              "</table>\n",
              "</div>"
            ],
            "text/plain": [
              "  Parameter     Units : 1    Units :  2     Units >=3\n",
              "0   Samples  3.440000e+03  1.324000e+03  1.299000e+03\n",
              "1       LSF  2.986947e+01  3.190193e+01  2.660805e+01\n",
              "2        YB  1.030027e+03  2.387006e+03  3.168789e+03\n",
              "3       Int -1.837565e+06 -4.389802e+06 -5.813505e+06\n",
              "4        R2  5.586154e-01  3.149071e-01  8.410107e-01\n",
              "5       GSF  1.471831e+02  9.140410e+01  8.384738e+01"
            ]
          },
          "metadata": {
            "tags": []
          },
          "execution_count": 58
        }
      ]
    },
    {
      "cell_type": "markdown",
      "metadata": {
        "colab_type": "text",
        "id": "vzq1gg065uYe"
      },
      "source": [
        "## Urban activity data\n",
        "\n",
        "Recall urban population and activity data case from a previous class notebook"
      ]
    },
    {
      "cell_type": "code",
      "metadata": {
        "colab_type": "code",
        "id": "9T0xTqsW5sj6",
        "colab": {}
      },
      "source": [
        "SMdata=SMdata.merge(LEHDR[['total']].rename(columns={'total':'residential'}), on=None, left_index=True, right_index=True, how='inner')"
      ],
      "execution_count": 0,
      "outputs": []
    },
    {
      "cell_type": "code",
      "metadata": {
        "id": "CoMdZ8e3T36V",
        "colab_type": "code",
        "outputId": "0e4aad66-5fa2-4496-bb25-e96a2b91d154",
        "colab": {
          "base_uri": "https://localhost:8080/",
          "height": 263
        }
      },
      "source": [
        "#glimpse into the final data\n",
        "SMdata.head()"
      ],
      "execution_count": 0,
      "outputs": [
        {
          "output_type": "execute_result",
          "data": {
            "text/html": [
              "<div>\n",
              "<style scoped>\n",
              "    .dataframe tbody tr th:only-of-type {\n",
              "        vertical-align: middle;\n",
              "    }\n",
              "\n",
              "    .dataframe tbody tr th {\n",
              "        vertical-align: top;\n",
              "    }\n",
              "\n",
              "    .dataframe thead th {\n",
              "        text-align: right;\n",
              "    }\n",
              "</style>\n",
              "<table border=\"1\" class=\"dataframe\">\n",
              "  <thead>\n",
              "    <tr style=\"text-align: right;\">\n",
              "      <th></th>\n",
              "      <th>population</th>\n",
              "      <th>mobile</th>\n",
              "      <th>citibike</th>\n",
              "      <th>sr311</th>\n",
              "      <th>subway</th>\n",
              "      <th>taxi</th>\n",
              "      <th>twitter</th>\n",
              "      <th>working</th>\n",
              "      <th>residential</th>\n",
              "    </tr>\n",
              "    <tr>\n",
              "      <th>tz</th>\n",
              "      <th></th>\n",
              "      <th></th>\n",
              "      <th></th>\n",
              "      <th></th>\n",
              "      <th></th>\n",
              "      <th></th>\n",
              "      <th></th>\n",
              "      <th></th>\n",
              "      <th></th>\n",
              "    </tr>\n",
              "  </thead>\n",
              "  <tbody>\n",
              "    <tr>\n",
              "      <th>3</th>\n",
              "      <td>32450.0</td>\n",
              "      <td>109300</td>\n",
              "      <td>0</td>\n",
              "      <td>700</td>\n",
              "      <td>225527.5</td>\n",
              "      <td>31960</td>\n",
              "      <td>480</td>\n",
              "      <td>4989</td>\n",
              "      <td>11398</td>\n",
              "    </tr>\n",
              "    <tr>\n",
              "      <th>4</th>\n",
              "      <td>27571.0</td>\n",
              "      <td>179644</td>\n",
              "      <td>31545</td>\n",
              "      <td>399</td>\n",
              "      <td>0.0</td>\n",
              "      <td>178515</td>\n",
              "      <td>85</td>\n",
              "      <td>2717</td>\n",
              "      <td>12318</td>\n",
              "    </tr>\n",
              "    <tr>\n",
              "      <th>5</th>\n",
              "      <td>26482.0</td>\n",
              "      <td>56271</td>\n",
              "      <td>0</td>\n",
              "      <td>490</td>\n",
              "      <td>0.0</td>\n",
              "      <td>3667</td>\n",
              "      <td>40</td>\n",
              "      <td>1191</td>\n",
              "      <td>10751</td>\n",
              "    </tr>\n",
              "    <tr>\n",
              "      <th>6</th>\n",
              "      <td>15896.0</td>\n",
              "      <td>147674</td>\n",
              "      <td>0</td>\n",
              "      <td>255</td>\n",
              "      <td>0.0</td>\n",
              "      <td>7456</td>\n",
              "      <td>88</td>\n",
              "      <td>2495</td>\n",
              "      <td>6729</td>\n",
              "    </tr>\n",
              "    <tr>\n",
              "      <th>7</th>\n",
              "      <td>77252.0</td>\n",
              "      <td>508255</td>\n",
              "      <td>0</td>\n",
              "      <td>1389</td>\n",
              "      <td>3336898.0</td>\n",
              "      <td>362180</td>\n",
              "      <td>2294</td>\n",
              "      <td>17223</td>\n",
              "      <td>43048</td>\n",
              "    </tr>\n",
              "  </tbody>\n",
              "</table>\n",
              "</div>"
            ],
            "text/plain": [
              "    population  mobile  citibike  sr311  ...    taxi  twitter  working  residential\n",
              "tz                                       ...                                       \n",
              "3      32450.0  109300         0    700  ...   31960      480     4989        11398\n",
              "4      27571.0  179644     31545    399  ...  178515       85     2717        12318\n",
              "5      26482.0   56271         0    490  ...    3667       40     1191        10751\n",
              "6      15896.0  147674         0    255  ...    7456       88     2495         6729\n",
              "7      77252.0  508255         0   1389  ...  362180     2294    17223        43048\n",
              "\n",
              "[5 rows x 9 columns]"
            ]
          },
          "metadata": {
            "tags": []
          },
          "execution_count": 70
        }
      ]
    },
    {
      "cell_type": "code",
      "metadata": {
        "id": "7psQXjLJT36W",
        "colab_type": "code",
        "outputId": "a9433317-c35f-4647-caf8-b7ccbd00bf07",
        "colab": {
          "base_uri": "https://localhost:8080/",
          "height": 368
        }
      },
      "source": [
        "#get pair-wise column correlations\n",
        "SMdata.corr()"
      ],
      "execution_count": 0,
      "outputs": [
        {
          "output_type": "execute_result",
          "data": {
            "text/html": [
              "<div>\n",
              "<style scoped>\n",
              "    .dataframe tbody tr th:only-of-type {\n",
              "        vertical-align: middle;\n",
              "    }\n",
              "\n",
              "    .dataframe tbody tr th {\n",
              "        vertical-align: top;\n",
              "    }\n",
              "\n",
              "    .dataframe thead th {\n",
              "        text-align: right;\n",
              "    }\n",
              "</style>\n",
              "<table border=\"1\" class=\"dataframe\">\n",
              "  <thead>\n",
              "    <tr style=\"text-align: right;\">\n",
              "      <th></th>\n",
              "      <th>population</th>\n",
              "      <th>mobile</th>\n",
              "      <th>citibike</th>\n",
              "      <th>sr311</th>\n",
              "      <th>subway</th>\n",
              "      <th>taxi</th>\n",
              "      <th>twitter</th>\n",
              "      <th>working</th>\n",
              "      <th>residential</th>\n",
              "    </tr>\n",
              "  </thead>\n",
              "  <tbody>\n",
              "    <tr>\n",
              "      <th>population</th>\n",
              "      <td>1.000000</td>\n",
              "      <td>0.670248</td>\n",
              "      <td>-0.210465</td>\n",
              "      <td>0.877397</td>\n",
              "      <td>-0.042691</td>\n",
              "      <td>-0.059860</td>\n",
              "      <td>-0.028276</td>\n",
              "      <td>-0.099852</td>\n",
              "      <td>0.969425</td>\n",
              "    </tr>\n",
              "    <tr>\n",
              "      <th>mobile</th>\n",
              "      <td>0.670248</td>\n",
              "      <td>1.000000</td>\n",
              "      <td>-0.066319</td>\n",
              "      <td>0.607098</td>\n",
              "      <td>0.219016</td>\n",
              "      <td>0.144768</td>\n",
              "      <td>0.214191</td>\n",
              "      <td>0.175743</td>\n",
              "      <td>0.646672</td>\n",
              "    </tr>\n",
              "    <tr>\n",
              "      <th>citibike</th>\n",
              "      <td>-0.210465</td>\n",
              "      <td>-0.066319</td>\n",
              "      <td>1.000000</td>\n",
              "      <td>-0.183276</td>\n",
              "      <td>0.486907</td>\n",
              "      <td>0.748109</td>\n",
              "      <td>0.372861</td>\n",
              "      <td>0.513090</td>\n",
              "      <td>-0.102762</td>\n",
              "    </tr>\n",
              "    <tr>\n",
              "      <th>sr311</th>\n",
              "      <td>0.877397</td>\n",
              "      <td>0.607098</td>\n",
              "      <td>-0.183276</td>\n",
              "      <td>1.000000</td>\n",
              "      <td>-0.010677</td>\n",
              "      <td>-0.026607</td>\n",
              "      <td>0.066799</td>\n",
              "      <td>-0.049597</td>\n",
              "      <td>0.865145</td>\n",
              "    </tr>\n",
              "    <tr>\n",
              "      <th>subway</th>\n",
              "      <td>-0.042691</td>\n",
              "      <td>0.219016</td>\n",
              "      <td>0.486907</td>\n",
              "      <td>-0.010677</td>\n",
              "      <td>1.000000</td>\n",
              "      <td>0.630203</td>\n",
              "      <td>0.496341</td>\n",
              "      <td>0.703456</td>\n",
              "      <td>0.020381</td>\n",
              "    </tr>\n",
              "    <tr>\n",
              "      <th>taxi</th>\n",
              "      <td>-0.059860</td>\n",
              "      <td>0.144768</td>\n",
              "      <td>0.748109</td>\n",
              "      <td>-0.026607</td>\n",
              "      <td>0.630203</td>\n",
              "      <td>1.000000</td>\n",
              "      <td>0.556061</td>\n",
              "      <td>0.720043</td>\n",
              "      <td>0.053496</td>\n",
              "    </tr>\n",
              "    <tr>\n",
              "      <th>twitter</th>\n",
              "      <td>-0.028276</td>\n",
              "      <td>0.214191</td>\n",
              "      <td>0.372861</td>\n",
              "      <td>0.066799</td>\n",
              "      <td>0.496341</td>\n",
              "      <td>0.556061</td>\n",
              "      <td>1.000000</td>\n",
              "      <td>0.626458</td>\n",
              "      <td>0.017787</td>\n",
              "    </tr>\n",
              "    <tr>\n",
              "      <th>working</th>\n",
              "      <td>-0.099852</td>\n",
              "      <td>0.175743</td>\n",
              "      <td>0.513090</td>\n",
              "      <td>-0.049597</td>\n",
              "      <td>0.703456</td>\n",
              "      <td>0.720043</td>\n",
              "      <td>0.626458</td>\n",
              "      <td>1.000000</td>\n",
              "      <td>-0.040786</td>\n",
              "    </tr>\n",
              "    <tr>\n",
              "      <th>residential</th>\n",
              "      <td>0.969425</td>\n",
              "      <td>0.646672</td>\n",
              "      <td>-0.102762</td>\n",
              "      <td>0.865145</td>\n",
              "      <td>0.020381</td>\n",
              "      <td>0.053496</td>\n",
              "      <td>0.017787</td>\n",
              "      <td>-0.040786</td>\n",
              "      <td>1.000000</td>\n",
              "    </tr>\n",
              "  </tbody>\n",
              "</table>\n",
              "</div>"
            ],
            "text/plain": [
              "             population    mobile  citibike  ...   twitter   working  residential\n",
              "population     1.000000  0.670248 -0.210465  ... -0.028276 -0.099852     0.969425\n",
              "mobile         0.670248  1.000000 -0.066319  ...  0.214191  0.175743     0.646672\n",
              "citibike      -0.210465 -0.066319  1.000000  ...  0.372861  0.513090    -0.102762\n",
              "sr311          0.877397  0.607098 -0.183276  ...  0.066799 -0.049597     0.865145\n",
              "subway        -0.042691  0.219016  0.486907  ...  0.496341  0.703456     0.020381\n",
              "taxi          -0.059860  0.144768  0.748109  ...  0.556061  0.720043     0.053496\n",
              "twitter       -0.028276  0.214191  0.372861  ...  1.000000  0.626458     0.017787\n",
              "working       -0.099852  0.175743  0.513090  ...  0.626458  1.000000    -0.040786\n",
              "residential    0.969425  0.646672 -0.102762  ...  0.017787 -0.040786     1.000000\n",
              "\n",
              "[9 rows x 9 columns]"
            ]
          },
          "metadata": {
            "tags": []
          },
          "execution_count": 71
        }
      ]
    },
    {
      "cell_type": "markdown",
      "metadata": {
        "id": "NJkBQRkhT36X",
        "colab_type": "text"
      },
      "source": [
        "But notice that some activities are not defined for the entire city. Would be more appropriate to correlate only where activity is defined"
      ]
    },
    {
      "cell_type": "code",
      "metadata": {
        "id": "Ep2B9PjUT36X",
        "colab_type": "code",
        "colab": {}
      },
      "source": [
        "#auxiliary function to compute correlations between columns where both have data\n",
        "def NZPopCorr(col1,col2):\n",
        "    ind=(SMdata[col1]>0)&(SMdata[col2]>0)\n",
        "    return np.corrcoef(SMdata[col1][ind],SMdata[col2][ind])[0][1]"
      ],
      "execution_count": 0,
      "outputs": []
    },
    {
      "cell_type": "code",
      "metadata": {
        "id": "ERGxziMqT36X",
        "colab_type": "code",
        "outputId": "8ae74ef8-47ae-4bb1-a29f-da9757d23dc0",
        "colab": {
          "base_uri": "https://localhost:8080/",
          "height": 263
        }
      },
      "source": [
        "#output a table with correlations between activities and population counts\n",
        "PL=['population','residential','working']\n",
        "ML=['taxi','subway','citibike','twitter','mobile','sr311']\n",
        "pd.DataFrame([[NZPopCorr(M,P) for P in PL] for M in ML],columns=PL,index=ML) "
      ],
      "execution_count": 0,
      "outputs": [
        {
          "output_type": "execute_result",
          "data": {
            "text/html": [
              "<div>\n",
              "<style scoped>\n",
              "    .dataframe tbody tr th:only-of-type {\n",
              "        vertical-align: middle;\n",
              "    }\n",
              "\n",
              "    .dataframe tbody tr th {\n",
              "        vertical-align: top;\n",
              "    }\n",
              "\n",
              "    .dataframe thead th {\n",
              "        text-align: right;\n",
              "    }\n",
              "</style>\n",
              "<table border=\"1\" class=\"dataframe\">\n",
              "  <thead>\n",
              "    <tr style=\"text-align: right;\">\n",
              "      <th></th>\n",
              "      <th>population</th>\n",
              "      <th>residential</th>\n",
              "      <th>working</th>\n",
              "    </tr>\n",
              "  </thead>\n",
              "  <tbody>\n",
              "    <tr>\n",
              "      <th>taxi</th>\n",
              "      <td>-0.064720</td>\n",
              "      <td>0.049633</td>\n",
              "      <td>0.719559</td>\n",
              "    </tr>\n",
              "    <tr>\n",
              "      <th>subway</th>\n",
              "      <td>-0.232504</td>\n",
              "      <td>-0.141712</td>\n",
              "      <td>0.720643</td>\n",
              "    </tr>\n",
              "    <tr>\n",
              "      <th>citibike</th>\n",
              "      <td>-0.126996</td>\n",
              "      <td>0.011210</td>\n",
              "      <td>0.319030</td>\n",
              "    </tr>\n",
              "    <tr>\n",
              "      <th>twitter</th>\n",
              "      <td>-0.032551</td>\n",
              "      <td>0.017787</td>\n",
              "      <td>0.626458</td>\n",
              "    </tr>\n",
              "    <tr>\n",
              "      <th>mobile</th>\n",
              "      <td>0.676604</td>\n",
              "      <td>0.646672</td>\n",
              "      <td>0.175743</td>\n",
              "    </tr>\n",
              "    <tr>\n",
              "      <th>sr311</th>\n",
              "      <td>0.869460</td>\n",
              "      <td>0.863358</td>\n",
              "      <td>-0.056116</td>\n",
              "    </tr>\n",
              "  </tbody>\n",
              "</table>\n",
              "</div>"
            ],
            "text/plain": [
              "          population  residential   working\n",
              "taxi       -0.064720     0.049633  0.719559\n",
              "subway     -0.232504    -0.141712  0.720643\n",
              "citibike   -0.126996     0.011210  0.319030\n",
              "twitter    -0.032551     0.017787  0.626458\n",
              "mobile      0.676604     0.646672  0.175743\n",
              "sr311       0.869460     0.863358 -0.056116"
            ]
          },
          "metadata": {
            "tags": []
          },
          "execution_count": 73
        }
      ]
    },
    {
      "cell_type": "markdown",
      "metadata": {
        "id": "BbOqkDnnT36Y",
        "colab_type": "text"
      },
      "source": [
        "Now we can implement a regression for urban activities a) vs population and b) vs LEHD residential and working population taken as separate regressors"
      ]
    },
    {
      "cell_type": "code",
      "metadata": {
        "id": "ZBIQRt8GG6px",
        "colab_type": "code",
        "colab": {}
      },
      "source": [
        "tdata=gpd.read_file('/content/drive/My Drive/Untitled folder/taxi_zones.shp')"
      ],
      "execution_count": 0,
      "outputs": []
    },
    {
      "cell_type": "markdown",
      "metadata": {
        "id": "rKellePZT36Y",
        "colab_type": "text"
      },
      "source": [
        "### Homework task 3: \n",
        "Q1. Implement all regressions of each activity vs residential and working population, no intercept in a cycle.\n",
        "Create two bar plots of a) R2's b) coefficients "
      ]
    },
    {
      "cell_type": "code",
      "metadata": {
        "id": "xqSFJyMGW-nC",
        "colab_type": "code",
        "outputId": "53556dc8-656e-4a95-c441-7882eb290a42",
        "colab": {
          "base_uri": "https://localhost:8080/",
          "height": 468
        }
      },
      "source": [
        "\n",
        "data = []\n",
        "\n",
        "for x in ['taxi','subway','citibike','twitter','mobile','sr311']:\n",
        "  lm = smf.ols(formula= x+'~residential+working-1', data = SMdata).fit()\n",
        "  coef = lm.params.tolist()\n",
        "  r2 = lm.rsquared\n",
        "  coef.append(r2)\n",
        "  data.append(coef)\n",
        "\n",
        "\n",
        "dataframe_temp = pd.DataFrame(data=data, index=['taxi','subway','citibike','twitter','mobile','sr311'], columns=['Residential','Working','R2'])\n",
        "\n",
        "\n",
        "fig = plt.figure(figsize=(26,15))\n",
        "ax1 = fig.add_subplot(2,1,1)\n",
        "ax1.set_title('R2 Chart')\n",
        "sns.barplot(y=dataframe_temp.index, x=dataframe_temp['R2'], ax=ax1, palette = \"Paired\", orient=\"h\")\n"
      ],
      "execution_count": 0,
      "outputs": [
        {
          "output_type": "execute_result",
          "data": {
            "text/plain": [
              "<matplotlib.axes._subplots.AxesSubplot at 0x7f6714e7da58>"
            ]
          },
          "metadata": {
            "tags": []
          },
          "execution_count": 228
        },
        {
          "output_type": "display_data",
          "data": {
            "image/png": "[encoded data removed]",
            "text/plain": [
              "<Figure size 1872x1080 with 1 Axes>"
            ]
          },
          "metadata": {
            "tags": []
          }
        }
      ]
    },
    {
      "cell_type": "code",
      "metadata": {
        "id": "H7QoXv7KwM5P",
        "colab_type": "code",
        "outputId": "b04c3f92-09c1-4c13-f8f4-2c980b44553e",
        "colab": {
          "base_uri": "https://localhost:8080/",
          "height": 896
        }
      },
      "source": [
        "\n",
        "fig = plt.figure(figsize=(12,12))\n",
        "ax2 = fig.add_subplot(2,1,2)\n",
        "ax2.set_title('Coef Chart(LOG SCALE)')\n",
        "ax2.set(yscale=\"log\")\n",
        "dataframe_temp.plot.bar(ax=ax2, legend = True, subplots = True)"
      ],
      "execution_count": 0,
      "outputs": [
        {
          "output_type": "stream",
          "text": [
            "/usr/local/lib/python3.6/dist-packages/pandas/plotting/_core.py:1801: UserWarning:\n",
            "\n",
            "To output multiple subplots, the figure containing the passed axes is being cleared\n",
            "\n"
          ],
          "name": "stderr"
        },
        {
          "output_type": "execute_result",
          "data": {
            "text/plain": [
              "array([<matplotlib.axes._subplots.AxesSubplot object at 0x7f671474e518>,\n",
              "       <matplotlib.axes._subplots.AxesSubplot object at 0x7f6714727e80>,\n",
              "       <matplotlib.axes._subplots.AxesSubplot object at 0x7f67146d6128>],\n",
              "      dtype=object)"
            ]
          },
          "metadata": {
            "tags": []
          },
          "execution_count": 218
        },
        {
          "output_type": "display_data",
          "data": {
            "image/png": "[encoded data removed]",
            "text/plain": [
              "<Figure size 864x864 with 3 Axes>"
            ]
          },
          "metadata": {
            "tags": []
          }
        }
      ]
    },
    {
      "cell_type": "markdown",
      "metadata": {
        "id": "fMyNEUI-T36Z",
        "colab_type": "text"
      },
      "source": [
        "\n",
        "Q2. Create a heatmap of the **log-ratios** between actual taxi ridership vs regression prediction to see where ridership is over/underestimated. Use taxi zones shapefile included in the data"
      ]
    },
    {
      "cell_type": "code",
      "metadata": {
        "id": "TSNy1cDqT36a",
        "colab_type": "code",
        "outputId": "113e8312-1584-488c-fc0c-4abf1fb89ac5",
        "colab": {
          "base_uri": "https://localhost:8080/",
          "height": 342
        }
      },
      "source": [
        "\n",
        "lm1 = smf.ols(formula= 'taxi~residential+working', data = SMdata).fit()\n",
        "\n",
        "\n",
        "SMdata['taxi prediction']  = lm1.predict()\n",
        "\n",
        "tdata['taxi'] = tdata.LocationID.map({tz:SMdata['taxi'][tz] for tz in SMdata.index})\n",
        "tdata['taxi prediction'] = tdata.LocationID.map({tz:SMdata['taxi prediction'][tz] for tz in SMdata.index})\n",
        "\n",
        "tdata.dropna(inplace=True)\n",
        "\n",
        "\n",
        "tdata['LRT'] = np.log1p(tdata['taxi'] / tdata['taxi prediction'])\n",
        "tdata.head()\n"
      ],
      "execution_count": 0,
      "outputs": [
        {
          "output_type": "execute_result",
          "data": {
            "text/html": [
              "<div>\n",
              "<style scoped>\n",
              "    .dataframe tbody tr th:only-of-type {\n",
              "        vertical-align: middle;\n",
              "    }\n",
              "\n",
              "    .dataframe tbody tr th {\n",
              "        vertical-align: top;\n",
              "    }\n",
              "\n",
              "    .dataframe thead th {\n",
              "        text-align: right;\n",
              "    }\n",
              "</style>\n",
              "<table border=\"1\" class=\"dataframe\">\n",
              "  <thead>\n",
              "    <tr style=\"text-align: right;\">\n",
              "      <th></th>\n",
              "      <th>OBJECTID</th>\n",
              "      <th>Shape_Leng</th>\n",
              "      <th>Shape_Area</th>\n",
              "      <th>zone</th>\n",
              "      <th>LocationID</th>\n",
              "      <th>borough</th>\n",
              "      <th>geometry</th>\n",
              "      <th>taxi prediction_x</th>\n",
              "      <th>taxi prediction_y</th>\n",
              "      <th>taxi_x</th>\n",
              "      <th>taxi prediction</th>\n",
              "      <th>taxi_y</th>\n",
              "      <th>LRT</th>\n",
              "      <th>taxi</th>\n",
              "    </tr>\n",
              "  </thead>\n",
              "  <tbody>\n",
              "    <tr>\n",
              "      <th>3</th>\n",
              "      <td>4</td>\n",
              "      <td>0.043567</td>\n",
              "      <td>0.000112</td>\n",
              "      <td>Alphabet City</td>\n",
              "      <td>4</td>\n",
              "      <td>Manhattan</td>\n",
              "      <td>POLYGON ((992073.467 203714.076, 992068.667 20...</td>\n",
              "      <td>61715.911159</td>\n",
              "      <td>61715.911159</td>\n",
              "      <td>178515</td>\n",
              "      <td>78210.142610</td>\n",
              "      <td>178515</td>\n",
              "      <td>1.188607</td>\n",
              "      <td>178515</td>\n",
              "    </tr>\n",
              "    <tr>\n",
              "      <th>4</th>\n",
              "      <td>5</td>\n",
              "      <td>0.092146</td>\n",
              "      <td>0.000498</td>\n",
              "      <td>Arden Heights</td>\n",
              "      <td>5</td>\n",
              "      <td>Staten Island</td>\n",
              "      <td>POLYGON ((935843.310 144283.336, 936046.565 14...</td>\n",
              "      <td>46023.718234</td>\n",
              "      <td>46023.718234</td>\n",
              "      <td>3667</td>\n",
              "      <td>65423.057056</td>\n",
              "      <td>3667</td>\n",
              "      <td>0.054536</td>\n",
              "      <td>3667</td>\n",
              "    </tr>\n",
              "    <tr>\n",
              "      <th>5</th>\n",
              "      <td>6</td>\n",
              "      <td>0.150491</td>\n",
              "      <td>0.000606</td>\n",
              "      <td>Arrochar/Fort Wadsworth</td>\n",
              "      <td>6</td>\n",
              "      <td>Staten Island</td>\n",
              "      <td>POLYGON ((966568.747 158679.855, 966615.256 15...</td>\n",
              "      <td>40428.367697</td>\n",
              "      <td>40428.367697</td>\n",
              "      <td>7456</td>\n",
              "      <td>65843.300526</td>\n",
              "      <td>7456</td>\n",
              "      <td>0.107273</td>\n",
              "      <td>7456</td>\n",
              "    </tr>\n",
              "    <tr>\n",
              "      <th>6</th>\n",
              "      <td>7</td>\n",
              "      <td>0.107417</td>\n",
              "      <td>0.000390</td>\n",
              "      <td>Astoria</td>\n",
              "      <td>7</td>\n",
              "      <td>Queens</td>\n",
              "      <td>POLYGON ((1010804.218 218919.641, 1011049.165 ...</td>\n",
              "      <td>267016.142455</td>\n",
              "      <td>267016.142455</td>\n",
              "      <td>362180</td>\n",
              "      <td>230794.969536</td>\n",
              "      <td>362180</td>\n",
              "      <td>0.943622</td>\n",
              "      <td>362180</td>\n",
              "    </tr>\n",
              "    <tr>\n",
              "      <th>7</th>\n",
              "      <td>8</td>\n",
              "      <td>0.027591</td>\n",
              "      <td>0.000027</td>\n",
              "      <td>Astoria Park</td>\n",
              "      <td>8</td>\n",
              "      <td>Queens</td>\n",
              "      <td>POLYGON ((1005482.276 221686.466, 1005304.898 ...</td>\n",
              "      <td>611.907417</td>\n",
              "      <td>611.907417</td>\n",
              "      <td>2900</td>\n",
              "      <td>37137.977350</td>\n",
              "      <td>2900</td>\n",
              "      <td>0.075188</td>\n",
              "      <td>2900</td>\n",
              "    </tr>\n",
              "  </tbody>\n",
              "</table>\n",
              "</div>"
            ],
            "text/plain": [
              "   OBJECTID  Shape_Leng  Shape_Area  ...  taxi_y       LRT    taxi\n",
              "3         4    0.043567    0.000112  ...  178515  1.188607  178515\n",
              "4         5    0.092146    0.000498  ...    3667  0.054536    3667\n",
              "5         6    0.150491    0.000606  ...    7456  0.107273    7456\n",
              "6         7    0.107417    0.000390  ...  362180  0.943622  362180\n",
              "7         8    0.027591    0.000027  ...    2900  0.075188    2900\n",
              "\n",
              "[5 rows x 14 columns]"
            ]
          },
          "metadata": {
            "tags": []
          },
          "execution_count": 143
        }
      ]
    },
    {
      "cell_type": "code",
      "metadata": {
        "id": "_mRSmlxYA-Ed",
        "colab_type": "code",
        "outputId": "f042765e-b775-4a2f-9cca-c85077cd4381",
        "colab": {
          "base_uri": "https://localhost:8080/",
          "height": 712
        }
      },
      "source": [
        "f, ax = plt.subplots(figsize=(12, 12))\n",
        "ax.set_title(\"Prediction\", fontsize=18)\n",
        "tdata.plot(ax=ax, column='LRT',legend = True)"
      ],
      "execution_count": 0,
      "outputs": [
        {
          "output_type": "execute_result",
          "data": {
            "text/plain": [
              "<matplotlib.axes._subplots.AxesSubplot at 0x7f671eb5d3c8>"
            ]
          },
          "metadata": {
            "tags": []
          },
          "execution_count": 138
        },
        {
          "output_type": "display_data",
          "data": {
            "image/png": "[encoded data removed]",
            "text/plain": [
              "<Figure size 864x864 with 2 Axes>"
            ]
          },
          "metadata": {
            "tags": []
          }
        }
      ]
    },
    {
      "cell_type": "code",
      "metadata": {
        "id": "qq44J3ceAG-2",
        "colab_type": "code",
        "colab": {}
      },
      "source": [
        ""
      ],
      "execution_count": 0,
      "outputs": []
    },
    {
      "cell_type": "code",
      "metadata": {
        "id": "PbF7z3IkBJG0",
        "colab_type": "code",
        "colab": {}
      },
      "source": [
        ""
      ],
      "execution_count": 0,
      "outputs": []
    },
    {
      "cell_type": "code",
      "metadata": {
        "id": "cxwt6oxoBjvI",
        "colab_type": "code",
        "colab": {}
      },
      "source": [
        ""
      ],
      "execution_count": 0,
      "outputs": []
    }
  ]
}