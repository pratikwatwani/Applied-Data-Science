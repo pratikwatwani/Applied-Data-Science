{
  "nbformat": 4,
  "nbformat_minor": 0,
  "metadata": {
    "kernelspec": {
      "display_name": "Python 2",
      "language": "python",
      "name": "python2"
    },
    "language_info": {
      "codemirror_mode": {
        "name": "ipython",
        "version": 2
      },
      "file_extension": ".py",
      "mimetype": "text/x-python",
      "name": "python",
      "nbconvert_exporter": "python",
      "pygments_lexer": "ipython2",
      "version": "2.7.15"
    },
    "colab": {
      "name": "PCA, Logistic Regression and Time Series Analysis.ipynb",
      "provenance": [],
      "collapsed_sections": [],
      "include_colab_link": true
    }
  },
  "cells": [
    {
      "cell_type": "markdown",
      "metadata": {
        "id": "view-in-github",
        "colab_type": "text"
      },
      "source": [
        "<a href=\"https://colab.research.google.com/github/pratikwatwani/Applied-Data-Science/blob/master/Session%2008%20and%20Session%2009/PCA%2C%20Logistic%20Regression%20and%20Time%20Series%20Analysis.ipynb\" target=\"_parent\"><img src=\"https://colab.research.google.com/assets/colab-badge.svg\" alt=\"Open In Colab\"/></a>"
      ]
    },
    {
      "cell_type": "markdown",
      "metadata": {
        "id": "2ArqAvWn2V9F",
        "colab_type": "text"
      },
      "source": [
        "## Task 1. Visualization of Hand-Written Digits\n",
        "\n",
        "As one of the examples sklearn provides a dataset of handwritten digits. This data includes impages of 1787 digits. For each digit, we have 64 variables x1,x2,...x64, each one representing a pixel (grayscale from 0 to 16) on the 8x8 image. The label (y) for each image is the actual digit it represents from 0 to 9.  "
      ]
    },
    {
      "cell_type": "code",
      "metadata": {
        "id": "H4ssRmj82V9K",
        "colab_type": "code",
        "colab": {}
      },
      "source": [
        "import numpy as np\n",
        "import matplotlib.pyplot as plt\n",
        "import pandas as pd\n",
        "import matplotlib.pyplot as plt\n",
        "%matplotlib inline\n",
        "import statsmodels.formula.api as smf\n",
        "from scipy.stats import t\n",
        "from sklearn import preprocessing\n",
        "from matplotlib.dates import DateFormatter\n",
        "import statsmodels.api as sm\n",
        "from sklearn.preprocessing import StandardScaler\n",
        "from sklearn.decomposition import PCA\n",
        "from sklearn.linear_model import LogisticRegression\n",
        "\n",
        "import warnings\n",
        "warnings.filterwarnings(\"ignore\")"
      ],
      "execution_count": 0,
      "outputs": []
    },
    {
      "cell_type": "code",
      "metadata": {
        "id": "fWR20qN72V9a",
        "colab_type": "code",
        "outputId": "10fb4286-35a0-45af-b346-32005b02e035",
        "colab": {
          "base_uri": "https://localhost:8080/",
          "height": 224
        }
      },
      "source": [
        "#Load the data\n",
        "import numpy as np\n",
        "import pandas as pd\n",
        "from sklearn.datasets import load_digits\n",
        "digits = load_digits()\n",
        "X = digits.data # the digits data\n",
        "y = digits.target # the labels for the digits. This label is only used for coloring the points.\n",
        "#Make a dataframe\n",
        "data=pd.DataFrame(np.concatenate((y.reshape(len(y),1),X),axis=1))\n",
        "data.columns=[\"y\"]+[\"x{}\".format(i) for i in range(1,65)]\n",
        "data.head()"
      ],
      "execution_count": 2,
      "outputs": [
        {
          "output_type": "execute_result",
          "data": {
            "text/html": [
              "<div>\n",
              "<style scoped>\n",
              "    .dataframe tbody tr th:only-of-type {\n",
              "        vertical-align: middle;\n",
              "    }\n",
              "\n",
              "    .dataframe tbody tr th {\n",
              "        vertical-align: top;\n",
              "    }\n",
              "\n",
              "    .dataframe thead th {\n",
              "        text-align: right;\n",
              "    }\n",
              "</style>\n",
              "<table border=\"1\" class=\"dataframe\">\n",
              "  <thead>\n",
              "    <tr style=\"text-align: right;\">\n",
              "      <th></th>\n",
              "      <th>y</th>\n",
              "      <th>x1</th>\n",
              "      <th>x2</th>\n",
              "      <th>x3</th>\n",
              "      <th>x4</th>\n",
              "      <th>x5</th>\n",
              "      <th>x6</th>\n",
              "      <th>x7</th>\n",
              "      <th>x8</th>\n",
              "      <th>x9</th>\n",
              "      <th>x10</th>\n",
              "      <th>x11</th>\n",
              "      <th>x12</th>\n",
              "      <th>x13</th>\n",
              "      <th>x14</th>\n",
              "      <th>x15</th>\n",
              "      <th>x16</th>\n",
              "      <th>x17</th>\n",
              "      <th>x18</th>\n",
              "      <th>x19</th>\n",
              "      <th>x20</th>\n",
              "      <th>x21</th>\n",
              "      <th>x22</th>\n",
              "      <th>x23</th>\n",
              "      <th>x24</th>\n",
              "      <th>x25</th>\n",
              "      <th>x26</th>\n",
              "      <th>x27</th>\n",
              "      <th>x28</th>\n",
              "      <th>x29</th>\n",
              "      <th>x30</th>\n",
              "      <th>x31</th>\n",
              "      <th>x32</th>\n",
              "      <th>x33</th>\n",
              "      <th>x34</th>\n",
              "      <th>x35</th>\n",
              "      <th>x36</th>\n",
              "      <th>x37</th>\n",
              "      <th>x38</th>\n",
              "      <th>x39</th>\n",
              "      <th>x40</th>\n",
              "      <th>x41</th>\n",
              "      <th>x42</th>\n",
              "      <th>x43</th>\n",
              "      <th>x44</th>\n",
              "      <th>x45</th>\n",
              "      <th>x46</th>\n",
              "      <th>x47</th>\n",
              "      <th>x48</th>\n",
              "      <th>x49</th>\n",
              "      <th>x50</th>\n",
              "      <th>x51</th>\n",
              "      <th>x52</th>\n",
              "      <th>x53</th>\n",
              "      <th>x54</th>\n",
              "      <th>x55</th>\n",
              "      <th>x56</th>\n",
              "      <th>x57</th>\n",
              "      <th>x58</th>\n",
              "      <th>x59</th>\n",
              "      <th>x60</th>\n",
              "      <th>x61</th>\n",
              "      <th>x62</th>\n",
              "      <th>x63</th>\n",
              "      <th>x64</th>\n",
              "    </tr>\n",
              "  </thead>\n",
              "  <tbody>\n",
              "    <tr>\n",
              "      <th>0</th>\n",
              "      <td>0.0</td>\n",
              "      <td>0.0</td>\n",
              "      <td>0.0</td>\n",
              "      <td>5.0</td>\n",
              "      <td>13.0</td>\n",
              "      <td>9.0</td>\n",
              "      <td>1.0</td>\n",
              "      <td>0.0</td>\n",
              "      <td>0.0</td>\n",
              "      <td>0.0</td>\n",
              "      <td>0.0</td>\n",
              "      <td>13.0</td>\n",
              "      <td>15.0</td>\n",
              "      <td>10.0</td>\n",
              "      <td>15.0</td>\n",
              "      <td>5.0</td>\n",
              "      <td>0.0</td>\n",
              "      <td>0.0</td>\n",
              "      <td>3.0</td>\n",
              "      <td>15.0</td>\n",
              "      <td>2.0</td>\n",
              "      <td>0.0</td>\n",
              "      <td>11.0</td>\n",
              "      <td>8.0</td>\n",
              "      <td>0.0</td>\n",
              "      <td>0.0</td>\n",
              "      <td>4.0</td>\n",
              "      <td>12.0</td>\n",
              "      <td>0.0</td>\n",
              "      <td>0.0</td>\n",
              "      <td>8.0</td>\n",
              "      <td>8.0</td>\n",
              "      <td>0.0</td>\n",
              "      <td>0.0</td>\n",
              "      <td>5.0</td>\n",
              "      <td>8.0</td>\n",
              "      <td>0.0</td>\n",
              "      <td>0.0</td>\n",
              "      <td>9.0</td>\n",
              "      <td>8.0</td>\n",
              "      <td>0.0</td>\n",
              "      <td>0.0</td>\n",
              "      <td>4.0</td>\n",
              "      <td>11.0</td>\n",
              "      <td>0.0</td>\n",
              "      <td>1.0</td>\n",
              "      <td>12.0</td>\n",
              "      <td>7.0</td>\n",
              "      <td>0.0</td>\n",
              "      <td>0.0</td>\n",
              "      <td>2.0</td>\n",
              "      <td>14.0</td>\n",
              "      <td>5.0</td>\n",
              "      <td>10.0</td>\n",
              "      <td>12.0</td>\n",
              "      <td>0.0</td>\n",
              "      <td>0.0</td>\n",
              "      <td>0.0</td>\n",
              "      <td>0.0</td>\n",
              "      <td>6.0</td>\n",
              "      <td>13.0</td>\n",
              "      <td>10.0</td>\n",
              "      <td>0.0</td>\n",
              "      <td>0.0</td>\n",
              "      <td>0.0</td>\n",
              "    </tr>\n",
              "    <tr>\n",
              "      <th>1</th>\n",
              "      <td>1.0</td>\n",
              "      <td>0.0</td>\n",
              "      <td>0.0</td>\n",
              "      <td>0.0</td>\n",
              "      <td>12.0</td>\n",
              "      <td>13.0</td>\n",
              "      <td>5.0</td>\n",
              "      <td>0.0</td>\n",
              "      <td>0.0</td>\n",
              "      <td>0.0</td>\n",
              "      <td>0.0</td>\n",
              "      <td>0.0</td>\n",
              "      <td>11.0</td>\n",
              "      <td>16.0</td>\n",
              "      <td>9.0</td>\n",
              "      <td>0.0</td>\n",
              "      <td>0.0</td>\n",
              "      <td>0.0</td>\n",
              "      <td>0.0</td>\n",
              "      <td>3.0</td>\n",
              "      <td>15.0</td>\n",
              "      <td>16.0</td>\n",
              "      <td>6.0</td>\n",
              "      <td>0.0</td>\n",
              "      <td>0.0</td>\n",
              "      <td>0.0</td>\n",
              "      <td>7.0</td>\n",
              "      <td>15.0</td>\n",
              "      <td>16.0</td>\n",
              "      <td>16.0</td>\n",
              "      <td>2.0</td>\n",
              "      <td>0.0</td>\n",
              "      <td>0.0</td>\n",
              "      <td>0.0</td>\n",
              "      <td>0.0</td>\n",
              "      <td>1.0</td>\n",
              "      <td>16.0</td>\n",
              "      <td>16.0</td>\n",
              "      <td>3.0</td>\n",
              "      <td>0.0</td>\n",
              "      <td>0.0</td>\n",
              "      <td>0.0</td>\n",
              "      <td>0.0</td>\n",
              "      <td>1.0</td>\n",
              "      <td>16.0</td>\n",
              "      <td>16.0</td>\n",
              "      <td>6.0</td>\n",
              "      <td>0.0</td>\n",
              "      <td>0.0</td>\n",
              "      <td>0.0</td>\n",
              "      <td>0.0</td>\n",
              "      <td>1.0</td>\n",
              "      <td>16.0</td>\n",
              "      <td>16.0</td>\n",
              "      <td>6.0</td>\n",
              "      <td>0.0</td>\n",
              "      <td>0.0</td>\n",
              "      <td>0.0</td>\n",
              "      <td>0.0</td>\n",
              "      <td>0.0</td>\n",
              "      <td>11.0</td>\n",
              "      <td>16.0</td>\n",
              "      <td>10.0</td>\n",
              "      <td>0.0</td>\n",
              "      <td>0.0</td>\n",
              "    </tr>\n",
              "    <tr>\n",
              "      <th>2</th>\n",
              "      <td>2.0</td>\n",
              "      <td>0.0</td>\n",
              "      <td>0.0</td>\n",
              "      <td>0.0</td>\n",
              "      <td>4.0</td>\n",
              "      <td>15.0</td>\n",
              "      <td>12.0</td>\n",
              "      <td>0.0</td>\n",
              "      <td>0.0</td>\n",
              "      <td>0.0</td>\n",
              "      <td>0.0</td>\n",
              "      <td>3.0</td>\n",
              "      <td>16.0</td>\n",
              "      <td>15.0</td>\n",
              "      <td>14.0</td>\n",
              "      <td>0.0</td>\n",
              "      <td>0.0</td>\n",
              "      <td>0.0</td>\n",
              "      <td>0.0</td>\n",
              "      <td>8.0</td>\n",
              "      <td>13.0</td>\n",
              "      <td>8.0</td>\n",
              "      <td>16.0</td>\n",
              "      <td>0.0</td>\n",
              "      <td>0.0</td>\n",
              "      <td>0.0</td>\n",
              "      <td>0.0</td>\n",
              "      <td>1.0</td>\n",
              "      <td>6.0</td>\n",
              "      <td>15.0</td>\n",
              "      <td>11.0</td>\n",
              "      <td>0.0</td>\n",
              "      <td>0.0</td>\n",
              "      <td>0.0</td>\n",
              "      <td>1.0</td>\n",
              "      <td>8.0</td>\n",
              "      <td>13.0</td>\n",
              "      <td>15.0</td>\n",
              "      <td>1.0</td>\n",
              "      <td>0.0</td>\n",
              "      <td>0.0</td>\n",
              "      <td>0.0</td>\n",
              "      <td>9.0</td>\n",
              "      <td>16.0</td>\n",
              "      <td>16.0</td>\n",
              "      <td>5.0</td>\n",
              "      <td>0.0</td>\n",
              "      <td>0.0</td>\n",
              "      <td>0.0</td>\n",
              "      <td>0.0</td>\n",
              "      <td>3.0</td>\n",
              "      <td>13.0</td>\n",
              "      <td>16.0</td>\n",
              "      <td>16.0</td>\n",
              "      <td>11.0</td>\n",
              "      <td>5.0</td>\n",
              "      <td>0.0</td>\n",
              "      <td>0.0</td>\n",
              "      <td>0.0</td>\n",
              "      <td>0.0</td>\n",
              "      <td>3.0</td>\n",
              "      <td>11.0</td>\n",
              "      <td>16.0</td>\n",
              "      <td>9.0</td>\n",
              "      <td>0.0</td>\n",
              "    </tr>\n",
              "    <tr>\n",
              "      <th>3</th>\n",
              "      <td>3.0</td>\n",
              "      <td>0.0</td>\n",
              "      <td>0.0</td>\n",
              "      <td>7.0</td>\n",
              "      <td>15.0</td>\n",
              "      <td>13.0</td>\n",
              "      <td>1.0</td>\n",
              "      <td>0.0</td>\n",
              "      <td>0.0</td>\n",
              "      <td>0.0</td>\n",
              "      <td>8.0</td>\n",
              "      <td>13.0</td>\n",
              "      <td>6.0</td>\n",
              "      <td>15.0</td>\n",
              "      <td>4.0</td>\n",
              "      <td>0.0</td>\n",
              "      <td>0.0</td>\n",
              "      <td>0.0</td>\n",
              "      <td>2.0</td>\n",
              "      <td>1.0</td>\n",
              "      <td>13.0</td>\n",
              "      <td>13.0</td>\n",
              "      <td>0.0</td>\n",
              "      <td>0.0</td>\n",
              "      <td>0.0</td>\n",
              "      <td>0.0</td>\n",
              "      <td>0.0</td>\n",
              "      <td>2.0</td>\n",
              "      <td>15.0</td>\n",
              "      <td>11.0</td>\n",
              "      <td>1.0</td>\n",
              "      <td>0.0</td>\n",
              "      <td>0.0</td>\n",
              "      <td>0.0</td>\n",
              "      <td>0.0</td>\n",
              "      <td>0.0</td>\n",
              "      <td>1.0</td>\n",
              "      <td>12.0</td>\n",
              "      <td>12.0</td>\n",
              "      <td>1.0</td>\n",
              "      <td>0.0</td>\n",
              "      <td>0.0</td>\n",
              "      <td>0.0</td>\n",
              "      <td>0.0</td>\n",
              "      <td>0.0</td>\n",
              "      <td>1.0</td>\n",
              "      <td>10.0</td>\n",
              "      <td>8.0</td>\n",
              "      <td>0.0</td>\n",
              "      <td>0.0</td>\n",
              "      <td>0.0</td>\n",
              "      <td>8.0</td>\n",
              "      <td>4.0</td>\n",
              "      <td>5.0</td>\n",
              "      <td>14.0</td>\n",
              "      <td>9.0</td>\n",
              "      <td>0.0</td>\n",
              "      <td>0.0</td>\n",
              "      <td>0.0</td>\n",
              "      <td>7.0</td>\n",
              "      <td>13.0</td>\n",
              "      <td>13.0</td>\n",
              "      <td>9.0</td>\n",
              "      <td>0.0</td>\n",
              "      <td>0.0</td>\n",
              "    </tr>\n",
              "    <tr>\n",
              "      <th>4</th>\n",
              "      <td>4.0</td>\n",
              "      <td>0.0</td>\n",
              "      <td>0.0</td>\n",
              "      <td>0.0</td>\n",
              "      <td>1.0</td>\n",
              "      <td>11.0</td>\n",
              "      <td>0.0</td>\n",
              "      <td>0.0</td>\n",
              "      <td>0.0</td>\n",
              "      <td>0.0</td>\n",
              "      <td>0.0</td>\n",
              "      <td>0.0</td>\n",
              "      <td>7.0</td>\n",
              "      <td>8.0</td>\n",
              "      <td>0.0</td>\n",
              "      <td>0.0</td>\n",
              "      <td>0.0</td>\n",
              "      <td>0.0</td>\n",
              "      <td>0.0</td>\n",
              "      <td>1.0</td>\n",
              "      <td>13.0</td>\n",
              "      <td>6.0</td>\n",
              "      <td>2.0</td>\n",
              "      <td>2.0</td>\n",
              "      <td>0.0</td>\n",
              "      <td>0.0</td>\n",
              "      <td>0.0</td>\n",
              "      <td>7.0</td>\n",
              "      <td>15.0</td>\n",
              "      <td>0.0</td>\n",
              "      <td>9.0</td>\n",
              "      <td>8.0</td>\n",
              "      <td>0.0</td>\n",
              "      <td>0.0</td>\n",
              "      <td>5.0</td>\n",
              "      <td>16.0</td>\n",
              "      <td>10.0</td>\n",
              "      <td>0.0</td>\n",
              "      <td>16.0</td>\n",
              "      <td>6.0</td>\n",
              "      <td>0.0</td>\n",
              "      <td>0.0</td>\n",
              "      <td>4.0</td>\n",
              "      <td>15.0</td>\n",
              "      <td>16.0</td>\n",
              "      <td>13.0</td>\n",
              "      <td>16.0</td>\n",
              "      <td>1.0</td>\n",
              "      <td>0.0</td>\n",
              "      <td>0.0</td>\n",
              "      <td>0.0</td>\n",
              "      <td>0.0</td>\n",
              "      <td>3.0</td>\n",
              "      <td>15.0</td>\n",
              "      <td>10.0</td>\n",
              "      <td>0.0</td>\n",
              "      <td>0.0</td>\n",
              "      <td>0.0</td>\n",
              "      <td>0.0</td>\n",
              "      <td>0.0</td>\n",
              "      <td>2.0</td>\n",
              "      <td>16.0</td>\n",
              "      <td>4.0</td>\n",
              "      <td>0.0</td>\n",
              "      <td>0.0</td>\n",
              "    </tr>\n",
              "  </tbody>\n",
              "</table>\n",
              "</div>"
            ],
            "text/plain": [
              "     y   x1   x2   x3    x4    x5    x6  ...  x58  x59   x60   x61   x62  x63  x64\n",
              "0  0.0  0.0  0.0  5.0  13.0   9.0   1.0  ...  0.0  6.0  13.0  10.0   0.0  0.0  0.0\n",
              "1  1.0  0.0  0.0  0.0  12.0  13.0   5.0  ...  0.0  0.0  11.0  16.0  10.0  0.0  0.0\n",
              "2  2.0  0.0  0.0  0.0   4.0  15.0  12.0  ...  0.0  0.0   3.0  11.0  16.0  9.0  0.0\n",
              "3  3.0  0.0  0.0  7.0  15.0  13.0   1.0  ...  0.0  7.0  13.0  13.0   9.0  0.0  0.0\n",
              "4  4.0  0.0  0.0  0.0   1.0  11.0   0.0  ...  0.0  0.0   2.0  16.0   4.0  0.0  0.0\n",
              "\n",
              "[5 rows x 65 columns]"
            ]
          },
          "metadata": {
            "tags": []
          },
          "execution_count": 2
        }
      ]
    },
    {
      "cell_type": "code",
      "metadata": {
        "id": "GIcuanVr2V9p",
        "colab_type": "code",
        "outputId": "d4c84d66-2461-478c-a087-ea2abdbd81cf",
        "colab": {
          "base_uri": "https://localhost:8080/",
          "height": 34
        }
      },
      "source": [
        "#original image data is a 2D array\n",
        "X.shape"
      ],
      "execution_count": 3,
      "outputs": [
        {
          "output_type": "execute_result",
          "data": {
            "text/plain": [
              "(1797, 64)"
            ]
          },
          "metadata": {
            "tags": []
          },
          "execution_count": 3
        }
      ]
    },
    {
      "cell_type": "code",
      "metadata": {
        "id": "m6tzMvTm2V95",
        "colab_type": "code",
        "colab": {}
      },
      "source": [
        "#split data into training, validation and test samples\n",
        "X1=X[:1000,:]; y1=y[:1000]\n",
        "X2=X[1000:-300,:]; y2=y[1000:-300]\n",
        "X3=X[-300:,:]; y3=y[-300:]"
      ],
      "execution_count": 0,
      "outputs": []
    },
    {
      "cell_type": "markdown",
      "metadata": {
        "id": "qZZTixY52V-C",
        "colab_type": "text"
      },
      "source": [
        "#### If we take the first 10 observations and reconstruct the graph and we could see:  "
      ]
    },
    {
      "cell_type": "code",
      "metadata": {
        "scrolled": true,
        "id": "8e-aU9342V-F",
        "colab_type": "code",
        "outputId": "6b1f40d8-84d1-438d-aa69-6381f2c6626c",
        "colab": {
          "base_uri": "https://localhost:8080/",
          "height": 116
        }
      },
      "source": [
        "#plot the digits using imshow from matplotlib\n",
        "plt.figure(figsize=(10,1))\n",
        "print(\"Label:{}\".format(list(y[:10])))\n",
        "for i in range(10):\n",
        "    plt.subplot(1,10,i+1)\n",
        "    plt.imshow(X[i].reshape(8,8), cmap=plt.cm.gray_r)\n",
        "plt.show()"
      ],
      "execution_count": 5,
      "outputs": [
        {
          "output_type": "stream",
          "text": [
            "Label:[0, 1, 2, 3, 4, 5, 6, 7, 8, 9]\n"
          ],
          "name": "stdout"
        },
        {
          "output_type": "display_data",
          "data": {
            "image/png": "[encoded data removed]",
            "text/plain": [
              "<Figure size 720x72 with 10 Axes>"
            ]
          },
          "metadata": {
            "tags": []
          }
        }
      ]
    },
    {
      "cell_type": "code",
      "metadata": {
        "id": "VQqawAseKdOq",
        "colab_type": "code",
        "outputId": "004d4877-bf95-4db5-c0b6-1c1d40a979d6",
        "colab": {
          "base_uri": "https://localhost:8080/",
          "height": 34
        }
      },
      "source": [
        "print(\"{},{},{}\".format(X1.shape[0],X2.shape[0],X3.shape[0]))"
      ],
      "execution_count": 6,
      "outputs": [
        {
          "output_type": "stream",
          "text": [
            "1000,497,300\n"
          ],
          "name": "stdout"
        }
      ]
    },
    {
      "cell_type": "markdown",
      "metadata": {
        "id": "fExaCNiN2V-M",
        "colab_type": "text"
      },
      "source": [
        "Now apply PCA to see if we can describe the data with a smaller number of most significant features"
      ]
    },
    {
      "cell_type": "markdown",
      "metadata": {
        "id": "rPhB2ABO2V-Q",
        "colab_type": "text"
      },
      "source": [
        "### Q1. Use PCA to transform the first 1000 digit images (X1). How many leading principal components are needed to cover a)50%, b)80% of the information from the original dataset?\n",
        "Make sure to standardize the data beofe applying PCA"
      ]
    },
    {
      "cell_type": "code",
      "metadata": {
        "id": "1BsG-wYfCin1",
        "colab_type": "code",
        "colab": {}
      },
      "source": [
        "#X is the original data set with 1797 rows, and 64 features\n",
        "#X1 is the training set with 1000 rows\n",
        "#X2 is the validation set with 497 rows\n",
        "#X3 is the testing set with 300 rows "
      ],
      "execution_count": 0,
      "outputs": []
    },
    {
      "cell_type": "code",
      "metadata": {
        "id": "FwgDzoA6OdDT",
        "colab_type": "code",
        "colab": {}
      },
      "source": [
        "scaler = StandardScaler()\n",
        "X1 = scaler.fit_transform(X1)"
      ],
      "execution_count": 0,
      "outputs": []
    },
    {
      "cell_type": "code",
      "metadata": {
        "id": "M0Fxrf-FK_g_",
        "colab_type": "code",
        "colab": {}
      },
      "source": [
        "u,s,v = np.linalg.svd(X1)"
      ],
      "execution_count": 0,
      "outputs": []
    },
    {
      "cell_type": "code",
      "metadata": {
        "id": "f7Zg_-XdLFEY",
        "colab_type": "code",
        "colab": {}
      },
      "source": [
        "var_dict = {}\n",
        "for k in range(0, 64):\n",
        "  var_dict[k] = (s[k]/s.sum())*100"
      ],
      "execution_count": 0,
      "outputs": []
    },
    {
      "cell_type": "code",
      "metadata": {
        "id": "rMKIodqTCn9Z",
        "colab_type": "code",
        "outputId": "04d3755a-f7e5-4697-bd14-cf144e6725d6",
        "colab": {
          "base_uri": "https://localhost:8080/",
          "height": 235
        }
      },
      "source": [
        "df = pd.DataFrame.from_dict(var_dict, orient = 'index', columns = ['Variance Retained'])\n",
        "df.index.name = 'Principal Component'\n",
        "df.head()"
      ],
      "execution_count": 11,
      "outputs": [
        {
          "output_type": "execute_result",
          "data": {
            "text/html": [
              "<div>\n",
              "<style scoped>\n",
              "    .dataframe tbody tr th:only-of-type {\n",
              "        vertical-align: middle;\n",
              "    }\n",
              "\n",
              "    .dataframe tbody tr th {\n",
              "        vertical-align: top;\n",
              "    }\n",
              "\n",
              "    .dataframe thead th {\n",
              "        text-align: right;\n",
              "    }\n",
              "</style>\n",
              "<table border=\"1\" class=\"dataframe\">\n",
              "  <thead>\n",
              "    <tr style=\"text-align: right;\">\n",
              "      <th></th>\n",
              "      <th>Variance Retained</th>\n",
              "    </tr>\n",
              "    <tr>\n",
              "      <th>Principal Component</th>\n",
              "      <th></th>\n",
              "    </tr>\n",
              "  </thead>\n",
              "  <tbody>\n",
              "    <tr>\n",
              "      <th>0</th>\n",
              "      <td>5.378238</td>\n",
              "    </tr>\n",
              "    <tr>\n",
              "      <th>1</th>\n",
              "      <td>4.818316</td>\n",
              "    </tr>\n",
              "    <tr>\n",
              "      <th>2</th>\n",
              "      <td>4.458901</td>\n",
              "    </tr>\n",
              "    <tr>\n",
              "      <th>3</th>\n",
              "      <td>4.123033</td>\n",
              "    </tr>\n",
              "    <tr>\n",
              "      <th>4</th>\n",
              "      <td>3.550910</td>\n",
              "    </tr>\n",
              "  </tbody>\n",
              "</table>\n",
              "</div>"
            ],
            "text/plain": [
              "                     Variance Retained\n",
              "Principal Component                   \n",
              "0                             5.378238\n",
              "1                             4.818316\n",
              "2                             4.458901\n",
              "3                             4.123033\n",
              "4                             3.550910"
            ]
          },
          "metadata": {
            "tags": []
          },
          "execution_count": 11
        }
      ]
    },
    {
      "cell_type": "code",
      "metadata": {
        "id": "4OQ4mJSOPBsv",
        "colab_type": "code",
        "colab": {}
      },
      "source": [
        "covar_matrix = PCA(n_components = 64)\n",
        "covar_matrix.fit_transform(X1)\n",
        "variance = covar_matrix.explained_variance_ratio_ \n",
        "var=np.cumsum(np.round(covar_matrix.explained_variance_ratio_, decimals=2)*100)"
      ],
      "execution_count": 0,
      "outputs": []
    },
    {
      "cell_type": "code",
      "metadata": {
        "id": "dCZwg5gyPasx",
        "colab_type": "code",
        "outputId": "7b4746b9-9885-4dfc-8f0b-b43798dd178e",
        "colab": {
          "base_uri": "https://localhost:8080/",
          "height": 102
        }
      },
      "source": [
        "var"
      ],
      "execution_count": 13,
      "outputs": [
        {
          "output_type": "execute_result",
          "data": {
            "text/plain": [
              "array([12., 22., 30., 37., 42., 46., 50., 53., 56., 59., 62., 64., 66.,\n",
              "       68., 70., 72., 74., 76., 78., 80., 81., 82., 83., 84., 85., 86.,\n",
              "       87., 88., 89., 90., 91., 92., 93., 94., 95., 96., 96., 96., 96.,\n",
              "       96., 96., 96., 96., 96., 96., 96., 96., 96., 96., 96., 96., 96.,\n",
              "       96., 96., 96., 96., 96., 96., 96., 96., 96., 96., 96., 96.])"
            ]
          },
          "metadata": {
            "tags": []
          },
          "execution_count": 13
        }
      ]
    },
    {
      "cell_type": "code",
      "metadata": {
        "id": "l0aNTtUheMPC",
        "colab_type": "code",
        "outputId": "b44f4d4c-49b1-4c5b-cc67-6821d7a768b2",
        "colab": {
          "base_uri": "https://localhost:8080/",
          "height": 645
        }
      },
      "source": [
        "fig, ax = plt.subplots(figsize = (20,10))\n",
        "ax.grid()\n",
        "#ax.set_yticks(ticks = np.arange(0,200,10))\n",
        "ax.set_xlim(xmin=0, xmax = 64)\n",
        "plt.plot(var, linewidth = 5, color = 'magenta')\n",
        "plt.plot(np.where(var ==50)[0][0], 50, marker='x', mew = 6,markersize=20, color=\"k\")\n",
        "plt.plot(np.where(var ==80)[0][0], 80, marker='x', mew = 6, markersize=20, color='k')\n",
        "\n",
        "plt.text(np.where(var == 50)[0][0]-1, 50+5,'50%', verticalalignment = 'top', horizontalalignment = 'right', fontsize = 20)\n",
        "plt.text(np.where(var == 80)[0][0]-1, 80+5,'80%', verticalalignment = 'top', horizontalalignment = 'right', fontsize = 20)\n",
        "\n",
        "\n",
        "plt.text(np.where(var == 50)[0][0]-1, 50-40,str(np.where(var == 50)[0][0])+' Components', verticalalignment = 'bottom', horizontalalignment = 'center', fontsize = 16)\n",
        "plt.text(np.where(var == 80)[0][0]-1, 80-70,str(np.where(var == 80)[0][0])+' Components', verticalalignment = 'bottom', horizontalalignment = 'center', fontsize = 16)\n",
        "\n",
        "\n",
        "\n",
        "ax.axvline(np.where(var == 50)[0][0],color ='red', linestyle ='--', ymin = 0, ymax = 0.46)\n",
        "ax.axvline(np.where(var == 80)[0][0],color ='red', linestyle ='--', ymin = 0, ymax = 0.78)\n",
        "\n",
        "ax.axhline(y=50, color = 'red', linestyle = '--', xmin = 0, xmax = 0.1)\n",
        "ax.axhline(y=80, color = 'red', linestyle = '--', xmin = 0, xmax = 0.3)\n",
        "\n",
        "plt.xlabel('Number of Features', fontsize = 19)\n",
        "plt.ylabel('Information retained', fontsize = 19)\n",
        "plt.title('Information on PCA analysis', fontsize =19)\n",
        "\n",
        "plt.xticks(fontsize = 19)\n",
        "plt.yticks(fontsize = 19)\n",
        "plt.show()"
      ],
      "execution_count": 14,
      "outputs": [
        {
          "output_type": "display_data",
          "data": {
            "image/png": "[encoded data removed]",
            "text/plain": [
              "<Figure size 1440x720 with 1 Axes>"
            ]
          },
          "metadata": {
            "tags": []
          }
        }
      ]
    },
    {
      "cell_type": "code",
      "metadata": {
        "id": "GnxPyXEay6wZ",
        "colab_type": "code",
        "outputId": "85170150-ce54-44df-ee34-1d08c04cf4d9",
        "colab": {
          "base_uri": "https://localhost:8080/",
          "height": 224
        }
      },
      "source": [
        "df = pd.DataFrame(data = X1)\n",
        "df.head()"
      ],
      "execution_count": 15,
      "outputs": [
        {
          "output_type": "execute_result",
          "data": {
            "text/html": [
              "<div>\n",
              "<style scoped>\n",
              "    .dataframe tbody tr th:only-of-type {\n",
              "        vertical-align: middle;\n",
              "    }\n",
              "\n",
              "    .dataframe tbody tr th {\n",
              "        vertical-align: top;\n",
              "    }\n",
              "\n",
              "    .dataframe thead th {\n",
              "        text-align: right;\n",
              "    }\n",
              "</style>\n",
              "<table border=\"1\" class=\"dataframe\">\n",
              "  <thead>\n",
              "    <tr style=\"text-align: right;\">\n",
              "      <th></th>\n",
              "      <th>0</th>\n",
              "      <th>1</th>\n",
              "      <th>2</th>\n",
              "      <th>3</th>\n",
              "      <th>4</th>\n",
              "      <th>5</th>\n",
              "      <th>6</th>\n",
              "      <th>7</th>\n",
              "      <th>8</th>\n",
              "      <th>9</th>\n",
              "      <th>10</th>\n",
              "      <th>11</th>\n",
              "      <th>12</th>\n",
              "      <th>13</th>\n",
              "      <th>14</th>\n",
              "      <th>15</th>\n",
              "      <th>16</th>\n",
              "      <th>17</th>\n",
              "      <th>18</th>\n",
              "      <th>19</th>\n",
              "      <th>20</th>\n",
              "      <th>21</th>\n",
              "      <th>22</th>\n",
              "      <th>23</th>\n",
              "      <th>24</th>\n",
              "      <th>25</th>\n",
              "      <th>26</th>\n",
              "      <th>27</th>\n",
              "      <th>28</th>\n",
              "      <th>29</th>\n",
              "      <th>30</th>\n",
              "      <th>31</th>\n",
              "      <th>32</th>\n",
              "      <th>33</th>\n",
              "      <th>34</th>\n",
              "      <th>35</th>\n",
              "      <th>36</th>\n",
              "      <th>37</th>\n",
              "      <th>38</th>\n",
              "      <th>39</th>\n",
              "      <th>40</th>\n",
              "      <th>41</th>\n",
              "      <th>42</th>\n",
              "      <th>43</th>\n",
              "      <th>44</th>\n",
              "      <th>45</th>\n",
              "      <th>46</th>\n",
              "      <th>47</th>\n",
              "      <th>48</th>\n",
              "      <th>49</th>\n",
              "      <th>50</th>\n",
              "      <th>51</th>\n",
              "      <th>52</th>\n",
              "      <th>53</th>\n",
              "      <th>54</th>\n",
              "      <th>55</th>\n",
              "      <th>56</th>\n",
              "      <th>57</th>\n",
              "      <th>58</th>\n",
              "      <th>59</th>\n",
              "      <th>60</th>\n",
              "      <th>61</th>\n",
              "      <th>62</th>\n",
              "      <th>63</th>\n",
              "    </tr>\n",
              "  </thead>\n",
              "  <tbody>\n",
              "    <tr>\n",
              "      <th>0</th>\n",
              "      <td>0.0</td>\n",
              "      <td>-0.310025</td>\n",
              "      <td>0.047254</td>\n",
              "      <td>0.379835</td>\n",
              "      <td>-0.626913</td>\n",
              "      <td>-0.871974</td>\n",
              "      <td>-0.430134</td>\n",
              "      <td>-0.140883</td>\n",
              "      <td>-0.031639</td>\n",
              "      <td>-0.611056</td>\n",
              "      <td>0.511556</td>\n",
              "      <td>0.724934</td>\n",
              "      <td>-0.145684</td>\n",
              "      <td>1.092268</td>\n",
              "      <td>0.735134</td>\n",
              "      <td>-0.148154</td>\n",
              "      <td>-0.031639</td>\n",
              "      <td>0.142260</td>\n",
              "      <td>0.883031</td>\n",
              "      <td>-0.851509</td>\n",
              "      <td>-1.166833</td>\n",
              "      <td>0.503589</td>\n",
              "      <td>1.844178</td>\n",
              "      <td>-0.111896</td>\n",
              "      <td>-0.031639</td>\n",
              "      <td>0.502665</td>\n",
              "      <td>0.449447</td>\n",
              "      <td>-1.487995</td>\n",
              "      <td>-1.644964</td>\n",
              "      <td>0.081853</td>\n",
              "      <td>1.674956</td>\n",
              "      <td>-0.044766</td>\n",
              "      <td>0.0</td>\n",
              "      <td>0.792297</td>\n",
              "      <td>0.028458</td>\n",
              "      <td>-1.457710</td>\n",
              "      <td>-1.755802</td>\n",
              "      <td>0.039601</td>\n",
              "      <td>1.592957</td>\n",
              "      <td>0.0</td>\n",
              "      <td>-0.069656</td>\n",
              "      <td>0.784016</td>\n",
              "      <td>0.583816</td>\n",
              "      <td>-1.141596</td>\n",
              "      <td>-1.076720</td>\n",
              "      <td>0.607494</td>\n",
              "      <td>0.884465</td>\n",
              "      <td>-0.054855</td>\n",
              "      <td>-0.047523</td>\n",
              "      <td>0.628655</td>\n",
              "      <td>1.099605</td>\n",
              "      <td>-1.001633</td>\n",
              "      <td>0.097667</td>\n",
              "      <td>0.522207</td>\n",
              "      <td>-0.771574</td>\n",
              "      <td>-0.200248</td>\n",
              "      <td>-0.031639</td>\n",
              "      <td>-0.291074</td>\n",
              "      <td>0.184702</td>\n",
              "      <td>0.253910</td>\n",
              "      <td>-0.416104</td>\n",
              "      <td>-1.202572</td>\n",
              "      <td>-0.529799</td>\n",
              "      <td>-0.204578</td>\n",
              "    </tr>\n",
              "    <tr>\n",
              "      <th>1</th>\n",
              "      <td>0.0</td>\n",
              "      <td>-0.310025</td>\n",
              "      <td>-1.041558</td>\n",
              "      <td>0.151294</td>\n",
              "      <td>0.299103</td>\n",
              "      <td>-0.160159</td>\n",
              "      <td>-0.430134</td>\n",
              "      <td>-0.140883</td>\n",
              "      <td>-0.031639</td>\n",
              "      <td>-0.611056</td>\n",
              "      <td>-1.852548</td>\n",
              "      <td>-0.323037</td>\n",
              "      <td>1.119297</td>\n",
              "      <td>0.088960</td>\n",
              "      <td>-0.543805</td>\n",
              "      <td>-0.148154</td>\n",
              "      <td>-0.031639</td>\n",
              "      <td>-0.728719</td>\n",
              "      <td>-1.196320</td>\n",
              "      <td>1.395672</td>\n",
              "      <td>1.429375</td>\n",
              "      <td>-0.297539</td>\n",
              "      <td>-0.552025</td>\n",
              "      <td>-0.111896</td>\n",
              "      <td>-0.031639</td>\n",
              "      <td>1.500017</td>\n",
              "      <td>0.933418</td>\n",
              "      <td>1.224231</td>\n",
              "      <td>0.956798</td>\n",
              "      <td>-0.922482</td>\n",
              "      <td>-0.593096</td>\n",
              "      <td>-0.044766</td>\n",
              "      <td>0.0</td>\n",
              "      <td>-0.684766</td>\n",
              "      <td>-1.084408</td>\n",
              "      <td>1.094359</td>\n",
              "      <td>0.940247</td>\n",
              "      <td>-0.989003</td>\n",
              "      <td>-0.802467</td>\n",
              "      <td>0.0</td>\n",
              "      <td>-0.069656</td>\n",
              "      <td>-0.567153</td>\n",
              "      <td>-0.933377</td>\n",
              "      <td>1.393524</td>\n",
              "      <td>1.319896</td>\n",
              "      <td>-0.442021</td>\n",
              "      <td>-0.823939</td>\n",
              "      <td>-0.054855</td>\n",
              "      <td>-0.047523</td>\n",
              "      <td>-0.396047</td>\n",
              "      <td>-1.190138</td>\n",
              "      <td>1.239157</td>\n",
              "      <td>1.262683</td>\n",
              "      <td>-0.484943</td>\n",
              "      <td>-0.771574</td>\n",
              "      <td>-0.200248</td>\n",
              "      <td>-0.031639</td>\n",
              "      <td>-0.291074</td>\n",
              "      <td>-1.041198</td>\n",
              "      <td>-0.197084</td>\n",
              "      <td>0.839113</td>\n",
              "      <td>0.475591</td>\n",
              "      <td>-0.529799</td>\n",
              "      <td>-0.204578</td>\n",
              "    </tr>\n",
              "    <tr>\n",
              "      <th>2</th>\n",
              "      <td>0.0</td>\n",
              "      <td>-0.310025</td>\n",
              "      <td>-1.041558</td>\n",
              "      <td>-1.677032</td>\n",
              "      <td>0.762112</td>\n",
              "      <td>1.085519</td>\n",
              "      <td>-0.430134</td>\n",
              "      <td>-0.140883</td>\n",
              "      <td>-0.031639</td>\n",
              "      <td>-0.611056</td>\n",
              "      <td>-1.306986</td>\n",
              "      <td>0.986927</td>\n",
              "      <td>0.908467</td>\n",
              "      <td>0.925050</td>\n",
              "      <td>-0.543805</td>\n",
              "      <td>-0.148154</td>\n",
              "      <td>-0.031639</td>\n",
              "      <td>-0.728719</td>\n",
              "      <td>-0.329924</td>\n",
              "      <td>1.049952</td>\n",
              "      <td>0.131271</td>\n",
              "      <td>1.304717</td>\n",
              "      <td>-0.552025</td>\n",
              "      <td>-0.111896</td>\n",
              "      <td>-0.031639</td>\n",
              "      <td>-0.827137</td>\n",
              "      <td>-1.325111</td>\n",
              "      <td>-0.470910</td>\n",
              "      <td>0.794188</td>\n",
              "      <td>0.584021</td>\n",
              "      <td>-0.593096</td>\n",
              "      <td>-0.044766</td>\n",
              "      <td>0.0</td>\n",
              "      <td>-0.389354</td>\n",
              "      <td>0.028458</td>\n",
              "      <td>0.615846</td>\n",
              "      <td>0.771744</td>\n",
              "      <td>-1.331870</td>\n",
              "      <td>-0.802467</td>\n",
              "      <td>0.0</td>\n",
              "      <td>-0.069656</td>\n",
              "      <td>2.472978</td>\n",
              "      <td>1.342412</td>\n",
              "      <td>1.393524</td>\n",
              "      <td>-0.437622</td>\n",
              "      <td>-1.491535</td>\n",
              "      <td>-0.823939</td>\n",
              "      <td>-0.054855</td>\n",
              "      <td>-0.047523</td>\n",
              "      <td>1.141006</td>\n",
              "      <td>0.923471</td>\n",
              "      <td>1.239157</td>\n",
              "      <td>1.262683</td>\n",
              "      <td>0.354349</td>\n",
              "      <td>0.278472</td>\n",
              "      <td>-0.200248</td>\n",
              "      <td>-0.031639</td>\n",
              "      <td>-0.291074</td>\n",
              "      <td>-1.041198</td>\n",
              "      <td>-2.001060</td>\n",
              "      <td>-0.206902</td>\n",
              "      <td>1.482489</td>\n",
              "      <td>1.557849</td>\n",
              "      <td>-0.204578</td>\n",
              "    </tr>\n",
              "    <tr>\n",
              "      <th>3</th>\n",
              "      <td>0.0</td>\n",
              "      <td>-0.310025</td>\n",
              "      <td>0.482780</td>\n",
              "      <td>0.836916</td>\n",
              "      <td>0.299103</td>\n",
              "      <td>-0.871974</td>\n",
              "      <td>-0.430134</td>\n",
              "      <td>-0.140883</td>\n",
              "      <td>-0.031639</td>\n",
              "      <td>2.295274</td>\n",
              "      <td>0.511556</td>\n",
              "      <td>-1.633001</td>\n",
              "      <td>0.908467</td>\n",
              "      <td>-0.747130</td>\n",
              "      <td>-0.543805</td>\n",
              "      <td>-0.148154</td>\n",
              "      <td>-0.031639</td>\n",
              "      <td>-0.148066</td>\n",
              "      <td>-1.542879</td>\n",
              "      <td>1.049952</td>\n",
              "      <td>0.942586</td>\n",
              "      <td>-1.258893</td>\n",
              "      <td>-0.552025</td>\n",
              "      <td>-0.111896</td>\n",
              "      <td>-0.031639</td>\n",
              "      <td>-0.827137</td>\n",
              "      <td>-1.163788</td>\n",
              "      <td>1.054717</td>\n",
              "      <td>0.143747</td>\n",
              "      <td>-1.089871</td>\n",
              "      <td>-0.593096</td>\n",
              "      <td>-0.044766</td>\n",
              "      <td>0.0</td>\n",
              "      <td>-0.684766</td>\n",
              "      <td>-1.243389</td>\n",
              "      <td>-1.298205</td>\n",
              "      <td>0.266235</td>\n",
              "      <td>0.553903</td>\n",
              "      <td>-0.503039</td>\n",
              "      <td>0.0</td>\n",
              "      <td>-0.069656</td>\n",
              "      <td>-0.567153</td>\n",
              "      <td>-1.085096</td>\n",
              "      <td>-1.141596</td>\n",
              "      <td>-1.076720</td>\n",
              "      <td>0.257656</td>\n",
              "      <td>1.128523</td>\n",
              "      <td>-0.054855</td>\n",
              "      <td>-0.047523</td>\n",
              "      <td>-0.396047</td>\n",
              "      <td>0.042801</td>\n",
              "      <td>-1.205341</td>\n",
              "      <td>-0.873179</td>\n",
              "      <td>0.857924</td>\n",
              "      <td>1.118510</td>\n",
              "      <td>-0.200248</td>\n",
              "      <td>-0.031639</td>\n",
              "      <td>-0.291074</td>\n",
              "      <td>0.389019</td>\n",
              "      <td>0.253910</td>\n",
              "      <td>0.211504</td>\n",
              "      <td>0.307775</td>\n",
              "      <td>-0.529799</td>\n",
              "      <td>-0.204578</td>\n",
              "    </tr>\n",
              "    <tr>\n",
              "      <th>4</th>\n",
              "      <td>0.0</td>\n",
              "      <td>-0.310025</td>\n",
              "      <td>-1.041558</td>\n",
              "      <td>-2.362655</td>\n",
              "      <td>-0.163905</td>\n",
              "      <td>-1.049928</td>\n",
              "      <td>-0.430134</td>\n",
              "      <td>-0.140883</td>\n",
              "      <td>-0.031639</td>\n",
              "      <td>-0.611056</td>\n",
              "      <td>-1.852548</td>\n",
              "      <td>-1.371009</td>\n",
              "      <td>-0.567344</td>\n",
              "      <td>-1.416003</td>\n",
              "      <td>-0.543805</td>\n",
              "      <td>-0.148154</td>\n",
              "      <td>-0.031639</td>\n",
              "      <td>-0.728719</td>\n",
              "      <td>-1.542879</td>\n",
              "      <td>1.049952</td>\n",
              "      <td>-0.193255</td>\n",
              "      <td>-0.938442</td>\n",
              "      <td>0.047025</td>\n",
              "      <td>-0.111896</td>\n",
              "      <td>-0.031639</td>\n",
              "      <td>-0.827137</td>\n",
              "      <td>-0.357170</td>\n",
              "      <td>1.054717</td>\n",
              "      <td>-1.644964</td>\n",
              "      <td>0.249243</td>\n",
              "      <td>1.674956</td>\n",
              "      <td>-0.044766</td>\n",
              "      <td>0.0</td>\n",
              "      <td>0.792297</td>\n",
              "      <td>1.300304</td>\n",
              "      <td>0.137333</td>\n",
              "      <td>-1.755802</td>\n",
              "      <td>1.239639</td>\n",
              "      <td>0.994101</td>\n",
              "      <td>0.0</td>\n",
              "      <td>-0.069656</td>\n",
              "      <td>0.784016</td>\n",
              "      <td>1.190692</td>\n",
              "      <td>1.393524</td>\n",
              "      <td>0.840573</td>\n",
              "      <td>1.307170</td>\n",
              "      <td>-0.579881</td>\n",
              "      <td>-0.054855</td>\n",
              "      <td>-0.047523</td>\n",
              "      <td>-0.396047</td>\n",
              "      <td>-1.366272</td>\n",
              "      <td>-1.409050</td>\n",
              "      <td>1.068514</td>\n",
              "      <td>0.186491</td>\n",
              "      <td>-0.771574</td>\n",
              "      <td>-0.200248</td>\n",
              "      <td>-0.031639</td>\n",
              "      <td>-0.291074</td>\n",
              "      <td>-1.041198</td>\n",
              "      <td>-2.226557</td>\n",
              "      <td>0.839113</td>\n",
              "      <td>-0.531306</td>\n",
              "      <td>-0.529799</td>\n",
              "      <td>-0.204578</td>\n",
              "    </tr>\n",
              "  </tbody>\n",
              "</table>\n",
              "</div>"
            ],
            "text/plain": [
              "    0         1         2         3   ...        60        61        62        63\n",
              "0  0.0 -0.310025  0.047254  0.379835  ... -0.416104 -1.202572 -0.529799 -0.204578\n",
              "1  0.0 -0.310025 -1.041558  0.151294  ...  0.839113  0.475591 -0.529799 -0.204578\n",
              "2  0.0 -0.310025 -1.041558 -1.677032  ... -0.206902  1.482489  1.557849 -0.204578\n",
              "3  0.0 -0.310025  0.482780  0.836916  ...  0.211504  0.307775 -0.529799 -0.204578\n",
              "4  0.0 -0.310025 -1.041558 -2.362655  ...  0.839113 -0.531306 -0.529799 -0.204578\n",
              "\n",
              "[5 rows x 64 columns]"
            ]
          },
          "metadata": {
            "tags": []
          },
          "execution_count": 15
        }
      ]
    },
    {
      "cell_type": "markdown",
      "metadata": {
        "id": "JnSAkN762V-T",
        "colab_type": "text"
      },
      "source": [
        "### Q2. Visualize digits 3, 6, 7 (y=3,6,7) using the first two principal components of X1  "
      ]
    },
    {
      "cell_type": "code",
      "metadata": {
        "id": "lBZcRRpLLEFf",
        "colab_type": "code",
        "outputId": "e1b93575-f828-4bb0-865b-98401c6ecb21",
        "colab": {
          "base_uri": "https://localhost:8080/",
          "height": 313
        }
      },
      "source": [
        "digits = [3,6,7]\n",
        "count = 1\n",
        "\n",
        "plt.figure(figsize=(20,15))\n",
        "\n",
        "for digit in digits:\n",
        "  plt.subplot(1,4, count)\n",
        "  plt.xlabel('Digit=%i' %digit, fontsize =16)\n",
        "  plt.imshow(X1[digit][:].reshape(8,8), cmap=plt.cm.gray_r)\n",
        "  count+=1\n",
        "\n",
        "plt.show()"
      ],
      "execution_count": 16,
      "outputs": [
        {
          "output_type": "display_data",
          "data": {
            "image/png": "[encoded data removed]",
            "text/plain": [
              "<Figure size 1440x1080 with 3 Axes>"
            ]
          },
          "metadata": {
            "tags": []
          }
        }
      ]
    },
    {
      "cell_type": "code",
      "metadata": {
        "id": "s7N_iUQadaFc",
        "colab_type": "code",
        "colab": {
          "base_uri": "https://localhost:8080/",
          "height": 615
        },
        "outputId": "1f56291f-73f9-45e9-a2b8-dd521247eb58"
      },
      "source": [
        "digits = [3,6,7]\n",
        "fig, ax = plt.subplots(figsize = (15,10))\n",
        "plt.grid(alpha = 0.2)\n",
        "for digit in digits:\n",
        "  ymin, ymax = ax.get_ylim()\n",
        "  xmin, xmax = ax.get_xlim()\n",
        "\n",
        "  plt.plot(X1[digit,1],X1[digit,3], marker = 'X', markersize = 20)\n",
        "  plt.axhline(y=X1[digit,3], color = 'k', linestyle = ':')\n",
        "  \n",
        "  plt.text(X1[digit,1]-0.0005,X1[digit,3]-0.06,'Digit: %d' %digit, horizontalalignment = 'right',fontsize = 15)\n",
        "  plt.text(xmin+0.001,X1[digit,3]-0.05,'Value: %f' %X1[digit,3],fontsize = 8)"
      ],
      "execution_count": 62,
      "outputs": [
        {
          "output_type": "display_data",
          "data": {
            "image/png": "[encoded data removed]",
            "text/plain": [
              "<Figure size 1080x720 with 1 Axes>"
            ]
          },
          "metadata": {
            "tags": []
          }
        }
      ]
    },
    {
      "cell_type": "code",
      "metadata": {
        "id": "5CZOLvGtgOtF",
        "colab_type": "code",
        "colab": {
          "base_uri": "https://localhost:8080/",
          "height": 34
        },
        "outputId": "3f599e01-67b8-4d61-a401-f4306b6ccf99"
      },
      "source": [
        "\n",
        "X1[3,3]"
      ],
      "execution_count": 46,
      "outputs": [
        {
          "output_type": "execute_result",
          "data": {
            "text/plain": [
              "0.8369164034529071"
            ]
          },
          "metadata": {
            "tags": []
          },
          "execution_count": 46
        }
      ]
    },
    {
      "cell_type": "markdown",
      "metadata": {
        "id": "oraGUw382V-V",
        "colab_type": "text"
      },
      "source": [
        "## Task 2. Classify the digits using leading principal components"
      ]
    },
    {
      "cell_type": "markdown",
      "metadata": {
        "id": "P2Bcn4Od2V-X",
        "colab_type": "text"
      },
      "source": [
        "### Q1. Train multi-class logistic regression over the first 1000 digits using first 5 leading principal components\n",
        "Report in-sample and out-of-sample (over X3, the last 300 digits) accuracy. \n",
        "\n",
        "You will need to apply the same scaler and PCA transform trained above to X3\n",
        "\n",
        "Here and further use regularization constant C=10000 in logistic regression to avoid regularization"
      ]
    },
    {
      "cell_type": "code",
      "metadata": {
        "id": "K4J5lgC8BtHX",
        "colab_type": "code",
        "outputId": "b8f4642e-2101-4bf8-e548-fad0812a1987",
        "colab": {
          "base_uri": "https://localhost:8080/",
          "height": 85
        }
      },
      "source": [
        "print(\"X(Original) number of records: {},\\nX1(Training) number of records: {},\\nX2(Validation) number of records: {},\\nX3(Test) number of records: {}\".format(X.shape[0],X1.shape[0],X2.shape[0],X3.shape[0]))"
      ],
      "execution_count": 18,
      "outputs": [
        {
          "output_type": "stream",
          "text": [
            "X(Original) number of records: 1797,\n",
            "X1(Training) number of records: 1000,\n",
            "X2(Validation) number of records: 497,\n",
            "X3(Test) number of records: 300\n"
          ],
          "name": "stdout"
        }
      ]
    },
    {
      "cell_type": "code",
      "metadata": {
        "id": "A2Qbf1r7CEZV",
        "colab_type": "code",
        "colab": {}
      },
      "source": [
        "X3 = scaler.transform(X3)"
      ],
      "execution_count": 0,
      "outputs": []
    },
    {
      "cell_type": "code",
      "metadata": {
        "id": "f4ejOSxFGAee",
        "colab_type": "code",
        "outputId": "3e39a0c8-c5bd-4e7b-8408-3e57e3d94947",
        "colab": {
          "base_uri": "https://localhost:8080/",
          "height": 51
        }
      },
      "source": [
        "#Logistic Regression without C\n",
        "reg = LogisticRegression()\n",
        "reg.fit(X1[:,:6],y1)\n",
        "train_labels = reg.predict(X1[:,:6])\n",
        "\n",
        "print(\"In Sample Accuracy: {}\".format(1.0*(train_labels==y1).sum()/len(train_labels)))\n",
        "\n",
        "labels = reg.predict(X3[:,:6])\n",
        "print(\"In Sample Accuracy: {}\".format(1.0*(labels==y3).sum()/len(labels)))"
      ],
      "execution_count": 20,
      "outputs": [
        {
          "output_type": "stream",
          "text": [
            "In Sample Accuracy: 0.419\n",
            "In Sample Accuracy: 0.353333333333\n"
          ],
          "name": "stdout"
        }
      ]
    },
    {
      "cell_type": "code",
      "metadata": {
        "id": "CtFJnFmUGBJG",
        "colab_type": "code",
        "outputId": "067ba398-f3f8-4dc0-d0dd-ba2a9ee30c68",
        "colab": {
          "base_uri": "https://localhost:8080/",
          "height": 51
        }
      },
      "source": [
        "#Logistic Regression with C = 10000\n",
        "regc = LogisticRegression(C= 10000)\n",
        "regc.fit(X1[:,:6],y1)\n",
        "train_labelsc = reg.predict(X1[:,:6])\n",
        "\n",
        "print(\"In Sample Accuracy: {}\".format(1.0*(train_labelsc==y1).sum()/len(train_labelsc)))\n",
        "\n",
        "labelsc = regc.predict(X3[:,:6])\n",
        "print(\"Our of Sample Accuracy: {}\".format(1.0*(labelsc==y3).sum()/len(labelsc)))"
      ],
      "execution_count": 21,
      "outputs": [
        {
          "output_type": "stream",
          "text": [
            "In Sample Accuracy: 0.419\n",
            "Our of Sample Accuracy: 0.353333333333\n"
          ],
          "name": "stdout"
        }
      ]
    },
    {
      "cell_type": "markdown",
      "metadata": {
        "id": "yqgvwFhB2V-Z",
        "colab_type": "text"
      },
      "source": [
        "### Q2. Select the optimal number of principal components for the classification above in terms of the out-of-sample accuracy measured over the validation sample X2. Report the performance of the classification after this feature selection over the test sample X3 of the last 300 digits."
      ]
    },
    {
      "cell_type": "markdown",
      "metadata": {
        "id": "5h3jq2UV2V-c",
        "colab_type": "text"
      },
      "source": [
        "## Task3. Time Series Analysis\n",
        "**Dataset Description**\n",
        "- Portland Oregon riders monthly data: It is a monthly count of riders for the Portland public transportation system. The website states that it is from January 1960 through June 1969\n",
        "\n",
        "**Tasks**:\n",
        "- Detect a trend\n",
        "- Decompose into trend + seasonality + residuals\n",
        "- Analyze residual distribution\n",
        "- Select the top 3-5 outliers based on absolute values of residuals "
      ]
    },
    {
      "cell_type": "code",
      "metadata": {
        "id": "xLdCDcKh2V-d",
        "colab_type": "code",
        "colab": {}
      },
      "source": [
        "# import dataset\n",
        "df = pd.read_csv(\"https://raw.githubusercontent.com/pratikwatwani/Applied-Data-Science/master/data/portland-oregon-average-monthly-.csv\")"
      ],
      "execution_count": 0,
      "outputs": []
    },
    {
      "cell_type": "code",
      "metadata": {
        "id": "21Ch5PsD2V-n",
        "colab_type": "code",
        "colab": {}
      },
      "source": [
        "# change column name to make it easier for your life\n",
        "df.columns = [\"month\", \"avgMonthlyRide\"]"
      ],
      "execution_count": 0,
      "outputs": []
    },
    {
      "cell_type": "code",
      "metadata": {
        "id": "7hJpb5ay2V-r",
        "colab_type": "code",
        "colab": {}
      },
      "source": [
        "# remove artifact data\n",
        "df = df.drop(df.index[df['avgMonthlyRide'] == ' n=114'])"
      ],
      "execution_count": 0,
      "outputs": []
    },
    {
      "cell_type": "code",
      "metadata": {
        "id": "agB4p20V2V-v",
        "colab_type": "code",
        "outputId": "23ba9512-deeb-4b15-b1db-0428521f9da1",
        "colab": {
          "base_uri": "https://localhost:8080/",
          "height": 204
        }
      },
      "source": [
        "# type transfer: int32 for `avgMonthlyRide`, datetime for `month`\n",
        "df['avgMonthlyRide'] = df['avgMonthlyRide'].astype(np.int32)\n",
        "df['month'] = pd.to_datetime(df['month'], format = '%Y-%m')\n",
        "df.head()"
      ],
      "execution_count": 25,
      "outputs": [
        {
          "output_type": "execute_result",
          "data": {
            "text/html": [
              "<div>\n",
              "<style scoped>\n",
              "    .dataframe tbody tr th:only-of-type {\n",
              "        vertical-align: middle;\n",
              "    }\n",
              "\n",
              "    .dataframe tbody tr th {\n",
              "        vertical-align: top;\n",
              "    }\n",
              "\n",
              "    .dataframe thead th {\n",
              "        text-align: right;\n",
              "    }\n",
              "</style>\n",
              "<table border=\"1\" class=\"dataframe\">\n",
              "  <thead>\n",
              "    <tr style=\"text-align: right;\">\n",
              "      <th></th>\n",
              "      <th>month</th>\n",
              "      <th>avgMonthlyRide</th>\n",
              "    </tr>\n",
              "  </thead>\n",
              "  <tbody>\n",
              "    <tr>\n",
              "      <th>0</th>\n",
              "      <td>1960-01-01</td>\n",
              "      <td>648</td>\n",
              "    </tr>\n",
              "    <tr>\n",
              "      <th>1</th>\n",
              "      <td>1960-02-01</td>\n",
              "      <td>646</td>\n",
              "    </tr>\n",
              "    <tr>\n",
              "      <th>2</th>\n",
              "      <td>1960-03-01</td>\n",
              "      <td>639</td>\n",
              "    </tr>\n",
              "    <tr>\n",
              "      <th>3</th>\n",
              "      <td>1960-04-01</td>\n",
              "      <td>654</td>\n",
              "    </tr>\n",
              "    <tr>\n",
              "      <th>4</th>\n",
              "      <td>1960-05-01</td>\n",
              "      <td>630</td>\n",
              "    </tr>\n",
              "  </tbody>\n",
              "</table>\n",
              "</div>"
            ],
            "text/plain": [
              "       month  avgMonthlyRide\n",
              "0 1960-01-01             648\n",
              "1 1960-02-01             646\n",
              "2 1960-03-01             639\n",
              "3 1960-04-01             654\n",
              "4 1960-05-01             630"
            ]
          },
          "metadata": {
            "tags": []
          },
          "execution_count": 25
        }
      ]
    },
    {
      "cell_type": "code",
      "metadata": {
        "id": "vwKYj8l32V-0",
        "colab_type": "code",
        "outputId": "57412d2b-7637-4a14-b6ba-13ad33b5c859",
        "colab": {
          "base_uri": "https://localhost:8080/",
          "height": 136
        }
      },
      "source": [
        "# get the info of the dataset\n",
        "df.info()"
      ],
      "execution_count": 26,
      "outputs": [
        {
          "output_type": "stream",
          "text": [
            "<class 'pandas.core.frame.DataFrame'>\n",
            "Int64Index: 114 entries, 0 to 113\n",
            "Data columns (total 2 columns):\n",
            "month             114 non-null datetime64[ns]\n",
            "avgMonthlyRide    114 non-null int32\n",
            "dtypes: datetime64[ns](1), int32(1)\n",
            "memory usage: 2.2 KB\n"
          ],
          "name": "stdout"
        }
      ]
    },
    {
      "cell_type": "code",
      "metadata": {
        "id": "qKCiMYuJ2V-5",
        "colab_type": "code",
        "outputId": "615ae6ca-6ec6-49ba-f820-4f590c7555ae",
        "colab": {
          "base_uri": "https://localhost:8080/",
          "height": 297
        }
      },
      "source": [
        "# get the describe of the dataset\n",
        "df.describe()"
      ],
      "execution_count": 27,
      "outputs": [
        {
          "output_type": "execute_result",
          "data": {
            "text/html": [
              "<div>\n",
              "<style scoped>\n",
              "    .dataframe tbody tr th:only-of-type {\n",
              "        vertical-align: middle;\n",
              "    }\n",
              "\n",
              "    .dataframe tbody tr th {\n",
              "        vertical-align: top;\n",
              "    }\n",
              "\n",
              "    .dataframe thead th {\n",
              "        text-align: right;\n",
              "    }\n",
              "</style>\n",
              "<table border=\"1\" class=\"dataframe\">\n",
              "  <thead>\n",
              "    <tr style=\"text-align: right;\">\n",
              "      <th></th>\n",
              "      <th>avgMonthlyRide</th>\n",
              "    </tr>\n",
              "  </thead>\n",
              "  <tbody>\n",
              "    <tr>\n",
              "      <th>count</th>\n",
              "      <td>114.000000</td>\n",
              "    </tr>\n",
              "    <tr>\n",
              "      <th>mean</th>\n",
              "      <td>1120.543860</td>\n",
              "    </tr>\n",
              "    <tr>\n",
              "      <th>std</th>\n",
              "      <td>270.888317</td>\n",
              "    </tr>\n",
              "    <tr>\n",
              "      <th>min</th>\n",
              "      <td>613.000000</td>\n",
              "    </tr>\n",
              "    <tr>\n",
              "      <th>25%</th>\n",
              "      <td>885.000000</td>\n",
              "    </tr>\n",
              "    <tr>\n",
              "      <th>50%</th>\n",
              "      <td>1158.000000</td>\n",
              "    </tr>\n",
              "    <tr>\n",
              "      <th>75%</th>\n",
              "      <td>1340.000000</td>\n",
              "    </tr>\n",
              "    <tr>\n",
              "      <th>max</th>\n",
              "      <td>1558.000000</td>\n",
              "    </tr>\n",
              "  </tbody>\n",
              "</table>\n",
              "</div>"
            ],
            "text/plain": [
              "       avgMonthlyRide\n",
              "count      114.000000\n",
              "mean      1120.543860\n",
              "std        270.888317\n",
              "min        613.000000\n",
              "25%        885.000000\n",
              "50%       1158.000000\n",
              "75%       1340.000000\n",
              "max       1558.000000"
            ]
          },
          "metadata": {
            "tags": []
          },
          "execution_count": 27
        }
      ]
    },
    {
      "cell_type": "code",
      "metadata": {
        "id": "GvMjBVGW6Kvu",
        "colab_type": "code",
        "outputId": "ae705773-22ce-46a3-b4ae-5c58def28d88",
        "colab": {
          "base_uri": "https://localhost:8080/",
          "height": 204
        }
      },
      "source": [
        "df['ym'] = pd.to_datetime(df['month'], format=\"%Y-%m\").dt.to_period('M')\n",
        "df.head()"
      ],
      "execution_count": 28,
      "outputs": [
        {
          "output_type": "execute_result",
          "data": {
            "text/html": [
              "<div>\n",
              "<style scoped>\n",
              "    .dataframe tbody tr th:only-of-type {\n",
              "        vertical-align: middle;\n",
              "    }\n",
              "\n",
              "    .dataframe tbody tr th {\n",
              "        vertical-align: top;\n",
              "    }\n",
              "\n",
              "    .dataframe thead th {\n",
              "        text-align: right;\n",
              "    }\n",
              "</style>\n",
              "<table border=\"1\" class=\"dataframe\">\n",
              "  <thead>\n",
              "    <tr style=\"text-align: right;\">\n",
              "      <th></th>\n",
              "      <th>month</th>\n",
              "      <th>avgMonthlyRide</th>\n",
              "      <th>ym</th>\n",
              "    </tr>\n",
              "  </thead>\n",
              "  <tbody>\n",
              "    <tr>\n",
              "      <th>0</th>\n",
              "      <td>1960-01-01</td>\n",
              "      <td>648</td>\n",
              "      <td>1960-01</td>\n",
              "    </tr>\n",
              "    <tr>\n",
              "      <th>1</th>\n",
              "      <td>1960-02-01</td>\n",
              "      <td>646</td>\n",
              "      <td>1960-02</td>\n",
              "    </tr>\n",
              "    <tr>\n",
              "      <th>2</th>\n",
              "      <td>1960-03-01</td>\n",
              "      <td>639</td>\n",
              "      <td>1960-03</td>\n",
              "    </tr>\n",
              "    <tr>\n",
              "      <th>3</th>\n",
              "      <td>1960-04-01</td>\n",
              "      <td>654</td>\n",
              "      <td>1960-04</td>\n",
              "    </tr>\n",
              "    <tr>\n",
              "      <th>4</th>\n",
              "      <td>1960-05-01</td>\n",
              "      <td>630</td>\n",
              "      <td>1960-05</td>\n",
              "    </tr>\n",
              "  </tbody>\n",
              "</table>\n",
              "</div>"
            ],
            "text/plain": [
              "       month  avgMonthlyRide       ym\n",
              "0 1960-01-01             648  1960-01\n",
              "1 1960-02-01             646  1960-02\n",
              "2 1960-03-01             639  1960-03\n",
              "3 1960-04-01             654  1960-04\n",
              "4 1960-05-01             630  1960-05"
            ]
          },
          "metadata": {
            "tags": []
          },
          "execution_count": 28
        }
      ]
    },
    {
      "cell_type": "code",
      "metadata": {
        "id": "vZUeI-St7aia",
        "colab_type": "code",
        "colab": {}
      },
      "source": [
        ""
      ],
      "execution_count": 0,
      "outputs": []
    },
    {
      "cell_type": "markdown",
      "metadata": {
        "colab_type": "text",
        "id": "qSGUnlGX59M3"
      },
      "source": [
        "### Q1. Visualize the time-series of monthly ridership"
      ]
    },
    {
      "cell_type": "code",
      "metadata": {
        "id": "S8wAh3Jx13W5",
        "colab_type": "code",
        "outputId": "059592f2-378b-4f58-b596-5bd17282a200",
        "colab": {
          "base_uri": "https://localhost:8080/",
          "height": 653
        }
      },
      "source": [
        "fig, ax = plt.subplots(figsize = (30,10))\n",
        "plt.plot(df.month,df.avgMonthlyRide, color='c',linewidth=5)\n",
        "ax.xaxis.set_major_formatter(DateFormatter(\"19%y-%m\"))\n",
        "plt.legend()\n",
        "plt.tick_params(labelsize=16)\n",
        "ax.grid(b=True, alpha = 0.2)\n",
        "plt.xlabel('Month', fontsize = 15)\n",
        "plt.ylabel('Avg Ride', fontsize = 15)\n",
        "plt.title('Avg Monthly Ride', fontsize = 15)\n",
        "plt.show()\n",
        "plt.close()"
      ],
      "execution_count": 29,
      "outputs": [
        {
          "output_type": "display_data",
          "data": {
            "image/png": "[encoded data removed]",
            "text/plain": [
              "<Figure size 2160x720 with 1 Axes>"
            ]
          },
          "metadata": {
            "tags": []
          }
        }
      ]
    },
    {
      "cell_type": "markdown",
      "metadata": {
        "id": "j_kawAMg2V_A",
        "colab_type": "text"
      },
      "source": [
        "### Q2. Visualize the 12-month moving average to assess the trend"
      ]
    },
    {
      "cell_type": "markdown",
      "metadata": {
        "id": "Y4MLVSps2V_B",
        "colab_type": "text"
      },
      "source": [
        "### Q3. Perform seasonal decomposition using 12 month period"
      ]
    },
    {
      "cell_type": "code",
      "metadata": {
        "id": "neSYWgx--biI",
        "colab_type": "code",
        "colab": {}
      },
      "source": [
        "df.drop('ym', axis = 1, inplace = True)"
      ],
      "execution_count": 0,
      "outputs": []
    },
    {
      "cell_type": "code",
      "metadata": {
        "id": "fU_0UVcm-kQ9",
        "colab_type": "code",
        "outputId": "b996e895-3a96-4323-c168-846c6f1675fc",
        "colab": {
          "base_uri": "https://localhost:8080/",
          "height": 136
        }
      },
      "source": [
        "df.info()"
      ],
      "execution_count": 31,
      "outputs": [
        {
          "output_type": "stream",
          "text": [
            "<class 'pandas.core.frame.DataFrame'>\n",
            "Int64Index: 114 entries, 0 to 113\n",
            "Data columns (total 2 columns):\n",
            "month             114 non-null datetime64[ns]\n",
            "avgMonthlyRide    114 non-null int32\n",
            "dtypes: datetime64[ns](1), int32(1)\n",
            "memory usage: 2.2 KB\n"
          ],
          "name": "stdout"
        }
      ]
    },
    {
      "cell_type": "code",
      "metadata": {
        "id": "gIHauFCaAsML",
        "colab_type": "code",
        "colab": {}
      },
      "source": [
        "df_copy =df.copy()\n",
        "df_copy.month = df.month.astype('str')"
      ],
      "execution_count": 0,
      "outputs": []
    },
    {
      "cell_type": "code",
      "metadata": {
        "id": "xbAPPIxeBSBK",
        "colab_type": "code",
        "outputId": "c2c04bc2-3e4f-482c-9d07-313860b7e72f",
        "colab": {
          "base_uri": "https://localhost:8080/",
          "height": 34
        }
      },
      "source": [
        "df.month[0].value"
      ],
      "execution_count": 33,
      "outputs": [
        {
          "output_type": "execute_result",
          "data": {
            "text/plain": [
              "-315619200000000000"
            ]
          },
          "metadata": {
            "tags": []
          },
          "execution_count": 33
        }
      ]
    },
    {
      "cell_type": "markdown",
      "metadata": {
        "id": "M-zT4V242V_C",
        "colab_type": "text"
      },
      "source": [
        "### Q4. Visualize the distribution of residues and visually compare it with normal distribution with the same mean and standard deviation"
      ]
    },
    {
      "cell_type": "code",
      "metadata": {
        "id": "gva8hBMp-iOF",
        "colab_type": "code",
        "colab": {}
      },
      "source": [
        ""
      ],
      "execution_count": 0,
      "outputs": []
    },
    {
      "cell_type": "markdown",
      "metadata": {
        "id": "6ZPFt4x22V_D",
        "colab_type": "text"
      },
      "source": [
        "### Q5. Find the strongest lower/upper outliers (months with the smallest and largest residues)"
      ]
    },
    {
      "cell_type": "code",
      "metadata": {
        "id": "2-Q_ssnB2V_D",
        "colab_type": "code",
        "colab": {}
      },
      "source": [
        ""
      ],
      "execution_count": 0,
      "outputs": []
    }
  ]
}