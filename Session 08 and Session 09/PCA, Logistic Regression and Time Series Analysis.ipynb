{
  "nbformat": 4,
  "nbformat_minor": 0,
  "metadata": {
    "kernelspec": {
      "display_name": "Python 2",
      "language": "python",
      "name": "python2"
    },
    "language_info": {
      "codemirror_mode": {
        "name": "ipython",
        "version": 2
      },
      "file_extension": ".py",
      "mimetype": "text/x-python",
      "name": "python",
      "nbconvert_exporter": "python",
      "pygments_lexer": "ipython2",
      "version": "2.7.15"
    },
    "colab": {
      "name": "PCA, Logistic Regression and Time Series Analysis.ipynb",
      "provenance": [],
      "collapsed_sections": [],
      "include_colab_link": true
    }
  },
  "cells": [
    {
      "cell_type": "markdown",
      "metadata": {
        "id": "view-in-github",
        "colab_type": "text"
      },
      "source": [
        "<a href=\"https://colab.research.google.com/github/pratikwatwani/Applied-Data-Science/blob/master/Session%2008%20and%20Session%2009/PCA%2C%20Logistic%20Regression%20and%20Time%20Series%20Analysis.ipynb\" target=\"_parent\"><img src=\"https://colab.research.google.com/assets/colab-badge.svg\" alt=\"Open In Colab\"/></a>"
      ]
    },
    {
      "cell_type": "markdown",
      "metadata": {
        "id": "2ArqAvWn2V9F",
        "colab_type": "text"
      },
      "source": [
        "## Task 1. Visualization of Hand-Written Digits\n",
        "\n",
        "As one of the examples sklearn provides a dataset of handwritten digits. This data includes impages of 1787 digits. For each digit, we have 64 variables x1,x2,...x64, each one representing a pixel (grayscale from 0 to 16) on the 8x8 image. The label (y) for each image is the actual digit it represents from 0 to 9.  "
      ]
    },
    {
      "cell_type": "code",
      "metadata": {
        "id": "H4ssRmj82V9K",
        "colab_type": "code",
        "colab": {}
      },
      "source": [
        "import numpy as np\n",
        "import matplotlib.pyplot as plt\n",
        "import pandas as pd\n",
        "import matplotlib.pyplot as plt\n",
        "%matplotlib inline\n",
        "import statsmodels.formula.api as smf\n",
        "from scipy.stats import t\n",
        "from sklearn import preprocessing\n",
        "from matplotlib.dates import DateFormatter\n",
        "import statsmodels.api as sm\n",
        "from sklearn.preprocessing import StandardScaler\n",
        "from sklearn.decomposition import PCA\n",
        "from sklearn.linear_model import LogisticRegression\n",
        "from numpy.random import seed\n",
        "from numpy.random import randn\n",
        "import scipy\n",
        "import warnings\n",
        "warnings.filterwarnings(\"ignore\")"
      ],
      "execution_count": 0,
      "outputs": []
    },
    {
      "cell_type": "code",
      "metadata": {
        "id": "fWR20qN72V9a",
        "colab_type": "code",
        "outputId": "98838e5a-7399-4509-9d39-2c0e3b2b8619",
        "colab": {
          "base_uri": "https://localhost:8080/",
          "height": 224
        }
      },
      "source": [
        "#Load the data\n",
        "import numpy as np\n",
        "import pandas as pd\n",
        "from sklearn.datasets import load_digits\n",
        "digits = load_digits()\n",
        "X = digits.data # the digits data\n",
        "y = digits.target # the labels for the digits. This label is only used for coloring the points.\n",
        "#Make a dataframe \n",
        "data=pd.DataFrame(np.concatenate((y.reshape(len(y),1),X),axis=1))\n",
        "data.columns=[\"y\"]+[\"x{}\".format(i) for i in range(1,65)]\n",
        "data.head()"
      ],
      "execution_count": 2,
      "outputs": [
        {
          "output_type": "execute_result",
          "data": {
            "text/html": [
              "<div>\n",
              "<style scoped>\n",
              "    .dataframe tbody tr th:only-of-type {\n",
              "        vertical-align: middle;\n",
              "    }\n",
              "\n",
              "    .dataframe tbody tr th {\n",
              "        vertical-align: top;\n",
              "    }\n",
              "\n",
              "    .dataframe thead th {\n",
              "        text-align: right;\n",
              "    }\n",
              "</style>\n",
              "<table border=\"1\" class=\"dataframe\">\n",
              "  <thead>\n",
              "    <tr style=\"text-align: right;\">\n",
              "      <th></th>\n",
              "      <th>y</th>\n",
              "      <th>x1</th>\n",
              "      <th>x2</th>\n",
              "      <th>x3</th>\n",
              "      <th>x4</th>\n",
              "      <th>x5</th>\n",
              "      <th>x6</th>\n",
              "      <th>x7</th>\n",
              "      <th>x8</th>\n",
              "      <th>x9</th>\n",
              "      <th>x10</th>\n",
              "      <th>x11</th>\n",
              "      <th>x12</th>\n",
              "      <th>x13</th>\n",
              "      <th>x14</th>\n",
              "      <th>x15</th>\n",
              "      <th>x16</th>\n",
              "      <th>x17</th>\n",
              "      <th>x18</th>\n",
              "      <th>x19</th>\n",
              "      <th>x20</th>\n",
              "      <th>x21</th>\n",
              "      <th>x22</th>\n",
              "      <th>x23</th>\n",
              "      <th>x24</th>\n",
              "      <th>x25</th>\n",
              "      <th>x26</th>\n",
              "      <th>x27</th>\n",
              "      <th>x28</th>\n",
              "      <th>x29</th>\n",
              "      <th>x30</th>\n",
              "      <th>x31</th>\n",
              "      <th>x32</th>\n",
              "      <th>x33</th>\n",
              "      <th>x34</th>\n",
              "      <th>x35</th>\n",
              "      <th>x36</th>\n",
              "      <th>x37</th>\n",
              "      <th>x38</th>\n",
              "      <th>x39</th>\n",
              "      <th>x40</th>\n",
              "      <th>x41</th>\n",
              "      <th>x42</th>\n",
              "      <th>x43</th>\n",
              "      <th>x44</th>\n",
              "      <th>x45</th>\n",
              "      <th>x46</th>\n",
              "      <th>x47</th>\n",
              "      <th>x48</th>\n",
              "      <th>x49</th>\n",
              "      <th>x50</th>\n",
              "      <th>x51</th>\n",
              "      <th>x52</th>\n",
              "      <th>x53</th>\n",
              "      <th>x54</th>\n",
              "      <th>x55</th>\n",
              "      <th>x56</th>\n",
              "      <th>x57</th>\n",
              "      <th>x58</th>\n",
              "      <th>x59</th>\n",
              "      <th>x60</th>\n",
              "      <th>x61</th>\n",
              "      <th>x62</th>\n",
              "      <th>x63</th>\n",
              "      <th>x64</th>\n",
              "    </tr>\n",
              "  </thead>\n",
              "  <tbody>\n",
              "    <tr>\n",
              "      <th>0</th>\n",
              "      <td>0.0</td>\n",
              "      <td>0.0</td>\n",
              "      <td>0.0</td>\n",
              "      <td>5.0</td>\n",
              "      <td>13.0</td>\n",
              "      <td>9.0</td>\n",
              "      <td>1.0</td>\n",
              "      <td>0.0</td>\n",
              "      <td>0.0</td>\n",
              "      <td>0.0</td>\n",
              "      <td>0.0</td>\n",
              "      <td>13.0</td>\n",
              "      <td>15.0</td>\n",
              "      <td>10.0</td>\n",
              "      <td>15.0</td>\n",
              "      <td>5.0</td>\n",
              "      <td>0.0</td>\n",
              "      <td>0.0</td>\n",
              "      <td>3.0</td>\n",
              "      <td>15.0</td>\n",
              "      <td>2.0</td>\n",
              "      <td>0.0</td>\n",
              "      <td>11.0</td>\n",
              "      <td>8.0</td>\n",
              "      <td>0.0</td>\n",
              "      <td>0.0</td>\n",
              "      <td>4.0</td>\n",
              "      <td>12.0</td>\n",
              "      <td>0.0</td>\n",
              "      <td>0.0</td>\n",
              "      <td>8.0</td>\n",
              "      <td>8.0</td>\n",
              "      <td>0.0</td>\n",
              "      <td>0.0</td>\n",
              "      <td>5.0</td>\n",
              "      <td>8.0</td>\n",
              "      <td>0.0</td>\n",
              "      <td>0.0</td>\n",
              "      <td>9.0</td>\n",
              "      <td>8.0</td>\n",
              "      <td>0.0</td>\n",
              "      <td>0.0</td>\n",
              "      <td>4.0</td>\n",
              "      <td>11.0</td>\n",
              "      <td>0.0</td>\n",
              "      <td>1.0</td>\n",
              "      <td>12.0</td>\n",
              "      <td>7.0</td>\n",
              "      <td>0.0</td>\n",
              "      <td>0.0</td>\n",
              "      <td>2.0</td>\n",
              "      <td>14.0</td>\n",
              "      <td>5.0</td>\n",
              "      <td>10.0</td>\n",
              "      <td>12.0</td>\n",
              "      <td>0.0</td>\n",
              "      <td>0.0</td>\n",
              "      <td>0.0</td>\n",
              "      <td>0.0</td>\n",
              "      <td>6.0</td>\n",
              "      <td>13.0</td>\n",
              "      <td>10.0</td>\n",
              "      <td>0.0</td>\n",
              "      <td>0.0</td>\n",
              "      <td>0.0</td>\n",
              "    </tr>\n",
              "    <tr>\n",
              "      <th>1</th>\n",
              "      <td>1.0</td>\n",
              "      <td>0.0</td>\n",
              "      <td>0.0</td>\n",
              "      <td>0.0</td>\n",
              "      <td>12.0</td>\n",
              "      <td>13.0</td>\n",
              "      <td>5.0</td>\n",
              "      <td>0.0</td>\n",
              "      <td>0.0</td>\n",
              "      <td>0.0</td>\n",
              "      <td>0.0</td>\n",
              "      <td>0.0</td>\n",
              "      <td>11.0</td>\n",
              "      <td>16.0</td>\n",
              "      <td>9.0</td>\n",
              "      <td>0.0</td>\n",
              "      <td>0.0</td>\n",
              "      <td>0.0</td>\n",
              "      <td>0.0</td>\n",
              "      <td>3.0</td>\n",
              "      <td>15.0</td>\n",
              "      <td>16.0</td>\n",
              "      <td>6.0</td>\n",
              "      <td>0.0</td>\n",
              "      <td>0.0</td>\n",
              "      <td>0.0</td>\n",
              "      <td>7.0</td>\n",
              "      <td>15.0</td>\n",
              "      <td>16.0</td>\n",
              "      <td>16.0</td>\n",
              "      <td>2.0</td>\n",
              "      <td>0.0</td>\n",
              "      <td>0.0</td>\n",
              "      <td>0.0</td>\n",
              "      <td>0.0</td>\n",
              "      <td>1.0</td>\n",
              "      <td>16.0</td>\n",
              "      <td>16.0</td>\n",
              "      <td>3.0</td>\n",
              "      <td>0.0</td>\n",
              "      <td>0.0</td>\n",
              "      <td>0.0</td>\n",
              "      <td>0.0</td>\n",
              "      <td>1.0</td>\n",
              "      <td>16.0</td>\n",
              "      <td>16.0</td>\n",
              "      <td>6.0</td>\n",
              "      <td>0.0</td>\n",
              "      <td>0.0</td>\n",
              "      <td>0.0</td>\n",
              "      <td>0.0</td>\n",
              "      <td>1.0</td>\n",
              "      <td>16.0</td>\n",
              "      <td>16.0</td>\n",
              "      <td>6.0</td>\n",
              "      <td>0.0</td>\n",
              "      <td>0.0</td>\n",
              "      <td>0.0</td>\n",
              "      <td>0.0</td>\n",
              "      <td>0.0</td>\n",
              "      <td>11.0</td>\n",
              "      <td>16.0</td>\n",
              "      <td>10.0</td>\n",
              "      <td>0.0</td>\n",
              "      <td>0.0</td>\n",
              "    </tr>\n",
              "    <tr>\n",
              "      <th>2</th>\n",
              "      <td>2.0</td>\n",
              "      <td>0.0</td>\n",
              "      <td>0.0</td>\n",
              "      <td>0.0</td>\n",
              "      <td>4.0</td>\n",
              "      <td>15.0</td>\n",
              "      <td>12.0</td>\n",
              "      <td>0.0</td>\n",
              "      <td>0.0</td>\n",
              "      <td>0.0</td>\n",
              "      <td>0.0</td>\n",
              "      <td>3.0</td>\n",
              "      <td>16.0</td>\n",
              "      <td>15.0</td>\n",
              "      <td>14.0</td>\n",
              "      <td>0.0</td>\n",
              "      <td>0.0</td>\n",
              "      <td>0.0</td>\n",
              "      <td>0.0</td>\n",
              "      <td>8.0</td>\n",
              "      <td>13.0</td>\n",
              "      <td>8.0</td>\n",
              "      <td>16.0</td>\n",
              "      <td>0.0</td>\n",
              "      <td>0.0</td>\n",
              "      <td>0.0</td>\n",
              "      <td>0.0</td>\n",
              "      <td>1.0</td>\n",
              "      <td>6.0</td>\n",
              "      <td>15.0</td>\n",
              "      <td>11.0</td>\n",
              "      <td>0.0</td>\n",
              "      <td>0.0</td>\n",
              "      <td>0.0</td>\n",
              "      <td>1.0</td>\n",
              "      <td>8.0</td>\n",
              "      <td>13.0</td>\n",
              "      <td>15.0</td>\n",
              "      <td>1.0</td>\n",
              "      <td>0.0</td>\n",
              "      <td>0.0</td>\n",
              "      <td>0.0</td>\n",
              "      <td>9.0</td>\n",
              "      <td>16.0</td>\n",
              "      <td>16.0</td>\n",
              "      <td>5.0</td>\n",
              "      <td>0.0</td>\n",
              "      <td>0.0</td>\n",
              "      <td>0.0</td>\n",
              "      <td>0.0</td>\n",
              "      <td>3.0</td>\n",
              "      <td>13.0</td>\n",
              "      <td>16.0</td>\n",
              "      <td>16.0</td>\n",
              "      <td>11.0</td>\n",
              "      <td>5.0</td>\n",
              "      <td>0.0</td>\n",
              "      <td>0.0</td>\n",
              "      <td>0.0</td>\n",
              "      <td>0.0</td>\n",
              "      <td>3.0</td>\n",
              "      <td>11.0</td>\n",
              "      <td>16.0</td>\n",
              "      <td>9.0</td>\n",
              "      <td>0.0</td>\n",
              "    </tr>\n",
              "    <tr>\n",
              "      <th>3</th>\n",
              "      <td>3.0</td>\n",
              "      <td>0.0</td>\n",
              "      <td>0.0</td>\n",
              "      <td>7.0</td>\n",
              "      <td>15.0</td>\n",
              "      <td>13.0</td>\n",
              "      <td>1.0</td>\n",
              "      <td>0.0</td>\n",
              "      <td>0.0</td>\n",
              "      <td>0.0</td>\n",
              "      <td>8.0</td>\n",
              "      <td>13.0</td>\n",
              "      <td>6.0</td>\n",
              "      <td>15.0</td>\n",
              "      <td>4.0</td>\n",
              "      <td>0.0</td>\n",
              "      <td>0.0</td>\n",
              "      <td>0.0</td>\n",
              "      <td>2.0</td>\n",
              "      <td>1.0</td>\n",
              "      <td>13.0</td>\n",
              "      <td>13.0</td>\n",
              "      <td>0.0</td>\n",
              "      <td>0.0</td>\n",
              "      <td>0.0</td>\n",
              "      <td>0.0</td>\n",
              "      <td>0.0</td>\n",
              "      <td>2.0</td>\n",
              "      <td>15.0</td>\n",
              "      <td>11.0</td>\n",
              "      <td>1.0</td>\n",
              "      <td>0.0</td>\n",
              "      <td>0.0</td>\n",
              "      <td>0.0</td>\n",
              "      <td>0.0</td>\n",
              "      <td>0.0</td>\n",
              "      <td>1.0</td>\n",
              "      <td>12.0</td>\n",
              "      <td>12.0</td>\n",
              "      <td>1.0</td>\n",
              "      <td>0.0</td>\n",
              "      <td>0.0</td>\n",
              "      <td>0.0</td>\n",
              "      <td>0.0</td>\n",
              "      <td>0.0</td>\n",
              "      <td>1.0</td>\n",
              "      <td>10.0</td>\n",
              "      <td>8.0</td>\n",
              "      <td>0.0</td>\n",
              "      <td>0.0</td>\n",
              "      <td>0.0</td>\n",
              "      <td>8.0</td>\n",
              "      <td>4.0</td>\n",
              "      <td>5.0</td>\n",
              "      <td>14.0</td>\n",
              "      <td>9.0</td>\n",
              "      <td>0.0</td>\n",
              "      <td>0.0</td>\n",
              "      <td>0.0</td>\n",
              "      <td>7.0</td>\n",
              "      <td>13.0</td>\n",
              "      <td>13.0</td>\n",
              "      <td>9.0</td>\n",
              "      <td>0.0</td>\n",
              "      <td>0.0</td>\n",
              "    </tr>\n",
              "    <tr>\n",
              "      <th>4</th>\n",
              "      <td>4.0</td>\n",
              "      <td>0.0</td>\n",
              "      <td>0.0</td>\n",
              "      <td>0.0</td>\n",
              "      <td>1.0</td>\n",
              "      <td>11.0</td>\n",
              "      <td>0.0</td>\n",
              "      <td>0.0</td>\n",
              "      <td>0.0</td>\n",
              "      <td>0.0</td>\n",
              "      <td>0.0</td>\n",
              "      <td>0.0</td>\n",
              "      <td>7.0</td>\n",
              "      <td>8.0</td>\n",
              "      <td>0.0</td>\n",
              "      <td>0.0</td>\n",
              "      <td>0.0</td>\n",
              "      <td>0.0</td>\n",
              "      <td>0.0</td>\n",
              "      <td>1.0</td>\n",
              "      <td>13.0</td>\n",
              "      <td>6.0</td>\n",
              "      <td>2.0</td>\n",
              "      <td>2.0</td>\n",
              "      <td>0.0</td>\n",
              "      <td>0.0</td>\n",
              "      <td>0.0</td>\n",
              "      <td>7.0</td>\n",
              "      <td>15.0</td>\n",
              "      <td>0.0</td>\n",
              "      <td>9.0</td>\n",
              "      <td>8.0</td>\n",
              "      <td>0.0</td>\n",
              "      <td>0.0</td>\n",
              "      <td>5.0</td>\n",
              "      <td>16.0</td>\n",
              "      <td>10.0</td>\n",
              "      <td>0.0</td>\n",
              "      <td>16.0</td>\n",
              "      <td>6.0</td>\n",
              "      <td>0.0</td>\n",
              "      <td>0.0</td>\n",
              "      <td>4.0</td>\n",
              "      <td>15.0</td>\n",
              "      <td>16.0</td>\n",
              "      <td>13.0</td>\n",
              "      <td>16.0</td>\n",
              "      <td>1.0</td>\n",
              "      <td>0.0</td>\n",
              "      <td>0.0</td>\n",
              "      <td>0.0</td>\n",
              "      <td>0.0</td>\n",
              "      <td>3.0</td>\n",
              "      <td>15.0</td>\n",
              "      <td>10.0</td>\n",
              "      <td>0.0</td>\n",
              "      <td>0.0</td>\n",
              "      <td>0.0</td>\n",
              "      <td>0.0</td>\n",
              "      <td>0.0</td>\n",
              "      <td>2.0</td>\n",
              "      <td>16.0</td>\n",
              "      <td>4.0</td>\n",
              "      <td>0.0</td>\n",
              "      <td>0.0</td>\n",
              "    </tr>\n",
              "  </tbody>\n",
              "</table>\n",
              "</div>"
            ],
            "text/plain": [
              "     y   x1   x2   x3    x4    x5    x6  ...  x58  x59   x60   x61   x62  x63  x64\n",
              "0  0.0  0.0  0.0  5.0  13.0   9.0   1.0  ...  0.0  6.0  13.0  10.0   0.0  0.0  0.0\n",
              "1  1.0  0.0  0.0  0.0  12.0  13.0   5.0  ...  0.0  0.0  11.0  16.0  10.0  0.0  0.0\n",
              "2  2.0  0.0  0.0  0.0   4.0  15.0  12.0  ...  0.0  0.0   3.0  11.0  16.0  9.0  0.0\n",
              "3  3.0  0.0  0.0  7.0  15.0  13.0   1.0  ...  0.0  7.0  13.0  13.0   9.0  0.0  0.0\n",
              "4  4.0  0.0  0.0  0.0   1.0  11.0   0.0  ...  0.0  0.0   2.0  16.0   4.0  0.0  0.0\n",
              "\n",
              "[5 rows x 65 columns]"
            ]
          },
          "metadata": {
            "tags": []
          },
          "execution_count": 2
        }
      ]
    },
    {
      "cell_type": "code",
      "metadata": {
        "id": "GIcuanVr2V9p",
        "colab_type": "code",
        "outputId": "33deeaab-4671-45b6-8966-59931d00822c",
        "colab": {
          "base_uri": "https://localhost:8080/",
          "height": 34
        }
      },
      "source": [
        "#original image data is a 2D array\n",
        "X.shape"
      ],
      "execution_count": 3,
      "outputs": [
        {
          "output_type": "execute_result",
          "data": {
            "text/plain": [
              "(1797, 64)"
            ]
          },
          "metadata": {
            "tags": []
          },
          "execution_count": 3
        }
      ]
    },
    {
      "cell_type": "code",
      "metadata": {
        "id": "m6tzMvTm2V95",
        "colab_type": "code",
        "colab": {}
      },
      "source": [
        "#split data into training, validation and test samples\n",
        "X1=X[:1000,:]; y1=y[:1000]\n",
        "X2=X[1000:-300,:]; y2=y[1000:-300]\n",
        "X3=X[-300:,:]; y3=y[-300:]"
      ],
      "execution_count": 0,
      "outputs": []
    },
    {
      "cell_type": "markdown",
      "metadata": {
        "id": "qZZTixY52V-C",
        "colab_type": "text"
      },
      "source": [
        "#### If we take the first 10 observations and reconstruct the graph and we could see:  "
      ]
    },
    {
      "cell_type": "code",
      "metadata": {
        "scrolled": true,
        "id": "8e-aU9342V-F",
        "colab_type": "code",
        "outputId": "be2c5c20-3f32-4369-eee7-ee11d7640e39",
        "colab": {
          "base_uri": "https://localhost:8080/",
          "height": 116
        }
      },
      "source": [
        "#plot the digits using imshow from matplotlib\n",
        "plt.figure(figsize=(10,1))\n",
        "print(\"Label:{}\".format(list(y[:10])))\n",
        "for i in range(10):\n",
        "    plt.subplot(1,10,i+1)\n",
        "    plt.imshow(X[i].reshape(8,8), cmap=plt.cm.gray_r)\n",
        "plt.show()"
      ],
      "execution_count": 5,
      "outputs": [
        {
          "output_type": "stream",
          "text": [
            "Label:[0, 1, 2, 3, 4, 5, 6, 7, 8, 9]\n"
          ],
          "name": "stdout"
        },
        {
          "output_type": "display_data",
          "data": {
            "image/png": "[encoded data removed]",
            "text/plain": [
              "<Figure size 720x72 with 10 Axes>"
            ]
          },
          "metadata": {
            "tags": []
          }
        }
      ]
    },
    {
      "cell_type": "code",
      "metadata": {
        "id": "VQqawAseKdOq",
        "colab_type": "code",
        "outputId": "d8a95bec-702d-4dd1-e643-9851f115dd56",
        "colab": {
          "base_uri": "https://localhost:8080/",
          "height": 34
        }
      },
      "source": [
        "print(\"{},{},{}\".format(X1.shape[0],X2.shape[0],X3.shape[0]))"
      ],
      "execution_count": 6,
      "outputs": [
        {
          "output_type": "stream",
          "text": [
            "1000,497,300\n"
          ],
          "name": "stdout"
        }
      ]
    },
    {
      "cell_type": "markdown",
      "metadata": {
        "id": "fExaCNiN2V-M",
        "colab_type": "text"
      },
      "source": [
        "Now apply PCA to see if we can describe the data with a smaller number of most significant features"
      ]
    },
    {
      "cell_type": "markdown",
      "metadata": {
        "id": "rPhB2ABO2V-Q",
        "colab_type": "text"
      },
      "source": [
        "### Q1. Use PCA to transform the first 1000 digit images (X1). How many leading principal components are needed to cover a)50%, b)80% of the information from the original dataset?\n",
        "Make sure to standardize the data beofe applying PCA"
      ]
    },
    {
      "cell_type": "code",
      "metadata": {
        "id": "1BsG-wYfCin1",
        "colab_type": "code",
        "colab": {}
      },
      "source": [
        "#X is the original data set with 1797 rows, and 64 features\n",
        "#X1 is the training set with 1000 rows\n",
        "#X2 is the validation set with 497 rows\n",
        "#X3 is the testing set with 300 rows "
      ],
      "execution_count": 0,
      "outputs": []
    },
    {
      "cell_type": "code",
      "metadata": {
        "id": "FwgDzoA6OdDT",
        "colab_type": "code",
        "colab": {}
      },
      "source": [
        "scaler = StandardScaler()\n",
        "X1 = scaler.fit_transform(X1)"
      ],
      "execution_count": 0,
      "outputs": []
    },
    {
      "cell_type": "code",
      "metadata": {
        "id": "M0Fxrf-FK_g_",
        "colab_type": "code",
        "colab": {}
      },
      "source": [
        "u,s,v = np.linalg.svd(X1)"
      ],
      "execution_count": 0,
      "outputs": []
    },
    {
      "cell_type": "code",
      "metadata": {
        "id": "f7Zg_-XdLFEY",
        "colab_type": "code",
        "colab": {}
      },
      "source": [
        "var_dict = {}\n",
        "for k in range(0, 64):\n",
        "  var_dict[k] = (s[k]/s.sum())*100"
      ],
      "execution_count": 0,
      "outputs": []
    },
    {
      "cell_type": "code",
      "metadata": {
        "id": "rMKIodqTCn9Z",
        "colab_type": "code",
        "outputId": "79c34a23-85ab-473d-a685-85b2c6fc1981",
        "colab": {
          "base_uri": "https://localhost:8080/",
          "height": 235
        }
      },
      "source": [
        "df = pd.DataFrame.from_dict(var_dict, orient = 'index', columns = ['Variance Retained'])\n",
        "df.index.name = 'Principal Component'\n",
        "df.head()"
      ],
      "execution_count": 11,
      "outputs": [
        {
          "output_type": "execute_result",
          "data": {
            "text/html": [
              "<div>\n",
              "<style scoped>\n",
              "    .dataframe tbody tr th:only-of-type {\n",
              "        vertical-align: middle;\n",
              "    }\n",
              "\n",
              "    .dataframe tbody tr th {\n",
              "        vertical-align: top;\n",
              "    }\n",
              "\n",
              "    .dataframe thead th {\n",
              "        text-align: right;\n",
              "    }\n",
              "</style>\n",
              "<table border=\"1\" class=\"dataframe\">\n",
              "  <thead>\n",
              "    <tr style=\"text-align: right;\">\n",
              "      <th></th>\n",
              "      <th>Variance Retained</th>\n",
              "    </tr>\n",
              "    <tr>\n",
              "      <th>Principal Component</th>\n",
              "      <th></th>\n",
              "    </tr>\n",
              "  </thead>\n",
              "  <tbody>\n",
              "    <tr>\n",
              "      <th>0</th>\n",
              "      <td>5.378238</td>\n",
              "    </tr>\n",
              "    <tr>\n",
              "      <th>1</th>\n",
              "      <td>4.818316</td>\n",
              "    </tr>\n",
              "    <tr>\n",
              "      <th>2</th>\n",
              "      <td>4.458901</td>\n",
              "    </tr>\n",
              "    <tr>\n",
              "      <th>3</th>\n",
              "      <td>4.123033</td>\n",
              "    </tr>\n",
              "    <tr>\n",
              "      <th>4</th>\n",
              "      <td>3.550910</td>\n",
              "    </tr>\n",
              "  </tbody>\n",
              "</table>\n",
              "</div>"
            ],
            "text/plain": [
              "                     Variance Retained\n",
              "Principal Component                   \n",
              "0                             5.378238\n",
              "1                             4.818316\n",
              "2                             4.458901\n",
              "3                             4.123033\n",
              "4                             3.550910"
            ]
          },
          "metadata": {
            "tags": []
          },
          "execution_count": 11
        }
      ]
    },
    {
      "cell_type": "code",
      "metadata": {
        "id": "4OQ4mJSOPBsv",
        "colab_type": "code",
        "colab": {}
      },
      "source": [
        "covar_matrix = PCA(n_components = 64)\n",
        "covar_matrix.fit_transform(X1)\n",
        "variance = covar_matrix.explained_variance_ratio_ \n",
        "var=np.cumsum(np.round(covar_matrix.explained_variance_ratio_, decimals=2)*100)"
      ],
      "execution_count": 0,
      "outputs": []
    },
    {
      "cell_type": "code",
      "metadata": {
        "id": "dCZwg5gyPasx",
        "colab_type": "code",
        "outputId": "58261ce6-f679-43b3-fa0f-c2ed0cb1f6ec",
        "colab": {
          "base_uri": "https://localhost:8080/",
          "height": 104
        }
      },
      "source": [
        "var"
      ],
      "execution_count": 13,
      "outputs": [
        {
          "output_type": "execute_result",
          "data": {
            "text/plain": [
              "array([12., 22., 30., 37., 42., 46., 50., 53., 56., 59., 62., 64., 66.,\n",
              "       68., 70., 72., 74., 76., 78., 80., 81., 82., 83., 84., 85., 86.,\n",
              "       87., 88., 89., 90., 91., 92., 93., 94., 95., 96., 96., 96., 96.,\n",
              "       96., 96., 96., 96., 96., 96., 96., 96., 96., 96., 96., 96., 96.,\n",
              "       96., 96., 96., 96., 96., 96., 96., 96., 96., 96., 96., 96.])"
            ]
          },
          "metadata": {
            "tags": []
          },
          "execution_count": 13
        }
      ]
    },
    {
      "cell_type": "code",
      "metadata": {
        "id": "l0aNTtUheMPC",
        "colab_type": "code",
        "outputId": "80d9f359-3844-4dae-bd43-cc0fb360814e",
        "colab": {
          "base_uri": "https://localhost:8080/",
          "height": 380
        }
      },
      "source": [
        "fig, ax = plt.subplots(figsize = (20,5))\n",
        "ax.grid()\n",
        "#ax.set_yticks(ticks = np.arange(0,200,10))\n",
        "ax.set_xlim(xmin=0, xmax = 62)\n",
        "plt.plot(var, linewidth = 3, color = 'magenta')\n",
        "plt.plot(np.where(var ==50)[0][0], 50, marker='x', mew = 6,markersize=20, color=\"k\")\n",
        "plt.plot(np.where(var ==80)[0][0], 80, marker='x', mew = 6, markersize=20, color='k')\n",
        "\n",
        "plt.text(np.where(var == 50)[0][0]-1, 50+5,'50%', verticalalignment = 'top', horizontalalignment = 'right', fontsize = 15)\n",
        "plt.text(np.where(var == 80)[0][0]-1, 80+5,'80%', verticalalignment = 'top', horizontalalignment = 'right', fontsize = 15)\n",
        "\n",
        "\n",
        "plt.text(np.where(var == 50)[0][0]-1, 50-40,str(np.where(var == 50)[0][0])+' Components', verticalalignment = 'bottom', horizontalalignment = 'center', fontsize = 10)\n",
        "plt.text(np.where(var == 80)[0][0]-1, 80-70,str(np.where(var == 80)[0][0])+' Components', verticalalignment = 'bottom', horizontalalignment = 'center', fontsize = 10)\n",
        "\n",
        "\n",
        "\n",
        "ax.axvline(np.where(var == 50)[0][0],color ='red', linestyle ='--', ymin = 0, ymax = 0.46, alpha = 0.5)\n",
        "ax.axvline(np.where(var == 80)[0][0],color ='red', linestyle ='--', ymin = 0, ymax = 0.78, alpha = 0.5)\n",
        "\n",
        "ax.axhline(y=50, color = 'red', linestyle = '--', xmin = 0, xmax = 0.1, alpha = 0.5)\n",
        "ax.axhline(y=80, color = 'red', linestyle = '--', xmin = 0, xmax = 0.3, alpha = 0.5)\n",
        "\n",
        "plt.xlabel('Number of Features', fontsize = 15)\n",
        "plt.ylabel('Information retained', fontsize = 15)\n",
        "plt.title('Information on PCA analysis', fontsize =19)\n",
        "\n",
        "plt.xticks(fontsize = 10)\n",
        "plt.yticks(fontsize = 10)\n",
        "plt.show()"
      ],
      "execution_count": 14,
      "outputs": [
        {
          "output_type": "display_data",
          "data": {
            "image/png": "[encoded data removed]",
            "text/plain": [
              "<Figure size 1440x360 with 1 Axes>"
            ]
          },
          "metadata": {
            "tags": []
          }
        }
      ]
    },
    {
      "cell_type": "markdown",
      "metadata": {
        "id": "JnSAkN762V-T",
        "colab_type": "text"
      },
      "source": [
        "### Q2. Visualize digits 3, 6, 7 (y=3,6,7) using the first two principal components of X1  "
      ]
    },
    {
      "cell_type": "code",
      "metadata": {
        "id": "bi_AMUmAvJPU",
        "colab_type": "code",
        "colab": {}
      },
      "source": [
        "pca_train = PCA(X1.shape[1])\n",
        "X1 = pca_train.fit_transform(X1)"
      ],
      "execution_count": 0,
      "outputs": []
    },
    {
      "cell_type": "code",
      "metadata": {
        "id": "pviYYjIckzgp",
        "colab_type": "code",
        "colab": {}
      },
      "source": [
        "X2 = scaler.transform(X2)\n",
        "X3 = scaler.transform(X3)\n",
        "\n",
        "X2 = pca_train.transform(X2)\n",
        "X3 = pca_train.transform(X3)"
      ],
      "execution_count": 0,
      "outputs": []
    },
    {
      "cell_type": "code",
      "metadata": {
        "id": "fh3vzgyH5Xc7",
        "colab_type": "code",
        "colab": {}
      },
      "source": [
        "X1_copy = X1.copy()\n",
        "X2_copy = X2.copy()\n",
        "X3_copy = X3.copy()"
      ],
      "execution_count": 0,
      "outputs": []
    },
    {
      "cell_type": "code",
      "metadata": {
        "id": "lBZcRRpLLEFf",
        "colab_type": "code",
        "outputId": "12ad3a61-4505-4fe2-fe44-4550c4ace9d9",
        "colab": {
          "base_uri": "https://localhost:8080/",
          "height": 313
        }
      },
      "source": [
        "digits = [3,6,7]\n",
        "count = 1\n",
        "\n",
        "plt.figure(figsize=(20,15))\n",
        "\n",
        "for digit in digits:\n",
        "  plt.subplot(1,4, count)\n",
        "  plt.xlabel('Digit=%i' %digit, fontsize =16)\n",
        "  plt.imshow(X1[digit][:].reshape(8,8), cmap=plt.cm.gray_r)\n",
        "  count+=1\n",
        "\n",
        "plt.show()"
      ],
      "execution_count": 18,
      "outputs": [
        {
          "output_type": "display_data",
          "data": {
            "image/png": "[encoded data removed]",
            "text/plain": [
              "<Figure size 1440x1080 with 3 Axes>"
            ]
          },
          "metadata": {
            "tags": []
          }
        }
      ]
    },
    {
      "cell_type": "code",
      "metadata": {
        "id": "dhkQGhvhvaRy",
        "colab_type": "code",
        "outputId": "62f60287-3f41-475d-b158-02e4884a29eb",
        "colab": {
          "base_uri": "https://localhost:8080/",
          "height": 165
        }
      },
      "source": [
        "temp_y = y1.copy()\n",
        "temp_y = pd.DataFrame(temp_y)\n",
        "temp_y.columns = ['Labels']\n",
        "\n",
        "tp = pd.DataFrame(X1)\n",
        "tp = tp.merge(temp_y, on = tp.index)\n",
        "tp.drop('key_0', axis = 1, inplace = True)\n",
        "tp.head(2)"
      ],
      "execution_count": 19,
      "outputs": [
        {
          "output_type": "execute_result",
          "data": {
            "text/html": [
              "<div>\n",
              "<style scoped>\n",
              "    .dataframe tbody tr th:only-of-type {\n",
              "        vertical-align: middle;\n",
              "    }\n",
              "\n",
              "    .dataframe tbody tr th {\n",
              "        vertical-align: top;\n",
              "    }\n",
              "\n",
              "    .dataframe thead th {\n",
              "        text-align: right;\n",
              "    }\n",
              "</style>\n",
              "<table border=\"1\" class=\"dataframe\">\n",
              "  <thead>\n",
              "    <tr style=\"text-align: right;\">\n",
              "      <th></th>\n",
              "      <th>0</th>\n",
              "      <th>1</th>\n",
              "      <th>2</th>\n",
              "      <th>3</th>\n",
              "      <th>4</th>\n",
              "      <th>5</th>\n",
              "      <th>6</th>\n",
              "      <th>7</th>\n",
              "      <th>8</th>\n",
              "      <th>9</th>\n",
              "      <th>10</th>\n",
              "      <th>11</th>\n",
              "      <th>12</th>\n",
              "      <th>13</th>\n",
              "      <th>14</th>\n",
              "      <th>15</th>\n",
              "      <th>16</th>\n",
              "      <th>17</th>\n",
              "      <th>18</th>\n",
              "      <th>19</th>\n",
              "      <th>20</th>\n",
              "      <th>21</th>\n",
              "      <th>22</th>\n",
              "      <th>23</th>\n",
              "      <th>24</th>\n",
              "      <th>25</th>\n",
              "      <th>26</th>\n",
              "      <th>27</th>\n",
              "      <th>28</th>\n",
              "      <th>29</th>\n",
              "      <th>30</th>\n",
              "      <th>31</th>\n",
              "      <th>32</th>\n",
              "      <th>33</th>\n",
              "      <th>34</th>\n",
              "      <th>35</th>\n",
              "      <th>36</th>\n",
              "      <th>37</th>\n",
              "      <th>38</th>\n",
              "      <th>39</th>\n",
              "      <th>40</th>\n",
              "      <th>41</th>\n",
              "      <th>42</th>\n",
              "      <th>43</th>\n",
              "      <th>44</th>\n",
              "      <th>45</th>\n",
              "      <th>46</th>\n",
              "      <th>47</th>\n",
              "      <th>48</th>\n",
              "      <th>49</th>\n",
              "      <th>50</th>\n",
              "      <th>51</th>\n",
              "      <th>52</th>\n",
              "      <th>53</th>\n",
              "      <th>54</th>\n",
              "      <th>55</th>\n",
              "      <th>56</th>\n",
              "      <th>57</th>\n",
              "      <th>58</th>\n",
              "      <th>59</th>\n",
              "      <th>60</th>\n",
              "      <th>61</th>\n",
              "      <th>62</th>\n",
              "      <th>63</th>\n",
              "      <th>Labels</th>\n",
              "    </tr>\n",
              "  </thead>\n",
              "  <tbody>\n",
              "    <tr>\n",
              "      <th>0</th>\n",
              "      <td>1.462621</td>\n",
              "      <td>-1.481760</td>\n",
              "      <td>-4.425389</td>\n",
              "      <td>1.440417</td>\n",
              "      <td>0.007824</td>\n",
              "      <td>0.649491</td>\n",
              "      <td>-0.607300</td>\n",
              "      <td>1.320935</td>\n",
              "      <td>0.312769</td>\n",
              "      <td>-0.935029</td>\n",
              "      <td>-1.606039</td>\n",
              "      <td>-0.426827</td>\n",
              "      <td>0.146051</td>\n",
              "      <td>-0.059674</td>\n",
              "      <td>-0.076691</td>\n",
              "      <td>0.124832</td>\n",
              "      <td>0.397888</td>\n",
              "      <td>0.225177</td>\n",
              "      <td>0.651774</td>\n",
              "      <td>-0.261708</td>\n",
              "      <td>0.460698</td>\n",
              "      <td>-0.297874</td>\n",
              "      <td>0.156813</td>\n",
              "      <td>-0.702090</td>\n",
              "      <td>0.135084</td>\n",
              "      <td>-0.918619</td>\n",
              "      <td>-0.395283</td>\n",
              "      <td>0.022341</td>\n",
              "      <td>-0.274694</td>\n",
              "      <td>-0.085900</td>\n",
              "      <td>0.883113</td>\n",
              "      <td>0.074831</td>\n",
              "      <td>0.197003</td>\n",
              "      <td>-0.156985</td>\n",
              "      <td>0.463789</td>\n",
              "      <td>-0.105376</td>\n",
              "      <td>0.608007</td>\n",
              "      <td>0.102573</td>\n",
              "      <td>0.486562</td>\n",
              "      <td>0.224760</td>\n",
              "      <td>0.406068</td>\n",
              "      <td>-0.092116</td>\n",
              "      <td>-0.158869</td>\n",
              "      <td>-0.284971</td>\n",
              "      <td>0.298139</td>\n",
              "      <td>-0.087117</td>\n",
              "      <td>-0.196777</td>\n",
              "      <td>0.183548</td>\n",
              "      <td>-0.348442</td>\n",
              "      <td>-0.157381</td>\n",
              "      <td>-0.451699</td>\n",
              "      <td>0.139014</td>\n",
              "      <td>-0.308440</td>\n",
              "      <td>-0.175983</td>\n",
              "      <td>-0.003409</td>\n",
              "      <td>0.246271</td>\n",
              "      <td>-0.434251</td>\n",
              "      <td>0.031675</td>\n",
              "      <td>-0.102806</td>\n",
              "      <td>-0.062538</td>\n",
              "      <td>-0.080752</td>\n",
              "      <td>-0.000000e+00</td>\n",
              "      <td>0.000000e+00</td>\n",
              "      <td>6.124685e-15</td>\n",
              "      <td>0</td>\n",
              "    </tr>\n",
              "    <tr>\n",
              "      <th>1</th>\n",
              "      <td>0.657289</td>\n",
              "      <td>0.588974</td>\n",
              "      <td>4.141148</td>\n",
              "      <td>-0.925951</td>\n",
              "      <td>-1.091260</td>\n",
              "      <td>-0.722809</td>\n",
              "      <td>1.234368</td>\n",
              "      <td>-0.019765</td>\n",
              "      <td>0.840140</td>\n",
              "      <td>-0.966422</td>\n",
              "      <td>1.219414</td>\n",
              "      <td>0.206339</td>\n",
              "      <td>0.234494</td>\n",
              "      <td>-0.052982</td>\n",
              "      <td>0.144577</td>\n",
              "      <td>-0.049195</td>\n",
              "      <td>0.083447</td>\n",
              "      <td>-0.012699</td>\n",
              "      <td>0.212858</td>\n",
              "      <td>-0.541850</td>\n",
              "      <td>-0.223992</td>\n",
              "      <td>-0.458697</td>\n",
              "      <td>0.409530</td>\n",
              "      <td>1.660651</td>\n",
              "      <td>-0.663689</td>\n",
              "      <td>1.023845</td>\n",
              "      <td>1.345243</td>\n",
              "      <td>-0.688930</td>\n",
              "      <td>-0.525926</td>\n",
              "      <td>-0.604329</td>\n",
              "      <td>0.685116</td>\n",
              "      <td>1.094659</td>\n",
              "      <td>0.609796</td>\n",
              "      <td>-0.640081</td>\n",
              "      <td>0.192677</td>\n",
              "      <td>-0.686881</td>\n",
              "      <td>-0.052886</td>\n",
              "      <td>0.007073</td>\n",
              "      <td>0.093480</td>\n",
              "      <td>0.288437</td>\n",
              "      <td>0.029621</td>\n",
              "      <td>-0.025959</td>\n",
              "      <td>0.465819</td>\n",
              "      <td>0.172998</td>\n",
              "      <td>1.111960</td>\n",
              "      <td>0.726697</td>\n",
              "      <td>-0.334721</td>\n",
              "      <td>0.039544</td>\n",
              "      <td>0.211111</td>\n",
              "      <td>-0.116396</td>\n",
              "      <td>-0.163679</td>\n",
              "      <td>-0.479411</td>\n",
              "      <td>0.092937</td>\n",
              "      <td>-0.198569</td>\n",
              "      <td>0.203673</td>\n",
              "      <td>0.391653</td>\n",
              "      <td>0.513634</td>\n",
              "      <td>0.067937</td>\n",
              "      <td>0.145519</td>\n",
              "      <td>-0.097069</td>\n",
              "      <td>0.053741</td>\n",
              "      <td>9.047608e-16</td>\n",
              "      <td>1.713640e-16</td>\n",
              "      <td>4.165349e-17</td>\n",
              "      <td>1</td>\n",
              "    </tr>\n",
              "  </tbody>\n",
              "</table>\n",
              "</div>"
            ],
            "text/plain": [
              "          0         1         2  ...            62            63  Labels\n",
              "0  1.462621 -1.481760 -4.425389  ...  0.000000e+00  6.124685e-15       0\n",
              "1  0.657289  0.588974  4.141148  ...  1.713640e-16  4.165349e-17       1\n",
              "\n",
              "[2 rows x 65 columns]"
            ]
          },
          "metadata": {
            "tags": []
          },
          "execution_count": 19
        }
      ]
    },
    {
      "cell_type": "code",
      "metadata": {
        "id": "oEKjscWisrQ0",
        "colab_type": "code",
        "outputId": "e380bdd9-d58f-4cc6-b33b-2efa737a259e",
        "colab": {
          "base_uri": "https://localhost:8080/",
          "height": 595
        }
      },
      "source": [
        "label = tp.Labels == 3\n",
        "x = tp[label]\n",
        "x.iloc[:,:2]\n",
        "digits = {3 : 'k',6: 'green',7: 'red'}\n",
        "\n",
        "fig, ax = plt.subplots(figsize = (15,10))\n",
        "plt.grid(alpha = 0.2)\n",
        "\n",
        "for digit,color in digits.items():\n",
        "  label = tp.Labels == digit\n",
        "  x = tp[label]\n",
        "  plt.scatter(x.iloc[:,:1],x.iloc[:,1:2], marker = '^', c = color, s = 80)\n",
        "  plt.legend(digits.keys(),fontsize = 16)"
      ],
      "execution_count": 20,
      "outputs": [
        {
          "output_type": "display_data",
          "data": {
            "image/png": "[encoded data removed]",
            "text/plain": [
              "<Figure size 1080x720 with 1 Axes>"
            ]
          },
          "metadata": {
            "tags": []
          }
        }
      ]
    },
    {
      "cell_type": "code",
      "metadata": {
        "id": "s7N_iUQadaFc",
        "colab_type": "code",
        "outputId": "4ca41790-4190-4745-842b-fcb37e392c5e",
        "colab": {
          "base_uri": "https://localhost:8080/",
          "height": 54
        }
      },
      "source": [
        "'''\n",
        "digits = {3 : 'k',6: 'green',7: 'red'}\n",
        "fig, ax = plt.subplots(figsize = (15,10))\n",
        "plt.grid(alpha = 0.2)\n",
        "for digit,color in digits.items():\n",
        "  ymin, ymax = ax.get_ylim()\n",
        "  xmin, xmax = ax.get_xlim()\n",
        "\n",
        "  plt.plot(digit, X1[digit,1], marker = 'o', markersize = 30, mew=5, c = color, alpha = 0.6, label = 'Digit %d' %digit, markeredgecolor = color)\n",
        "  plt.plot(digit, X1[digit,2], marker = 'o', markersize = 30, mew=5, c = color, alpha = 0.6, markeredgecolor = color)\n",
        "  plt.plot(digit, X1[digit,1], marker = 'x', markersize = 5, mew=2, c = 'w', alpha = 0.6)\n",
        "  plt.plot(digit, X1[digit,2], marker = 'x', markersize = 5, mew=2, c = 'w', alpha = 0.6)\n",
        "\n",
        "  plt.xlabel('Digit', fontsize = 16)\n",
        "  plt.ylabel('Values', fontsize = 16)\n",
        "  #plt.axhline(y=X1[digit,3], color = 'k', linestyle = ':')\n",
        "  #plt.text(digit+0.15,X1[digit,1]+0.1,'%f' %X1[digit,1], horizontalalignment = 'right', verticalalignment = 'bottom', fontsize = 10)\n",
        "  #plt.text(xmin+0.001,X1[digit,3]-0.05,'Value: %f' %X1[digit,3],fontsize = 10)\n",
        "  \n",
        "plt.legend(loc = 'best', markerscale = 0.2, fontsize = 15, labelspacing = 1)\n",
        "plt.show()\n",
        "'''"
      ],
      "execution_count": 21,
      "outputs": [
        {
          "output_type": "execute_result",
          "data": {
            "text/plain": [
              "\"\\ndigits = {3 : 'k',6: 'green',7: 'red'}\\nfig, ax = plt.subplots(figsize = (15,10))\\nplt.grid(alpha = 0.2)\\nfor digit,color in digits.items():\\n  ymin, ymax = ax.get_ylim()\\n  xmin, xmax = ax.get_xlim()\\n\\n  plt.plot(digit, X1[digit,1], marker = 'o', markersize = 30, mew=5, c = color, alpha = 0.6, label = 'Digit %d' %digit, markeredgecolor = color)\\n  plt.plot(digit, X1[digit,2], marker = 'o', markersize = 30, mew=5, c = color, alpha = 0.6, markeredgecolor = color)\\n  plt.plot(digit, X1[digit,1], marker = 'x', markersize = 5, mew=2, c = 'w', alpha = 0.6)\\n  plt.plot(digit, X1[digit,2], marker = 'x', markersize = 5, mew=2, c = 'w', alpha = 0.6)\\n\\n  plt.xlabel('Digit', fontsize = 16)\\n  plt.ylabel('Values', fontsize = 16)\\n  #plt.axhline(y=X1[digit,3], color = 'k', linestyle = ':')\\n  #plt.text(digit+0.15,X1[digit,1]+0.1,'%f' %X1[digit,1], horizontalalignment = 'right', verticalalignment = 'bottom', fontsize = 10)\\n  #plt.text(xmin+0.001,X1[digit,3]-0.05,'Value: %f' %X1[digit,3],fontsize = 10)\\n  \\nplt.legend(loc = 'best', markerscale = 0.2, fontsize = 15, labelspacing = 1)\\nplt.show()\\n\""
            ]
          },
          "metadata": {
            "tags": []
          },
          "execution_count": 21
        }
      ]
    },
    {
      "cell_type": "code",
      "metadata": {
        "id": "srGCvmyblaWN",
        "colab_type": "code",
        "colab": {}
      },
      "source": [
        ""
      ],
      "execution_count": 0,
      "outputs": []
    },
    {
      "cell_type": "markdown",
      "metadata": {
        "id": "oraGUw382V-V",
        "colab_type": "text"
      },
      "source": [
        "## Task 2. Classify the digits using leading principal components"
      ]
    },
    {
      "cell_type": "markdown",
      "metadata": {
        "id": "P2Bcn4Od2V-X",
        "colab_type": "text"
      },
      "source": [
        "### Q1. Train multi-class logistic regression over the first 1000 digits using first 5 leading principal components\n",
        "Report in-sample and out-of-sample (over X3, the last 300 digits) accuracy. \n",
        "\n",
        "You will need to apply the same scaler and PCA transform trained above to X3\n",
        "\n",
        "Here and further use regularization constant C=10000 in logistic regression to avoid regularization"
      ]
    },
    {
      "cell_type": "code",
      "metadata": {
        "id": "K4J5lgC8BtHX",
        "colab_type": "code",
        "outputId": "609bb8e2-faab-4b7e-d880-ee46afdcb3e7",
        "colab": {
          "base_uri": "https://localhost:8080/",
          "height": 87
        }
      },
      "source": [
        "print(\"X(Original) number of records: {},\\nX1(Training) number of records: {},\\nX2(Validation) number of records: {},\\nX3(Test) number of records: {}\".format(X.shape[0],X1.shape[0],X2.shape[0],X3.shape[0]))"
      ],
      "execution_count": 22,
      "outputs": [
        {
          "output_type": "stream",
          "text": [
            "X(Original) number of records: 1797,\n",
            "X1(Training) number of records: 1000,\n",
            "X2(Validation) number of records: 497,\n",
            "X3(Test) number of records: 300\n"
          ],
          "name": "stdout"
        }
      ]
    },
    {
      "cell_type": "code",
      "metadata": {
        "id": "CtFJnFmUGBJG",
        "colab_type": "code",
        "outputId": "dc3292a0-df30-4f88-d616-e8ff7ad80612",
        "colab": {
          "base_uri": "https://localhost:8080/",
          "height": 52
        }
      },
      "source": [
        "#Logistic Regression with C = 10000\n",
        "regc = LogisticRegression(C= 10000)\n",
        "regc.fit(X1[:,:5],y1)\n",
        "\n",
        "print(\"In Sample Accuracy: {}\".format(1.0*(regc.predict(X1[:,:5])==y1).sum()/len(regc.predict(X1[:,:5]))))\n",
        "\n",
        "print(\"Out of Sample Accuracy: {}\".format(1.0*(regc.predict(X3[:,:5])==y3).sum()/len(regc.predict(X3[:,:5]))))"
      ],
      "execution_count": 23,
      "outputs": [
        {
          "output_type": "stream",
          "text": [
            "In Sample Accuracy: 0.836\n",
            "Out of Sample Accuracy: 0.713333333333\n"
          ],
          "name": "stdout"
        }
      ]
    },
    {
      "cell_type": "markdown",
      "metadata": {
        "id": "yqgvwFhB2V-Z",
        "colab_type": "text"
      },
      "source": [
        "### Q2. Select the optimal number of principal components for the classification above in terms of the out-of-sample accuracy measured over the validation sample X2. Report the performance of the classification after this feature selection over the test sample X3 of the last 300 digits.\n"
      ]
    },
    {
      "cell_type": "code",
      "metadata": {
        "id": "VkfBwHugNBqw",
        "colab_type": "code",
        "colab": {}
      },
      "source": [
        "optimal_dict = {}\n",
        "reg_new = LogisticRegression(C = 10000)\n",
        "for component in range(1,65):\n",
        "\n",
        "  reg_new.fit(X1_copy[:,:component],y1)\n",
        "  optimal_dict[component+1] = 1.0*(reg_new.predict(X2_copy[:,:component])==y2).sum()/len(reg_new.predict(X2_copy[:,:component]))\n",
        "  #print(\"Out sample accuracy for Component K: {} is --- {}\".format(component+1, 1.0*(reg_new.predict(X2_copy[:,:component+1])==y2).sum()/len(reg_new.predict(X2_copy[:,:component+1]))))\n",
        "\n",
        "optimal_df = pd.DataFrame.from_dict(optimal_dict, orient = 'index', columns = ['Accuracy'])\n",
        "optimal_df.index.name = 'Principal Component'\n",
        "optimal_df.sort_values(by = 'Accuracy', ascending = False, inplace = True)"
      ],
      "execution_count": 0,
      "outputs": []
    },
    {
      "cell_type": "code",
      "metadata": {
        "id": "_cz2AWvUV1do",
        "colab_type": "code",
        "outputId": "3c9b328c-d66a-4c90-d019-56b867706383",
        "colab": {
          "base_uri": "https://localhost:8080/",
          "height": 235
        }
      },
      "source": [
        "optimal_df.head()"
      ],
      "execution_count": 75,
      "outputs": [
        {
          "output_type": "execute_result",
          "data": {
            "text/html": [
              "<div>\n",
              "<style scoped>\n",
              "    .dataframe tbody tr th:only-of-type {\n",
              "        vertical-align: middle;\n",
              "    }\n",
              "\n",
              "    .dataframe tbody tr th {\n",
              "        vertical-align: top;\n",
              "    }\n",
              "\n",
              "    .dataframe thead th {\n",
              "        text-align: right;\n",
              "    }\n",
              "</style>\n",
              "<table border=\"1\" class=\"dataframe\">\n",
              "  <thead>\n",
              "    <tr style=\"text-align: right;\">\n",
              "      <th></th>\n",
              "      <th>Accuracy</th>\n",
              "    </tr>\n",
              "    <tr>\n",
              "      <th>Principal Component</th>\n",
              "      <th></th>\n",
              "    </tr>\n",
              "  </thead>\n",
              "  <tbody>\n",
              "    <tr>\n",
              "      <th>53</th>\n",
              "      <td>0.931590</td>\n",
              "    </tr>\n",
              "    <tr>\n",
              "      <th>52</th>\n",
              "      <td>0.925553</td>\n",
              "    </tr>\n",
              "    <tr>\n",
              "      <th>56</th>\n",
              "      <td>0.925553</td>\n",
              "    </tr>\n",
              "    <tr>\n",
              "      <th>55</th>\n",
              "      <td>0.925553</td>\n",
              "    </tr>\n",
              "    <tr>\n",
              "      <th>45</th>\n",
              "      <td>0.921529</td>\n",
              "    </tr>\n",
              "  </tbody>\n",
              "</table>\n",
              "</div>"
            ],
            "text/plain": [
              "                     Accuracy\n",
              "Principal Component          \n",
              "53                   0.931590\n",
              "52                   0.925553\n",
              "56                   0.925553\n",
              "55                   0.925553\n",
              "45                   0.921529"
            ]
          },
          "metadata": {
            "tags": []
          },
          "execution_count": 75
        }
      ]
    },
    {
      "cell_type": "code",
      "metadata": {
        "id": "TYbGMVZJUseE",
        "colab_type": "code",
        "outputId": "4e6d8e0c-9cf7-415c-9070-97c21edeccba",
        "colab": {
          "base_uri": "https://localhost:8080/",
          "height": 52
        }
      },
      "source": [
        "mask = optimal_df.iloc[0]\n",
        "print(mask)\n",
        "index_value = optimal_df.Accuracy[optimal_df.Accuracy == optimal_df.Accuracy.iloc[0]].index.to_list()[0]"
      ],
      "execution_count": 73,
      "outputs": [
        {
          "output_type": "stream",
          "text": [
            "Accuracy    0.93159\n",
            "Name: 53, dtype: float64\n"
          ],
          "name": "stdout"
        }
      ]
    },
    {
      "cell_type": "code",
      "metadata": {
        "id": "_YHQupCbV69W",
        "colab_type": "code",
        "outputId": "7e4e27ae-b8b7-4930-9116-dd888ac60183",
        "colab": {
          "base_uri": "https://localhost:8080/",
          "height": 34
        }
      },
      "source": [
        "reg_new_test = LogisticRegression(C = 10000)\n",
        "reg_new_test.fit(X1[:,:index_value],y1)\n",
        "print(\"Out of Sample Accuracy: {}\".format(1.0*(reg_new_test.predict(X3[:,:index_value])==y3).sum()/len(reg_new_test.predict(X3[:,:index_value]))))"
      ],
      "execution_count": 74,
      "outputs": [
        {
          "output_type": "stream",
          "text": [
            "Out of Sample Accuracy: 0.863333333333\n"
          ],
          "name": "stdout"
        }
      ]
    },
    {
      "cell_type": "markdown",
      "metadata": {
        "id": "5h3jq2UV2V-c",
        "colab_type": "text"
      },
      "source": [
        "## Task3. Time Series Analysis\n",
        "**Dataset Description**\n",
        "- Portland Oregon riders monthly data: It is a monthly count of riders for the Portland public transportation system. The website states that it is from January 1960 through June 1969\n",
        "\n",
        "**Tasks**:\n",
        "- Detect a trend\n",
        "- Decompose into trend + seasonality + residuals\n",
        "- Analyze residual distribution\n",
        "- Select the top 3-5 outliers based on absolute values of residuals "
      ]
    },
    {
      "cell_type": "code",
      "metadata": {
        "id": "xLdCDcKh2V-d",
        "colab_type": "code",
        "colab": {}
      },
      "source": [
        "# import dataset\n",
        "df = pd.read_csv(\"https://raw.githubusercontent.com/pratikwatwani/Applied-Data-Science/master/data/portland-oregon-average-monthly-.csv\")"
      ],
      "execution_count": 0,
      "outputs": []
    },
    {
      "cell_type": "code",
      "metadata": {
        "id": "21Ch5PsD2V-n",
        "colab_type": "code",
        "colab": {}
      },
      "source": [
        "# change column name to make it easier for your life\n",
        "df.columns = [\"month\", \"avgMonthlyRide\"]"
      ],
      "execution_count": 0,
      "outputs": []
    },
    {
      "cell_type": "code",
      "metadata": {
        "id": "7hJpb5ay2V-r",
        "colab_type": "code",
        "colab": {}
      },
      "source": [
        "# remove artifact data\n",
        "df = df.drop(df.index[df['avgMonthlyRide'] == ' n=114'])"
      ],
      "execution_count": 0,
      "outputs": []
    },
    {
      "cell_type": "code",
      "metadata": {
        "id": "agB4p20V2V-v",
        "colab_type": "code",
        "outputId": "b47d885e-8da1-477c-ae34-3a6c33f42547",
        "colab": {
          "base_uri": "https://localhost:8080/",
          "height": 204
        }
      },
      "source": [
        "# type transfer: int32 for `avgMonthlyRide`, datetime for `month`\n",
        "df['avgMonthlyRide'] = df['avgMonthlyRide'].astype(np.int32)\n",
        "df['month'] = pd.to_datetime(df['month'], format = '%Y-%m')\n",
        "df.head()"
      ],
      "execution_count": 31,
      "outputs": [
        {
          "output_type": "execute_result",
          "data": {
            "text/html": [
              "<div>\n",
              "<style scoped>\n",
              "    .dataframe tbody tr th:only-of-type {\n",
              "        vertical-align: middle;\n",
              "    }\n",
              "\n",
              "    .dataframe tbody tr th {\n",
              "        vertical-align: top;\n",
              "    }\n",
              "\n",
              "    .dataframe thead th {\n",
              "        text-align: right;\n",
              "    }\n",
              "</style>\n",
              "<table border=\"1\" class=\"dataframe\">\n",
              "  <thead>\n",
              "    <tr style=\"text-align: right;\">\n",
              "      <th></th>\n",
              "      <th>month</th>\n",
              "      <th>avgMonthlyRide</th>\n",
              "    </tr>\n",
              "  </thead>\n",
              "  <tbody>\n",
              "    <tr>\n",
              "      <th>0</th>\n",
              "      <td>1960-01-01</td>\n",
              "      <td>648</td>\n",
              "    </tr>\n",
              "    <tr>\n",
              "      <th>1</th>\n",
              "      <td>1960-02-01</td>\n",
              "      <td>646</td>\n",
              "    </tr>\n",
              "    <tr>\n",
              "      <th>2</th>\n",
              "      <td>1960-03-01</td>\n",
              "      <td>639</td>\n",
              "    </tr>\n",
              "    <tr>\n",
              "      <th>3</th>\n",
              "      <td>1960-04-01</td>\n",
              "      <td>654</td>\n",
              "    </tr>\n",
              "    <tr>\n",
              "      <th>4</th>\n",
              "      <td>1960-05-01</td>\n",
              "      <td>630</td>\n",
              "    </tr>\n",
              "  </tbody>\n",
              "</table>\n",
              "</div>"
            ],
            "text/plain": [
              "       month  avgMonthlyRide\n",
              "0 1960-01-01             648\n",
              "1 1960-02-01             646\n",
              "2 1960-03-01             639\n",
              "3 1960-04-01             654\n",
              "4 1960-05-01             630"
            ]
          },
          "metadata": {
            "tags": []
          },
          "execution_count": 31
        }
      ]
    },
    {
      "cell_type": "code",
      "metadata": {
        "id": "eHFA8BMdfmZh",
        "colab_type": "code",
        "colab": {}
      },
      "source": [
        "df.set_index('month', inplace = True, drop = True)"
      ],
      "execution_count": 0,
      "outputs": []
    },
    {
      "cell_type": "code",
      "metadata": {
        "id": "vwKYj8l32V-0",
        "colab_type": "code",
        "outputId": "b5af8ddc-84b3-493e-d1d0-5104c4667e0c",
        "colab": {
          "base_uri": "https://localhost:8080/",
          "height": 122
        }
      },
      "source": [
        "# get the info of the dataset\n",
        "df.info()"
      ],
      "execution_count": 33,
      "outputs": [
        {
          "output_type": "stream",
          "text": [
            "<class 'pandas.core.frame.DataFrame'>\n",
            "DatetimeIndex: 114 entries, 1960-01-01 to 1969-06-01\n",
            "Data columns (total 1 columns):\n",
            "avgMonthlyRide    114 non-null int32\n",
            "dtypes: int32(1)\n",
            "memory usage: 1.3 KB\n"
          ],
          "name": "stdout"
        }
      ]
    },
    {
      "cell_type": "code",
      "metadata": {
        "id": "qKCiMYuJ2V-5",
        "colab_type": "code",
        "outputId": "b8901079-dc9c-4f0a-ff2f-c190efde1f9f",
        "colab": {
          "base_uri": "https://localhost:8080/",
          "height": 297
        }
      },
      "source": [
        "# get the describe of the dataset\n",
        "df.describe()"
      ],
      "execution_count": 34,
      "outputs": [
        {
          "output_type": "execute_result",
          "data": {
            "text/html": [
              "<div>\n",
              "<style scoped>\n",
              "    .dataframe tbody tr th:only-of-type {\n",
              "        vertical-align: middle;\n",
              "    }\n",
              "\n",
              "    .dataframe tbody tr th {\n",
              "        vertical-align: top;\n",
              "    }\n",
              "\n",
              "    .dataframe thead th {\n",
              "        text-align: right;\n",
              "    }\n",
              "</style>\n",
              "<table border=\"1\" class=\"dataframe\">\n",
              "  <thead>\n",
              "    <tr style=\"text-align: right;\">\n",
              "      <th></th>\n",
              "      <th>avgMonthlyRide</th>\n",
              "    </tr>\n",
              "  </thead>\n",
              "  <tbody>\n",
              "    <tr>\n",
              "      <th>count</th>\n",
              "      <td>114.000000</td>\n",
              "    </tr>\n",
              "    <tr>\n",
              "      <th>mean</th>\n",
              "      <td>1120.543860</td>\n",
              "    </tr>\n",
              "    <tr>\n",
              "      <th>std</th>\n",
              "      <td>270.888317</td>\n",
              "    </tr>\n",
              "    <tr>\n",
              "      <th>min</th>\n",
              "      <td>613.000000</td>\n",
              "    </tr>\n",
              "    <tr>\n",
              "      <th>25%</th>\n",
              "      <td>885.000000</td>\n",
              "    </tr>\n",
              "    <tr>\n",
              "      <th>50%</th>\n",
              "      <td>1158.000000</td>\n",
              "    </tr>\n",
              "    <tr>\n",
              "      <th>75%</th>\n",
              "      <td>1340.000000</td>\n",
              "    </tr>\n",
              "    <tr>\n",
              "      <th>max</th>\n",
              "      <td>1558.000000</td>\n",
              "    </tr>\n",
              "  </tbody>\n",
              "</table>\n",
              "</div>"
            ],
            "text/plain": [
              "       avgMonthlyRide\n",
              "count      114.000000\n",
              "mean      1120.543860\n",
              "std        270.888317\n",
              "min        613.000000\n",
              "25%        885.000000\n",
              "50%       1158.000000\n",
              "75%       1340.000000\n",
              "max       1558.000000"
            ]
          },
          "metadata": {
            "tags": []
          },
          "execution_count": 34
        }
      ]
    },
    {
      "cell_type": "code",
      "metadata": {
        "id": "GvMjBVGW6Kvu",
        "colab_type": "code",
        "colab": {}
      },
      "source": [
        "#df['ym'] = pd.to_datetime(df['month'], format=\"%Y-%m\").dt.to_period('M')\n",
        "#df.head()"
      ],
      "execution_count": 0,
      "outputs": []
    },
    {
      "cell_type": "markdown",
      "metadata": {
        "colab_type": "text",
        "id": "qSGUnlGX59M3"
      },
      "source": [
        "### Q1. Visualize the time-series of monthly ridership"
      ]
    },
    {
      "cell_type": "code",
      "metadata": {
        "id": "S8wAh3Jx13W5",
        "colab_type": "code",
        "outputId": "e1b8b1f9-d5e9-4891-f203-b3b08a616f5e",
        "colab": {
          "base_uri": "https://localhost:8080/",
          "height": 653
        }
      },
      "source": [
        "fig, ax = plt.subplots(figsize = (30,10))\n",
        "plt.plot(df.index,df.avgMonthlyRide, color='c',linewidth=5)\n",
        "ax.xaxis.set_major_formatter(DateFormatter(\"19%y-%m\"))\n",
        "plt.legend(['Average Monthly Ride'], fontsize = 14)\n",
        "plt.tick_params(labelsize=16)\n",
        "ax.grid(b=True, alpha = 0.2)\n",
        "plt.xlabel('Month', fontsize = 15)\n",
        "plt.ylabel('Avg Ride', fontsize = 15)\n",
        "plt.title('Avg Monthly Ride', fontsize = 15)\n",
        "plt.show()\n",
        "plt.close()"
      ],
      "execution_count": 36,
      "outputs": [
        {
          "output_type": "display_data",
          "data": {
            "image/png": "[encoded data removed]",
            "text/plain": [
              "<Figure size 2160x720 with 1 Axes>"
            ]
          },
          "metadata": {
            "tags": []
          }
        }
      ]
    },
    {
      "cell_type": "markdown",
      "metadata": {
        "id": "j_kawAMg2V_A",
        "colab_type": "text"
      },
      "source": [
        "### Q2. Visualize the 12-month moving average to assess the trend"
      ]
    },
    {
      "cell_type": "code",
      "metadata": {
        "id": "neSYWgx--biI",
        "colab_type": "code",
        "colab": {}
      },
      "source": [
        "#df.drop('ym', axis = 1, inplace = True)"
      ],
      "execution_count": 0,
      "outputs": []
    },
    {
      "cell_type": "code",
      "metadata": {
        "id": "vuOKok-hbDyR",
        "colab_type": "code",
        "colab": {}
      },
      "source": [
        "#df.set_index('month', drop=True, inplace = True)"
      ],
      "execution_count": 0,
      "outputs": []
    },
    {
      "cell_type": "code",
      "metadata": {
        "id": "FcH9RFNpa0U7",
        "colab_type": "code",
        "outputId": "c2bac2c6-b930-4045-c0ad-1203df1a9b52",
        "colab": {
          "base_uri": "https://localhost:8080/",
          "height": 318
        }
      },
      "source": [
        "fig= plt.figure(figsize = (10,10))\n",
        "df.rolling(window = 12).mean().plot()"
      ],
      "execution_count": 39,
      "outputs": [
        {
          "output_type": "execute_result",
          "data": {
            "text/plain": [
              "<matplotlib.axes._subplots.AxesSubplot at 0x7f636baca750>"
            ]
          },
          "metadata": {
            "tags": []
          },
          "execution_count": 39
        },
        {
          "output_type": "display_data",
          "data": {
            "text/plain": [
              "<Figure size 720x720 with 0 Axes>"
            ]
          },
          "metadata": {
            "tags": []
          }
        },
        {
          "output_type": "display_data",
          "data": {
            "image/png": "[encoded data removed]",
            "text/plain": [
              "<Figure size 432x288 with 1 Axes>"
            ]
          },
          "metadata": {
            "tags": []
          }
        }
      ]
    },
    {
      "cell_type": "markdown",
      "metadata": {
        "id": "Y4MLVSps2V_B",
        "colab_type": "text"
      },
      "source": [
        "### Q3. Perform seasonal decomposition using 12 month period"
      ]
    },
    {
      "cell_type": "code",
      "metadata": {
        "id": "fU_0UVcm-kQ9",
        "colab_type": "code",
        "outputId": "e4fe5057-2952-4dac-a848-0fd22fc0b9e4",
        "colab": {
          "base_uri": "https://localhost:8080/",
          "height": 122
        }
      },
      "source": [
        "df.info()"
      ],
      "execution_count": 40,
      "outputs": [
        {
          "output_type": "stream",
          "text": [
            "<class 'pandas.core.frame.DataFrame'>\n",
            "DatetimeIndex: 114 entries, 1960-01-01 to 1969-06-01\n",
            "Data columns (total 1 columns):\n",
            "avgMonthlyRide    114 non-null int32\n",
            "dtypes: int32(1)\n",
            "memory usage: 1.3 KB\n"
          ],
          "name": "stdout"
        }
      ]
    },
    {
      "cell_type": "code",
      "metadata": {
        "id": "hUcjCemQgENw",
        "colab_type": "code",
        "outputId": "d97128c7-a9eb-4bed-95c7-dbc85682b794",
        "colab": {
          "base_uri": "https://localhost:8080/",
          "height": 314
        }
      },
      "source": [
        "plt.figure(figsize = (20,10))\n",
        "result = sm.tsa.seasonal_decompose(df)\n",
        "trend = result.trend\n",
        "seasonal = result.seasonal\n",
        "residual = result.resid\n",
        "observed = result.observed\n",
        "result.plot()\n",
        "plt.show()"
      ],
      "execution_count": 41,
      "outputs": [
        {
          "output_type": "display_data",
          "data": {
            "text/plain": [
              "<Figure size 1440x720 with 0 Axes>"
            ]
          },
          "metadata": {
            "tags": []
          }
        },
        {
          "output_type": "display_data",
          "data": {
            "image/png": "[encoded data removed]",
            "text/plain": [
              "<Figure size 432x288 with 4 Axes>"
            ]
          },
          "metadata": {
            "tags": []
          }
        }
      ]
    },
    {
      "cell_type": "markdown",
      "metadata": {
        "id": "M-zT4V242V_C",
        "colab_type": "text"
      },
      "source": [
        "### Q4. Visualize the distribution of residues and visually compare it with normal distribution with the same mean and standard deviation"
      ]
    },
    {
      "cell_type": "code",
      "metadata": {
        "id": "gva8hBMp-iOF",
        "colab_type": "code",
        "outputId": "1dec3395-fee0-4625-c384-3a90df9c8eef",
        "colab": {
          "base_uri": "https://localhost:8080/",
          "height": 651
        }
      },
      "source": [
        "seed(271996)\n",
        "plt.figure(figsize=(20,10))\n",
        "residual = np.array(sm.tsa.seasonal_decompose(df, model='additive').resid)\n",
        "residual = residual[np.logical_not(np.isnan(residual))]\n",
        "\n",
        "plt.hist(residual,bins=100, density=True, color = 'y', label = 'Residual',zorder = 1)\n",
        "sigma=residual.std()\n",
        "mean = residual.mean()\n",
        "print('The value of sigma is :{}'.format(sigma)) \n",
        "\n",
        "x=np.linspace(-3*sigma,3.2*sigma,5000)\n",
        "plt.plot(x,scipy.stats.norm.pdf(x,loc=residual.mean(),scale=sigma), color = 'k', label = 'Normal Distribution', zorder = 10)\n",
        "#plt.axvline(residual.mean(), linestyle = ':', linewidth = 3, ymin = 0, ymax =float(max(scipy.stats.norm.pdf(x,mean,sigma))))\n",
        "plt.xlabel('Residual', fontsize = 16)\n",
        "plt.legend(fontsize = 12)\n",
        "\n",
        "\n",
        "pt11 =mean+ sigma\n",
        "pt21 =mean-sigma\n",
        "pt12 =mean+2*sigma\n",
        "pt22 =mean-2*sigma  \n",
        "pt13 =mean+3*sigma\n",
        "pt23 =mean-3*sigma\n",
        "\n",
        "plt.plot([pt11,pt11],[0.0,scipy.stats.norm.pdf(pt11 ,mean, sigma)], color='black', alpha = 0.6)\n",
        "plt.plot([pt12,pt12],[0.0,scipy.stats.norm.pdf(pt12 ,mean, sigma)], color='black', alpha = 0.6)\n",
        "plt.plot([pt13,pt13],[0.0,scipy.stats.norm.pdf(pt13 ,mean, sigma)], color='black', alpha = 0.6)\n",
        "plt.plot([pt21,pt21],[0.0,scipy.stats.norm.pdf(pt21 ,mean, sigma)], color='black', alpha = 0.6)\n",
        "plt.plot([pt22,pt22],[0.0,scipy.stats.norm.pdf(pt22 ,mean, sigma)], color='black', alpha = 0.6)\n",
        "plt.plot([pt23,pt23],[0.0,scipy.stats.norm.pdf(pt23 ,mean, sigma)], color='black', alpha = 0.6)\n",
        "\n",
        "\n",
        "ptx1 = np.linspace(pt11, pt22, 10)\n",
        "pty1 = scipy.stats.norm.pdf(ptx1,mean,sigma)\n",
        "plt.fill_between(ptx1, pty1, color='k', alpha = 0.2, zorder = 20)\n",
        "\n",
        "ptx2 = np.linspace(pt12, pt22, 10)\n",
        "pty2 = scipy.stats.norm.pdf(ptx2,mean,sigma)\n",
        "plt.fill_between(ptx2, pty2, color='#0b559f', alpha= 0.1 , zorder = 10)\n",
        "\n",
        "ptx3 = np.linspace(pt13, pt23, 10)\n",
        "pty3 = scipy.stats.norm.pdf(ptx3,mean,sigma)\n",
        "plt.fill_between(ptx3, pty3, color='#0b559f', alpha='0.2', zorder = 10)\n",
        "\n",
        "\n",
        "plt.fill()\n",
        "plt.show()"
      ],
      "execution_count": 42,
      "outputs": [
        {
          "output_type": "stream",
          "text": [
            "The value of sigma is :27.5172766325\n"
          ],
          "name": "stdout"
        },
        {
          "output_type": "display_data",
          "data": {
            "image/png": "[encoded data removed]",
            "text/plain": [
              "<Figure size 1440x720 with 1 Axes>"
            ]
          },
          "metadata": {
            "tags": []
          }
        }
      ]
    },
    {
      "cell_type": "markdown",
      "metadata": {
        "id": "6ZPFt4x22V_D",
        "colab_type": "text"
      },
      "source": [
        "### Q5. Find the strongest lower/upper outliers (months with the smallest and largest residues)"
      ]
    },
    {
      "cell_type": "code",
      "metadata": {
        "id": "2-Q_ssnB2V_D",
        "colab_type": "code",
        "outputId": "bea0409c-c9a5-4d77-9d4f-cbaa218d0453",
        "colab": {
          "base_uri": "https://localhost:8080/",
          "height": 297
        }
      },
      "source": [
        "data = df['avgMonthlyRide']\n",
        "monthly = sm.tsa.seasonal_decompose(data, model='mult', freq = 12)\n",
        "monthly.plot();"
      ],
      "execution_count": 43,
      "outputs": [
        {
          "output_type": "display_data",
          "data": {
            "image/png": "[encoded data removed]",
            "text/plain": [
              "<Figure size 432x288 with 4 Axes>"
            ]
          },
          "metadata": {
            "tags": []
          }
        }
      ]
    },
    {
      "cell_type": "code",
      "metadata": {
        "id": "cvrA4P0LQPgo",
        "colab_type": "code",
        "outputId": "99c062c4-11dd-4d09-f529-4f74321e3a66",
        "colab": {
          "base_uri": "https://localhost:8080/",
          "height": 620
        }
      },
      "source": [
        "outlier = pd.DataFrame()\n",
        "outlier['Res'] = monthly.resid\n",
        "outlier['Percentile_rank'] = outlier.Res.rank(pct = True)-0.5\n",
        "plt.figure(figsize = (20,10))\n",
        "plt.bar(np.arange(0, len(outlier)), outlier['Percentile_rank'], color = 'c', label = 'Percentile Rank', width = 0.22, alpha = 0.5)\n",
        "#plt.bar(np.arange(0, 58), outlier.ix[:58,'Percentile_rank'], color = 'y', label = 'Percentile Rank', width = 0.22, alpha = 0.5)\n",
        "#plt.bar(np.arange(58, len(outlier)), outlier.ix[58:,'Percentile_rank'], color = 'm', width = 0.22, alpha = 0.5)\n",
        "plt.yticks(fontsize =12)\n",
        "plt.xticks(fontsize =16)\n",
        "plt.text(100,0.5,'Percentile Rank', fontsize = 12)\n",
        "plt.show()"
      ],
      "execution_count": 44,
      "outputs": [
        {
          "output_type": "display_data",
          "data": {
            "image/png": "[encoded data removed]",
            "text/plain": [
              "<Figure size 1440x720 with 1 Axes>"
            ]
          },
          "metadata": {
            "tags": []
          }
        }
      ]
    },
    {
      "cell_type": "code",
      "metadata": {
        "id": "Fp1qm4cgAPxu",
        "colab_type": "code",
        "outputId": "9c10c4c4-8ed7-48ff-ab7c-b51c700afc47",
        "colab": {
          "base_uri": "https://localhost:8080/",
          "height": 235
        }
      },
      "source": [
        "outlier.head()"
      ],
      "execution_count": 45,
      "outputs": [
        {
          "output_type": "execute_result",
          "data": {
            "text/html": [
              "<div>\n",
              "<style scoped>\n",
              "    .dataframe tbody tr th:only-of-type {\n",
              "        vertical-align: middle;\n",
              "    }\n",
              "\n",
              "    .dataframe tbody tr th {\n",
              "        vertical-align: top;\n",
              "    }\n",
              "\n",
              "    .dataframe thead th {\n",
              "        text-align: right;\n",
              "    }\n",
              "</style>\n",
              "<table border=\"1\" class=\"dataframe\">\n",
              "  <thead>\n",
              "    <tr style=\"text-align: right;\">\n",
              "      <th></th>\n",
              "      <th>Res</th>\n",
              "      <th>Percentile_rank</th>\n",
              "    </tr>\n",
              "    <tr>\n",
              "      <th>month</th>\n",
              "      <th></th>\n",
              "      <th></th>\n",
              "    </tr>\n",
              "  </thead>\n",
              "  <tbody>\n",
              "    <tr>\n",
              "      <th>1960-01-01</th>\n",
              "      <td>NaN</td>\n",
              "      <td>NaN</td>\n",
              "    </tr>\n",
              "    <tr>\n",
              "      <th>1960-02-01</th>\n",
              "      <td>NaN</td>\n",
              "      <td>NaN</td>\n",
              "    </tr>\n",
              "    <tr>\n",
              "      <th>1960-03-01</th>\n",
              "      <td>NaN</td>\n",
              "      <td>NaN</td>\n",
              "    </tr>\n",
              "    <tr>\n",
              "      <th>1960-04-01</th>\n",
              "      <td>NaN</td>\n",
              "      <td>NaN</td>\n",
              "    </tr>\n",
              "    <tr>\n",
              "      <th>1960-05-01</th>\n",
              "      <td>NaN</td>\n",
              "      <td>NaN</td>\n",
              "    </tr>\n",
              "  </tbody>\n",
              "</table>\n",
              "</div>"
            ],
            "text/plain": [
              "            Res  Percentile_rank\n",
              "month                           \n",
              "1960-01-01  NaN              NaN\n",
              "1960-02-01  NaN              NaN\n",
              "1960-03-01  NaN              NaN\n",
              "1960-04-01  NaN              NaN\n",
              "1960-05-01  NaN              NaN"
            ]
          },
          "metadata": {
            "tags": []
          },
          "execution_count": 45
        }
      ]
    },
    {
      "cell_type": "code",
      "metadata": {
        "id": "zca_OgG_AQUP",
        "colab_type": "code",
        "outputId": "733f520b-10d3-46d6-e2d6-5dc77e37fe7a",
        "colab": {
          "base_uri": "https://localhost:8080/",
          "height": 235
        }
      },
      "source": [
        "outlier.dropna(axis = 0, how ='all', inplace = True)\n",
        "outlier.head()"
      ],
      "execution_count": 46,
      "outputs": [
        {
          "output_type": "execute_result",
          "data": {
            "text/html": [
              "<div>\n",
              "<style scoped>\n",
              "    .dataframe tbody tr th:only-of-type {\n",
              "        vertical-align: middle;\n",
              "    }\n",
              "\n",
              "    .dataframe tbody tr th {\n",
              "        vertical-align: top;\n",
              "    }\n",
              "\n",
              "    .dataframe thead th {\n",
              "        text-align: right;\n",
              "    }\n",
              "</style>\n",
              "<table border=\"1\" class=\"dataframe\">\n",
              "  <thead>\n",
              "    <tr style=\"text-align: right;\">\n",
              "      <th></th>\n",
              "      <th>Res</th>\n",
              "      <th>Percentile_rank</th>\n",
              "    </tr>\n",
              "    <tr>\n",
              "      <th>month</th>\n",
              "      <th></th>\n",
              "      <th></th>\n",
              "    </tr>\n",
              "  </thead>\n",
              "  <tbody>\n",
              "    <tr>\n",
              "      <th>1960-07-01</th>\n",
              "      <td>0.997459</td>\n",
              "      <td>-0.019608</td>\n",
              "    </tr>\n",
              "    <tr>\n",
              "      <th>1960-08-01</th>\n",
              "      <td>1.004407</td>\n",
              "      <td>0.117647</td>\n",
              "    </tr>\n",
              "    <tr>\n",
              "      <th>1960-09-01</th>\n",
              "      <td>0.985716</td>\n",
              "      <td>-0.196078</td>\n",
              "    </tr>\n",
              "    <tr>\n",
              "      <th>1960-10-01</th>\n",
              "      <td>0.967008</td>\n",
              "      <td>-0.421569</td>\n",
              "    </tr>\n",
              "    <tr>\n",
              "      <th>1960-11-01</th>\n",
              "      <td>0.942772</td>\n",
              "      <td>-0.480392</td>\n",
              "    </tr>\n",
              "  </tbody>\n",
              "</table>\n",
              "</div>"
            ],
            "text/plain": [
              "                 Res  Percentile_rank\n",
              "month                                \n",
              "1960-07-01  0.997459        -0.019608\n",
              "1960-08-01  1.004407         0.117647\n",
              "1960-09-01  0.985716        -0.196078\n",
              "1960-10-01  0.967008        -0.421569\n",
              "1960-11-01  0.942772        -0.480392"
            ]
          },
          "metadata": {
            "tags": []
          },
          "execution_count": 46
        }
      ]
    },
    {
      "cell_type": "code",
      "metadata": {
        "id": "K0p-5HtZAfMU",
        "colab_type": "code",
        "outputId": "79ea7877-7a16-4ef8-aef5-aa1f03a7e64e",
        "colab": {
          "base_uri": "https://localhost:8080/",
          "height": 235
        }
      },
      "source": [
        "a= pd.DataFrame(outlier.Percentile_rank.sort_values(ascending = True))\n",
        "a.tail()"
      ],
      "execution_count": 47,
      "outputs": [
        {
          "output_type": "execute_result",
          "data": {
            "text/html": [
              "<div>\n",
              "<style scoped>\n",
              "    .dataframe tbody tr th:only-of-type {\n",
              "        vertical-align: middle;\n",
              "    }\n",
              "\n",
              "    .dataframe tbody tr th {\n",
              "        vertical-align: top;\n",
              "    }\n",
              "\n",
              "    .dataframe thead th {\n",
              "        text-align: right;\n",
              "    }\n",
              "</style>\n",
              "<table border=\"1\" class=\"dataframe\">\n",
              "  <thead>\n",
              "    <tr style=\"text-align: right;\">\n",
              "      <th></th>\n",
              "      <th>Percentile_rank</th>\n",
              "    </tr>\n",
              "    <tr>\n",
              "      <th>month</th>\n",
              "      <th></th>\n",
              "    </tr>\n",
              "  </thead>\n",
              "  <tbody>\n",
              "    <tr>\n",
              "      <th>1966-09-01</th>\n",
              "      <td>0.460784</td>\n",
              "    </tr>\n",
              "    <tr>\n",
              "      <th>1961-01-01</th>\n",
              "      <td>0.470588</td>\n",
              "    </tr>\n",
              "    <tr>\n",
              "      <th>1961-03-01</th>\n",
              "      <td>0.480392</td>\n",
              "    </tr>\n",
              "    <tr>\n",
              "      <th>1961-02-01</th>\n",
              "      <td>0.490196</td>\n",
              "    </tr>\n",
              "    <tr>\n",
              "      <th>1962-11-01</th>\n",
              "      <td>0.500000</td>\n",
              "    </tr>\n",
              "  </tbody>\n",
              "</table>\n",
              "</div>"
            ],
            "text/plain": [
              "            Percentile_rank\n",
              "month                      \n",
              "1966-09-01         0.460784\n",
              "1961-01-01         0.470588\n",
              "1961-03-01         0.480392\n",
              "1961-02-01         0.490196\n",
              "1962-11-01         0.500000"
            ]
          },
          "metadata": {
            "tags": []
          },
          "execution_count": 47
        }
      ]
    },
    {
      "cell_type": "code",
      "metadata": {
        "id": "kqeGAXRYAinG",
        "colab_type": "code",
        "outputId": "9bc0f117-7bf9-4864-f819-e1de243b6109",
        "colab": {
          "base_uri": "https://localhost:8080/",
          "height": 52
        }
      },
      "source": [
        "print(\"Month with lowest residual value {}\".format(str(a.index[0])[:7]))\n",
        "print(\"Month with highest residual value {}\".format(str(a.index[-1])[:7]))"
      ],
      "execution_count": 48,
      "outputs": [
        {
          "output_type": "stream",
          "text": [
            "Month with lowest residual value 1966-01\n",
            "Month with highest residual value 1962-11\n"
          ],
          "name": "stdout"
        }
      ]
    }
  ]
}