{
  "nbformat": 4,
  "nbformat_minor": 0,
  "metadata": {
    "anaconda-cloud": {},
    "kernelspec": {
      "display_name": "Python 3",
      "language": "python",
      "name": "python3"
    },
    "language_info": {
      "codemirror_mode": {
        "name": "ipython",
        "version": 2
      },
      "file_extension": ".py",
      "mimetype": "text/x-python",
      "name": "python",
      "nbconvert_exporter": "python",
      "pygments_lexer": "ipython2",
      "version": "2.7.15"
    },
    "colab": {
      "name": "Copy of Clustering and PCA",
      "provenance": [],
      "collapsed_sections": []
    }
  },
  "cells": [
    {
      "cell_type": "code",
      "metadata": {
        "id": "5Cv7Q1nvLSgv",
        "colab_type": "code",
        "colab": {}
      },
      "source": [
        "import pandas as pd\n",
        "import numpy as np\n",
        "from sklearn.datasets import make_classification\n",
        "from sklearn.datasets import make_blobs\n",
        "from matplotlib.pylab import plt\n",
        "%matplotlib inline\n",
        "from sklearn.linear_model import LogisticRegression\n",
        "from sklearn.cluster import KMeans\n",
        "from sklearn.metrics import silhouette_samples, silhouette_score\n",
        "from scipy.spatial.distance import cdist, pdist\n",
        "import warnings\n",
        "warnings.filterwarnings(action='ignore')"
      ],
      "execution_count": 0,
      "outputs": []
    },
    {
      "cell_type": "markdown",
      "metadata": {
        "id": "dZj35sNBLSg2",
        "colab_type": "text"
      },
      "source": [
        "## Question 1. \n",
        "\n",
        "Let's explore clustering models on an artificial data set with five features."
      ]
    },
    {
      "cell_type": "code",
      "metadata": {
        "id": "jLlNfkO2LlbQ",
        "colab_type": "code",
        "outputId": "3da27698-b68a-4511-bf00-cbaf4def1cd0",
        "colab": {
          "base_uri": "https://localhost:8080/",
          "height": 35
        }
      },
      "source": [
        "from google.colab import drive\n",
        "drive.mount('/content/drive')"
      ],
      "execution_count": 2,
      "outputs": [
        {
          "output_type": "stream",
          "text": [
            "Drive already mounted at /content/drive; to attempt to forcibly remount, call drive.mount(\"/content/drive\", force_remount=True).\n"
          ],
          "name": "stdout"
        }
      ]
    },
    {
      "cell_type": "code",
      "metadata": {
        "id": "QhVmPpnnLSg4",
        "colab_type": "code",
        "outputId": "526bbb19-94ea-4122-e732-edf0411fac52",
        "colab": {
          "base_uri": "https://localhost:8080/",
          "height": 198
        }
      },
      "source": [
        "data= pd.read_csv('/content/drive/My Drive/Untitled folder/hw4data1.csv')\n",
        "data.head()"
      ],
      "execution_count": 3,
      "outputs": [
        {
          "output_type": "execute_result",
          "data": {
            "text/html": [
              "<div>\n",
              "<style scoped>\n",
              "    .dataframe tbody tr th:only-of-type {\n",
              "        vertical-align: middle;\n",
              "    }\n",
              "\n",
              "    .dataframe tbody tr th {\n",
              "        vertical-align: top;\n",
              "    }\n",
              "\n",
              "    .dataframe thead th {\n",
              "        text-align: right;\n",
              "    }\n",
              "</style>\n",
              "<table border=\"1\" class=\"dataframe\">\n",
              "  <thead>\n",
              "    <tr style=\"text-align: right;\">\n",
              "      <th></th>\n",
              "      <th>1</th>\n",
              "      <th>2</th>\n",
              "      <th>3</th>\n",
              "      <th>4</th>\n",
              "      <th>5</th>\n",
              "    </tr>\n",
              "  </thead>\n",
              "  <tbody>\n",
              "    <tr>\n",
              "      <th>0</th>\n",
              "      <td>0.624358</td>\n",
              "      <td>-0.007694</td>\n",
              "      <td>0.157510</td>\n",
              "      <td>0.440554</td>\n",
              "      <td>0.157423</td>\n",
              "    </tr>\n",
              "    <tr>\n",
              "      <th>1</th>\n",
              "      <td>2.090884</td>\n",
              "      <td>7.405251</td>\n",
              "      <td>2.450357</td>\n",
              "      <td>3.191506</td>\n",
              "      <td>2.426240</td>\n",
              "    </tr>\n",
              "    <tr>\n",
              "      <th>2</th>\n",
              "      <td>2.498841</td>\n",
              "      <td>7.292161</td>\n",
              "      <td>2.468256</td>\n",
              "      <td>2.975176</td>\n",
              "      <td>2.710137</td>\n",
              "    </tr>\n",
              "    <tr>\n",
              "      <th>3</th>\n",
              "      <td>2.009998</td>\n",
              "      <td>7.408158</td>\n",
              "      <td>2.486901</td>\n",
              "      <td>2.863235</td>\n",
              "      <td>2.561799</td>\n",
              "    </tr>\n",
              "    <tr>\n",
              "      <th>4</th>\n",
              "      <td>2.236813</td>\n",
              "      <td>7.245803</td>\n",
              "      <td>2.181933</td>\n",
              "      <td>2.825106</td>\n",
              "      <td>2.599706</td>\n",
              "    </tr>\n",
              "  </tbody>\n",
              "</table>\n",
              "</div>"
            ],
            "text/plain": [
              "          1         2         3         4         5\n",
              "0  0.624358 -0.007694  0.157510  0.440554  0.157423\n",
              "1  2.090884  7.405251  2.450357  3.191506  2.426240\n",
              "2  2.498841  7.292161  2.468256  2.975176  2.710137\n",
              "3  2.009998  7.408158  2.486901  2.863235  2.561799\n",
              "4  2.236813  7.245803  2.181933  2.825106  2.599706"
            ]
          },
          "metadata": {
            "tags": []
          },
          "execution_count": 3
        }
      ]
    },
    {
      "cell_type": "code",
      "metadata": {
        "id": "CBfjBcgIRXlS",
        "colab_type": "code",
        "outputId": "51a5ee07-868c-4f59-df5b-93f949c90655",
        "colab": {
          "base_uri": "https://localhost:8080/",
          "height": 198
        }
      },
      "source": [
        "data.columns = [\"A\", \"B\", \"C\", \"D\", \"E\"]\n",
        "data.head()"
      ],
      "execution_count": 4,
      "outputs": [
        {
          "output_type": "execute_result",
          "data": {
            "text/html": [
              "<div>\n",
              "<style scoped>\n",
              "    .dataframe tbody tr th:only-of-type {\n",
              "        vertical-align: middle;\n",
              "    }\n",
              "\n",
              "    .dataframe tbody tr th {\n",
              "        vertical-align: top;\n",
              "    }\n",
              "\n",
              "    .dataframe thead th {\n",
              "        text-align: right;\n",
              "    }\n",
              "</style>\n",
              "<table border=\"1\" class=\"dataframe\">\n",
              "  <thead>\n",
              "    <tr style=\"text-align: right;\">\n",
              "      <th></th>\n",
              "      <th>A</th>\n",
              "      <th>B</th>\n",
              "      <th>C</th>\n",
              "      <th>D</th>\n",
              "      <th>E</th>\n",
              "    </tr>\n",
              "  </thead>\n",
              "  <tbody>\n",
              "    <tr>\n",
              "      <th>0</th>\n",
              "      <td>0.624358</td>\n",
              "      <td>-0.007694</td>\n",
              "      <td>0.157510</td>\n",
              "      <td>0.440554</td>\n",
              "      <td>0.157423</td>\n",
              "    </tr>\n",
              "    <tr>\n",
              "      <th>1</th>\n",
              "      <td>2.090884</td>\n",
              "      <td>7.405251</td>\n",
              "      <td>2.450357</td>\n",
              "      <td>3.191506</td>\n",
              "      <td>2.426240</td>\n",
              "    </tr>\n",
              "    <tr>\n",
              "      <th>2</th>\n",
              "      <td>2.498841</td>\n",
              "      <td>7.292161</td>\n",
              "      <td>2.468256</td>\n",
              "      <td>2.975176</td>\n",
              "      <td>2.710137</td>\n",
              "    </tr>\n",
              "    <tr>\n",
              "      <th>3</th>\n",
              "      <td>2.009998</td>\n",
              "      <td>7.408158</td>\n",
              "      <td>2.486901</td>\n",
              "      <td>2.863235</td>\n",
              "      <td>2.561799</td>\n",
              "    </tr>\n",
              "    <tr>\n",
              "      <th>4</th>\n",
              "      <td>2.236813</td>\n",
              "      <td>7.245803</td>\n",
              "      <td>2.181933</td>\n",
              "      <td>2.825106</td>\n",
              "      <td>2.599706</td>\n",
              "    </tr>\n",
              "  </tbody>\n",
              "</table>\n",
              "</div>"
            ],
            "text/plain": [
              "          A         B         C         D         E\n",
              "0  0.624358 -0.007694  0.157510  0.440554  0.157423\n",
              "1  2.090884  7.405251  2.450357  3.191506  2.426240\n",
              "2  2.498841  7.292161  2.468256  2.975176  2.710137\n",
              "3  2.009998  7.408158  2.486901  2.863235  2.561799\n",
              "4  2.236813  7.245803  2.181933  2.825106  2.599706"
            ]
          },
          "metadata": {
            "tags": []
          },
          "execution_count": 4
        }
      ]
    },
    {
      "cell_type": "markdown",
      "metadata": {
        "id": "GCr9pSj-O8SK",
        "colab_type": "text"
      },
      "source": [
        "#### a) First, guess the number of clusters we could have. \n",
        "\n",
        "#### b) Use K-means to cluster the original data based on your guess for the number of clusters. Report the resulting labels. \n",
        "\n",
        "#### c) Visualize the clustering result and color the points according to the labels obtained in part b). \n",
        "\n",
        "#### d) Justify your guess for k (the optimal number of clusters for K-means clustering) by first using silhouette_score and then the Elbow method on the original data. Briefly explain your approach. Are your results consistent? \n",
        "\n",
        "#### e) Using a Gaussian Mixture model instead of K-means (but with the same value for k), repeat parts b) and c). "
      ]
    },
    {
      "cell_type": "code",
      "metadata": {
        "id": "f5PlqtJ1ZN2c",
        "colab_type": "code",
        "colab": {}
      },
      "source": [
        "from sklearn.preprocessing import StandardScaler\n",
        "scaler = StandardScaler()\n",
        "data_values = data.values\n",
        "scaled_data = scaler.fit_transform(data_values)\n",
        "normalized_data = pd.DataFrame(scaled_data)"
      ],
      "execution_count": 0,
      "outputs": []
    },
    {
      "cell_type": "code",
      "metadata": {
        "id": "yqYxjW4yajQT",
        "colab_type": "code",
        "outputId": "873117c6-5c70-4afc-f695-37e3d9c08198",
        "colab": {
          "base_uri": "https://localhost:8080/",
          "height": 288
        }
      },
      "source": [
        "normalized_data.describe()"
      ],
      "execution_count": 6,
      "outputs": [
        {
          "output_type": "execute_result",
          "data": {
            "text/html": [
              "<div>\n",
              "<style scoped>\n",
              "    .dataframe tbody tr th:only-of-type {\n",
              "        vertical-align: middle;\n",
              "    }\n",
              "\n",
              "    .dataframe tbody tr th {\n",
              "        vertical-align: top;\n",
              "    }\n",
              "\n",
              "    .dataframe thead th {\n",
              "        text-align: right;\n",
              "    }\n",
              "</style>\n",
              "<table border=\"1\" class=\"dataframe\">\n",
              "  <thead>\n",
              "    <tr style=\"text-align: right;\">\n",
              "      <th></th>\n",
              "      <th>0</th>\n",
              "      <th>1</th>\n",
              "      <th>2</th>\n",
              "      <th>3</th>\n",
              "      <th>4</th>\n",
              "    </tr>\n",
              "  </thead>\n",
              "  <tbody>\n",
              "    <tr>\n",
              "      <th>count</th>\n",
              "      <td>1.000000e+02</td>\n",
              "      <td>1.000000e+02</td>\n",
              "      <td>1.000000e+02</td>\n",
              "      <td>1.000000e+02</td>\n",
              "      <td>1.000000e+02</td>\n",
              "    </tr>\n",
              "    <tr>\n",
              "      <th>mean</th>\n",
              "      <td>-6.661338e-18</td>\n",
              "      <td>-4.773959e-17</td>\n",
              "      <td>1.953993e-16</td>\n",
              "      <td>-9.547918e-17</td>\n",
              "      <td>-4.440892e-18</td>\n",
              "    </tr>\n",
              "    <tr>\n",
              "      <th>std</th>\n",
              "      <td>1.005038e+00</td>\n",
              "      <td>1.005038e+00</td>\n",
              "      <td>1.005038e+00</td>\n",
              "      <td>1.005038e+00</td>\n",
              "      <td>1.005038e+00</td>\n",
              "    </tr>\n",
              "    <tr>\n",
              "      <th>min</th>\n",
              "      <td>-1.665562e+00</td>\n",
              "      <td>-1.238114e+00</td>\n",
              "      <td>-1.772224e+00</td>\n",
              "      <td>-1.772609e+00</td>\n",
              "      <td>-1.768990e+00</td>\n",
              "    </tr>\n",
              "    <tr>\n",
              "      <th>25%</th>\n",
              "      <td>-5.019173e-01</td>\n",
              "      <td>-7.555512e-01</td>\n",
              "      <td>-8.268695e-01</td>\n",
              "      <td>-7.207487e-01</td>\n",
              "      <td>-7.111307e-01</td>\n",
              "    </tr>\n",
              "    <tr>\n",
              "      <th>50%</th>\n",
              "      <td>8.715160e-02</td>\n",
              "      <td>-3.172191e-01</td>\n",
              "      <td>1.080302e-01</td>\n",
              "      <td>1.022621e-01</td>\n",
              "      <td>1.452977e-01</td>\n",
              "    </tr>\n",
              "    <tr>\n",
              "      <th>75%</th>\n",
              "      <td>7.818621e-01</td>\n",
              "      <td>3.476006e-01</td>\n",
              "      <td>8.826871e-01</td>\n",
              "      <td>8.404849e-01</td>\n",
              "      <td>8.508535e-01</td>\n",
              "    </tr>\n",
              "    <tr>\n",
              "      <th>max</th>\n",
              "      <td>1.269125e+00</td>\n",
              "      <td>1.767590e+00</td>\n",
              "      <td>1.672280e+00</td>\n",
              "      <td>1.633046e+00</td>\n",
              "      <td>1.671845e+00</td>\n",
              "    </tr>\n",
              "  </tbody>\n",
              "</table>\n",
              "</div>"
            ],
            "text/plain": [
              "                  0             1             2             3             4\n",
              "count  1.000000e+02  1.000000e+02  1.000000e+02  1.000000e+02  1.000000e+02\n",
              "mean  -6.661338e-18 -4.773959e-17  1.953993e-16 -9.547918e-17 -4.440892e-18\n",
              "std    1.005038e+00  1.005038e+00  1.005038e+00  1.005038e+00  1.005038e+00\n",
              "min   -1.665562e+00 -1.238114e+00 -1.772224e+00 -1.772609e+00 -1.768990e+00\n",
              "25%   -5.019173e-01 -7.555512e-01 -8.268695e-01 -7.207487e-01 -7.111307e-01\n",
              "50%    8.715160e-02 -3.172191e-01  1.080302e-01  1.022621e-01  1.452977e-01\n",
              "75%    7.818621e-01  3.476006e-01  8.826871e-01  8.404849e-01  8.508535e-01\n",
              "max    1.269125e+00  1.767590e+00  1.672280e+00  1.633046e+00  1.671845e+00"
            ]
          },
          "metadata": {
            "tags": []
          },
          "execution_count": 6
        }
      ]
    },
    {
      "cell_type": "code",
      "metadata": {
        "id": "pBkIaxI-cxbJ",
        "colab_type": "code",
        "colab": {}
      },
      "source": [
        "u,s,v = np.linalg.svd(normalized_data)"
      ],
      "execution_count": 0,
      "outputs": []
    },
    {
      "cell_type": "code",
      "metadata": {
        "id": "AJssDZbEdMu0",
        "colab_type": "code",
        "outputId": "86c51360-1af2-4403-ff74-a0dba546dc86",
        "colab": {
          "base_uri": "https://localhost:8080/",
          "height": 108
        }
      },
      "source": [
        "for k in range(0, len(normalized_data.columns)):\n",
        "  print(\"For K = {} ---> variance retained is {}\".format(k, s[k]/s.sum()))"
      ],
      "execution_count": 8,
      "outputs": [
        {
          "output_type": "stream",
          "text": [
            "For K = 0 ---> variance retained is 0.6430005025538671\n",
            "For K = 1 ---> variance retained is 0.20527941703154506\n",
            "For K = 2 ---> variance retained is 0.0607154628974783\n",
            "For K = 3 ---> variance retained is 0.04943916309730539\n",
            "For K = 4 ---> variance retained is 0.04156545441980416\n"
          ],
          "name": "stdout"
        }
      ]
    },
    {
      "cell_type": "markdown",
      "metadata": {
        "id": "Y2VEPdeUlqhw",
        "colab_type": "text"
      },
      "source": [
        "\n",
        "# There is no point in implementing PCA. The highest percent of variance that can be retained is 64.30%\n",
        "\n",
        "# However, implementing PCA with 2 components"
      ]
    },
    {
      "cell_type": "code",
      "metadata": {
        "id": "zd9jOfwBNfu7",
        "colab_type": "code",
        "cellView": "both",
        "colab": {}
      },
      "source": [
        "#this\n",
        "from sklearn.decomposition import PCA\n",
        "\n",
        "pcdat = PCA(n_components = 2).fit_transform(normalized_data)\n"
      ],
      "execution_count": 0,
      "outputs": []
    },
    {
      "cell_type": "code",
      "metadata": {
        "id": "AcPTPITsNno6",
        "colab_type": "code",
        "outputId": "15b6d827-90d5-4115-902b-f34b89533f5b",
        "colab": {
          "base_uri": "https://localhost:8080/",
          "height": 198
        }
      },
      "source": [
        "nd = pd.DataFrame(pcdat)\n",
        "nd.index = data.index\n",
        "nd.columns = ['PC1', 'PC2']\n",
        "nd.head()"
      ],
      "execution_count": 10,
      "outputs": [
        {
          "output_type": "execute_result",
          "data": {
            "text/html": [
              "<div>\n",
              "<style scoped>\n",
              "    .dataframe tbody tr th:only-of-type {\n",
              "        vertical-align: middle;\n",
              "    }\n",
              "\n",
              "    .dataframe tbody tr th {\n",
              "        vertical-align: top;\n",
              "    }\n",
              "\n",
              "    .dataframe thead th {\n",
              "        text-align: right;\n",
              "    }\n",
              "</style>\n",
              "<table border=\"1\" class=\"dataframe\">\n",
              "  <thead>\n",
              "    <tr style=\"text-align: right;\">\n",
              "      <th></th>\n",
              "      <th>PC1</th>\n",
              "      <th>PC2</th>\n",
              "    </tr>\n",
              "  </thead>\n",
              "  <tbody>\n",
              "    <tr>\n",
              "      <th>0</th>\n",
              "      <td>0.510642</td>\n",
              "      <td>0.417088</td>\n",
              "    </tr>\n",
              "    <tr>\n",
              "      <th>1</th>\n",
              "      <td>-2.743279</td>\n",
              "      <td>-0.753203</td>\n",
              "    </tr>\n",
              "    <tr>\n",
              "      <th>2</th>\n",
              "      <td>-2.807171</td>\n",
              "      <td>-0.640288</td>\n",
              "    </tr>\n",
              "    <tr>\n",
              "      <th>3</th>\n",
              "      <td>-2.688149</td>\n",
              "      <td>-0.767065</td>\n",
              "    </tr>\n",
              "    <tr>\n",
              "      <th>4</th>\n",
              "      <td>-2.606136</td>\n",
              "      <td>-0.683608</td>\n",
              "    </tr>\n",
              "  </tbody>\n",
              "</table>\n",
              "</div>"
            ],
            "text/plain": [
              "        PC1       PC2\n",
              "0  0.510642  0.417088\n",
              "1 -2.743279 -0.753203\n",
              "2 -2.807171 -0.640288\n",
              "3 -2.688149 -0.767065\n",
              "4 -2.606136 -0.683608"
            ]
          },
          "metadata": {
            "tags": []
          },
          "execution_count": 10
        }
      ]
    },
    {
      "cell_type": "code",
      "metadata": {
        "id": "Dwcu8Ii_SQYv",
        "colab_type": "code",
        "outputId": "123bd6e4-b98c-459c-8bbc-5502488d4c97",
        "colab": {
          "base_uri": "https://localhost:8080/",
          "height": 337
        }
      },
      "source": [
        "ax = nd.plot(kind='scatter', x='PC1', y='PC2', figsize = (5,5))"
      ],
      "execution_count": 11,
      "outputs": [
        {
          "output_type": "display_data",
          "data": {
            "image/png": "[encoded data removed]",
            "text/plain": [
              "<Figure size 360x360 with 1 Axes>"
            ]
          },
          "metadata": {
            "tags": []
          }
        }
      ]
    },
    {
      "cell_type": "markdown",
      "metadata": {
        "id": "7lM1JipSCzwl",
        "colab_type": "text"
      },
      "source": [
        "## Looking at the data from PCA transformation, it is safe to assume that an initial guess of k = 4 should do the trick.\n"
      ]
    },
    {
      "cell_type": "code",
      "metadata": {
        "id": "HUoOGU86iBZp",
        "colab_type": "code",
        "colab": {}
      },
      "source": [
        "#performing k-means\n",
        "from sklearn.cluster import KMeans\n",
        "\n",
        "#creating a k-means model with 4 clusters\n",
        "kmeans = KMeans(n_clusters=4, max_iter=1000, random_state=428)\n",
        "kmeans.fit(nd)\n",
        "labels = kmeans.predict(nd)"
      ],
      "execution_count": 0,
      "outputs": []
    },
    {
      "cell_type": "code",
      "metadata": {
        "id": "nq0Q-M2WdTz1",
        "colab_type": "code",
        "outputId": "c8fc804b-7742-4054-d0cc-9e57d34f0d71",
        "colab": {
          "base_uri": "https://localhost:8080/",
          "height": 499
        }
      },
      "source": [
        "#plot\n",
        "plt.clf\n",
        "plt.figure(figsize = (8,8))\n",
        "centers = kmeans.cluster_centers_\n",
        "plt.scatter(np.asarray(nd.loc[:, 'PC1']), np.asarray(nd.loc[:, 'PC2']), c=labels, s=22, cmap='Spectral')\n",
        "plt.scatter(centers[:, 0], centers[:, 1], marker = 'x', c='black', s=1000, alpha=0.7);\n",
        "plt.title('K-means clustering (PCA-reduced data)')\n",
        "plt.show()"
      ],
      "execution_count": 13,
      "outputs": [
        {
          "output_type": "display_data",
          "data": {
            "image/png": "[encoded data removed]",
            "text/plain": [
              "<Figure size 576x576 with 1 Axes>"
            ]
          },
          "metadata": {
            "tags": []
          }
        }
      ]
    },
    {
      "cell_type": "markdown",
      "metadata": {
        "id": "2pBDPNgiC6RE",
        "colab_type": "text"
      },
      "source": [
        "## Finding the S-Scores and Elbow plots"
      ]
    },
    {
      "cell_type": "code",
      "metadata": {
        "id": "a4qStqzfx9wz",
        "colab_type": "code",
        "outputId": "ff9d5ef7-9d38-4aa5-93be-fb82bb31f168",
        "colab": {
          "base_uri": "https://localhost:8080/",
          "height": 163
        }
      },
      "source": [
        "info = {}\n",
        "for num in range(2,10):\n",
        "  k_means = KMeans(n_clusters=num, max_iter=1000, random_state=55).fit(nd)\n",
        "  labels = k_means.labels_\n",
        "  s_score = silhouette_score(nd, labels)\n",
        "  print(\"S-score for cluster {} is {}\".format(num,s_score))"
      ],
      "execution_count": 14,
      "outputs": [
        {
          "output_type": "stream",
          "text": [
            "S-score for cluster 2 is 0.6093029782970728\n",
            "S-score for cluster 3 is 0.7455101910713924\n",
            "S-score for cluster 4 is 0.8821714922362172\n",
            "S-score for cluster 5 is 0.7820319915609574\n",
            "S-score for cluster 6 is 0.6095526652944923\n",
            "S-score for cluster 7 is 0.66330025213264\n",
            "S-score for cluster 8 is 0.5004286875989709\n",
            "S-score for cluster 9 is 0.3679457126551035\n"
          ],
          "name": "stdout"
        }
      ]
    },
    {
      "cell_type": "code",
      "metadata": {
        "id": "fiYw6nw0d4mK",
        "colab_type": "code",
        "colab": {}
      },
      "source": [
        "\n",
        "def elbow(data,K):\n",
        "    KM = [KMeans(n_clusters=k).fit(data) for k in K]\n",
        "    centroids = [k.cluster_centers_ for k in KM]\n",
        "    D_k = [cdist(data, cent, 'euclidean') for cent in centroids]\n",
        "    globals()['dist'] = [np.min(D,axis=1) for D in D_k]\n",
        "    avgWithinSS = [sum(d)/data.shape[0] for d in dist]\n",
        " \n",
        "    fig = plt.figure()\n",
        "    ax = fig.add_subplot(111)\n",
        "    ax.plot(K, avgWithinSS, 'r*-')\n",
        "    plt.grid(True)\n",
        "    plt.xlabel('Number of clusters')\n",
        "    plt.ylabel('Average within-cluster sum of squares')\n",
        "    plt.title('Elbow for KMeans clustering')\n",
        "    plt.show()\n",
        "    \n",
        "    wcss = [sum(d**2) for d in dist]\n",
        "    tss = sum(pdist(data)**2)/data.shape[0]\n",
        "    bss = tss-wcss\n",
        "    \n",
        "    fig = plt.figure()\n",
        "    ax = fig.add_subplot(111)\n",
        "    ax.plot(K, bss/tss*100, 'b^-')\n",
        "    plt.grid(True)\n",
        "    plt.xlabel('Number of clusters')\n",
        "    plt.ylabel('Percentage of variance explained')\n",
        "    plt.title('Elbow for KMeans clustering')\n",
        "    plt.show()"
      ],
      "execution_count": 0,
      "outputs": []
    },
    {
      "cell_type": "code",
      "metadata": {
        "id": "rIlYPbWczK-2",
        "colab_type": "code",
        "outputId": "163f3c61-615a-4dfa-80e6-706cda4fbd08",
        "colab": {
          "base_uri": "https://localhost:8080/",
          "height": 573
        }
      },
      "source": [
        "elbow(nd, range(1,10))"
      ],
      "execution_count": 16,
      "outputs": [
        {
          "output_type": "display_data",
          "data": {
            "image/png": "[encoded data removed]",
            "text/plain": [
              "<Figure size 432x288 with 1 Axes>"
            ]
          },
          "metadata": {
            "tags": []
          }
        },
        {
          "output_type": "display_data",
          "data": {
            "image/png": "[encoded data removed]",
            "text/plain": [
              "<Figure size 432x288 with 1 Axes>"
            ]
          },
          "metadata": {
            "tags": []
          }
        }
      ]
    },
    {
      "cell_type": "markdown",
      "metadata": {
        "id": "fed9a0ntDBiP",
        "colab_type": "text"
      },
      "source": [
        "## With the number of clusters considered as the initial guess, and the results obtained via Silhouette score and elbow graph, the result seems consistent. PCA seemed to have helped a lot, particularly in this case, where it was easily descernable that the data could easily be clustered in 4 sections."
      ]
    },
    {
      "cell_type": "code",
      "metadata": {
        "id": "f2gS71YMYWdy",
        "colab_type": "code",
        "colab": {}
      },
      "source": [
        "from sklearn.mixture import GaussianMixture as gm\n",
        "gaus_learn= gm(n_components=4,random_state=2710).fit(nd)\n",
        "gaus_pred = gaus_learn.predict(nd)"
      ],
      "execution_count": 0,
      "outputs": []
    },
    {
      "cell_type": "code",
      "metadata": {
        "id": "g3zb9PIrdcOQ",
        "colab_type": "code",
        "outputId": "38a36816-ad8b-4465-fcea-a40678a88998",
        "colab": {
          "base_uri": "https://localhost:8080/",
          "height": 499
        }
      },
      "source": [
        "plt.clf\n",
        "plt.figure(figsize = (8,8))\n",
        "plt.scatter(np.asarray(nd.loc[:, 'PC1']), np.asarray(nd.loc[:, 'PC2']), c=gaus_pred, s=22, cmap='plasma')\n",
        "plt.title('Gaussian Mixture on PCA reduced data')\n",
        "centers = kmeans.cluster_centers_\n",
        "plt.scatter(centers[:, 0], centers[:, 1], marker = 'x', c='black', s=1000, alpha=0.7);\n",
        "plt.show()"
      ],
      "execution_count": 18,
      "outputs": [
        {
          "output_type": "display_data",
          "data": {
            "image/png": "[encoded data removed]",
            "text/plain": [
              "<Figure size 576x576 with 1 Axes>"
            ]
          },
          "metadata": {
            "tags": []
          }
        }
      ]
    },
    {
      "cell_type": "markdown",
      "metadata": {
        "id": "4_Adyc2NLSg_",
        "colab_type": "text"
      },
      "source": [
        "## Question 2. "
      ]
    },
    {
      "cell_type": "markdown",
      "metadata": {
        "id": "jVj3RTv8LShA",
        "colab_type": "text"
      },
      "source": [
        "The following data comes from a larger set detailing every motor vehicle collision in NYC (available [here](https://data.cityofnewyork.us/Public-Safety/NYPD-Motor-Vehicle-Collisions/h9gi-nx95)). This particular subset only considers collisions that occurred on October 31, 2017.\n",
        "\n",
        "You have 680 collision records in the file ‘NYPD_Motor_Vehicle_Collisions_Duplicates.csv’, but you realize that some of these are actually duplicates resulting from a technical error. You know that there are over 600 unique records in the file, but you want to determine the exact number. Try k-means with 600-680 clusters applying Elbow method and analyzing Silhouette scores."
      ]
    },
    {
      "cell_type": "code",
      "metadata": {
        "id": "WhblImWnLShB",
        "colab_type": "code",
        "outputId": "0cf15e4a-e7f5-4a4b-9b18-9f73e5d4ade5",
        "colab": {
          "base_uri": "https://localhost:8080/",
          "height": 443
        }
      },
      "source": [
        "nydata = pd.read_csv('/content/drive/My Drive/Untitled folder/NYPD_Motor_Vehicle_Collisions_Duplicates.csv').fillna('')\n",
        "nydata.head()"
      ],
      "execution_count": 19,
      "outputs": [
        {
          "output_type": "execute_result",
          "data": {
            "text/html": [
              "<div>\n",
              "<style scoped>\n",
              "    .dataframe tbody tr th:only-of-type {\n",
              "        vertical-align: middle;\n",
              "    }\n",
              "\n",
              "    .dataframe tbody tr th {\n",
              "        vertical-align: top;\n",
              "    }\n",
              "\n",
              "    .dataframe thead th {\n",
              "        text-align: right;\n",
              "    }\n",
              "</style>\n",
              "<table border=\"1\" class=\"dataframe\">\n",
              "  <thead>\n",
              "    <tr style=\"text-align: right;\">\n",
              "      <th></th>\n",
              "      <th>DATE</th>\n",
              "      <th>TIME</th>\n",
              "      <th>BOROUGH</th>\n",
              "      <th>ZIP CODE</th>\n",
              "      <th>LATITUDE</th>\n",
              "      <th>LONGITUDE</th>\n",
              "      <th>LOCATION</th>\n",
              "      <th>ON STREET NAME</th>\n",
              "      <th>CROSS STREET NAME</th>\n",
              "      <th>OFF STREET NAME</th>\n",
              "      <th>NUMBER OF PERSONS INJURED</th>\n",
              "      <th>NUMBER OF PERSONS KILLED</th>\n",
              "      <th>NUMBER OF PEDESTRIANS INJURED</th>\n",
              "      <th>NUMBER OF PEDESTRIANS KILLED</th>\n",
              "      <th>NUMBER OF CYCLIST INJURED</th>\n",
              "      <th>NUMBER OF CYCLIST KILLED</th>\n",
              "      <th>NUMBER OF MOTORIST INJURED</th>\n",
              "      <th>NUMBER OF MOTORIST KILLED</th>\n",
              "      <th>CONTRIBUTING FACTOR VEHICLE 1</th>\n",
              "      <th>CONTRIBUTING FACTOR VEHICLE 2</th>\n",
              "      <th>CONTRIBUTING FACTOR VEHICLE 3</th>\n",
              "      <th>CONTRIBUTING FACTOR VEHICLE 4</th>\n",
              "      <th>CONTRIBUTING FACTOR VEHICLE 5</th>\n",
              "      <th>UNIQUE KEY</th>\n",
              "      <th>VEHICLE TYPE CODE 1</th>\n",
              "      <th>VEHICLE TYPE CODE 2</th>\n",
              "      <th>VEHICLE TYPE CODE 3</th>\n",
              "      <th>VEHICLE TYPE CODE 4</th>\n",
              "      <th>VEHICLE TYPE CODE 5</th>\n",
              "    </tr>\n",
              "  </thead>\n",
              "  <tbody>\n",
              "    <tr>\n",
              "      <th>0</th>\n",
              "      <td>10/31/2017</td>\n",
              "      <td>0:00</td>\n",
              "      <td></td>\n",
              "      <td></td>\n",
              "      <td>40.7331</td>\n",
              "      <td>-73.9548</td>\n",
              "      <td>(40.733135, -73.954765)</td>\n",
              "      <td>MANHATTAN AVENUE</td>\n",
              "      <td></td>\n",
              "      <td></td>\n",
              "      <td>0</td>\n",
              "      <td>0</td>\n",
              "      <td>0</td>\n",
              "      <td>0</td>\n",
              "      <td>0</td>\n",
              "      <td>0</td>\n",
              "      <td>0</td>\n",
              "      <td>0</td>\n",
              "      <td>Passing or Lane Usage Improper</td>\n",
              "      <td>Unspecified</td>\n",
              "      <td></td>\n",
              "      <td></td>\n",
              "      <td></td>\n",
              "      <td>3781862</td>\n",
              "      <td>PICK-UP TRUCK</td>\n",
              "      <td>PICK-UP TRUCK</td>\n",
              "      <td></td>\n",
              "      <td></td>\n",
              "      <td></td>\n",
              "    </tr>\n",
              "    <tr>\n",
              "      <th>1</th>\n",
              "      <td>10/31/2017</td>\n",
              "      <td>0:00</td>\n",
              "      <td></td>\n",
              "      <td></td>\n",
              "      <td>40.7535</td>\n",
              "      <td>-73.8979</td>\n",
              "      <td>(40.75351, -73.8979)</td>\n",
              "      <td></td>\n",
              "      <td></td>\n",
              "      <td></td>\n",
              "      <td>0</td>\n",
              "      <td>0</td>\n",
              "      <td>0</td>\n",
              "      <td>0</td>\n",
              "      <td>0</td>\n",
              "      <td>0</td>\n",
              "      <td>0</td>\n",
              "      <td>0</td>\n",
              "      <td>Unspecified</td>\n",
              "      <td>Unspecified</td>\n",
              "      <td></td>\n",
              "      <td></td>\n",
              "      <td></td>\n",
              "      <td>3781130</td>\n",
              "      <td>SPORT UTILITY / STATION WAGON</td>\n",
              "      <td>PASSENGER VEHICLE</td>\n",
              "      <td></td>\n",
              "      <td></td>\n",
              "      <td></td>\n",
              "    </tr>\n",
              "    <tr>\n",
              "      <th>2</th>\n",
              "      <td>10/31/2017</td>\n",
              "      <td>0:00</td>\n",
              "      <td>MANHATTAN</td>\n",
              "      <td>10036</td>\n",
              "      <td>40.7597</td>\n",
              "      <td>-73.9917</td>\n",
              "      <td>(40.759727, -73.99169)</td>\n",
              "      <td>WEST 44 STREET</td>\n",
              "      <td>9 AVENUE</td>\n",
              "      <td></td>\n",
              "      <td>1</td>\n",
              "      <td>0</td>\n",
              "      <td>1</td>\n",
              "      <td>0</td>\n",
              "      <td>0</td>\n",
              "      <td>0</td>\n",
              "      <td>0</td>\n",
              "      <td>0</td>\n",
              "      <td>Unspecified</td>\n",
              "      <td></td>\n",
              "      <td></td>\n",
              "      <td></td>\n",
              "      <td></td>\n",
              "      <td>3781009</td>\n",
              "      <td>PASSENGER VEHICLE</td>\n",
              "      <td></td>\n",
              "      <td></td>\n",
              "      <td></td>\n",
              "      <td></td>\n",
              "    </tr>\n",
              "    <tr>\n",
              "      <th>3</th>\n",
              "      <td>10/31/2017</td>\n",
              "      <td>0:00</td>\n",
              "      <td>BROOKLYN</td>\n",
              "      <td>11207</td>\n",
              "      <td></td>\n",
              "      <td></td>\n",
              "      <td></td>\n",
              "      <td>LINDEN BOULEVARD</td>\n",
              "      <td>WILLIAMS AVENUE</td>\n",
              "      <td></td>\n",
              "      <td>0</td>\n",
              "      <td>0</td>\n",
              "      <td>0</td>\n",
              "      <td>0</td>\n",
              "      <td>0</td>\n",
              "      <td>0</td>\n",
              "      <td>0</td>\n",
              "      <td>0</td>\n",
              "      <td>Unspecified</td>\n",
              "      <td>Unspecified</td>\n",
              "      <td></td>\n",
              "      <td></td>\n",
              "      <td></td>\n",
              "      <td>3780501</td>\n",
              "      <td>PASSENGER VEHICLE</td>\n",
              "      <td>DS</td>\n",
              "      <td></td>\n",
              "      <td></td>\n",
              "      <td></td>\n",
              "    </tr>\n",
              "    <tr>\n",
              "      <th>4</th>\n",
              "      <td>10/31/2017</td>\n",
              "      <td>0:00</td>\n",
              "      <td>MANHATTAN</td>\n",
              "      <td>10030</td>\n",
              "      <td>40.8156</td>\n",
              "      <td>-73.9435</td>\n",
              "      <td>(40.81561, -73.943474)</td>\n",
              "      <td></td>\n",
              "      <td></td>\n",
              "      <td>2309      7 AVENUE</td>\n",
              "      <td>0</td>\n",
              "      <td>0</td>\n",
              "      <td>0</td>\n",
              "      <td>0</td>\n",
              "      <td>0</td>\n",
              "      <td>0</td>\n",
              "      <td>0</td>\n",
              "      <td>0</td>\n",
              "      <td>Fell Asleep</td>\n",
              "      <td>Unspecified</td>\n",
              "      <td>Unspecified</td>\n",
              "      <td></td>\n",
              "      <td></td>\n",
              "      <td>3780511</td>\n",
              "      <td>SPORT UTILITY / STATION WAGON</td>\n",
              "      <td>PASSENGER VEHICLE</td>\n",
              "      <td>PASSENGER VEHICLE</td>\n",
              "      <td></td>\n",
              "      <td></td>\n",
              "    </tr>\n",
              "  </tbody>\n",
              "</table>\n",
              "</div>"
            ],
            "text/plain": [
              "         DATE  TIME  ... VEHICLE TYPE CODE 4 VEHICLE TYPE CODE 5\n",
              "0  10/31/2017  0:00  ...                                        \n",
              "1  10/31/2017  0:00  ...                                        \n",
              "2  10/31/2017  0:00  ...                                        \n",
              "3  10/31/2017  0:00  ...                                        \n",
              "4  10/31/2017  0:00  ...                                        \n",
              "\n",
              "[5 rows x 29 columns]"
            ]
          },
          "metadata": {
            "tags": []
          },
          "execution_count": 19
        }
      ]
    },
    {
      "cell_type": "markdown",
      "metadata": {
        "id": "LD2a5Wa6LShF",
        "colab_type": "text"
      },
      "source": [
        "#### a) Implement a clustering technique of your choice that will determine the exact number of unique records. (Hint: assigning each unique record to its own cluster would result in perfect clustering. Cluster the data\\* based on possible values for the number of unique records and observe the results. ) Briefly explain your approach. \n",
        "\\* You may first have to factorize the data set, as it contains string variables.\n",
        "\n",
        "#### b) Confirm the number of unique records by using a more straightforward technique to identify duplicate rows. Pandas has a convenient function to drop duplicates for this purpose.  How well did your clustering technique perform?  "
      ]
    },
    {
      "cell_type": "code",
      "metadata": {
        "id": "qCxJFsbxdWYO",
        "colab_type": "code",
        "outputId": "b74f178a-d24c-43b3-be67-5eb9df4b8fb7",
        "colab": {
          "base_uri": "https://localhost:8080/",
          "height": 198
        }
      },
      "source": [
        "nyc_d = nydata[['ZIP CODE', 'LATITUDE', 'LONGITUDE', 'UNIQUE KEY']].copy()\n",
        "nyc_d.head()"
      ],
      "execution_count": 20,
      "outputs": [
        {
          "output_type": "execute_result",
          "data": {
            "text/html": [
              "<div>\n",
              "<style scoped>\n",
              "    .dataframe tbody tr th:only-of-type {\n",
              "        vertical-align: middle;\n",
              "    }\n",
              "\n",
              "    .dataframe tbody tr th {\n",
              "        vertical-align: top;\n",
              "    }\n",
              "\n",
              "    .dataframe thead th {\n",
              "        text-align: right;\n",
              "    }\n",
              "</style>\n",
              "<table border=\"1\" class=\"dataframe\">\n",
              "  <thead>\n",
              "    <tr style=\"text-align: right;\">\n",
              "      <th></th>\n",
              "      <th>ZIP CODE</th>\n",
              "      <th>LATITUDE</th>\n",
              "      <th>LONGITUDE</th>\n",
              "      <th>UNIQUE KEY</th>\n",
              "    </tr>\n",
              "  </thead>\n",
              "  <tbody>\n",
              "    <tr>\n",
              "      <th>0</th>\n",
              "      <td></td>\n",
              "      <td>40.7331</td>\n",
              "      <td>-73.9548</td>\n",
              "      <td>3781862</td>\n",
              "    </tr>\n",
              "    <tr>\n",
              "      <th>1</th>\n",
              "      <td></td>\n",
              "      <td>40.7535</td>\n",
              "      <td>-73.8979</td>\n",
              "      <td>3781130</td>\n",
              "    </tr>\n",
              "    <tr>\n",
              "      <th>2</th>\n",
              "      <td>10036</td>\n",
              "      <td>40.7597</td>\n",
              "      <td>-73.9917</td>\n",
              "      <td>3781009</td>\n",
              "    </tr>\n",
              "    <tr>\n",
              "      <th>3</th>\n",
              "      <td>11207</td>\n",
              "      <td></td>\n",
              "      <td></td>\n",
              "      <td>3780501</td>\n",
              "    </tr>\n",
              "    <tr>\n",
              "      <th>4</th>\n",
              "      <td>10030</td>\n",
              "      <td>40.8156</td>\n",
              "      <td>-73.9435</td>\n",
              "      <td>3780511</td>\n",
              "    </tr>\n",
              "  </tbody>\n",
              "</table>\n",
              "</div>"
            ],
            "text/plain": [
              "  ZIP CODE LATITUDE LONGITUDE  UNIQUE KEY\n",
              "0           40.7331  -73.9548     3781862\n",
              "1           40.7535  -73.8979     3781130\n",
              "2    10036  40.7597  -73.9917     3781009\n",
              "3    11207                        3780501\n",
              "4    10030  40.8156  -73.9435     3780511"
            ]
          },
          "metadata": {
            "tags": []
          },
          "execution_count": 20
        }
      ]
    },
    {
      "cell_type": "code",
      "metadata": {
        "id": "nlRE04jMalSy",
        "colab_type": "code",
        "outputId": "0136e068-b750-4eea-97ef-628d37cf59f3",
        "colab": {
          "base_uri": "https://localhost:8080/",
          "height": 35
        }
      },
      "source": [
        "nyc_d.shape"
      ],
      "execution_count": 21,
      "outputs": [
        {
          "output_type": "execute_result",
          "data": {
            "text/plain": [
              "(680, 4)"
            ]
          },
          "metadata": {
            "tags": []
          },
          "execution_count": 21
        }
      ]
    },
    {
      "cell_type": "code",
      "metadata": {
        "id": "weCW4C19dnVU",
        "colab_type": "code",
        "colab": {}
      },
      "source": [
        "for column in nyc_d.columns:\n",
        "  nyc_d[column] = pd.factorize(nyc_d[column])[0]"
      ],
      "execution_count": 0,
      "outputs": []
    },
    {
      "cell_type": "code",
      "metadata": {
        "id": "wj3NM_DcesYI",
        "colab_type": "code",
        "outputId": "a3e57d57-b654-4688-91dc-8e7c1031c4fc",
        "colab": {
          "base_uri": "https://localhost:8080/",
          "height": 198
        }
      },
      "source": [
        "nyc_d.head()"
      ],
      "execution_count": 23,
      "outputs": [
        {
          "output_type": "execute_result",
          "data": {
            "text/html": [
              "<div>\n",
              "<style scoped>\n",
              "    .dataframe tbody tr th:only-of-type {\n",
              "        vertical-align: middle;\n",
              "    }\n",
              "\n",
              "    .dataframe tbody tr th {\n",
              "        vertical-align: top;\n",
              "    }\n",
              "\n",
              "    .dataframe thead th {\n",
              "        text-align: right;\n",
              "    }\n",
              "</style>\n",
              "<table border=\"1\" class=\"dataframe\">\n",
              "  <thead>\n",
              "    <tr style=\"text-align: right;\">\n",
              "      <th></th>\n",
              "      <th>ZIP CODE</th>\n",
              "      <th>LATITUDE</th>\n",
              "      <th>LONGITUDE</th>\n",
              "      <th>UNIQUE KEY</th>\n",
              "    </tr>\n",
              "  </thead>\n",
              "  <tbody>\n",
              "    <tr>\n",
              "      <th>0</th>\n",
              "      <td>0</td>\n",
              "      <td>0</td>\n",
              "      <td>0</td>\n",
              "      <td>0</td>\n",
              "    </tr>\n",
              "    <tr>\n",
              "      <th>1</th>\n",
              "      <td>0</td>\n",
              "      <td>1</td>\n",
              "      <td>1</td>\n",
              "      <td>1</td>\n",
              "    </tr>\n",
              "    <tr>\n",
              "      <th>2</th>\n",
              "      <td>1</td>\n",
              "      <td>2</td>\n",
              "      <td>2</td>\n",
              "      <td>2</td>\n",
              "    </tr>\n",
              "    <tr>\n",
              "      <th>3</th>\n",
              "      <td>2</td>\n",
              "      <td>3</td>\n",
              "      <td>3</td>\n",
              "      <td>3</td>\n",
              "    </tr>\n",
              "    <tr>\n",
              "      <th>4</th>\n",
              "      <td>3</td>\n",
              "      <td>4</td>\n",
              "      <td>4</td>\n",
              "      <td>4</td>\n",
              "    </tr>\n",
              "  </tbody>\n",
              "</table>\n",
              "</div>"
            ],
            "text/plain": [
              "   ZIP CODE  LATITUDE  LONGITUDE  UNIQUE KEY\n",
              "0         0         0          0           0\n",
              "1         0         1          1           1\n",
              "2         1         2          2           2\n",
              "3         2         3          3           3\n",
              "4         3         4          4           4"
            ]
          },
          "metadata": {
            "tags": []
          },
          "execution_count": 23
        }
      ]
    },
    {
      "cell_type": "code",
      "metadata": {
        "id": "mCNwLkkveIAu",
        "colab_type": "code",
        "outputId": "94c5e75a-91b3-4b71-a831-b6e9486a6927",
        "colab": {
          "base_uri": "https://localhost:8080/",
          "height": 573
        }
      },
      "source": [
        "elbow(nyc_d, range(610, 650))"
      ],
      "execution_count": 24,
      "outputs": [
        {
          "output_type": "display_data",
          "data": {
            "image/png": "[encoded data removed]",
            "text/plain": [
              "<Figure size 432x288 with 1 Axes>"
            ]
          },
          "metadata": {
            "tags": []
          }
        },
        {
          "output_type": "display_data",
          "data": {
            "image/png": "[encoded data removed]",
            "text/plain": [
              "<Figure size 432x288 with 1 Axes>"
            ]
          },
          "metadata": {
            "tags": []
          }
        }
      ]
    },
    {
      "cell_type": "code",
      "metadata": {
        "id": "ToBhoMkdt6iw",
        "colab_type": "code",
        "outputId": "db338317-b907-4e94-95ec-011738650e06",
        "colab": {
          "base_uri": "https://localhost:8080/",
          "height": 573
        }
      },
      "source": [
        "elbow(nyc_d, range(610, 620))"
      ],
      "execution_count": 25,
      "outputs": [
        {
          "output_type": "display_data",
          "data": {
            "image/png": "[encoded data removed]",
            "text/plain": [
              "<Figure size 432x288 with 1 Axes>"
            ]
          },
          "metadata": {
            "tags": []
          }
        },
        {
          "output_type": "display_data",
          "data": {
            "image/png": "[encoded data removed]",
            "text/plain": [
              "<Figure size 432x288 with 1 Axes>"
            ]
          },
          "metadata": {
            "tags": []
          }
        }
      ]
    },
    {
      "cell_type": "markdown",
      "metadata": {
        "id": "RiIKfSBIEog5",
        "colab_type": "text"
      },
      "source": [
        "## Using the Elbow method we can easily conclude that after 617 there is hardly any change in the information, which clearly means k = 617. This if there is no more changes in information that means, there can be only 617 clusters, which ultimately implies that there are 617 unique records."
      ]
    },
    {
      "cell_type": "code",
      "metadata": {
        "id": "MDiJws3WFDzp",
        "colab_type": "code",
        "colab": {
          "base_uri": "https://localhost:8080/",
          "height": 35
        },
        "outputId": "a0b0cb1a-ae7b-4aae-a099-e887c53933b9"
      },
      "source": [
        "holder  = nyc_d.loc[nyc_d.duplicated() == True] \n",
        "print(\"The total number of records = {}, out of which duplicated records = {}, Therefore, the total number of unique records = {}\".format(len(holder),len(nyc_d), len(nyc_d)-len(holder)))"
      ],
      "execution_count": 26,
      "outputs": [
        {
          "output_type": "stream",
          "text": [
            "The total number of records = 63, out of which duplicated records = 680, Therefore, the total number of unique records = 617\n"
          ],
          "name": "stdout"
        }
      ]
    },
    {
      "cell_type": "markdown",
      "metadata": {
        "id": "V1_gu_hFLShG",
        "colab_type": "text"
      },
      "source": [
        "## Question 3."
      ]
    },
    {
      "cell_type": "markdown",
      "metadata": {
        "id": "IDNCvuC4LShG",
        "colab_type": "text"
      },
      "source": [
        "### Real world exercise. 2012 \"stop and frisk\" data\n",
        "\n",
        "https://en.wikipedia.org/wiki/Stop-and-frisk_in_New_York_City\n",
        "\n",
        "The stop-question-and-frisk program, or stop-and-frisk, in New York City, is a practice of the New York City Police Department in which police officers stop and question a pedestrian, then frisk them for weapons and other contraband; this is what is known in other places in the United States as the Terry stop. The rules for stop, question, and frisk are found in the state's criminal procedure law section 140.50, and are based on the decision of the United States Supreme Court in the case of Terry v. Ohio. About 685,724 people were stopped in 2011. However, the number of stops has been reduced dramatically since then, to 22,939 in 2015.\n",
        "Stop-and-frisk got increased attention in the 2016 presidential debate."
      ]
    },
    {
      "cell_type": "code",
      "metadata": {
        "id": "IwS0jN1SLShG",
        "colab_type": "code",
        "outputId": "0612c3f8-6c54-4194-e063-d50089eb66a4",
        "colab": {
          "base_uri": "https://localhost:8080/",
          "height": 248
        }
      },
      "source": [
        "#load the data\n",
        "data1=pd.read_csv(\"/content/drive/My Drive/Untitled folder/stop_2012.csv\", index_col='zipcode')\n",
        "data1.head()"
      ],
      "execution_count": 27,
      "outputs": [
        {
          "output_type": "execute_result",
          "data": {
            "text/html": [
              "<div>\n",
              "<style scoped>\n",
              "    .dataframe tbody tr th:only-of-type {\n",
              "        vertical-align: middle;\n",
              "    }\n",
              "\n",
              "    .dataframe tbody tr th {\n",
              "        vertical-align: top;\n",
              "    }\n",
              "\n",
              "    .dataframe thead th {\n",
              "        text-align: right;\n",
              "    }\n",
              "</style>\n",
              "<table border=\"1\" class=\"dataframe\">\n",
              "  <thead>\n",
              "    <tr style=\"text-align: right;\">\n",
              "      <th></th>\n",
              "      <th>day_Friday</th>\n",
              "      <th>day_Monday</th>\n",
              "      <th>day_Saturday</th>\n",
              "      <th>day_Sunday</th>\n",
              "      <th>day_Thursday</th>\n",
              "      <th>day_Tuesday</th>\n",
              "      <th>day_Wednesday</th>\n",
              "      <th>month_April</th>\n",
              "      <th>month_August</th>\n",
              "      <th>month_December</th>\n",
              "      <th>month_February</th>\n",
              "      <th>month_January</th>\n",
              "      <th>month_July</th>\n",
              "      <th>month_June</th>\n",
              "      <th>month_March</th>\n",
              "      <th>month_May</th>\n",
              "      <th>month_November</th>\n",
              "      <th>month_October</th>\n",
              "      <th>month_September</th>\n",
              "      <th>time_1</th>\n",
              "      <th>time_2</th>\n",
              "      <th>time_3</th>\n",
              "      <th>time_4</th>\n",
              "      <th>time_5</th>\n",
              "      <th>time_6</th>\n",
              "    </tr>\n",
              "    <tr>\n",
              "      <th>zipcode</th>\n",
              "      <th></th>\n",
              "      <th></th>\n",
              "      <th></th>\n",
              "      <th></th>\n",
              "      <th></th>\n",
              "      <th></th>\n",
              "      <th></th>\n",
              "      <th></th>\n",
              "      <th></th>\n",
              "      <th></th>\n",
              "      <th></th>\n",
              "      <th></th>\n",
              "      <th></th>\n",
              "      <th></th>\n",
              "      <th></th>\n",
              "      <th></th>\n",
              "      <th></th>\n",
              "      <th></th>\n",
              "      <th></th>\n",
              "      <th></th>\n",
              "      <th></th>\n",
              "      <th></th>\n",
              "      <th></th>\n",
              "      <th></th>\n",
              "      <th></th>\n",
              "    </tr>\n",
              "  </thead>\n",
              "  <tbody>\n",
              "    <tr>\n",
              "      <th>10472</th>\n",
              "      <td>278.0</td>\n",
              "      <td>212.0</td>\n",
              "      <td>315.0</td>\n",
              "      <td>213.0</td>\n",
              "      <td>254.0</td>\n",
              "      <td>234.0</td>\n",
              "      <td>241.0</td>\n",
              "      <td>158.0</td>\n",
              "      <td>95.0</td>\n",
              "      <td>142.0</td>\n",
              "      <td>214.0</td>\n",
              "      <td>316.0</td>\n",
              "      <td>115.0</td>\n",
              "      <td>73.0</td>\n",
              "      <td>201.0</td>\n",
              "      <td>104.0</td>\n",
              "      <td>96.0</td>\n",
              "      <td>110.0</td>\n",
              "      <td>123.0</td>\n",
              "      <td>349.0</td>\n",
              "      <td>35.0</td>\n",
              "      <td>57.0</td>\n",
              "      <td>206.0</td>\n",
              "      <td>437.0</td>\n",
              "      <td>663.0</td>\n",
              "    </tr>\n",
              "    <tr>\n",
              "      <th>10037</th>\n",
              "      <td>199.0</td>\n",
              "      <td>79.0</td>\n",
              "      <td>301.0</td>\n",
              "      <td>154.0</td>\n",
              "      <td>163.0</td>\n",
              "      <td>137.0</td>\n",
              "      <td>147.0</td>\n",
              "      <td>114.0</td>\n",
              "      <td>114.0</td>\n",
              "      <td>34.0</td>\n",
              "      <td>123.0</td>\n",
              "      <td>190.0</td>\n",
              "      <td>56.0</td>\n",
              "      <td>54.0</td>\n",
              "      <td>214.0</td>\n",
              "      <td>67.0</td>\n",
              "      <td>53.0</td>\n",
              "      <td>65.0</td>\n",
              "      <td>96.0</td>\n",
              "      <td>271.0</td>\n",
              "      <td>38.0</td>\n",
              "      <td>32.0</td>\n",
              "      <td>143.0</td>\n",
              "      <td>248.0</td>\n",
              "      <td>448.0</td>\n",
              "    </tr>\n",
              "    <tr>\n",
              "      <th>10460</th>\n",
              "      <td>278.0</td>\n",
              "      <td>169.0</td>\n",
              "      <td>283.0</td>\n",
              "      <td>203.0</td>\n",
              "      <td>234.0</td>\n",
              "      <td>197.0</td>\n",
              "      <td>289.0</td>\n",
              "      <td>117.0</td>\n",
              "      <td>133.0</td>\n",
              "      <td>91.0</td>\n",
              "      <td>181.0</td>\n",
              "      <td>278.0</td>\n",
              "      <td>150.0</td>\n",
              "      <td>71.0</td>\n",
              "      <td>128.0</td>\n",
              "      <td>95.0</td>\n",
              "      <td>86.0</td>\n",
              "      <td>148.0</td>\n",
              "      <td>175.0</td>\n",
              "      <td>462.0</td>\n",
              "      <td>51.0</td>\n",
              "      <td>56.0</td>\n",
              "      <td>190.0</td>\n",
              "      <td>411.0</td>\n",
              "      <td>483.0</td>\n",
              "    </tr>\n",
              "    <tr>\n",
              "      <th>11224</th>\n",
              "      <td>175.0</td>\n",
              "      <td>82.0</td>\n",
              "      <td>177.0</td>\n",
              "      <td>176.0</td>\n",
              "      <td>180.0</td>\n",
              "      <td>179.0</td>\n",
              "      <td>206.0</td>\n",
              "      <td>112.0</td>\n",
              "      <td>67.0</td>\n",
              "      <td>134.0</td>\n",
              "      <td>147.0</td>\n",
              "      <td>138.0</td>\n",
              "      <td>91.0</td>\n",
              "      <td>75.0</td>\n",
              "      <td>140.0</td>\n",
              "      <td>112.0</td>\n",
              "      <td>23.0</td>\n",
              "      <td>68.0</td>\n",
              "      <td>68.0</td>\n",
              "      <td>157.0</td>\n",
              "      <td>27.0</td>\n",
              "      <td>37.0</td>\n",
              "      <td>97.0</td>\n",
              "      <td>282.0</td>\n",
              "      <td>575.0</td>\n",
              "    </tr>\n",
              "    <tr>\n",
              "      <th>10456</th>\n",
              "      <td>979.0</td>\n",
              "      <td>647.0</td>\n",
              "      <td>1086.0</td>\n",
              "      <td>773.0</td>\n",
              "      <td>913.0</td>\n",
              "      <td>814.0</td>\n",
              "      <td>885.0</td>\n",
              "      <td>709.0</td>\n",
              "      <td>465.0</td>\n",
              "      <td>290.0</td>\n",
              "      <td>598.0</td>\n",
              "      <td>626.0</td>\n",
              "      <td>373.0</td>\n",
              "      <td>284.0</td>\n",
              "      <td>807.0</td>\n",
              "      <td>518.0</td>\n",
              "      <td>395.0</td>\n",
              "      <td>521.0</td>\n",
              "      <td>511.0</td>\n",
              "      <td>1295.0</td>\n",
              "      <td>137.0</td>\n",
              "      <td>110.0</td>\n",
              "      <td>662.0</td>\n",
              "      <td>1553.0</td>\n",
              "      <td>2340.0</td>\n",
              "    </tr>\n",
              "  </tbody>\n",
              "</table>\n",
              "</div>"
            ],
            "text/plain": [
              "         day_Friday  day_Monday  day_Saturday  ...  time_4  time_5  time_6\n",
              "zipcode                                        ...                        \n",
              "10472         278.0       212.0         315.0  ...   206.0   437.0   663.0\n",
              "10037         199.0        79.0         301.0  ...   143.0   248.0   448.0\n",
              "10460         278.0       169.0         283.0  ...   190.0   411.0   483.0\n",
              "11224         175.0        82.0         177.0  ...    97.0   282.0   575.0\n",
              "10456         979.0       647.0        1086.0  ...   662.0  1553.0  2340.0\n",
              "\n",
              "[5 rows x 25 columns]"
            ]
          },
          "metadata": {
            "tags": []
          },
          "execution_count": 27
        }
      ]
    },
    {
      "cell_type": "code",
      "metadata": {
        "id": "698JabnvLShI",
        "colab_type": "code",
        "outputId": "7f82bbc7-a7d4-4be3-befc-9ec6391aee9f",
        "colab": {
          "base_uri": "https://localhost:8080/",
          "height": 228
        }
      },
      "source": [
        "#considering only the in-day timeline \n",
        "data1=data1.iloc[:,-6:]\n",
        "data1.head()"
      ],
      "execution_count": 28,
      "outputs": [
        {
          "output_type": "execute_result",
          "data": {
            "text/html": [
              "<div>\n",
              "<style scoped>\n",
              "    .dataframe tbody tr th:only-of-type {\n",
              "        vertical-align: middle;\n",
              "    }\n",
              "\n",
              "    .dataframe tbody tr th {\n",
              "        vertical-align: top;\n",
              "    }\n",
              "\n",
              "    .dataframe thead th {\n",
              "        text-align: right;\n",
              "    }\n",
              "</style>\n",
              "<table border=\"1\" class=\"dataframe\">\n",
              "  <thead>\n",
              "    <tr style=\"text-align: right;\">\n",
              "      <th></th>\n",
              "      <th>time_1</th>\n",
              "      <th>time_2</th>\n",
              "      <th>time_3</th>\n",
              "      <th>time_4</th>\n",
              "      <th>time_5</th>\n",
              "      <th>time_6</th>\n",
              "    </tr>\n",
              "    <tr>\n",
              "      <th>zipcode</th>\n",
              "      <th></th>\n",
              "      <th></th>\n",
              "      <th></th>\n",
              "      <th></th>\n",
              "      <th></th>\n",
              "      <th></th>\n",
              "    </tr>\n",
              "  </thead>\n",
              "  <tbody>\n",
              "    <tr>\n",
              "      <th>10472</th>\n",
              "      <td>349.0</td>\n",
              "      <td>35.0</td>\n",
              "      <td>57.0</td>\n",
              "      <td>206.0</td>\n",
              "      <td>437.0</td>\n",
              "      <td>663.0</td>\n",
              "    </tr>\n",
              "    <tr>\n",
              "      <th>10037</th>\n",
              "      <td>271.0</td>\n",
              "      <td>38.0</td>\n",
              "      <td>32.0</td>\n",
              "      <td>143.0</td>\n",
              "      <td>248.0</td>\n",
              "      <td>448.0</td>\n",
              "    </tr>\n",
              "    <tr>\n",
              "      <th>10460</th>\n",
              "      <td>462.0</td>\n",
              "      <td>51.0</td>\n",
              "      <td>56.0</td>\n",
              "      <td>190.0</td>\n",
              "      <td>411.0</td>\n",
              "      <td>483.0</td>\n",
              "    </tr>\n",
              "    <tr>\n",
              "      <th>11224</th>\n",
              "      <td>157.0</td>\n",
              "      <td>27.0</td>\n",
              "      <td>37.0</td>\n",
              "      <td>97.0</td>\n",
              "      <td>282.0</td>\n",
              "      <td>575.0</td>\n",
              "    </tr>\n",
              "    <tr>\n",
              "      <th>10456</th>\n",
              "      <td>1295.0</td>\n",
              "      <td>137.0</td>\n",
              "      <td>110.0</td>\n",
              "      <td>662.0</td>\n",
              "      <td>1553.0</td>\n",
              "      <td>2340.0</td>\n",
              "    </tr>\n",
              "  </tbody>\n",
              "</table>\n",
              "</div>"
            ],
            "text/plain": [
              "         time_1  time_2  time_3  time_4  time_5  time_6\n",
              "zipcode                                                \n",
              "10472     349.0    35.0    57.0   206.0   437.0   663.0\n",
              "10037     271.0    38.0    32.0   143.0   248.0   448.0\n",
              "10460     462.0    51.0    56.0   190.0   411.0   483.0\n",
              "11224     157.0    27.0    37.0    97.0   282.0   575.0\n",
              "10456    1295.0   137.0   110.0   662.0  1553.0  2340.0"
            ]
          },
          "metadata": {
            "tags": []
          },
          "execution_count": 28
        }
      ]
    },
    {
      "cell_type": "markdown",
      "metadata": {
        "id": "OCrSjYXeLShK",
        "colab_type": "text"
      },
      "source": [
        "#### a) Find and visualize 5 zip codes with most stops\n",
        "\n",
        "#### b) Filter the data to have at least 30 stop&frisk observations per zip code\n",
        "\n",
        "#### c) We want to cluster the zip codes by the stops timeline data set. Choose the number of clusters k for Kmeans. Try both - Elbow method and Silhouette score - for that. In case the results are inconsistent provide reasoning for your choice of k. \n",
        "\n",
        "#### d) Visualize the k-means clustering for the k you've chosen\n",
        "\n",
        "#### e) Repeat d) using Guassian Mixture model"
      ]
    },
    {
      "cell_type": "code",
      "metadata": {
        "id": "xXxzjSo6LShK",
        "colab_type": "code",
        "outputId": "4c522117-afda-4678-d6bb-a6d13af649a3",
        "colab": {
          "base_uri": "https://localhost:8080/",
          "height": 228
        }
      },
      "source": [
        "new_data = data1.copy()\n",
        "new_data['Totals'] = new_data.sum(axis=1)\n",
        "temp = new_data.sort_values(by=\"Totals\", ascending = False)\n",
        "temp.head()"
      ],
      "execution_count": 29,
      "outputs": [
        {
          "output_type": "execute_result",
          "data": {
            "text/html": [
              "<div>\n",
              "<style scoped>\n",
              "    .dataframe tbody tr th:only-of-type {\n",
              "        vertical-align: middle;\n",
              "    }\n",
              "\n",
              "    .dataframe tbody tr th {\n",
              "        vertical-align: top;\n",
              "    }\n",
              "\n",
              "    .dataframe thead th {\n",
              "        text-align: right;\n",
              "    }\n",
              "</style>\n",
              "<table border=\"1\" class=\"dataframe\">\n",
              "  <thead>\n",
              "    <tr style=\"text-align: right;\">\n",
              "      <th></th>\n",
              "      <th>time_1</th>\n",
              "      <th>time_2</th>\n",
              "      <th>time_3</th>\n",
              "      <th>time_4</th>\n",
              "      <th>time_5</th>\n",
              "      <th>time_6</th>\n",
              "      <th>Totals</th>\n",
              "    </tr>\n",
              "    <tr>\n",
              "      <th>zipcode</th>\n",
              "      <th></th>\n",
              "      <th></th>\n",
              "      <th></th>\n",
              "      <th></th>\n",
              "      <th></th>\n",
              "      <th></th>\n",
              "      <th></th>\n",
              "    </tr>\n",
              "  </thead>\n",
              "  <tbody>\n",
              "    <tr>\n",
              "      <th>10456</th>\n",
              "      <td>1295.0</td>\n",
              "      <td>137.0</td>\n",
              "      <td>110.0</td>\n",
              "      <td>662.0</td>\n",
              "      <td>1553.0</td>\n",
              "      <td>2340.0</td>\n",
              "      <td>6097.0</td>\n",
              "    </tr>\n",
              "    <tr>\n",
              "      <th>10454</th>\n",
              "      <td>929.0</td>\n",
              "      <td>56.0</td>\n",
              "      <td>94.0</td>\n",
              "      <td>411.0</td>\n",
              "      <td>1194.0</td>\n",
              "      <td>1979.0</td>\n",
              "      <td>4663.0</td>\n",
              "    </tr>\n",
              "    <tr>\n",
              "      <th>11212</th>\n",
              "      <td>751.0</td>\n",
              "      <td>48.0</td>\n",
              "      <td>199.0</td>\n",
              "      <td>709.0</td>\n",
              "      <td>1177.0</td>\n",
              "      <td>1549.0</td>\n",
              "      <td>4433.0</td>\n",
              "    </tr>\n",
              "    <tr>\n",
              "      <th>11207</th>\n",
              "      <td>905.0</td>\n",
              "      <td>70.0</td>\n",
              "      <td>212.0</td>\n",
              "      <td>575.0</td>\n",
              "      <td>852.0</td>\n",
              "      <td>1452.0</td>\n",
              "      <td>4066.0</td>\n",
              "    </tr>\n",
              "    <tr>\n",
              "      <th>11691</th>\n",
              "      <td>574.0</td>\n",
              "      <td>24.0</td>\n",
              "      <td>119.0</td>\n",
              "      <td>539.0</td>\n",
              "      <td>845.0</td>\n",
              "      <td>1571.0</td>\n",
              "      <td>3672.0</td>\n",
              "    </tr>\n",
              "  </tbody>\n",
              "</table>\n",
              "</div>"
            ],
            "text/plain": [
              "         time_1  time_2  time_3  time_4  time_5  time_6  Totals\n",
              "zipcode                                                        \n",
              "10456    1295.0   137.0   110.0   662.0  1553.0  2340.0  6097.0\n",
              "10454     929.0    56.0    94.0   411.0  1194.0  1979.0  4663.0\n",
              "11212     751.0    48.0   199.0   709.0  1177.0  1549.0  4433.0\n",
              "11207     905.0    70.0   212.0   575.0   852.0  1452.0  4066.0\n",
              "11691     574.0    24.0   119.0   539.0   845.0  1571.0  3672.0"
            ]
          },
          "metadata": {
            "tags": []
          },
          "execution_count": 29
        }
      ]
    },
    {
      "cell_type": "markdown",
      "metadata": {
        "id": "R04X-rGcoN8N",
        "colab_type": "text"
      },
      "source": [
        "## The top 5 zip codes with most stops are: 10456, 10454, 11212, 11207, 11691"
      ]
    },
    {
      "cell_type": "code",
      "metadata": {
        "id": "5KnsVHwHywmR",
        "colab_type": "code",
        "outputId": "e28aa413-43c6-4d2e-fed8-4847c3ba6bdc",
        "colab": {
          "base_uri": "https://localhost:8080/",
          "height": 72
        }
      },
      "source": [
        "tempx = temp.head().copy()\n",
        "tempx.reset_index(inplace=True)\n",
        "tempx.columns"
      ],
      "execution_count": 30,
      "outputs": [
        {
          "output_type": "execute_result",
          "data": {
            "text/plain": [
              "Index(['zipcode', 'time_1', 'time_2', 'time_3', 'time_4', 'time_5', 'time_6',\n",
              "       'Totals'],\n",
              "      dtype='object')"
            ]
          },
          "metadata": {
            "tags": []
          },
          "execution_count": 30
        }
      ]
    },
    {
      "cell_type": "code",
      "metadata": {
        "id": "w-xKgk5QzIMo",
        "colab_type": "code",
        "outputId": "93755617-4099-4020-bd60-2c8309123b63",
        "colab": {
          "base_uri": "https://localhost:8080/",
          "height": 627
        }
      },
      "source": [
        "plt.clf\n",
        "tempx.plot(x=\"zipcode\", y=\"Totals\", kind = 'scatter', figsize = (15,10), s = 510, alpha = 0.7, c='violet')"
      ],
      "execution_count": 31,
      "outputs": [
        {
          "output_type": "execute_result",
          "data": {
            "text/plain": [
              "<matplotlib.axes._subplots.AxesSubplot at 0x7ff6d6d3aac8>"
            ]
          },
          "metadata": {
            "tags": []
          },
          "execution_count": 31
        },
        {
          "output_type": "display_data",
          "data": {
            "image/png": "[encoded data removed]",
            "text/plain": [
              "<Figure size 1080x720 with 1 Axes>"
            ]
          },
          "metadata": {
            "tags": []
          }
        }
      ]
    },
    {
      "cell_type": "code",
      "metadata": {
        "id": "oKoALFj8jbkB",
        "colab_type": "code",
        "outputId": "50bf4546-55d2-436f-e8a9-8d0d364cc3f7",
        "colab": {
          "base_uri": "https://localhost:8080/",
          "height": 228
        }
      },
      "source": [
        "temp1=temp.loc[temp['Totals']>30]\n",
        "temp1.sort_values(by='Totals', ascending = True)\n",
        "temp1.head()"
      ],
      "execution_count": 32,
      "outputs": [
        {
          "output_type": "execute_result",
          "data": {
            "text/html": [
              "<div>\n",
              "<style scoped>\n",
              "    .dataframe tbody tr th:only-of-type {\n",
              "        vertical-align: middle;\n",
              "    }\n",
              "\n",
              "    .dataframe tbody tr th {\n",
              "        vertical-align: top;\n",
              "    }\n",
              "\n",
              "    .dataframe thead th {\n",
              "        text-align: right;\n",
              "    }\n",
              "</style>\n",
              "<table border=\"1\" class=\"dataframe\">\n",
              "  <thead>\n",
              "    <tr style=\"text-align: right;\">\n",
              "      <th></th>\n",
              "      <th>time_1</th>\n",
              "      <th>time_2</th>\n",
              "      <th>time_3</th>\n",
              "      <th>time_4</th>\n",
              "      <th>time_5</th>\n",
              "      <th>time_6</th>\n",
              "      <th>Totals</th>\n",
              "    </tr>\n",
              "    <tr>\n",
              "      <th>zipcode</th>\n",
              "      <th></th>\n",
              "      <th></th>\n",
              "      <th></th>\n",
              "      <th></th>\n",
              "      <th></th>\n",
              "      <th></th>\n",
              "      <th></th>\n",
              "    </tr>\n",
              "  </thead>\n",
              "  <tbody>\n",
              "    <tr>\n",
              "      <th>10456</th>\n",
              "      <td>1295.0</td>\n",
              "      <td>137.0</td>\n",
              "      <td>110.0</td>\n",
              "      <td>662.0</td>\n",
              "      <td>1553.0</td>\n",
              "      <td>2340.0</td>\n",
              "      <td>6097.0</td>\n",
              "    </tr>\n",
              "    <tr>\n",
              "      <th>10454</th>\n",
              "      <td>929.0</td>\n",
              "      <td>56.0</td>\n",
              "      <td>94.0</td>\n",
              "      <td>411.0</td>\n",
              "      <td>1194.0</td>\n",
              "      <td>1979.0</td>\n",
              "      <td>4663.0</td>\n",
              "    </tr>\n",
              "    <tr>\n",
              "      <th>11212</th>\n",
              "      <td>751.0</td>\n",
              "      <td>48.0</td>\n",
              "      <td>199.0</td>\n",
              "      <td>709.0</td>\n",
              "      <td>1177.0</td>\n",
              "      <td>1549.0</td>\n",
              "      <td>4433.0</td>\n",
              "    </tr>\n",
              "    <tr>\n",
              "      <th>11207</th>\n",
              "      <td>905.0</td>\n",
              "      <td>70.0</td>\n",
              "      <td>212.0</td>\n",
              "      <td>575.0</td>\n",
              "      <td>852.0</td>\n",
              "      <td>1452.0</td>\n",
              "      <td>4066.0</td>\n",
              "    </tr>\n",
              "    <tr>\n",
              "      <th>11691</th>\n",
              "      <td>574.0</td>\n",
              "      <td>24.0</td>\n",
              "      <td>119.0</td>\n",
              "      <td>539.0</td>\n",
              "      <td>845.0</td>\n",
              "      <td>1571.0</td>\n",
              "      <td>3672.0</td>\n",
              "    </tr>\n",
              "  </tbody>\n",
              "</table>\n",
              "</div>"
            ],
            "text/plain": [
              "         time_1  time_2  time_3  time_4  time_5  time_6  Totals\n",
              "zipcode                                                        \n",
              "10456    1295.0   137.0   110.0   662.0  1553.0  2340.0  6097.0\n",
              "10454     929.0    56.0    94.0   411.0  1194.0  1979.0  4663.0\n",
              "11212     751.0    48.0   199.0   709.0  1177.0  1549.0  4433.0\n",
              "11207     905.0    70.0   212.0   575.0   852.0  1452.0  4066.0\n",
              "11691     574.0    24.0   119.0   539.0   845.0  1571.0  3672.0"
            ]
          },
          "metadata": {
            "tags": []
          },
          "execution_count": 32
        }
      ]
    },
    {
      "cell_type": "markdown",
      "metadata": {
        "id": "6jb2x7ZNoYQ-",
        "colab_type": "text"
      },
      "source": [
        "## ^ Dataframe with at least 30 stop and frisk obersvations"
      ]
    },
    {
      "cell_type": "markdown",
      "metadata": {
        "id": "7OE1YNSikI7y",
        "colab_type": "text"
      },
      "source": [
        "# Say, I choose number of clulsters(K) as 10"
      ]
    },
    {
      "cell_type": "code",
      "metadata": {
        "id": "X3Qel6cVevly",
        "colab_type": "code",
        "outputId": "853b2179-b6af-47e7-98b5-f3ee355c90b4",
        "colab": {
          "base_uri": "https://localhost:8080/",
          "height": 35
        }
      },
      "source": [
        "temp.shape"
      ],
      "execution_count": 33,
      "outputs": [
        {
          "output_type": "execute_result",
          "data": {
            "text/plain": [
              "(183, 7)"
            ]
          },
          "metadata": {
            "tags": []
          },
          "execution_count": 33
        }
      ]
    },
    {
      "cell_type": "code",
      "metadata": {
        "id": "d40cwErikb1g",
        "colab_type": "code",
        "outputId": "af92467f-cceb-4353-fe59-beeef214203a",
        "colab": {
          "base_uri": "https://localhost:8080/",
          "height": 228
        }
      },
      "source": [
        "temp.head()"
      ],
      "execution_count": 34,
      "outputs": [
        {
          "output_type": "execute_result",
          "data": {
            "text/html": [
              "<div>\n",
              "<style scoped>\n",
              "    .dataframe tbody tr th:only-of-type {\n",
              "        vertical-align: middle;\n",
              "    }\n",
              "\n",
              "    .dataframe tbody tr th {\n",
              "        vertical-align: top;\n",
              "    }\n",
              "\n",
              "    .dataframe thead th {\n",
              "        text-align: right;\n",
              "    }\n",
              "</style>\n",
              "<table border=\"1\" class=\"dataframe\">\n",
              "  <thead>\n",
              "    <tr style=\"text-align: right;\">\n",
              "      <th></th>\n",
              "      <th>time_1</th>\n",
              "      <th>time_2</th>\n",
              "      <th>time_3</th>\n",
              "      <th>time_4</th>\n",
              "      <th>time_5</th>\n",
              "      <th>time_6</th>\n",
              "      <th>Totals</th>\n",
              "    </tr>\n",
              "    <tr>\n",
              "      <th>zipcode</th>\n",
              "      <th></th>\n",
              "      <th></th>\n",
              "      <th></th>\n",
              "      <th></th>\n",
              "      <th></th>\n",
              "      <th></th>\n",
              "      <th></th>\n",
              "    </tr>\n",
              "  </thead>\n",
              "  <tbody>\n",
              "    <tr>\n",
              "      <th>10456</th>\n",
              "      <td>1295.0</td>\n",
              "      <td>137.0</td>\n",
              "      <td>110.0</td>\n",
              "      <td>662.0</td>\n",
              "      <td>1553.0</td>\n",
              "      <td>2340.0</td>\n",
              "      <td>6097.0</td>\n",
              "    </tr>\n",
              "    <tr>\n",
              "      <th>10454</th>\n",
              "      <td>929.0</td>\n",
              "      <td>56.0</td>\n",
              "      <td>94.0</td>\n",
              "      <td>411.0</td>\n",
              "      <td>1194.0</td>\n",
              "      <td>1979.0</td>\n",
              "      <td>4663.0</td>\n",
              "    </tr>\n",
              "    <tr>\n",
              "      <th>11212</th>\n",
              "      <td>751.0</td>\n",
              "      <td>48.0</td>\n",
              "      <td>199.0</td>\n",
              "      <td>709.0</td>\n",
              "      <td>1177.0</td>\n",
              "      <td>1549.0</td>\n",
              "      <td>4433.0</td>\n",
              "    </tr>\n",
              "    <tr>\n",
              "      <th>11207</th>\n",
              "      <td>905.0</td>\n",
              "      <td>70.0</td>\n",
              "      <td>212.0</td>\n",
              "      <td>575.0</td>\n",
              "      <td>852.0</td>\n",
              "      <td>1452.0</td>\n",
              "      <td>4066.0</td>\n",
              "    </tr>\n",
              "    <tr>\n",
              "      <th>11691</th>\n",
              "      <td>574.0</td>\n",
              "      <td>24.0</td>\n",
              "      <td>119.0</td>\n",
              "      <td>539.0</td>\n",
              "      <td>845.0</td>\n",
              "      <td>1571.0</td>\n",
              "      <td>3672.0</td>\n",
              "    </tr>\n",
              "  </tbody>\n",
              "</table>\n",
              "</div>"
            ],
            "text/plain": [
              "         time_1  time_2  time_3  time_4  time_5  time_6  Totals\n",
              "zipcode                                                        \n",
              "10456    1295.0   137.0   110.0   662.0  1553.0  2340.0  6097.0\n",
              "10454     929.0    56.0    94.0   411.0  1194.0  1979.0  4663.0\n",
              "11212     751.0    48.0   199.0   709.0  1177.0  1549.0  4433.0\n",
              "11207     905.0    70.0   212.0   575.0   852.0  1452.0  4066.0\n",
              "11691     574.0    24.0   119.0   539.0   845.0  1571.0  3672.0"
            ]
          },
          "metadata": {
            "tags": []
          },
          "execution_count": 34
        }
      ]
    },
    {
      "cell_type": "code",
      "metadata": {
        "id": "SaoHXfnHvUFk",
        "colab_type": "code",
        "colab": {}
      },
      "source": [
        "#performing k-means\n",
        "from sklearn.cluster import KMeans\n",
        "\n",
        "#creating a k-means model with 2 clusters\n",
        "kmeans = KMeans(n_clusters=10, random_state=911)\n",
        "kmeans.fit(temp)\n",
        "labels = kmeans.predict(temp)"
      ],
      "execution_count": 0,
      "outputs": []
    },
    {
      "cell_type": "code",
      "metadata": {
        "id": "LrP7TELpvYHT",
        "colab_type": "code",
        "outputId": "d4596afc-e05f-471d-f76f-4265acd1cac6",
        "colab": {
          "base_uri": "https://localhost:8080/",
          "height": 499
        }
      },
      "source": [
        "#plot\n",
        "plt.clf\n",
        "plt.figure(figsize = (8,8))\n",
        "centers = kmeans.cluster_centers_\n",
        "plt.scatter(np.log(temp.loc[:, 'time_1']), np.log(temp.loc[:, 'time_2']), c=labels, s=22, cmap='Spectral')\n",
        "plt.scatter(np.log(centers[:, 0]), np.log(centers[:, 1]), marker = 'x', c='black', s=500, alpha=0.7);\n",
        "plt.title('K-means clustering for 10 clusters (using logarithmic scale)')\n",
        "plt.show()\n",
        "\n"
      ],
      "execution_count": 36,
      "outputs": [
        {
          "output_type": "display_data",
          "data": {
            "image/png": "[encoded data removed]",
            "text/plain": [
              "<Figure size 576x576 with 1 Axes>"
            ]
          },
          "metadata": {
            "tags": []
          }
        }
      ]
    },
    {
      "cell_type": "code",
      "metadata": {
        "id": "vgZl_DLpM_dB",
        "colab_type": "code",
        "colab": {
          "base_uri": "https://localhost:8080/",
          "height": 499
        },
        "outputId": "53b0eac4-5e38-4df0-927c-5fb19ab66c08"
      },
      "source": [
        "plt.figure(figsize = (8,8))\n",
        "plt.scatter(temp.loc[:, 'time_1'], temp.loc[:, 'time_2'], c=labels, s=22, cmap='Spectral')\n",
        "plt.scatter(centers[:, 0], centers[:, 1], marker = 'x', c='black', s=500, alpha=0.7);\n",
        "plt.title('K-means clustering for 10 clusters (using non-logarithmic scale)')\n",
        "plt.show()"
      ],
      "execution_count": 37,
      "outputs": [
        {
          "output_type": "display_data",
          "data": {
            "image/png": "[encoded data removed]",
            "text/plain": [
              "<Figure size 576x576 with 1 Axes>"
            ]
          },
          "metadata": {
            "tags": []
          }
        }
      ]
    },
    {
      "cell_type": "markdown",
      "metadata": {
        "id": "NHUEsAQLvhQW",
        "colab_type": "text"
      },
      "source": [
        "## Finding the best possible number of clusters for this dataset\n"
      ]
    },
    {
      "cell_type": "code",
      "metadata": {
        "id": "OgqHDtGzjj48",
        "colab_type": "code",
        "outputId": "1ba220aa-dd3a-4c41-c68a-1a6cc296323c",
        "colab": {
          "base_uri": "https://localhost:8080/",
          "height": 573
        }
      },
      "source": [
        "elbow(temp, range(1, temp.shape[0]))"
      ],
      "execution_count": 38,
      "outputs": [
        {
          "output_type": "display_data",
          "data": {
            "image/png": "[encoded data removed]",
            "text/plain": [
              "<Figure size 432x288 with 1 Axes>"
            ]
          },
          "metadata": {
            "tags": []
          }
        },
        {
          "output_type": "display_data",
          "data": {
            "image/png": "[encoded data removed]",
            "text/plain": [
              "<Figure size 432x288 with 1 Axes>"
            ]
          },
          "metadata": {
            "tags": []
          }
        }
      ]
    },
    {
      "cell_type": "markdown",
      "metadata": {
        "id": "8f44jEv9oyCs",
        "colab_type": "text"
      },
      "source": [
        "## Since the higher range does not give a good observational visualization, trying the elbow method with smaller range!"
      ]
    },
    {
      "cell_type": "code",
      "metadata": {
        "colab_type": "code",
        "outputId": "543b5d75-aa13-4bee-e4bd-9216439d2dd8",
        "id": "wCUB61zKoxRR",
        "colab": {
          "base_uri": "https://localhost:8080/",
          "height": 573
        }
      },
      "source": [
        "elbow(temp, range(1, int(temp.shape[0]/10)))"
      ],
      "execution_count": 39,
      "outputs": [
        {
          "output_type": "display_data",
          "data": {
            "image/png": "[encoded data removed]",
            "text/plain": [
              "<Figure size 432x288 with 1 Axes>"
            ]
          },
          "metadata": {
            "tags": []
          }
        },
        {
          "output_type": "display_data",
          "data": {
            "image/png": "[encoded data removed]",
            "text/plain": [
              "<Figure size 432x288 with 1 Axes>"
            ]
          },
          "metadata": {
            "tags": []
          }
        }
      ]
    },
    {
      "cell_type": "markdown",
      "metadata": {
        "id": "atmA9Ey4o_lU",
        "colab_type": "text"
      },
      "source": [
        "## Getting the silhouette scores for a range of clusters! \n",
        "# Printing S_scores for only those cluster with more than 70% rate"
      ]
    },
    {
      "cell_type": "code",
      "metadata": {
        "colab_type": "code",
        "outputId": "5baa8873-0061-47db-f8ef-b7d7139c56ca",
        "id": "w41tGzWLx674",
        "colab": {
          "base_uri": "https://localhost:8080/",
          "height": 126
        }
      },
      "source": [
        "for num in range(2,temp.shape[0]):\n",
        "  k_means = KMeans(n_clusters=num, random_state=1403).fit(temp)\n",
        "  labels = k_means.labels_\n",
        "  s_score = silhouette_score(temp, labels)\n",
        "  if s_score>0.6:\n",
        "    print(\"S-score for cluster {} is {}\".format(num,s_score))"
      ],
      "execution_count": 40,
      "outputs": [
        {
          "output_type": "stream",
          "text": [
            "S-score for cluster 2 is 0.7721312183526409\n",
            "S-score for cluster 3 is 0.7393644912693186\n",
            "S-score for cluster 4 is 0.6905348416151763\n",
            "S-score for cluster 5 is 0.6902193994590481\n",
            "S-score for cluster 6 is 0.6713456776946395\n",
            "S-score for cluster 7 is 0.6716102716608665\n"
          ],
          "name": "stdout"
        }
      ]
    },
    {
      "cell_type": "markdown",
      "metadata": {
        "colab_type": "text",
        "id": "Ru5FLT6Yx6Q0"
      },
      "source": [
        "## From the elbow method we can observe that when number of clusters = 3 the classification carried out has a significant performce whereafter it decreases. The same is supported by the Silhouette scores that show that after K=3 there are no clusters that retain at least 70% scores."
      ]
    },
    {
      "cell_type": "markdown",
      "metadata": {
        "id": "wD7yLh8bpqzh",
        "colab_type": "text"
      },
      "source": [
        "## The reason for choosing k = 10 was generally a higher number of clustering gives a wider picture of the data distribution, also when K is relatively higher, we can see no effect of clustering, thus we can make a safe assumption that K will be lesser than the chosen value\n"
      ]
    },
    {
      "cell_type": "code",
      "metadata": {
        "id": "F_JfRaCzxRcQ",
        "colab_type": "code",
        "colab": {}
      },
      "source": [
        "#performing k-means\n",
        "from sklearn.cluster import KMeans\n",
        "\n",
        "#creating a k-means model with 2 clusters\n",
        "kmeans = KMeans(n_clusters=2, random_state=911)\n",
        "kmeans.fit(temp)\n",
        "labels = kmeans.predict(temp)\n"
      ],
      "execution_count": 0,
      "outputs": []
    },
    {
      "cell_type": "code",
      "metadata": {
        "id": "4JgCw3OExV3Y",
        "colab_type": "code",
        "outputId": "45a9051c-6e95-41ad-e016-4bed72b6d729",
        "colab": {
          "base_uri": "https://localhost:8080/",
          "height": 499
        }
      },
      "source": [
        "#plot\n",
        "plt.clf\n",
        "plt.figure(figsize = (8,8))\n",
        "centers = kmeans.cluster_centers_\n",
        "plt.scatter(temp.loc[:, 'time_1'], temp.loc[:, 'time_2'], c=labels, s=22, cmap='viridis')\n",
        "plt.scatter(centers[:, 0], centers[:, 1], marker = 'x', c='green', s=1000, alpha=0.7);\n",
        "plt.title('K-means clustering ')\n",
        "plt.show()"
      ],
      "execution_count": 42,
      "outputs": [
        {
          "output_type": "display_data",
          "data": {
            "image/png": "[encoded data removed]",
            "text/plain": [
              "<Figure size 576x576 with 1 Axes>"
            ]
          },
          "metadata": {
            "tags": []
          }
        }
      ]
    },
    {
      "cell_type": "code",
      "metadata": {
        "id": "Rz30OisAxfBf",
        "colab_type": "code",
        "colab": {}
      },
      "source": [
        "from sklearn.mixture import GaussianMixture as gm\n",
        "gaus_learn= gm(n_components=2,random_state=311).fit(temp)\n",
        "gaus_pred = gaus_learn.predict(temp)"
      ],
      "execution_count": 0,
      "outputs": []
    },
    {
      "cell_type": "code",
      "metadata": {
        "id": "K_VAx33pNuS5",
        "colab_type": "code",
        "colab": {
          "base_uri": "https://localhost:8080/",
          "height": 499
        },
        "outputId": "8d3baa60-69d9-42a9-8899-3070889d5bfc"
      },
      "source": [
        "plt.clf\n",
        "plt.figure(figsize = (8,8))\n",
        "plt.scatter(temp.loc[:, 'time_1'], temp.loc[:, 'time_2'], c=gaus_pred, s=22, cmap='cividis')\n",
        "plt.title('Gaussian Mixture')\n",
        "plt.show()"
      ],
      "execution_count": 44,
      "outputs": [
        {
          "output_type": "display_data",
          "data": {
            "image/png": "[encoded data removed]",
            "text/plain": [
              "<Figure size 576x576 with 1 Axes>"
            ]
          },
          "metadata": {
            "tags": []
          }
        }
      ]
    }
  ]
}