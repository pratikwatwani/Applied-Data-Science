{
  "nbformat": 4,
  "nbformat_minor": 0,
  "metadata": {
    "colab": {
      "name": "Linear Regression w/ Polynomials and Scaling",
      "provenance": [],
      "collapsed_sections": []
    },
    "kernelspec": {
      "name": "python3",
      "display_name": "Python 3"
    }
  },
  "cells": [
    {
      "cell_type": "markdown",
      "metadata": {
        "id": "ap5mOugvWOkT",
        "colab_type": "text"
      },
      "source": [
        "# Assignment 2"
      ]
    },
    {
      "cell_type": "markdown",
      "metadata": {
        "id": "qRrvDm-5kgyZ",
        "colab_type": "text"
      },
      "source": [
        "## Problem 1:Linear Regression"
      ]
    },
    {
      "cell_type": "markdown",
      "metadata": {
        "id": "bAnnk0MWWZpc",
        "colab_type": "text"
      },
      "source": [
        "### Task 1:Load the dataset named assignment2_part1.csv \n",
        "\n"
      ]
    },
    {
      "cell_type": "code",
      "metadata": {
        "id": "gu1SWL3d1Zl3",
        "colab_type": "code",
        "outputId": "4d09021d-2e01-4073-de6a-802faa6623db",
        "colab": {
          "base_uri": "https://localhost:8080/",
          "height": 34
        }
      },
      "source": [
        "import pandas as pd\n",
        "import numpy as np\n",
        "import seaborn as sns\n",
        "import matplotlib.pyplot as plt\n",
        "from sklearn.linear_model import LinearRegression\n",
        "import statsmodels.formula.api as smf\n",
        "from sklearn.metrics import r2_score\n",
        "import warnings\n",
        "warnings.filterwarnings(\"ignore\")\n",
        "from google.colab import drive\n",
        "drive.mount('/content/drive')"
      ],
      "execution_count": 379,
      "outputs": [
        {
          "output_type": "stream",
          "text": [
            "Drive already mounted at /content/drive; to attempt to forcibly remount, call drive.mount(\"/content/drive\", force_remount=True).\n"
          ],
          "name": "stdout"
        }
      ]
    },
    {
      "cell_type": "markdown",
      "metadata": {
        "id": "1mjzaR9a7714",
        "colab_type": "text"
      },
      "source": [
        "## Importing Data set"
      ]
    },
    {
      "cell_type": "code",
      "metadata": {
        "id": "Pl7FbbdFWMDj",
        "colab_type": "code",
        "outputId": "772076c0-9355-4d63-e71e-b21e99588c77",
        "colab": {
          "base_uri": "https://localhost:8080/",
          "height": 359
        }
      },
      "source": [
        "data = pd.read_csv(\"/content/drive/My Drive/Untitled folder/assignment2_part1.csv\", index_col='Unnamed: 0')\n",
        "data.head(10)"
      ],
      "execution_count": 380,
      "outputs": [
        {
          "output_type": "execute_result",
          "data": {
            "text/html": [
              "<div>\n",
              "<style scoped>\n",
              "    .dataframe tbody tr th:only-of-type {\n",
              "        vertical-align: middle;\n",
              "    }\n",
              "\n",
              "    .dataframe tbody tr th {\n",
              "        vertical-align: top;\n",
              "    }\n",
              "\n",
              "    .dataframe thead th {\n",
              "        text-align: right;\n",
              "    }\n",
              "</style>\n",
              "<table border=\"1\" class=\"dataframe\">\n",
              "  <thead>\n",
              "    <tr style=\"text-align: right;\">\n",
              "      <th></th>\n",
              "      <th>x</th>\n",
              "      <th>y</th>\n",
              "    </tr>\n",
              "  </thead>\n",
              "  <tbody>\n",
              "    <tr>\n",
              "      <th>0</th>\n",
              "      <td>-15.0</td>\n",
              "      <td>-2156.994097</td>\n",
              "    </tr>\n",
              "    <tr>\n",
              "      <th>1</th>\n",
              "      <td>-14.5</td>\n",
              "      <td>-1956.523904</td>\n",
              "    </tr>\n",
              "    <tr>\n",
              "      <th>2</th>\n",
              "      <td>-14.0</td>\n",
              "      <td>-1778.151738</td>\n",
              "    </tr>\n",
              "    <tr>\n",
              "      <th>3</th>\n",
              "      <td>-13.5</td>\n",
              "      <td>-1610.924846</td>\n",
              "    </tr>\n",
              "    <tr>\n",
              "      <th>4</th>\n",
              "      <td>-13.0</td>\n",
              "      <td>-1456.176307</td>\n",
              "    </tr>\n",
              "    <tr>\n",
              "      <th>5</th>\n",
              "      <td>-12.5</td>\n",
              "      <td>-1302.029411</td>\n",
              "    </tr>\n",
              "    <tr>\n",
              "      <th>6</th>\n",
              "      <td>-12.0</td>\n",
              "      <td>-1170.000646</td>\n",
              "    </tr>\n",
              "    <tr>\n",
              "      <th>7</th>\n",
              "      <td>-11.5</td>\n",
              "      <td>-1044.071813</td>\n",
              "    </tr>\n",
              "    <tr>\n",
              "      <th>8</th>\n",
              "      <td>-11.0</td>\n",
              "      <td>-917.935911</td>\n",
              "    </tr>\n",
              "    <tr>\n",
              "      <th>9</th>\n",
              "      <td>-10.5</td>\n",
              "      <td>-811.861672</td>\n",
              "    </tr>\n",
              "  </tbody>\n",
              "</table>\n",
              "</div>"
            ],
            "text/plain": [
              "      x            y\n",
              "0 -15.0 -2156.994097\n",
              "1 -14.5 -1956.523904\n",
              "2 -14.0 -1778.151738\n",
              "3 -13.5 -1610.924846\n",
              "4 -13.0 -1456.176307\n",
              "5 -12.5 -1302.029411\n",
              "6 -12.0 -1170.000646\n",
              "7 -11.5 -1044.071813\n",
              "8 -11.0  -917.935911\n",
              "9 -10.5  -811.861672"
            ]
          },
          "metadata": {
            "tags": []
          },
          "execution_count": 380
        }
      ]
    },
    {
      "cell_type": "code",
      "metadata": {
        "id": "O-F5Mr_H5iR_",
        "colab_type": "code",
        "outputId": "5269cde9-5937-4440-db21-d044649b0de5",
        "colab": {
          "base_uri": "https://localhost:8080/",
          "height": 34
        }
      },
      "source": [
        "len(data)"
      ],
      "execution_count": 381,
      "outputs": [
        {
          "output_type": "execute_result",
          "data": {
            "text/plain": [
              "80"
            ]
          },
          "metadata": {
            "tags": []
          },
          "execution_count": 381
        }
      ]
    },
    {
      "cell_type": "markdown",
      "metadata": {
        "id": "WFOu_9ecWswp",
        "colab_type": "text"
      },
      "source": [
        "### Task 2:Split this given dataset into training set,testing set and validation set (80% data as training set,10% as testing and other 10% as validation)"
      ]
    },
    {
      "cell_type": "markdown",
      "metadata": {
        "id": "ATrFILiu7-wf",
        "colab_type": "text"
      },
      "source": [
        "## Split the data set into Training, Testing and Validation Set"
      ]
    },
    {
      "cell_type": "code",
      "metadata": {
        "id": "xV2DBLqXWkQ4",
        "colab_type": "code",
        "colab": {}
      },
      "source": [
        "train_data, test_data, validate_data = np.split(data.sample(frac = 1), [int(len(data)*0.8), int(len(data)*0.9)])"
      ],
      "execution_count": 0,
      "outputs": []
    },
    {
      "cell_type": "code",
      "metadata": {
        "id": "uiDDblC95n7d",
        "colab_type": "code",
        "outputId": "83bdda97-6c2f-467e-a55e-84791f7c08ed",
        "colab": {
          "base_uri": "https://localhost:8080/",
          "height": 34
        }
      },
      "source": [
        "print(\"Length of Training Data : {}, Length of Test Data : {}, and Length of Validation Data : {}\".format(len(train_data), len(test_data), len(validate_data)))"
      ],
      "execution_count": 383,
      "outputs": [
        {
          "output_type": "stream",
          "text": [
            "Length of Training Data : 64, Length of Test Data : 8, and Length of Validation Data : 8\n"
          ],
          "name": "stdout"
        }
      ]
    },
    {
      "cell_type": "markdown",
      "metadata": {
        "id": "Y1aZbo4EW_cz",
        "colab_type": "text"
      },
      "source": [
        "### Task 3: Visualize the data and try to fit a linear (regression) model to it and comment whether you think this data is suitable to fit a linear model."
      ]
    },
    {
      "cell_type": "markdown",
      "metadata": {
        "id": "Rls3d59C8Gix",
        "colab_type": "text"
      },
      "source": [
        "## Visualizing the Training Data Set"
      ]
    },
    {
      "cell_type": "code",
      "metadata": {
        "id": "NVK5GP7gXOYf",
        "colab_type": "code",
        "outputId": "e2668745-5e6b-4c29-8a79-d59727db3323",
        "colab": {
          "base_uri": "https://localhost:8080/",
          "height": 662
        }
      },
      "source": [
        "fig, ax = plt.subplots(figsize = (10,10))\n",
        "sns.set_context(context = 'poster', font_scale = 0.9)\n",
        "sns.set_style(style = 'whitegrid')\n",
        "sns.scatterplot(x='x', y ='y', data = train_data, palette= 'spectral')\n",
        "ax.set(xlabel='x', ylabel='y')\n"
      ],
      "execution_count": 384,
      "outputs": [
        {
          "output_type": "execute_result",
          "data": {
            "text/plain": [
              "[Text(0, 0.5, 'y'), Text(0.5, 0, 'x')]"
            ]
          },
          "metadata": {
            "tags": []
          },
          "execution_count": 384
        },
        {
          "output_type": "display_data",
          "data": {
            "image/png": "[encoded data removed]",
            "text/plain": [
              "<Figure size 720x720 with 1 Axes>"
            ]
          },
          "metadata": {
            "tags": []
          }
        }
      ]
    },
    {
      "cell_type": "markdown",
      "metadata": {
        "id": "oB4pRgjN8L-R",
        "colab_type": "text"
      },
      "source": [
        "## Performing regression on Training data set"
      ]
    },
    {
      "cell_type": "code",
      "metadata": {
        "id": "igWSIMB78XRq",
        "colab_type": "code",
        "outputId": "d05d9161-650d-4fe6-d5cb-945069261308",
        "colab": {
          "base_uri": "https://localhost:8080/",
          "height": 204
        }
      },
      "source": [
        "temp_data = train_data.copy()\n",
        "lm = smf.ols(formula='y~x', data = temp_data).fit()\n",
        "temp_data['Prediction'] = lm.predict()\n",
        "temp_data.head()"
      ],
      "execution_count": 385,
      "outputs": [
        {
          "output_type": "execute_result",
          "data": {
            "text/html": [
              "<div>\n",
              "<style scoped>\n",
              "    .dataframe tbody tr th:only-of-type {\n",
              "        vertical-align: middle;\n",
              "    }\n",
              "\n",
              "    .dataframe tbody tr th {\n",
              "        vertical-align: top;\n",
              "    }\n",
              "\n",
              "    .dataframe thead th {\n",
              "        text-align: right;\n",
              "    }\n",
              "</style>\n",
              "<table border=\"1\" class=\"dataframe\">\n",
              "  <thead>\n",
              "    <tr style=\"text-align: right;\">\n",
              "      <th></th>\n",
              "      <th>x</th>\n",
              "      <th>y</th>\n",
              "      <th>Prediction</th>\n",
              "    </tr>\n",
              "  </thead>\n",
              "  <tbody>\n",
              "    <tr>\n",
              "      <th>56</th>\n",
              "      <td>13.0</td>\n",
              "      <td>770.448939</td>\n",
              "      <td>1716.471311</td>\n",
              "    </tr>\n",
              "    <tr>\n",
              "      <th>12</th>\n",
              "      <td>-9.0</td>\n",
              "      <td>-535.929508</td>\n",
              "      <td>-1116.633749</td>\n",
              "    </tr>\n",
              "    <tr>\n",
              "      <th>10</th>\n",
              "      <td>-10.0</td>\n",
              "      <td>-710.237424</td>\n",
              "      <td>-1245.411252</td>\n",
              "    </tr>\n",
              "    <tr>\n",
              "      <th>45</th>\n",
              "      <td>7.5</td>\n",
              "      <td>98.086632</td>\n",
              "      <td>1008.195046</td>\n",
              "    </tr>\n",
              "    <tr>\n",
              "      <th>35</th>\n",
              "      <td>2.5</td>\n",
              "      <td>-5.702139</td>\n",
              "      <td>364.307532</td>\n",
              "    </tr>\n",
              "  </tbody>\n",
              "</table>\n",
              "</div>"
            ],
            "text/plain": [
              "       x           y   Prediction\n",
              "56  13.0  770.448939  1716.471311\n",
              "12  -9.0 -535.929508 -1116.633749\n",
              "10 -10.0 -710.237424 -1245.411252\n",
              "45   7.5   98.086632  1008.195046\n",
              "35   2.5   -5.702139   364.307532"
            ]
          },
          "metadata": {
            "tags": []
          },
          "execution_count": 385
        }
      ]
    },
    {
      "cell_type": "markdown",
      "metadata": {
        "id": "uHhhDEH_8R4t",
        "colab_type": "text"
      },
      "source": [
        "## R2 Score of the Training data set"
      ]
    },
    {
      "cell_type": "code",
      "metadata": {
        "id": "EIy3vfmlCF1-",
        "colab_type": "code",
        "outputId": "85ec485a-2ec4-4283-9d3a-0988193d62b4",
        "colab": {
          "base_uri": "https://localhost:8080/",
          "height": 34
        }
      },
      "source": [
        "print('R2 Score: ',r2_score(temp_data['y'],temp_data['Prediction']))"
      ],
      "execution_count": 386,
      "outputs": [
        {
          "output_type": "stream",
          "text": [
            "R2 Score:  0.752718641519311\n"
          ],
          "name": "stdout"
        }
      ]
    },
    {
      "cell_type": "markdown",
      "metadata": {
        "id": "cd5qg4sUXS2h",
        "colab_type": "text"
      },
      "source": [
        "### Task 4: Visualize the regression fit"
      ]
    },
    {
      "cell_type": "code",
      "metadata": {
        "colab_type": "code",
        "outputId": "ceaf1f36-f5d7-4ff3-8535-09a87b4f0b4c",
        "id": "_x2d-p2r5JTJ",
        "colab": {
          "base_uri": "https://localhost:8080/",
          "height": 672
        }
      },
      "source": [
        "fig, ax = plt.subplots(figsize = (10,10)) \n",
        "temp_data.plot(ax=ax,kind='scatter',x='x',y='y', legend = True, title = 'Regression Fit on the Data') \n",
        "ax.plot(temp_data.x,temp_data.Prediction,'r-')\n",
        "ax.set(xlabel='Prediction', ylabel='Original y')\n",
        "ax.legend()"
      ],
      "execution_count": 387,
      "outputs": [
        {
          "output_type": "execute_result",
          "data": {
            "text/plain": [
              "<matplotlib.legend.Legend at 0x7fc19927e780>"
            ]
          },
          "metadata": {
            "tags": []
          },
          "execution_count": 387
        },
        {
          "output_type": "display_data",
          "data": {
            "image/png": "[encoded data removed]",
            "text/plain": [
              "<Figure size 720x720 with 1 Axes>"
            ]
          },
          "metadata": {
            "tags": []
          }
        }
      ]
    },
    {
      "cell_type": "markdown",
      "metadata": {
        "id": "n-y9aWREaKsK",
        "colab_type": "text"
      },
      "source": [
        "### Task 5: Try to introduce another regressor variable if you think that linear model was not apt for this."
      ]
    },
    {
      "cell_type": "markdown",
      "metadata": {
        "id": "eAsnivQd8X_7",
        "colab_type": "text"
      },
      "source": [
        "## Introducing a Square Root regressor variable"
      ]
    },
    {
      "cell_type": "code",
      "metadata": {
        "id": "T5sgYE3bi7KO",
        "colab_type": "code",
        "colab": {}
      },
      "source": [
        "tt = train_data.copy()"
      ],
      "execution_count": 0,
      "outputs": []
    },
    {
      "cell_type": "code",
      "metadata": {
        "id": "eyZuI7g_anyC",
        "colab_type": "code",
        "colab": {}
      },
      "source": [
        "tt['Sq_2']=tt.x*np.sqrt(2)"
      ],
      "execution_count": 0,
      "outputs": []
    },
    {
      "cell_type": "markdown",
      "metadata": {
        "id": "4BXxh0flatKF",
        "colab_type": "text"
      },
      "source": [
        "### Task 6: Fit a regression model to it,now with 2 regressor variables and also visualize the results"
      ]
    },
    {
      "cell_type": "markdown",
      "metadata": {
        "id": "YJC0OyMW8chF",
        "colab_type": "text"
      },
      "source": [
        "## Regression fit to 'x' and 'Square root x'"
      ]
    },
    {
      "cell_type": "code",
      "metadata": {
        "id": "6l43truMarCv",
        "colab_type": "code",
        "outputId": "0fd17853-77ba-42fc-cb3a-0394d81c0502",
        "colab": {
          "base_uri": "https://localhost:8080/",
          "height": 442
        }
      },
      "source": [
        "#lm1 = smf.ols(formula='y~x+Sq_2', data = tt).fit()\n",
        "tt['2_regressor_prediction'] = lm.predict(tt)\n",
        "\n",
        "print(lm.summary())"
      ],
      "execution_count": 390,
      "outputs": [
        {
          "output_type": "stream",
          "text": [
            "                            OLS Regression Results                            \n",
            "==============================================================================\n",
            "Dep. Variable:                      y   R-squared:                       0.753\n",
            "Model:                            OLS   Adj. R-squared:                  0.749\n",
            "Method:                 Least Squares   F-statistic:                     188.7\n",
            "Date:                Wed, 23 Oct 2019   Prob (F-statistic):           1.79e-20\n",
            "Time:                        02:26:02   Log-Likelihood:                -521.30\n",
            "No. Observations:                  64   AIC:                             1047.\n",
            "Df Residuals:                      62   BIC:                             1051.\n",
            "Df Model:                           1                                         \n",
            "Covariance Type:            nonrobust                                         \n",
            "==============================================================================\n",
            "                 coef    std err          t      P>|t|      [0.025      0.975]\n",
            "------------------------------------------------------------------------------\n",
            "Intercept     42.3638    114.457      0.370      0.713    -186.432     271.160\n",
            "x            128.7775      9.374     13.738      0.000     110.039     147.516\n",
            "==============================================================================\n",
            "Omnibus:                       10.827   Durbin-Watson:                   2.219\n",
            "Prob(Omnibus):                  0.004   Jarque-Bera (JB):               10.773\n",
            "Skew:                           0.900   Prob(JB):                      0.00458\n",
            "Kurtosis:                       3.896   Cond. No.                         13.2\n",
            "==============================================================================\n",
            "\n",
            "Warnings:\n",
            "[1] Standard Errors assume that the covariance matrix of the errors is correctly specified.\n"
          ],
          "name": "stdout"
        }
      ]
    },
    {
      "cell_type": "markdown",
      "metadata": {
        "id": "4rrwmAjd8hbt",
        "colab_type": "text"
      },
      "source": [
        "## Visualize the Regression fit"
      ]
    },
    {
      "cell_type": "code",
      "metadata": {
        "id": "0dqE9OHF1TJl",
        "colab_type": "code",
        "outputId": "7c39bc50-dacf-4525-ba60-64b3e0e06749",
        "colab": {
          "base_uri": "https://localhost:8080/",
          "height": 662
        }
      },
      "source": [
        "fig, ax = plt.subplots(figsize = (10,10)) \n",
        "tt.plot(ax=ax,kind='scatter',x='2_regressor_prediction',y='y', color = 'purple') \n",
        "ax.plot(tt['2_regressor_prediction'],tt['2_regressor_prediction'],'g-')\n",
        "ax.set(xlabel = 'Prediction with Regressor', ylabel = 'y')\n",
        "ax.legend()"
      ],
      "execution_count": 391,
      "outputs": [
        {
          "output_type": "execute_result",
          "data": {
            "text/plain": [
              "<matplotlib.legend.Legend at 0x7fc198828c88>"
            ]
          },
          "metadata": {
            "tags": []
          },
          "execution_count": 391
        },
        {
          "output_type": "display_data",
          "data": {
            "image/png": "[encoded data removed]",
            "text/plain": [
              "<Figure size 720x720 with 1 Axes>"
            ]
          },
          "metadata": {
            "tags": []
          }
        }
      ]
    },
    {
      "cell_type": "markdown",
      "metadata": {
        "id": "ifu-vLZxa204",
        "colab_type": "text"
      },
      "source": [
        "### Task 7: Generate regressors in the validation sample in range from M=12(Max power of x) and compute the model prediction.Visualize the fit of the model."
      ]
    },
    {
      "cell_type": "markdown",
      "metadata": {
        "id": "47tTB_bC8kkv",
        "colab_type": "text"
      },
      "source": [
        "## Putting 12 Regressors in Training Set "
      ]
    },
    {
      "cell_type": "code",
      "metadata": {
        "id": "NPPXLD-p5lJQ",
        "colab_type": "code",
        "colab": {
          "base_uri": "https://localhost:8080/",
          "height": 204
        },
        "outputId": "7fa3c7d2-b7b6-4660-ecbd-d14e883f9234"
      },
      "source": [
        "M = 12\n",
        "for p in range(1,M+1): \n",
        "    temp_data['x%d'%p]=temp_data.x**p\n",
        "temp_data.head()"
      ],
      "execution_count": 392,
      "outputs": [
        {
          "output_type": "execute_result",
          "data": {
            "text/html": [
              "<div>\n",
              "<style scoped>\n",
              "    .dataframe tbody tr th:only-of-type {\n",
              "        vertical-align: middle;\n",
              "    }\n",
              "\n",
              "    .dataframe tbody tr th {\n",
              "        vertical-align: top;\n",
              "    }\n",
              "\n",
              "    .dataframe thead th {\n",
              "        text-align: right;\n",
              "    }\n",
              "</style>\n",
              "<table border=\"1\" class=\"dataframe\">\n",
              "  <thead>\n",
              "    <tr style=\"text-align: right;\">\n",
              "      <th></th>\n",
              "      <th>x</th>\n",
              "      <th>y</th>\n",
              "      <th>Prediction</th>\n",
              "      <th>x1</th>\n",
              "      <th>x2</th>\n",
              "      <th>x3</th>\n",
              "      <th>x4</th>\n",
              "      <th>x5</th>\n",
              "      <th>x6</th>\n",
              "      <th>x7</th>\n",
              "      <th>x8</th>\n",
              "      <th>x9</th>\n",
              "      <th>x10</th>\n",
              "      <th>x11</th>\n",
              "      <th>x12</th>\n",
              "    </tr>\n",
              "  </thead>\n",
              "  <tbody>\n",
              "    <tr>\n",
              "      <th>56</th>\n",
              "      <td>13.0</td>\n",
              "      <td>770.448939</td>\n",
              "      <td>1716.471311</td>\n",
              "      <td>13.0</td>\n",
              "      <td>169.00</td>\n",
              "      <td>2197.000</td>\n",
              "      <td>28561.0000</td>\n",
              "      <td>371293.00000</td>\n",
              "      <td>4.826809e+06</td>\n",
              "      <td>6.274852e+07</td>\n",
              "      <td>8.157307e+08</td>\n",
              "      <td>1.060450e+10</td>\n",
              "      <td>1.378585e+11</td>\n",
              "      <td>1.792160e+12</td>\n",
              "      <td>2.329809e+13</td>\n",
              "    </tr>\n",
              "    <tr>\n",
              "      <th>12</th>\n",
              "      <td>-9.0</td>\n",
              "      <td>-535.929508</td>\n",
              "      <td>-1116.633749</td>\n",
              "      <td>-9.0</td>\n",
              "      <td>81.00</td>\n",
              "      <td>-729.000</td>\n",
              "      <td>6561.0000</td>\n",
              "      <td>-59049.00000</td>\n",
              "      <td>5.314410e+05</td>\n",
              "      <td>-4.782969e+06</td>\n",
              "      <td>4.304672e+07</td>\n",
              "      <td>-3.874205e+08</td>\n",
              "      <td>3.486784e+09</td>\n",
              "      <td>-3.138106e+10</td>\n",
              "      <td>2.824295e+11</td>\n",
              "    </tr>\n",
              "    <tr>\n",
              "      <th>10</th>\n",
              "      <td>-10.0</td>\n",
              "      <td>-710.237424</td>\n",
              "      <td>-1245.411252</td>\n",
              "      <td>-10.0</td>\n",
              "      <td>100.00</td>\n",
              "      <td>-1000.000</td>\n",
              "      <td>10000.0000</td>\n",
              "      <td>-100000.00000</td>\n",
              "      <td>1.000000e+06</td>\n",
              "      <td>-1.000000e+07</td>\n",
              "      <td>1.000000e+08</td>\n",
              "      <td>-1.000000e+09</td>\n",
              "      <td>1.000000e+10</td>\n",
              "      <td>-1.000000e+11</td>\n",
              "      <td>1.000000e+12</td>\n",
              "    </tr>\n",
              "    <tr>\n",
              "      <th>45</th>\n",
              "      <td>7.5</td>\n",
              "      <td>98.086632</td>\n",
              "      <td>1008.195046</td>\n",
              "      <td>7.5</td>\n",
              "      <td>56.25</td>\n",
              "      <td>421.875</td>\n",
              "      <td>3164.0625</td>\n",
              "      <td>23730.46875</td>\n",
              "      <td>1.779785e+05</td>\n",
              "      <td>1.334839e+06</td>\n",
              "      <td>1.001129e+07</td>\n",
              "      <td>7.508469e+07</td>\n",
              "      <td>5.631351e+08</td>\n",
              "      <td>4.223514e+09</td>\n",
              "      <td>3.167635e+10</td>\n",
              "    </tr>\n",
              "    <tr>\n",
              "      <th>35</th>\n",
              "      <td>2.5</td>\n",
              "      <td>-5.702139</td>\n",
              "      <td>364.307532</td>\n",
              "      <td>2.5</td>\n",
              "      <td>6.25</td>\n",
              "      <td>15.625</td>\n",
              "      <td>39.0625</td>\n",
              "      <td>97.65625</td>\n",
              "      <td>2.441406e+02</td>\n",
              "      <td>6.103516e+02</td>\n",
              "      <td>1.525879e+03</td>\n",
              "      <td>3.814697e+03</td>\n",
              "      <td>9.536743e+03</td>\n",
              "      <td>2.384186e+04</td>\n",
              "      <td>5.960464e+04</td>\n",
              "    </tr>\n",
              "  </tbody>\n",
              "</table>\n",
              "</div>"
            ],
            "text/plain": [
              "       x           y   Prediction  ...           x10           x11           x12\n",
              "56  13.0  770.448939  1716.471311  ...  1.378585e+11  1.792160e+12  2.329809e+13\n",
              "12  -9.0 -535.929508 -1116.633749  ...  3.486784e+09 -3.138106e+10  2.824295e+11\n",
              "10 -10.0 -710.237424 -1245.411252  ...  1.000000e+10 -1.000000e+11  1.000000e+12\n",
              "45   7.5   98.086632  1008.195046  ...  5.631351e+08  4.223514e+09  3.167635e+10\n",
              "35   2.5   -5.702139   364.307532  ...  9.536743e+03  2.384186e+04  5.960464e+04\n",
              "\n",
              "[5 rows x 15 columns]"
            ]
          },
          "metadata": {
            "tags": []
          },
          "execution_count": 392
        }
      ]
    },
    {
      "cell_type": "markdown",
      "metadata": {
        "id": "Mjs-X49f8qF-",
        "colab_type": "text"
      },
      "source": [
        "## Fitting the model with Training Set"
      ]
    },
    {
      "cell_type": "code",
      "metadata": {
        "id": "n16EDkiY50cQ",
        "colab_type": "code",
        "colab": {
          "base_uri": "https://localhost:8080/",
          "height": 663
        },
        "outputId": "b5cc1147-55da-4f43-ce15-262dbea0348a"
      },
      "source": [
        "R2 = []; Params = []\n",
        "for M in range(1,M+1):\n",
        "    lm = smf.ols(formula = 'y~x'+'+'*(M>1)+'+'.join(['x%d'%p for p in range(2,M+1)]), data = temp_data).fit()\n",
        "    R2.append(lm.rsquared)\n",
        "    Params.append(lm.params)\n",
        "\n",
        "print(lm.summary())"
      ],
      "execution_count": 393,
      "outputs": [
        {
          "output_type": "stream",
          "text": [
            "                            OLS Regression Results                            \n",
            "==============================================================================\n",
            "Dep. Variable:                      y   R-squared:                       1.000\n",
            "Model:                            OLS   Adj. R-squared:                  1.000\n",
            "Method:                 Least Squares   F-statistic:                 1.624e+05\n",
            "Date:                Wed, 23 Oct 2019   Prob (F-statistic):          2.46e-116\n",
            "Time:                        02:26:03   Log-Likelihood:                -239.42\n",
            "No. Observations:                  64   AIC:                             498.8\n",
            "Df Residuals:                      54   BIC:                             520.4\n",
            "Df Model:                           9                                         \n",
            "Covariance Type:            nonrobust                                         \n",
            "==============================================================================\n",
            "                 coef    std err          t      P>|t|      [0.025      0.975]\n",
            "------------------------------------------------------------------------------\n",
            "Intercept   4.043e-05   5.89e-06      6.860      0.000    2.86e-05    5.23e-05\n",
            "x              0.0214      0.001     17.709      0.000       0.019       0.024\n",
            "x2             0.0066      0.000     13.483      0.000       0.006       0.008\n",
            "x3             0.5225      0.030     17.688      0.000       0.463       0.582\n",
            "x4            -0.0756      0.004    -20.660      0.000      -0.083      -0.068\n",
            "x5             0.0013      0.001      2.094      0.041    5.63e-05       0.003\n",
            "x6             0.0009   7.62e-05     12.150      0.000       0.001       0.001\n",
            "x7         -3.347e-05   4.88e-06     -6.854      0.000   -4.33e-05   -2.37e-05\n",
            "x8         -4.427e-06   5.07e-07     -8.737      0.000   -5.44e-06   -3.41e-06\n",
            "x9          2.413e-07   2.54e-08      9.488      0.000     1.9e-07    2.92e-07\n",
            "x10         5.425e-09   9.54e-10      5.689      0.000    3.51e-09    7.34e-09\n",
            "x11        -5.477e-10   6.67e-11     -8.205      0.000   -6.81e-10   -4.14e-10\n",
            "x12         9.009e-12   1.13e-12      7.959      0.000    6.74e-12    1.13e-11\n",
            "==============================================================================\n",
            "Omnibus:                        2.092   Durbin-Watson:                   1.648\n",
            "Prob(Omnibus):                  0.351   Jarque-Bera (JB):                1.373\n",
            "Skew:                          -0.049   Prob(JB):                        0.503\n",
            "Kurtosis:                       2.289   Cond. No.                     2.29e+16\n",
            "==============================================================================\n",
            "\n",
            "Warnings:\n",
            "[1] Standard Errors assume that the covariance matrix of the errors is correctly specified.\n",
            "[2] The condition number is large, 2.29e+16. This might indicate that there are\n",
            "strong multicollinearity or other numerical problems.\n"
          ],
          "name": "stdout"
        }
      ]
    },
    {
      "cell_type": "markdown",
      "metadata": {
        "id": "Y1TGnU1v8uU8",
        "colab_type": "text"
      },
      "source": [
        "## Visualizing the fit for each power"
      ]
    },
    {
      "cell_type": "code",
      "metadata": {
        "id": "Mafv-BG76N0A",
        "colab_type": "code",
        "colab": {
          "base_uri": "https://localhost:8080/",
          "height": 1000
        },
        "outputId": "3d637e98-021c-4e57-a32c-f37489443e77"
      },
      "source": [
        "plt.clf()\n",
        "plt.figure(figsize = (25,25))\n",
        "\n",
        "\n",
        "for M in range(1,M+1):\n",
        "    \n",
        "    plt.subplot(4,3,M)\n",
        "    \n",
        "    x_fit = np.linspace(-20,40,100)\n",
        "    y_fit = pd.DataFrame(np.matrix([x_fit**k for k in range( M+1)]).T, columns = Params[M-1].index).mul(Params[M-1], 1).sum(1)\n",
        "    \n",
        "    \n",
        "    plt.plot(temp_data.x1, temp_data.y, 'co', markersize = 8) \n",
        "    plt.plot(x_fit, y_fit, 'y--', lw = 2)     \n",
        "    plt.title('For degree M = %d'%(M), fontsize = 18)\n",
        "\n",
        "    plt.legend()\n",
        "    plt.tight_layout()"
      ],
      "execution_count": 394,
      "outputs": [
        {
          "output_type": "display_data",
          "data": {
            "text/plain": [
              "<Figure size 432x288 with 0 Axes>"
            ]
          },
          "metadata": {
            "tags": []
          }
        },
        {
          "output_type": "display_data",
          "data": {
            "image/png": "[encoded data removed]",
            "text/plain": [
              "<Figure size 1800x1800 with 12 Axes>"
            ]
          },
          "metadata": {
            "tags": []
          }
        }
      ]
    },
    {
      "cell_type": "markdown",
      "metadata": {
        "id": "pjogvBJQ8yJH",
        "colab_type": "text"
      },
      "source": [
        "## Addidng 12 powers to Validation data set"
      ]
    },
    {
      "cell_type": "code",
      "metadata": {
        "id": "yRA9m5lzcBG0",
        "colab_type": "code",
        "outputId": "2500843c-31a1-4d70-f752-e8088e6da545",
        "colab": {
          "base_uri": "https://localhost:8080/",
          "height": 204
        }
      },
      "source": [
        "temp_valid=validate_data.copy()\n",
        "\n",
        "M = 12\n",
        "for p in range(1,M+1): \n",
        "    temp_valid['x%d'%p]=temp_valid.x**p\n",
        "temp_valid.head()"
      ],
      "execution_count": 395,
      "outputs": [
        {
          "output_type": "execute_result",
          "data": {
            "text/html": [
              "<div>\n",
              "<style scoped>\n",
              "    .dataframe tbody tr th:only-of-type {\n",
              "        vertical-align: middle;\n",
              "    }\n",
              "\n",
              "    .dataframe tbody tr th {\n",
              "        vertical-align: top;\n",
              "    }\n",
              "\n",
              "    .dataframe thead th {\n",
              "        text-align: right;\n",
              "    }\n",
              "</style>\n",
              "<table border=\"1\" class=\"dataframe\">\n",
              "  <thead>\n",
              "    <tr style=\"text-align: right;\">\n",
              "      <th></th>\n",
              "      <th>x</th>\n",
              "      <th>y</th>\n",
              "      <th>x1</th>\n",
              "      <th>x2</th>\n",
              "      <th>x3</th>\n",
              "      <th>x4</th>\n",
              "      <th>x5</th>\n",
              "      <th>x6</th>\n",
              "      <th>x7</th>\n",
              "      <th>x8</th>\n",
              "      <th>x9</th>\n",
              "      <th>x10</th>\n",
              "      <th>x11</th>\n",
              "      <th>x12</th>\n",
              "    </tr>\n",
              "  </thead>\n",
              "  <tbody>\n",
              "    <tr>\n",
              "      <th>15</th>\n",
              "      <td>-7.5</td>\n",
              "      <td>-331.892716</td>\n",
              "      <td>-7.5</td>\n",
              "      <td>56.25</td>\n",
              "      <td>-421.875</td>\n",
              "      <td>3164.0625</td>\n",
              "      <td>-2.373047e+04</td>\n",
              "      <td>1.779785e+05</td>\n",
              "      <td>-1.334839e+06</td>\n",
              "      <td>1.001129e+07</td>\n",
              "      <td>-7.508469e+07</td>\n",
              "      <td>5.631351e+08</td>\n",
              "      <td>-4.223514e+09</td>\n",
              "      <td>3.167635e+10</td>\n",
              "    </tr>\n",
              "    <tr>\n",
              "      <th>36</th>\n",
              "      <td>3.0</td>\n",
              "      <td>-2.184628</td>\n",
              "      <td>3.0</td>\n",
              "      <td>9.00</td>\n",
              "      <td>27.000</td>\n",
              "      <td>81.0000</td>\n",
              "      <td>2.430000e+02</td>\n",
              "      <td>7.290000e+02</td>\n",
              "      <td>2.187000e+03</td>\n",
              "      <td>6.561000e+03</td>\n",
              "      <td>1.968300e+04</td>\n",
              "      <td>5.904900e+04</td>\n",
              "      <td>1.771470e+05</td>\n",
              "      <td>5.314410e+05</td>\n",
              "    </tr>\n",
              "    <tr>\n",
              "      <th>48</th>\n",
              "      <td>9.0</td>\n",
              "      <td>209.339774</td>\n",
              "      <td>9.0</td>\n",
              "      <td>81.00</td>\n",
              "      <td>729.000</td>\n",
              "      <td>6561.0000</td>\n",
              "      <td>5.904900e+04</td>\n",
              "      <td>5.314410e+05</td>\n",
              "      <td>4.782969e+06</td>\n",
              "      <td>4.304672e+07</td>\n",
              "      <td>3.874205e+08</td>\n",
              "      <td>3.486784e+09</td>\n",
              "      <td>3.138106e+10</td>\n",
              "      <td>2.824295e+11</td>\n",
              "    </tr>\n",
              "    <tr>\n",
              "      <th>34</th>\n",
              "      <td>2.0</td>\n",
              "      <td>-3.430170</td>\n",
              "      <td>2.0</td>\n",
              "      <td>4.00</td>\n",
              "      <td>8.000</td>\n",
              "      <td>16.0000</td>\n",
              "      <td>3.200000e+01</td>\n",
              "      <td>6.400000e+01</td>\n",
              "      <td>1.280000e+02</td>\n",
              "      <td>2.560000e+02</td>\n",
              "      <td>5.120000e+02</td>\n",
              "      <td>1.024000e+03</td>\n",
              "      <td>2.048000e+03</td>\n",
              "      <td>4.096000e+03</td>\n",
              "    </tr>\n",
              "    <tr>\n",
              "      <th>69</th>\n",
              "      <td>19.5</td>\n",
              "      <td>2962.723735</td>\n",
              "      <td>19.5</td>\n",
              "      <td>380.25</td>\n",
              "      <td>7414.875</td>\n",
              "      <td>144590.0625</td>\n",
              "      <td>2.819506e+06</td>\n",
              "      <td>5.498037e+07</td>\n",
              "      <td>1.072117e+09</td>\n",
              "      <td>2.090629e+10</td>\n",
              "      <td>4.076726e+11</td>\n",
              "      <td>7.949615e+12</td>\n",
              "      <td>1.550175e+14</td>\n",
              "      <td>3.022841e+15</td>\n",
              "    </tr>\n",
              "  </tbody>\n",
              "</table>\n",
              "</div>"
            ],
            "text/plain": [
              "       x            y    x1  ...           x10           x11           x12\n",
              "15  -7.5  -331.892716  -7.5  ...  5.631351e+08 -4.223514e+09  3.167635e+10\n",
              "36   3.0    -2.184628   3.0  ...  5.904900e+04  1.771470e+05  5.314410e+05\n",
              "48   9.0   209.339774   9.0  ...  3.486784e+09  3.138106e+10  2.824295e+11\n",
              "34   2.0    -3.430170   2.0  ...  1.024000e+03  2.048000e+03  4.096000e+03\n",
              "69  19.5  2962.723735  19.5  ...  7.949615e+12  1.550175e+14  3.022841e+15\n",
              "\n",
              "[5 rows x 14 columns]"
            ]
          },
          "metadata": {
            "tags": []
          },
          "execution_count": 395
        }
      ]
    },
    {
      "cell_type": "markdown",
      "metadata": {
        "id": "sY7Q_DGT82Y8",
        "colab_type": "text"
      },
      "source": [
        "## Fitting the validation data set to the model"
      ]
    },
    {
      "cell_type": "code",
      "metadata": {
        "id": "VgnWv15Qzi-s",
        "colab_type": "code",
        "outputId": "782714f6-1b4b-4528-eb91-c62c190f518d",
        "colab": {
          "base_uri": "https://localhost:8080/",
          "height": 663
        }
      },
      "source": [
        "temp_valid['ypred']=lm.predict(temp_valid)\n",
        "print(lm.summary())"
      ],
      "execution_count": 396,
      "outputs": [
        {
          "output_type": "stream",
          "text": [
            "                            OLS Regression Results                            \n",
            "==============================================================================\n",
            "Dep. Variable:                      y   R-squared:                       1.000\n",
            "Model:                            OLS   Adj. R-squared:                  1.000\n",
            "Method:                 Least Squares   F-statistic:                 1.624e+05\n",
            "Date:                Wed, 23 Oct 2019   Prob (F-statistic):          2.46e-116\n",
            "Time:                        02:26:08   Log-Likelihood:                -239.42\n",
            "No. Observations:                  64   AIC:                             498.8\n",
            "Df Residuals:                      54   BIC:                             520.4\n",
            "Df Model:                           9                                         \n",
            "Covariance Type:            nonrobust                                         \n",
            "==============================================================================\n",
            "                 coef    std err          t      P>|t|      [0.025      0.975]\n",
            "------------------------------------------------------------------------------\n",
            "Intercept   4.043e-05   5.89e-06      6.860      0.000    2.86e-05    5.23e-05\n",
            "x              0.0214      0.001     17.709      0.000       0.019       0.024\n",
            "x2             0.0066      0.000     13.483      0.000       0.006       0.008\n",
            "x3             0.5225      0.030     17.688      0.000       0.463       0.582\n",
            "x4            -0.0756      0.004    -20.660      0.000      -0.083      -0.068\n",
            "x5             0.0013      0.001      2.094      0.041    5.63e-05       0.003\n",
            "x6             0.0009   7.62e-05     12.150      0.000       0.001       0.001\n",
            "x7         -3.347e-05   4.88e-06     -6.854      0.000   -4.33e-05   -2.37e-05\n",
            "x8         -4.427e-06   5.07e-07     -8.737      0.000   -5.44e-06   -3.41e-06\n",
            "x9          2.413e-07   2.54e-08      9.488      0.000     1.9e-07    2.92e-07\n",
            "x10         5.425e-09   9.54e-10      5.689      0.000    3.51e-09    7.34e-09\n",
            "x11        -5.477e-10   6.67e-11     -8.205      0.000   -6.81e-10   -4.14e-10\n",
            "x12         9.009e-12   1.13e-12      7.959      0.000    6.74e-12    1.13e-11\n",
            "==============================================================================\n",
            "Omnibus:                        2.092   Durbin-Watson:                   1.648\n",
            "Prob(Omnibus):                  0.351   Jarque-Bera (JB):                1.373\n",
            "Skew:                          -0.049   Prob(JB):                        0.503\n",
            "Kurtosis:                       2.289   Cond. No.                     2.29e+16\n",
            "==============================================================================\n",
            "\n",
            "Warnings:\n",
            "[1] Standard Errors assume that the covariance matrix of the errors is correctly specified.\n",
            "[2] The condition number is large, 2.29e+16. This might indicate that there are\n",
            "strong multicollinearity or other numerical problems.\n"
          ],
          "name": "stdout"
        }
      ]
    },
    {
      "cell_type": "markdown",
      "metadata": {
        "id": "G19VbZHv87AT",
        "colab_type": "text"
      },
      "source": [
        "## Plotting the visualization \n",
        "\n",
        "\n",
        "\n",
        "\n"
      ]
    },
    {
      "cell_type": "code",
      "metadata": {
        "id": "2JSp1owD0G_S",
        "colab_type": "code",
        "outputId": "016233dc-2667-4c24-99b1-9945d8d4cbbb",
        "colab": {
          "base_uri": "https://localhost:8080/",
          "height": 663
        }
      },
      "source": [
        "'''plt.clf()\n",
        "plt.figure(figsize = (25,25))\n",
        "\n",
        "\n",
        "for M in range(1,M+1):\n",
        "    \n",
        "    plt.subplot(4,3,M)\n",
        "    \n",
        "    x_fit = np.linspace(-20,20,100)\n",
        "    y_fit = pd.DataFrame(np.matrix([x_fit**k for k in range( M+1)]).T, columns = Params[M-1].index).mul(Params[M-1], 1).sum(1)\n",
        "    \n",
        "    \n",
        "    plt.plot(temp_valid.x1, temp_valid.y, 'co', markersize = 8) \n",
        "    plt.plot(x_fit, y_fit, 'y--', lw = 2)     \n",
        "    plt.title('For degree M = %d'%(M), fontsize = 18)\n",
        "\n",
        "    plt.legend()\n",
        "    plt.tight_layout()'''\n",
        "\n",
        "\n",
        "plt.clf()\n",
        "plt.figure(figsize = (10,10))\n",
        "plt.plot(temp_valid.ypred, temp_valid.y, 'co', markersize = 8)\n",
        "plt.plot(temp_valid.ypred, temp_valid.ypred, 'y-', lw =2)\n",
        "plt.title('Validation data', fontsize = 18)\n",
        "\n",
        "plt.legend()"
      ],
      "execution_count": 397,
      "outputs": [
        {
          "output_type": "execute_result",
          "data": {
            "text/plain": [
              "<matplotlib.legend.Legend at 0x7fc1982b6be0>"
            ]
          },
          "metadata": {
            "tags": []
          },
          "execution_count": 397
        },
        {
          "output_type": "display_data",
          "data": {
            "text/plain": [
              "<Figure size 432x288 with 0 Axes>"
            ]
          },
          "metadata": {
            "tags": []
          }
        },
        {
          "output_type": "display_data",
          "data": {
            "image/png": "[encoded data removed]",
            "text/plain": [
              "<Figure size 720x720 with 1 Axes>"
            ]
          },
          "metadata": {
            "tags": []
          }
        }
      ]
    },
    {
      "cell_type": "markdown",
      "metadata": {
        "id": "orOQkqaJcEPA",
        "colab_type": "text"
      },
      "source": [
        "### Task 8:Compute R2 over the validation data"
      ]
    },
    {
      "cell_type": "code",
      "metadata": {
        "id": "HcnZ6kKzybEp",
        "colab_type": "code",
        "colab": {
          "base_uri": "https://localhost:8080/",
          "height": 34
        },
        "outputId": "4479dd7b-82a8-45d4-ab0c-7d2f2e890e88"
      },
      "source": [
        "print(\"R2_Score for Validation Data: {}\".format(r2_score(temp_valid.y, temp_valid.ypred)))"
      ],
      "execution_count": 398,
      "outputs": [
        {
          "output_type": "stream",
          "text": [
            "R2_Score for Validation Data: 0.9999575789809266\n"
          ],
          "name": "stdout"
        }
      ]
    },
    {
      "cell_type": "code",
      "metadata": {
        "id": "tSrK3kJXQP8e",
        "colab_type": "code",
        "colab": {
          "base_uri": "https://localhost:8080/",
          "height": 54
        },
        "outputId": "a176813c-ada2-4356-a86d-7a8589568ba0"
      },
      "source": [
        "R2 = []; Params = []\n",
        "'''\n",
        "for M in range(1,13):\n",
        "    formula='y~x'+'+'*(M>1)+'+'.join(['x%d'%p for p in range(2,M+1)]);\n",
        "    lm = smf.ols(formula = formula).fit(validate_data)\n",
        "    R2.append(ax.rsquared)\n",
        "    Params.append(ax.params)\n",
        "\n",
        "plt.title('R2 depending on the degree')\n",
        "plt.plot(range(1,13),R2)\n",
        "'''"
      ],
      "execution_count": 399,
      "outputs": [
        {
          "output_type": "execute_result",
          "data": {
            "text/plain": [
              "\"\\nfor M in range(1,13):\\n    formula='y~x'+'+'*(M>1)+'+'.join(['x%d'%p for p in range(2,M+1)]);\\n    lm = smf.ols(formula = formula).fit(validate_data)\\n    R2.append(ax.rsquared)\\n    Params.append(ax.params)\\n\\nplt.title('R2 depending on the degree')\\nplt.plot(range(1,13),R2)\\n\""
            ]
          },
          "metadata": {
            "tags": []
          },
          "execution_count": 399
        }
      ]
    },
    {
      "cell_type": "code",
      "metadata": {
        "id": "UlCRQoUnV-j-",
        "colab_type": "code",
        "colab": {
          "base_uri": "https://localhost:8080/",
          "height": 314
        },
        "outputId": "8bfe5db1-fddc-4586-9a49-47356a5e413a"
      },
      "source": [
        "R2v = [[] for i in range(12)]\n",
        "lmv = [[] for i in range(12)]\n",
        "\n",
        "for M in range(1,13):\n",
        "    lmv[M-1] = smf.ols(formula='y~x'+'+'*(M>1)+'+'.join(['x%d'%p for p in range(2,M+1)]), data = temp_data).fit()\n",
        "    temp_valid['preds']=lmv[M-1].predict(temp_valid)\n",
        "    R2v[M-1]=1-((temp_valid.preds-temp_valid.y)**2).sum()/((temp_valid.y-temp_valid.y.mean())**2).sum()\n",
        "\n",
        "plt.title(\"Validation Data Set R2 Scores with Respect to Degree\", fontsize = 10)\n",
        "plt.plot(range(1,13), R2v)"
      ],
      "execution_count": 400,
      "outputs": [
        {
          "output_type": "execute_result",
          "data": {
            "text/plain": [
              "[<matplotlib.lines.Line2D at 0x7fc199111668>]"
            ]
          },
          "metadata": {
            "tags": []
          },
          "execution_count": 400
        },
        {
          "output_type": "display_data",
          "data": {
            "image/png": "[encoded data removed]",
            "text/plain": [
              "<Figure size 432x288 with 1 Axes>"
            ]
          },
          "metadata": {
            "tags": []
          }
        }
      ]
    },
    {
      "cell_type": "markdown",
      "metadata": {
        "id": "Rud8ZvsbcxaY",
        "colab_type": "text"
      },
      "source": [
        "### Task 9: Did you get an optimal value with M=12?"
      ]
    },
    {
      "cell_type": "markdown",
      "metadata": {
        "id": "RKV8LRDPeH-m",
        "colab_type": "text"
      },
      "source": [
        "# Although we do get a \"kind-of\" optimal value, however, it must be disregarded completely as the fit that results for power M = 12 is a clear cut case of overfitting. As the power of x keeps increasing in powers, the line fit keeps adjusting itself causing more and more deepened concept of overfitting on the data set. A better value of M stands for when M = 3."
      ]
    },
    {
      "cell_type": "markdown",
      "metadata": {
        "id": "x3JeekagdFw8",
        "colab_type": "text"
      },
      "source": [
        "### Task 10:Generate regressors in the test sample and compute the model prediction"
      ]
    },
    {
      "cell_type": "markdown",
      "metadata": {
        "id": "kaqjm8KU9RjP",
        "colab_type": "text"
      },
      "source": [
        "## Adding 12 regressors in the test sample!"
      ]
    },
    {
      "cell_type": "code",
      "metadata": {
        "id": "_dPGOhUKePgo",
        "colab_type": "code",
        "colab": {
          "base_uri": "https://localhost:8080/",
          "height": 204
        },
        "outputId": "4e11a69b-b78c-487a-a964-60cbe0e68f05"
      },
      "source": [
        "temp_test = test_data.copy()\n",
        "\n",
        "M = 12\n",
        "for p in range(1,M+1): \n",
        "    temp_test['x%d'%p] = temp_test.x**p\n",
        "temp_test.head()"
      ],
      "execution_count": 401,
      "outputs": [
        {
          "output_type": "execute_result",
          "data": {
            "text/html": [
              "<div>\n",
              "<style scoped>\n",
              "    .dataframe tbody tr th:only-of-type {\n",
              "        vertical-align: middle;\n",
              "    }\n",
              "\n",
              "    .dataframe tbody tr th {\n",
              "        vertical-align: top;\n",
              "    }\n",
              "\n",
              "    .dataframe thead th {\n",
              "        text-align: right;\n",
              "    }\n",
              "</style>\n",
              "<table border=\"1\" class=\"dataframe\">\n",
              "  <thead>\n",
              "    <tr style=\"text-align: right;\">\n",
              "      <th></th>\n",
              "      <th>x</th>\n",
              "      <th>y</th>\n",
              "      <th>x1</th>\n",
              "      <th>x2</th>\n",
              "      <th>x3</th>\n",
              "      <th>x4</th>\n",
              "      <th>x5</th>\n",
              "      <th>x6</th>\n",
              "      <th>x7</th>\n",
              "      <th>x8</th>\n",
              "      <th>x9</th>\n",
              "      <th>x10</th>\n",
              "      <th>x11</th>\n",
              "      <th>x12</th>\n",
              "    </tr>\n",
              "  </thead>\n",
              "  <tbody>\n",
              "    <tr>\n",
              "      <th>32</th>\n",
              "      <td>1.0</td>\n",
              "      <td>-3.617848</td>\n",
              "      <td>1.0</td>\n",
              "      <td>1.00</td>\n",
              "      <td>1.000</td>\n",
              "      <td>1.0000</td>\n",
              "      <td>1.000000e+00</td>\n",
              "      <td>1.000000e+00</td>\n",
              "      <td>1.000000e+00</td>\n",
              "      <td>1.000000e+00</td>\n",
              "      <td>1.000000e+00</td>\n",
              "      <td>1.000000e+00</td>\n",
              "      <td>1.000000e+00</td>\n",
              "      <td>1.000000e+00</td>\n",
              "    </tr>\n",
              "    <tr>\n",
              "      <th>0</th>\n",
              "      <td>-15.0</td>\n",
              "      <td>-2156.994097</td>\n",
              "      <td>-15.0</td>\n",
              "      <td>225.00</td>\n",
              "      <td>-3375.000</td>\n",
              "      <td>50625.0000</td>\n",
              "      <td>-7.593750e+05</td>\n",
              "      <td>1.139062e+07</td>\n",
              "      <td>-1.708594e+08</td>\n",
              "      <td>2.562891e+09</td>\n",
              "      <td>-3.844336e+10</td>\n",
              "      <td>5.766504e+11</td>\n",
              "      <td>-8.649756e+12</td>\n",
              "      <td>1.297463e+14</td>\n",
              "    </tr>\n",
              "    <tr>\n",
              "      <th>65</th>\n",
              "      <td>17.5</td>\n",
              "      <td>2081.877286</td>\n",
              "      <td>17.5</td>\n",
              "      <td>306.25</td>\n",
              "      <td>5359.375</td>\n",
              "      <td>93789.0625</td>\n",
              "      <td>1.641309e+06</td>\n",
              "      <td>2.872290e+07</td>\n",
              "      <td>5.026508e+08</td>\n",
              "      <td>8.796388e+09</td>\n",
              "      <td>1.539368e+11</td>\n",
              "      <td>2.693894e+12</td>\n",
              "      <td>4.714314e+13</td>\n",
              "      <td>8.250050e+14</td>\n",
              "    </tr>\n",
              "    <tr>\n",
              "      <th>1</th>\n",
              "      <td>-14.5</td>\n",
              "      <td>-1956.523904</td>\n",
              "      <td>-14.5</td>\n",
              "      <td>210.25</td>\n",
              "      <td>-3048.625</td>\n",
              "      <td>44205.0625</td>\n",
              "      <td>-6.409734e+05</td>\n",
              "      <td>9.294114e+06</td>\n",
              "      <td>-1.347647e+08</td>\n",
              "      <td>1.954088e+09</td>\n",
              "      <td>-2.833427e+10</td>\n",
              "      <td>4.108469e+11</td>\n",
              "      <td>-5.957280e+12</td>\n",
              "      <td>8.638056e+13</td>\n",
              "    </tr>\n",
              "    <tr>\n",
              "      <th>79</th>\n",
              "      <td>24.5</td>\n",
              "      <td>6176.093224</td>\n",
              "      <td>24.5</td>\n",
              "      <td>600.25</td>\n",
              "      <td>14706.125</td>\n",
              "      <td>360300.0625</td>\n",
              "      <td>8.827352e+06</td>\n",
              "      <td>2.162701e+08</td>\n",
              "      <td>5.298618e+09</td>\n",
              "      <td>1.298161e+11</td>\n",
              "      <td>3.180495e+12</td>\n",
              "      <td>7.792214e+13</td>\n",
              "      <td>1.909092e+15</td>\n",
              "      <td>4.677276e+16</td>\n",
              "    </tr>\n",
              "  </tbody>\n",
              "</table>\n",
              "</div>"
            ],
            "text/plain": [
              "       x            y    x1  ...           x10           x11           x12\n",
              "32   1.0    -3.617848   1.0  ...  1.000000e+00  1.000000e+00  1.000000e+00\n",
              "0  -15.0 -2156.994097 -15.0  ...  5.766504e+11 -8.649756e+12  1.297463e+14\n",
              "65  17.5  2081.877286  17.5  ...  2.693894e+12  4.714314e+13  8.250050e+14\n",
              "1  -14.5 -1956.523904 -14.5  ...  4.108469e+11 -5.957280e+12  8.638056e+13\n",
              "79  24.5  6176.093224  24.5  ...  7.792214e+13  1.909092e+15  4.677276e+16\n",
              "\n",
              "[5 rows x 14 columns]"
            ]
          },
          "metadata": {
            "tags": []
          },
          "execution_count": 401
        }
      ]
    },
    {
      "cell_type": "markdown",
      "metadata": {
        "id": "DNahwBWd9VK8",
        "colab_type": "text"
      },
      "source": [
        "## Computing the model prediction for Test Data"
      ]
    },
    {
      "cell_type": "code",
      "metadata": {
        "id": "TKYv6LKqvjf1",
        "colab_type": "code",
        "colab": {
          "base_uri": "https://localhost:8080/",
          "height": 663
        },
        "outputId": "3df31216-97f3-46a9-8e21-bde8905f9b6d"
      },
      "source": [
        "temp_test['pred'] = lm.predict(temp_test)\n",
        "print(lm.summary())"
      ],
      "execution_count": 402,
      "outputs": [
        {
          "output_type": "stream",
          "text": [
            "                            OLS Regression Results                            \n",
            "==============================================================================\n",
            "Dep. Variable:                      y   R-squared:                       1.000\n",
            "Model:                            OLS   Adj. R-squared:                  1.000\n",
            "Method:                 Least Squares   F-statistic:                 1.624e+05\n",
            "Date:                Wed, 23 Oct 2019   Prob (F-statistic):          2.46e-116\n",
            "Time:                        02:26:09   Log-Likelihood:                -239.42\n",
            "No. Observations:                  64   AIC:                             498.8\n",
            "Df Residuals:                      54   BIC:                             520.4\n",
            "Df Model:                           9                                         \n",
            "Covariance Type:            nonrobust                                         \n",
            "==============================================================================\n",
            "                 coef    std err          t      P>|t|      [0.025      0.975]\n",
            "------------------------------------------------------------------------------\n",
            "Intercept   4.043e-05   5.89e-06      6.860      0.000    2.86e-05    5.23e-05\n",
            "x              0.0214      0.001     17.709      0.000       0.019       0.024\n",
            "x2             0.0066      0.000     13.483      0.000       0.006       0.008\n",
            "x3             0.5225      0.030     17.688      0.000       0.463       0.582\n",
            "x4            -0.0756      0.004    -20.660      0.000      -0.083      -0.068\n",
            "x5             0.0013      0.001      2.094      0.041    5.63e-05       0.003\n",
            "x6             0.0009   7.62e-05     12.150      0.000       0.001       0.001\n",
            "x7         -3.347e-05   4.88e-06     -6.854      0.000   -4.33e-05   -2.37e-05\n",
            "x8         -4.427e-06   5.07e-07     -8.737      0.000   -5.44e-06   -3.41e-06\n",
            "x9          2.413e-07   2.54e-08      9.488      0.000     1.9e-07    2.92e-07\n",
            "x10         5.425e-09   9.54e-10      5.689      0.000    3.51e-09    7.34e-09\n",
            "x11        -5.477e-10   6.67e-11     -8.205      0.000   -6.81e-10   -4.14e-10\n",
            "x12         9.009e-12   1.13e-12      7.959      0.000    6.74e-12    1.13e-11\n",
            "==============================================================================\n",
            "Omnibus:                        2.092   Durbin-Watson:                   1.648\n",
            "Prob(Omnibus):                  0.351   Jarque-Bera (JB):                1.373\n",
            "Skew:                          -0.049   Prob(JB):                        0.503\n",
            "Kurtosis:                       2.289   Cond. No.                     2.29e+16\n",
            "==============================================================================\n",
            "\n",
            "Warnings:\n",
            "[1] Standard Errors assume that the covariance matrix of the errors is correctly specified.\n",
            "[2] The condition number is large, 2.29e+16. This might indicate that there are\n",
            "strong multicollinearity or other numerical problems.\n"
          ],
          "name": "stdout"
        }
      ]
    },
    {
      "cell_type": "markdown",
      "metadata": {
        "id": "3bzf1w-9ehty",
        "colab_type": "text"
      },
      "source": [
        "### Task 11:Visulaize results of Task 10."
      ]
    },
    {
      "cell_type": "code",
      "metadata": {
        "id": "1HZi1Z5BeRxl",
        "colab_type": "code",
        "outputId": "5add9b94-c4da-42e7-c615-8b3f122ddc19",
        "colab": {
          "base_uri": "https://localhost:8080/",
          "height": 661
        }
      },
      "source": [
        "'''plt.clf()\n",
        "plt.figure(figsize = (25,25))\n",
        "\n",
        "\n",
        "for M in range(1,M+1):\n",
        "    \n",
        "    plt.subplot(4,3,M)\n",
        "    \n",
        "    x_fit = np.linspace(-20,40,100)\n",
        "    y_fit = pd.DataFrame(np.matrix([x_fit**k for k in range( M+1)]).T, columns = Params[M-1].index).mul(Params[M-1], 1).sum(1)\n",
        "    \n",
        "    \n",
        "    plt.plot(temp_test.x1, temp_test.y, 'go', markersize = 8) \n",
        "    plt.plot(x_fit, y_fit, 'r--', lw = 2)     \n",
        "    plt.title('For degree M = %d'%(M), fontsize = 18)\n",
        "\n",
        "    plt.legend()\n",
        "    plt.tight_layout()'''\n",
        "\n",
        "\n",
        "\n",
        "\n",
        "plt.clf()\n",
        "plt.figure(figsize = (10,10))\n",
        "plt.plot(temp_test.pred, temp_test.y, 'co', markersize = 8)\n",
        "plt.plot(temp_test.pred, temp_test.pred, 'y-', lw =2)\n",
        "plt.title('Test Data Results', fontsize = 15)\n",
        "plt.legend()\n"
      ],
      "execution_count": 403,
      "outputs": [
        {
          "output_type": "execute_result",
          "data": {
            "text/plain": [
              "<matplotlib.legend.Legend at 0x7fc198219cc0>"
            ]
          },
          "metadata": {
            "tags": []
          },
          "execution_count": 403
        },
        {
          "output_type": "display_data",
          "data": {
            "text/plain": [
              "<Figure size 432x288 with 0 Axes>"
            ]
          },
          "metadata": {
            "tags": []
          }
        },
        {
          "output_type": "display_data",
          "data": {
            "image/png": "[encoded data removed]",
            "text/plain": [
              "<Figure size 720x720 with 1 Axes>"
            ]
          },
          "metadata": {
            "tags": []
          }
        }
      ]
    },
    {
      "cell_type": "markdown",
      "metadata": {
        "id": "kjx8lx6G-CeY",
        "colab_type": "text"
      },
      "source": [
        "## R2 over Test Data"
      ]
    },
    {
      "cell_type": "code",
      "metadata": {
        "id": "SQI-8aL7-BZs",
        "colab_type": "code",
        "outputId": "b3c35c4f-d005-4aed-e171-89fcc2005bb7",
        "colab": {
          "base_uri": "https://localhost:8080/",
          "height": 34
        }
      },
      "source": [
        "print(\"R2_Score for Test Data: {}\".format(r2_score(temp_test.y, temp_test.pred)))"
      ],
      "execution_count": 404,
      "outputs": [
        {
          "output_type": "stream",
          "text": [
            "R2_Score for Test Data: 0.9987070312865648\n"
          ],
          "name": "stdout"
        }
      ]
    },
    {
      "cell_type": "code",
      "metadata": {
        "id": "l6vr7CWoT_Md",
        "colab_type": "code",
        "colab": {
          "base_uri": "https://localhost:8080/",
          "height": 314
        },
        "outputId": "246b08de-8546-4d38-8692-f652b9788b3b"
      },
      "source": [
        "R2t = [[] for i in range(12)]\n",
        "lmt = [[] for i in range(12)]\n",
        "\n",
        "for M in range(1,13):\n",
        "    lmt[M-1] = smf.ols(formula='y~x'+'+'*(M>1)+'+'.join(['x%d'%p for p in range(2,M+1)]), data = temp_data).fit()\n",
        "    temp_test['preds']=lmt[M-1].predict(temp_test)\n",
        "    R2t[M-1]=lmt[M-1].rsquared\n",
        "\n",
        "plt.title(\"Test Data Set R2 Scores with Respect to Degree\", fontsize = 10)\n",
        "plt.plot(range(1,13), R2t)"
      ],
      "execution_count": 405,
      "outputs": [
        {
          "output_type": "execute_result",
          "data": {
            "text/plain": [
              "[<matplotlib.lines.Line2D at 0x7fc1981fa438>]"
            ]
          },
          "metadata": {
            "tags": []
          },
          "execution_count": 405
        },
        {
          "output_type": "display_data",
          "data": {
            "image/png": "[encoded data removed]",
            "text/plain": [
              "<Figure size 432x288 with 1 Axes>"
            ]
          },
          "metadata": {
            "tags": []
          }
        }
      ]
    },
    {
      "cell_type": "markdown",
      "metadata": {
        "id": "d08VxJCOezZu",
        "colab_type": "text"
      },
      "source": [
        "## Problem 2:Refer the in class session_05_02 diagnostics python notebook ,to complete this part of the assignment."
      ]
    },
    {
      "cell_type": "markdown",
      "metadata": {
        "id": "GUXe9UUrloLe",
        "colab_type": "text"
      },
      "source": [
        "### Task 1: Perform regression on Advanced vs Other, \"Advanced\" which incorporated Master, Doctorate and ProfSchool and \"Other\" incorporating less than Bachelor.Your regression model will be between predicted and observed income."
      ]
    },
    {
      "cell_type": "code",
      "metadata": {
        "id": "lNI80bLulm9H",
        "colab_type": "code",
        "colab": {
          "base_uri": "https://localhost:8080/",
          "height": 204
        },
        "outputId": "3cc3c1db-a80b-4fa3-e73d-538ead94759f"
      },
      "source": [
        "income = pd.read_csv('/content/drive/My Drive/education.csv')\n",
        "income.drop(columns = 'Unnamed: 0', inplace = True)\n",
        "income.head()"
      ],
      "execution_count": 406,
      "outputs": [
        {
          "output_type": "execute_result",
          "data": {
            "text/html": [
              "<div>\n",
              "<style scoped>\n",
              "    .dataframe tbody tr th:only-of-type {\n",
              "        vertical-align: middle;\n",
              "    }\n",
              "\n",
              "    .dataframe tbody tr th {\n",
              "        vertical-align: top;\n",
              "    }\n",
              "\n",
              "    .dataframe thead th {\n",
              "        text-align: right;\n",
              "    }\n",
              "</style>\n",
              "<table border=\"1\" class=\"dataframe\">\n",
              "  <thead>\n",
              "    <tr style=\"text-align: right;\">\n",
              "      <th></th>\n",
              "      <th>IncomePerCapita</th>\n",
              "      <th>LessThanHS</th>\n",
              "      <th>HighSchool</th>\n",
              "      <th>SomeCollege</th>\n",
              "      <th>Bachelor</th>\n",
              "      <th>Master</th>\n",
              "      <th>Doctorate</th>\n",
              "      <th>ProfSchool</th>\n",
              "    </tr>\n",
              "  </thead>\n",
              "  <tbody>\n",
              "    <tr>\n",
              "      <th>0</th>\n",
              "      <td>77512.0</td>\n",
              "      <td>0.085069</td>\n",
              "      <td>0.101972</td>\n",
              "      <td>0.127082</td>\n",
              "      <td>0.371203</td>\n",
              "      <td>0.208966</td>\n",
              "      <td>0.031786</td>\n",
              "      <td>0.073922</td>\n",
              "    </tr>\n",
              "    <tr>\n",
              "      <th>1</th>\n",
              "      <td>26905.0</td>\n",
              "      <td>0.347436</td>\n",
              "      <td>0.208724</td>\n",
              "      <td>0.140025</td>\n",
              "      <td>0.208774</td>\n",
              "      <td>0.065663</td>\n",
              "      <td>0.010520</td>\n",
              "      <td>0.018857</td>\n",
              "    </tr>\n",
              "    <tr>\n",
              "      <th>2</th>\n",
              "      <td>79088.0</td>\n",
              "      <td>0.036399</td>\n",
              "      <td>0.068234</td>\n",
              "      <td>0.109660</td>\n",
              "      <td>0.436064</td>\n",
              "      <td>0.220825</td>\n",
              "      <td>0.039483</td>\n",
              "      <td>0.089335</td>\n",
              "    </tr>\n",
              "    <tr>\n",
              "      <th>3</th>\n",
              "      <td>98020.0</td>\n",
              "      <td>0.012725</td>\n",
              "      <td>0.038175</td>\n",
              "      <td>0.133831</td>\n",
              "      <td>0.431768</td>\n",
              "      <td>0.241334</td>\n",
              "      <td>0.037736</td>\n",
              "      <td>0.104432</td>\n",
              "    </tr>\n",
              "    <tr>\n",
              "      <th>4</th>\n",
              "      <td>99633.0</td>\n",
              "      <td>0.022338</td>\n",
              "      <td>0.017299</td>\n",
              "      <td>0.076251</td>\n",
              "      <td>0.461035</td>\n",
              "      <td>0.274941</td>\n",
              "      <td>0.036782</td>\n",
              "      <td>0.111354</td>\n",
              "    </tr>\n",
              "  </tbody>\n",
              "</table>\n",
              "</div>"
            ],
            "text/plain": [
              "   IncomePerCapita  LessThanHS  HighSchool  ...    Master  Doctorate  ProfSchool\n",
              "0          77512.0    0.085069    0.101972  ...  0.208966   0.031786    0.073922\n",
              "1          26905.0    0.347436    0.208724  ...  0.065663   0.010520    0.018857\n",
              "2          79088.0    0.036399    0.068234  ...  0.220825   0.039483    0.089335\n",
              "3          98020.0    0.012725    0.038175  ...  0.241334   0.037736    0.104432\n",
              "4          99633.0    0.022338    0.017299  ...  0.274941   0.036782    0.111354\n",
              "\n",
              "[5 rows x 8 columns]"
            ]
          },
          "metadata": {
            "tags": []
          },
          "execution_count": 406
        }
      ]
    },
    {
      "cell_type": "code",
      "metadata": {
        "id": "eHb4PLySyxWq",
        "colab_type": "code",
        "colab": {}
      },
      "source": [
        "income.dropna(inplace = True)"
      ],
      "execution_count": 0,
      "outputs": []
    },
    {
      "cell_type": "code",
      "metadata": {
        "id": "X9_iZgNkzUNs",
        "colab_type": "code",
        "colab": {
          "base_uri": "https://localhost:8080/",
          "height": 204
        },
        "outputId": "ec3336f3-11e6-4d01-9a99-7de45e81d2c7"
      },
      "source": [
        "income.head()"
      ],
      "execution_count": 408,
      "outputs": [
        {
          "output_type": "execute_result",
          "data": {
            "text/html": [
              "<div>\n",
              "<style scoped>\n",
              "    .dataframe tbody tr th:only-of-type {\n",
              "        vertical-align: middle;\n",
              "    }\n",
              "\n",
              "    .dataframe tbody tr th {\n",
              "        vertical-align: top;\n",
              "    }\n",
              "\n",
              "    .dataframe thead th {\n",
              "        text-align: right;\n",
              "    }\n",
              "</style>\n",
              "<table border=\"1\" class=\"dataframe\">\n",
              "  <thead>\n",
              "    <tr style=\"text-align: right;\">\n",
              "      <th></th>\n",
              "      <th>IncomePerCapita</th>\n",
              "      <th>LessThanHS</th>\n",
              "      <th>HighSchool</th>\n",
              "      <th>SomeCollege</th>\n",
              "      <th>Bachelor</th>\n",
              "      <th>Master</th>\n",
              "      <th>Doctorate</th>\n",
              "      <th>ProfSchool</th>\n",
              "    </tr>\n",
              "  </thead>\n",
              "  <tbody>\n",
              "    <tr>\n",
              "      <th>0</th>\n",
              "      <td>77512.0</td>\n",
              "      <td>0.085069</td>\n",
              "      <td>0.101972</td>\n",
              "      <td>0.127082</td>\n",
              "      <td>0.371203</td>\n",
              "      <td>0.208966</td>\n",
              "      <td>0.031786</td>\n",
              "      <td>0.073922</td>\n",
              "    </tr>\n",
              "    <tr>\n",
              "      <th>1</th>\n",
              "      <td>26905.0</td>\n",
              "      <td>0.347436</td>\n",
              "      <td>0.208724</td>\n",
              "      <td>0.140025</td>\n",
              "      <td>0.208774</td>\n",
              "      <td>0.065663</td>\n",
              "      <td>0.010520</td>\n",
              "      <td>0.018857</td>\n",
              "    </tr>\n",
              "    <tr>\n",
              "      <th>2</th>\n",
              "      <td>79088.0</td>\n",
              "      <td>0.036399</td>\n",
              "      <td>0.068234</td>\n",
              "      <td>0.109660</td>\n",
              "      <td>0.436064</td>\n",
              "      <td>0.220825</td>\n",
              "      <td>0.039483</td>\n",
              "      <td>0.089335</td>\n",
              "    </tr>\n",
              "    <tr>\n",
              "      <th>3</th>\n",
              "      <td>98020.0</td>\n",
              "      <td>0.012725</td>\n",
              "      <td>0.038175</td>\n",
              "      <td>0.133831</td>\n",
              "      <td>0.431768</td>\n",
              "      <td>0.241334</td>\n",
              "      <td>0.037736</td>\n",
              "      <td>0.104432</td>\n",
              "    </tr>\n",
              "    <tr>\n",
              "      <th>4</th>\n",
              "      <td>99633.0</td>\n",
              "      <td>0.022338</td>\n",
              "      <td>0.017299</td>\n",
              "      <td>0.076251</td>\n",
              "      <td>0.461035</td>\n",
              "      <td>0.274941</td>\n",
              "      <td>0.036782</td>\n",
              "      <td>0.111354</td>\n",
              "    </tr>\n",
              "  </tbody>\n",
              "</table>\n",
              "</div>"
            ],
            "text/plain": [
              "   IncomePerCapita  LessThanHS  HighSchool  ...    Master  Doctorate  ProfSchool\n",
              "0          77512.0    0.085069    0.101972  ...  0.208966   0.031786    0.073922\n",
              "1          26905.0    0.347436    0.208724  ...  0.065663   0.010520    0.018857\n",
              "2          79088.0    0.036399    0.068234  ...  0.220825   0.039483    0.089335\n",
              "3          98020.0    0.012725    0.038175  ...  0.241334   0.037736    0.104432\n",
              "4          99633.0    0.022338    0.017299  ...  0.274941   0.036782    0.111354\n",
              "\n",
              "[5 rows x 8 columns]"
            ]
          },
          "metadata": {
            "tags": []
          },
          "execution_count": 408
        }
      ]
    },
    {
      "cell_type": "code",
      "metadata": {
        "id": "fHer49QrzH6z",
        "colab_type": "code",
        "colab": {}
      },
      "source": [
        "income['Advanced'] = income['Master']+income['Doctorate']+income['ProfSchool']\n",
        "income['Other'] = income['LessThanHS']+income['HighSchool']+income['SomeCollege']"
      ],
      "execution_count": 0,
      "outputs": []
    },
    {
      "cell_type": "code",
      "metadata": {
        "id": "4CDalYTd2dd_",
        "colab_type": "code",
        "colab": {
          "base_uri": "https://localhost:8080/",
          "height": 204
        },
        "outputId": "df236cb6-b53a-4065-8694-165a20912b87"
      },
      "source": [
        "income.head()"
      ],
      "execution_count": 410,
      "outputs": [
        {
          "output_type": "execute_result",
          "data": {
            "text/html": [
              "<div>\n",
              "<style scoped>\n",
              "    .dataframe tbody tr th:only-of-type {\n",
              "        vertical-align: middle;\n",
              "    }\n",
              "\n",
              "    .dataframe tbody tr th {\n",
              "        vertical-align: top;\n",
              "    }\n",
              "\n",
              "    .dataframe thead th {\n",
              "        text-align: right;\n",
              "    }\n",
              "</style>\n",
              "<table border=\"1\" class=\"dataframe\">\n",
              "  <thead>\n",
              "    <tr style=\"text-align: right;\">\n",
              "      <th></th>\n",
              "      <th>IncomePerCapita</th>\n",
              "      <th>LessThanHS</th>\n",
              "      <th>HighSchool</th>\n",
              "      <th>SomeCollege</th>\n",
              "      <th>Bachelor</th>\n",
              "      <th>Master</th>\n",
              "      <th>Doctorate</th>\n",
              "      <th>ProfSchool</th>\n",
              "      <th>Advanced</th>\n",
              "      <th>Other</th>\n",
              "    </tr>\n",
              "  </thead>\n",
              "  <tbody>\n",
              "    <tr>\n",
              "      <th>0</th>\n",
              "      <td>77512.0</td>\n",
              "      <td>0.085069</td>\n",
              "      <td>0.101972</td>\n",
              "      <td>0.127082</td>\n",
              "      <td>0.371203</td>\n",
              "      <td>0.208966</td>\n",
              "      <td>0.031786</td>\n",
              "      <td>0.073922</td>\n",
              "      <td>0.314674</td>\n",
              "      <td>0.314123</td>\n",
              "    </tr>\n",
              "    <tr>\n",
              "      <th>1</th>\n",
              "      <td>26905.0</td>\n",
              "      <td>0.347436</td>\n",
              "      <td>0.208724</td>\n",
              "      <td>0.140025</td>\n",
              "      <td>0.208774</td>\n",
              "      <td>0.065663</td>\n",
              "      <td>0.010520</td>\n",
              "      <td>0.018857</td>\n",
              "      <td>0.095040</td>\n",
              "      <td>0.696186</td>\n",
              "    </tr>\n",
              "    <tr>\n",
              "      <th>2</th>\n",
              "      <td>79088.0</td>\n",
              "      <td>0.036399</td>\n",
              "      <td>0.068234</td>\n",
              "      <td>0.109660</td>\n",
              "      <td>0.436064</td>\n",
              "      <td>0.220825</td>\n",
              "      <td>0.039483</td>\n",
              "      <td>0.089335</td>\n",
              "      <td>0.349643</td>\n",
              "      <td>0.214293</td>\n",
              "    </tr>\n",
              "    <tr>\n",
              "      <th>3</th>\n",
              "      <td>98020.0</td>\n",
              "      <td>0.012725</td>\n",
              "      <td>0.038175</td>\n",
              "      <td>0.133831</td>\n",
              "      <td>0.431768</td>\n",
              "      <td>0.241334</td>\n",
              "      <td>0.037736</td>\n",
              "      <td>0.104432</td>\n",
              "      <td>0.383502</td>\n",
              "      <td>0.184730</td>\n",
              "    </tr>\n",
              "    <tr>\n",
              "      <th>4</th>\n",
              "      <td>99633.0</td>\n",
              "      <td>0.022338</td>\n",
              "      <td>0.017299</td>\n",
              "      <td>0.076251</td>\n",
              "      <td>0.461035</td>\n",
              "      <td>0.274941</td>\n",
              "      <td>0.036782</td>\n",
              "      <td>0.111354</td>\n",
              "      <td>0.423077</td>\n",
              "      <td>0.115888</td>\n",
              "    </tr>\n",
              "  </tbody>\n",
              "</table>\n",
              "</div>"
            ],
            "text/plain": [
              "   IncomePerCapita  LessThanHS  HighSchool  ...  ProfSchool  Advanced     Other\n",
              "0          77512.0    0.085069    0.101972  ...    0.073922  0.314674  0.314123\n",
              "1          26905.0    0.347436    0.208724  ...    0.018857  0.095040  0.696186\n",
              "2          79088.0    0.036399    0.068234  ...    0.089335  0.349643  0.214293\n",
              "3          98020.0    0.012725    0.038175  ...    0.104432  0.383502  0.184730\n",
              "4          99633.0    0.022338    0.017299  ...    0.111354  0.423077  0.115888\n",
              "\n",
              "[5 rows x 10 columns]"
            ]
          },
          "metadata": {
            "tags": []
          },
          "execution_count": 410
        }
      ]
    },
    {
      "cell_type": "code",
      "metadata": {
        "id": "nhgEgjYi9g0r",
        "colab_type": "code",
        "colab": {
          "base_uri": "https://localhost:8080/",
          "height": 459
        },
        "outputId": "48443003-8706-4414-d4ce-87d3865a1740"
      },
      "source": [
        "lmm = smf.ols(formula = 'IncomePerCapita ~ Bachelor + Advanced + Other-1', data = income).fit()\n",
        "income['Predictions'] = lmm.predict()\n",
        "print(lmm.summary())"
      ],
      "execution_count": 411,
      "outputs": [
        {
          "output_type": "stream",
          "text": [
            "                            OLS Regression Results                            \n",
            "==============================================================================\n",
            "Dep. Variable:        IncomePerCapita   R-squared:                       0.841\n",
            "Model:                            OLS   Adj. R-squared:                  0.840\n",
            "Method:                 Least Squares   F-statistic:                     472.5\n",
            "Date:                Wed, 23 Oct 2019   Prob (F-statistic):           6.38e-72\n",
            "Time:                        02:26:10   Log-Likelihood:                -1954.6\n",
            "No. Observations:                 181   AIC:                             3915.\n",
            "Df Residuals:                     178   BIC:                             3925.\n",
            "Df Model:                           2                                         \n",
            "Covariance Type:            nonrobust                                         \n",
            "==============================================================================\n",
            "                 coef    std err          t      P>|t|      [0.025      0.975]\n",
            "------------------------------------------------------------------------------\n",
            "Bachelor    6.273e+04   1.94e+04      3.226      0.001    2.44e+04    1.01e+05\n",
            "Advanced    1.735e+05      2e+04      8.670      0.000    1.34e+05    2.13e+05\n",
            "Other      -4433.1232   2504.641     -1.770      0.078   -9375.733     509.487\n",
            "==============================================================================\n",
            "Omnibus:                       96.491   Durbin-Watson:                   1.736\n",
            "Prob(Omnibus):                  0.000   Jarque-Bera (JB):              938.202\n",
            "Skew:                           1.734   Prob(JB):                    1.87e-204\n",
            "Kurtosis:                      13.601   Cond. No.                         21.6\n",
            "==============================================================================\n",
            "\n",
            "Warnings:\n",
            "[1] Standard Errors assume that the covariance matrix of the errors is correctly specified.\n"
          ],
          "name": "stdout"
        }
      ]
    },
    {
      "cell_type": "code",
      "metadata": {
        "id": "6Q-eNsYd2pUg",
        "colab_type": "code",
        "colab": {
          "base_uri": "https://localhost:8080/",
          "height": 34
        },
        "outputId": "62adfb7d-692a-43d2-e54f-720c6276ccee"
      },
      "source": [
        "'''lm3 = smf.ols(formula = 'IncomePerCapita ~ Advanced', data = income).fit()\n",
        "income['Aprediction'] = lm3.predict()\n",
        "print(lm3.summary())\n",
        "'''"
      ],
      "execution_count": 412,
      "outputs": [
        {
          "output_type": "execute_result",
          "data": {
            "text/plain": [
              "\"lm3 = smf.ols(formula = 'IncomePerCapita ~ Advanced', data = income).fit()\\nincome['Aprediction'] = lm3.predict()\\nprint(lm3.summary())\\n\""
            ]
          },
          "metadata": {
            "tags": []
          },
          "execution_count": 412
        }
      ]
    },
    {
      "cell_type": "code",
      "metadata": {
        "id": "g73a3jgh-pep",
        "colab_type": "code",
        "colab": {
          "base_uri": "https://localhost:8080/",
          "height": 34
        },
        "outputId": "f9c17de6-13d1-4d72-daa0-b0ea77a6841d"
      },
      "source": [
        "'''\n",
        "lm3 = smf.ols(formula = 'IncomePerCapita ~ Other', data = income).fit()\n",
        "income['Oprediction'] = lm3.predict()\n",
        "print(lm3.summary())\n",
        "'''"
      ],
      "execution_count": 413,
      "outputs": [
        {
          "output_type": "execute_result",
          "data": {
            "text/plain": [
              "\"\\nlm3 = smf.ols(formula = 'IncomePerCapita ~ Other', data = income).fit()\\nincome['Oprediction'] = lm3.predict()\\nprint(lm3.summary())\\n\""
            ]
          },
          "metadata": {
            "tags": []
          },
          "execution_count": 413
        }
      ]
    },
    {
      "cell_type": "code",
      "metadata": {
        "id": "er8nN-oFuqr0",
        "colab_type": "code",
        "colab": {
          "base_uri": "https://localhost:8080/",
          "height": 204
        },
        "outputId": "d3911699-0cc5-4c3c-9a93-b9eb61bb6bcf"
      },
      "source": [
        "income.head()"
      ],
      "execution_count": 414,
      "outputs": [
        {
          "output_type": "execute_result",
          "data": {
            "text/html": [
              "<div>\n",
              "<style scoped>\n",
              "    .dataframe tbody tr th:only-of-type {\n",
              "        vertical-align: middle;\n",
              "    }\n",
              "\n",
              "    .dataframe tbody tr th {\n",
              "        vertical-align: top;\n",
              "    }\n",
              "\n",
              "    .dataframe thead th {\n",
              "        text-align: right;\n",
              "    }\n",
              "</style>\n",
              "<table border=\"1\" class=\"dataframe\">\n",
              "  <thead>\n",
              "    <tr style=\"text-align: right;\">\n",
              "      <th></th>\n",
              "      <th>IncomePerCapita</th>\n",
              "      <th>LessThanHS</th>\n",
              "      <th>HighSchool</th>\n",
              "      <th>SomeCollege</th>\n",
              "      <th>Bachelor</th>\n",
              "      <th>Master</th>\n",
              "      <th>Doctorate</th>\n",
              "      <th>ProfSchool</th>\n",
              "      <th>Advanced</th>\n",
              "      <th>Other</th>\n",
              "      <th>Predictions</th>\n",
              "    </tr>\n",
              "  </thead>\n",
              "  <tbody>\n",
              "    <tr>\n",
              "      <th>0</th>\n",
              "      <td>77512.0</td>\n",
              "      <td>0.085069</td>\n",
              "      <td>0.101972</td>\n",
              "      <td>0.127082</td>\n",
              "      <td>0.371203</td>\n",
              "      <td>0.208966</td>\n",
              "      <td>0.031786</td>\n",
              "      <td>0.073922</td>\n",
              "      <td>0.314674</td>\n",
              "      <td>0.314123</td>\n",
              "      <td>76489.828365</td>\n",
              "    </tr>\n",
              "    <tr>\n",
              "      <th>1</th>\n",
              "      <td>26905.0</td>\n",
              "      <td>0.347436</td>\n",
              "      <td>0.208724</td>\n",
              "      <td>0.140025</td>\n",
              "      <td>0.208774</td>\n",
              "      <td>0.065663</td>\n",
              "      <td>0.010520</td>\n",
              "      <td>0.018857</td>\n",
              "      <td>0.095040</td>\n",
              "      <td>0.696186</td>\n",
              "      <td>26499.639194</td>\n",
              "    </tr>\n",
              "    <tr>\n",
              "      <th>2</th>\n",
              "      <td>79088.0</td>\n",
              "      <td>0.036399</td>\n",
              "      <td>0.068234</td>\n",
              "      <td>0.109660</td>\n",
              "      <td>0.436064</td>\n",
              "      <td>0.220825</td>\n",
              "      <td>0.039483</td>\n",
              "      <td>0.089335</td>\n",
              "      <td>0.349643</td>\n",
              "      <td>0.214293</td>\n",
              "      <td>87068.287324</td>\n",
              "    </tr>\n",
              "    <tr>\n",
              "      <th>3</th>\n",
              "      <td>98020.0</td>\n",
              "      <td>0.012725</td>\n",
              "      <td>0.038175</td>\n",
              "      <td>0.133831</td>\n",
              "      <td>0.431768</td>\n",
              "      <td>0.241334</td>\n",
              "      <td>0.037736</td>\n",
              "      <td>0.104432</td>\n",
              "      <td>0.383502</td>\n",
              "      <td>0.184730</td>\n",
              "      <td>92804.494199</td>\n",
              "    </tr>\n",
              "    <tr>\n",
              "      <th>4</th>\n",
              "      <td>99633.0</td>\n",
              "      <td>0.022338</td>\n",
              "      <td>0.017299</td>\n",
              "      <td>0.076251</td>\n",
              "      <td>0.461035</td>\n",
              "      <td>0.274941</td>\n",
              "      <td>0.036782</td>\n",
              "      <td>0.111354</td>\n",
              "      <td>0.423077</td>\n",
              "      <td>0.115888</td>\n",
              "      <td>101812.027598</td>\n",
              "    </tr>\n",
              "  </tbody>\n",
              "</table>\n",
              "</div>"
            ],
            "text/plain": [
              "   IncomePerCapita  LessThanHS  HighSchool  ...  Advanced     Other    Predictions\n",
              "0          77512.0    0.085069    0.101972  ...  0.314674  0.314123   76489.828365\n",
              "1          26905.0    0.347436    0.208724  ...  0.095040  0.696186   26499.639194\n",
              "2          79088.0    0.036399    0.068234  ...  0.349643  0.214293   87068.287324\n",
              "3          98020.0    0.012725    0.038175  ...  0.383502  0.184730   92804.494199\n",
              "4          99633.0    0.022338    0.017299  ...  0.423077  0.115888  101812.027598\n",
              "\n",
              "[5 rows x 11 columns]"
            ]
          },
          "metadata": {
            "tags": []
          },
          "execution_count": 414
        }
      ]
    },
    {
      "cell_type": "markdown",
      "metadata": {
        "id": "b_HKtxwCl22A",
        "colab_type": "text"
      },
      "source": [
        "### Task 2: Visualize the regression fit by plotting the observation versus our prediction for the income per zip code."
      ]
    },
    {
      "cell_type": "markdown",
      "metadata": {
        "id": "3GiyPgPh_H4o",
        "colab_type": "text"
      },
      "source": [
        "## Visualization between Advanced and Income Per Capita"
      ]
    },
    {
      "cell_type": "code",
      "metadata": {
        "id": "OcpEPaK5mCx9",
        "colab_type": "code",
        "colab": {
          "base_uri": "https://localhost:8080/",
          "height": 644
        },
        "outputId": "98c16842-37f9-44b0-d4d0-e67bbf948cd3"
      },
      "source": [
        "plt.figure(figsize=(10,10))\n",
        "plt.plot(income.IncomePerCapita, income.Predictions, 'co')\n",
        "plt.title('Observed IncomePerCapita vs Predicted IncomePerCapita', fontsize = 15)\n",
        "plt.plot(income.Predictions, income.Predictions, 'r-')\n",
        "plt.legend()"
      ],
      "execution_count": 415,
      "outputs": [
        {
          "output_type": "execute_result",
          "data": {
            "text/plain": [
              "<matplotlib.legend.Legend at 0x7fc198151198>"
            ]
          },
          "metadata": {
            "tags": []
          },
          "execution_count": 415
        },
        {
          "output_type": "display_data",
          "data": {
            "image/png": "[encoded data removed]",
            "text/plain": [
              "<Figure size 720x720 with 1 Axes>"
            ]
          },
          "metadata": {
            "tags": []
          }
        }
      ]
    },
    {
      "cell_type": "markdown",
      "metadata": {
        "id": "8cGVWwan_Zls",
        "colab_type": "text"
      },
      "source": [
        "## Visualization between Others and Income Per Capita"
      ]
    },
    {
      "cell_type": "code",
      "metadata": {
        "id": "WaBKeO-q_eZO",
        "colab_type": "code",
        "colab": {
          "base_uri": "https://localhost:8080/",
          "height": 34
        },
        "outputId": "89401dbe-694f-49a3-bd02-9ebd9e8d86a6"
      },
      "source": [
        "'''plt.figure(figsize=(10,10))\n",
        "plt.plot(income.Other, income.IncomePerCapita, 'ro', markersize = 7)\n",
        "plt.title('Other vs IncomePerCapita', fontsize = 15)\n",
        "plt.plot(income.Other, income.Oprediction, 'c-')\n",
        "plt.legend()\n",
        "'''"
      ],
      "execution_count": 416,
      "outputs": [
        {
          "output_type": "execute_result",
          "data": {
            "text/plain": [
              "\"plt.figure(figsize=(10,10))\\nplt.plot(income.Other, income.IncomePerCapita, 'ro', markersize = 7)\\nplt.title('Other vs IncomePerCapita', fontsize = 15)\\nplt.plot(income.Other, income.Oprediction, 'c-')\\nplt.legend()\\n\""
            ]
          },
          "metadata": {
            "tags": []
          },
          "execution_count": 416
        }
      ]
    },
    {
      "cell_type": "markdown",
      "metadata": {
        "id": "wgcL8G7rmPTS",
        "colab_type": "text"
      },
      "source": [
        "## Problem 3:Refer in class session_05_01 Scaling python notebook to complete this part of the assignment."
      ]
    },
    {
      "cell_type": "markdown",
      "metadata": {
        "id": "IWz_qqNzmfGg",
        "colab_type": "text"
      },
      "source": [
        "### Task 1:Establish a scaling relationship  Y∼CXq  between total, violent and property crime vs population (by running log-scale regression where Crime>0). Visualize on the log scale. Does  q=1  fall into the 95% confidence interval? What about 99% CI?"
      ]
    },
    {
      "cell_type": "code",
      "metadata": {
        "id": "KCpXgRigYQT6",
        "colab_type": "code",
        "colab": {
          "base_uri": "https://localhost:8080/",
          "height": 204
        },
        "outputId": "df2406b3-1cdc-4805-9828-ead66380cbd6"
      },
      "source": [
        "msa= pd.read_csv('/content/drive/My Drive/Untitled folder/msalist.csv', encoding = 'unicode_escape')\n",
        "msa.head()"
      ],
      "execution_count": 417,
      "outputs": [
        {
          "output_type": "execute_result",
          "data": {
            "text/html": [
              "<div>\n",
              "<style scoped>\n",
              "    .dataframe tbody tr th:only-of-type {\n",
              "        vertical-align: middle;\n",
              "    }\n",
              "\n",
              "    .dataframe tbody tr th {\n",
              "        vertical-align: top;\n",
              "    }\n",
              "\n",
              "    .dataframe thead th {\n",
              "        text-align: right;\n",
              "    }\n",
              "</style>\n",
              "<table border=\"1\" class=\"dataframe\">\n",
              "  <thead>\n",
              "    <tr style=\"text-align: right;\">\n",
              "      <th></th>\n",
              "      <th>msa</th>\n",
              "      <th>msa_name</th>\n",
              "      <th>Geo_FIPS</th>\n",
              "      <th>county</th>\n",
              "    </tr>\n",
              "  </thead>\n",
              "  <tbody>\n",
              "    <tr>\n",
              "      <th>0</th>\n",
              "      <td>10180</td>\n",
              "      <td>Abilene, TX (Metropolitan Statistical Area)</td>\n",
              "      <td>48059</td>\n",
              "      <td>Callahan, TX</td>\n",
              "    </tr>\n",
              "    <tr>\n",
              "      <th>1</th>\n",
              "      <td>10180</td>\n",
              "      <td>Abilene, TX (Metropolitan Statistical Area)</td>\n",
              "      <td>48253</td>\n",
              "      <td>Jones, TX</td>\n",
              "    </tr>\n",
              "    <tr>\n",
              "      <th>2</th>\n",
              "      <td>10180</td>\n",
              "      <td>Abilene, TX (Metropolitan Statistical Area)</td>\n",
              "      <td>48441</td>\n",
              "      <td>Taylor, TX</td>\n",
              "    </tr>\n",
              "    <tr>\n",
              "      <th>3</th>\n",
              "      <td>10420</td>\n",
              "      <td>Akron, OH (Metropolitan Statistical Area)</td>\n",
              "      <td>39133</td>\n",
              "      <td>Portage, OH</td>\n",
              "    </tr>\n",
              "    <tr>\n",
              "      <th>4</th>\n",
              "      <td>10420</td>\n",
              "      <td>Akron, OH (Metropolitan Statistical Area)</td>\n",
              "      <td>39153</td>\n",
              "      <td>Summit, OH</td>\n",
              "    </tr>\n",
              "  </tbody>\n",
              "</table>\n",
              "</div>"
            ],
            "text/plain": [
              "     msa                                     msa_name  Geo_FIPS        county\n",
              "0  10180  Abilene, TX (Metropolitan Statistical Area)     48059  Callahan, TX\n",
              "1  10180  Abilene, TX (Metropolitan Statistical Area)     48253     Jones, TX\n",
              "2  10180  Abilene, TX (Metropolitan Statistical Area)     48441    Taylor, TX\n",
              "3  10420    Akron, OH (Metropolitan Statistical Area)     39133   Portage, OH\n",
              "4  10420    Akron, OH (Metropolitan Statistical Area)     39153    Summit, OH"
            ]
          },
          "metadata": {
            "tags": []
          },
          "execution_count": 417
        }
      ]
    },
    {
      "cell_type": "code",
      "metadata": {
        "id": "Wl1_akwcYfMJ",
        "colab_type": "code",
        "colab": {}
      },
      "source": [
        "msaNames={r['msa']:r['msa_name'] for i,r in msa.iterrows()}"
      ],
      "execution_count": 0,
      "outputs": []
    },
    {
      "cell_type": "code",
      "metadata": {
        "id": "R3xKNsGlYi6H",
        "colab_type": "code",
        "colab": {
          "base_uri": "https://localhost:8080/",
          "height": 394
        },
        "outputId": "6e336dcf-29a2-4e75-ad3c-4b416f5de2ad"
      },
      "source": [
        "demographics = pd.read_csv('/content/drive/My Drive/Untitled folder/demographics.csv', encoding = 'unicode_escape')\n",
        "demographics.head()"
      ],
      "execution_count": 419,
      "outputs": [
        {
          "output_type": "execute_result",
          "data": {
            "text/html": [
              "<div>\n",
              "<style scoped>\n",
              "    .dataframe tbody tr th:only-of-type {\n",
              "        vertical-align: middle;\n",
              "    }\n",
              "\n",
              "    .dataframe tbody tr th {\n",
              "        vertical-align: top;\n",
              "    }\n",
              "\n",
              "    .dataframe thead th {\n",
              "        text-align: right;\n",
              "    }\n",
              "</style>\n",
              "<table border=\"1\" class=\"dataframe\">\n",
              "  <thead>\n",
              "    <tr style=\"text-align: right;\">\n",
              "      <th></th>\n",
              "      <th>Geo_FIPS</th>\n",
              "      <th>Geo_GEOID</th>\n",
              "      <th>Geo_NAME</th>\n",
              "      <th>Geo_QName</th>\n",
              "      <th>Geo_STUSAB</th>\n",
              "      <th>Geo_SUMLEV</th>\n",
              "      <th>Geo_GEOCOMP</th>\n",
              "      <th>Geo_FILEID</th>\n",
              "      <th>Geo_LOGRECNO</th>\n",
              "      <th>Geo_US</th>\n",
              "      <th>Geo_REGION</th>\n",
              "      <th>Geo_DIVISION</th>\n",
              "      <th>Geo_STATECE</th>\n",
              "      <th>Geo_STATE</th>\n",
              "      <th>Geo_COUNTY</th>\n",
              "      <th>Geo_COUSUB</th>\n",
              "      <th>Geo_PLACE</th>\n",
              "      <th>Geo_PLACESE</th>\n",
              "      <th>Geo_TRACT</th>\n",
              "      <th>Geo_BLKGRP</th>\n",
              "      <th>Geo_CONCIT</th>\n",
              "      <th>Geo_AIANHH</th>\n",
              "      <th>Geo_AIANHHFP</th>\n",
              "      <th>Geo_AIHHTLI</th>\n",
              "      <th>Geo_AITSCE</th>\n",
              "      <th>Geo_AITS</th>\n",
              "      <th>Geo_ANRC</th>\n",
              "      <th>Geo_CBSA</th>\n",
              "      <th>Geo_CSA</th>\n",
              "      <th>Geo_METDIV</th>\n",
              "      <th>Geo_MACC</th>\n",
              "      <th>Geo_MEMI</th>\n",
              "      <th>Geo_NECTA</th>\n",
              "      <th>Geo_CNECTA</th>\n",
              "      <th>Geo_NECTADIV</th>\n",
              "      <th>Geo_UA</th>\n",
              "      <th>Geo_UACP</th>\n",
              "      <th>Geo_CDCURR</th>\n",
              "      <th>Geo_SLDU</th>\n",
              "      <th>Geo_SLDL</th>\n",
              "      <th>Geo_VTD</th>\n",
              "      <th>Geo_ZCTA3</th>\n",
              "      <th>Geo_ZCTA5</th>\n",
              "      <th>Geo_SUBMCD</th>\n",
              "      <th>Geo_SDELM</th>\n",
              "      <th>Geo_SDSEC</th>\n",
              "      <th>Geo_SDUNI</th>\n",
              "      <th>Geo_UR</th>\n",
              "      <th>Geo_PCI</th>\n",
              "      <th>Geo_TAZ</th>\n",
              "      <th>Geo_UGA</th>\n",
              "      <th>Geo_BTTR</th>\n",
              "      <th>Geo_BTBG</th>\n",
              "      <th>Geo_PUMA5</th>\n",
              "      <th>Geo_PUMA1</th>\n",
              "      <th>SE_T001_001</th>\n",
              "      <th>SE_T002_001</th>\n",
              "      <th>SE_T002_002</th>\n",
              "      <th>SE_T002_003</th>\n",
              "      <th>SE_T003_001</th>\n",
              "      <th>SE_T003_002</th>\n",
              "      <th>SE_T003_003</th>\n",
              "      <th>SE_T057_001</th>\n",
              "      <th>SE_T083_001</th>\n",
              "    </tr>\n",
              "  </thead>\n",
              "  <tbody>\n",
              "    <tr>\n",
              "      <th>0</th>\n",
              "      <td>1001</td>\n",
              "      <td>05000US01001</td>\n",
              "      <td>Autauga County, Alabama</td>\n",
              "      <td>Autauga County, Alabama</td>\n",
              "      <td>al</td>\n",
              "      <td>50</td>\n",
              "      <td>0</td>\n",
              "      <td>ACSSF</td>\n",
              "      <td>13</td>\n",
              "      <td>NaN</td>\n",
              "      <td>NaN</td>\n",
              "      <td>NaN</td>\n",
              "      <td>NaN</td>\n",
              "      <td>1</td>\n",
              "      <td>1</td>\n",
              "      <td>NaN</td>\n",
              "      <td>NaN</td>\n",
              "      <td>NaN</td>\n",
              "      <td>NaN</td>\n",
              "      <td>NaN</td>\n",
              "      <td>NaN</td>\n",
              "      <td>NaN</td>\n",
              "      <td>NaN</td>\n",
              "      <td>NaN</td>\n",
              "      <td>NaN</td>\n",
              "      <td>NaN</td>\n",
              "      <td>NaN</td>\n",
              "      <td>NaN</td>\n",
              "      <td>NaN</td>\n",
              "      <td>NaN</td>\n",
              "      <td>NaN</td>\n",
              "      <td>NaN</td>\n",
              "      <td>NaN</td>\n",
              "      <td>NaN</td>\n",
              "      <td>NaN</td>\n",
              "      <td>NaN</td>\n",
              "      <td>NaN</td>\n",
              "      <td>NaN</td>\n",
              "      <td>NaN</td>\n",
              "      <td>NaN</td>\n",
              "      <td>NaN</td>\n",
              "      <td>NaN</td>\n",
              "      <td>NaN</td>\n",
              "      <td>NaN</td>\n",
              "      <td>NaN</td>\n",
              "      <td>NaN</td>\n",
              "      <td>NaN</td>\n",
              "      <td>NaN</td>\n",
              "      <td>NaN</td>\n",
              "      <td>NaN</td>\n",
              "      <td>NaN</td>\n",
              "      <td>NaN</td>\n",
              "      <td>NaN</td>\n",
              "      <td>NaN</td>\n",
              "      <td>NaN</td>\n",
              "      <td>55136</td>\n",
              "      <td>55136</td>\n",
              "      <td>92.75346</td>\n",
              "      <td>594.436089</td>\n",
              "      <td>604.3882</td>\n",
              "      <td>594.4361</td>\n",
              "      <td>9.952067</td>\n",
              "      <td>52475</td>\n",
              "      <td>24644</td>\n",
              "    </tr>\n",
              "    <tr>\n",
              "      <th>1</th>\n",
              "      <td>1003</td>\n",
              "      <td>05000US01003</td>\n",
              "      <td>Baldwin County, Alabama</td>\n",
              "      <td>Baldwin County, Alabama</td>\n",
              "      <td>al</td>\n",
              "      <td>50</td>\n",
              "      <td>0</td>\n",
              "      <td>ACSSF</td>\n",
              "      <td>14</td>\n",
              "      <td>NaN</td>\n",
              "      <td>NaN</td>\n",
              "      <td>NaN</td>\n",
              "      <td>NaN</td>\n",
              "      <td>1</td>\n",
              "      <td>3</td>\n",
              "      <td>NaN</td>\n",
              "      <td>NaN</td>\n",
              "      <td>NaN</td>\n",
              "      <td>NaN</td>\n",
              "      <td>NaN</td>\n",
              "      <td>NaN</td>\n",
              "      <td>NaN</td>\n",
              "      <td>NaN</td>\n",
              "      <td>NaN</td>\n",
              "      <td>NaN</td>\n",
              "      <td>NaN</td>\n",
              "      <td>NaN</td>\n",
              "      <td>NaN</td>\n",
              "      <td>NaN</td>\n",
              "      <td>NaN</td>\n",
              "      <td>NaN</td>\n",
              "      <td>NaN</td>\n",
              "      <td>NaN</td>\n",
              "      <td>NaN</td>\n",
              "      <td>NaN</td>\n",
              "      <td>NaN</td>\n",
              "      <td>NaN</td>\n",
              "      <td>NaN</td>\n",
              "      <td>NaN</td>\n",
              "      <td>NaN</td>\n",
              "      <td>NaN</td>\n",
              "      <td>NaN</td>\n",
              "      <td>NaN</td>\n",
              "      <td>NaN</td>\n",
              "      <td>NaN</td>\n",
              "      <td>NaN</td>\n",
              "      <td>NaN</td>\n",
              "      <td>NaN</td>\n",
              "      <td>NaN</td>\n",
              "      <td>NaN</td>\n",
              "      <td>NaN</td>\n",
              "      <td>NaN</td>\n",
              "      <td>NaN</td>\n",
              "      <td>NaN</td>\n",
              "      <td>NaN</td>\n",
              "      <td>191205</td>\n",
              "      <td>191205</td>\n",
              "      <td>120.27100</td>\n",
              "      <td>1589.784070</td>\n",
              "      <td>2027.3110</td>\n",
              "      <td>1589.7840</td>\n",
              "      <td>437.527200</td>\n",
              "      <td>50183</td>\n",
              "      <td>26851</td>\n",
              "    </tr>\n",
              "    <tr>\n",
              "      <th>2</th>\n",
              "      <td>1005</td>\n",
              "      <td>05000US01005</td>\n",
              "      <td>Barbour County, Alabama</td>\n",
              "      <td>Barbour County, Alabama</td>\n",
              "      <td>al</td>\n",
              "      <td>50</td>\n",
              "      <td>0</td>\n",
              "      <td>ACSSF</td>\n",
              "      <td>15</td>\n",
              "      <td>NaN</td>\n",
              "      <td>NaN</td>\n",
              "      <td>NaN</td>\n",
              "      <td>NaN</td>\n",
              "      <td>1</td>\n",
              "      <td>5</td>\n",
              "      <td>NaN</td>\n",
              "      <td>NaN</td>\n",
              "      <td>NaN</td>\n",
              "      <td>NaN</td>\n",
              "      <td>NaN</td>\n",
              "      <td>NaN</td>\n",
              "      <td>NaN</td>\n",
              "      <td>NaN</td>\n",
              "      <td>NaN</td>\n",
              "      <td>NaN</td>\n",
              "      <td>NaN</td>\n",
              "      <td>NaN</td>\n",
              "      <td>NaN</td>\n",
              "      <td>NaN</td>\n",
              "      <td>NaN</td>\n",
              "      <td>NaN</td>\n",
              "      <td>NaN</td>\n",
              "      <td>NaN</td>\n",
              "      <td>NaN</td>\n",
              "      <td>NaN</td>\n",
              "      <td>NaN</td>\n",
              "      <td>NaN</td>\n",
              "      <td>NaN</td>\n",
              "      <td>NaN</td>\n",
              "      <td>NaN</td>\n",
              "      <td>NaN</td>\n",
              "      <td>NaN</td>\n",
              "      <td>NaN</td>\n",
              "      <td>NaN</td>\n",
              "      <td>NaN</td>\n",
              "      <td>NaN</td>\n",
              "      <td>NaN</td>\n",
              "      <td>NaN</td>\n",
              "      <td>NaN</td>\n",
              "      <td>NaN</td>\n",
              "      <td>NaN</td>\n",
              "      <td>NaN</td>\n",
              "      <td>NaN</td>\n",
              "      <td>NaN</td>\n",
              "      <td>NaN</td>\n",
              "      <td>27119</td>\n",
              "      <td>27119</td>\n",
              "      <td>30.64722</td>\n",
              "      <td>884.876304</td>\n",
              "      <td>904.5153</td>\n",
              "      <td>884.8763</td>\n",
              "      <td>19.638980</td>\n",
              "      <td>35634</td>\n",
              "      <td>17350</td>\n",
              "    </tr>\n",
              "    <tr>\n",
              "      <th>3</th>\n",
              "      <td>1007</td>\n",
              "      <td>05000US01007</td>\n",
              "      <td>Bibb County, Alabama</td>\n",
              "      <td>Bibb County, Alabama</td>\n",
              "      <td>al</td>\n",
              "      <td>50</td>\n",
              "      <td>0</td>\n",
              "      <td>ACSSF</td>\n",
              "      <td>16</td>\n",
              "      <td>NaN</td>\n",
              "      <td>NaN</td>\n",
              "      <td>NaN</td>\n",
              "      <td>NaN</td>\n",
              "      <td>1</td>\n",
              "      <td>7</td>\n",
              "      <td>NaN</td>\n",
              "      <td>NaN</td>\n",
              "      <td>NaN</td>\n",
              "      <td>NaN</td>\n",
              "      <td>NaN</td>\n",
              "      <td>NaN</td>\n",
              "      <td>NaN</td>\n",
              "      <td>NaN</td>\n",
              "      <td>NaN</td>\n",
              "      <td>NaN</td>\n",
              "      <td>NaN</td>\n",
              "      <td>NaN</td>\n",
              "      <td>NaN</td>\n",
              "      <td>NaN</td>\n",
              "      <td>NaN</td>\n",
              "      <td>NaN</td>\n",
              "      <td>NaN</td>\n",
              "      <td>NaN</td>\n",
              "      <td>NaN</td>\n",
              "      <td>NaN</td>\n",
              "      <td>NaN</td>\n",
              "      <td>NaN</td>\n",
              "      <td>NaN</td>\n",
              "      <td>NaN</td>\n",
              "      <td>NaN</td>\n",
              "      <td>NaN</td>\n",
              "      <td>NaN</td>\n",
              "      <td>NaN</td>\n",
              "      <td>NaN</td>\n",
              "      <td>NaN</td>\n",
              "      <td>NaN</td>\n",
              "      <td>NaN</td>\n",
              "      <td>NaN</td>\n",
              "      <td>NaN</td>\n",
              "      <td>NaN</td>\n",
              "      <td>NaN</td>\n",
              "      <td>NaN</td>\n",
              "      <td>NaN</td>\n",
              "      <td>NaN</td>\n",
              "      <td>NaN</td>\n",
              "      <td>22653</td>\n",
              "      <td>22653</td>\n",
              "      <td>36.38555</td>\n",
              "      <td>622.582332</td>\n",
              "      <td>626.1689</td>\n",
              "      <td>622.5823</td>\n",
              "      <td>3.586525</td>\n",
              "      <td>37984</td>\n",
              "      <td>18110</td>\n",
              "    </tr>\n",
              "    <tr>\n",
              "      <th>4</th>\n",
              "      <td>1009</td>\n",
              "      <td>05000US01009</td>\n",
              "      <td>Blount County, Alabama</td>\n",
              "      <td>Blount County, Alabama</td>\n",
              "      <td>al</td>\n",
              "      <td>50</td>\n",
              "      <td>0</td>\n",
              "      <td>ACSSF</td>\n",
              "      <td>17</td>\n",
              "      <td>NaN</td>\n",
              "      <td>NaN</td>\n",
              "      <td>NaN</td>\n",
              "      <td>NaN</td>\n",
              "      <td>1</td>\n",
              "      <td>9</td>\n",
              "      <td>NaN</td>\n",
              "      <td>NaN</td>\n",
              "      <td>NaN</td>\n",
              "      <td>NaN</td>\n",
              "      <td>NaN</td>\n",
              "      <td>NaN</td>\n",
              "      <td>NaN</td>\n",
              "      <td>NaN</td>\n",
              "      <td>NaN</td>\n",
              "      <td>NaN</td>\n",
              "      <td>NaN</td>\n",
              "      <td>NaN</td>\n",
              "      <td>NaN</td>\n",
              "      <td>NaN</td>\n",
              "      <td>NaN</td>\n",
              "      <td>NaN</td>\n",
              "      <td>NaN</td>\n",
              "      <td>NaN</td>\n",
              "      <td>NaN</td>\n",
              "      <td>NaN</td>\n",
              "      <td>NaN</td>\n",
              "      <td>NaN</td>\n",
              "      <td>NaN</td>\n",
              "      <td>NaN</td>\n",
              "      <td>NaN</td>\n",
              "      <td>NaN</td>\n",
              "      <td>NaN</td>\n",
              "      <td>NaN</td>\n",
              "      <td>NaN</td>\n",
              "      <td>NaN</td>\n",
              "      <td>NaN</td>\n",
              "      <td>NaN</td>\n",
              "      <td>NaN</td>\n",
              "      <td>NaN</td>\n",
              "      <td>NaN</td>\n",
              "      <td>NaN</td>\n",
              "      <td>NaN</td>\n",
              "      <td>NaN</td>\n",
              "      <td>NaN</td>\n",
              "      <td>NaN</td>\n",
              "      <td>57645</td>\n",
              "      <td>57645</td>\n",
              "      <td>89.40315</td>\n",
              "      <td>644.775905</td>\n",
              "      <td>650.6282</td>\n",
              "      <td>644.7759</td>\n",
              "      <td>5.852321</td>\n",
              "      <td>44409</td>\n",
              "      <td>20501</td>\n",
              "    </tr>\n",
              "  </tbody>\n",
              "</table>\n",
              "</div>"
            ],
            "text/plain": [
              "   Geo_FIPS     Geo_GEOID  ... SE_T057_001 SE_T083_001\n",
              "0      1001  05000US01001  ...       52475       24644\n",
              "1      1003  05000US01003  ...       50183       26851\n",
              "2      1005  05000US01005  ...       35634       17350\n",
              "3      1007  05000US01007  ...       37984       18110\n",
              "4      1009  05000US01009  ...       44409       20501\n",
              "\n",
              "[5 rows x 64 columns]"
            ]
          },
          "metadata": {
            "tags": []
          },
          "execution_count": 419
        }
      ]
    },
    {
      "cell_type": "code",
      "metadata": {
        "id": "qCbWDXvFYtg4",
        "colab_type": "code",
        "colab": {}
      },
      "source": [
        "demographics = demographics[[ u'Geo_GEOID', u'Geo_NAME', u'Geo_QName', u'Geo_COUNTY',\\\n",
        "                             u'SE_T001_001', u'SE_T002_002', u'SE_T002_003', u'SE_T057_001', u'SE_T083_001']]\n",
        "\n",
        "demographics.rename(columns={u'SE_T001_001' : 'Population',\\\n",
        "                             u'SE_T002_002' : 'Population Density', \\\n",
        "                             u'SE_T002_003' : 'Area',\\\n",
        "                             u'SE_T057_001' : 'Median household income',\\\n",
        "                             u'SE_T083_001' : 'Per capita income'}, inplace=True)"
      ],
      "execution_count": 0,
      "outputs": []
    },
    {
      "cell_type": "code",
      "metadata": {
        "id": "p1170c34Ywkx",
        "colab_type": "code",
        "colab": {}
      },
      "source": [
        "demographics['Income']=demographics.Population*demographics['Per capita income']"
      ],
      "execution_count": 0,
      "outputs": []
    },
    {
      "cell_type": "code",
      "metadata": {
        "id": "Xfa-ou3sY3dM",
        "colab_type": "code",
        "colab": {
          "base_uri": "https://localhost:8080/",
          "height": 306
        },
        "outputId": "61f6e755-e85e-484c-edb2-da8b64ded4f3"
      },
      "source": [
        "def num(s):\n",
        "    try:\n",
        "        return int(s)\n",
        "    except ValueError:\n",
        "        0\n",
        "\n",
        "demographics['ID'] = demographics.Geo_GEOID.apply(lambda x: num(x[7:]))\n",
        "msa['ID'] = msa.Geo_FIPS.apply(num)\n",
        "\n",
        "demomsa = pd.merge(demographics, msa, on='ID', how='inner')\n",
        "demomsa.head()"
      ],
      "execution_count": 422,
      "outputs": [
        {
          "output_type": "execute_result",
          "data": {
            "text/html": [
              "<div>\n",
              "<style scoped>\n",
              "    .dataframe tbody tr th:only-of-type {\n",
              "        vertical-align: middle;\n",
              "    }\n",
              "\n",
              "    .dataframe tbody tr th {\n",
              "        vertical-align: top;\n",
              "    }\n",
              "\n",
              "    .dataframe thead th {\n",
              "        text-align: right;\n",
              "    }\n",
              "</style>\n",
              "<table border=\"1\" class=\"dataframe\">\n",
              "  <thead>\n",
              "    <tr style=\"text-align: right;\">\n",
              "      <th></th>\n",
              "      <th>Geo_GEOID</th>\n",
              "      <th>Geo_NAME</th>\n",
              "      <th>Geo_QName</th>\n",
              "      <th>Geo_COUNTY</th>\n",
              "      <th>Population</th>\n",
              "      <th>Population Density</th>\n",
              "      <th>Area</th>\n",
              "      <th>Median household income</th>\n",
              "      <th>Per capita income</th>\n",
              "      <th>Income</th>\n",
              "      <th>ID</th>\n",
              "      <th>msa</th>\n",
              "      <th>msa_name</th>\n",
              "      <th>Geo_FIPS</th>\n",
              "      <th>county</th>\n",
              "    </tr>\n",
              "  </thead>\n",
              "  <tbody>\n",
              "    <tr>\n",
              "      <th>0</th>\n",
              "      <td>05000US01001</td>\n",
              "      <td>Autauga County, Alabama</td>\n",
              "      <td>Autauga County, Alabama</td>\n",
              "      <td>1</td>\n",
              "      <td>55136</td>\n",
              "      <td>92.75346</td>\n",
              "      <td>594.436089</td>\n",
              "      <td>52475</td>\n",
              "      <td>24644</td>\n",
              "      <td>1358771584</td>\n",
              "      <td>1001</td>\n",
              "      <td>33860</td>\n",
              "      <td>Montgomery, AL (Metropolitan Statistical Area)</td>\n",
              "      <td>1001</td>\n",
              "      <td>Autauga, AL</td>\n",
              "    </tr>\n",
              "    <tr>\n",
              "      <th>1</th>\n",
              "      <td>05000US01003</td>\n",
              "      <td>Baldwin County, Alabama</td>\n",
              "      <td>Baldwin County, Alabama</td>\n",
              "      <td>3</td>\n",
              "      <td>191205</td>\n",
              "      <td>120.27100</td>\n",
              "      <td>1589.784070</td>\n",
              "      <td>50183</td>\n",
              "      <td>26851</td>\n",
              "      <td>5134045455</td>\n",
              "      <td>1003</td>\n",
              "      <td>19300</td>\n",
              "      <td>Daphne-Fairhope-Foley, AL (Metropolitan Statis...</td>\n",
              "      <td>1003</td>\n",
              "      <td>Baldwin, AL</td>\n",
              "    </tr>\n",
              "    <tr>\n",
              "      <th>2</th>\n",
              "      <td>05000US01007</td>\n",
              "      <td>Bibb County, Alabama</td>\n",
              "      <td>Bibb County, Alabama</td>\n",
              "      <td>7</td>\n",
              "      <td>22653</td>\n",
              "      <td>36.38555</td>\n",
              "      <td>622.582332</td>\n",
              "      <td>37984</td>\n",
              "      <td>18110</td>\n",
              "      <td>410245830</td>\n",
              "      <td>1007</td>\n",
              "      <td>13820</td>\n",
              "      <td>Birmingham-Hoover, AL (Metropolitan Statistica...</td>\n",
              "      <td>1007</td>\n",
              "      <td>Bibb, AL</td>\n",
              "    </tr>\n",
              "    <tr>\n",
              "      <th>3</th>\n",
              "      <td>05000US01009</td>\n",
              "      <td>Blount County, Alabama</td>\n",
              "      <td>Blount County, Alabama</td>\n",
              "      <td>9</td>\n",
              "      <td>57645</td>\n",
              "      <td>89.40315</td>\n",
              "      <td>644.775905</td>\n",
              "      <td>44409</td>\n",
              "      <td>20501</td>\n",
              "      <td>1181780145</td>\n",
              "      <td>1009</td>\n",
              "      <td>13820</td>\n",
              "      <td>Birmingham-Hoover, AL (Metropolitan Statistica...</td>\n",
              "      <td>1009</td>\n",
              "      <td>Blount, AL</td>\n",
              "    </tr>\n",
              "    <tr>\n",
              "      <th>4</th>\n",
              "      <td>05000US01015</td>\n",
              "      <td>Calhoun County, Alabama</td>\n",
              "      <td>Calhoun County, Alabama</td>\n",
              "      <td>15</td>\n",
              "      <td>117186</td>\n",
              "      <td>193.41850</td>\n",
              "      <td>605.867678</td>\n",
              "      <td>40919</td>\n",
              "      <td>21306</td>\n",
              "      <td>2496764916</td>\n",
              "      <td>1015</td>\n",
              "      <td>11500</td>\n",
              "      <td>Anniston-Oxford-Jacksonville, AL (Metropolitan...</td>\n",
              "      <td>1015</td>\n",
              "      <td>Calhoun, AL</td>\n",
              "    </tr>\n",
              "  </tbody>\n",
              "</table>\n",
              "</div>"
            ],
            "text/plain": [
              "      Geo_GEOID                 Geo_NAME  ... Geo_FIPS       county\n",
              "0  05000US01001  Autauga County, Alabama  ...     1001  Autauga, AL\n",
              "1  05000US01003  Baldwin County, Alabama  ...     1003  Baldwin, AL\n",
              "2  05000US01007     Bibb County, Alabama  ...     1007     Bibb, AL\n",
              "3  05000US01009   Blount County, Alabama  ...     1009   Blount, AL\n",
              "4  05000US01015  Calhoun County, Alabama  ...     1015  Calhoun, AL\n",
              "\n",
              "[5 rows x 15 columns]"
            ]
          },
          "metadata": {
            "tags": []
          },
          "execution_count": 422
        }
      ]
    },
    {
      "cell_type": "code",
      "metadata": {
        "id": "mVV_JH-zY8OW",
        "colab_type": "code",
        "colab": {}
      },
      "source": [
        "msaDemo = demomsa.groupby(by='msa').sum().loc[:,[u'Population', u'Area', u'Income']]"
      ],
      "execution_count": 0,
      "outputs": []
    },
    {
      "cell_type": "code",
      "metadata": {
        "id": "xcGKr7cPmmhV",
        "colab_type": "code",
        "colab": {}
      },
      "source": [
        "crime2014 = pd.read_csv('/content/drive/My Drive/Untitled folder/R11460954_SL050.csv') "
      ],
      "execution_count": 0,
      "outputs": []
    },
    {
      "cell_type": "code",
      "metadata": {
        "id": "4fTae8MFZWcf",
        "colab_type": "code",
        "colab": {}
      },
      "source": [
        "crime2014.rename(columns = { u'SE_T001_001' : 'Population',\\\n",
        "                             u'SE_T002_001' : 'Crimes',\\\n",
        "                          u'SE_T002_002' : 'Violent Crimes', \\\n",
        "                          u'SE_T002_003' : 'Property Crimes' }, inplace=True)\n",
        "\n",
        "crime2014 = crime2014[[u'Geo_FIPS', u'Geo_NAME', u'Geo_QNAME', u'Geo_STATE', u'Geo_COUNTY', 'Population', 'Crimes' , 'Violent Crimes', 'Property Crimes']]"
      ],
      "execution_count": 0,
      "outputs": []
    },
    {
      "cell_type": "code",
      "metadata": {
        "id": "3W6PQ9avZbZv",
        "colab_type": "code",
        "colab": {
          "base_uri": "https://localhost:8080/",
          "height": 204
        },
        "outputId": "c13abe38-8181-43fb-ca94-3c75c857b32f"
      },
      "source": [
        "def num(s):\n",
        "    try:\n",
        "        return int(s)\n",
        "    except ValueError:\n",
        "        0\n",
        "\n",
        "demographics['ID'] = demographics.Geo_GEOID.apply(lambda x: num(x[7:]))\n",
        "crime2014['ID'] = crime2014.Geo_FIPS.apply(num)\n",
        "msa['ID'] = msa.Geo_FIPS.apply(num)\n",
        "\n",
        "demomsa = pd.merge(demographics, msa, on='ID', how='inner')\n",
        "crimemsa = pd.merge(crime2014, msa, on='ID', how='inner')\n",
        "crimemsa.head()"
      ],
      "execution_count": 426,
      "outputs": [
        {
          "output_type": "execute_result",
          "data": {
            "text/html": [
              "<div>\n",
              "<style scoped>\n",
              "    .dataframe tbody tr th:only-of-type {\n",
              "        vertical-align: middle;\n",
              "    }\n",
              "\n",
              "    .dataframe tbody tr th {\n",
              "        vertical-align: top;\n",
              "    }\n",
              "\n",
              "    .dataframe thead th {\n",
              "        text-align: right;\n",
              "    }\n",
              "</style>\n",
              "<table border=\"1\" class=\"dataframe\">\n",
              "  <thead>\n",
              "    <tr style=\"text-align: right;\">\n",
              "      <th></th>\n",
              "      <th>Geo_FIPS_x</th>\n",
              "      <th>Geo_NAME</th>\n",
              "      <th>Geo_QNAME</th>\n",
              "      <th>Geo_STATE</th>\n",
              "      <th>Geo_COUNTY</th>\n",
              "      <th>Population</th>\n",
              "      <th>Crimes</th>\n",
              "      <th>Violent Crimes</th>\n",
              "      <th>Property Crimes</th>\n",
              "      <th>ID</th>\n",
              "      <th>msa</th>\n",
              "      <th>msa_name</th>\n",
              "      <th>Geo_FIPS_y</th>\n",
              "      <th>county</th>\n",
              "    </tr>\n",
              "  </thead>\n",
              "  <tbody>\n",
              "    <tr>\n",
              "      <th>0</th>\n",
              "      <td>01001</td>\n",
              "      <td>Autauga County</td>\n",
              "      <td>Autauga County, Alabama</td>\n",
              "      <td>1</td>\n",
              "      <td>001</td>\n",
              "      <td>55395.0</td>\n",
              "      <td>482</td>\n",
              "      <td>68</td>\n",
              "      <td>414</td>\n",
              "      <td>1001.0</td>\n",
              "      <td>33860</td>\n",
              "      <td>Montgomery, AL (Metropolitan Statistical Area)</td>\n",
              "      <td>1001</td>\n",
              "      <td>Autauga, AL</td>\n",
              "    </tr>\n",
              "    <tr>\n",
              "      <th>1</th>\n",
              "      <td>01003</td>\n",
              "      <td>Baldwin County</td>\n",
              "      <td>Baldwin County, Alabama</td>\n",
              "      <td>1</td>\n",
              "      <td>003</td>\n",
              "      <td>200111.0</td>\n",
              "      <td>760</td>\n",
              "      <td>98</td>\n",
              "      <td>662</td>\n",
              "      <td>1003.0</td>\n",
              "      <td>19300</td>\n",
              "      <td>Daphne-Fairhope-Foley, AL (Metropolitan Statis...</td>\n",
              "      <td>1003</td>\n",
              "      <td>Baldwin, AL</td>\n",
              "    </tr>\n",
              "    <tr>\n",
              "      <th>2</th>\n",
              "      <td>01007</td>\n",
              "      <td>Bibb County</td>\n",
              "      <td>Bibb County, Alabama</td>\n",
              "      <td>1</td>\n",
              "      <td>007</td>\n",
              "      <td>22506.0</td>\n",
              "      <td>86</td>\n",
              "      <td>4</td>\n",
              "      <td>82</td>\n",
              "      <td>1007.0</td>\n",
              "      <td>13820</td>\n",
              "      <td>Birmingham-Hoover, AL (Metropolitan Statistica...</td>\n",
              "      <td>1007</td>\n",
              "      <td>Bibb, AL</td>\n",
              "    </tr>\n",
              "    <tr>\n",
              "      <th>3</th>\n",
              "      <td>01009</td>\n",
              "      <td>Blount County</td>\n",
              "      <td>Blount County, Alabama</td>\n",
              "      <td>1</td>\n",
              "      <td>009</td>\n",
              "      <td>57719.0</td>\n",
              "      <td>1013</td>\n",
              "      <td>90</td>\n",
              "      <td>923</td>\n",
              "      <td>1009.0</td>\n",
              "      <td>13820</td>\n",
              "      <td>Birmingham-Hoover, AL (Metropolitan Statistica...</td>\n",
              "      <td>1009</td>\n",
              "      <td>Blount, AL</td>\n",
              "    </tr>\n",
              "    <tr>\n",
              "      <th>4</th>\n",
              "      <td>01015</td>\n",
              "      <td>Calhoun County</td>\n",
              "      <td>Calhoun County, Alabama</td>\n",
              "      <td>1</td>\n",
              "      <td>015</td>\n",
              "      <td>115916.0</td>\n",
              "      <td>486</td>\n",
              "      <td>15</td>\n",
              "      <td>471</td>\n",
              "      <td>1015.0</td>\n",
              "      <td>11500</td>\n",
              "      <td>Anniston-Oxford-Jacksonville, AL (Metropolitan...</td>\n",
              "      <td>1015</td>\n",
              "      <td>Calhoun, AL</td>\n",
              "    </tr>\n",
              "  </tbody>\n",
              "</table>\n",
              "</div>"
            ],
            "text/plain": [
              "  Geo_FIPS_x        Geo_NAME  ... Geo_FIPS_y       county\n",
              "0      01001  Autauga County  ...       1001  Autauga, AL\n",
              "1      01003  Baldwin County  ...       1003  Baldwin, AL\n",
              "2      01007     Bibb County  ...       1007     Bibb, AL\n",
              "3      01009   Blount County  ...       1009   Blount, AL\n",
              "4      01015  Calhoun County  ...       1015  Calhoun, AL\n",
              "\n",
              "[5 rows x 14 columns]"
            ]
          },
          "metadata": {
            "tags": []
          },
          "execution_count": 426
        }
      ]
    },
    {
      "cell_type": "code",
      "metadata": {
        "id": "Q2Btif9zZbW-",
        "colab_type": "code",
        "colab": {
          "base_uri": "https://localhost:8080/",
          "height": 235
        },
        "outputId": "416d8a37-8e8b-4546-8968-ef4dcf587d8d"
      },
      "source": [
        "msaCrime = crimemsa.groupby(by='msa').sum().loc[:,[u'Population', u'Crimes', u'Violent Crimes', u'Property Crimes']]\n",
        "msaCrime.head()"
      ],
      "execution_count": 427,
      "outputs": [
        {
          "output_type": "execute_result",
          "data": {
            "text/html": [
              "<div>\n",
              "<style scoped>\n",
              "    .dataframe tbody tr th:only-of-type {\n",
              "        vertical-align: middle;\n",
              "    }\n",
              "\n",
              "    .dataframe tbody tr th {\n",
              "        vertical-align: top;\n",
              "    }\n",
              "\n",
              "    .dataframe thead th {\n",
              "        text-align: right;\n",
              "    }\n",
              "</style>\n",
              "<table border=\"1\" class=\"dataframe\">\n",
              "  <thead>\n",
              "    <tr style=\"text-align: right;\">\n",
              "      <th></th>\n",
              "      <th>Population</th>\n",
              "      <th>Crimes</th>\n",
              "      <th>Violent Crimes</th>\n",
              "      <th>Property Crimes</th>\n",
              "    </tr>\n",
              "    <tr>\n",
              "      <th>msa</th>\n",
              "      <th></th>\n",
              "      <th></th>\n",
              "      <th></th>\n",
              "      <th></th>\n",
              "    </tr>\n",
              "  </thead>\n",
              "  <tbody>\n",
              "    <tr>\n",
              "      <th>10180</th>\n",
              "      <td>168592.0</td>\n",
              "      <td>492</td>\n",
              "      <td>62</td>\n",
              "      <td>430</td>\n",
              "    </tr>\n",
              "    <tr>\n",
              "      <th>10420</th>\n",
              "      <td>703825.0</td>\n",
              "      <td>2397</td>\n",
              "      <td>106</td>\n",
              "      <td>2291</td>\n",
              "    </tr>\n",
              "    <tr>\n",
              "      <th>10500</th>\n",
              "      <td>151670.0</td>\n",
              "      <td>1364</td>\n",
              "      <td>107</td>\n",
              "      <td>1257</td>\n",
              "    </tr>\n",
              "    <tr>\n",
              "      <th>10540</th>\n",
              "      <td>119356.0</td>\n",
              "      <td>1092</td>\n",
              "      <td>23</td>\n",
              "      <td>1069</td>\n",
              "    </tr>\n",
              "    <tr>\n",
              "      <th>10580</th>\n",
              "      <td>880167.0</td>\n",
              "      <td>1590</td>\n",
              "      <td>91</td>\n",
              "      <td>1499</td>\n",
              "    </tr>\n",
              "  </tbody>\n",
              "</table>\n",
              "</div>"
            ],
            "text/plain": [
              "       Population  Crimes  Violent Crimes  Property Crimes\n",
              "msa                                                       \n",
              "10180    168592.0     492              62              430\n",
              "10420    703825.0    2397             106             2291\n",
              "10500    151670.0    1364             107             1257\n",
              "10540    119356.0    1092              23             1069\n",
              "10580    880167.0    1590              91             1499"
            ]
          },
          "metadata": {
            "tags": []
          },
          "execution_count": 427
        }
      ]
    },
    {
      "cell_type": "code",
      "metadata": {
        "id": "H0Zx4oaDPF_2",
        "colab_type": "code",
        "colab": {}
      },
      "source": [
        "msaCrime = (msaCrime.where(msaCrime.Crimes>0))"
      ],
      "execution_count": 0,
      "outputs": []
    },
    {
      "cell_type": "code",
      "metadata": {
        "id": "5_nbhqzOfORc",
        "colab_type": "code",
        "colab": {
          "base_uri": "https://localhost:8080/",
          "height": 1000
        },
        "outputId": "710b26a5-eefa-4c21-a53c-368aa7170fe3"
      },
      "source": [
        "msaCrime.sort_values(by = 'Crimes', ascending = True)"
      ],
      "execution_count": 429,
      "outputs": [
        {
          "output_type": "execute_result",
          "data": {
            "text/html": [
              "<div>\n",
              "<style scoped>\n",
              "    .dataframe tbody tr th:only-of-type {\n",
              "        vertical-align: middle;\n",
              "    }\n",
              "\n",
              "    .dataframe tbody tr th {\n",
              "        vertical-align: top;\n",
              "    }\n",
              "\n",
              "    .dataframe thead th {\n",
              "        text-align: right;\n",
              "    }\n",
              "</style>\n",
              "<table border=\"1\" class=\"dataframe\">\n",
              "  <thead>\n",
              "    <tr style=\"text-align: right;\">\n",
              "      <th></th>\n",
              "      <th>Population</th>\n",
              "      <th>Crimes</th>\n",
              "      <th>Violent Crimes</th>\n",
              "      <th>Property Crimes</th>\n",
              "    </tr>\n",
              "    <tr>\n",
              "      <th>msa</th>\n",
              "      <th></th>\n",
              "      <th></th>\n",
              "      <th></th>\n",
              "      <th></th>\n",
              "    </tr>\n",
              "  </thead>\n",
              "  <tbody>\n",
              "    <tr>\n",
              "      <th>11020</th>\n",
              "      <td>125955.0</td>\n",
              "      <td>1.0</td>\n",
              "      <td>1.0</td>\n",
              "      <td>0.0</td>\n",
              "    </tr>\n",
              "    <tr>\n",
              "      <th>21500</th>\n",
              "      <td>278443.0</td>\n",
              "      <td>2.0</td>\n",
              "      <td>0.0</td>\n",
              "      <td>2.0</td>\n",
              "    </tr>\n",
              "    <tr>\n",
              "      <th>36140</th>\n",
              "      <td>95344.0</td>\n",
              "      <td>3.0</td>\n",
              "      <td>2.0</td>\n",
              "      <td>1.0</td>\n",
              "    </tr>\n",
              "    <tr>\n",
              "      <th>10900</th>\n",
              "      <td>407571.0</td>\n",
              "      <td>3.0</td>\n",
              "      <td>0.0</td>\n",
              "      <td>3.0</td>\n",
              "    </tr>\n",
              "    <tr>\n",
              "      <th>49620</th>\n",
              "      <td>440755.0</td>\n",
              "      <td>5.0</td>\n",
              "      <td>5.0</td>\n",
              "      <td>0.0</td>\n",
              "    </tr>\n",
              "    <tr>\n",
              "      <th>39740</th>\n",
              "      <td>413691.0</td>\n",
              "      <td>5.0</td>\n",
              "      <td>5.0</td>\n",
              "      <td>0.0</td>\n",
              "    </tr>\n",
              "    <tr>\n",
              "      <th>14460</th>\n",
              "      <td>300621.0</td>\n",
              "      <td>9.0</td>\n",
              "      <td>5.0</td>\n",
              "      <td>4.0</td>\n",
              "    </tr>\n",
              "    <tr>\n",
              "      <th>38300</th>\n",
              "      <td>2154097.0</td>\n",
              "      <td>17.0</td>\n",
              "      <td>12.0</td>\n",
              "      <td>5.0</td>\n",
              "    </tr>\n",
              "    <tr>\n",
              "      <th>38540</th>\n",
              "      <td>83347.0</td>\n",
              "      <td>65.0</td>\n",
              "      <td>7.0</td>\n",
              "      <td>58.0</td>\n",
              "    </tr>\n",
              "    <tr>\n",
              "      <th>40660</th>\n",
              "      <td>96063.0</td>\n",
              "      <td>97.0</td>\n",
              "      <td>17.0</td>\n",
              "      <td>80.0</td>\n",
              "    </tr>\n",
              "    <tr>\n",
              "      <th>49020</th>\n",
              "      <td>23483.0</td>\n",
              "      <td>109.0</td>\n",
              "      <td>41.0</td>\n",
              "      <td>68.0</td>\n",
              "    </tr>\n",
              "    <tr>\n",
              "      <th>41100</th>\n",
              "      <td>151948.0</td>\n",
              "      <td>144.0</td>\n",
              "      <td>18.0</td>\n",
              "      <td>126.0</td>\n",
              "    </tr>\n",
              "    <tr>\n",
              "      <th>15540</th>\n",
              "      <td>216167.0</td>\n",
              "      <td>165.0</td>\n",
              "      <td>15.0</td>\n",
              "      <td>150.0</td>\n",
              "    </tr>\n",
              "    <tr>\n",
              "      <th>38220</th>\n",
              "      <td>22419.0</td>\n",
              "      <td>167.0</td>\n",
              "      <td>4.0</td>\n",
              "      <td>163.0</td>\n",
              "    </tr>\n",
              "    <tr>\n",
              "      <th>11180</th>\n",
              "      <td>94073.0</td>\n",
              "      <td>190.0</td>\n",
              "      <td>22.0</td>\n",
              "      <td>168.0</td>\n",
              "    </tr>\n",
              "    <tr>\n",
              "      <th>20220</th>\n",
              "      <td>96370.0</td>\n",
              "      <td>191.0</td>\n",
              "      <td>20.0</td>\n",
              "      <td>171.0</td>\n",
              "    </tr>\n",
              "    <tr>\n",
              "      <th>21420</th>\n",
              "      <td>63091.0</td>\n",
              "      <td>192.0</td>\n",
              "      <td>10.0</td>\n",
              "      <td>182.0</td>\n",
              "    </tr>\n",
              "    <tr>\n",
              "      <th>30340</th>\n",
              "      <td>107440.0</td>\n",
              "      <td>194.0</td>\n",
              "      <td>15.0</td>\n",
              "      <td>179.0</td>\n",
              "    </tr>\n",
              "    <tr>\n",
              "      <th>41620</th>\n",
              "      <td>61598.0</td>\n",
              "      <td>198.0</td>\n",
              "      <td>24.0</td>\n",
              "      <td>174.0</td>\n",
              "    </tr>\n",
              "    <tr>\n",
              "      <th>24500</th>\n",
              "      <td>82344.0</td>\n",
              "      <td>204.0</td>\n",
              "      <td>43.0</td>\n",
              "      <td>161.0</td>\n",
              "    </tr>\n",
              "    <tr>\n",
              "      <th>48260</th>\n",
              "      <td>121336.0</td>\n",
              "      <td>209.0</td>\n",
              "      <td>21.0</td>\n",
              "      <td>188.0</td>\n",
              "    </tr>\n",
              "    <tr>\n",
              "      <th>18700</th>\n",
              "      <td>86316.0</td>\n",
              "      <td>216.0</td>\n",
              "      <td>27.0</td>\n",
              "      <td>189.0</td>\n",
              "    </tr>\n",
              "    <tr>\n",
              "      <th>31740</th>\n",
              "      <td>22897.0</td>\n",
              "      <td>221.0</td>\n",
              "      <td>37.0</td>\n",
              "      <td>184.0</td>\n",
              "    </tr>\n",
              "    <tr>\n",
              "      <th>16220</th>\n",
              "      <td>81624.0</td>\n",
              "      <td>223.0</td>\n",
              "      <td>40.0</td>\n",
              "      <td>183.0</td>\n",
              "    </tr>\n",
              "    <tr>\n",
              "      <th>29100</th>\n",
              "      <td>136749.0</td>\n",
              "      <td>230.0</td>\n",
              "      <td>18.0</td>\n",
              "      <td>212.0</td>\n",
              "    </tr>\n",
              "    <tr>\n",
              "      <th>22540</th>\n",
              "      <td>101759.0</td>\n",
              "      <td>236.0</td>\n",
              "      <td>40.0</td>\n",
              "      <td>196.0</td>\n",
              "    </tr>\n",
              "    <tr>\n",
              "      <th>14010</th>\n",
              "      <td>190345.0</td>\n",
              "      <td>240.0</td>\n",
              "      <td>30.0</td>\n",
              "      <td>210.0</td>\n",
              "    </tr>\n",
              "    <tr>\n",
              "      <th>22020</th>\n",
              "      <td>228291.0</td>\n",
              "      <td>249.0</td>\n",
              "      <td>21.0</td>\n",
              "      <td>228.0</td>\n",
              "    </tr>\n",
              "    <tr>\n",
              "      <th>48060</th>\n",
              "      <td>119103.0</td>\n",
              "      <td>252.0</td>\n",
              "      <td>13.0</td>\n",
              "      <td>239.0</td>\n",
              "    </tr>\n",
              "    <tr>\n",
              "      <th>31860</th>\n",
              "      <td>98478.0</td>\n",
              "      <td>265.0</td>\n",
              "      <td>27.0</td>\n",
              "      <td>238.0</td>\n",
              "    </tr>\n",
              "    <tr>\n",
              "      <th>...</th>\n",
              "      <td>...</td>\n",
              "      <td>...</td>\n",
              "      <td>...</td>\n",
              "      <td>...</td>\n",
              "    </tr>\n",
              "    <tr>\n",
              "      <th>31420</th>\n",
              "      <td>230450.0</td>\n",
              "      <td>10881.0</td>\n",
              "      <td>869.0</td>\n",
              "      <td>10012.0</td>\n",
              "    </tr>\n",
              "    <tr>\n",
              "      <th>12540</th>\n",
              "      <td>874589.0</td>\n",
              "      <td>11043.0</td>\n",
              "      <td>1982.0</td>\n",
              "      <td>9061.0</td>\n",
              "    </tr>\n",
              "    <tr>\n",
              "      <th>16740</th>\n",
              "      <td>1367775.0</td>\n",
              "      <td>12705.0</td>\n",
              "      <td>1532.0</td>\n",
              "      <td>11173.0</td>\n",
              "    </tr>\n",
              "    <tr>\n",
              "      <th>47900</th>\n",
              "      <td>3097778.0</td>\n",
              "      <td>13084.0</td>\n",
              "      <td>1431.0</td>\n",
              "      <td>11653.0</td>\n",
              "    </tr>\n",
              "    <tr>\n",
              "      <th>37860</th>\n",
              "      <td>474081.0</td>\n",
              "      <td>13234.0</td>\n",
              "      <td>1980.0</td>\n",
              "      <td>11254.0</td>\n",
              "    </tr>\n",
              "    <tr>\n",
              "      <th>40140</th>\n",
              "      <td>4441890.0</td>\n",
              "      <td>13645.0</td>\n",
              "      <td>1721.0</td>\n",
              "      <td>11924.0</td>\n",
              "    </tr>\n",
              "    <tr>\n",
              "      <th>35840</th>\n",
              "      <td>748708.0</td>\n",
              "      <td>14289.0</td>\n",
              "      <td>2033.0</td>\n",
              "      <td>12256.0</td>\n",
              "    </tr>\n",
              "    <tr>\n",
              "      <th>35620</th>\n",
              "      <td>9792873.0</td>\n",
              "      <td>14931.0</td>\n",
              "      <td>1632.0</td>\n",
              "      <td>13299.0</td>\n",
              "    </tr>\n",
              "    <tr>\n",
              "      <th>12940</th>\n",
              "      <td>825478.0</td>\n",
              "      <td>15076.0</td>\n",
              "      <td>1249.0</td>\n",
              "      <td>13827.0</td>\n",
              "    </tr>\n",
              "    <tr>\n",
              "      <th>17900</th>\n",
              "      <td>737334.0</td>\n",
              "      <td>16302.0</td>\n",
              "      <td>2712.0</td>\n",
              "      <td>13590.0</td>\n",
              "    </tr>\n",
              "    <tr>\n",
              "      <th>40900</th>\n",
              "      <td>2244397.0</td>\n",
              "      <td>18722.0</td>\n",
              "      <td>3581.0</td>\n",
              "      <td>15141.0</td>\n",
              "    </tr>\n",
              "    <tr>\n",
              "      <th>35380</th>\n",
              "      <td>867529.0</td>\n",
              "      <td>20326.0</td>\n",
              "      <td>2322.0</td>\n",
              "      <td>18004.0</td>\n",
              "    </tr>\n",
              "    <tr>\n",
              "      <th>31080</th>\n",
              "      <td>13262220.0</td>\n",
              "      <td>21906.0</td>\n",
              "      <td>5343.0</td>\n",
              "      <td>16563.0</td>\n",
              "    </tr>\n",
              "    <tr>\n",
              "      <th>42660</th>\n",
              "      <td>3671478.0</td>\n",
              "      <td>23193.0</td>\n",
              "      <td>1941.0</td>\n",
              "      <td>21252.0</td>\n",
              "    </tr>\n",
              "    <tr>\n",
              "      <th>12060</th>\n",
              "      <td>4398097.0</td>\n",
              "      <td>23354.0</td>\n",
              "      <td>2186.0</td>\n",
              "      <td>21168.0</td>\n",
              "    </tr>\n",
              "    <tr>\n",
              "      <th>24860</th>\n",
              "      <td>862463.0</td>\n",
              "      <td>24316.0</td>\n",
              "      <td>3316.0</td>\n",
              "      <td>21000.0</td>\n",
              "    </tr>\n",
              "    <tr>\n",
              "      <th>45300</th>\n",
              "      <td>2915582.0</td>\n",
              "      <td>38989.0</td>\n",
              "      <td>4330.0</td>\n",
              "      <td>34659.0</td>\n",
              "    </tr>\n",
              "    <tr>\n",
              "      <th>36740</th>\n",
              "      <td>2321418.0</td>\n",
              "      <td>43637.0</td>\n",
              "      <td>7202.0</td>\n",
              "      <td>36435.0</td>\n",
              "    </tr>\n",
              "    <tr>\n",
              "      <th>33100</th>\n",
              "      <td>5929819.0</td>\n",
              "      <td>61438.0</td>\n",
              "      <td>8873.0</td>\n",
              "      <td>52565.0</td>\n",
              "    </tr>\n",
              "    <tr>\n",
              "      <th>26420</th>\n",
              "      <td>6490180.0</td>\n",
              "      <td>73010.0</td>\n",
              "      <td>10805.0</td>\n",
              "      <td>62205.0</td>\n",
              "    </tr>\n",
              "    <tr>\n",
              "      <th>12100</th>\n",
              "      <td>NaN</td>\n",
              "      <td>NaN</td>\n",
              "      <td>NaN</td>\n",
              "      <td>NaN</td>\n",
              "    </tr>\n",
              "    <tr>\n",
              "      <th>16540</th>\n",
              "      <td>NaN</td>\n",
              "      <td>NaN</td>\n",
              "      <td>NaN</td>\n",
              "      <td>NaN</td>\n",
              "    </tr>\n",
              "    <tr>\n",
              "      <th>20700</th>\n",
              "      <td>NaN</td>\n",
              "      <td>NaN</td>\n",
              "      <td>NaN</td>\n",
              "      <td>NaN</td>\n",
              "    </tr>\n",
              "    <tr>\n",
              "      <th>23900</th>\n",
              "      <td>NaN</td>\n",
              "      <td>NaN</td>\n",
              "      <td>NaN</td>\n",
              "      <td>NaN</td>\n",
              "    </tr>\n",
              "    <tr>\n",
              "      <th>25420</th>\n",
              "      <td>NaN</td>\n",
              "      <td>NaN</td>\n",
              "      <td>NaN</td>\n",
              "      <td>NaN</td>\n",
              "    </tr>\n",
              "    <tr>\n",
              "      <th>29540</th>\n",
              "      <td>NaN</td>\n",
              "      <td>NaN</td>\n",
              "      <td>NaN</td>\n",
              "      <td>NaN</td>\n",
              "    </tr>\n",
              "    <tr>\n",
              "      <th>44300</th>\n",
              "      <td>NaN</td>\n",
              "      <td>NaN</td>\n",
              "      <td>NaN</td>\n",
              "      <td>NaN</td>\n",
              "    </tr>\n",
              "    <tr>\n",
              "      <th>45940</th>\n",
              "      <td>NaN</td>\n",
              "      <td>NaN</td>\n",
              "      <td>NaN</td>\n",
              "      <td>NaN</td>\n",
              "    </tr>\n",
              "    <tr>\n",
              "      <th>47220</th>\n",
              "      <td>NaN</td>\n",
              "      <td>NaN</td>\n",
              "      <td>NaN</td>\n",
              "      <td>NaN</td>\n",
              "    </tr>\n",
              "    <tr>\n",
              "      <th>48700</th>\n",
              "      <td>NaN</td>\n",
              "      <td>NaN</td>\n",
              "      <td>NaN</td>\n",
              "      <td>NaN</td>\n",
              "    </tr>\n",
              "  </tbody>\n",
              "</table>\n",
              "<p>347 rows × 4 columns</p>\n",
              "</div>"
            ],
            "text/plain": [
              "       Population   Crimes  Violent Crimes  Property Crimes\n",
              "msa                                                        \n",
              "11020    125955.0      1.0             1.0              0.0\n",
              "21500    278443.0      2.0             0.0              2.0\n",
              "36140     95344.0      3.0             2.0              1.0\n",
              "10900    407571.0      3.0             0.0              3.0\n",
              "49620    440755.0      5.0             5.0              0.0\n",
              "39740    413691.0      5.0             5.0              0.0\n",
              "14460    300621.0      9.0             5.0              4.0\n",
              "38300   2154097.0     17.0            12.0              5.0\n",
              "38540     83347.0     65.0             7.0             58.0\n",
              "40660     96063.0     97.0            17.0             80.0\n",
              "49020     23483.0    109.0            41.0             68.0\n",
              "41100    151948.0    144.0            18.0            126.0\n",
              "15540    216167.0    165.0            15.0            150.0\n",
              "38220     22419.0    167.0             4.0            163.0\n",
              "11180     94073.0    190.0            22.0            168.0\n",
              "20220     96370.0    191.0            20.0            171.0\n",
              "21420     63091.0    192.0            10.0            182.0\n",
              "30340    107440.0    194.0            15.0            179.0\n",
              "41620     61598.0    198.0            24.0            174.0\n",
              "24500     82344.0    204.0            43.0            161.0\n",
              "48260    121336.0    209.0            21.0            188.0\n",
              "18700     86316.0    216.0            27.0            189.0\n",
              "31740     22897.0    221.0            37.0            184.0\n",
              "16220     81624.0    223.0            40.0            183.0\n",
              "29100    136749.0    230.0            18.0            212.0\n",
              "22540    101759.0    236.0            40.0            196.0\n",
              "14010    190345.0    240.0            30.0            210.0\n",
              "22020    228291.0    249.0            21.0            228.0\n",
              "48060    119103.0    252.0            13.0            239.0\n",
              "31860     98478.0    265.0            27.0            238.0\n",
              "...           ...      ...             ...              ...\n",
              "31420    230450.0  10881.0           869.0          10012.0\n",
              "12540    874589.0  11043.0          1982.0           9061.0\n",
              "16740   1367775.0  12705.0          1532.0          11173.0\n",
              "47900   3097778.0  13084.0          1431.0          11653.0\n",
              "37860    474081.0  13234.0          1980.0          11254.0\n",
              "40140   4441890.0  13645.0          1721.0          11924.0\n",
              "35840    748708.0  14289.0          2033.0          12256.0\n",
              "35620   9792873.0  14931.0          1632.0          13299.0\n",
              "12940    825478.0  15076.0          1249.0          13827.0\n",
              "17900    737334.0  16302.0          2712.0          13590.0\n",
              "40900   2244397.0  18722.0          3581.0          15141.0\n",
              "35380    867529.0  20326.0          2322.0          18004.0\n",
              "31080  13262220.0  21906.0          5343.0          16563.0\n",
              "42660   3671478.0  23193.0          1941.0          21252.0\n",
              "12060   4398097.0  23354.0          2186.0          21168.0\n",
              "24860    862463.0  24316.0          3316.0          21000.0\n",
              "45300   2915582.0  38989.0          4330.0          34659.0\n",
              "36740   2321418.0  43637.0          7202.0          36435.0\n",
              "33100   5929819.0  61438.0          8873.0          52565.0\n",
              "26420   6490180.0  73010.0         10805.0          62205.0\n",
              "12100         NaN      NaN             NaN              NaN\n",
              "16540         NaN      NaN             NaN              NaN\n",
              "20700         NaN      NaN             NaN              NaN\n",
              "23900         NaN      NaN             NaN              NaN\n",
              "25420         NaN      NaN             NaN              NaN\n",
              "29540         NaN      NaN             NaN              NaN\n",
              "44300         NaN      NaN             NaN              NaN\n",
              "45940         NaN      NaN             NaN              NaN\n",
              "47220         NaN      NaN             NaN              NaN\n",
              "48700         NaN      NaN             NaN              NaN\n",
              "\n",
              "[347 rows x 4 columns]"
            ]
          },
          "metadata": {
            "tags": []
          },
          "execution_count": 429
        }
      ]
    },
    {
      "cell_type": "code",
      "metadata": {
        "id": "DjkTwUywle-T",
        "colab_type": "code",
        "colab": {}
      },
      "source": [
        "msaCrime.dropna(inplace = True, how = 'any')"
      ],
      "execution_count": 0,
      "outputs": []
    },
    {
      "cell_type": "code",
      "metadata": {
        "id": "T7N--bovbYFI",
        "colab_type": "code",
        "colab": {}
      },
      "source": [
        "msaCrime.rename(columns={'Violent Crimes':'Violent', 'Property Crimes':'Property'}, inplace = True)"
      ],
      "execution_count": 0,
      "outputs": []
    },
    {
      "cell_type": "code",
      "metadata": {
        "id": "uhnLvSrxbtf1",
        "colab_type": "code",
        "colab": {
          "base_uri": "https://localhost:8080/",
          "height": 235
        },
        "outputId": "1a17cfcd-4931-4623-8890-bb616c30e468"
      },
      "source": [
        "population_log = np.log(msaCrime['Population'])\n",
        "crimes_log = np.log(msaCrime['Crimes'])\n",
        "violent_log = np.log(msaCrime['Violent'])\n",
        "property_log = np.log(msaCrime['Property'])\n",
        "\n",
        "final_data = pd.DataFrame(data=[crimes_log, population_log, violent_log, property_log]).T\n",
        "final_data.sort_values(by='Crimes', ascending=False, inplace=True) \n",
        "final_data.head()\n"
      ],
      "execution_count": 432,
      "outputs": [
        {
          "output_type": "execute_result",
          "data": {
            "text/html": [
              "<div>\n",
              "<style scoped>\n",
              "    .dataframe tbody tr th:only-of-type {\n",
              "        vertical-align: middle;\n",
              "    }\n",
              "\n",
              "    .dataframe tbody tr th {\n",
              "        vertical-align: top;\n",
              "    }\n",
              "\n",
              "    .dataframe thead th {\n",
              "        text-align: right;\n",
              "    }\n",
              "</style>\n",
              "<table border=\"1\" class=\"dataframe\">\n",
              "  <thead>\n",
              "    <tr style=\"text-align: right;\">\n",
              "      <th></th>\n",
              "      <th>Crimes</th>\n",
              "      <th>Population</th>\n",
              "      <th>Violent</th>\n",
              "      <th>Property</th>\n",
              "    </tr>\n",
              "    <tr>\n",
              "      <th>msa</th>\n",
              "      <th></th>\n",
              "      <th></th>\n",
              "      <th></th>\n",
              "      <th></th>\n",
              "    </tr>\n",
              "  </thead>\n",
              "  <tbody>\n",
              "    <tr>\n",
              "      <th>26420</th>\n",
              "      <td>11.198352</td>\n",
              "      <td>15.685801</td>\n",
              "      <td>9.287764</td>\n",
              "      <td>11.038191</td>\n",
              "    </tr>\n",
              "    <tr>\n",
              "      <th>33100</th>\n",
              "      <td>11.025784</td>\n",
              "      <td>15.595504</td>\n",
              "      <td>9.090768</td>\n",
              "      <td>10.869806</td>\n",
              "    </tr>\n",
              "    <tr>\n",
              "      <th>36740</th>\n",
              "      <td>10.683661</td>\n",
              "      <td>14.657689</td>\n",
              "      <td>8.882114</td>\n",
              "      <td>10.503285</td>\n",
              "    </tr>\n",
              "    <tr>\n",
              "      <th>45300</th>\n",
              "      <td>10.571035</td>\n",
              "      <td>14.885580</td>\n",
              "      <td>8.373323</td>\n",
              "      <td>10.453313</td>\n",
              "    </tr>\n",
              "    <tr>\n",
              "      <th>24860</th>\n",
              "      <td>10.098890</td>\n",
              "      <td>13.667548</td>\n",
              "      <td>8.106515</td>\n",
              "      <td>9.952278</td>\n",
              "    </tr>\n",
              "  </tbody>\n",
              "</table>\n",
              "</div>"
            ],
            "text/plain": [
              "          Crimes  Population   Violent   Property\n",
              "msa                                              \n",
              "26420  11.198352   15.685801  9.287764  11.038191\n",
              "33100  11.025784   15.595504  9.090768  10.869806\n",
              "36740  10.683661   14.657689  8.882114  10.503285\n",
              "45300  10.571035   14.885580  8.373323  10.453313\n",
              "24860  10.098890   13.667548  8.106515   9.952278"
            ]
          },
          "metadata": {
            "tags": []
          },
          "execution_count": 432
        }
      ]
    },
    {
      "cell_type": "markdown",
      "metadata": {
        "id": "A3ZViWNrS6yd",
        "colab_type": "text"
      },
      "source": [
        "># Note to Instructor, I removed ***-inf*** and ***NaNs*** from the Violent and Property columns of the table, so results may change for regression and correlation"
      ]
    },
    {
      "cell_type": "code",
      "metadata": {
        "id": "f_I53cCS_RYz",
        "colab_type": "code",
        "colab": {}
      },
      "source": [
        "final_data = final_data.where((final_data.Violent>0)&(final_data.Property>0))\n",
        "final_data.dropna(inplace = True, how= 'any')"
      ],
      "execution_count": 0,
      "outputs": []
    },
    {
      "cell_type": "code",
      "metadata": {
        "id": "WFQ0ktB5AzTE",
        "colab_type": "code",
        "colab": {
          "base_uri": "https://localhost:8080/",
          "height": 235
        },
        "outputId": "48c4f737-1af7-4178-d939-1d8b1811707a"
      },
      "source": [
        "final_data.head()"
      ],
      "execution_count": 434,
      "outputs": [
        {
          "output_type": "execute_result",
          "data": {
            "text/html": [
              "<div>\n",
              "<style scoped>\n",
              "    .dataframe tbody tr th:only-of-type {\n",
              "        vertical-align: middle;\n",
              "    }\n",
              "\n",
              "    .dataframe tbody tr th {\n",
              "        vertical-align: top;\n",
              "    }\n",
              "\n",
              "    .dataframe thead th {\n",
              "        text-align: right;\n",
              "    }\n",
              "</style>\n",
              "<table border=\"1\" class=\"dataframe\">\n",
              "  <thead>\n",
              "    <tr style=\"text-align: right;\">\n",
              "      <th></th>\n",
              "      <th>Crimes</th>\n",
              "      <th>Population</th>\n",
              "      <th>Violent</th>\n",
              "      <th>Property</th>\n",
              "    </tr>\n",
              "    <tr>\n",
              "      <th>msa</th>\n",
              "      <th></th>\n",
              "      <th></th>\n",
              "      <th></th>\n",
              "      <th></th>\n",
              "    </tr>\n",
              "  </thead>\n",
              "  <tbody>\n",
              "    <tr>\n",
              "      <th>26420</th>\n",
              "      <td>11.198352</td>\n",
              "      <td>15.685801</td>\n",
              "      <td>9.287764</td>\n",
              "      <td>11.038191</td>\n",
              "    </tr>\n",
              "    <tr>\n",
              "      <th>33100</th>\n",
              "      <td>11.025784</td>\n",
              "      <td>15.595504</td>\n",
              "      <td>9.090768</td>\n",
              "      <td>10.869806</td>\n",
              "    </tr>\n",
              "    <tr>\n",
              "      <th>36740</th>\n",
              "      <td>10.683661</td>\n",
              "      <td>14.657689</td>\n",
              "      <td>8.882114</td>\n",
              "      <td>10.503285</td>\n",
              "    </tr>\n",
              "    <tr>\n",
              "      <th>45300</th>\n",
              "      <td>10.571035</td>\n",
              "      <td>14.885580</td>\n",
              "      <td>8.373323</td>\n",
              "      <td>10.453313</td>\n",
              "    </tr>\n",
              "    <tr>\n",
              "      <th>24860</th>\n",
              "      <td>10.098890</td>\n",
              "      <td>13.667548</td>\n",
              "      <td>8.106515</td>\n",
              "      <td>9.952278</td>\n",
              "    </tr>\n",
              "  </tbody>\n",
              "</table>\n",
              "</div>"
            ],
            "text/plain": [
              "          Crimes  Population   Violent   Property\n",
              "msa                                              \n",
              "26420  11.198352   15.685801  9.287764  11.038191\n",
              "33100  11.025784   15.595504  9.090768  10.869806\n",
              "36740  10.683661   14.657689  8.882114  10.503285\n",
              "45300  10.571035   14.885580  8.373323  10.453313\n",
              "24860  10.098890   13.667548  8.106515   9.952278"
            ]
          },
          "metadata": {
            "tags": []
          },
          "execution_count": 434
        }
      ]
    },
    {
      "cell_type": "code",
      "metadata": {
        "colab_type": "code",
        "id": "GNUDmKSdREzw",
        "colab": {
          "base_uri": "https://localhost:8080/",
          "height": 442
        },
        "outputId": "6a441835-1437-4bf2-a9a1-759af7eef60b"
      },
      "source": [
        "reg = smf.ols(formula = 'Crimes~Population', data = final_data).fit()\n",
        "print(reg.summary())"
      ],
      "execution_count": 435,
      "outputs": [
        {
          "output_type": "stream",
          "text": [
            "                            OLS Regression Results                            \n",
            "==============================================================================\n",
            "Dep. Variable:                 Crimes   R-squared:                       0.491\n",
            "Model:                            OLS   Adj. R-squared:                  0.490\n",
            "Method:                 Least Squares   F-statistic:                     317.9\n",
            "Date:                Wed, 23 Oct 2019   Prob (F-statistic):           3.11e-50\n",
            "Time:                        02:26:12   Log-Likelihood:                -435.32\n",
            "No. Observations:                 331   AIC:                             874.6\n",
            "Df Residuals:                     329   BIC:                             882.2\n",
            "Df Model:                           1                                         \n",
            "Covariance Type:            nonrobust                                         \n",
            "==============================================================================\n",
            "                 coef    std err          t      P>|t|      [0.025      0.975]\n",
            "------------------------------------------------------------------------------\n",
            "Intercept     -2.9512      0.574     -5.140      0.000      -4.081      -1.822\n",
            "Population     0.8132      0.046     17.830      0.000       0.724       0.903\n",
            "==============================================================================\n",
            "Omnibus:                      132.035   Durbin-Watson:                   0.776\n",
            "Prob(Omnibus):                  0.000   Jarque-Bera (JB):             1001.579\n",
            "Skew:                          -1.453   Prob(JB):                    3.23e-218\n",
            "Kurtosis:                      11.011   Cond. No.                         146.\n",
            "==============================================================================\n",
            "\n",
            "Warnings:\n",
            "[1] Standard Errors assume that the covariance matrix of the errors is correctly specified.\n"
          ],
          "name": "stdout"
        }
      ]
    },
    {
      "cell_type": "markdown",
      "metadata": {
        "id": "rZFFmFR4A3mj",
        "colab_type": "text"
      },
      "source": [
        "$$log(Crimes)= 0.8132 log(Population) - 2.9512$$ \n",
        "\n"
      ]
    },
    {
      "cell_type": "code",
      "metadata": {
        "id": "61Gf--zQavLx",
        "colab_type": "code",
        "colab": {
          "base_uri": "https://localhost:8080/",
          "height": 34
        },
        "outputId": "8cdfa389-d794-4273-b7cb-439dcbbb61a8"
      },
      "source": [
        "'''cpr = smf.ols(formula = 'Crimes~Population', data = final_data).fit()\n",
        "print(cpr.summary())\n",
        "'''"
      ],
      "execution_count": 436,
      "outputs": [
        {
          "output_type": "execute_result",
          "data": {
            "text/plain": [
              "\"cpr = smf.ols(formula = 'Crimes~Population', data = final_data).fit()\\nprint(cpr.summary())\\n\""
            ]
          },
          "metadata": {
            "tags": []
          },
          "execution_count": 436
        }
      ]
    },
    {
      "cell_type": "code",
      "metadata": {
        "id": "jnzI35vb2BCA",
        "colab_type": "code",
        "colab": {
          "base_uri": "https://localhost:8080/",
          "height": 111
        },
        "outputId": "9f87a916-23e5-447e-a9f8-d2d8022e6c00"
      },
      "source": [
        "reg.conf_int(alpha=0.05)"
      ],
      "execution_count": 437,
      "outputs": [
        {
          "output_type": "execute_result",
          "data": {
            "text/html": [
              "<div>\n",
              "<style scoped>\n",
              "    .dataframe tbody tr th:only-of-type {\n",
              "        vertical-align: middle;\n",
              "    }\n",
              "\n",
              "    .dataframe tbody tr th {\n",
              "        vertical-align: top;\n",
              "    }\n",
              "\n",
              "    .dataframe thead th {\n",
              "        text-align: right;\n",
              "    }\n",
              "</style>\n",
              "<table border=\"1\" class=\"dataframe\">\n",
              "  <thead>\n",
              "    <tr style=\"text-align: right;\">\n",
              "      <th></th>\n",
              "      <th>0</th>\n",
              "      <th>1</th>\n",
              "    </tr>\n",
              "  </thead>\n",
              "  <tbody>\n",
              "    <tr>\n",
              "      <th>Intercept</th>\n",
              "      <td>-4.080686</td>\n",
              "      <td>-1.82172</td>\n",
              "    </tr>\n",
              "    <tr>\n",
              "      <th>Population</th>\n",
              "      <td>0.723514</td>\n",
              "      <td>0.90297</td>\n",
              "    </tr>\n",
              "  </tbody>\n",
              "</table>\n",
              "</div>"
            ],
            "text/plain": [
              "                   0        1\n",
              "Intercept  -4.080686 -1.82172\n",
              "Population  0.723514  0.90297"
            ]
          },
          "metadata": {
            "tags": []
          },
          "execution_count": 437
        }
      ]
    },
    {
      "cell_type": "code",
      "metadata": {
        "id": "t7DMUWBhwsiZ",
        "colab_type": "code",
        "colab": {
          "base_uri": "https://localhost:8080/",
          "height": 535
        },
        "outputId": "f4138ad2-702b-49bf-d164-86692c75b102"
      },
      "source": [
        "plt.figure(figsize=(14,8))\n",
        "plt.plot(final_data.Crimes, reg.predict(), 'yo', markersize = 7)\n",
        "plt.title('Population vs Crime', fontsize = 15)\n",
        "ax.set(xlabel='Crimes', ylabel='Population')\n",
        "plt.plot(reg.predict(), reg.predict(), '-r')"
      ],
      "execution_count": 438,
      "outputs": [
        {
          "output_type": "execute_result",
          "data": {
            "text/plain": [
              "[<matplotlib.lines.Line2D at 0x7fc198a71198>]"
            ]
          },
          "metadata": {
            "tags": []
          },
          "execution_count": 438
        },
        {
          "output_type": "display_data",
          "data": {
            "image/png": "[encoded data removed]",
            "text/plain": [
              "<Figure size 1008x576 with 1 Axes>"
            ]
          },
          "metadata": {
            "tags": []
          }
        }
      ]
    },
    {
      "cell_type": "code",
      "metadata": {
        "id": "S3KboPJxDP05",
        "colab_type": "code",
        "colab": {
          "base_uri": "https://localhost:8080/",
          "height": 34
        },
        "outputId": "71d185d0-3b45-4091-86fc-1589065c2dc1"
      },
      "source": [
        "'''final_data1 = final_data.copy()\n",
        "final_data1.drop(['Crimes', 'Property'], axis = 1, inplace = True)\n",
        "final_data1 = final_data1.where(final_data1['Violent']>0)\n",
        "final_data1.sort_values(by='Violent', ascending = True)'''"
      ],
      "execution_count": 439,
      "outputs": [
        {
          "output_type": "execute_result",
          "data": {
            "text/plain": [
              "\"final_data1 = final_data.copy()\\nfinal_data1.drop(['Crimes', 'Property'], axis = 1, inplace = True)\\nfinal_data1 = final_data1.where(final_data1['Violent']>0)\\nfinal_data1.sort_values(by='Violent', ascending = True)\""
            ]
          },
          "metadata": {
            "tags": []
          },
          "execution_count": 439
        }
      ]
    },
    {
      "cell_type": "code",
      "metadata": {
        "id": "zDtsknHAXAao",
        "colab_type": "code",
        "colab": {}
      },
      "source": [
        "#final_data1.dropna(inplace = True, how = 'any')"
      ],
      "execution_count": 0,
      "outputs": []
    },
    {
      "cell_type": "code",
      "metadata": {
        "id": "ERnj0LsN-yg0",
        "colab_type": "code",
        "colab": {}
      },
      "source": [
        "#acp = smf.ols(formula = 'Violent~Population', data = final_data1).fit()\n",
        "#print(vp.summary())"
      ],
      "execution_count": 0,
      "outputs": []
    },
    {
      "cell_type": "code",
      "metadata": {
        "id": "QHERsr-81jQn",
        "colab_type": "code",
        "colab": {}
      },
      "source": [
        "#vp = smf.ols(formula = 'Violent~Population', data = final_data1).fit()\n",
        "#print(vp.summary())"
      ],
      "execution_count": 0,
      "outputs": []
    },
    {
      "cell_type": "code",
      "metadata": {
        "colab_type": "code",
        "id": "LtkPGUqp2R0W",
        "colab": {}
      },
      "source": [
        "#vp.conf_int(alpha=0.05)"
      ],
      "execution_count": 0,
      "outputs": []
    },
    {
      "cell_type": "code",
      "metadata": {
        "colab_type": "code",
        "id": "9kxd3xeh2R0n",
        "colab": {}
      },
      "source": [
        "#3vp.conf_int(alpha=0.01)"
      ],
      "execution_count": 0,
      "outputs": []
    },
    {
      "cell_type": "code",
      "metadata": {
        "id": "JHFa4sUyGSSu",
        "colab_type": "code",
        "colab": {
          "base_uri": "https://localhost:8080/",
          "height": 54
        },
        "outputId": "5703349c-2a3e-4f18-c798-6f10298bcf10"
      },
      "source": [
        "'''plt.figure(figsize=(14,8))\n",
        "plt.plot(final_data1.Population, final_data1.Violent, 'go', markersize = 7)\n",
        "plt.title('Violent Crime vs Population', fontsize = 15)\n",
        "plt.plot(final_data1['Population'], vp.predict(), '-b')\n",
        "ax.set(xlabel='Population', ylabel='Violent Crimes')\n",
        "plt.legend()'''"
      ],
      "execution_count": 445,
      "outputs": [
        {
          "output_type": "execute_result",
          "data": {
            "text/plain": [
              "\"plt.figure(figsize=(14,8))\\nplt.plot(final_data1.Population, final_data1.Violent, 'go', markersize = 7)\\nplt.title('Violent Crime vs Population', fontsize = 15)\\nplt.plot(final_data1['Population'], vp.predict(), '-b')\\nax.set(xlabel='Population', ylabel='Violent Crimes')\\nplt.legend()\""
            ]
          },
          "metadata": {
            "tags": []
          },
          "execution_count": 445
        }
      ]
    },
    {
      "cell_type": "code",
      "metadata": {
        "id": "a59PQehhELVm",
        "colab_type": "code",
        "colab": {
          "base_uri": "https://localhost:8080/",
          "height": 54
        },
        "outputId": "f8fb1652-ff84-4b30-9793-02b791842487"
      },
      "source": [
        "'''final_data2 = final_data.copy()\n",
        "final_data2.drop(['Crimes', 'Violent'], axis = 1, inplace = True)\n",
        "final_data2 = final_data2.where(final_data2['Property']>0)\n",
        "final_data2.sort_values(by='Property', ascending = True)\n",
        "final_data2.dropna(inplace = True, how = 'any')'''"
      ],
      "execution_count": 446,
      "outputs": [
        {
          "output_type": "execute_result",
          "data": {
            "text/plain": [
              "\"final_data2 = final_data.copy()\\nfinal_data2.drop(['Crimes', 'Violent'], axis = 1, inplace = True)\\nfinal_data2 = final_data2.where(final_data2['Property']>0)\\nfinal_data2.sort_values(by='Property', ascending = True)\\nfinal_data2.dropna(inplace = True, how = 'any')\""
            ]
          },
          "metadata": {
            "tags": []
          },
          "execution_count": 446
        }
      ]
    },
    {
      "cell_type": "code",
      "metadata": {
        "id": "HFlbNOifcxRu",
        "colab_type": "code",
        "colab": {}
      },
      "source": [
        "#pcpr = smf.ols(formula = 'Property~Population', data = final_data2).fit()\n",
        "#print(pcpr.summary())"
      ],
      "execution_count": 0,
      "outputs": []
    },
    {
      "cell_type": "code",
      "metadata": {
        "colab_type": "code",
        "id": "NSMl22E52mlF",
        "colab": {}
      },
      "source": [
        "#pcpr.conf_int(alpha=0.05)"
      ],
      "execution_count": 0,
      "outputs": []
    },
    {
      "cell_type": "code",
      "metadata": {
        "colab_type": "code",
        "id": "klTChPgF2mlI",
        "colab": {}
      },
      "source": [
        "#pcpr.conf_int(alpha=0.01)"
      ],
      "execution_count": 0,
      "outputs": []
    },
    {
      "cell_type": "code",
      "metadata": {
        "id": "91lubG6JGyS8",
        "colab_type": "code",
        "colab": {
          "base_uri": "https://localhost:8080/",
          "height": 54
        },
        "outputId": "da210e7d-d2ed-45ee-f632-19c942900cc7"
      },
      "source": [
        "'''plt.figure(figsize=(14,8))\n",
        "plt.plot(final_data2.Population, final_data2.Property, 'ro', markersize = 7)\n",
        "plt.title('Property Crime vs Population', fontsize = 15)\n",
        "ax.set(xlabel='Population', ylabel='Property Crime')\n",
        "plt.plot(final_data2['Population'], pcpr.predict(), '-y')\n",
        "plt.legend()'''"
      ],
      "execution_count": 450,
      "outputs": [
        {
          "output_type": "execute_result",
          "data": {
            "text/plain": [
              "\"plt.figure(figsize=(14,8))\\nplt.plot(final_data2.Population, final_data2.Property, 'ro', markersize = 7)\\nplt.title('Property Crime vs Population', fontsize = 15)\\nax.set(xlabel='Population', ylabel='Property Crime')\\nplt.plot(final_data2['Population'], pcpr.predict(), '-y')\\nplt.legend()\""
            ]
          },
          "metadata": {
            "tags": []
          },
          "execution_count": 450
        }
      ]
    },
    {
      "cell_type": "markdown",
      "metadata": {
        "id": "dLil57hgmuLC",
        "colab_type": "text"
      },
      "source": [
        "### Task 2: Find top 5 and last 5 cities by crime log-residual (difference between log-crime and above regression prediction)"
      ]
    },
    {
      "cell_type": "code",
      "metadata": {
        "id": "_wzo3QCNDLr4",
        "colab_type": "code",
        "colab": {
          "base_uri": "https://localhost:8080/",
          "height": 235
        },
        "outputId": "29e89232-ad69-41d3-90f1-9f076490899f"
      },
      "source": [
        "final_data.head()"
      ],
      "execution_count": 451,
      "outputs": [
        {
          "output_type": "execute_result",
          "data": {
            "text/html": [
              "<div>\n",
              "<style scoped>\n",
              "    .dataframe tbody tr th:only-of-type {\n",
              "        vertical-align: middle;\n",
              "    }\n",
              "\n",
              "    .dataframe tbody tr th {\n",
              "        vertical-align: top;\n",
              "    }\n",
              "\n",
              "    .dataframe thead th {\n",
              "        text-align: right;\n",
              "    }\n",
              "</style>\n",
              "<table border=\"1\" class=\"dataframe\">\n",
              "  <thead>\n",
              "    <tr style=\"text-align: right;\">\n",
              "      <th></th>\n",
              "      <th>Crimes</th>\n",
              "      <th>Population</th>\n",
              "      <th>Violent</th>\n",
              "      <th>Property</th>\n",
              "    </tr>\n",
              "    <tr>\n",
              "      <th>msa</th>\n",
              "      <th></th>\n",
              "      <th></th>\n",
              "      <th></th>\n",
              "      <th></th>\n",
              "    </tr>\n",
              "  </thead>\n",
              "  <tbody>\n",
              "    <tr>\n",
              "      <th>26420</th>\n",
              "      <td>11.198352</td>\n",
              "      <td>15.685801</td>\n",
              "      <td>9.287764</td>\n",
              "      <td>11.038191</td>\n",
              "    </tr>\n",
              "    <tr>\n",
              "      <th>33100</th>\n",
              "      <td>11.025784</td>\n",
              "      <td>15.595504</td>\n",
              "      <td>9.090768</td>\n",
              "      <td>10.869806</td>\n",
              "    </tr>\n",
              "    <tr>\n",
              "      <th>36740</th>\n",
              "      <td>10.683661</td>\n",
              "      <td>14.657689</td>\n",
              "      <td>8.882114</td>\n",
              "      <td>10.503285</td>\n",
              "    </tr>\n",
              "    <tr>\n",
              "      <th>45300</th>\n",
              "      <td>10.571035</td>\n",
              "      <td>14.885580</td>\n",
              "      <td>8.373323</td>\n",
              "      <td>10.453313</td>\n",
              "    </tr>\n",
              "    <tr>\n",
              "      <th>24860</th>\n",
              "      <td>10.098890</td>\n",
              "      <td>13.667548</td>\n",
              "      <td>8.106515</td>\n",
              "      <td>9.952278</td>\n",
              "    </tr>\n",
              "  </tbody>\n",
              "</table>\n",
              "</div>"
            ],
            "text/plain": [
              "          Crimes  Population   Violent   Property\n",
              "msa                                              \n",
              "26420  11.198352   15.685801  9.287764  11.038191\n",
              "33100  11.025784   15.595504  9.090768  10.869806\n",
              "36740  10.683661   14.657689  8.882114  10.503285\n",
              "45300  10.571035   14.885580  8.373323  10.453313\n",
              "24860  10.098890   13.667548  8.106515   9.952278"
            ]
          },
          "metadata": {
            "tags": []
          },
          "execution_count": 451
        }
      ]
    },
    {
      "cell_type": "code",
      "metadata": {
        "id": "AgMrpEium3Hi",
        "colab_type": "code",
        "colab": {}
      },
      "source": [
        "final_data['msaName']=final_data.index.map(msaNames)\n",
        "final_data['Residual - Crime']=reg.predict()-final_data['Crimes']"
      ],
      "execution_count": 0,
      "outputs": []
    },
    {
      "cell_type": "code",
      "metadata": {
        "id": "aXXSyPtrbpj0",
        "colab_type": "code",
        "colab": {
          "base_uri": "https://localhost:8080/",
          "height": 391
        },
        "outputId": "02ffd55b-b991-4eee-dcef-627b6bef5ead"
      },
      "source": [
        "print(\"Top 5 cities by crime log-residual\")\n",
        "print(final_data.sort_values(by='Residual - Crime',ascending=False).head(5))\n",
        "print(\"\\n\\nLast 5 cities by crime log-residual\")\n",
        "print(final_data.sort_values(by='Residual - Crime',ascending=True).head(5))"
      ],
      "execution_count": 453,
      "outputs": [
        {
          "output_type": "stream",
          "text": [
            "Top 5 cities by crime log-residual\n",
            "         Crimes  ...  Residual - Crime\n",
            "msa              ...                  \n",
            "38300  2.833213  ...          6.074998\n",
            "14460  2.197225  ...          5.109488\n",
            "37980  6.622736  ...          2.243404\n",
            "38540  4.174387  ...          2.089067\n",
            "39340  5.768321  ...          2.060773\n",
            "\n",
            "[5 rows x 6 columns]\n",
            "\n",
            "\n",
            "Last 5 cities by crime log-residual\n",
            "          Crimes  ...  Residual - Crime\n",
            "msa               ...                  \n",
            "31420   9.294773  ...         -2.204234\n",
            "24860  10.098890  ...         -1.935068\n",
            "37860   9.490545  ...         -1.813378\n",
            "35380   9.919656  ...         -1.751071\n",
            "36740  10.683661  ...         -1.714614\n",
            "\n",
            "[5 rows x 6 columns]\n"
          ],
          "name": "stdout"
        }
      ]
    },
    {
      "cell_type": "markdown",
      "metadata": {
        "id": "K__NioPNm5g_",
        "colab_type": "text"
      },
      "source": [
        "### Task 3:Is there any correlation between residual by income and residual by crime?"
      ]
    },
    {
      "cell_type": "code",
      "metadata": {
        "id": "OLl9kHeknCHJ",
        "colab_type": "code",
        "colab": {
          "base_uri": "https://localhost:8080/",
          "height": 235
        },
        "outputId": "84317e20-9de2-42b8-ec07-d7b777921117"
      },
      "source": [
        "msaDemo.head()"
      ],
      "execution_count": 454,
      "outputs": [
        {
          "output_type": "execute_result",
          "data": {
            "text/html": [
              "<div>\n",
              "<style scoped>\n",
              "    .dataframe tbody tr th:only-of-type {\n",
              "        vertical-align: middle;\n",
              "    }\n",
              "\n",
              "    .dataframe tbody tr th {\n",
              "        vertical-align: top;\n",
              "    }\n",
              "\n",
              "    .dataframe thead th {\n",
              "        text-align: right;\n",
              "    }\n",
              "</style>\n",
              "<table border=\"1\" class=\"dataframe\">\n",
              "  <thead>\n",
              "    <tr style=\"text-align: right;\">\n",
              "      <th></th>\n",
              "      <th>Population</th>\n",
              "      <th>Area</th>\n",
              "      <th>Income</th>\n",
              "    </tr>\n",
              "    <tr>\n",
              "      <th>msa</th>\n",
              "      <th></th>\n",
              "      <th></th>\n",
              "      <th></th>\n",
              "    </tr>\n",
              "  </thead>\n",
              "  <tbody>\n",
              "    <tr>\n",
              "      <th>10180</th>\n",
              "      <td>167171</td>\n",
              "      <td>2743.478027</td>\n",
              "      <td>3740034900</td>\n",
              "    </tr>\n",
              "    <tr>\n",
              "      <th>10420</th>\n",
              "      <td>703017</td>\n",
              "      <td>900.129156</td>\n",
              "      <td>19560044574</td>\n",
              "    </tr>\n",
              "    <tr>\n",
              "      <th>10500</th>\n",
              "      <td>156706</td>\n",
              "      <td>1932.557130</td>\n",
              "      <td>3172077530</td>\n",
              "    </tr>\n",
              "    <tr>\n",
              "      <th>10540</th>\n",
              "      <td>118270</td>\n",
              "      <td>2290.129282</td>\n",
              "      <td>2526602010</td>\n",
              "    </tr>\n",
              "    <tr>\n",
              "      <th>10580</th>\n",
              "      <td>875567</td>\n",
              "      <td>2811.554500</td>\n",
              "      <td>28078339939</td>\n",
              "    </tr>\n",
              "  </tbody>\n",
              "</table>\n",
              "</div>"
            ],
            "text/plain": [
              "       Population         Area       Income\n",
              "msa                                        \n",
              "10180      167171  2743.478027   3740034900\n",
              "10420      703017   900.129156  19560044574\n",
              "10500      156706  1932.557130   3172077530\n",
              "10540      118270  2290.129282   2526602010\n",
              "10580      875567  2811.554500  28078339939"
            ]
          },
          "metadata": {
            "tags": []
          },
          "execution_count": 454
        }
      ]
    },
    {
      "cell_type": "code",
      "metadata": {
        "id": "_aO-LwsfOYGQ",
        "colab_type": "code",
        "colab": {
          "base_uri": "https://localhost:8080/",
          "height": 235
        },
        "outputId": "bd470876-ac9d-4d85-9a58-399cbeeeb355"
      },
      "source": [
        "final_data.head()"
      ],
      "execution_count": 455,
      "outputs": [
        {
          "output_type": "execute_result",
          "data": {
            "text/html": [
              "<div>\n",
              "<style scoped>\n",
              "    .dataframe tbody tr th:only-of-type {\n",
              "        vertical-align: middle;\n",
              "    }\n",
              "\n",
              "    .dataframe tbody tr th {\n",
              "        vertical-align: top;\n",
              "    }\n",
              "\n",
              "    .dataframe thead th {\n",
              "        text-align: right;\n",
              "    }\n",
              "</style>\n",
              "<table border=\"1\" class=\"dataframe\">\n",
              "  <thead>\n",
              "    <tr style=\"text-align: right;\">\n",
              "      <th></th>\n",
              "      <th>Crimes</th>\n",
              "      <th>Population</th>\n",
              "      <th>Violent</th>\n",
              "      <th>Property</th>\n",
              "      <th>msaName</th>\n",
              "      <th>Residual - Crime</th>\n",
              "    </tr>\n",
              "    <tr>\n",
              "      <th>msa</th>\n",
              "      <th></th>\n",
              "      <th></th>\n",
              "      <th></th>\n",
              "      <th></th>\n",
              "      <th></th>\n",
              "      <th></th>\n",
              "    </tr>\n",
              "  </thead>\n",
              "  <tbody>\n",
              "    <tr>\n",
              "      <th>26420</th>\n",
              "      <td>11.198352</td>\n",
              "      <td>15.685801</td>\n",
              "      <td>9.287764</td>\n",
              "      <td>11.038191</td>\n",
              "      <td>Houston-The Woodlands-Sugar Land, TX (Metropol...</td>\n",
              "      <td>-1.393201</td>\n",
              "    </tr>\n",
              "    <tr>\n",
              "      <th>33100</th>\n",
              "      <td>11.025784</td>\n",
              "      <td>15.595504</td>\n",
              "      <td>9.090768</td>\n",
              "      <td>10.869806</td>\n",
              "      <td>Miami-Fort Lauderdale-West Palm Beach, FL (Met...</td>\n",
              "      <td>-1.294066</td>\n",
              "    </tr>\n",
              "    <tr>\n",
              "      <th>36740</th>\n",
              "      <td>10.683661</td>\n",
              "      <td>14.657689</td>\n",
              "      <td>8.882114</td>\n",
              "      <td>10.503285</td>\n",
              "      <td>Orlando-Kissimmee-Sanford, FL (Metropolitan St...</td>\n",
              "      <td>-1.714614</td>\n",
              "    </tr>\n",
              "    <tr>\n",
              "      <th>45300</th>\n",
              "      <td>10.571035</td>\n",
              "      <td>14.885580</td>\n",
              "      <td>8.373323</td>\n",
              "      <td>10.453313</td>\n",
              "      <td>Tampa-St. Petersburg-Clearwater, FL (Metropoli...</td>\n",
              "      <td>-1.416657</td>\n",
              "    </tr>\n",
              "    <tr>\n",
              "      <th>24860</th>\n",
              "      <td>10.098890</td>\n",
              "      <td>13.667548</td>\n",
              "      <td>8.106515</td>\n",
              "      <td>9.952278</td>\n",
              "      <td>Greenville-Anderson-Mauldin, SC (Metropolitan ...</td>\n",
              "      <td>-1.935068</td>\n",
              "    </tr>\n",
              "  </tbody>\n",
              "</table>\n",
              "</div>"
            ],
            "text/plain": [
              "          Crimes  ...  Residual - Crime\n",
              "msa               ...                  \n",
              "26420  11.198352  ...         -1.393201\n",
              "33100  11.025784  ...         -1.294066\n",
              "36740  10.683661  ...         -1.714614\n",
              "45300  10.571035  ...         -1.416657\n",
              "24860  10.098890  ...         -1.935068\n",
              "\n",
              "[5 rows x 6 columns]"
            ]
          },
          "metadata": {
            "tags": []
          },
          "execution_count": 455
        }
      ]
    },
    {
      "cell_type": "code",
      "metadata": {
        "id": "mMs5_mzGH50C",
        "colab_type": "code",
        "colab": {
          "base_uri": "https://localhost:8080/",
          "height": 235
        },
        "outputId": "ad78ffef-476c-4704-f091-d7f87ef50294"
      },
      "source": [
        "msaDemo.head()"
      ],
      "execution_count": 456,
      "outputs": [
        {
          "output_type": "execute_result",
          "data": {
            "text/html": [
              "<div>\n",
              "<style scoped>\n",
              "    .dataframe tbody tr th:only-of-type {\n",
              "        vertical-align: middle;\n",
              "    }\n",
              "\n",
              "    .dataframe tbody tr th {\n",
              "        vertical-align: top;\n",
              "    }\n",
              "\n",
              "    .dataframe thead th {\n",
              "        text-align: right;\n",
              "    }\n",
              "</style>\n",
              "<table border=\"1\" class=\"dataframe\">\n",
              "  <thead>\n",
              "    <tr style=\"text-align: right;\">\n",
              "      <th></th>\n",
              "      <th>Population</th>\n",
              "      <th>Area</th>\n",
              "      <th>Income</th>\n",
              "    </tr>\n",
              "    <tr>\n",
              "      <th>msa</th>\n",
              "      <th></th>\n",
              "      <th></th>\n",
              "      <th></th>\n",
              "    </tr>\n",
              "  </thead>\n",
              "  <tbody>\n",
              "    <tr>\n",
              "      <th>10180</th>\n",
              "      <td>167171</td>\n",
              "      <td>2743.478027</td>\n",
              "      <td>3740034900</td>\n",
              "    </tr>\n",
              "    <tr>\n",
              "      <th>10420</th>\n",
              "      <td>703017</td>\n",
              "      <td>900.129156</td>\n",
              "      <td>19560044574</td>\n",
              "    </tr>\n",
              "    <tr>\n",
              "      <th>10500</th>\n",
              "      <td>156706</td>\n",
              "      <td>1932.557130</td>\n",
              "      <td>3172077530</td>\n",
              "    </tr>\n",
              "    <tr>\n",
              "      <th>10540</th>\n",
              "      <td>118270</td>\n",
              "      <td>2290.129282</td>\n",
              "      <td>2526602010</td>\n",
              "    </tr>\n",
              "    <tr>\n",
              "      <th>10580</th>\n",
              "      <td>875567</td>\n",
              "      <td>2811.554500</td>\n",
              "      <td>28078339939</td>\n",
              "    </tr>\n",
              "  </tbody>\n",
              "</table>\n",
              "</div>"
            ],
            "text/plain": [
              "       Population         Area       Income\n",
              "msa                                        \n",
              "10180      167171  2743.478027   3740034900\n",
              "10420      703017   900.129156  19560044574\n",
              "10500      156706  1932.557130   3172077530\n",
              "10540      118270  2290.129282   2526602010\n",
              "10580      875567  2811.554500  28078339939"
            ]
          },
          "metadata": {
            "tags": []
          },
          "execution_count": 456
        }
      ]
    },
    {
      "cell_type": "code",
      "metadata": {
        "id": "VLqptWjwOvD_",
        "colab_type": "code",
        "colab": {}
      },
      "source": [
        "nd = pd.DataFrame(data = [np.log(msaDemo.Income), np.log(msaDemo.Population)]).T\n",
        "nd.sort_values(by = 'Income', ascending= False, inplace = True)"
      ],
      "execution_count": 0,
      "outputs": []
    },
    {
      "cell_type": "code",
      "metadata": {
        "id": "XoLXRa9XIPPt",
        "colab_type": "code",
        "colab": {
          "base_uri": "https://localhost:8080/",
          "height": 235
        },
        "outputId": "e868599d-e6cc-4b95-8da8-13d31f0631dd"
      },
      "source": [
        "nd.head()"
      ],
      "execution_count": 458,
      "outputs": [
        {
          "output_type": "execute_result",
          "data": {
            "text/html": [
              "<div>\n",
              "<style scoped>\n",
              "    .dataframe tbody tr th:only-of-type {\n",
              "        vertical-align: middle;\n",
              "    }\n",
              "\n",
              "    .dataframe tbody tr th {\n",
              "        vertical-align: top;\n",
              "    }\n",
              "\n",
              "    .dataframe thead th {\n",
              "        text-align: right;\n",
              "    }\n",
              "</style>\n",
              "<table border=\"1\" class=\"dataframe\">\n",
              "  <thead>\n",
              "    <tr style=\"text-align: right;\">\n",
              "      <th></th>\n",
              "      <th>Income</th>\n",
              "      <th>Population</th>\n",
              "    </tr>\n",
              "    <tr>\n",
              "      <th>msa</th>\n",
              "      <th></th>\n",
              "      <th></th>\n",
              "    </tr>\n",
              "  </thead>\n",
              "  <tbody>\n",
              "    <tr>\n",
              "      <th>35620</th>\n",
              "      <td>27.297920</td>\n",
              "      <td>16.804472</td>\n",
              "    </tr>\n",
              "    <tr>\n",
              "      <th>31080</th>\n",
              "      <td>26.677462</td>\n",
              "      <td>16.385106</td>\n",
              "    </tr>\n",
              "    <tr>\n",
              "      <th>16980</th>\n",
              "      <td>26.425884</td>\n",
              "      <td>16.068532</td>\n",
              "    </tr>\n",
              "    <tr>\n",
              "      <th>19100</th>\n",
              "      <td>26.019203</td>\n",
              "      <td>15.718069</td>\n",
              "    </tr>\n",
              "    <tr>\n",
              "      <th>37980</th>\n",
              "      <td>26.009518</td>\n",
              "      <td>15.609823</td>\n",
              "    </tr>\n",
              "  </tbody>\n",
              "</table>\n",
              "</div>"
            ],
            "text/plain": [
              "          Income  Population\n",
              "msa                         \n",
              "35620  27.297920   16.804472\n",
              "31080  26.677462   16.385106\n",
              "16980  26.425884   16.068532\n",
              "19100  26.019203   15.718069\n",
              "37980  26.009518   15.609823"
            ]
          },
          "metadata": {
            "tags": []
          },
          "execution_count": 458
        }
      ]
    },
    {
      "cell_type": "code",
      "metadata": {
        "id": "QIjMH5E9Wuex",
        "colab_type": "code",
        "colab": {
          "base_uri": "https://localhost:8080/",
          "height": 34
        },
        "outputId": "b344b246-6bf5-425e-a20d-6a287ce56404"
      },
      "source": [
        "nd.Income.sum()"
      ],
      "execution_count": 459,
      "outputs": [
        {
          "output_type": "execute_result",
          "data": {
            "text/plain": [
              "8640.86153718504"
            ]
          },
          "metadata": {
            "tags": []
          },
          "execution_count": 459
        }
      ]
    },
    {
      "cell_type": "code",
      "metadata": {
        "id": "8OnWT9JrPMJn",
        "colab_type": "code",
        "colab": {
          "base_uri": "https://localhost:8080/",
          "height": 235
        },
        "outputId": "5989ff29-2597-4c4b-85d1-afe84f9621a2"
      },
      "source": [
        "mf = smf.ols(formula = 'Income~Population', data = nd).fit()\n",
        "mf_predict = mf.predict()\n",
        "msaDemo['Residual - Income'] = mf_predict-nd.Income\n",
        "msaDemo.head()"
      ],
      "execution_count": 460,
      "outputs": [
        {
          "output_type": "execute_result",
          "data": {
            "text/html": [
              "<div>\n",
              "<style scoped>\n",
              "    .dataframe tbody tr th:only-of-type {\n",
              "        vertical-align: middle;\n",
              "    }\n",
              "\n",
              "    .dataframe tbody tr th {\n",
              "        vertical-align: top;\n",
              "    }\n",
              "\n",
              "    .dataframe thead th {\n",
              "        text-align: right;\n",
              "    }\n",
              "</style>\n",
              "<table border=\"1\" class=\"dataframe\">\n",
              "  <thead>\n",
              "    <tr style=\"text-align: right;\">\n",
              "      <th></th>\n",
              "      <th>Population</th>\n",
              "      <th>Area</th>\n",
              "      <th>Income</th>\n",
              "      <th>Residual - Income</th>\n",
              "    </tr>\n",
              "    <tr>\n",
              "      <th>msa</th>\n",
              "      <th></th>\n",
              "      <th></th>\n",
              "      <th></th>\n",
              "      <th></th>\n",
              "    </tr>\n",
              "  </thead>\n",
              "  <tbody>\n",
              "    <tr>\n",
              "      <th>10180</th>\n",
              "      <td>167171</td>\n",
              "      <td>2743.478027</td>\n",
              "      <td>3740034900</td>\n",
              "      <td>0.101101</td>\n",
              "    </tr>\n",
              "    <tr>\n",
              "      <th>10420</th>\n",
              "      <td>703017</td>\n",
              "      <td>900.129156</td>\n",
              "      <td>19560044574</td>\n",
              "      <td>-0.025948</td>\n",
              "    </tr>\n",
              "    <tr>\n",
              "      <th>10500</th>\n",
              "      <td>156706</td>\n",
              "      <td>1932.557130</td>\n",
              "      <td>3172077530</td>\n",
              "      <td>0.197068</td>\n",
              "    </tr>\n",
              "    <tr>\n",
              "      <th>10540</th>\n",
              "      <td>118270</td>\n",
              "      <td>2290.129282</td>\n",
              "      <td>2526602010</td>\n",
              "      <td>0.125354</td>\n",
              "    </tr>\n",
              "    <tr>\n",
              "      <th>10580</th>\n",
              "      <td>875567</td>\n",
              "      <td>2811.554500</td>\n",
              "      <td>28078339939</td>\n",
              "      <td>-0.154064</td>\n",
              "    </tr>\n",
              "  </tbody>\n",
              "</table>\n",
              "</div>"
            ],
            "text/plain": [
              "       Population         Area       Income  Residual - Income\n",
              "msa                                                           \n",
              "10180      167171  2743.478027   3740034900           0.101101\n",
              "10420      703017   900.129156  19560044574          -0.025948\n",
              "10500      156706  1932.557130   3172077530           0.197068\n",
              "10540      118270  2290.129282   2526602010           0.125354\n",
              "10580      875567  2811.554500  28078339939          -0.154064"
            ]
          },
          "metadata": {
            "tags": []
          },
          "execution_count": 460
        }
      ]
    },
    {
      "cell_type": "code",
      "metadata": {
        "id": "6aH4xDwbPhZx",
        "colab_type": "code",
        "colab": {
          "base_uri": "https://localhost:8080/",
          "height": 235
        },
        "outputId": "2f4d8138-4d22-4726-f1ac-561fd18aaa44"
      },
      "source": [
        "temp_holder = msaDemo['Residual - Income']\n",
        "final_data['Residual - Income'] = final_data.index.map(temp_holder)\n",
        "final_data.corr()"
      ],
      "execution_count": 461,
      "outputs": [
        {
          "output_type": "execute_result",
          "data": {
            "text/html": [
              "<div>\n",
              "<style scoped>\n",
              "    .dataframe tbody tr th:only-of-type {\n",
              "        vertical-align: middle;\n",
              "    }\n",
              "\n",
              "    .dataframe tbody tr th {\n",
              "        vertical-align: top;\n",
              "    }\n",
              "\n",
              "    .dataframe thead th {\n",
              "        text-align: right;\n",
              "    }\n",
              "</style>\n",
              "<table border=\"1\" class=\"dataframe\">\n",
              "  <thead>\n",
              "    <tr style=\"text-align: right;\">\n",
              "      <th></th>\n",
              "      <th>Crimes</th>\n",
              "      <th>Population</th>\n",
              "      <th>Violent</th>\n",
              "      <th>Property</th>\n",
              "      <th>Residual - Crime</th>\n",
              "      <th>Residual - Income</th>\n",
              "    </tr>\n",
              "  </thead>\n",
              "  <tbody>\n",
              "    <tr>\n",
              "      <th>Crimes</th>\n",
              "      <td>1.000000</td>\n",
              "      <td>7.010103e-01</td>\n",
              "      <td>0.926145</td>\n",
              "      <td>0.997237</td>\n",
              "      <td>-7.131511e-01</td>\n",
              "      <td>0.140568</td>\n",
              "    </tr>\n",
              "    <tr>\n",
              "      <th>Population</th>\n",
              "      <td>0.701010</td>\n",
              "      <td>1.000000e+00</td>\n",
              "      <td>0.709107</td>\n",
              "      <td>0.680037</td>\n",
              "      <td>1.719812e-15</td>\n",
              "      <td>0.008566</td>\n",
              "    </tr>\n",
              "    <tr>\n",
              "      <th>Violent</th>\n",
              "      <td>0.926145</td>\n",
              "      <td>7.091070e-01</td>\n",
              "      <td>1.000000</td>\n",
              "      <td>0.900994</td>\n",
              "      <td>-6.016303e-01</td>\n",
              "      <td>0.125952</td>\n",
              "    </tr>\n",
              "    <tr>\n",
              "      <th>Property</th>\n",
              "      <td>0.997237</td>\n",
              "      <td>6.800369e-01</td>\n",
              "      <td>0.900994</td>\n",
              "      <td>1.000000</td>\n",
              "      <td>-7.298930e-01</td>\n",
              "      <td>0.138442</td>\n",
              "    </tr>\n",
              "    <tr>\n",
              "      <th>Residual - Crime</th>\n",
              "      <td>-0.713151</td>\n",
              "      <td>1.719812e-15</td>\n",
              "      <td>-0.601630</td>\n",
              "      <td>-0.729893</td>\n",
              "      <td>1.000000e+00</td>\n",
              "      <td>-0.188689</td>\n",
              "    </tr>\n",
              "    <tr>\n",
              "      <th>Residual - Income</th>\n",
              "      <td>0.140568</td>\n",
              "      <td>8.565747e-03</td>\n",
              "      <td>0.125952</td>\n",
              "      <td>0.138442</td>\n",
              "      <td>-1.886889e-01</td>\n",
              "      <td>1.000000</td>\n",
              "    </tr>\n",
              "  </tbody>\n",
              "</table>\n",
              "</div>"
            ],
            "text/plain": [
              "                     Crimes    Population  ...  Residual - Crime  Residual - Income\n",
              "Crimes             1.000000  7.010103e-01  ...     -7.131511e-01           0.140568\n",
              "Population         0.701010  1.000000e+00  ...      1.719812e-15           0.008566\n",
              "Violent            0.926145  7.091070e-01  ...     -6.016303e-01           0.125952\n",
              "Property           0.997237  6.800369e-01  ...     -7.298930e-01           0.138442\n",
              "Residual - Crime  -0.713151  1.719812e-15  ...      1.000000e+00          -0.188689\n",
              "Residual - Income  0.140568  8.565747e-03  ...     -1.886889e-01           1.000000\n",
              "\n",
              "[6 rows x 6 columns]"
            ]
          },
          "metadata": {
            "tags": []
          },
          "execution_count": 461
        }
      ]
    },
    {
      "cell_type": "markdown",
      "metadata": {
        "id": "KbdihSdHRW9J",
        "colab_type": "text"
      },
      "source": [
        "## Correlation between Residual - Crime and Residual Income is -0.188689. There exists an inverse relationship between Crime and Income, as one increases the other keeps decreases."
      ]
    }
  ]
}