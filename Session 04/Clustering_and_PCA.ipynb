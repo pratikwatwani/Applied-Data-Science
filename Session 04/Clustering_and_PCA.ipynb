{
  "nbformat": 4,
  "nbformat_minor": 0,
  "metadata": {
    "anaconda-cloud": {},
    "kernelspec": {
      "display_name": "Python 3",
      "language": "python",
      "name": "python3"
    },
    "language_info": {
      "codemirror_mode": {
        "name": "ipython",
        "version": 2
      },
      "file_extension": ".py",
      "mimetype": "text/x-python",
      "name": "python",
      "nbconvert_exporter": "python",
      "pygments_lexer": "ipython2",
      "version": "2.7.15"
    },
    "colab": {
      "name": "Copy of Clustering and PCA",
      "provenance": [],
      "collapsed_sections": []
    }
  },
  "cells": [
    {
      "cell_type": "code",
      "metadata": {
        "id": "5Cv7Q1nvLSgv",
        "colab_type": "code",
        "colab": {}
      },
      "source": [
        "import pandas as pd\n",
        "import numpy as np\n",
        "from sklearn.datasets import make_classification\n",
        "from sklearn.datasets import make_blobs\n",
        "from matplotlib.pylab import plt\n",
        "%matplotlib inline\n",
        "from sklearn.linear_model import LogisticRegression\n",
        "from sklearn.cluster import KMeans\n",
        "from sklearn.metrics import silhouette_samples, silhouette_score"
      ],
      "execution_count": 0,
      "outputs": []
    },
    {
      "cell_type": "markdown",
      "metadata": {
        "id": "dZj35sNBLSg2",
        "colab_type": "text"
      },
      "source": [
        "## Question 1. \n",
        "\n",
        "Let's explore clustering models on an artificial data set with five features."
      ]
    },
    {
      "cell_type": "code",
      "metadata": {
        "id": "jLlNfkO2LlbQ",
        "colab_type": "code",
        "outputId": "2fc686a9-56f9-4a7e-c673-c8bef2c6e026",
        "colab": {
          "base_uri": "https://localhost:8080/",
          "height": 35
        }
      },
      "source": [
        "from google.colab import drive\n",
        "drive.mount('/content/drive')"
      ],
      "execution_count": 0,
      "outputs": [
        {
          "output_type": "stream",
          "text": [
            "Mounted at /content/drive\n"
          ],
          "name": "stdout"
        }
      ]
    },
    {
      "cell_type": "code",
      "metadata": {
        "id": "QhVmPpnnLSg4",
        "colab_type": "code",
        "outputId": "593b3b48-2a31-481c-a10d-0ebd2d8b6b65",
        "colab": {
          "base_uri": "https://localhost:8080/",
          "height": 198
        }
      },
      "source": [
        "data= pd.read_csv('/content/drive/My Drive/Untitled folder/hw4data1.csv')\n",
        "data.head()"
      ],
      "execution_count": 0,
      "outputs": [
        {
          "output_type": "execute_result",
          "data": {
            "text/html": [
              "<div>\n",
              "<style scoped>\n",
              "    .dataframe tbody tr th:only-of-type {\n",
              "        vertical-align: middle;\n",
              "    }\n",
              "\n",
              "    .dataframe tbody tr th {\n",
              "        vertical-align: top;\n",
              "    }\n",
              "\n",
              "    .dataframe thead th {\n",
              "        text-align: right;\n",
              "    }\n",
              "</style>\n",
              "<table border=\"1\" class=\"dataframe\">\n",
              "  <thead>\n",
              "    <tr style=\"text-align: right;\">\n",
              "      <th></th>\n",
              "      <th>1</th>\n",
              "      <th>2</th>\n",
              "      <th>3</th>\n",
              "      <th>4</th>\n",
              "      <th>5</th>\n",
              "    </tr>\n",
              "  </thead>\n",
              "  <tbody>\n",
              "    <tr>\n",
              "      <th>0</th>\n",
              "      <td>0.624358</td>\n",
              "      <td>-0.007694</td>\n",
              "      <td>0.157510</td>\n",
              "      <td>0.440554</td>\n",
              "      <td>0.157423</td>\n",
              "    </tr>\n",
              "    <tr>\n",
              "      <th>1</th>\n",
              "      <td>2.090884</td>\n",
              "      <td>7.405251</td>\n",
              "      <td>2.450357</td>\n",
              "      <td>3.191506</td>\n",
              "      <td>2.426240</td>\n",
              "    </tr>\n",
              "    <tr>\n",
              "      <th>2</th>\n",
              "      <td>2.498841</td>\n",
              "      <td>7.292161</td>\n",
              "      <td>2.468256</td>\n",
              "      <td>2.975176</td>\n",
              "      <td>2.710137</td>\n",
              "    </tr>\n",
              "    <tr>\n",
              "      <th>3</th>\n",
              "      <td>2.009998</td>\n",
              "      <td>7.408158</td>\n",
              "      <td>2.486901</td>\n",
              "      <td>2.863235</td>\n",
              "      <td>2.561799</td>\n",
              "    </tr>\n",
              "    <tr>\n",
              "      <th>4</th>\n",
              "      <td>2.236813</td>\n",
              "      <td>7.245803</td>\n",
              "      <td>2.181933</td>\n",
              "      <td>2.825106</td>\n",
              "      <td>2.599706</td>\n",
              "    </tr>\n",
              "  </tbody>\n",
              "</table>\n",
              "</div>"
            ],
            "text/plain": [
              "          1         2         3         4         5\n",
              "0  0.624358 -0.007694  0.157510  0.440554  0.157423\n",
              "1  2.090884  7.405251  2.450357  3.191506  2.426240\n",
              "2  2.498841  7.292161  2.468256  2.975176  2.710137\n",
              "3  2.009998  7.408158  2.486901  2.863235  2.561799\n",
              "4  2.236813  7.245803  2.181933  2.825106  2.599706"
            ]
          },
          "metadata": {
            "tags": []
          },
          "execution_count": 41
        }
      ]
    },
    {
      "cell_type": "code",
      "metadata": {
        "id": "CBfjBcgIRXlS",
        "colab_type": "code",
        "outputId": "4040719f-0b9c-442c-f938-61d7e051e0cc",
        "colab": {
          "base_uri": "https://localhost:8080/",
          "height": 198
        }
      },
      "source": [
        "data.columns = [\"A\", \"B\", \"C\", \"D\", \"E\"]\n",
        "data.head()"
      ],
      "execution_count": 0,
      "outputs": [
        {
          "output_type": "execute_result",
          "data": {
            "text/html": [
              "<div>\n",
              "<style scoped>\n",
              "    .dataframe tbody tr th:only-of-type {\n",
              "        vertical-align: middle;\n",
              "    }\n",
              "\n",
              "    .dataframe tbody tr th {\n",
              "        vertical-align: top;\n",
              "    }\n",
              "\n",
              "    .dataframe thead th {\n",
              "        text-align: right;\n",
              "    }\n",
              "</style>\n",
              "<table border=\"1\" class=\"dataframe\">\n",
              "  <thead>\n",
              "    <tr style=\"text-align: right;\">\n",
              "      <th></th>\n",
              "      <th>A</th>\n",
              "      <th>B</th>\n",
              "      <th>C</th>\n",
              "      <th>D</th>\n",
              "      <th>E</th>\n",
              "    </tr>\n",
              "  </thead>\n",
              "  <tbody>\n",
              "    <tr>\n",
              "      <th>0</th>\n",
              "      <td>0.624358</td>\n",
              "      <td>-0.007694</td>\n",
              "      <td>0.157510</td>\n",
              "      <td>0.440554</td>\n",
              "      <td>0.157423</td>\n",
              "    </tr>\n",
              "    <tr>\n",
              "      <th>1</th>\n",
              "      <td>2.090884</td>\n",
              "      <td>7.405251</td>\n",
              "      <td>2.450357</td>\n",
              "      <td>3.191506</td>\n",
              "      <td>2.426240</td>\n",
              "    </tr>\n",
              "    <tr>\n",
              "      <th>2</th>\n",
              "      <td>2.498841</td>\n",
              "      <td>7.292161</td>\n",
              "      <td>2.468256</td>\n",
              "      <td>2.975176</td>\n",
              "      <td>2.710137</td>\n",
              "    </tr>\n",
              "    <tr>\n",
              "      <th>3</th>\n",
              "      <td>2.009998</td>\n",
              "      <td>7.408158</td>\n",
              "      <td>2.486901</td>\n",
              "      <td>2.863235</td>\n",
              "      <td>2.561799</td>\n",
              "    </tr>\n",
              "    <tr>\n",
              "      <th>4</th>\n",
              "      <td>2.236813</td>\n",
              "      <td>7.245803</td>\n",
              "      <td>2.181933</td>\n",
              "      <td>2.825106</td>\n",
              "      <td>2.599706</td>\n",
              "    </tr>\n",
              "  </tbody>\n",
              "</table>\n",
              "</div>"
            ],
            "text/plain": [
              "          A         B         C         D         E\n",
              "0  0.624358 -0.007694  0.157510  0.440554  0.157423\n",
              "1  2.090884  7.405251  2.450357  3.191506  2.426240\n",
              "2  2.498841  7.292161  2.468256  2.975176  2.710137\n",
              "3  2.009998  7.408158  2.486901  2.863235  2.561799\n",
              "4  2.236813  7.245803  2.181933  2.825106  2.599706"
            ]
          },
          "metadata": {
            "tags": []
          },
          "execution_count": 42
        }
      ]
    },
    {
      "cell_type": "code",
      "metadata": {
        "id": "f5PlqtJ1ZN2c",
        "colab_type": "code",
        "colab": {}
      },
      "source": [
        "from sklearn.preprocessing import StandardScaler\n",
        "scaler = StandardScaler()\n",
        "data_values = data.values\n",
        "scaled_data = scaler.fit_transform(data_values)\n",
        "normalized_data = pd.DataFrame(scaled_data)"
      ],
      "execution_count": 0,
      "outputs": []
    },
    {
      "cell_type": "code",
      "metadata": {
        "id": "yqYxjW4yajQT",
        "colab_type": "code",
        "outputId": "cd9eeed3-659e-493a-c6b5-ebafa3064996",
        "colab": {
          "base_uri": "https://localhost:8080/",
          "height": 288
        }
      },
      "source": [
        "normalized_data.describe()"
      ],
      "execution_count": 0,
      "outputs": [
        {
          "output_type": "execute_result",
          "data": {
            "text/html": [
              "<div>\n",
              "<style scoped>\n",
              "    .dataframe tbody tr th:only-of-type {\n",
              "        vertical-align: middle;\n",
              "    }\n",
              "\n",
              "    .dataframe tbody tr th {\n",
              "        vertical-align: top;\n",
              "    }\n",
              "\n",
              "    .dataframe thead th {\n",
              "        text-align: right;\n",
              "    }\n",
              "</style>\n",
              "<table border=\"1\" class=\"dataframe\">\n",
              "  <thead>\n",
              "    <tr style=\"text-align: right;\">\n",
              "      <th></th>\n",
              "      <th>0</th>\n",
              "      <th>1</th>\n",
              "      <th>2</th>\n",
              "      <th>3</th>\n",
              "      <th>4</th>\n",
              "    </tr>\n",
              "  </thead>\n",
              "  <tbody>\n",
              "    <tr>\n",
              "      <th>count</th>\n",
              "      <td>1.000000e+02</td>\n",
              "      <td>1.000000e+02</td>\n",
              "      <td>1.000000e+02</td>\n",
              "      <td>1.000000e+02</td>\n",
              "      <td>1.000000e+02</td>\n",
              "    </tr>\n",
              "    <tr>\n",
              "      <th>mean</th>\n",
              "      <td>-6.661338e-18</td>\n",
              "      <td>-4.773959e-17</td>\n",
              "      <td>1.953993e-16</td>\n",
              "      <td>-9.547918e-17</td>\n",
              "      <td>-4.440892e-18</td>\n",
              "    </tr>\n",
              "    <tr>\n",
              "      <th>std</th>\n",
              "      <td>1.005038e+00</td>\n",
              "      <td>1.005038e+00</td>\n",
              "      <td>1.005038e+00</td>\n",
              "      <td>1.005038e+00</td>\n",
              "      <td>1.005038e+00</td>\n",
              "    </tr>\n",
              "    <tr>\n",
              "      <th>min</th>\n",
              "      <td>-1.665562e+00</td>\n",
              "      <td>-1.238114e+00</td>\n",
              "      <td>-1.772224e+00</td>\n",
              "      <td>-1.772609e+00</td>\n",
              "      <td>-1.768990e+00</td>\n",
              "    </tr>\n",
              "    <tr>\n",
              "      <th>25%</th>\n",
              "      <td>-5.019173e-01</td>\n",
              "      <td>-7.555512e-01</td>\n",
              "      <td>-8.268695e-01</td>\n",
              "      <td>-7.207487e-01</td>\n",
              "      <td>-7.111307e-01</td>\n",
              "    </tr>\n",
              "    <tr>\n",
              "      <th>50%</th>\n",
              "      <td>8.715160e-02</td>\n",
              "      <td>-3.172191e-01</td>\n",
              "      <td>1.080302e-01</td>\n",
              "      <td>1.022621e-01</td>\n",
              "      <td>1.452977e-01</td>\n",
              "    </tr>\n",
              "    <tr>\n",
              "      <th>75%</th>\n",
              "      <td>7.818621e-01</td>\n",
              "      <td>3.476006e-01</td>\n",
              "      <td>8.826871e-01</td>\n",
              "      <td>8.404849e-01</td>\n",
              "      <td>8.508535e-01</td>\n",
              "    </tr>\n",
              "    <tr>\n",
              "      <th>max</th>\n",
              "      <td>1.269125e+00</td>\n",
              "      <td>1.767590e+00</td>\n",
              "      <td>1.672280e+00</td>\n",
              "      <td>1.633046e+00</td>\n",
              "      <td>1.671845e+00</td>\n",
              "    </tr>\n",
              "  </tbody>\n",
              "</table>\n",
              "</div>"
            ],
            "text/plain": [
              "                  0             1             2             3             4\n",
              "count  1.000000e+02  1.000000e+02  1.000000e+02  1.000000e+02  1.000000e+02\n",
              "mean  -6.661338e-18 -4.773959e-17  1.953993e-16 -9.547918e-17 -4.440892e-18\n",
              "std    1.005038e+00  1.005038e+00  1.005038e+00  1.005038e+00  1.005038e+00\n",
              "min   -1.665562e+00 -1.238114e+00 -1.772224e+00 -1.772609e+00 -1.768990e+00\n",
              "25%   -5.019173e-01 -7.555512e-01 -8.268695e-01 -7.207487e-01 -7.111307e-01\n",
              "50%    8.715160e-02 -3.172191e-01  1.080302e-01  1.022621e-01  1.452977e-01\n",
              "75%    7.818621e-01  3.476006e-01  8.826871e-01  8.404849e-01  8.508535e-01\n",
              "max    1.269125e+00  1.767590e+00  1.672280e+00  1.633046e+00  1.671845e+00"
            ]
          },
          "metadata": {
            "tags": []
          },
          "execution_count": 44
        }
      ]
    },
    {
      "cell_type": "code",
      "metadata": {
        "id": "pBkIaxI-cxbJ",
        "colab_type": "code",
        "colab": {}
      },
      "source": [
        "u,s,v = np.linalg.svd(normalized_data)"
      ],
      "execution_count": 0,
      "outputs": []
    },
    {
      "cell_type": "code",
      "metadata": {
        "id": "AJssDZbEdMu0",
        "colab_type": "code",
        "outputId": "6fb0da0c-5f48-4f69-ad0d-392dc167bae9",
        "colab": {
          "base_uri": "https://localhost:8080/",
          "height": 108
        }
      },
      "source": [
        "for k in range(0, len(normalized_data.columns)):\n",
        "  print(\"For K = {} ---> variance retained is {}\".format(k, s[k]/s.sum()))"
      ],
      "execution_count": 0,
      "outputs": [
        {
          "output_type": "stream",
          "text": [
            "For K = 0 ---> variance retained is 0.6430005025538671\n",
            "For K = 1 ---> variance retained is 0.20527941703154506\n",
            "For K = 2 ---> variance retained is 0.0607154628974783\n",
            "For K = 3 ---> variance retained is 0.04943916309730539\n",
            "For K = 4 ---> variance retained is 0.04156545441980416\n"
          ],
          "name": "stdout"
        }
      ]
    },
    {
      "cell_type": "markdown",
      "metadata": {
        "id": "Y2VEPdeUlqhw",
        "colab_type": "text"
      },
      "source": [
        "\n",
        "# There is no point in implementin PCA. The highest percent of variance that can be retained is 64.30%\n",
        "\n",
        "# However, implementing PCA with 2 components"
      ]
    },
    {
      "cell_type": "code",
      "metadata": {
        "id": "zd9jOfwBNfu7",
        "colab_type": "code",
        "cellView": "both",
        "colab": {}
      },
      "source": [
        "#this\n",
        "from sklearn.decomposition import PCA\n",
        "\n",
        "pcdat = PCA(n_components = 2).fit_transform(normalized_data)\n"
      ],
      "execution_count": 0,
      "outputs": []
    },
    {
      "cell_type": "code",
      "metadata": {
        "id": "AcPTPITsNno6",
        "colab_type": "code",
        "outputId": "0e45a179-8fac-4797-bdf3-dc427b11f18d",
        "colab": {
          "base_uri": "https://localhost:8080/",
          "height": 198
        }
      },
      "source": [
        "nd = pd.DataFrame(pcdat)\n",
        "nd.index = data.index\n",
        "nd.columns = ['PC1', 'PC2']\n",
        "nd.head()"
      ],
      "execution_count": 0,
      "outputs": [
        {
          "output_type": "execute_result",
          "data": {
            "text/html": [
              "<div>\n",
              "<style scoped>\n",
              "    .dataframe tbody tr th:only-of-type {\n",
              "        vertical-align: middle;\n",
              "    }\n",
              "\n",
              "    .dataframe tbody tr th {\n",
              "        vertical-align: top;\n",
              "    }\n",
              "\n",
              "    .dataframe thead th {\n",
              "        text-align: right;\n",
              "    }\n",
              "</style>\n",
              "<table border=\"1\" class=\"dataframe\">\n",
              "  <thead>\n",
              "    <tr style=\"text-align: right;\">\n",
              "      <th></th>\n",
              "      <th>PC1</th>\n",
              "      <th>PC2</th>\n",
              "    </tr>\n",
              "  </thead>\n",
              "  <tbody>\n",
              "    <tr>\n",
              "      <th>0</th>\n",
              "      <td>0.510642</td>\n",
              "      <td>0.417088</td>\n",
              "    </tr>\n",
              "    <tr>\n",
              "      <th>1</th>\n",
              "      <td>-2.743279</td>\n",
              "      <td>-0.753203</td>\n",
              "    </tr>\n",
              "    <tr>\n",
              "      <th>2</th>\n",
              "      <td>-2.807171</td>\n",
              "      <td>-0.640288</td>\n",
              "    </tr>\n",
              "    <tr>\n",
              "      <th>3</th>\n",
              "      <td>-2.688149</td>\n",
              "      <td>-0.767065</td>\n",
              "    </tr>\n",
              "    <tr>\n",
              "      <th>4</th>\n",
              "      <td>-2.606136</td>\n",
              "      <td>-0.683608</td>\n",
              "    </tr>\n",
              "  </tbody>\n",
              "</table>\n",
              "</div>"
            ],
            "text/plain": [
              "        PC1       PC2\n",
              "0  0.510642  0.417088\n",
              "1 -2.743279 -0.753203\n",
              "2 -2.807171 -0.640288\n",
              "3 -2.688149 -0.767065\n",
              "4 -2.606136 -0.683608"
            ]
          },
          "metadata": {
            "tags": []
          },
          "execution_count": 48
        }
      ]
    },
    {
      "cell_type": "code",
      "metadata": {
        "id": "Dwcu8Ii_SQYv",
        "colab_type": "code",
        "outputId": "86616189-da98-4c42-dfd2-eb3cc08bf38b",
        "colab": {
          "base_uri": "https://localhost:8080/",
          "height": 337
        }
      },
      "source": [
        "ax = nd.plot(kind='scatter', x='PC1', y='PC2', figsize = (5,5))\n",
        "\n"
      ],
      "execution_count": 0,
      "outputs": [
        {
          "output_type": "display_data",
          "data": {
            "image/png": "[encoded data removed]",
            "text/plain": [
              "<Figure size 360x360 with 1 Axes>"
            ]
          },
          "metadata": {
            "tags": []
          }
        }
      ]
    },
    {
      "cell_type": "code",
      "metadata": {
        "id": "qIi-w85Xak0_",
        "colab_type": "code",
        "colab": {}
      },
      "source": [
        ""
      ],
      "execution_count": 0,
      "outputs": []
    },
    {
      "cell_type": "code",
      "metadata": {
        "id": "HUoOGU86iBZp",
        "colab_type": "code",
        "outputId": "b5279e92-f287-4185-80f9-27a16d2d5964",
        "colab": {
          "base_uri": "https://localhost:8080/",
          "height": 108
        }
      },
      "source": [
        "#performing k-means\n",
        "from sklearn.cluster import KMeans\n",
        "\n",
        "#creating a k-means model with 4 clusters\n",
        "kmeans = KMeans(n_clusters=4, max_iter=1000, random_state=428)\n",
        "kmeans.fit(nd)\n",
        "labels = kmeans.predict(nd)\n",
        "\n",
        "labels"
      ],
      "execution_count": 0,
      "outputs": [
        {
          "output_type": "execute_result",
          "data": {
            "text/plain": [
              "array([2, 0, 0, 0, 0, 0, 0, 0, 0, 0, 0, 0, 0, 0, 0, 0, 0, 0, 0, 0, 0, 0,\n",
              "       0, 0, 0, 3, 3, 3, 0, 3, 3, 3, 3, 3, 3, 3, 3, 3, 3, 3, 3, 3, 3, 3,\n",
              "       3, 3, 3, 3, 3, 2, 3, 2, 2, 2, 3, 2, 2, 2, 2, 2, 2, 2, 2, 2, 2, 2,\n",
              "       2, 2, 2, 2, 2, 2, 2, 2, 2, 1, 1, 1, 1, 1, 1, 1, 1, 1, 1, 1, 1, 1,\n",
              "       1, 1, 1, 1, 1, 1, 1, 1, 1, 1, 1, 1], dtype=int32)"
            ]
          },
          "metadata": {
            "tags": []
          },
          "execution_count": 50
        }
      ]
    },
    {
      "cell_type": "markdown",
      "metadata": {
        "id": "M8E5jy9FqRLU",
        "colab_type": "text"
      },
      "source": [
        ""
      ]
    },
    {
      "cell_type": "code",
      "metadata": {
        "id": "fKyasYyBkPZT",
        "colab_type": "code",
        "cellView": "form",
        "outputId": "03dd14e7-dbd5-4b0f-9783-eed2c5d09a7e",
        "colab": {
          "base_uri": "https://localhost:8080/",
          "height": 171
        }
      },
      "source": [
        "#@title\n",
        "dt[:,0]"
      ],
      "execution_count": 0,
      "outputs": [
        {
          "output_type": "error",
          "ename": "NameError",
          "evalue": "ignored",
          "traceback": [
            "\u001b[0;31m---------------------------------------------------------------------------\u001b[0m",
            "\u001b[0;31mNameError\u001b[0m                                 Traceback (most recent call last)",
            "\u001b[0;32m<ipython-input-51-48f0bc853831>\u001b[0m in \u001b[0;36m<module>\u001b[0;34m()\u001b[0m\n\u001b[0;32m----> 1\u001b[0;31m \u001b[0mdt\u001b[0m\u001b[0;34m[\u001b[0m\u001b[0;34m:\u001b[0m\u001b[0;34m,\u001b[0m\u001b[0;36m0\u001b[0m\u001b[0;34m]\u001b[0m\u001b[0;34m\u001b[0m\u001b[0;34m\u001b[0m\u001b[0m\n\u001b[0m",
            "\u001b[0;31mNameError\u001b[0m: name 'dt' is not defined"
          ]
        }
      ]
    },
    {
      "cell_type": "code",
      "metadata": {
        "id": "nq0Q-M2WdTz1",
        "colab_type": "code",
        "outputId": "42c54f18-3055-4d2b-e3ce-7356ed39cdd8",
        "colab": {
          "base_uri": "https://localhost:8080/",
          "height": 499
        }
      },
      "source": [
        "\n",
        "\n",
        "#plot\n",
        "plt.clf\n",
        "plt.figure(figsize = (8,8))\n",
        "centers = kmeans.cluster_centers_\n",
        "\n",
        "plt.scatter(np.asarray(nd.loc[:, 'PC1']), np.asarray(nd.loc[:, 'PC2']), c=labels, s=22, cmap='Spectral')\n",
        "\n",
        "centers = kmeans.cluster_centers_\n",
        "plt.scatter(centers[:, 0], centers[:, 1], marker = 'x', c='black', s=1000, alpha=0.7);\n",
        "\n",
        "plt.title('K-means clustering (PCA-reduced data)')\n",
        "\n",
        "\n",
        "plt.show()"
      ],
      "execution_count": 0,
      "outputs": [
        {
          "output_type": "display_data",
          "data": {
            "image/png": "[encoded data removed]",
            "text/plain": [
              "<Figure size 576x576 with 1 Axes>"
            ]
          },
          "metadata": {
            "tags": []
          }
        }
      ]
    },
    {
      "cell_type": "code",
      "metadata": {
        "id": "a4qStqzfx9wz",
        "colab_type": "code",
        "outputId": "fe1ce183-b55f-4aad-9c40-94d9ef91e068",
        "colab": {
          "base_uri": "https://localhost:8080/",
          "height": 163
        }
      },
      "source": [
        "info = {}\n",
        "for num in range(2,10):\n",
        "  k_means = KMeans(n_clusters=num, max_iter=1000, random_state=55).fit(nd)\n",
        "  labels = k_means.labels_\n",
        "  s_score = silhouette_score(nd, labels)\n",
        "  print(\"S-score for cluster {} is {}\".format(num,s_score))"
      ],
      "execution_count": 0,
      "outputs": [
        {
          "output_type": "stream",
          "text": [
            "S-score for cluster 2 is 0.6093029782970728\n",
            "S-score for cluster 3 is 0.7455101910713924\n",
            "S-score for cluster 4 is 0.8821714922362172\n",
            "S-score for cluster 5 is 0.7820319915609574\n",
            "S-score for cluster 6 is 0.6095526652944923\n",
            "S-score for cluster 7 is 0.66330025213264\n",
            "S-score for cluster 8 is 0.5004286875989709\n",
            "S-score for cluster 9 is 0.3679457126551035\n"
          ],
          "name": "stdout"
        }
      ]
    },
    {
      "cell_type": "code",
      "metadata": {
        "id": "fiYw6nw0d4mK",
        "colab_type": "code",
        "colab": {}
      },
      "source": [
        "from scipy.spatial.distance import cdist, pdist\n",
        "from sklearn.cluster import KMeans\n",
        "\n",
        "def elbow(data,K):\n",
        "    KM = [KMeans(n_clusters=k).fit(data) for k in K]\n",
        "   \n",
        "    centroids = [k.cluster_centers_ for k in KM]\n",
        "\n",
        "    global D_k \n",
        "    D_k = [cdist(data, cent, 'euclidean') for cent in centroids]\n",
        "   \n",
        "\n",
        "    globals()['dist'] = [np.min(D,axis=1) for D in D_k]\n",
        "\n",
        "\n",
        "    avgWithinSS = [sum(d)/data.shape[0] for d in dist]\n",
        "    \n",
        "    \n",
        "\n",
        "    fig = plt.figure(figsize = (10,10))\n",
        "    ax = fig.add_subplot(111)\n",
        "    ax.plot(K, avgWithinSS, 'r^-')\n",
        "    plt.grid(True)\n",
        "    plt.xlabel('Number of clusters')\n",
        "    plt.ylabel('Average within-cluster sum of squares')\n",
        "    plt.title('Elbow for KMeans clustering')\n",
        "    plt.show()\n",
        "\n",
        "    \n"
      ],
      "execution_count": 0,
      "outputs": []
    },
    {
      "cell_type": "code",
      "metadata": {
        "id": "rIlYPbWczK-2",
        "colab_type": "code",
        "outputId": "b2755e48-3f05-482e-c895-4329bd016063",
        "colab": {
          "base_uri": "https://localhost:8080/",
          "height": 621
        }
      },
      "source": [
        "elbow(nd, range(1,10))\n"
      ],
      "execution_count": 0,
      "outputs": [
        {
          "output_type": "display_data",
          "data": {
            "image/png": "[encoded data removed]",
            "text/plain": [
              "<Figure size 720x720 with 1 Axes>"
            ]
          },
          "metadata": {
            "tags": []
          }
        }
      ]
    },
    {
      "cell_type": "code",
      "metadata": {
        "id": "f2gS71YMYWdy",
        "colab_type": "code",
        "outputId": "973857d8-c5a1-4576-c95b-ea3210c8335e",
        "colab": {
          "base_uri": "https://localhost:8080/",
          "height": 108
        }
      },
      "source": [
        "from sklearn.mixture import GaussianMixture as gm\n",
        "gaus_learn= gm(n_components=4,random_state=2710).fit(nd)\n",
        "gaus_pred = gaus_learn.predict(nd)\n",
        "gaus_pred"
      ],
      "execution_count": 0,
      "outputs": [
        {
          "output_type": "execute_result",
          "data": {
            "text/plain": [
              "array([2, 3, 3, 3, 3, 3, 3, 3, 3, 3, 3, 3, 3, 3, 3, 3, 3, 3, 3, 3, 3, 3,\n",
              "       3, 3, 3, 1, 1, 1, 3, 1, 1, 1, 1, 1, 1, 1, 1, 1, 1, 1, 1, 1, 1, 1,\n",
              "       1, 1, 1, 1, 1, 2, 1, 2, 2, 2, 1, 2, 2, 2, 2, 2, 2, 2, 2, 2, 2, 2,\n",
              "       2, 2, 2, 2, 2, 2, 2, 2, 2, 0, 0, 0, 0, 0, 0, 0, 0, 0, 0, 0, 0, 0,\n",
              "       0, 0, 0, 0, 0, 0, 0, 0, 0, 0, 0, 0])"
            ]
          },
          "metadata": {
            "tags": []
          },
          "execution_count": 56
        }
      ]
    },
    {
      "cell_type": "code",
      "metadata": {
        "id": "g3zb9PIrdcOQ",
        "colab_type": "code",
        "outputId": "6464ede8-e99c-4a4a-8bc1-bf8f056b4e59",
        "colab": {
          "base_uri": "https://localhost:8080/",
          "height": 499
        }
      },
      "source": [
        "plt.clf\n",
        "plt.figure(figsize = (8,8))\n",
        "\n",
        "plt.scatter(np.asarray(nd.loc[:, 'PC1']), np.asarray(nd.loc[:, 'PC2']), c=gaus_pred, s=22, cmap='plasma')\n",
        "\n",
        "plt.title('Gaussian Mixture on PCA reduced data')\n",
        "centers = kmeans.cluster_centers_\n",
        "plt.scatter(centers[:, 0], centers[:, 1], marker = 'x', c='black', s=1000, alpha=0.7);\n",
        "\n",
        "\n",
        "\n",
        "plt.show()"
      ],
      "execution_count": 0,
      "outputs": [
        {
          "output_type": "display_data",
          "data": {
            "image/png": "[encoded data removed]",
            "text/plain": [
              "<Figure size 576x576 with 1 Axes>"
            ]
          },
          "metadata": {
            "tags": []
          }
        }
      ]
    },
    {
      "cell_type": "markdown",
      "metadata": {
        "id": "4_Adyc2NLSg_",
        "colab_type": "text"
      },
      "source": [
        "## Question 2. "
      ]
    },
    {
      "cell_type": "markdown",
      "metadata": {
        "id": "jVj3RTv8LShA",
        "colab_type": "text"
      },
      "source": [
        "The following data comes from a larger set detailing every motor vehicle collision in NYC (available [here](https://data.cityofnewyork.us/Public-Safety/NYPD-Motor-Vehicle-Collisions/h9gi-nx95)). This particular subset only considers collisions that occurred on October 31, 2017.\n",
        "\n",
        "You have 680 collision records in the file ‘NYPD_Motor_Vehicle_Collisions_Duplicates.csv’, but you realize that some of these are actually duplicates resulting from a technical error. You know that there are over 600 unique records in the file, but you want to determine the exact number. Try k-means with 600-680 clusters applying Elbow method and analyzing Silhouette scores."
      ]
    },
    {
      "cell_type": "code",
      "metadata": {
        "id": "WhblImWnLShB",
        "colab_type": "code",
        "outputId": "aceafdf6-1c1c-479a-a730-c3a04aa583d3",
        "colab": {
          "base_uri": "https://localhost:8080/",
          "height": 443
        }
      },
      "source": [
        "nydata = pd.read_csv('/content/drive/My Drive/Untitled folder/NYPD_Motor_Vehicle_Collisions_Duplicates.csv').fillna('')\n",
        "nydata.head()"
      ],
      "execution_count": 0,
      "outputs": [
        {
          "output_type": "execute_result",
          "data": {
            "text/html": [
              "<div>\n",
              "<style scoped>\n",
              "    .dataframe tbody tr th:only-of-type {\n",
              "        vertical-align: middle;\n",
              "    }\n",
              "\n",
              "    .dataframe tbody tr th {\n",
              "        vertical-align: top;\n",
              "    }\n",
              "\n",
              "    .dataframe thead th {\n",
              "        text-align: right;\n",
              "    }\n",
              "</style>\n",
              "<table border=\"1\" class=\"dataframe\">\n",
              "  <thead>\n",
              "    <tr style=\"text-align: right;\">\n",
              "      <th></th>\n",
              "      <th>DATE</th>\n",
              "      <th>TIME</th>\n",
              "      <th>BOROUGH</th>\n",
              "      <th>ZIP CODE</th>\n",
              "      <th>LATITUDE</th>\n",
              "      <th>LONGITUDE</th>\n",
              "      <th>LOCATION</th>\n",
              "      <th>ON STREET NAME</th>\n",
              "      <th>CROSS STREET NAME</th>\n",
              "      <th>OFF STREET NAME</th>\n",
              "      <th>NUMBER OF PERSONS INJURED</th>\n",
              "      <th>NUMBER OF PERSONS KILLED</th>\n",
              "      <th>NUMBER OF PEDESTRIANS INJURED</th>\n",
              "      <th>NUMBER OF PEDESTRIANS KILLED</th>\n",
              "      <th>NUMBER OF CYCLIST INJURED</th>\n",
              "      <th>NUMBER OF CYCLIST KILLED</th>\n",
              "      <th>NUMBER OF MOTORIST INJURED</th>\n",
              "      <th>NUMBER OF MOTORIST KILLED</th>\n",
              "      <th>CONTRIBUTING FACTOR VEHICLE 1</th>\n",
              "      <th>CONTRIBUTING FACTOR VEHICLE 2</th>\n",
              "      <th>CONTRIBUTING FACTOR VEHICLE 3</th>\n",
              "      <th>CONTRIBUTING FACTOR VEHICLE 4</th>\n",
              "      <th>CONTRIBUTING FACTOR VEHICLE 5</th>\n",
              "      <th>UNIQUE KEY</th>\n",
              "      <th>VEHICLE TYPE CODE 1</th>\n",
              "      <th>VEHICLE TYPE CODE 2</th>\n",
              "      <th>VEHICLE TYPE CODE 3</th>\n",
              "      <th>VEHICLE TYPE CODE 4</th>\n",
              "      <th>VEHICLE TYPE CODE 5</th>\n",
              "    </tr>\n",
              "  </thead>\n",
              "  <tbody>\n",
              "    <tr>\n",
              "      <th>0</th>\n",
              "      <td>10/31/2017</td>\n",
              "      <td>0:00</td>\n",
              "      <td></td>\n",
              "      <td></td>\n",
              "      <td>40.7331</td>\n",
              "      <td>-73.9548</td>\n",
              "      <td>(40.733135, -73.954765)</td>\n",
              "      <td>MANHATTAN AVENUE</td>\n",
              "      <td></td>\n",
              "      <td></td>\n",
              "      <td>0</td>\n",
              "      <td>0</td>\n",
              "      <td>0</td>\n",
              "      <td>0</td>\n",
              "      <td>0</td>\n",
              "      <td>0</td>\n",
              "      <td>0</td>\n",
              "      <td>0</td>\n",
              "      <td>Passing or Lane Usage Improper</td>\n",
              "      <td>Unspecified</td>\n",
              "      <td></td>\n",
              "      <td></td>\n",
              "      <td></td>\n",
              "      <td>3781862</td>\n",
              "      <td>PICK-UP TRUCK</td>\n",
              "      <td>PICK-UP TRUCK</td>\n",
              "      <td></td>\n",
              "      <td></td>\n",
              "      <td></td>\n",
              "    </tr>\n",
              "    <tr>\n",
              "      <th>1</th>\n",
              "      <td>10/31/2017</td>\n",
              "      <td>0:00</td>\n",
              "      <td></td>\n",
              "      <td></td>\n",
              "      <td>40.7535</td>\n",
              "      <td>-73.8979</td>\n",
              "      <td>(40.75351, -73.8979)</td>\n",
              "      <td></td>\n",
              "      <td></td>\n",
              "      <td></td>\n",
              "      <td>0</td>\n",
              "      <td>0</td>\n",
              "      <td>0</td>\n",
              "      <td>0</td>\n",
              "      <td>0</td>\n",
              "      <td>0</td>\n",
              "      <td>0</td>\n",
              "      <td>0</td>\n",
              "      <td>Unspecified</td>\n",
              "      <td>Unspecified</td>\n",
              "      <td></td>\n",
              "      <td></td>\n",
              "      <td></td>\n",
              "      <td>3781130</td>\n",
              "      <td>SPORT UTILITY / STATION WAGON</td>\n",
              "      <td>PASSENGER VEHICLE</td>\n",
              "      <td></td>\n",
              "      <td></td>\n",
              "      <td></td>\n",
              "    </tr>\n",
              "    <tr>\n",
              "      <th>2</th>\n",
              "      <td>10/31/2017</td>\n",
              "      <td>0:00</td>\n",
              "      <td>MANHATTAN</td>\n",
              "      <td>10036</td>\n",
              "      <td>40.7597</td>\n",
              "      <td>-73.9917</td>\n",
              "      <td>(40.759727, -73.99169)</td>\n",
              "      <td>WEST 44 STREET</td>\n",
              "      <td>9 AVENUE</td>\n",
              "      <td></td>\n",
              "      <td>1</td>\n",
              "      <td>0</td>\n",
              "      <td>1</td>\n",
              "      <td>0</td>\n",
              "      <td>0</td>\n",
              "      <td>0</td>\n",
              "      <td>0</td>\n",
              "      <td>0</td>\n",
              "      <td>Unspecified</td>\n",
              "      <td></td>\n",
              "      <td></td>\n",
              "      <td></td>\n",
              "      <td></td>\n",
              "      <td>3781009</td>\n",
              "      <td>PASSENGER VEHICLE</td>\n",
              "      <td></td>\n",
              "      <td></td>\n",
              "      <td></td>\n",
              "      <td></td>\n",
              "    </tr>\n",
              "    <tr>\n",
              "      <th>3</th>\n",
              "      <td>10/31/2017</td>\n",
              "      <td>0:00</td>\n",
              "      <td>BROOKLYN</td>\n",
              "      <td>11207</td>\n",
              "      <td></td>\n",
              "      <td></td>\n",
              "      <td></td>\n",
              "      <td>LINDEN BOULEVARD</td>\n",
              "      <td>WILLIAMS AVENUE</td>\n",
              "      <td></td>\n",
              "      <td>0</td>\n",
              "      <td>0</td>\n",
              "      <td>0</td>\n",
              "      <td>0</td>\n",
              "      <td>0</td>\n",
              "      <td>0</td>\n",
              "      <td>0</td>\n",
              "      <td>0</td>\n",
              "      <td>Unspecified</td>\n",
              "      <td>Unspecified</td>\n",
              "      <td></td>\n",
              "      <td></td>\n",
              "      <td></td>\n",
              "      <td>3780501</td>\n",
              "      <td>PASSENGER VEHICLE</td>\n",
              "      <td>DS</td>\n",
              "      <td></td>\n",
              "      <td></td>\n",
              "      <td></td>\n",
              "    </tr>\n",
              "    <tr>\n",
              "      <th>4</th>\n",
              "      <td>10/31/2017</td>\n",
              "      <td>0:00</td>\n",
              "      <td>MANHATTAN</td>\n",
              "      <td>10030</td>\n",
              "      <td>40.8156</td>\n",
              "      <td>-73.9435</td>\n",
              "      <td>(40.81561, -73.943474)</td>\n",
              "      <td></td>\n",
              "      <td></td>\n",
              "      <td>2309      7 AVENUE</td>\n",
              "      <td>0</td>\n",
              "      <td>0</td>\n",
              "      <td>0</td>\n",
              "      <td>0</td>\n",
              "      <td>0</td>\n",
              "      <td>0</td>\n",
              "      <td>0</td>\n",
              "      <td>0</td>\n",
              "      <td>Fell Asleep</td>\n",
              "      <td>Unspecified</td>\n",
              "      <td>Unspecified</td>\n",
              "      <td></td>\n",
              "      <td></td>\n",
              "      <td>3780511</td>\n",
              "      <td>SPORT UTILITY / STATION WAGON</td>\n",
              "      <td>PASSENGER VEHICLE</td>\n",
              "      <td>PASSENGER VEHICLE</td>\n",
              "      <td></td>\n",
              "      <td></td>\n",
              "    </tr>\n",
              "  </tbody>\n",
              "</table>\n",
              "</div>"
            ],
            "text/plain": [
              "         DATE  TIME  ... VEHICLE TYPE CODE 4 VEHICLE TYPE CODE 5\n",
              "0  10/31/2017  0:00  ...                                        \n",
              "1  10/31/2017  0:00  ...                                        \n",
              "2  10/31/2017  0:00  ...                                        \n",
              "3  10/31/2017  0:00  ...                                        \n",
              "4  10/31/2017  0:00  ...                                        \n",
              "\n",
              "[5 rows x 29 columns]"
            ]
          },
          "metadata": {
            "tags": []
          },
          "execution_count": 58
        }
      ]
    },
    {
      "cell_type": "markdown",
      "metadata": {
        "id": "LD2a5Wa6LShF",
        "colab_type": "text"
      },
      "source": [
        "#### a) Implement a clustering technique of your choice that will determine the exact number of unique records. (Hint: assigning each unique record to its own cluster would result in perfect clustering. Cluster the data\\* based on possible values for the number of unique records and observe the results. ) Briefly explain your approach. \n",
        "\\* You may first have to factorize the data set, as it contains string variables.\n",
        "\n",
        "#### b) Confirm the number of unique records by using a more straightforward technique to identify duplicate rows. Pandas has a convenient function to drop duplicates for this purpose.  How well did your clustering technique perform?  "
      ]
    },
    {
      "cell_type": "code",
      "metadata": {
        "id": "qCxJFsbxdWYO",
        "colab_type": "code",
        "outputId": "15d479db-296a-48ac-e375-42c956abc3de",
        "colab": {
          "base_uri": "https://localhost:8080/",
          "height": 198
        }
      },
      "source": [
        "nyc_d = nydata[['ZIP CODE', 'LATITUDE', 'LONGITUDE', 'UNIQUE KEY']].copy()\n",
        "nyc_d.head()"
      ],
      "execution_count": 0,
      "outputs": [
        {
          "output_type": "execute_result",
          "data": {
            "text/html": [
              "<div>\n",
              "<style scoped>\n",
              "    .dataframe tbody tr th:only-of-type {\n",
              "        vertical-align: middle;\n",
              "    }\n",
              "\n",
              "    .dataframe tbody tr th {\n",
              "        vertical-align: top;\n",
              "    }\n",
              "\n",
              "    .dataframe thead th {\n",
              "        text-align: right;\n",
              "    }\n",
              "</style>\n",
              "<table border=\"1\" class=\"dataframe\">\n",
              "  <thead>\n",
              "    <tr style=\"text-align: right;\">\n",
              "      <th></th>\n",
              "      <th>ZIP CODE</th>\n",
              "      <th>LATITUDE</th>\n",
              "      <th>LONGITUDE</th>\n",
              "      <th>UNIQUE KEY</th>\n",
              "    </tr>\n",
              "  </thead>\n",
              "  <tbody>\n",
              "    <tr>\n",
              "      <th>0</th>\n",
              "      <td></td>\n",
              "      <td>40.7331</td>\n",
              "      <td>-73.9548</td>\n",
              "      <td>3781862</td>\n",
              "    </tr>\n",
              "    <tr>\n",
              "      <th>1</th>\n",
              "      <td></td>\n",
              "      <td>40.7535</td>\n",
              "      <td>-73.8979</td>\n",
              "      <td>3781130</td>\n",
              "    </tr>\n",
              "    <tr>\n",
              "      <th>2</th>\n",
              "      <td>10036</td>\n",
              "      <td>40.7597</td>\n",
              "      <td>-73.9917</td>\n",
              "      <td>3781009</td>\n",
              "    </tr>\n",
              "    <tr>\n",
              "      <th>3</th>\n",
              "      <td>11207</td>\n",
              "      <td></td>\n",
              "      <td></td>\n",
              "      <td>3780501</td>\n",
              "    </tr>\n",
              "    <tr>\n",
              "      <th>4</th>\n",
              "      <td>10030</td>\n",
              "      <td>40.8156</td>\n",
              "      <td>-73.9435</td>\n",
              "      <td>3780511</td>\n",
              "    </tr>\n",
              "  </tbody>\n",
              "</table>\n",
              "</div>"
            ],
            "text/plain": [
              "  ZIP CODE LATITUDE LONGITUDE  UNIQUE KEY\n",
              "0           40.7331  -73.9548     3781862\n",
              "1           40.7535  -73.8979     3781130\n",
              "2    10036  40.7597  -73.9917     3781009\n",
              "3    11207                        3780501\n",
              "4    10030  40.8156  -73.9435     3780511"
            ]
          },
          "metadata": {
            "tags": []
          },
          "execution_count": 59
        }
      ]
    },
    {
      "cell_type": "code",
      "metadata": {
        "id": "nlRE04jMalSy",
        "colab_type": "code",
        "outputId": "94bd387a-1bc4-4375-cc3a-466d8325b803",
        "colab": {
          "base_uri": "https://localhost:8080/",
          "height": 35
        }
      },
      "source": [
        "nyc_d.shape"
      ],
      "execution_count": 0,
      "outputs": [
        {
          "output_type": "execute_result",
          "data": {
            "text/plain": [
              "(680, 4)"
            ]
          },
          "metadata": {
            "tags": []
          },
          "execution_count": 60
        }
      ]
    },
    {
      "cell_type": "code",
      "metadata": {
        "id": "weCW4C19dnVU",
        "colab_type": "code",
        "colab": {}
      },
      "source": [
        "for column in nyc_d.columns:\n",
        "  nyc_d[column] = pd.factorize(nyc_d[column])[0]"
      ],
      "execution_count": 0,
      "outputs": []
    },
    {
      "cell_type": "code",
      "metadata": {
        "id": "wj3NM_DcesYI",
        "colab_type": "code",
        "outputId": "14e4e9d9-bf7d-4590-b107-07d71fc906cd",
        "colab": {
          "base_uri": "https://localhost:8080/",
          "height": 198
        }
      },
      "source": [
        "nyc_d.head()"
      ],
      "execution_count": 0,
      "outputs": [
        {
          "output_type": "execute_result",
          "data": {
            "text/html": [
              "<div>\n",
              "<style scoped>\n",
              "    .dataframe tbody tr th:only-of-type {\n",
              "        vertical-align: middle;\n",
              "    }\n",
              "\n",
              "    .dataframe tbody tr th {\n",
              "        vertical-align: top;\n",
              "    }\n",
              "\n",
              "    .dataframe thead th {\n",
              "        text-align: right;\n",
              "    }\n",
              "</style>\n",
              "<table border=\"1\" class=\"dataframe\">\n",
              "  <thead>\n",
              "    <tr style=\"text-align: right;\">\n",
              "      <th></th>\n",
              "      <th>ZIP CODE</th>\n",
              "      <th>LATITUDE</th>\n",
              "      <th>LONGITUDE</th>\n",
              "      <th>UNIQUE KEY</th>\n",
              "    </tr>\n",
              "  </thead>\n",
              "  <tbody>\n",
              "    <tr>\n",
              "      <th>0</th>\n",
              "      <td>0</td>\n",
              "      <td>0</td>\n",
              "      <td>0</td>\n",
              "      <td>0</td>\n",
              "    </tr>\n",
              "    <tr>\n",
              "      <th>1</th>\n",
              "      <td>0</td>\n",
              "      <td>1</td>\n",
              "      <td>1</td>\n",
              "      <td>1</td>\n",
              "    </tr>\n",
              "    <tr>\n",
              "      <th>2</th>\n",
              "      <td>1</td>\n",
              "      <td>2</td>\n",
              "      <td>2</td>\n",
              "      <td>2</td>\n",
              "    </tr>\n",
              "    <tr>\n",
              "      <th>3</th>\n",
              "      <td>2</td>\n",
              "      <td>3</td>\n",
              "      <td>3</td>\n",
              "      <td>3</td>\n",
              "    </tr>\n",
              "    <tr>\n",
              "      <th>4</th>\n",
              "      <td>3</td>\n",
              "      <td>4</td>\n",
              "      <td>4</td>\n",
              "      <td>4</td>\n",
              "    </tr>\n",
              "  </tbody>\n",
              "</table>\n",
              "</div>"
            ],
            "text/plain": [
              "   ZIP CODE  LATITUDE  LONGITUDE  UNIQUE KEY\n",
              "0         0         0          0           0\n",
              "1         0         1          1           1\n",
              "2         1         2          2           2\n",
              "3         2         3          3           3\n",
              "4         3         4          4           4"
            ]
          },
          "metadata": {
            "tags": []
          },
          "execution_count": 62
        }
      ]
    },
    {
      "cell_type": "code",
      "metadata": {
        "id": "mCNwLkkveIAu",
        "colab_type": "code",
        "outputId": "1b8a546f-a811-40d0-98d8-6664b4a09896",
        "colab": {
          "base_uri": "https://localhost:8080/",
          "height": 621
        }
      },
      "source": [
        "import logging\n",
        "logger = logging.getLogger()\n",
        "logger.setLevel(logging.CRITICAL)\n",
        "\n",
        "elbow(nyc_d, range(610, 650))"
      ],
      "execution_count": 0,
      "outputs": [
        {
          "output_type": "display_data",
          "data": {
            "image/png": "[encoded data removed]",
            "text/plain": [
              "<Figure size 720x720 with 1 Axes>"
            ]
          },
          "metadata": {
            "tags": []
          }
        }
      ]
    },
    {
      "cell_type": "markdown",
      "metadata": {
        "id": "fdjegd_r6AaH",
        "colab_type": "text"
      },
      "source": [
        "# Only "
      ]
    },
    {
      "cell_type": "markdown",
      "metadata": {
        "id": "V1_gu_hFLShG",
        "colab_type": "text"
      },
      "source": [
        "## Question 3."
      ]
    },
    {
      "cell_type": "markdown",
      "metadata": {
        "id": "u6bGZQhg5_4X",
        "colab_type": "text"
      },
      "source": [
        ""
      ]
    },
    {
      "cell_type": "markdown",
      "metadata": {
        "id": "IDNCvuC4LShG",
        "colab_type": "text"
      },
      "source": [
        "### Real world exercise. 2012 \"stop and frisk\" data\n",
        "\n",
        "https://en.wikipedia.org/wiki/Stop-and-frisk_in_New_York_City\n",
        "\n",
        "The stop-question-and-frisk program, or stop-and-frisk, in New York City, is a practice of the New York City Police Department in which police officers stop and question a pedestrian, then frisk them for weapons and other contraband; this is what is known in other places in the United States as the Terry stop. The rules for stop, question, and frisk are found in the state's criminal procedure law section 140.50, and are based on the decision of the United States Supreme Court in the case of Terry v. Ohio. About 685,724 people were stopped in 2011. However, the number of stops has been reduced dramatically since then, to 22,939 in 2015.\n",
        "Stop-and-frisk got increased attention in the 2016 presidential debate."
      ]
    },
    {
      "cell_type": "code",
      "metadata": {
        "id": "IwS0jN1SLShG",
        "colab_type": "code",
        "outputId": "ce5c6def-077e-4b47-b670-eef7d6cc2b77",
        "colab": {
          "base_uri": "https://localhost:8080/",
          "height": 248
        }
      },
      "source": [
        "#load the data\n",
        "data1=pd.read_csv(\"/content/drive/My Drive/Untitled folder/stop_2012.csv\", index_col='zipcode')\n",
        "data1.head()"
      ],
      "execution_count": 0,
      "outputs": [
        {
          "output_type": "execute_result",
          "data": {
            "text/html": [
              "<div>\n",
              "<style scoped>\n",
              "    .dataframe tbody tr th:only-of-type {\n",
              "        vertical-align: middle;\n",
              "    }\n",
              "\n",
              "    .dataframe tbody tr th {\n",
              "        vertical-align: top;\n",
              "    }\n",
              "\n",
              "    .dataframe thead th {\n",
              "        text-align: right;\n",
              "    }\n",
              "</style>\n",
              "<table border=\"1\" class=\"dataframe\">\n",
              "  <thead>\n",
              "    <tr style=\"text-align: right;\">\n",
              "      <th></th>\n",
              "      <th>day_Friday</th>\n",
              "      <th>day_Monday</th>\n",
              "      <th>day_Saturday</th>\n",
              "      <th>day_Sunday</th>\n",
              "      <th>day_Thursday</th>\n",
              "      <th>day_Tuesday</th>\n",
              "      <th>day_Wednesday</th>\n",
              "      <th>month_April</th>\n",
              "      <th>month_August</th>\n",
              "      <th>month_December</th>\n",
              "      <th>month_February</th>\n",
              "      <th>month_January</th>\n",
              "      <th>month_July</th>\n",
              "      <th>month_June</th>\n",
              "      <th>month_March</th>\n",
              "      <th>month_May</th>\n",
              "      <th>month_November</th>\n",
              "      <th>month_October</th>\n",
              "      <th>month_September</th>\n",
              "      <th>time_1</th>\n",
              "      <th>time_2</th>\n",
              "      <th>time_3</th>\n",
              "      <th>time_4</th>\n",
              "      <th>time_5</th>\n",
              "      <th>time_6</th>\n",
              "    </tr>\n",
              "    <tr>\n",
              "      <th>zipcode</th>\n",
              "      <th></th>\n",
              "      <th></th>\n",
              "      <th></th>\n",
              "      <th></th>\n",
              "      <th></th>\n",
              "      <th></th>\n",
              "      <th></th>\n",
              "      <th></th>\n",
              "      <th></th>\n",
              "      <th></th>\n",
              "      <th></th>\n",
              "      <th></th>\n",
              "      <th></th>\n",
              "      <th></th>\n",
              "      <th></th>\n",
              "      <th></th>\n",
              "      <th></th>\n",
              "      <th></th>\n",
              "      <th></th>\n",
              "      <th></th>\n",
              "      <th></th>\n",
              "      <th></th>\n",
              "      <th></th>\n",
              "      <th></th>\n",
              "      <th></th>\n",
              "    </tr>\n",
              "  </thead>\n",
              "  <tbody>\n",
              "    <tr>\n",
              "      <th>10472</th>\n",
              "      <td>278.0</td>\n",
              "      <td>212.0</td>\n",
              "      <td>315.0</td>\n",
              "      <td>213.0</td>\n",
              "      <td>254.0</td>\n",
              "      <td>234.0</td>\n",
              "      <td>241.0</td>\n",
              "      <td>158.0</td>\n",
              "      <td>95.0</td>\n",
              "      <td>142.0</td>\n",
              "      <td>214.0</td>\n",
              "      <td>316.0</td>\n",
              "      <td>115.0</td>\n",
              "      <td>73.0</td>\n",
              "      <td>201.0</td>\n",
              "      <td>104.0</td>\n",
              "      <td>96.0</td>\n",
              "      <td>110.0</td>\n",
              "      <td>123.0</td>\n",
              "      <td>349.0</td>\n",
              "      <td>35.0</td>\n",
              "      <td>57.0</td>\n",
              "      <td>206.0</td>\n",
              "      <td>437.0</td>\n",
              "      <td>663.0</td>\n",
              "    </tr>\n",
              "    <tr>\n",
              "      <th>10037</th>\n",
              "      <td>199.0</td>\n",
              "      <td>79.0</td>\n",
              "      <td>301.0</td>\n",
              "      <td>154.0</td>\n",
              "      <td>163.0</td>\n",
              "      <td>137.0</td>\n",
              "      <td>147.0</td>\n",
              "      <td>114.0</td>\n",
              "      <td>114.0</td>\n",
              "      <td>34.0</td>\n",
              "      <td>123.0</td>\n",
              "      <td>190.0</td>\n",
              "      <td>56.0</td>\n",
              "      <td>54.0</td>\n",
              "      <td>214.0</td>\n",
              "      <td>67.0</td>\n",
              "      <td>53.0</td>\n",
              "      <td>65.0</td>\n",
              "      <td>96.0</td>\n",
              "      <td>271.0</td>\n",
              "      <td>38.0</td>\n",
              "      <td>32.0</td>\n",
              "      <td>143.0</td>\n",
              "      <td>248.0</td>\n",
              "      <td>448.0</td>\n",
              "    </tr>\n",
              "    <tr>\n",
              "      <th>10460</th>\n",
              "      <td>278.0</td>\n",
              "      <td>169.0</td>\n",
              "      <td>283.0</td>\n",
              "      <td>203.0</td>\n",
              "      <td>234.0</td>\n",
              "      <td>197.0</td>\n",
              "      <td>289.0</td>\n",
              "      <td>117.0</td>\n",
              "      <td>133.0</td>\n",
              "      <td>91.0</td>\n",
              "      <td>181.0</td>\n",
              "      <td>278.0</td>\n",
              "      <td>150.0</td>\n",
              "      <td>71.0</td>\n",
              "      <td>128.0</td>\n",
              "      <td>95.0</td>\n",
              "      <td>86.0</td>\n",
              "      <td>148.0</td>\n",
              "      <td>175.0</td>\n",
              "      <td>462.0</td>\n",
              "      <td>51.0</td>\n",
              "      <td>56.0</td>\n",
              "      <td>190.0</td>\n",
              "      <td>411.0</td>\n",
              "      <td>483.0</td>\n",
              "    </tr>\n",
              "    <tr>\n",
              "      <th>11224</th>\n",
              "      <td>175.0</td>\n",
              "      <td>82.0</td>\n",
              "      <td>177.0</td>\n",
              "      <td>176.0</td>\n",
              "      <td>180.0</td>\n",
              "      <td>179.0</td>\n",
              "      <td>206.0</td>\n",
              "      <td>112.0</td>\n",
              "      <td>67.0</td>\n",
              "      <td>134.0</td>\n",
              "      <td>147.0</td>\n",
              "      <td>138.0</td>\n",
              "      <td>91.0</td>\n",
              "      <td>75.0</td>\n",
              "      <td>140.0</td>\n",
              "      <td>112.0</td>\n",
              "      <td>23.0</td>\n",
              "      <td>68.0</td>\n",
              "      <td>68.0</td>\n",
              "      <td>157.0</td>\n",
              "      <td>27.0</td>\n",
              "      <td>37.0</td>\n",
              "      <td>97.0</td>\n",
              "      <td>282.0</td>\n",
              "      <td>575.0</td>\n",
              "    </tr>\n",
              "    <tr>\n",
              "      <th>10456</th>\n",
              "      <td>979.0</td>\n",
              "      <td>647.0</td>\n",
              "      <td>1086.0</td>\n",
              "      <td>773.0</td>\n",
              "      <td>913.0</td>\n",
              "      <td>814.0</td>\n",
              "      <td>885.0</td>\n",
              "      <td>709.0</td>\n",
              "      <td>465.0</td>\n",
              "      <td>290.0</td>\n",
              "      <td>598.0</td>\n",
              "      <td>626.0</td>\n",
              "      <td>373.0</td>\n",
              "      <td>284.0</td>\n",
              "      <td>807.0</td>\n",
              "      <td>518.0</td>\n",
              "      <td>395.0</td>\n",
              "      <td>521.0</td>\n",
              "      <td>511.0</td>\n",
              "      <td>1295.0</td>\n",
              "      <td>137.0</td>\n",
              "      <td>110.0</td>\n",
              "      <td>662.0</td>\n",
              "      <td>1553.0</td>\n",
              "      <td>2340.0</td>\n",
              "    </tr>\n",
              "  </tbody>\n",
              "</table>\n",
              "</div>"
            ],
            "text/plain": [
              "         day_Friday  day_Monday  day_Saturday  ...  time_4  time_5  time_6\n",
              "zipcode                                        ...                        \n",
              "10472         278.0       212.0         315.0  ...   206.0   437.0   663.0\n",
              "10037         199.0        79.0         301.0  ...   143.0   248.0   448.0\n",
              "10460         278.0       169.0         283.0  ...   190.0   411.0   483.0\n",
              "11224         175.0        82.0         177.0  ...    97.0   282.0   575.0\n",
              "10456         979.0       647.0        1086.0  ...   662.0  1553.0  2340.0\n",
              "\n",
              "[5 rows x 25 columns]"
            ]
          },
          "metadata": {
            "tags": []
          },
          "execution_count": 68
        }
      ]
    },
    {
      "cell_type": "code",
      "metadata": {
        "id": "698JabnvLShI",
        "colab_type": "code",
        "outputId": "04b223a7-af6a-468a-ddda-1f77e32a3450",
        "colab": {
          "base_uri": "https://localhost:8080/",
          "height": 228
        }
      },
      "source": [
        "#considering only the in-day timeline \n",
        "data1=data1.iloc[:,-6:]\n",
        "data1.head()"
      ],
      "execution_count": 0,
      "outputs": [
        {
          "output_type": "execute_result",
          "data": {
            "text/html": [
              "<div>\n",
              "<style scoped>\n",
              "    .dataframe tbody tr th:only-of-type {\n",
              "        vertical-align: middle;\n",
              "    }\n",
              "\n",
              "    .dataframe tbody tr th {\n",
              "        vertical-align: top;\n",
              "    }\n",
              "\n",
              "    .dataframe thead th {\n",
              "        text-align: right;\n",
              "    }\n",
              "</style>\n",
              "<table border=\"1\" class=\"dataframe\">\n",
              "  <thead>\n",
              "    <tr style=\"text-align: right;\">\n",
              "      <th></th>\n",
              "      <th>time_1</th>\n",
              "      <th>time_2</th>\n",
              "      <th>time_3</th>\n",
              "      <th>time_4</th>\n",
              "      <th>time_5</th>\n",
              "      <th>time_6</th>\n",
              "    </tr>\n",
              "    <tr>\n",
              "      <th>zipcode</th>\n",
              "      <th></th>\n",
              "      <th></th>\n",
              "      <th></th>\n",
              "      <th></th>\n",
              "      <th></th>\n",
              "      <th></th>\n",
              "    </tr>\n",
              "  </thead>\n",
              "  <tbody>\n",
              "    <tr>\n",
              "      <th>10472</th>\n",
              "      <td>349.0</td>\n",
              "      <td>35.0</td>\n",
              "      <td>57.0</td>\n",
              "      <td>206.0</td>\n",
              "      <td>437.0</td>\n",
              "      <td>663.0</td>\n",
              "    </tr>\n",
              "    <tr>\n",
              "      <th>10037</th>\n",
              "      <td>271.0</td>\n",
              "      <td>38.0</td>\n",
              "      <td>32.0</td>\n",
              "      <td>143.0</td>\n",
              "      <td>248.0</td>\n",
              "      <td>448.0</td>\n",
              "    </tr>\n",
              "    <tr>\n",
              "      <th>10460</th>\n",
              "      <td>462.0</td>\n",
              "      <td>51.0</td>\n",
              "      <td>56.0</td>\n",
              "      <td>190.0</td>\n",
              "      <td>411.0</td>\n",
              "      <td>483.0</td>\n",
              "    </tr>\n",
              "    <tr>\n",
              "      <th>11224</th>\n",
              "      <td>157.0</td>\n",
              "      <td>27.0</td>\n",
              "      <td>37.0</td>\n",
              "      <td>97.0</td>\n",
              "      <td>282.0</td>\n",
              "      <td>575.0</td>\n",
              "    </tr>\n",
              "    <tr>\n",
              "      <th>10456</th>\n",
              "      <td>1295.0</td>\n",
              "      <td>137.0</td>\n",
              "      <td>110.0</td>\n",
              "      <td>662.0</td>\n",
              "      <td>1553.0</td>\n",
              "      <td>2340.0</td>\n",
              "    </tr>\n",
              "  </tbody>\n",
              "</table>\n",
              "</div>"
            ],
            "text/plain": [
              "         time_1  time_2  time_3  time_4  time_5  time_6\n",
              "zipcode                                                \n",
              "10472     349.0    35.0    57.0   206.0   437.0   663.0\n",
              "10037     271.0    38.0    32.0   143.0   248.0   448.0\n",
              "10460     462.0    51.0    56.0   190.0   411.0   483.0\n",
              "11224     157.0    27.0    37.0    97.0   282.0   575.0\n",
              "10456    1295.0   137.0   110.0   662.0  1553.0  2340.0"
            ]
          },
          "metadata": {
            "tags": []
          },
          "execution_count": 70
        }
      ]
    },
    {
      "cell_type": "markdown",
      "metadata": {
        "id": "OCrSjYXeLShK",
        "colab_type": "text"
      },
      "source": [
        "#### a) Find and visualize 5 zip codes with most stops\n",
        "\n",
        "#### b) Filter the data to have at least 30 stop&frisk observations per zip code\n",
        "\n",
        "#### c) We want to cluster the zip codes by the stops timeline data set. Choose the number of clusters k for Kmeans. Try both - Elbow method and Silhouette score - for that. In case the results are inconsistent provide reasoning for your choice of k. \n",
        "\n",
        "#### d) Visualize the k-means clustering for the k you've chosen\n",
        "\n",
        "#### e) Repeat d) using Guassian Mixture model"
      ]
    },
    {
      "cell_type": "code",
      "metadata": {
        "id": "xXxzjSo6LShK",
        "colab_type": "code",
        "outputId": "52af0680-760b-4249-ace7-c91d8fbf924f",
        "colab": {
          "base_uri": "https://localhost:8080/",
          "height": 228
        }
      },
      "source": [
        "new_data = data1.copy()\n",
        "new_data['Totals'] = new_data.sum(axis=1)\n",
        "new_data.head()"
      ],
      "execution_count": 0,
      "outputs": [
        {
          "output_type": "execute_result",
          "data": {
            "text/html": [
              "<div>\n",
              "<style scoped>\n",
              "    .dataframe tbody tr th:only-of-type {\n",
              "        vertical-align: middle;\n",
              "    }\n",
              "\n",
              "    .dataframe tbody tr th {\n",
              "        vertical-align: top;\n",
              "    }\n",
              "\n",
              "    .dataframe thead th {\n",
              "        text-align: right;\n",
              "    }\n",
              "</style>\n",
              "<table border=\"1\" class=\"dataframe\">\n",
              "  <thead>\n",
              "    <tr style=\"text-align: right;\">\n",
              "      <th></th>\n",
              "      <th>time_1</th>\n",
              "      <th>time_2</th>\n",
              "      <th>time_3</th>\n",
              "      <th>time_4</th>\n",
              "      <th>time_5</th>\n",
              "      <th>time_6</th>\n",
              "      <th>Totals</th>\n",
              "    </tr>\n",
              "    <tr>\n",
              "      <th>zipcode</th>\n",
              "      <th></th>\n",
              "      <th></th>\n",
              "      <th></th>\n",
              "      <th></th>\n",
              "      <th></th>\n",
              "      <th></th>\n",
              "      <th></th>\n",
              "    </tr>\n",
              "  </thead>\n",
              "  <tbody>\n",
              "    <tr>\n",
              "      <th>10472</th>\n",
              "      <td>349.0</td>\n",
              "      <td>35.0</td>\n",
              "      <td>57.0</td>\n",
              "      <td>206.0</td>\n",
              "      <td>437.0</td>\n",
              "      <td>663.0</td>\n",
              "      <td>1747.0</td>\n",
              "    </tr>\n",
              "    <tr>\n",
              "      <th>10037</th>\n",
              "      <td>271.0</td>\n",
              "      <td>38.0</td>\n",
              "      <td>32.0</td>\n",
              "      <td>143.0</td>\n",
              "      <td>248.0</td>\n",
              "      <td>448.0</td>\n",
              "      <td>1180.0</td>\n",
              "    </tr>\n",
              "    <tr>\n",
              "      <th>10460</th>\n",
              "      <td>462.0</td>\n",
              "      <td>51.0</td>\n",
              "      <td>56.0</td>\n",
              "      <td>190.0</td>\n",
              "      <td>411.0</td>\n",
              "      <td>483.0</td>\n",
              "      <td>1653.0</td>\n",
              "    </tr>\n",
              "    <tr>\n",
              "      <th>11224</th>\n",
              "      <td>157.0</td>\n",
              "      <td>27.0</td>\n",
              "      <td>37.0</td>\n",
              "      <td>97.0</td>\n",
              "      <td>282.0</td>\n",
              "      <td>575.0</td>\n",
              "      <td>1175.0</td>\n",
              "    </tr>\n",
              "    <tr>\n",
              "      <th>10456</th>\n",
              "      <td>1295.0</td>\n",
              "      <td>137.0</td>\n",
              "      <td>110.0</td>\n",
              "      <td>662.0</td>\n",
              "      <td>1553.0</td>\n",
              "      <td>2340.0</td>\n",
              "      <td>6097.0</td>\n",
              "    </tr>\n",
              "  </tbody>\n",
              "</table>\n",
              "</div>"
            ],
            "text/plain": [
              "         time_1  time_2  time_3  time_4  time_5  time_6  Totals\n",
              "zipcode                                                        \n",
              "10472     349.0    35.0    57.0   206.0   437.0   663.0  1747.0\n",
              "10037     271.0    38.0    32.0   143.0   248.0   448.0  1180.0\n",
              "10460     462.0    51.0    56.0   190.0   411.0   483.0  1653.0\n",
              "11224     157.0    27.0    37.0    97.0   282.0   575.0  1175.0\n",
              "10456    1295.0   137.0   110.0   662.0  1553.0  2340.0  6097.0"
            ]
          },
          "metadata": {
            "tags": []
          },
          "execution_count": 71
        }
      ]
    },
    {
      "cell_type": "code",
      "metadata": {
        "id": "sm_2hW8Bgh47",
        "colab_type": "code",
        "outputId": "0de8bb23-4f78-477e-a6f3-65a99a4b65ee",
        "colab": {
          "base_uri": "https://localhost:8080/",
          "height": 228
        }
      },
      "source": [
        "temp = new_data.sort_values(by=\"Totals\", ascending = False)\n",
        "temp.head()"
      ],
      "execution_count": 0,
      "outputs": [
        {
          "output_type": "execute_result",
          "data": {
            "text/html": [
              "<div>\n",
              "<style scoped>\n",
              "    .dataframe tbody tr th:only-of-type {\n",
              "        vertical-align: middle;\n",
              "    }\n",
              "\n",
              "    .dataframe tbody tr th {\n",
              "        vertical-align: top;\n",
              "    }\n",
              "\n",
              "    .dataframe thead th {\n",
              "        text-align: right;\n",
              "    }\n",
              "</style>\n",
              "<table border=\"1\" class=\"dataframe\">\n",
              "  <thead>\n",
              "    <tr style=\"text-align: right;\">\n",
              "      <th></th>\n",
              "      <th>time_1</th>\n",
              "      <th>time_2</th>\n",
              "      <th>time_3</th>\n",
              "      <th>time_4</th>\n",
              "      <th>time_5</th>\n",
              "      <th>time_6</th>\n",
              "      <th>Totals</th>\n",
              "    </tr>\n",
              "    <tr>\n",
              "      <th>zipcode</th>\n",
              "      <th></th>\n",
              "      <th></th>\n",
              "      <th></th>\n",
              "      <th></th>\n",
              "      <th></th>\n",
              "      <th></th>\n",
              "      <th></th>\n",
              "    </tr>\n",
              "  </thead>\n",
              "  <tbody>\n",
              "    <tr>\n",
              "      <th>10456</th>\n",
              "      <td>1295.0</td>\n",
              "      <td>137.0</td>\n",
              "      <td>110.0</td>\n",
              "      <td>662.0</td>\n",
              "      <td>1553.0</td>\n",
              "      <td>2340.0</td>\n",
              "      <td>6097.0</td>\n",
              "    </tr>\n",
              "    <tr>\n",
              "      <th>10454</th>\n",
              "      <td>929.0</td>\n",
              "      <td>56.0</td>\n",
              "      <td>94.0</td>\n",
              "      <td>411.0</td>\n",
              "      <td>1194.0</td>\n",
              "      <td>1979.0</td>\n",
              "      <td>4663.0</td>\n",
              "    </tr>\n",
              "    <tr>\n",
              "      <th>11212</th>\n",
              "      <td>751.0</td>\n",
              "      <td>48.0</td>\n",
              "      <td>199.0</td>\n",
              "      <td>709.0</td>\n",
              "      <td>1177.0</td>\n",
              "      <td>1549.0</td>\n",
              "      <td>4433.0</td>\n",
              "    </tr>\n",
              "    <tr>\n",
              "      <th>11207</th>\n",
              "      <td>905.0</td>\n",
              "      <td>70.0</td>\n",
              "      <td>212.0</td>\n",
              "      <td>575.0</td>\n",
              "      <td>852.0</td>\n",
              "      <td>1452.0</td>\n",
              "      <td>4066.0</td>\n",
              "    </tr>\n",
              "    <tr>\n",
              "      <th>11691</th>\n",
              "      <td>574.0</td>\n",
              "      <td>24.0</td>\n",
              "      <td>119.0</td>\n",
              "      <td>539.0</td>\n",
              "      <td>845.0</td>\n",
              "      <td>1571.0</td>\n",
              "      <td>3672.0</td>\n",
              "    </tr>\n",
              "  </tbody>\n",
              "</table>\n",
              "</div>"
            ],
            "text/plain": [
              "         time_1  time_2  time_3  time_4  time_5  time_6  Totals\n",
              "zipcode                                                        \n",
              "10456    1295.0   137.0   110.0   662.0  1553.0  2340.0  6097.0\n",
              "10454     929.0    56.0    94.0   411.0  1194.0  1979.0  4663.0\n",
              "11212     751.0    48.0   199.0   709.0  1177.0  1549.0  4433.0\n",
              "11207     905.0    70.0   212.0   575.0   852.0  1452.0  4066.0\n",
              "11691     574.0    24.0   119.0   539.0   845.0  1571.0  3672.0"
            ]
          },
          "metadata": {
            "tags": []
          },
          "execution_count": 72
        }
      ]
    },
    {
      "cell_type": "code",
      "metadata": {
        "id": "3ockS076gmho",
        "colab_type": "code",
        "colab": {}
      },
      "source": [
        "temp.iloc[0:6].plot(x=temp.index, y=\"Totals\")"
      ],
      "execution_count": 0,
      "outputs": []
    },
    {
      "cell_type": "code",
      "metadata": {
        "id": "oKoALFj8jbkB",
        "colab_type": "code",
        "outputId": "10b2caa9-1fb6-4c9a-b696-a8789bfbfcca",
        "colab": {
          "base_uri": "https://localhost:8080/",
          "height": 228
        }
      },
      "source": [
        "temp =temp.loc[temp['Totals']>30]\n",
        "temp.sort_values(by='Totals', ascending = True)\n",
        "temp.head()"
      ],
      "execution_count": 0,
      "outputs": [
        {
          "output_type": "execute_result",
          "data": {
            "text/html": [
              "<div>\n",
              "<style scoped>\n",
              "    .dataframe tbody tr th:only-of-type {\n",
              "        vertical-align: middle;\n",
              "    }\n",
              "\n",
              "    .dataframe tbody tr th {\n",
              "        vertical-align: top;\n",
              "    }\n",
              "\n",
              "    .dataframe thead th {\n",
              "        text-align: right;\n",
              "    }\n",
              "</style>\n",
              "<table border=\"1\" class=\"dataframe\">\n",
              "  <thead>\n",
              "    <tr style=\"text-align: right;\">\n",
              "      <th></th>\n",
              "      <th>time_1</th>\n",
              "      <th>time_2</th>\n",
              "      <th>time_3</th>\n",
              "      <th>time_4</th>\n",
              "      <th>time_5</th>\n",
              "      <th>time_6</th>\n",
              "      <th>Totals</th>\n",
              "    </tr>\n",
              "    <tr>\n",
              "      <th>zipcode</th>\n",
              "      <th></th>\n",
              "      <th></th>\n",
              "      <th></th>\n",
              "      <th></th>\n",
              "      <th></th>\n",
              "      <th></th>\n",
              "      <th></th>\n",
              "    </tr>\n",
              "  </thead>\n",
              "  <tbody>\n",
              "    <tr>\n",
              "      <th>10456</th>\n",
              "      <td>1295.0</td>\n",
              "      <td>137.0</td>\n",
              "      <td>110.0</td>\n",
              "      <td>662.0</td>\n",
              "      <td>1553.0</td>\n",
              "      <td>2340.0</td>\n",
              "      <td>6097.0</td>\n",
              "    </tr>\n",
              "    <tr>\n",
              "      <th>10454</th>\n",
              "      <td>929.0</td>\n",
              "      <td>56.0</td>\n",
              "      <td>94.0</td>\n",
              "      <td>411.0</td>\n",
              "      <td>1194.0</td>\n",
              "      <td>1979.0</td>\n",
              "      <td>4663.0</td>\n",
              "    </tr>\n",
              "    <tr>\n",
              "      <th>11212</th>\n",
              "      <td>751.0</td>\n",
              "      <td>48.0</td>\n",
              "      <td>199.0</td>\n",
              "      <td>709.0</td>\n",
              "      <td>1177.0</td>\n",
              "      <td>1549.0</td>\n",
              "      <td>4433.0</td>\n",
              "    </tr>\n",
              "    <tr>\n",
              "      <th>11207</th>\n",
              "      <td>905.0</td>\n",
              "      <td>70.0</td>\n",
              "      <td>212.0</td>\n",
              "      <td>575.0</td>\n",
              "      <td>852.0</td>\n",
              "      <td>1452.0</td>\n",
              "      <td>4066.0</td>\n",
              "    </tr>\n",
              "    <tr>\n",
              "      <th>11691</th>\n",
              "      <td>574.0</td>\n",
              "      <td>24.0</td>\n",
              "      <td>119.0</td>\n",
              "      <td>539.0</td>\n",
              "      <td>845.0</td>\n",
              "      <td>1571.0</td>\n",
              "      <td>3672.0</td>\n",
              "    </tr>\n",
              "  </tbody>\n",
              "</table>\n",
              "</div>"
            ],
            "text/plain": [
              "         time_1  time_2  time_3  time_4  time_5  time_6  Totals\n",
              "zipcode                                                        \n",
              "10456    1295.0   137.0   110.0   662.0  1553.0  2340.0  6097.0\n",
              "10454     929.0    56.0    94.0   411.0  1194.0  1979.0  4663.0\n",
              "11212     751.0    48.0   199.0   709.0  1177.0  1549.0  4433.0\n",
              "11207     905.0    70.0   212.0   575.0   852.0  1452.0  4066.0\n",
              "11691     574.0    24.0   119.0   539.0   845.0  1571.0  3672.0"
            ]
          },
          "metadata": {
            "tags": []
          },
          "execution_count": 113
        }
      ]
    },
    {
      "cell_type": "markdown",
      "metadata": {
        "id": "7OE1YNSikI7y",
        "colab_type": "text"
      },
      "source": [
        "# Say K is 10"
      ]
    },
    {
      "cell_type": "code",
      "metadata": {
        "id": "X3Qel6cVevly",
        "colab_type": "code",
        "outputId": "54545bad-ef9b-46b2-e568-e8add0a806d2",
        "colab": {
          "base_uri": "https://localhost:8080/",
          "height": 35
        }
      },
      "source": [
        "temp.shape"
      ],
      "execution_count": 0,
      "outputs": [
        {
          "output_type": "execute_result",
          "data": {
            "text/plain": [
              "(155, 7)"
            ]
          },
          "metadata": {
            "tags": []
          },
          "execution_count": 114
        }
      ]
    },
    {
      "cell_type": "code",
      "metadata": {
        "id": "d40cwErikb1g",
        "colab_type": "code",
        "colab": {}
      },
      "source": [
        "data1.head()"
      ],
      "execution_count": 0,
      "outputs": []
    },
    {
      "cell_type": "code",
      "metadata": {
        "id": "OgqHDtGzjj48",
        "colab_type": "code",
        "outputId": "0fb5c7a2-7b5a-4ec8-f7cc-f95442e2e09b",
        "colab": {
          "base_uri": "https://localhost:8080/",
          "height": 621
        }
      },
      "source": [
        "elbow(temp, range(1, temp.shape[0]))"
      ],
      "execution_count": 0,
      "outputs": [
        {
          "output_type": "display_data",
          "data": {
            "image/png": "[encoded data removed]",
            "text/plain": [
              "<Figure size 720x720 with 1 Axes>"
            ]
          },
          "metadata": {
            "tags": []
          }
        }
      ]
    },
    {
      "cell_type": "code",
      "metadata": {
        "id": "BHDei4CEkM7R",
        "colab_type": "code",
        "colab": {}
      },
      "source": [
        ""
      ],
      "execution_count": 0,
      "outputs": []
    },
    {
      "cell_type": "code",
      "metadata": {
        "id": "d4oOK2AFkHjZ",
        "colab_type": "code",
        "outputId": "2f52ccd2-a395-4156-a9be-ef5b5d0b2b4d",
        "colab": {
          "base_uri": "https://localhost:8080/",
          "height": 621
        }
      },
      "source": [
        "\n",
        "elbow(temp, range(1, int(temp.shape[0]/10)))"
      ],
      "execution_count": 0,
      "outputs": [
        {
          "output_type": "display_data",
          "data": {
            "image/png": "[encoded data removed]",
            "text/plain": [
              "<Figure size 720x720 with 1 Axes>"
            ]
          },
          "metadata": {
            "tags": []
          }
        }
      ]
    },
    {
      "cell_type": "code",
      "metadata": {
        "id": "SoE2pFj9ke_k",
        "colab_type": "code",
        "outputId": "75a3c54b-ae6e-4fdb-e895-d894fc921cb2",
        "colab": {
          "base_uri": "https://localhost:8080/",
          "height": 54
        }
      },
      "source": [
        "for num in range(2,temp.shape[0]):\n",
        "  k_means = KMeans(n_clusters=num, random_state=1403).fit(temp)\n",
        "  labels = k_means.labels_\n",
        "  s_score = silhouette_score(temp, labels)\n",
        "  if s_score>0.7:\n",
        "    print(\"S-score for cluster {} is {}\".format(num,s_score))"
      ],
      "execution_count": 0,
      "outputs": [
        {
          "output_type": "stream",
          "text": [
            "S-score for cluster 2 is 0.7475283055759285\n",
            "S-score for cluster 3 is 0.7169799142640743\n"
          ],
          "name": "stdout"
        }
      ]
    },
    {
      "cell_type": "code",
      "metadata": {
        "colab_type": "code",
        "outputId": "a0e332ce-b566-4bca-8e0b-696d2c1cbff6",
        "id": "HgrOSt4WlBJf",
        "colab": {
          "base_uri": "https://localhost:8080/",
          "height": 163
        }
      },
      "source": [
        "#performing k-means\n",
        "from sklearn.cluster import KMeans\n",
        "\n",
        "#creating a k-means model with 2 clusters\n",
        "kmeans = KMeans(n_clusters=2, random_state=911)\n",
        "kmeans.fit(temp)\n",
        "labels = kmeans.predict(temp)\n",
        "\n",
        "labels"
      ],
      "execution_count": 0,
      "outputs": [
        {
          "output_type": "execute_result",
          "data": {
            "text/plain": [
              "array([1, 1, 1, 1, 1, 1, 1, 1, 1, 1, 1, 1, 1, 1, 1, 1, 1, 1, 1, 1, 1, 1,\n",
              "       1, 1, 1, 1, 1, 1, 1, 0, 0, 0, 0, 0, 0, 0, 0, 0, 0, 0, 0, 0, 0, 0,\n",
              "       0, 0, 0, 0, 0, 0, 0, 0, 0, 0, 0, 0, 0, 0, 0, 0, 0, 0, 0, 0, 0, 0,\n",
              "       0, 0, 0, 0, 0, 0, 0, 0, 0, 0, 0, 0, 0, 0, 0, 0, 0, 0, 0, 0, 0, 0,\n",
              "       0, 0, 0, 0, 0, 0, 0, 0, 0, 0, 0, 0, 0, 0, 0, 0, 0, 0, 0, 0, 0, 0,\n",
              "       0, 0, 0, 0, 0, 0, 0, 0, 0, 0, 0, 0, 0, 0, 0, 0, 0, 0, 0, 0, 0, 0,\n",
              "       0, 0, 0, 0, 0, 0, 0, 0, 0, 0, 0, 0, 0, 0, 0, 0, 0, 0, 0, 0, 0, 0,\n",
              "       0], dtype=int32)"
            ]
          },
          "metadata": {
            "tags": []
          },
          "execution_count": 120
        }
      ]
    },
    {
      "cell_type": "markdown",
      "metadata": {
        "colab_type": "text",
        "id": "cyjCVfRzlBJj"
      },
      "source": [
        ""
      ]
    },
    {
      "cell_type": "code",
      "metadata": {
        "colab_type": "code",
        "outputId": "6636ecdb-a08f-4c1c-9096-f4aedd12d19f",
        "id": "up694Z9OlBJm",
        "colab": {
          "base_uri": "https://localhost:8080/",
          "height": 499
        }
      },
      "source": [
        "\n",
        "#plot\n",
        "plt.clf\n",
        "plt.figure(figsize = (8,8))\n",
        "centers = kmeans.cluster_centers_\n",
        "\n",
        "plt.scatter(temp.loc[:, 'time_1'], temp.loc[:, 'time_2'], c=labels, s=22, cmap='Spectral')\n",
        "\n",
        "plt.scatter(centers[:, 0], centers[:, 1], marker = 'x', c='black', s=1000, alpha=0.7);\n",
        "\n",
        "plt.title('K-means clustering ')\n",
        "\n",
        "\n",
        "plt.show()"
      ],
      "execution_count": 0,
      "outputs": [
        {
          "output_type": "display_data",
          "data": {
            "image/png": "[encoded data removed]",
            "text/plain": [
              "<Figure size 576x576 with 1 Axes>"
            ]
          },
          "metadata": {
            "tags": []
          }
        }
      ]
    },
    {
      "cell_type": "code",
      "metadata": {
        "id": "SSDOCdzilH12",
        "colab_type": "code",
        "colab": {}
      },
      "source": [
        ""
      ],
      "execution_count": 0,
      "outputs": []
    },
    {
      "cell_type": "code",
      "metadata": {
        "colab_type": "code",
        "outputId": "fbe3a261-b5d1-401d-b6e8-a94a92b969a5",
        "id": "XKCUrAXMlIBp",
        "colab": {
          "base_uri": "https://localhost:8080/",
          "height": 163
        }
      },
      "source": [
        "from sklearn.mixture import GaussianMixture as gm\n",
        "gaus_learn= gm(n_components=2,random_state=311).fit(temp)\n",
        "gaus_pred = gaus_learn.predict(temp)\n",
        "gaus_pred"
      ],
      "execution_count": 0,
      "outputs": [
        {
          "output_type": "execute_result",
          "data": {
            "text/plain": [
              "array([1, 1, 1, 1, 1, 1, 1, 1, 1, 1, 1, 1, 1, 1, 1, 1, 1, 1, 1, 1, 1, 1,\n",
              "       1, 1, 1, 1, 1, 1, 1, 1, 1, 1, 1, 1, 1, 1, 1, 1, 1, 1, 1, 1, 1, 1,\n",
              "       1, 1, 1, 1, 1, 1, 1, 1, 1, 1, 1, 1, 1, 1, 1, 1, 1, 1, 0, 1, 0, 0,\n",
              "       0, 1, 0, 0, 0, 0, 0, 1, 0, 0, 0, 0, 0, 0, 0, 0, 1, 0, 0, 0, 0, 0,\n",
              "       0, 0, 0, 0, 0, 0, 0, 1, 0, 0, 0, 0, 0, 0, 0, 0, 1, 0, 0, 0, 0, 0,\n",
              "       0, 0, 0, 0, 0, 0, 0, 0, 0, 0, 0, 0, 0, 0, 0, 0, 0, 0, 0, 0, 0, 0,\n",
              "       0, 0, 0, 0, 0, 0, 0, 0, 0, 0, 0, 0, 0, 0, 0, 0, 0, 0, 0, 0, 0, 0,\n",
              "       0])"
            ]
          },
          "metadata": {
            "tags": []
          },
          "execution_count": 122
        }
      ]
    },
    {
      "cell_type": "code",
      "metadata": {
        "colab_type": "code",
        "outputId": "5a791d11-317f-4149-9b9f-681380da1315",
        "id": "JaMMx0C6lIBs",
        "colab": {
          "base_uri": "https://localhost:8080/",
          "height": 499
        }
      },
      "source": [
        "plt.clf\n",
        "plt.figure(figsize = (8,8))\n",
        "\n",
        "plt.scatter(temp.loc[:, 'time_1'], temp.loc[:, 'time_2'], c=gaus_pred, s=22, cmap='plasma')\n",
        "\n",
        "plt.title('Gaussian Mixture on PCA reduced data')\n",
        "\n",
        "\n",
        "\n",
        "\n",
        "plt.show()"
      ],
      "execution_count": 0,
      "outputs": [
        {
          "output_type": "display_data",
          "data": {
            "image/png": "[encoded data removed]",
            "text/plain": [
              "<Figure size 576x576 with 1 Axes>"
            ]
          },
          "metadata": {
            "tags": []
          }
        }
      ]
    }
  ]
}