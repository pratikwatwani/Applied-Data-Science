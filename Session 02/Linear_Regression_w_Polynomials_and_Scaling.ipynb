{
  "nbformat": 4,
  "nbformat_minor": 0,
  "metadata": {
    "colab": {
      "name": "Linear Regression w/ Polynomials and Scaling",
      "provenance": [],
      "collapsed_sections": []
    },
    "kernelspec": {
      "name": "python3",
      "display_name": "Python 3"
    }
  },
  "cells": [
    {
      "cell_type": "markdown",
      "metadata": {
        "id": "ap5mOugvWOkT",
        "colab_type": "text"
      },
      "source": [
        "# Assignment 2"
      ]
    },
    {
      "cell_type": "markdown",
      "metadata": {
        "id": "qRrvDm-5kgyZ",
        "colab_type": "text"
      },
      "source": [
        "## Problem 1:Linear Regression"
      ]
    },
    {
      "cell_type": "markdown",
      "metadata": {
        "id": "bAnnk0MWWZpc",
        "colab_type": "text"
      },
      "source": [
        "### Task 1:Load the dataset named assignment2_part1.csv \n",
        "\n"
      ]
    },
    {
      "cell_type": "code",
      "metadata": {
        "id": "gu1SWL3d1Zl3",
        "colab_type": "code",
        "outputId": "b5942b3b-6c89-4570-e5a0-48c2903e781b",
        "colab": {
          "base_uri": "https://localhost:8080/",
          "height": 34
        }
      },
      "source": [
        "import pandas as pd\n",
        "import numpy as np\n",
        "import seaborn as sns\n",
        "import matplotlib.pyplot as plt\n",
        "from sklearn.linear_model import LinearRegression\n",
        "import statsmodels.formula.api as smf\n",
        "from sklearn.metrics import r2_score\n",
        "import warnings\n",
        "warnings.filterwarnings(\"ignore\")\n",
        "from google.colab import drive\n",
        "drive.mount('/content/drive')"
      ],
      "execution_count": 1,
      "outputs": [
        {
          "output_type": "stream",
          "text": [
            "Drive already mounted at /content/drive; to attempt to forcibly remount, call drive.mount(\"/content/drive\", force_remount=True).\n"
          ],
          "name": "stdout"
        }
      ]
    },
    {
      "cell_type": "markdown",
      "metadata": {
        "id": "1mjzaR9a7714",
        "colab_type": "text"
      },
      "source": [
        "## Importing Data set"
      ]
    },
    {
      "cell_type": "code",
      "metadata": {
        "id": "Pl7FbbdFWMDj",
        "colab_type": "code",
        "outputId": "753ac1bb-c1a5-4723-b268-6d75470914a5",
        "colab": {
          "base_uri": "https://localhost:8080/",
          "height": 359
        }
      },
      "source": [
        "data = pd.read_csv(\"/content/drive/My Drive/Untitled folder/assignment2_part1.csv\", index_col='Unnamed: 0')\n",
        "data.head(10)"
      ],
      "execution_count": 2,
      "outputs": [
        {
          "output_type": "execute_result",
          "data": {
            "text/html": [
              "<div>\n",
              "<style scoped>\n",
              "    .dataframe tbody tr th:only-of-type {\n",
              "        vertical-align: middle;\n",
              "    }\n",
              "\n",
              "    .dataframe tbody tr th {\n",
              "        vertical-align: top;\n",
              "    }\n",
              "\n",
              "    .dataframe thead th {\n",
              "        text-align: right;\n",
              "    }\n",
              "</style>\n",
              "<table border=\"1\" class=\"dataframe\">\n",
              "  <thead>\n",
              "    <tr style=\"text-align: right;\">\n",
              "      <th></th>\n",
              "      <th>x</th>\n",
              "      <th>y</th>\n",
              "    </tr>\n",
              "  </thead>\n",
              "  <tbody>\n",
              "    <tr>\n",
              "      <th>0</th>\n",
              "      <td>-15.0</td>\n",
              "      <td>-2156.994097</td>\n",
              "    </tr>\n",
              "    <tr>\n",
              "      <th>1</th>\n",
              "      <td>-14.5</td>\n",
              "      <td>-1956.523904</td>\n",
              "    </tr>\n",
              "    <tr>\n",
              "      <th>2</th>\n",
              "      <td>-14.0</td>\n",
              "      <td>-1778.151738</td>\n",
              "    </tr>\n",
              "    <tr>\n",
              "      <th>3</th>\n",
              "      <td>-13.5</td>\n",
              "      <td>-1610.924846</td>\n",
              "    </tr>\n",
              "    <tr>\n",
              "      <th>4</th>\n",
              "      <td>-13.0</td>\n",
              "      <td>-1456.176307</td>\n",
              "    </tr>\n",
              "    <tr>\n",
              "      <th>5</th>\n",
              "      <td>-12.5</td>\n",
              "      <td>-1302.029411</td>\n",
              "    </tr>\n",
              "    <tr>\n",
              "      <th>6</th>\n",
              "      <td>-12.0</td>\n",
              "      <td>-1170.000646</td>\n",
              "    </tr>\n",
              "    <tr>\n",
              "      <th>7</th>\n",
              "      <td>-11.5</td>\n",
              "      <td>-1044.071813</td>\n",
              "    </tr>\n",
              "    <tr>\n",
              "      <th>8</th>\n",
              "      <td>-11.0</td>\n",
              "      <td>-917.935911</td>\n",
              "    </tr>\n",
              "    <tr>\n",
              "      <th>9</th>\n",
              "      <td>-10.5</td>\n",
              "      <td>-811.861672</td>\n",
              "    </tr>\n",
              "  </tbody>\n",
              "</table>\n",
              "</div>"
            ],
            "text/plain": [
              "      x            y\n",
              "0 -15.0 -2156.994097\n",
              "1 -14.5 -1956.523904\n",
              "2 -14.0 -1778.151738\n",
              "3 -13.5 -1610.924846\n",
              "4 -13.0 -1456.176307\n",
              "5 -12.5 -1302.029411\n",
              "6 -12.0 -1170.000646\n",
              "7 -11.5 -1044.071813\n",
              "8 -11.0  -917.935911\n",
              "9 -10.5  -811.861672"
            ]
          },
          "metadata": {
            "tags": []
          },
          "execution_count": 2
        }
      ]
    },
    {
      "cell_type": "code",
      "metadata": {
        "id": "O-F5Mr_H5iR_",
        "colab_type": "code",
        "outputId": "a60ed1a2-1950-4a0a-f59f-5cf61b3fa00f",
        "colab": {
          "base_uri": "https://localhost:8080/",
          "height": 34
        }
      },
      "source": [
        "len(data)"
      ],
      "execution_count": 3,
      "outputs": [
        {
          "output_type": "execute_result",
          "data": {
            "text/plain": [
              "80"
            ]
          },
          "metadata": {
            "tags": []
          },
          "execution_count": 3
        }
      ]
    },
    {
      "cell_type": "markdown",
      "metadata": {
        "id": "WFOu_9ecWswp",
        "colab_type": "text"
      },
      "source": [
        "### Task 2:Split this given dataset into training set,testing set and validation set (80% data as training set,10% as testing and other 10% as validation)"
      ]
    },
    {
      "cell_type": "markdown",
      "metadata": {
        "id": "ATrFILiu7-wf",
        "colab_type": "text"
      },
      "source": [
        "## Split the data set into Training, Testing and Validation Set"
      ]
    },
    {
      "cell_type": "code",
      "metadata": {
        "id": "xV2DBLqXWkQ4",
        "colab_type": "code",
        "colab": {}
      },
      "source": [
        "train_data, test_data, validate_data = np.split(data.sample(frac = 1), [int(len(data)*0.8), int(len(data)*0.9)])"
      ],
      "execution_count": 0,
      "outputs": []
    },
    {
      "cell_type": "code",
      "metadata": {
        "id": "uiDDblC95n7d",
        "colab_type": "code",
        "outputId": "648b69eb-2c7a-4f2c-9be0-61ff0397a072",
        "colab": {
          "base_uri": "https://localhost:8080/",
          "height": 34
        }
      },
      "source": [
        "print(\"Length of Training Data : {}, Length of Test Data : {}, and Length of Validation Data : {}\".format(len(train_data), len(test_data), len(validate_data)))"
      ],
      "execution_count": 5,
      "outputs": [
        {
          "output_type": "stream",
          "text": [
            "Length of Training Data : 64, Length of Test Data : 8, and Length of Validation Data : 8\n"
          ],
          "name": "stdout"
        }
      ]
    },
    {
      "cell_type": "markdown",
      "metadata": {
        "id": "Y1aZbo4EW_cz",
        "colab_type": "text"
      },
      "source": [
        "### Task 3: Visualize the data and try to fit a linear (regression) model to it and comment whether you think this data is suitable to fit a linear model."
      ]
    },
    {
      "cell_type": "markdown",
      "metadata": {
        "id": "Rls3d59C8Gix",
        "colab_type": "text"
      },
      "source": [
        "## Visualizing the Training Data Set"
      ]
    },
    {
      "cell_type": "code",
      "metadata": {
        "id": "NVK5GP7gXOYf",
        "colab_type": "code",
        "outputId": "4eb7576d-1913-431c-f049-35364644a888",
        "colab": {
          "base_uri": "https://localhost:8080/",
          "height": 626
        }
      },
      "source": [
        "fig, ax = plt.subplots(figsize = (10,10))\n",
        "sns.set_context(context = 'poster', font_scale = 0.9)\n",
        "sns.set_style(style = 'whitegrid')\n",
        "sns.scatterplot(x='x', y ='y', data = train_data, palette= 'spectral')\n",
        "ax.set(xlabel='x', ylabel='y')\n"
      ],
      "execution_count": 6,
      "outputs": [
        {
          "output_type": "execute_result",
          "data": {
            "text/plain": [
              "[Text(0, 0.5, 'y'), Text(0.5, 0, 'x')]"
            ]
          },
          "metadata": {
            "tags": []
          },
          "execution_count": 6
        },
        {
          "output_type": "display_data",
          "data": {
            "image/png": "[encoded data removed]",
            "text/plain": [
              "<Figure size 720x720 with 1 Axes>"
            ]
          },
          "metadata": {
            "tags": []
          }
        }
      ]
    },
    {
      "cell_type": "markdown",
      "metadata": {
        "id": "oB4pRgjN8L-R",
        "colab_type": "text"
      },
      "source": [
        "## Performing regression on Training data set"
      ]
    },
    {
      "cell_type": "code",
      "metadata": {
        "id": "igWSIMB78XRq",
        "colab_type": "code",
        "outputId": "f9b4b77d-8ab3-4951-d984-656c679e53ff",
        "colab": {
          "base_uri": "https://localhost:8080/",
          "height": 204
        }
      },
      "source": [
        "temp_data = train_data.copy()\n",
        "lm = smf.ols(formula='y~x', data = temp_data).fit()\n",
        "temp_data['Prediction'] = lm.predict()\n",
        "temp_data.head()"
      ],
      "execution_count": 7,
      "outputs": [
        {
          "output_type": "execute_result",
          "data": {
            "text/html": [
              "<div>\n",
              "<style scoped>\n",
              "    .dataframe tbody tr th:only-of-type {\n",
              "        vertical-align: middle;\n",
              "    }\n",
              "\n",
              "    .dataframe tbody tr th {\n",
              "        vertical-align: top;\n",
              "    }\n",
              "\n",
              "    .dataframe thead th {\n",
              "        text-align: right;\n",
              "    }\n",
              "</style>\n",
              "<table border=\"1\" class=\"dataframe\">\n",
              "  <thead>\n",
              "    <tr style=\"text-align: right;\">\n",
              "      <th></th>\n",
              "      <th>x</th>\n",
              "      <th>y</th>\n",
              "      <th>Prediction</th>\n",
              "    </tr>\n",
              "  </thead>\n",
              "  <tbody>\n",
              "    <tr>\n",
              "      <th>18</th>\n",
              "      <td>-6.0</td>\n",
              "      <td>-190.366598</td>\n",
              "      <td>-683.250517</td>\n",
              "    </tr>\n",
              "    <tr>\n",
              "      <th>58</th>\n",
              "      <td>14.0</td>\n",
              "      <td>997.777927</td>\n",
              "      <td>1879.307847</td>\n",
              "    </tr>\n",
              "    <tr>\n",
              "      <th>24</th>\n",
              "      <td>-3.0</td>\n",
              "      <td>-35.624306</td>\n",
              "      <td>-298.866762</td>\n",
              "    </tr>\n",
              "    <tr>\n",
              "      <th>74</th>\n",
              "      <td>22.0</td>\n",
              "      <td>4371.531453</td>\n",
              "      <td>2904.331193</td>\n",
              "    </tr>\n",
              "    <tr>\n",
              "      <th>19</th>\n",
              "      <td>-5.5</td>\n",
              "      <td>-152.135063</td>\n",
              "      <td>-619.186558</td>\n",
              "    </tr>\n",
              "  </tbody>\n",
              "</table>\n",
              "</div>"
            ],
            "text/plain": [
              "       x            y   Prediction\n",
              "18  -6.0  -190.366598  -683.250517\n",
              "58  14.0   997.777927  1879.307847\n",
              "24  -3.0   -35.624306  -298.866762\n",
              "74  22.0  4371.531453  2904.331193\n",
              "19  -5.5  -152.135063  -619.186558"
            ]
          },
          "metadata": {
            "tags": []
          },
          "execution_count": 7
        }
      ]
    },
    {
      "cell_type": "markdown",
      "metadata": {
        "id": "uHhhDEH_8R4t",
        "colab_type": "text"
      },
      "source": [
        "## R2 Score of the Training data set"
      ]
    },
    {
      "cell_type": "code",
      "metadata": {
        "id": "EIy3vfmlCF1-",
        "colab_type": "code",
        "outputId": "c0eacaed-58c4-4da6-b7a6-e176713b3934",
        "colab": {
          "base_uri": "https://localhost:8080/",
          "height": 34
        }
      },
      "source": [
        "print('R2 Score: ',r2_score(temp_data['y'],temp_data['Prediction']))"
      ],
      "execution_count": 8,
      "outputs": [
        {
          "output_type": "stream",
          "text": [
            "R2 Score:  0.7746373542993208\n"
          ],
          "name": "stdout"
        }
      ]
    },
    {
      "cell_type": "markdown",
      "metadata": {
        "id": "cd5qg4sUXS2h",
        "colab_type": "text"
      },
      "source": [
        "### Task 4: Visualize the regression fit"
      ]
    },
    {
      "cell_type": "code",
      "metadata": {
        "colab_type": "code",
        "outputId": "dff5e441-a0bd-4387-d1c6-b85024199bd2",
        "id": "_x2d-p2r5JTJ",
        "colab": {
          "base_uri": "https://localhost:8080/",
          "height": 672
        }
      },
      "source": [
        "fig, ax = plt.subplots(figsize = (10,10)) \n",
        "temp_data.plot(ax=ax,kind='scatter',x='x',y='y', legend = True, title = 'Regression Fit on the Data') \n",
        "ax.plot(temp_data.x,temp_data.Prediction,'r-')\n",
        "ax.set(xlabel='Prediction', ylabel='Original y')\n",
        "ax.legend()"
      ],
      "execution_count": 9,
      "outputs": [
        {
          "output_type": "execute_result",
          "data": {
            "text/plain": [
              "<matplotlib.legend.Legend at 0x7fdf619d4748>"
            ]
          },
          "metadata": {
            "tags": []
          },
          "execution_count": 9
        },
        {
          "output_type": "display_data",
          "data": {
            "image/png": "[encoded data removed]",
            "text/plain": [
              "<Figure size 720x720 with 1 Axes>"
            ]
          },
          "metadata": {
            "tags": []
          }
        }
      ]
    },
    {
      "cell_type": "markdown",
      "metadata": {
        "id": "n-y9aWREaKsK",
        "colab_type": "text"
      },
      "source": [
        "### Task 5: Try to introduce another regressor variable if you think that linear model was not apt for this."
      ]
    },
    {
      "cell_type": "markdown",
      "metadata": {
        "id": "eAsnivQd8X_7",
        "colab_type": "text"
      },
      "source": [
        "## Introducing a Square Root regressor variable"
      ]
    },
    {
      "cell_type": "code",
      "metadata": {
        "id": "T5sgYE3bi7KO",
        "colab_type": "code",
        "colab": {}
      },
      "source": [
        "tt = train_data.copy()"
      ],
      "execution_count": 0,
      "outputs": []
    },
    {
      "cell_type": "code",
      "metadata": {
        "id": "eyZuI7g_anyC",
        "colab_type": "code",
        "colab": {}
      },
      "source": [
        "tt['Sq_2']=tt.x*np.sqrt(2)"
      ],
      "execution_count": 0,
      "outputs": []
    },
    {
      "cell_type": "markdown",
      "metadata": {
        "id": "4BXxh0flatKF",
        "colab_type": "text"
      },
      "source": [
        "### Task 6: Fit a regression model to it,now with 2 regressor variables and also visualize the results"
      ]
    },
    {
      "cell_type": "markdown",
      "metadata": {
        "id": "YJC0OyMW8chF",
        "colab_type": "text"
      },
      "source": [
        "## Regression fit to 'x' and 'Square root x'"
      ]
    },
    {
      "cell_type": "code",
      "metadata": {
        "id": "6l43truMarCv",
        "colab_type": "code",
        "outputId": "3edb20f0-7d70-4ac4-cac4-d5fdf37837e8",
        "colab": {
          "base_uri": "https://localhost:8080/",
          "height": 442
        }
      },
      "source": [
        "#lm1 = smf.ols(formula='y~x+Sq_2', data = tt).fit()\n",
        "tt['2_regressor_prediction'] = lm.predict(tt)\n",
        "\n",
        "print(lm.summary())"
      ],
      "execution_count": 12,
      "outputs": [
        {
          "output_type": "stream",
          "text": [
            "                            OLS Regression Results                            \n",
            "==============================================================================\n",
            "Dep. Variable:                      y   R-squared:                       0.775\n",
            "Model:                            OLS   Adj. R-squared:                  0.771\n",
            "Method:                 Least Squares   F-statistic:                     213.1\n",
            "Date:                Wed, 23 Oct 2019   Prob (F-statistic):           9.93e-22\n",
            "Time:                        02:36:24   Log-Likelihood:                -517.21\n",
            "No. Observations:                  64   AIC:                             1038.\n",
            "Df Residuals:                      62   BIC:                             1043.\n",
            "Df Model:                           1                                         \n",
            "Covariance Type:            nonrobust                                         \n",
            "==============================================================================\n",
            "                 coef    std err          t      P>|t|      [0.025      0.975]\n",
            "------------------------------------------------------------------------------\n",
            "Intercept     85.5170    106.984      0.799      0.427    -128.340     299.374\n",
            "x            128.1279      8.777     14.598      0.000     110.583     145.673\n",
            "==============================================================================\n",
            "Omnibus:                       12.338   Durbin-Watson:                   1.663\n",
            "Prob(Omnibus):                  0.002   Jarque-Bera (JB):               13.558\n",
            "Skew:                           0.885   Prob(JB):                      0.00114\n",
            "Kurtosis:                       4.398   Cond. No.                         13.1\n",
            "==============================================================================\n",
            "\n",
            "Warnings:\n",
            "[1] Standard Errors assume that the covariance matrix of the errors is correctly specified.\n"
          ],
          "name": "stdout"
        }
      ]
    },
    {
      "cell_type": "markdown",
      "metadata": {
        "id": "4rrwmAjd8hbt",
        "colab_type": "text"
      },
      "source": [
        "## Visualize the Regression fit"
      ]
    },
    {
      "cell_type": "code",
      "metadata": {
        "id": "0dqE9OHF1TJl",
        "colab_type": "code",
        "outputId": "d025a1aa-7718-463f-ec96-6c83ddf295e1",
        "colab": {
          "base_uri": "https://localhost:8080/",
          "height": 662
        }
      },
      "source": [
        "fig, ax = plt.subplots(figsize = (10,10)) \n",
        "tt.plot(ax=ax,kind='scatter',x='2_regressor_prediction',y='y', color = 'purple') \n",
        "ax.plot(tt['2_regressor_prediction'],tt['2_regressor_prediction'],'g-')\n",
        "ax.set(xlabel = 'Prediction with Regressor', ylabel = 'y')\n",
        "ax.legend()"
      ],
      "execution_count": 13,
      "outputs": [
        {
          "output_type": "execute_result",
          "data": {
            "text/plain": [
              "<matplotlib.legend.Legend at 0x7fdf618f9eb8>"
            ]
          },
          "metadata": {
            "tags": []
          },
          "execution_count": 13
        },
        {
          "output_type": "display_data",
          "data": {
            "image/png": "[encoded data removed]",
            "text/plain": [
              "<Figure size 720x720 with 1 Axes>"
            ]
          },
          "metadata": {
            "tags": []
          }
        }
      ]
    },
    {
      "cell_type": "markdown",
      "metadata": {
        "id": "ifu-vLZxa204",
        "colab_type": "text"
      },
      "source": [
        "### Task 7: Generate regressors in the validation sample in range from M=12(Max power of x) and compute the model prediction.Visualize the fit of the model."
      ]
    },
    {
      "cell_type": "markdown",
      "metadata": {
        "id": "47tTB_bC8kkv",
        "colab_type": "text"
      },
      "source": [
        "## Putting 12 Regressors in Training Set "
      ]
    },
    {
      "cell_type": "code",
      "metadata": {
        "id": "NPPXLD-p5lJQ",
        "colab_type": "code",
        "colab": {
          "base_uri": "https://localhost:8080/",
          "height": 204
        },
        "outputId": "8f77eb20-0824-4b94-f98b-f2595d8b14d0"
      },
      "source": [
        "M = 12\n",
        "for p in range(1,M+1): \n",
        "    temp_data['x%d'%p]=temp_data.x**p\n",
        "temp_data.head()"
      ],
      "execution_count": 14,
      "outputs": [
        {
          "output_type": "execute_result",
          "data": {
            "text/html": [
              "<div>\n",
              "<style scoped>\n",
              "    .dataframe tbody tr th:only-of-type {\n",
              "        vertical-align: middle;\n",
              "    }\n",
              "\n",
              "    .dataframe tbody tr th {\n",
              "        vertical-align: top;\n",
              "    }\n",
              "\n",
              "    .dataframe thead th {\n",
              "        text-align: right;\n",
              "    }\n",
              "</style>\n",
              "<table border=\"1\" class=\"dataframe\">\n",
              "  <thead>\n",
              "    <tr style=\"text-align: right;\">\n",
              "      <th></th>\n",
              "      <th>x</th>\n",
              "      <th>y</th>\n",
              "      <th>Prediction</th>\n",
              "      <th>x1</th>\n",
              "      <th>x2</th>\n",
              "      <th>x3</th>\n",
              "      <th>x4</th>\n",
              "      <th>x5</th>\n",
              "      <th>x6</th>\n",
              "      <th>x7</th>\n",
              "      <th>x8</th>\n",
              "      <th>x9</th>\n",
              "      <th>x10</th>\n",
              "      <th>x11</th>\n",
              "      <th>x12</th>\n",
              "    </tr>\n",
              "  </thead>\n",
              "  <tbody>\n",
              "    <tr>\n",
              "      <th>18</th>\n",
              "      <td>-6.0</td>\n",
              "      <td>-190.366598</td>\n",
              "      <td>-683.250517</td>\n",
              "      <td>-6.0</td>\n",
              "      <td>36.00</td>\n",
              "      <td>-216.000</td>\n",
              "      <td>1296.0000</td>\n",
              "      <td>-7.776000e+03</td>\n",
              "      <td>4.665600e+04</td>\n",
              "      <td>-2.799360e+05</td>\n",
              "      <td>1.679616e+06</td>\n",
              "      <td>-1.007770e+07</td>\n",
              "      <td>6.046618e+07</td>\n",
              "      <td>-3.627971e+08</td>\n",
              "      <td>2.176782e+09</td>\n",
              "    </tr>\n",
              "    <tr>\n",
              "      <th>58</th>\n",
              "      <td>14.0</td>\n",
              "      <td>997.777927</td>\n",
              "      <td>1879.307847</td>\n",
              "      <td>14.0</td>\n",
              "      <td>196.00</td>\n",
              "      <td>2744.000</td>\n",
              "      <td>38416.0000</td>\n",
              "      <td>5.378240e+05</td>\n",
              "      <td>7.529536e+06</td>\n",
              "      <td>1.054135e+08</td>\n",
              "      <td>1.475789e+09</td>\n",
              "      <td>2.066105e+10</td>\n",
              "      <td>2.892547e+11</td>\n",
              "      <td>4.049565e+12</td>\n",
              "      <td>5.669391e+13</td>\n",
              "    </tr>\n",
              "    <tr>\n",
              "      <th>24</th>\n",
              "      <td>-3.0</td>\n",
              "      <td>-35.624306</td>\n",
              "      <td>-298.866762</td>\n",
              "      <td>-3.0</td>\n",
              "      <td>9.00</td>\n",
              "      <td>-27.000</td>\n",
              "      <td>81.0000</td>\n",
              "      <td>-2.430000e+02</td>\n",
              "      <td>7.290000e+02</td>\n",
              "      <td>-2.187000e+03</td>\n",
              "      <td>6.561000e+03</td>\n",
              "      <td>-1.968300e+04</td>\n",
              "      <td>5.904900e+04</td>\n",
              "      <td>-1.771470e+05</td>\n",
              "      <td>5.314410e+05</td>\n",
              "    </tr>\n",
              "    <tr>\n",
              "      <th>74</th>\n",
              "      <td>22.0</td>\n",
              "      <td>4371.531453</td>\n",
              "      <td>2904.331193</td>\n",
              "      <td>22.0</td>\n",
              "      <td>484.00</td>\n",
              "      <td>10648.000</td>\n",
              "      <td>234256.0000</td>\n",
              "      <td>5.153632e+06</td>\n",
              "      <td>1.133799e+08</td>\n",
              "      <td>2.494358e+09</td>\n",
              "      <td>5.487587e+10</td>\n",
              "      <td>1.207269e+12</td>\n",
              "      <td>2.655992e+13</td>\n",
              "      <td>5.843183e+14</td>\n",
              "      <td>1.285500e+16</td>\n",
              "    </tr>\n",
              "    <tr>\n",
              "      <th>19</th>\n",
              "      <td>-5.5</td>\n",
              "      <td>-152.135063</td>\n",
              "      <td>-619.186558</td>\n",
              "      <td>-5.5</td>\n",
              "      <td>30.25</td>\n",
              "      <td>-166.375</td>\n",
              "      <td>915.0625</td>\n",
              "      <td>-5.032844e+03</td>\n",
              "      <td>2.768064e+04</td>\n",
              "      <td>-1.522435e+05</td>\n",
              "      <td>8.373394e+05</td>\n",
              "      <td>-4.605367e+06</td>\n",
              "      <td>2.532952e+07</td>\n",
              "      <td>-1.393123e+08</td>\n",
              "      <td>7.662179e+08</td>\n",
              "    </tr>\n",
              "  </tbody>\n",
              "</table>\n",
              "</div>"
            ],
            "text/plain": [
              "       x            y   Prediction  ...           x10           x11           x12\n",
              "18  -6.0  -190.366598  -683.250517  ...  6.046618e+07 -3.627971e+08  2.176782e+09\n",
              "58  14.0   997.777927  1879.307847  ...  2.892547e+11  4.049565e+12  5.669391e+13\n",
              "24  -3.0   -35.624306  -298.866762  ...  5.904900e+04 -1.771470e+05  5.314410e+05\n",
              "74  22.0  4371.531453  2904.331193  ...  2.655992e+13  5.843183e+14  1.285500e+16\n",
              "19  -5.5  -152.135063  -619.186558  ...  2.532952e+07 -1.393123e+08  7.662179e+08\n",
              "\n",
              "[5 rows x 15 columns]"
            ]
          },
          "metadata": {
            "tags": []
          },
          "execution_count": 14
        }
      ]
    },
    {
      "cell_type": "markdown",
      "metadata": {
        "id": "Mjs-X49f8qF-",
        "colab_type": "text"
      },
      "source": [
        "## Fitting the model with Training Set"
      ]
    },
    {
      "cell_type": "code",
      "metadata": {
        "id": "n16EDkiY50cQ",
        "colab_type": "code",
        "colab": {
          "base_uri": "https://localhost:8080/",
          "height": 663
        },
        "outputId": "7647b72d-42aa-432a-ec1a-ee226761d8c8"
      },
      "source": [
        "R2 = []; Params = []\n",
        "for M in range(1,M+1):\n",
        "    lm = smf.ols(formula = 'y~x'+'+'*(M>1)+'+'.join(['x%d'%p for p in range(2,M+1)]), data = temp_data).fit()\n",
        "    R2.append(lm.rsquared)\n",
        "    Params.append(lm.params)\n",
        "\n",
        "print(lm.summary())"
      ],
      "execution_count": 15,
      "outputs": [
        {
          "output_type": "stream",
          "text": [
            "                            OLS Regression Results                            \n",
            "==============================================================================\n",
            "Dep. Variable:                      y   R-squared:                       1.000\n",
            "Model:                            OLS   Adj. R-squared:                  1.000\n",
            "Method:                 Least Squares   F-statistic:                 1.449e+05\n",
            "Date:                Wed, 23 Oct 2019   Prob (F-statistic):          5.32e-115\n",
            "Time:                        02:36:25   Log-Likelihood:                -241.94\n",
            "No. Observations:                  64   AIC:                             503.9\n",
            "Df Residuals:                      54   BIC:                             525.5\n",
            "Df Model:                           9                                         \n",
            "Covariance Type:            nonrobust                                         \n",
            "==============================================================================\n",
            "                 coef    std err          t      P>|t|      [0.025      0.975]\n",
            "------------------------------------------------------------------------------\n",
            "Intercept     -0.0004    1.7e-05    -20.734      0.000      -0.000      -0.000\n",
            "x              0.0226      0.001     17.606      0.000       0.020       0.025\n",
            "x2             0.0011      0.000      5.028      0.000       0.001       0.002\n",
            "x3             0.5374      0.031     17.568      0.000       0.476       0.599\n",
            "x4            -0.0723      0.003    -20.763      0.000      -0.079      -0.065\n",
            "x5             0.0010      0.001      1.563      0.124      -0.000       0.002\n",
            "x6             0.0009    6.9e-05     12.365      0.000       0.001       0.001\n",
            "x7          -2.98e-05   5.55e-06     -5.370      0.000   -4.09e-05   -1.87e-05\n",
            "x8         -3.921e-06   4.34e-07     -9.041      0.000   -4.79e-06   -3.05e-06\n",
            "x9          2.113e-07   2.69e-08      7.868      0.000    1.57e-07    2.65e-07\n",
            "x10         4.534e-09   7.65e-10      5.923      0.000       3e-09    6.07e-09\n",
            "x11        -4.614e-10   6.03e-11     -7.651      0.000   -5.82e-10   -3.41e-10\n",
            "x12         7.548e-12   1.09e-12      6.928      0.000    5.36e-12    9.73e-12\n",
            "==============================================================================\n",
            "Omnibus:                        1.335   Durbin-Watson:                   1.766\n",
            "Prob(Omnibus):                  0.513   Jarque-Bera (JB):                1.241\n",
            "Skew:                          -0.199   Prob(JB):                        0.538\n",
            "Kurtosis:                       2.445   Cond. No.                     1.87e+16\n",
            "==============================================================================\n",
            "\n",
            "Warnings:\n",
            "[1] Standard Errors assume that the covariance matrix of the errors is correctly specified.\n",
            "[2] The condition number is large, 1.87e+16. This might indicate that there are\n",
            "strong multicollinearity or other numerical problems.\n"
          ],
          "name": "stdout"
        }
      ]
    },
    {
      "cell_type": "markdown",
      "metadata": {
        "id": "Y1TGnU1v8uU8",
        "colab_type": "text"
      },
      "source": [
        "## Visualizing the fit for each power"
      ]
    },
    {
      "cell_type": "code",
      "metadata": {
        "id": "Mafv-BG76N0A",
        "colab_type": "code",
        "colab": {
          "base_uri": "https://localhost:8080/",
          "height": 1000
        },
        "outputId": "efcf2f7a-2477-4321-c619-56dffd4bdd21"
      },
      "source": [
        "plt.clf()\n",
        "plt.figure(figsize = (25,25))\n",
        "\n",
        "\n",
        "for M in range(1,M+1):\n",
        "    \n",
        "    plt.subplot(4,3,M)\n",
        "    \n",
        "    x_fit = np.linspace(-20,40,100)\n",
        "    y_fit = pd.DataFrame(np.matrix([x_fit**k for k in range( M+1)]).T, columns = Params[M-1].index).mul(Params[M-1], 1).sum(1)\n",
        "    \n",
        "    \n",
        "    plt.plot(temp_data.x1, temp_data.y, 'co', markersize = 8) \n",
        "    plt.plot(x_fit, y_fit, 'y--', lw = 2)     \n",
        "    plt.title('For degree M = %d'%(M), fontsize = 18)\n",
        "\n",
        "    plt.legend()\n",
        "    plt.tight_layout()"
      ],
      "execution_count": 16,
      "outputs": [
        {
          "output_type": "display_data",
          "data": {
            "text/plain": [
              "<Figure size 432x288 with 0 Axes>"
            ]
          },
          "metadata": {
            "tags": []
          }
        },
        {
          "output_type": "display_data",
          "data": {
            "image/png": "[encoded data removed]",
            "text/plain": [
              "<Figure size 1800x1800 with 12 Axes>"
            ]
          },
          "metadata": {
            "tags": []
          }
        }
      ]
    },
    {
      "cell_type": "markdown",
      "metadata": {
        "id": "pjogvBJQ8yJH",
        "colab_type": "text"
      },
      "source": [
        "## Addidng 12 powers to Validation data set"
      ]
    },
    {
      "cell_type": "code",
      "metadata": {
        "id": "yRA9m5lzcBG0",
        "colab_type": "code",
        "outputId": "2e4d3fee-731d-452e-c20d-06e8f851c5d7",
        "colab": {
          "base_uri": "https://localhost:8080/",
          "height": 204
        }
      },
      "source": [
        "temp_valid=validate_data.copy()\n",
        "\n",
        "M = 12\n",
        "for p in range(1,M+1): \n",
        "    temp_valid['x%d'%p]=temp_valid.x**p\n",
        "temp_valid.head()"
      ],
      "execution_count": 17,
      "outputs": [
        {
          "output_type": "execute_result",
          "data": {
            "text/html": [
              "<div>\n",
              "<style scoped>\n",
              "    .dataframe tbody tr th:only-of-type {\n",
              "        vertical-align: middle;\n",
              "    }\n",
              "\n",
              "    .dataframe tbody tr th {\n",
              "        vertical-align: top;\n",
              "    }\n",
              "\n",
              "    .dataframe thead th {\n",
              "        text-align: right;\n",
              "    }\n",
              "</style>\n",
              "<table border=\"1\" class=\"dataframe\">\n",
              "  <thead>\n",
              "    <tr style=\"text-align: right;\">\n",
              "      <th></th>\n",
              "      <th>x</th>\n",
              "      <th>y</th>\n",
              "      <th>x1</th>\n",
              "      <th>x2</th>\n",
              "      <th>x3</th>\n",
              "      <th>x4</th>\n",
              "      <th>x5</th>\n",
              "      <th>x6</th>\n",
              "      <th>x7</th>\n",
              "      <th>x8</th>\n",
              "      <th>x9</th>\n",
              "      <th>x10</th>\n",
              "      <th>x11</th>\n",
              "      <th>x12</th>\n",
              "    </tr>\n",
              "  </thead>\n",
              "  <tbody>\n",
              "    <tr>\n",
              "      <th>73</th>\n",
              "      <td>21.5</td>\n",
              "      <td>4064.435650</td>\n",
              "      <td>21.5</td>\n",
              "      <td>462.25</td>\n",
              "      <td>9938.375</td>\n",
              "      <td>213675.0625</td>\n",
              "      <td>4.594014e+06</td>\n",
              "      <td>9.877130e+07</td>\n",
              "      <td>2.123583e+09</td>\n",
              "      <td>4.565703e+10</td>\n",
              "      <td>9.816262e+11</td>\n",
              "      <td>2.110496e+13</td>\n",
              "      <td>4.537567e+14</td>\n",
              "      <td>9.755769e+15</td>\n",
              "    </tr>\n",
              "    <tr>\n",
              "      <th>59</th>\n",
              "      <td>14.5</td>\n",
              "      <td>1115.185729</td>\n",
              "      <td>14.5</td>\n",
              "      <td>210.25</td>\n",
              "      <td>3048.625</td>\n",
              "      <td>44205.0625</td>\n",
              "      <td>6.409734e+05</td>\n",
              "      <td>9.294114e+06</td>\n",
              "      <td>1.347647e+08</td>\n",
              "      <td>1.954088e+09</td>\n",
              "      <td>2.833427e+10</td>\n",
              "      <td>4.108469e+11</td>\n",
              "      <td>5.957280e+12</td>\n",
              "      <td>8.638056e+13</td>\n",
              "    </tr>\n",
              "    <tr>\n",
              "      <th>33</th>\n",
              "      <td>1.5</td>\n",
              "      <td>-7.816780</td>\n",
              "      <td>1.5</td>\n",
              "      <td>2.25</td>\n",
              "      <td>3.375</td>\n",
              "      <td>5.0625</td>\n",
              "      <td>7.593750e+00</td>\n",
              "      <td>1.139062e+01</td>\n",
              "      <td>1.708594e+01</td>\n",
              "      <td>2.562891e+01</td>\n",
              "      <td>3.844336e+01</td>\n",
              "      <td>5.766504e+01</td>\n",
              "      <td>8.649756e+01</td>\n",
              "      <td>1.297463e+02</td>\n",
              "    </tr>\n",
              "    <tr>\n",
              "      <th>8</th>\n",
              "      <td>-11.0</td>\n",
              "      <td>-917.935911</td>\n",
              "      <td>-11.0</td>\n",
              "      <td>121.00</td>\n",
              "      <td>-1331.000</td>\n",
              "      <td>14641.0000</td>\n",
              "      <td>-1.610510e+05</td>\n",
              "      <td>1.771561e+06</td>\n",
              "      <td>-1.948717e+07</td>\n",
              "      <td>2.143589e+08</td>\n",
              "      <td>-2.357948e+09</td>\n",
              "      <td>2.593742e+10</td>\n",
              "      <td>-2.853117e+11</td>\n",
              "      <td>3.138428e+12</td>\n",
              "    </tr>\n",
              "    <tr>\n",
              "      <th>0</th>\n",
              "      <td>-15.0</td>\n",
              "      <td>-2156.994097</td>\n",
              "      <td>-15.0</td>\n",
              "      <td>225.00</td>\n",
              "      <td>-3375.000</td>\n",
              "      <td>50625.0000</td>\n",
              "      <td>-7.593750e+05</td>\n",
              "      <td>1.139062e+07</td>\n",
              "      <td>-1.708594e+08</td>\n",
              "      <td>2.562891e+09</td>\n",
              "      <td>-3.844336e+10</td>\n",
              "      <td>5.766504e+11</td>\n",
              "      <td>-8.649756e+12</td>\n",
              "      <td>1.297463e+14</td>\n",
              "    </tr>\n",
              "  </tbody>\n",
              "</table>\n",
              "</div>"
            ],
            "text/plain": [
              "       x            y    x1  ...           x10           x11           x12\n",
              "73  21.5  4064.435650  21.5  ...  2.110496e+13  4.537567e+14  9.755769e+15\n",
              "59  14.5  1115.185729  14.5  ...  4.108469e+11  5.957280e+12  8.638056e+13\n",
              "33   1.5    -7.816780   1.5  ...  5.766504e+01  8.649756e+01  1.297463e+02\n",
              "8  -11.0  -917.935911 -11.0  ...  2.593742e+10 -2.853117e+11  3.138428e+12\n",
              "0  -15.0 -2156.994097 -15.0  ...  5.766504e+11 -8.649756e+12  1.297463e+14\n",
              "\n",
              "[5 rows x 14 columns]"
            ]
          },
          "metadata": {
            "tags": []
          },
          "execution_count": 17
        }
      ]
    },
    {
      "cell_type": "markdown",
      "metadata": {
        "id": "sY7Q_DGT82Y8",
        "colab_type": "text"
      },
      "source": [
        "## Fitting the validation data set to the model"
      ]
    },
    {
      "cell_type": "code",
      "metadata": {
        "id": "VgnWv15Qzi-s",
        "colab_type": "code",
        "outputId": "79147f13-7bd1-4920-ec97-ed09d87ef2fd",
        "colab": {
          "base_uri": "https://localhost:8080/",
          "height": 663
        }
      },
      "source": [
        "temp_valid['ypred']=lm.predict(temp_valid)\n",
        "print(lm.summary())"
      ],
      "execution_count": 18,
      "outputs": [
        {
          "output_type": "stream",
          "text": [
            "                            OLS Regression Results                            \n",
            "==============================================================================\n",
            "Dep. Variable:                      y   R-squared:                       1.000\n",
            "Model:                            OLS   Adj. R-squared:                  1.000\n",
            "Method:                 Least Squares   F-statistic:                 1.449e+05\n",
            "Date:                Wed, 23 Oct 2019   Prob (F-statistic):          5.32e-115\n",
            "Time:                        02:36:30   Log-Likelihood:                -241.94\n",
            "No. Observations:                  64   AIC:                             503.9\n",
            "Df Residuals:                      54   BIC:                             525.5\n",
            "Df Model:                           9                                         \n",
            "Covariance Type:            nonrobust                                         \n",
            "==============================================================================\n",
            "                 coef    std err          t      P>|t|      [0.025      0.975]\n",
            "------------------------------------------------------------------------------\n",
            "Intercept     -0.0004    1.7e-05    -20.734      0.000      -0.000      -0.000\n",
            "x              0.0226      0.001     17.606      0.000       0.020       0.025\n",
            "x2             0.0011      0.000      5.028      0.000       0.001       0.002\n",
            "x3             0.5374      0.031     17.568      0.000       0.476       0.599\n",
            "x4            -0.0723      0.003    -20.763      0.000      -0.079      -0.065\n",
            "x5             0.0010      0.001      1.563      0.124      -0.000       0.002\n",
            "x6             0.0009    6.9e-05     12.365      0.000       0.001       0.001\n",
            "x7          -2.98e-05   5.55e-06     -5.370      0.000   -4.09e-05   -1.87e-05\n",
            "x8         -3.921e-06   4.34e-07     -9.041      0.000   -4.79e-06   -3.05e-06\n",
            "x9          2.113e-07   2.69e-08      7.868      0.000    1.57e-07    2.65e-07\n",
            "x10         4.534e-09   7.65e-10      5.923      0.000       3e-09    6.07e-09\n",
            "x11        -4.614e-10   6.03e-11     -7.651      0.000   -5.82e-10   -3.41e-10\n",
            "x12         7.548e-12   1.09e-12      6.928      0.000    5.36e-12    9.73e-12\n",
            "==============================================================================\n",
            "Omnibus:                        1.335   Durbin-Watson:                   1.766\n",
            "Prob(Omnibus):                  0.513   Jarque-Bera (JB):                1.241\n",
            "Skew:                          -0.199   Prob(JB):                        0.538\n",
            "Kurtosis:                       2.445   Cond. No.                     1.87e+16\n",
            "==============================================================================\n",
            "\n",
            "Warnings:\n",
            "[1] Standard Errors assume that the covariance matrix of the errors is correctly specified.\n",
            "[2] The condition number is large, 1.87e+16. This might indicate that there are\n",
            "strong multicollinearity or other numerical problems.\n"
          ],
          "name": "stdout"
        }
      ]
    },
    {
      "cell_type": "markdown",
      "metadata": {
        "id": "G19VbZHv87AT",
        "colab_type": "text"
      },
      "source": [
        "## Plotting the visualization \n",
        "\n",
        "\n",
        "\n",
        "\n"
      ]
    },
    {
      "cell_type": "code",
      "metadata": {
        "id": "2JSp1owD0G_S",
        "colab_type": "code",
        "outputId": "22f82a4e-0f59-4f8b-c0b9-672e08162976",
        "colab": {
          "base_uri": "https://localhost:8080/",
          "height": 663
        }
      },
      "source": [
        "'''plt.clf()\n",
        "plt.figure(figsize = (25,25))\n",
        "\n",
        "\n",
        "for M in range(1,M+1):\n",
        "    \n",
        "    plt.subplot(4,3,M)\n",
        "    \n",
        "    x_fit = np.linspace(-20,20,100)\n",
        "    y_fit = pd.DataFrame(np.matrix([x_fit**k for k in range( M+1)]).T, columns = Params[M-1].index).mul(Params[M-1], 1).sum(1)\n",
        "    \n",
        "    \n",
        "    plt.plot(temp_valid.x1, temp_valid.y, 'co', markersize = 8) \n",
        "    plt.plot(x_fit, y_fit, 'y--', lw = 2)     \n",
        "    plt.title('For degree M = %d'%(M), fontsize = 18)\n",
        "\n",
        "    plt.legend()\n",
        "    plt.tight_layout()'''\n",
        "\n",
        "\n",
        "plt.clf()\n",
        "plt.figure(figsize = (10,10))\n",
        "plt.plot(temp_valid.ypred, temp_valid.y, 'co', markersize = 8)\n",
        "plt.plot(temp_valid.ypred, temp_valid.ypred, 'y-', lw =2)\n",
        "plt.title('Validation data', fontsize = 18)\n",
        "\n",
        "plt.legend()"
      ],
      "execution_count": 19,
      "outputs": [
        {
          "output_type": "execute_result",
          "data": {
            "text/plain": [
              "<matplotlib.legend.Legend at 0x7fdf61535320>"
            ]
          },
          "metadata": {
            "tags": []
          },
          "execution_count": 19
        },
        {
          "output_type": "display_data",
          "data": {
            "text/plain": [
              "<Figure size 432x288 with 0 Axes>"
            ]
          },
          "metadata": {
            "tags": []
          }
        },
        {
          "output_type": "display_data",
          "data": {
            "image/png": "[encoded data removed]",
            "text/plain": [
              "<Figure size 720x720 with 1 Axes>"
            ]
          },
          "metadata": {
            "tags": []
          }
        }
      ]
    },
    {
      "cell_type": "markdown",
      "metadata": {
        "id": "orOQkqaJcEPA",
        "colab_type": "text"
      },
      "source": [
        "### Task 8:Compute R2 over the validation data"
      ]
    },
    {
      "cell_type": "code",
      "metadata": {
        "id": "HcnZ6kKzybEp",
        "colab_type": "code",
        "colab": {
          "base_uri": "https://localhost:8080/",
          "height": 34
        },
        "outputId": "eebf28a8-b214-4e7d-f37b-7da3c3b52569"
      },
      "source": [
        "print(\"R2_Score for Validation Data: {}\".format(r2_score(temp_valid.y, temp_valid.ypred)))"
      ],
      "execution_count": 20,
      "outputs": [
        {
          "output_type": "stream",
          "text": [
            "R2_Score for Validation Data: 0.9994395400165887\n"
          ],
          "name": "stdout"
        }
      ]
    },
    {
      "cell_type": "code",
      "metadata": {
        "id": "tSrK3kJXQP8e",
        "colab_type": "code",
        "colab": {
          "base_uri": "https://localhost:8080/",
          "height": 54
        },
        "outputId": "fde5b89c-3a7a-4b9e-af4f-95dd2f1032a1"
      },
      "source": [
        "R2 = []; Params = []\n",
        "'''\n",
        "for M in range(1,13):\n",
        "    formula='y~x'+'+'*(M>1)+'+'.join(['x%d'%p for p in range(2,M+1)]);\n",
        "    lm = smf.ols(formula = formula).fit(validate_data)\n",
        "    R2.append(ax.rsquared)\n",
        "    Params.append(ax.params)\n",
        "\n",
        "plt.title('R2 depending on the degree')\n",
        "plt.plot(range(1,13),R2)\n",
        "'''"
      ],
      "execution_count": 21,
      "outputs": [
        {
          "output_type": "execute_result",
          "data": {
            "text/plain": [
              "\"\\nfor M in range(1,13):\\n    formula='y~x'+'+'*(M>1)+'+'.join(['x%d'%p for p in range(2,M+1)]);\\n    lm = smf.ols(formula = formula).fit(validate_data)\\n    R2.append(ax.rsquared)\\n    Params.append(ax.params)\\n\\nplt.title('R2 depending on the degree')\\nplt.plot(range(1,13),R2)\\n\""
            ]
          },
          "metadata": {
            "tags": []
          },
          "execution_count": 21
        }
      ]
    },
    {
      "cell_type": "code",
      "metadata": {
        "id": "UlCRQoUnV-j-",
        "colab_type": "code",
        "colab": {
          "base_uri": "https://localhost:8080/",
          "height": 368
        },
        "outputId": "595711fb-1923-4953-e307-6054cd5a794e"
      },
      "source": [
        "R2v = [[] for i in range(12)]\n",
        "lmv = [[] for i in range(12)]\n",
        "\n",
        "for M in range(1,13):\n",
        "    lmv[M-1] = smf.ols(formula='y~x'+'+'*(M>1)+'+'.join(['x%d'%p for p in range(2,M+1)]), data = temp_data).fit()\n",
        "    temp_valid['preds']=lmv[M-1].predict(temp_valid)\n",
        "    R2v[M-1]=1-((temp_valid.preds-temp_valid.y)**2).sum()/((temp_valid.y-temp_valid.y.mean())**2).sum()\n",
        "plt.figure(figsize=(10,5))\n",
        "plt.xlim(0,12)\n",
        "plt.title(\"Validation Data Set R2 Scores with Respect to Degree\", fontsize = 10)\n",
        "plt.plot(range(1,13), R2v, color = '#b8cc00')"
      ],
      "execution_count": 22,
      "outputs": [
        {
          "output_type": "execute_result",
          "data": {
            "text/plain": [
              "[<matplotlib.lines.Line2D at 0x7fdf614ef8d0>]"
            ]
          },
          "metadata": {
            "tags": []
          },
          "execution_count": 22
        },
        {
          "output_type": "display_data",
          "data": {
            "image/png": "[encoded data removed]",
            "text/plain": [
              "<Figure size 720x360 with 1 Axes>"
            ]
          },
          "metadata": {
            "tags": []
          }
        }
      ]
    },
    {
      "cell_type": "markdown",
      "metadata": {
        "id": "Rud8ZvsbcxaY",
        "colab_type": "text"
      },
      "source": [
        "### Task 9: Did you get an optimal value with M=12?"
      ]
    },
    {
      "cell_type": "markdown",
      "metadata": {
        "id": "RKV8LRDPeH-m",
        "colab_type": "text"
      },
      "source": [
        "# Although we do get a \"kind-of\" optimal value, however, it must be disregarded completely as the fit that results for power M = 12 is a clear cut case of overfitting. As the power of x keeps increasing in powers, the line fit keeps adjusting itself causing more and more deepened concept of overfitting on the data set. A better value of M stands for when M = 3."
      ]
    },
    {
      "cell_type": "markdown",
      "metadata": {
        "id": "x3JeekagdFw8",
        "colab_type": "text"
      },
      "source": [
        "### Task 10:Generate regressors in the test sample and compute the model prediction"
      ]
    },
    {
      "cell_type": "markdown",
      "metadata": {
        "id": "kaqjm8KU9RjP",
        "colab_type": "text"
      },
      "source": [
        "## Adding 12 regressors in the test sample!"
      ]
    },
    {
      "cell_type": "code",
      "metadata": {
        "id": "_dPGOhUKePgo",
        "colab_type": "code",
        "colab": {
          "base_uri": "https://localhost:8080/",
          "height": 204
        },
        "outputId": "9d1e7f9e-4869-40bd-a4a2-bbea2ffa81ad"
      },
      "source": [
        "temp_test = test_data.copy()\n",
        "\n",
        "M = 12\n",
        "for p in range(1,M+1): \n",
        "    temp_test['x%d'%p] = temp_test.x**p\n",
        "temp_test.head()"
      ],
      "execution_count": 23,
      "outputs": [
        {
          "output_type": "execute_result",
          "data": {
            "text/html": [
              "<div>\n",
              "<style scoped>\n",
              "    .dataframe tbody tr th:only-of-type {\n",
              "        vertical-align: middle;\n",
              "    }\n",
              "\n",
              "    .dataframe tbody tr th {\n",
              "        vertical-align: top;\n",
              "    }\n",
              "\n",
              "    .dataframe thead th {\n",
              "        text-align: right;\n",
              "    }\n",
              "</style>\n",
              "<table border=\"1\" class=\"dataframe\">\n",
              "  <thead>\n",
              "    <tr style=\"text-align: right;\">\n",
              "      <th></th>\n",
              "      <th>x</th>\n",
              "      <th>y</th>\n",
              "      <th>x1</th>\n",
              "      <th>x2</th>\n",
              "      <th>x3</th>\n",
              "      <th>x4</th>\n",
              "      <th>x5</th>\n",
              "      <th>x6</th>\n",
              "      <th>x7</th>\n",
              "      <th>x8</th>\n",
              "      <th>x9</th>\n",
              "      <th>x10</th>\n",
              "      <th>x11</th>\n",
              "      <th>x12</th>\n",
              "    </tr>\n",
              "  </thead>\n",
              "  <tbody>\n",
              "    <tr>\n",
              "      <th>10</th>\n",
              "      <td>-10.0</td>\n",
              "      <td>-710.237424</td>\n",
              "      <td>-10.0</td>\n",
              "      <td>100.00</td>\n",
              "      <td>-1000.000</td>\n",
              "      <td>10000.0000</td>\n",
              "      <td>-1.000000e+05</td>\n",
              "      <td>1.000000e+06</td>\n",
              "      <td>-1.000000e+07</td>\n",
              "      <td>1.000000e+08</td>\n",
              "      <td>-1.000000e+09</td>\n",
              "      <td>1.000000e+10</td>\n",
              "      <td>-1.000000e+11</td>\n",
              "      <td>1.000000e+12</td>\n",
              "    </tr>\n",
              "    <tr>\n",
              "      <th>76</th>\n",
              "      <td>23.0</td>\n",
              "      <td>5049.983454</td>\n",
              "      <td>23.0</td>\n",
              "      <td>529.00</td>\n",
              "      <td>12167.000</td>\n",
              "      <td>279841.0000</td>\n",
              "      <td>6.436343e+06</td>\n",
              "      <td>1.480359e+08</td>\n",
              "      <td>3.404825e+09</td>\n",
              "      <td>7.831099e+10</td>\n",
              "      <td>1.801153e+12</td>\n",
              "      <td>4.142651e+13</td>\n",
              "      <td>9.528098e+14</td>\n",
              "      <td>2.191462e+16</td>\n",
              "    </tr>\n",
              "    <tr>\n",
              "      <th>3</th>\n",
              "      <td>-13.5</td>\n",
              "      <td>-1610.924846</td>\n",
              "      <td>-13.5</td>\n",
              "      <td>182.25</td>\n",
              "      <td>-2460.375</td>\n",
              "      <td>33215.0625</td>\n",
              "      <td>-4.484033e+05</td>\n",
              "      <td>6.053445e+06</td>\n",
              "      <td>-8.172151e+07</td>\n",
              "      <td>1.103240e+09</td>\n",
              "      <td>-1.489375e+10</td>\n",
              "      <td>2.010656e+11</td>\n",
              "      <td>-2.714385e+12</td>\n",
              "      <td>3.664420e+13</td>\n",
              "    </tr>\n",
              "    <tr>\n",
              "      <th>38</th>\n",
              "      <td>4.0</td>\n",
              "      <td>7.489708</td>\n",
              "      <td>4.0</td>\n",
              "      <td>16.00</td>\n",
              "      <td>64.000</td>\n",
              "      <td>256.0000</td>\n",
              "      <td>1.024000e+03</td>\n",
              "      <td>4.096000e+03</td>\n",
              "      <td>1.638400e+04</td>\n",
              "      <td>6.553600e+04</td>\n",
              "      <td>2.621440e+05</td>\n",
              "      <td>1.048576e+06</td>\n",
              "      <td>4.194304e+06</td>\n",
              "      <td>1.677722e+07</td>\n",
              "    </tr>\n",
              "    <tr>\n",
              "      <th>61</th>\n",
              "      <td>15.5</td>\n",
              "      <td>1392.899555</td>\n",
              "      <td>15.5</td>\n",
              "      <td>240.25</td>\n",
              "      <td>3723.875</td>\n",
              "      <td>57720.0625</td>\n",
              "      <td>8.946610e+05</td>\n",
              "      <td>1.386725e+07</td>\n",
              "      <td>2.149423e+08</td>\n",
              "      <td>3.331606e+09</td>\n",
              "      <td>5.163989e+10</td>\n",
              "      <td>8.004182e+11</td>\n",
              "      <td>1.240648e+13</td>\n",
              "      <td>1.923005e+14</td>\n",
              "    </tr>\n",
              "  </tbody>\n",
              "</table>\n",
              "</div>"
            ],
            "text/plain": [
              "       x            y    x1  ...           x10           x11           x12\n",
              "10 -10.0  -710.237424 -10.0  ...  1.000000e+10 -1.000000e+11  1.000000e+12\n",
              "76  23.0  5049.983454  23.0  ...  4.142651e+13  9.528098e+14  2.191462e+16\n",
              "3  -13.5 -1610.924846 -13.5  ...  2.010656e+11 -2.714385e+12  3.664420e+13\n",
              "38   4.0     7.489708   4.0  ...  1.048576e+06  4.194304e+06  1.677722e+07\n",
              "61  15.5  1392.899555  15.5  ...  8.004182e+11  1.240648e+13  1.923005e+14\n",
              "\n",
              "[5 rows x 14 columns]"
            ]
          },
          "metadata": {
            "tags": []
          },
          "execution_count": 23
        }
      ]
    },
    {
      "cell_type": "markdown",
      "metadata": {
        "id": "DNahwBWd9VK8",
        "colab_type": "text"
      },
      "source": [
        "## Computing the model prediction for Test Data"
      ]
    },
    {
      "cell_type": "code",
      "metadata": {
        "id": "TKYv6LKqvjf1",
        "colab_type": "code",
        "colab": {
          "base_uri": "https://localhost:8080/",
          "height": 663
        },
        "outputId": "40beb88b-a3e8-4619-cef7-dd3f17411001"
      },
      "source": [
        "temp_test['pred'] = lm.predict(temp_test)\n",
        "print(lm.summary())"
      ],
      "execution_count": 24,
      "outputs": [
        {
          "output_type": "stream",
          "text": [
            "                            OLS Regression Results                            \n",
            "==============================================================================\n",
            "Dep. Variable:                      y   R-squared:                       1.000\n",
            "Model:                            OLS   Adj. R-squared:                  1.000\n",
            "Method:                 Least Squares   F-statistic:                 1.449e+05\n",
            "Date:                Wed, 23 Oct 2019   Prob (F-statistic):          5.32e-115\n",
            "Time:                        02:36:31   Log-Likelihood:                -241.94\n",
            "No. Observations:                  64   AIC:                             503.9\n",
            "Df Residuals:                      54   BIC:                             525.5\n",
            "Df Model:                           9                                         \n",
            "Covariance Type:            nonrobust                                         \n",
            "==============================================================================\n",
            "                 coef    std err          t      P>|t|      [0.025      0.975]\n",
            "------------------------------------------------------------------------------\n",
            "Intercept     -0.0004    1.7e-05    -20.734      0.000      -0.000      -0.000\n",
            "x              0.0226      0.001     17.606      0.000       0.020       0.025\n",
            "x2             0.0011      0.000      5.028      0.000       0.001       0.002\n",
            "x3             0.5374      0.031     17.568      0.000       0.476       0.599\n",
            "x4            -0.0723      0.003    -20.763      0.000      -0.079      -0.065\n",
            "x5             0.0010      0.001      1.563      0.124      -0.000       0.002\n",
            "x6             0.0009    6.9e-05     12.365      0.000       0.001       0.001\n",
            "x7          -2.98e-05   5.55e-06     -5.370      0.000   -4.09e-05   -1.87e-05\n",
            "x8         -3.921e-06   4.34e-07     -9.041      0.000   -4.79e-06   -3.05e-06\n",
            "x9          2.113e-07   2.69e-08      7.868      0.000    1.57e-07    2.65e-07\n",
            "x10         4.534e-09   7.65e-10      5.923      0.000       3e-09    6.07e-09\n",
            "x11        -4.614e-10   6.03e-11     -7.651      0.000   -5.82e-10   -3.41e-10\n",
            "x12         7.548e-12   1.09e-12      6.928      0.000    5.36e-12    9.73e-12\n",
            "==============================================================================\n",
            "Omnibus:                        1.335   Durbin-Watson:                   1.766\n",
            "Prob(Omnibus):                  0.513   Jarque-Bera (JB):                1.241\n",
            "Skew:                          -0.199   Prob(JB):                        0.538\n",
            "Kurtosis:                       2.445   Cond. No.                     1.87e+16\n",
            "==============================================================================\n",
            "\n",
            "Warnings:\n",
            "[1] Standard Errors assume that the covariance matrix of the errors is correctly specified.\n",
            "[2] The condition number is large, 1.87e+16. This might indicate that there are\n",
            "strong multicollinearity or other numerical problems.\n"
          ],
          "name": "stdout"
        }
      ]
    },
    {
      "cell_type": "markdown",
      "metadata": {
        "id": "3bzf1w-9ehty",
        "colab_type": "text"
      },
      "source": [
        "### Task 11:Visulaize results of Task 10."
      ]
    },
    {
      "cell_type": "code",
      "metadata": {
        "id": "1HZi1Z5BeRxl",
        "colab_type": "code",
        "outputId": "852f07bc-fc2e-42d3-9d0b-c56a5a79bbf4",
        "colab": {
          "base_uri": "https://localhost:8080/",
          "height": 661
        }
      },
      "source": [
        "'''plt.clf()\n",
        "plt.figure(figsize = (25,25))\n",
        "\n",
        "\n",
        "for M in range(1,M+1):\n",
        "    \n",
        "    plt.subplot(4,3,M)\n",
        "    \n",
        "    x_fit = np.linspace(-20,40,100)\n",
        "    y_fit = pd.DataFrame(np.matrix([x_fit**k for k in range( M+1)]).T, columns = Params[M-1].index).mul(Params[M-1], 1).sum(1)\n",
        "    \n",
        "    \n",
        "    plt.plot(temp_test.x1, temp_test.y, 'go', markersize = 8) \n",
        "    plt.plot(x_fit, y_fit, 'r--', lw = 2)     \n",
        "    plt.title('For degree M = %d'%(M), fontsize = 18)\n",
        "\n",
        "    plt.legend()\n",
        "    plt.tight_layout()'''\n",
        "\n",
        "\n",
        "\n",
        "\n",
        "plt.clf()\n",
        "plt.figure(figsize = (10,10))\n",
        "plt.plot(temp_test.pred, temp_test.y, 'co', markersize = 8)\n",
        "plt.plot(temp_test.pred, temp_test.pred, 'y-', lw =2)\n",
        "plt.title('Test Data Results', fontsize = 15)\n",
        "plt.legend()\n"
      ],
      "execution_count": 25,
      "outputs": [
        {
          "output_type": "execute_result",
          "data": {
            "text/plain": [
              "<matplotlib.legend.Legend at 0x7fdf61402f98>"
            ]
          },
          "metadata": {
            "tags": []
          },
          "execution_count": 25
        },
        {
          "output_type": "display_data",
          "data": {
            "text/plain": [
              "<Figure size 432x288 with 0 Axes>"
            ]
          },
          "metadata": {
            "tags": []
          }
        },
        {
          "output_type": "display_data",
          "data": {
            "image/png": "[encoded data removed]",
            "text/plain": [
              "<Figure size 720x720 with 1 Axes>"
            ]
          },
          "metadata": {
            "tags": []
          }
        }
      ]
    },
    {
      "cell_type": "markdown",
      "metadata": {
        "id": "kjx8lx6G-CeY",
        "colab_type": "text"
      },
      "source": [
        "## R2 over Test Data"
      ]
    },
    {
      "cell_type": "code",
      "metadata": {
        "id": "SQI-8aL7-BZs",
        "colab_type": "code",
        "outputId": "ed6897ff-3d49-48be-e334-dc22a8df4c6e",
        "colab": {
          "base_uri": "https://localhost:8080/",
          "height": 34
        }
      },
      "source": [
        "print(\"R2_Score for Test Data: {}\".format(r2_score(temp_test.y, temp_test.pred)))"
      ],
      "execution_count": 26,
      "outputs": [
        {
          "output_type": "stream",
          "text": [
            "R2_Score for Test Data: 0.9999364947506723\n"
          ],
          "name": "stdout"
        }
      ]
    },
    {
      "cell_type": "code",
      "metadata": {
        "id": "l6vr7CWoT_Md",
        "colab_type": "code",
        "colab": {
          "base_uri": "https://localhost:8080/",
          "height": 372
        },
        "outputId": "955ffe38-02f8-48ce-b93d-2b18b10be2f9"
      },
      "source": [
        "R2t = [[] for i in range(12)]\n",
        "lmt = [[] for i in range(12)]\n",
        "\n",
        "for M in range(1,13):\n",
        "    lmt[M-1] = smf.ols(formula='y~x'+'+'*(M>1)+'+'.join(['x%d'%p for p in range(2,M+1)]), data = temp_data).fit()\n",
        "    temp_test['preds']=lmt[M-1].predict(temp_test)\n",
        "    R2t[M-1]=lmt[M-1].rsquared\n",
        "plt.figure(figsize=(10,5))\n",
        "plt.xlim(0,12)\n",
        "plt.title(\"Test Data Set R2 Scores with Respect to Degree\", fontsize = 15)\n",
        "plt.plot(range(1,13), R2t, color='purple')"
      ],
      "execution_count": 27,
      "outputs": [
        {
          "output_type": "execute_result",
          "data": {
            "text/plain": [
              "[<matplotlib.lines.Line2D at 0x7fdf6188c8d0>]"
            ]
          },
          "metadata": {
            "tags": []
          },
          "execution_count": 27
        },
        {
          "output_type": "display_data",
          "data": {
            "image/png": "[encoded data removed]",
            "text/plain": [
              "<Figure size 720x360 with 1 Axes>"
            ]
          },
          "metadata": {
            "tags": []
          }
        }
      ]
    },
    {
      "cell_type": "markdown",
      "metadata": {
        "id": "d08VxJCOezZu",
        "colab_type": "text"
      },
      "source": [
        "## Problem 2:Refer the in class session_05_02 diagnostics python notebook ,to complete this part of the assignment."
      ]
    },
    {
      "cell_type": "markdown",
      "metadata": {
        "id": "GUXe9UUrloLe",
        "colab_type": "text"
      },
      "source": [
        "### Task 1: Perform regression on Advanced vs Other, \"Advanced\" which incorporated Master, Doctorate and ProfSchool and \"Other\" incorporating less than Bachelor.Your regression model will be between predicted and observed income."
      ]
    },
    {
      "cell_type": "code",
      "metadata": {
        "id": "lNI80bLulm9H",
        "colab_type": "code",
        "colab": {
          "base_uri": "https://localhost:8080/",
          "height": 204
        },
        "outputId": "0c8bd6ea-8516-49bd-b55e-7659e17b435b"
      },
      "source": [
        "income = pd.read_csv('/content/drive/My Drive/education.csv')\n",
        "income.drop(columns = 'Unnamed: 0', inplace = True)\n",
        "income.head()"
      ],
      "execution_count": 28,
      "outputs": [
        {
          "output_type": "execute_result",
          "data": {
            "text/html": [
              "<div>\n",
              "<style scoped>\n",
              "    .dataframe tbody tr th:only-of-type {\n",
              "        vertical-align: middle;\n",
              "    }\n",
              "\n",
              "    .dataframe tbody tr th {\n",
              "        vertical-align: top;\n",
              "    }\n",
              "\n",
              "    .dataframe thead th {\n",
              "        text-align: right;\n",
              "    }\n",
              "</style>\n",
              "<table border=\"1\" class=\"dataframe\">\n",
              "  <thead>\n",
              "    <tr style=\"text-align: right;\">\n",
              "      <th></th>\n",
              "      <th>IncomePerCapita</th>\n",
              "      <th>LessThanHS</th>\n",
              "      <th>HighSchool</th>\n",
              "      <th>SomeCollege</th>\n",
              "      <th>Bachelor</th>\n",
              "      <th>Master</th>\n",
              "      <th>Doctorate</th>\n",
              "      <th>ProfSchool</th>\n",
              "    </tr>\n",
              "  </thead>\n",
              "  <tbody>\n",
              "    <tr>\n",
              "      <th>0</th>\n",
              "      <td>77512.0</td>\n",
              "      <td>0.085069</td>\n",
              "      <td>0.101972</td>\n",
              "      <td>0.127082</td>\n",
              "      <td>0.371203</td>\n",
              "      <td>0.208966</td>\n",
              "      <td>0.031786</td>\n",
              "      <td>0.073922</td>\n",
              "    </tr>\n",
              "    <tr>\n",
              "      <th>1</th>\n",
              "      <td>26905.0</td>\n",
              "      <td>0.347436</td>\n",
              "      <td>0.208724</td>\n",
              "      <td>0.140025</td>\n",
              "      <td>0.208774</td>\n",
              "      <td>0.065663</td>\n",
              "      <td>0.010520</td>\n",
              "      <td>0.018857</td>\n",
              "    </tr>\n",
              "    <tr>\n",
              "      <th>2</th>\n",
              "      <td>79088.0</td>\n",
              "      <td>0.036399</td>\n",
              "      <td>0.068234</td>\n",
              "      <td>0.109660</td>\n",
              "      <td>0.436064</td>\n",
              "      <td>0.220825</td>\n",
              "      <td>0.039483</td>\n",
              "      <td>0.089335</td>\n",
              "    </tr>\n",
              "    <tr>\n",
              "      <th>3</th>\n",
              "      <td>98020.0</td>\n",
              "      <td>0.012725</td>\n",
              "      <td>0.038175</td>\n",
              "      <td>0.133831</td>\n",
              "      <td>0.431768</td>\n",
              "      <td>0.241334</td>\n",
              "      <td>0.037736</td>\n",
              "      <td>0.104432</td>\n",
              "    </tr>\n",
              "    <tr>\n",
              "      <th>4</th>\n",
              "      <td>99633.0</td>\n",
              "      <td>0.022338</td>\n",
              "      <td>0.017299</td>\n",
              "      <td>0.076251</td>\n",
              "      <td>0.461035</td>\n",
              "      <td>0.274941</td>\n",
              "      <td>0.036782</td>\n",
              "      <td>0.111354</td>\n",
              "    </tr>\n",
              "  </tbody>\n",
              "</table>\n",
              "</div>"
            ],
            "text/plain": [
              "   IncomePerCapita  LessThanHS  HighSchool  ...    Master  Doctorate  ProfSchool\n",
              "0          77512.0    0.085069    0.101972  ...  0.208966   0.031786    0.073922\n",
              "1          26905.0    0.347436    0.208724  ...  0.065663   0.010520    0.018857\n",
              "2          79088.0    0.036399    0.068234  ...  0.220825   0.039483    0.089335\n",
              "3          98020.0    0.012725    0.038175  ...  0.241334   0.037736    0.104432\n",
              "4          99633.0    0.022338    0.017299  ...  0.274941   0.036782    0.111354\n",
              "\n",
              "[5 rows x 8 columns]"
            ]
          },
          "metadata": {
            "tags": []
          },
          "execution_count": 28
        }
      ]
    },
    {
      "cell_type": "code",
      "metadata": {
        "id": "eHb4PLySyxWq",
        "colab_type": "code",
        "colab": {}
      },
      "source": [
        "income.dropna(inplace = True)"
      ],
      "execution_count": 0,
      "outputs": []
    },
    {
      "cell_type": "code",
      "metadata": {
        "id": "X9_iZgNkzUNs",
        "colab_type": "code",
        "colab": {
          "base_uri": "https://localhost:8080/",
          "height": 204
        },
        "outputId": "b383906a-c447-4c09-d494-e2b8279b1374"
      },
      "source": [
        "income.head()"
      ],
      "execution_count": 30,
      "outputs": [
        {
          "output_type": "execute_result",
          "data": {
            "text/html": [
              "<div>\n",
              "<style scoped>\n",
              "    .dataframe tbody tr th:only-of-type {\n",
              "        vertical-align: middle;\n",
              "    }\n",
              "\n",
              "    .dataframe tbody tr th {\n",
              "        vertical-align: top;\n",
              "    }\n",
              "\n",
              "    .dataframe thead th {\n",
              "        text-align: right;\n",
              "    }\n",
              "</style>\n",
              "<table border=\"1\" class=\"dataframe\">\n",
              "  <thead>\n",
              "    <tr style=\"text-align: right;\">\n",
              "      <th></th>\n",
              "      <th>IncomePerCapita</th>\n",
              "      <th>LessThanHS</th>\n",
              "      <th>HighSchool</th>\n",
              "      <th>SomeCollege</th>\n",
              "      <th>Bachelor</th>\n",
              "      <th>Master</th>\n",
              "      <th>Doctorate</th>\n",
              "      <th>ProfSchool</th>\n",
              "    </tr>\n",
              "  </thead>\n",
              "  <tbody>\n",
              "    <tr>\n",
              "      <th>0</th>\n",
              "      <td>77512.0</td>\n",
              "      <td>0.085069</td>\n",
              "      <td>0.101972</td>\n",
              "      <td>0.127082</td>\n",
              "      <td>0.371203</td>\n",
              "      <td>0.208966</td>\n",
              "      <td>0.031786</td>\n",
              "      <td>0.073922</td>\n",
              "    </tr>\n",
              "    <tr>\n",
              "      <th>1</th>\n",
              "      <td>26905.0</td>\n",
              "      <td>0.347436</td>\n",
              "      <td>0.208724</td>\n",
              "      <td>0.140025</td>\n",
              "      <td>0.208774</td>\n",
              "      <td>0.065663</td>\n",
              "      <td>0.010520</td>\n",
              "      <td>0.018857</td>\n",
              "    </tr>\n",
              "    <tr>\n",
              "      <th>2</th>\n",
              "      <td>79088.0</td>\n",
              "      <td>0.036399</td>\n",
              "      <td>0.068234</td>\n",
              "      <td>0.109660</td>\n",
              "      <td>0.436064</td>\n",
              "      <td>0.220825</td>\n",
              "      <td>0.039483</td>\n",
              "      <td>0.089335</td>\n",
              "    </tr>\n",
              "    <tr>\n",
              "      <th>3</th>\n",
              "      <td>98020.0</td>\n",
              "      <td>0.012725</td>\n",
              "      <td>0.038175</td>\n",
              "      <td>0.133831</td>\n",
              "      <td>0.431768</td>\n",
              "      <td>0.241334</td>\n",
              "      <td>0.037736</td>\n",
              "      <td>0.104432</td>\n",
              "    </tr>\n",
              "    <tr>\n",
              "      <th>4</th>\n",
              "      <td>99633.0</td>\n",
              "      <td>0.022338</td>\n",
              "      <td>0.017299</td>\n",
              "      <td>0.076251</td>\n",
              "      <td>0.461035</td>\n",
              "      <td>0.274941</td>\n",
              "      <td>0.036782</td>\n",
              "      <td>0.111354</td>\n",
              "    </tr>\n",
              "  </tbody>\n",
              "</table>\n",
              "</div>"
            ],
            "text/plain": [
              "   IncomePerCapita  LessThanHS  HighSchool  ...    Master  Doctorate  ProfSchool\n",
              "0          77512.0    0.085069    0.101972  ...  0.208966   0.031786    0.073922\n",
              "1          26905.0    0.347436    0.208724  ...  0.065663   0.010520    0.018857\n",
              "2          79088.0    0.036399    0.068234  ...  0.220825   0.039483    0.089335\n",
              "3          98020.0    0.012725    0.038175  ...  0.241334   0.037736    0.104432\n",
              "4          99633.0    0.022338    0.017299  ...  0.274941   0.036782    0.111354\n",
              "\n",
              "[5 rows x 8 columns]"
            ]
          },
          "metadata": {
            "tags": []
          },
          "execution_count": 30
        }
      ]
    },
    {
      "cell_type": "code",
      "metadata": {
        "id": "fHer49QrzH6z",
        "colab_type": "code",
        "colab": {}
      },
      "source": [
        "income['Advanced'] = income['Master']+income['Doctorate']+income['ProfSchool']\n",
        "income['Other'] = income['LessThanHS']+income['HighSchool']+income['SomeCollege']"
      ],
      "execution_count": 0,
      "outputs": []
    },
    {
      "cell_type": "code",
      "metadata": {
        "id": "4CDalYTd2dd_",
        "colab_type": "code",
        "colab": {
          "base_uri": "https://localhost:8080/",
          "height": 204
        },
        "outputId": "c49f16e9-fead-43c5-f360-da6b4a8509fa"
      },
      "source": [
        "income.head()"
      ],
      "execution_count": 32,
      "outputs": [
        {
          "output_type": "execute_result",
          "data": {
            "text/html": [
              "<div>\n",
              "<style scoped>\n",
              "    .dataframe tbody tr th:only-of-type {\n",
              "        vertical-align: middle;\n",
              "    }\n",
              "\n",
              "    .dataframe tbody tr th {\n",
              "        vertical-align: top;\n",
              "    }\n",
              "\n",
              "    .dataframe thead th {\n",
              "        text-align: right;\n",
              "    }\n",
              "</style>\n",
              "<table border=\"1\" class=\"dataframe\">\n",
              "  <thead>\n",
              "    <tr style=\"text-align: right;\">\n",
              "      <th></th>\n",
              "      <th>IncomePerCapita</th>\n",
              "      <th>LessThanHS</th>\n",
              "      <th>HighSchool</th>\n",
              "      <th>SomeCollege</th>\n",
              "      <th>Bachelor</th>\n",
              "      <th>Master</th>\n",
              "      <th>Doctorate</th>\n",
              "      <th>ProfSchool</th>\n",
              "      <th>Advanced</th>\n",
              "      <th>Other</th>\n",
              "    </tr>\n",
              "  </thead>\n",
              "  <tbody>\n",
              "    <tr>\n",
              "      <th>0</th>\n",
              "      <td>77512.0</td>\n",
              "      <td>0.085069</td>\n",
              "      <td>0.101972</td>\n",
              "      <td>0.127082</td>\n",
              "      <td>0.371203</td>\n",
              "      <td>0.208966</td>\n",
              "      <td>0.031786</td>\n",
              "      <td>0.073922</td>\n",
              "      <td>0.314674</td>\n",
              "      <td>0.314123</td>\n",
              "    </tr>\n",
              "    <tr>\n",
              "      <th>1</th>\n",
              "      <td>26905.0</td>\n",
              "      <td>0.347436</td>\n",
              "      <td>0.208724</td>\n",
              "      <td>0.140025</td>\n",
              "      <td>0.208774</td>\n",
              "      <td>0.065663</td>\n",
              "      <td>0.010520</td>\n",
              "      <td>0.018857</td>\n",
              "      <td>0.095040</td>\n",
              "      <td>0.696186</td>\n",
              "    </tr>\n",
              "    <tr>\n",
              "      <th>2</th>\n",
              "      <td>79088.0</td>\n",
              "      <td>0.036399</td>\n",
              "      <td>0.068234</td>\n",
              "      <td>0.109660</td>\n",
              "      <td>0.436064</td>\n",
              "      <td>0.220825</td>\n",
              "      <td>0.039483</td>\n",
              "      <td>0.089335</td>\n",
              "      <td>0.349643</td>\n",
              "      <td>0.214293</td>\n",
              "    </tr>\n",
              "    <tr>\n",
              "      <th>3</th>\n",
              "      <td>98020.0</td>\n",
              "      <td>0.012725</td>\n",
              "      <td>0.038175</td>\n",
              "      <td>0.133831</td>\n",
              "      <td>0.431768</td>\n",
              "      <td>0.241334</td>\n",
              "      <td>0.037736</td>\n",
              "      <td>0.104432</td>\n",
              "      <td>0.383502</td>\n",
              "      <td>0.184730</td>\n",
              "    </tr>\n",
              "    <tr>\n",
              "      <th>4</th>\n",
              "      <td>99633.0</td>\n",
              "      <td>0.022338</td>\n",
              "      <td>0.017299</td>\n",
              "      <td>0.076251</td>\n",
              "      <td>0.461035</td>\n",
              "      <td>0.274941</td>\n",
              "      <td>0.036782</td>\n",
              "      <td>0.111354</td>\n",
              "      <td>0.423077</td>\n",
              "      <td>0.115888</td>\n",
              "    </tr>\n",
              "  </tbody>\n",
              "</table>\n",
              "</div>"
            ],
            "text/plain": [
              "   IncomePerCapita  LessThanHS  HighSchool  ...  ProfSchool  Advanced     Other\n",
              "0          77512.0    0.085069    0.101972  ...    0.073922  0.314674  0.314123\n",
              "1          26905.0    0.347436    0.208724  ...    0.018857  0.095040  0.696186\n",
              "2          79088.0    0.036399    0.068234  ...    0.089335  0.349643  0.214293\n",
              "3          98020.0    0.012725    0.038175  ...    0.104432  0.383502  0.184730\n",
              "4          99633.0    0.022338    0.017299  ...    0.111354  0.423077  0.115888\n",
              "\n",
              "[5 rows x 10 columns]"
            ]
          },
          "metadata": {
            "tags": []
          },
          "execution_count": 32
        }
      ]
    },
    {
      "cell_type": "code",
      "metadata": {
        "id": "nhgEgjYi9g0r",
        "colab_type": "code",
        "colab": {
          "base_uri": "https://localhost:8080/",
          "height": 459
        },
        "outputId": "43324222-e1e5-43ae-bd14-0737b32548f7"
      },
      "source": [
        "lmm = smf.ols(formula = 'IncomePerCapita ~ Bachelor + Advanced + Other-1', data = income).fit()\n",
        "income['Predictions'] = lmm.predict()\n",
        "print(lmm.summary())"
      ],
      "execution_count": 33,
      "outputs": [
        {
          "output_type": "stream",
          "text": [
            "                            OLS Regression Results                            \n",
            "==============================================================================\n",
            "Dep. Variable:        IncomePerCapita   R-squared:                       0.841\n",
            "Model:                            OLS   Adj. R-squared:                  0.840\n",
            "Method:                 Least Squares   F-statistic:                     472.5\n",
            "Date:                Wed, 23 Oct 2019   Prob (F-statistic):           6.38e-72\n",
            "Time:                        02:36:33   Log-Likelihood:                -1954.6\n",
            "No. Observations:                 181   AIC:                             3915.\n",
            "Df Residuals:                     178   BIC:                             3925.\n",
            "Df Model:                           2                                         \n",
            "Covariance Type:            nonrobust                                         \n",
            "==============================================================================\n",
            "                 coef    std err          t      P>|t|      [0.025      0.975]\n",
            "------------------------------------------------------------------------------\n",
            "Bachelor    6.273e+04   1.94e+04      3.226      0.001    2.44e+04    1.01e+05\n",
            "Advanced    1.735e+05      2e+04      8.670      0.000    1.34e+05    2.13e+05\n",
            "Other      -4433.1232   2504.641     -1.770      0.078   -9375.733     509.487\n",
            "==============================================================================\n",
            "Omnibus:                       96.491   Durbin-Watson:                   1.736\n",
            "Prob(Omnibus):                  0.000   Jarque-Bera (JB):              938.202\n",
            "Skew:                           1.734   Prob(JB):                    1.87e-204\n",
            "Kurtosis:                      13.601   Cond. No.                         21.6\n",
            "==============================================================================\n",
            "\n",
            "Warnings:\n",
            "[1] Standard Errors assume that the covariance matrix of the errors is correctly specified.\n"
          ],
          "name": "stdout"
        }
      ]
    },
    {
      "cell_type": "code",
      "metadata": {
        "id": "6Q-eNsYd2pUg",
        "colab_type": "code",
        "colab": {
          "base_uri": "https://localhost:8080/",
          "height": 34
        },
        "outputId": "89465a78-d30c-4d70-9e9e-a6750fc1f2e4"
      },
      "source": [
        "'''lm3 = smf.ols(formula = 'IncomePerCapita ~ Advanced', data = income).fit()\n",
        "income['Aprediction'] = lm3.predict()\n",
        "print(lm3.summary())\n",
        "'''"
      ],
      "execution_count": 34,
      "outputs": [
        {
          "output_type": "execute_result",
          "data": {
            "text/plain": [
              "\"lm3 = smf.ols(formula = 'IncomePerCapita ~ Advanced', data = income).fit()\\nincome['Aprediction'] = lm3.predict()\\nprint(lm3.summary())\\n\""
            ]
          },
          "metadata": {
            "tags": []
          },
          "execution_count": 34
        }
      ]
    },
    {
      "cell_type": "code",
      "metadata": {
        "id": "g73a3jgh-pep",
        "colab_type": "code",
        "colab": {
          "base_uri": "https://localhost:8080/",
          "height": 34
        },
        "outputId": "8368649c-96d2-4d3d-adf5-7f13a2385f6c"
      },
      "source": [
        "'''\n",
        "lm3 = smf.ols(formula = 'IncomePerCapita ~ Other', data = income).fit()\n",
        "income['Oprediction'] = lm3.predict()\n",
        "print(lm3.summary())\n",
        "'''"
      ],
      "execution_count": 35,
      "outputs": [
        {
          "output_type": "execute_result",
          "data": {
            "text/plain": [
              "\"\\nlm3 = smf.ols(formula = 'IncomePerCapita ~ Other', data = income).fit()\\nincome['Oprediction'] = lm3.predict()\\nprint(lm3.summary())\\n\""
            ]
          },
          "metadata": {
            "tags": []
          },
          "execution_count": 35
        }
      ]
    },
    {
      "cell_type": "code",
      "metadata": {
        "id": "er8nN-oFuqr0",
        "colab_type": "code",
        "colab": {
          "base_uri": "https://localhost:8080/",
          "height": 204
        },
        "outputId": "7c46f944-b1c4-4fa7-c97d-0d9c8f0bbf3c"
      },
      "source": [
        "income.head()"
      ],
      "execution_count": 36,
      "outputs": [
        {
          "output_type": "execute_result",
          "data": {
            "text/html": [
              "<div>\n",
              "<style scoped>\n",
              "    .dataframe tbody tr th:only-of-type {\n",
              "        vertical-align: middle;\n",
              "    }\n",
              "\n",
              "    .dataframe tbody tr th {\n",
              "        vertical-align: top;\n",
              "    }\n",
              "\n",
              "    .dataframe thead th {\n",
              "        text-align: right;\n",
              "    }\n",
              "</style>\n",
              "<table border=\"1\" class=\"dataframe\">\n",
              "  <thead>\n",
              "    <tr style=\"text-align: right;\">\n",
              "      <th></th>\n",
              "      <th>IncomePerCapita</th>\n",
              "      <th>LessThanHS</th>\n",
              "      <th>HighSchool</th>\n",
              "      <th>SomeCollege</th>\n",
              "      <th>Bachelor</th>\n",
              "      <th>Master</th>\n",
              "      <th>Doctorate</th>\n",
              "      <th>ProfSchool</th>\n",
              "      <th>Advanced</th>\n",
              "      <th>Other</th>\n",
              "      <th>Predictions</th>\n",
              "    </tr>\n",
              "  </thead>\n",
              "  <tbody>\n",
              "    <tr>\n",
              "      <th>0</th>\n",
              "      <td>77512.0</td>\n",
              "      <td>0.085069</td>\n",
              "      <td>0.101972</td>\n",
              "      <td>0.127082</td>\n",
              "      <td>0.371203</td>\n",
              "      <td>0.208966</td>\n",
              "      <td>0.031786</td>\n",
              "      <td>0.073922</td>\n",
              "      <td>0.314674</td>\n",
              "      <td>0.314123</td>\n",
              "      <td>76489.828365</td>\n",
              "    </tr>\n",
              "    <tr>\n",
              "      <th>1</th>\n",
              "      <td>26905.0</td>\n",
              "      <td>0.347436</td>\n",
              "      <td>0.208724</td>\n",
              "      <td>0.140025</td>\n",
              "      <td>0.208774</td>\n",
              "      <td>0.065663</td>\n",
              "      <td>0.010520</td>\n",
              "      <td>0.018857</td>\n",
              "      <td>0.095040</td>\n",
              "      <td>0.696186</td>\n",
              "      <td>26499.639194</td>\n",
              "    </tr>\n",
              "    <tr>\n",
              "      <th>2</th>\n",
              "      <td>79088.0</td>\n",
              "      <td>0.036399</td>\n",
              "      <td>0.068234</td>\n",
              "      <td>0.109660</td>\n",
              "      <td>0.436064</td>\n",
              "      <td>0.220825</td>\n",
              "      <td>0.039483</td>\n",
              "      <td>0.089335</td>\n",
              "      <td>0.349643</td>\n",
              "      <td>0.214293</td>\n",
              "      <td>87068.287324</td>\n",
              "    </tr>\n",
              "    <tr>\n",
              "      <th>3</th>\n",
              "      <td>98020.0</td>\n",
              "      <td>0.012725</td>\n",
              "      <td>0.038175</td>\n",
              "      <td>0.133831</td>\n",
              "      <td>0.431768</td>\n",
              "      <td>0.241334</td>\n",
              "      <td>0.037736</td>\n",
              "      <td>0.104432</td>\n",
              "      <td>0.383502</td>\n",
              "      <td>0.184730</td>\n",
              "      <td>92804.494199</td>\n",
              "    </tr>\n",
              "    <tr>\n",
              "      <th>4</th>\n",
              "      <td>99633.0</td>\n",
              "      <td>0.022338</td>\n",
              "      <td>0.017299</td>\n",
              "      <td>0.076251</td>\n",
              "      <td>0.461035</td>\n",
              "      <td>0.274941</td>\n",
              "      <td>0.036782</td>\n",
              "      <td>0.111354</td>\n",
              "      <td>0.423077</td>\n",
              "      <td>0.115888</td>\n",
              "      <td>101812.027598</td>\n",
              "    </tr>\n",
              "  </tbody>\n",
              "</table>\n",
              "</div>"
            ],
            "text/plain": [
              "   IncomePerCapita  LessThanHS  HighSchool  ...  Advanced     Other    Predictions\n",
              "0          77512.0    0.085069    0.101972  ...  0.314674  0.314123   76489.828365\n",
              "1          26905.0    0.347436    0.208724  ...  0.095040  0.696186   26499.639194\n",
              "2          79088.0    0.036399    0.068234  ...  0.349643  0.214293   87068.287324\n",
              "3          98020.0    0.012725    0.038175  ...  0.383502  0.184730   92804.494199\n",
              "4          99633.0    0.022338    0.017299  ...  0.423077  0.115888  101812.027598\n",
              "\n",
              "[5 rows x 11 columns]"
            ]
          },
          "metadata": {
            "tags": []
          },
          "execution_count": 36
        }
      ]
    },
    {
      "cell_type": "markdown",
      "metadata": {
        "id": "b_HKtxwCl22A",
        "colab_type": "text"
      },
      "source": [
        "### Task 2: Visualize the regression fit by plotting the observation versus our prediction for the income per zip code."
      ]
    },
    {
      "cell_type": "markdown",
      "metadata": {
        "id": "3GiyPgPh_H4o",
        "colab_type": "text"
      },
      "source": [
        "## Visualization between Advanced and Income Per Capita"
      ]
    },
    {
      "cell_type": "code",
      "metadata": {
        "id": "OcpEPaK5mCx9",
        "colab_type": "code",
        "colab": {
          "base_uri": "https://localhost:8080/",
          "height": 644
        },
        "outputId": "ee6cc5d4-3364-49b0-93b0-9e08eba58539"
      },
      "source": [
        "plt.figure(figsize=(10,10))\n",
        "plt.plot(income.IncomePerCapita, income.Predictions, 'co')\n",
        "plt.title('Observed IncomePerCapita vs Predicted IncomePerCapita', fontsize = 15)\n",
        "plt.plot(income.Predictions, income.Predictions, 'r-')\n",
        "plt.legend()"
      ],
      "execution_count": 37,
      "outputs": [
        {
          "output_type": "execute_result",
          "data": {
            "text/plain": [
              "<matplotlib.legend.Legend at 0x7fdf6182da20>"
            ]
          },
          "metadata": {
            "tags": []
          },
          "execution_count": 37
        },
        {
          "output_type": "display_data",
          "data": {
            "image/png": "[encoded data removed]",
            "text/plain": [
              "<Figure size 720x720 with 1 Axes>"
            ]
          },
          "metadata": {
            "tags": []
          }
        }
      ]
    },
    {
      "cell_type": "markdown",
      "metadata": {
        "id": "8cGVWwan_Zls",
        "colab_type": "text"
      },
      "source": [
        "## Visualization between Others and Income Per Capita"
      ]
    },
    {
      "cell_type": "code",
      "metadata": {
        "id": "WaBKeO-q_eZO",
        "colab_type": "code",
        "colab": {
          "base_uri": "https://localhost:8080/",
          "height": 34
        },
        "outputId": "8d5fe825-bcc4-49a1-ccdf-ae30ec660916"
      },
      "source": [
        "'''plt.figure(figsize=(10,10))\n",
        "plt.plot(income.Other, income.IncomePerCapita, 'ro', markersize = 7)\n",
        "plt.title('Other vs IncomePerCapita', fontsize = 15)\n",
        "plt.plot(income.Other, income.Oprediction, 'c-')\n",
        "plt.legend()\n",
        "'''"
      ],
      "execution_count": 38,
      "outputs": [
        {
          "output_type": "execute_result",
          "data": {
            "text/plain": [
              "\"plt.figure(figsize=(10,10))\\nplt.plot(income.Other, income.IncomePerCapita, 'ro', markersize = 7)\\nplt.title('Other vs IncomePerCapita', fontsize = 15)\\nplt.plot(income.Other, income.Oprediction, 'c-')\\nplt.legend()\\n\""
            ]
          },
          "metadata": {
            "tags": []
          },
          "execution_count": 38
        }
      ]
    },
    {
      "cell_type": "markdown",
      "metadata": {
        "id": "wgcL8G7rmPTS",
        "colab_type": "text"
      },
      "source": [
        "## Problem 3:Refer in class session_05_01 Scaling python notebook to complete this part of the assignment."
      ]
    },
    {
      "cell_type": "markdown",
      "metadata": {
        "id": "IWz_qqNzmfGg",
        "colab_type": "text"
      },
      "source": [
        "### Task 1:Establish a scaling relationship  Y∼CXq  between total, violent and property crime vs population (by running log-scale regression where Crime>0). Visualize on the log scale. Does  q=1  fall into the 95% confidence interval? What about 99% CI?"
      ]
    },
    {
      "cell_type": "code",
      "metadata": {
        "id": "KCpXgRigYQT6",
        "colab_type": "code",
        "colab": {
          "base_uri": "https://localhost:8080/",
          "height": 204
        },
        "outputId": "b9aac02b-ee98-48c7-d5b8-16b0de04e431"
      },
      "source": [
        "msa= pd.read_csv('/content/drive/My Drive/Untitled folder/msalist.csv', encoding = 'unicode_escape')\n",
        "msa.head()"
      ],
      "execution_count": 39,
      "outputs": [
        {
          "output_type": "execute_result",
          "data": {
            "text/html": [
              "<div>\n",
              "<style scoped>\n",
              "    .dataframe tbody tr th:only-of-type {\n",
              "        vertical-align: middle;\n",
              "    }\n",
              "\n",
              "    .dataframe tbody tr th {\n",
              "        vertical-align: top;\n",
              "    }\n",
              "\n",
              "    .dataframe thead th {\n",
              "        text-align: right;\n",
              "    }\n",
              "</style>\n",
              "<table border=\"1\" class=\"dataframe\">\n",
              "  <thead>\n",
              "    <tr style=\"text-align: right;\">\n",
              "      <th></th>\n",
              "      <th>msa</th>\n",
              "      <th>msa_name</th>\n",
              "      <th>Geo_FIPS</th>\n",
              "      <th>county</th>\n",
              "    </tr>\n",
              "  </thead>\n",
              "  <tbody>\n",
              "    <tr>\n",
              "      <th>0</th>\n",
              "      <td>10180</td>\n",
              "      <td>Abilene, TX (Metropolitan Statistical Area)</td>\n",
              "      <td>48059</td>\n",
              "      <td>Callahan, TX</td>\n",
              "    </tr>\n",
              "    <tr>\n",
              "      <th>1</th>\n",
              "      <td>10180</td>\n",
              "      <td>Abilene, TX (Metropolitan Statistical Area)</td>\n",
              "      <td>48253</td>\n",
              "      <td>Jones, TX</td>\n",
              "    </tr>\n",
              "    <tr>\n",
              "      <th>2</th>\n",
              "      <td>10180</td>\n",
              "      <td>Abilene, TX (Metropolitan Statistical Area)</td>\n",
              "      <td>48441</td>\n",
              "      <td>Taylor, TX</td>\n",
              "    </tr>\n",
              "    <tr>\n",
              "      <th>3</th>\n",
              "      <td>10420</td>\n",
              "      <td>Akron, OH (Metropolitan Statistical Area)</td>\n",
              "      <td>39133</td>\n",
              "      <td>Portage, OH</td>\n",
              "    </tr>\n",
              "    <tr>\n",
              "      <th>4</th>\n",
              "      <td>10420</td>\n",
              "      <td>Akron, OH (Metropolitan Statistical Area)</td>\n",
              "      <td>39153</td>\n",
              "      <td>Summit, OH</td>\n",
              "    </tr>\n",
              "  </tbody>\n",
              "</table>\n",
              "</div>"
            ],
            "text/plain": [
              "     msa                                     msa_name  Geo_FIPS        county\n",
              "0  10180  Abilene, TX (Metropolitan Statistical Area)     48059  Callahan, TX\n",
              "1  10180  Abilene, TX (Metropolitan Statistical Area)     48253     Jones, TX\n",
              "2  10180  Abilene, TX (Metropolitan Statistical Area)     48441    Taylor, TX\n",
              "3  10420    Akron, OH (Metropolitan Statistical Area)     39133   Portage, OH\n",
              "4  10420    Akron, OH (Metropolitan Statistical Area)     39153    Summit, OH"
            ]
          },
          "metadata": {
            "tags": []
          },
          "execution_count": 39
        }
      ]
    },
    {
      "cell_type": "code",
      "metadata": {
        "id": "Wl1_akwcYfMJ",
        "colab_type": "code",
        "colab": {}
      },
      "source": [
        "msaNames={r['msa']:r['msa_name'] for i,r in msa.iterrows()}"
      ],
      "execution_count": 0,
      "outputs": []
    },
    {
      "cell_type": "code",
      "metadata": {
        "id": "R3xKNsGlYi6H",
        "colab_type": "code",
        "colab": {
          "base_uri": "https://localhost:8080/",
          "height": 394
        },
        "outputId": "fca00356-de92-49b0-fe8c-3beeb7fe5a04"
      },
      "source": [
        "demographics = pd.read_csv('/content/drive/My Drive/Untitled folder/demographics.csv', encoding = 'unicode_escape')\n",
        "demographics.head()"
      ],
      "execution_count": 41,
      "outputs": [
        {
          "output_type": "execute_result",
          "data": {
            "text/html": [
              "<div>\n",
              "<style scoped>\n",
              "    .dataframe tbody tr th:only-of-type {\n",
              "        vertical-align: middle;\n",
              "    }\n",
              "\n",
              "    .dataframe tbody tr th {\n",
              "        vertical-align: top;\n",
              "    }\n",
              "\n",
              "    .dataframe thead th {\n",
              "        text-align: right;\n",
              "    }\n",
              "</style>\n",
              "<table border=\"1\" class=\"dataframe\">\n",
              "  <thead>\n",
              "    <tr style=\"text-align: right;\">\n",
              "      <th></th>\n",
              "      <th>Geo_FIPS</th>\n",
              "      <th>Geo_GEOID</th>\n",
              "      <th>Geo_NAME</th>\n",
              "      <th>Geo_QName</th>\n",
              "      <th>Geo_STUSAB</th>\n",
              "      <th>Geo_SUMLEV</th>\n",
              "      <th>Geo_GEOCOMP</th>\n",
              "      <th>Geo_FILEID</th>\n",
              "      <th>Geo_LOGRECNO</th>\n",
              "      <th>Geo_US</th>\n",
              "      <th>Geo_REGION</th>\n",
              "      <th>Geo_DIVISION</th>\n",
              "      <th>Geo_STATECE</th>\n",
              "      <th>Geo_STATE</th>\n",
              "      <th>Geo_COUNTY</th>\n",
              "      <th>Geo_COUSUB</th>\n",
              "      <th>Geo_PLACE</th>\n",
              "      <th>Geo_PLACESE</th>\n",
              "      <th>Geo_TRACT</th>\n",
              "      <th>Geo_BLKGRP</th>\n",
              "      <th>Geo_CONCIT</th>\n",
              "      <th>Geo_AIANHH</th>\n",
              "      <th>Geo_AIANHHFP</th>\n",
              "      <th>Geo_AIHHTLI</th>\n",
              "      <th>Geo_AITSCE</th>\n",
              "      <th>Geo_AITS</th>\n",
              "      <th>Geo_ANRC</th>\n",
              "      <th>Geo_CBSA</th>\n",
              "      <th>Geo_CSA</th>\n",
              "      <th>Geo_METDIV</th>\n",
              "      <th>Geo_MACC</th>\n",
              "      <th>Geo_MEMI</th>\n",
              "      <th>Geo_NECTA</th>\n",
              "      <th>Geo_CNECTA</th>\n",
              "      <th>Geo_NECTADIV</th>\n",
              "      <th>Geo_UA</th>\n",
              "      <th>Geo_UACP</th>\n",
              "      <th>Geo_CDCURR</th>\n",
              "      <th>Geo_SLDU</th>\n",
              "      <th>Geo_SLDL</th>\n",
              "      <th>Geo_VTD</th>\n",
              "      <th>Geo_ZCTA3</th>\n",
              "      <th>Geo_ZCTA5</th>\n",
              "      <th>Geo_SUBMCD</th>\n",
              "      <th>Geo_SDELM</th>\n",
              "      <th>Geo_SDSEC</th>\n",
              "      <th>Geo_SDUNI</th>\n",
              "      <th>Geo_UR</th>\n",
              "      <th>Geo_PCI</th>\n",
              "      <th>Geo_TAZ</th>\n",
              "      <th>Geo_UGA</th>\n",
              "      <th>Geo_BTTR</th>\n",
              "      <th>Geo_BTBG</th>\n",
              "      <th>Geo_PUMA5</th>\n",
              "      <th>Geo_PUMA1</th>\n",
              "      <th>SE_T001_001</th>\n",
              "      <th>SE_T002_001</th>\n",
              "      <th>SE_T002_002</th>\n",
              "      <th>SE_T002_003</th>\n",
              "      <th>SE_T003_001</th>\n",
              "      <th>SE_T003_002</th>\n",
              "      <th>SE_T003_003</th>\n",
              "      <th>SE_T057_001</th>\n",
              "      <th>SE_T083_001</th>\n",
              "    </tr>\n",
              "  </thead>\n",
              "  <tbody>\n",
              "    <tr>\n",
              "      <th>0</th>\n",
              "      <td>1001</td>\n",
              "      <td>05000US01001</td>\n",
              "      <td>Autauga County, Alabama</td>\n",
              "      <td>Autauga County, Alabama</td>\n",
              "      <td>al</td>\n",
              "      <td>50</td>\n",
              "      <td>0</td>\n",
              "      <td>ACSSF</td>\n",
              "      <td>13</td>\n",
              "      <td>NaN</td>\n",
              "      <td>NaN</td>\n",
              "      <td>NaN</td>\n",
              "      <td>NaN</td>\n",
              "      <td>1</td>\n",
              "      <td>1</td>\n",
              "      <td>NaN</td>\n",
              "      <td>NaN</td>\n",
              "      <td>NaN</td>\n",
              "      <td>NaN</td>\n",
              "      <td>NaN</td>\n",
              "      <td>NaN</td>\n",
              "      <td>NaN</td>\n",
              "      <td>NaN</td>\n",
              "      <td>NaN</td>\n",
              "      <td>NaN</td>\n",
              "      <td>NaN</td>\n",
              "      <td>NaN</td>\n",
              "      <td>NaN</td>\n",
              "      <td>NaN</td>\n",
              "      <td>NaN</td>\n",
              "      <td>NaN</td>\n",
              "      <td>NaN</td>\n",
              "      <td>NaN</td>\n",
              "      <td>NaN</td>\n",
              "      <td>NaN</td>\n",
              "      <td>NaN</td>\n",
              "      <td>NaN</td>\n",
              "      <td>NaN</td>\n",
              "      <td>NaN</td>\n",
              "      <td>NaN</td>\n",
              "      <td>NaN</td>\n",
              "      <td>NaN</td>\n",
              "      <td>NaN</td>\n",
              "      <td>NaN</td>\n",
              "      <td>NaN</td>\n",
              "      <td>NaN</td>\n",
              "      <td>NaN</td>\n",
              "      <td>NaN</td>\n",
              "      <td>NaN</td>\n",
              "      <td>NaN</td>\n",
              "      <td>NaN</td>\n",
              "      <td>NaN</td>\n",
              "      <td>NaN</td>\n",
              "      <td>NaN</td>\n",
              "      <td>NaN</td>\n",
              "      <td>55136</td>\n",
              "      <td>55136</td>\n",
              "      <td>92.75346</td>\n",
              "      <td>594.436089</td>\n",
              "      <td>604.3882</td>\n",
              "      <td>594.4361</td>\n",
              "      <td>9.952067</td>\n",
              "      <td>52475</td>\n",
              "      <td>24644</td>\n",
              "    </tr>\n",
              "    <tr>\n",
              "      <th>1</th>\n",
              "      <td>1003</td>\n",
              "      <td>05000US01003</td>\n",
              "      <td>Baldwin County, Alabama</td>\n",
              "      <td>Baldwin County, Alabama</td>\n",
              "      <td>al</td>\n",
              "      <td>50</td>\n",
              "      <td>0</td>\n",
              "      <td>ACSSF</td>\n",
              "      <td>14</td>\n",
              "      <td>NaN</td>\n",
              "      <td>NaN</td>\n",
              "      <td>NaN</td>\n",
              "      <td>NaN</td>\n",
              "      <td>1</td>\n",
              "      <td>3</td>\n",
              "      <td>NaN</td>\n",
              "      <td>NaN</td>\n",
              "      <td>NaN</td>\n",
              "      <td>NaN</td>\n",
              "      <td>NaN</td>\n",
              "      <td>NaN</td>\n",
              "      <td>NaN</td>\n",
              "      <td>NaN</td>\n",
              "      <td>NaN</td>\n",
              "      <td>NaN</td>\n",
              "      <td>NaN</td>\n",
              "      <td>NaN</td>\n",
              "      <td>NaN</td>\n",
              "      <td>NaN</td>\n",
              "      <td>NaN</td>\n",
              "      <td>NaN</td>\n",
              "      <td>NaN</td>\n",
              "      <td>NaN</td>\n",
              "      <td>NaN</td>\n",
              "      <td>NaN</td>\n",
              "      <td>NaN</td>\n",
              "      <td>NaN</td>\n",
              "      <td>NaN</td>\n",
              "      <td>NaN</td>\n",
              "      <td>NaN</td>\n",
              "      <td>NaN</td>\n",
              "      <td>NaN</td>\n",
              "      <td>NaN</td>\n",
              "      <td>NaN</td>\n",
              "      <td>NaN</td>\n",
              "      <td>NaN</td>\n",
              "      <td>NaN</td>\n",
              "      <td>NaN</td>\n",
              "      <td>NaN</td>\n",
              "      <td>NaN</td>\n",
              "      <td>NaN</td>\n",
              "      <td>NaN</td>\n",
              "      <td>NaN</td>\n",
              "      <td>NaN</td>\n",
              "      <td>NaN</td>\n",
              "      <td>191205</td>\n",
              "      <td>191205</td>\n",
              "      <td>120.27100</td>\n",
              "      <td>1589.784070</td>\n",
              "      <td>2027.3110</td>\n",
              "      <td>1589.7840</td>\n",
              "      <td>437.527200</td>\n",
              "      <td>50183</td>\n",
              "      <td>26851</td>\n",
              "    </tr>\n",
              "    <tr>\n",
              "      <th>2</th>\n",
              "      <td>1005</td>\n",
              "      <td>05000US01005</td>\n",
              "      <td>Barbour County, Alabama</td>\n",
              "      <td>Barbour County, Alabama</td>\n",
              "      <td>al</td>\n",
              "      <td>50</td>\n",
              "      <td>0</td>\n",
              "      <td>ACSSF</td>\n",
              "      <td>15</td>\n",
              "      <td>NaN</td>\n",
              "      <td>NaN</td>\n",
              "      <td>NaN</td>\n",
              "      <td>NaN</td>\n",
              "      <td>1</td>\n",
              "      <td>5</td>\n",
              "      <td>NaN</td>\n",
              "      <td>NaN</td>\n",
              "      <td>NaN</td>\n",
              "      <td>NaN</td>\n",
              "      <td>NaN</td>\n",
              "      <td>NaN</td>\n",
              "      <td>NaN</td>\n",
              "      <td>NaN</td>\n",
              "      <td>NaN</td>\n",
              "      <td>NaN</td>\n",
              "      <td>NaN</td>\n",
              "      <td>NaN</td>\n",
              "      <td>NaN</td>\n",
              "      <td>NaN</td>\n",
              "      <td>NaN</td>\n",
              "      <td>NaN</td>\n",
              "      <td>NaN</td>\n",
              "      <td>NaN</td>\n",
              "      <td>NaN</td>\n",
              "      <td>NaN</td>\n",
              "      <td>NaN</td>\n",
              "      <td>NaN</td>\n",
              "      <td>NaN</td>\n",
              "      <td>NaN</td>\n",
              "      <td>NaN</td>\n",
              "      <td>NaN</td>\n",
              "      <td>NaN</td>\n",
              "      <td>NaN</td>\n",
              "      <td>NaN</td>\n",
              "      <td>NaN</td>\n",
              "      <td>NaN</td>\n",
              "      <td>NaN</td>\n",
              "      <td>NaN</td>\n",
              "      <td>NaN</td>\n",
              "      <td>NaN</td>\n",
              "      <td>NaN</td>\n",
              "      <td>NaN</td>\n",
              "      <td>NaN</td>\n",
              "      <td>NaN</td>\n",
              "      <td>NaN</td>\n",
              "      <td>27119</td>\n",
              "      <td>27119</td>\n",
              "      <td>30.64722</td>\n",
              "      <td>884.876304</td>\n",
              "      <td>904.5153</td>\n",
              "      <td>884.8763</td>\n",
              "      <td>19.638980</td>\n",
              "      <td>35634</td>\n",
              "      <td>17350</td>\n",
              "    </tr>\n",
              "    <tr>\n",
              "      <th>3</th>\n",
              "      <td>1007</td>\n",
              "      <td>05000US01007</td>\n",
              "      <td>Bibb County, Alabama</td>\n",
              "      <td>Bibb County, Alabama</td>\n",
              "      <td>al</td>\n",
              "      <td>50</td>\n",
              "      <td>0</td>\n",
              "      <td>ACSSF</td>\n",
              "      <td>16</td>\n",
              "      <td>NaN</td>\n",
              "      <td>NaN</td>\n",
              "      <td>NaN</td>\n",
              "      <td>NaN</td>\n",
              "      <td>1</td>\n",
              "      <td>7</td>\n",
              "      <td>NaN</td>\n",
              "      <td>NaN</td>\n",
              "      <td>NaN</td>\n",
              "      <td>NaN</td>\n",
              "      <td>NaN</td>\n",
              "      <td>NaN</td>\n",
              "      <td>NaN</td>\n",
              "      <td>NaN</td>\n",
              "      <td>NaN</td>\n",
              "      <td>NaN</td>\n",
              "      <td>NaN</td>\n",
              "      <td>NaN</td>\n",
              "      <td>NaN</td>\n",
              "      <td>NaN</td>\n",
              "      <td>NaN</td>\n",
              "      <td>NaN</td>\n",
              "      <td>NaN</td>\n",
              "      <td>NaN</td>\n",
              "      <td>NaN</td>\n",
              "      <td>NaN</td>\n",
              "      <td>NaN</td>\n",
              "      <td>NaN</td>\n",
              "      <td>NaN</td>\n",
              "      <td>NaN</td>\n",
              "      <td>NaN</td>\n",
              "      <td>NaN</td>\n",
              "      <td>NaN</td>\n",
              "      <td>NaN</td>\n",
              "      <td>NaN</td>\n",
              "      <td>NaN</td>\n",
              "      <td>NaN</td>\n",
              "      <td>NaN</td>\n",
              "      <td>NaN</td>\n",
              "      <td>NaN</td>\n",
              "      <td>NaN</td>\n",
              "      <td>NaN</td>\n",
              "      <td>NaN</td>\n",
              "      <td>NaN</td>\n",
              "      <td>NaN</td>\n",
              "      <td>NaN</td>\n",
              "      <td>22653</td>\n",
              "      <td>22653</td>\n",
              "      <td>36.38555</td>\n",
              "      <td>622.582332</td>\n",
              "      <td>626.1689</td>\n",
              "      <td>622.5823</td>\n",
              "      <td>3.586525</td>\n",
              "      <td>37984</td>\n",
              "      <td>18110</td>\n",
              "    </tr>\n",
              "    <tr>\n",
              "      <th>4</th>\n",
              "      <td>1009</td>\n",
              "      <td>05000US01009</td>\n",
              "      <td>Blount County, Alabama</td>\n",
              "      <td>Blount County, Alabama</td>\n",
              "      <td>al</td>\n",
              "      <td>50</td>\n",
              "      <td>0</td>\n",
              "      <td>ACSSF</td>\n",
              "      <td>17</td>\n",
              "      <td>NaN</td>\n",
              "      <td>NaN</td>\n",
              "      <td>NaN</td>\n",
              "      <td>NaN</td>\n",
              "      <td>1</td>\n",
              "      <td>9</td>\n",
              "      <td>NaN</td>\n",
              "      <td>NaN</td>\n",
              "      <td>NaN</td>\n",
              "      <td>NaN</td>\n",
              "      <td>NaN</td>\n",
              "      <td>NaN</td>\n",
              "      <td>NaN</td>\n",
              "      <td>NaN</td>\n",
              "      <td>NaN</td>\n",
              "      <td>NaN</td>\n",
              "      <td>NaN</td>\n",
              "      <td>NaN</td>\n",
              "      <td>NaN</td>\n",
              "      <td>NaN</td>\n",
              "      <td>NaN</td>\n",
              "      <td>NaN</td>\n",
              "      <td>NaN</td>\n",
              "      <td>NaN</td>\n",
              "      <td>NaN</td>\n",
              "      <td>NaN</td>\n",
              "      <td>NaN</td>\n",
              "      <td>NaN</td>\n",
              "      <td>NaN</td>\n",
              "      <td>NaN</td>\n",
              "      <td>NaN</td>\n",
              "      <td>NaN</td>\n",
              "      <td>NaN</td>\n",
              "      <td>NaN</td>\n",
              "      <td>NaN</td>\n",
              "      <td>NaN</td>\n",
              "      <td>NaN</td>\n",
              "      <td>NaN</td>\n",
              "      <td>NaN</td>\n",
              "      <td>NaN</td>\n",
              "      <td>NaN</td>\n",
              "      <td>NaN</td>\n",
              "      <td>NaN</td>\n",
              "      <td>NaN</td>\n",
              "      <td>NaN</td>\n",
              "      <td>NaN</td>\n",
              "      <td>57645</td>\n",
              "      <td>57645</td>\n",
              "      <td>89.40315</td>\n",
              "      <td>644.775905</td>\n",
              "      <td>650.6282</td>\n",
              "      <td>644.7759</td>\n",
              "      <td>5.852321</td>\n",
              "      <td>44409</td>\n",
              "      <td>20501</td>\n",
              "    </tr>\n",
              "  </tbody>\n",
              "</table>\n",
              "</div>"
            ],
            "text/plain": [
              "   Geo_FIPS     Geo_GEOID  ... SE_T057_001 SE_T083_001\n",
              "0      1001  05000US01001  ...       52475       24644\n",
              "1      1003  05000US01003  ...       50183       26851\n",
              "2      1005  05000US01005  ...       35634       17350\n",
              "3      1007  05000US01007  ...       37984       18110\n",
              "4      1009  05000US01009  ...       44409       20501\n",
              "\n",
              "[5 rows x 64 columns]"
            ]
          },
          "metadata": {
            "tags": []
          },
          "execution_count": 41
        }
      ]
    },
    {
      "cell_type": "code",
      "metadata": {
        "id": "qCbWDXvFYtg4",
        "colab_type": "code",
        "colab": {}
      },
      "source": [
        "demographics = demographics[[ u'Geo_GEOID', u'Geo_NAME', u'Geo_QName', u'Geo_COUNTY',\\\n",
        "                             u'SE_T001_001', u'SE_T002_002', u'SE_T002_003', u'SE_T057_001', u'SE_T083_001']]\n",
        "\n",
        "demographics.rename(columns={u'SE_T001_001' : 'Population',\\\n",
        "                             u'SE_T002_002' : 'Population Density', \\\n",
        "                             u'SE_T002_003' : 'Area',\\\n",
        "                             u'SE_T057_001' : 'Median household income',\\\n",
        "                             u'SE_T083_001' : 'Per capita income'}, inplace=True)"
      ],
      "execution_count": 0,
      "outputs": []
    },
    {
      "cell_type": "code",
      "metadata": {
        "id": "p1170c34Ywkx",
        "colab_type": "code",
        "colab": {}
      },
      "source": [
        "demographics['Income']=demographics.Population*demographics['Per capita income']"
      ],
      "execution_count": 0,
      "outputs": []
    },
    {
      "cell_type": "code",
      "metadata": {
        "id": "Xfa-ou3sY3dM",
        "colab_type": "code",
        "colab": {
          "base_uri": "https://localhost:8080/",
          "height": 306
        },
        "outputId": "a4ab7ea2-fa6f-4ea5-c3e4-4c8d3379bb76"
      },
      "source": [
        "def num(s):\n",
        "    try:\n",
        "        return int(s)\n",
        "    except ValueError:\n",
        "        0\n",
        "\n",
        "demographics['ID'] = demographics.Geo_GEOID.apply(lambda x: num(x[7:]))\n",
        "msa['ID'] = msa.Geo_FIPS.apply(num)\n",
        "\n",
        "demomsa = pd.merge(demographics, msa, on='ID', how='inner')\n",
        "demomsa.head()"
      ],
      "execution_count": 44,
      "outputs": [
        {
          "output_type": "execute_result",
          "data": {
            "text/html": [
              "<div>\n",
              "<style scoped>\n",
              "    .dataframe tbody tr th:only-of-type {\n",
              "        vertical-align: middle;\n",
              "    }\n",
              "\n",
              "    .dataframe tbody tr th {\n",
              "        vertical-align: top;\n",
              "    }\n",
              "\n",
              "    .dataframe thead th {\n",
              "        text-align: right;\n",
              "    }\n",
              "</style>\n",
              "<table border=\"1\" class=\"dataframe\">\n",
              "  <thead>\n",
              "    <tr style=\"text-align: right;\">\n",
              "      <th></th>\n",
              "      <th>Geo_GEOID</th>\n",
              "      <th>Geo_NAME</th>\n",
              "      <th>Geo_QName</th>\n",
              "      <th>Geo_COUNTY</th>\n",
              "      <th>Population</th>\n",
              "      <th>Population Density</th>\n",
              "      <th>Area</th>\n",
              "      <th>Median household income</th>\n",
              "      <th>Per capita income</th>\n",
              "      <th>Income</th>\n",
              "      <th>ID</th>\n",
              "      <th>msa</th>\n",
              "      <th>msa_name</th>\n",
              "      <th>Geo_FIPS</th>\n",
              "      <th>county</th>\n",
              "    </tr>\n",
              "  </thead>\n",
              "  <tbody>\n",
              "    <tr>\n",
              "      <th>0</th>\n",
              "      <td>05000US01001</td>\n",
              "      <td>Autauga County, Alabama</td>\n",
              "      <td>Autauga County, Alabama</td>\n",
              "      <td>1</td>\n",
              "      <td>55136</td>\n",
              "      <td>92.75346</td>\n",
              "      <td>594.436089</td>\n",
              "      <td>52475</td>\n",
              "      <td>24644</td>\n",
              "      <td>1358771584</td>\n",
              "      <td>1001</td>\n",
              "      <td>33860</td>\n",
              "      <td>Montgomery, AL (Metropolitan Statistical Area)</td>\n",
              "      <td>1001</td>\n",
              "      <td>Autauga, AL</td>\n",
              "    </tr>\n",
              "    <tr>\n",
              "      <th>1</th>\n",
              "      <td>05000US01003</td>\n",
              "      <td>Baldwin County, Alabama</td>\n",
              "      <td>Baldwin County, Alabama</td>\n",
              "      <td>3</td>\n",
              "      <td>191205</td>\n",
              "      <td>120.27100</td>\n",
              "      <td>1589.784070</td>\n",
              "      <td>50183</td>\n",
              "      <td>26851</td>\n",
              "      <td>5134045455</td>\n",
              "      <td>1003</td>\n",
              "      <td>19300</td>\n",
              "      <td>Daphne-Fairhope-Foley, AL (Metropolitan Statis...</td>\n",
              "      <td>1003</td>\n",
              "      <td>Baldwin, AL</td>\n",
              "    </tr>\n",
              "    <tr>\n",
              "      <th>2</th>\n",
              "      <td>05000US01007</td>\n",
              "      <td>Bibb County, Alabama</td>\n",
              "      <td>Bibb County, Alabama</td>\n",
              "      <td>7</td>\n",
              "      <td>22653</td>\n",
              "      <td>36.38555</td>\n",
              "      <td>622.582332</td>\n",
              "      <td>37984</td>\n",
              "      <td>18110</td>\n",
              "      <td>410245830</td>\n",
              "      <td>1007</td>\n",
              "      <td>13820</td>\n",
              "      <td>Birmingham-Hoover, AL (Metropolitan Statistica...</td>\n",
              "      <td>1007</td>\n",
              "      <td>Bibb, AL</td>\n",
              "    </tr>\n",
              "    <tr>\n",
              "      <th>3</th>\n",
              "      <td>05000US01009</td>\n",
              "      <td>Blount County, Alabama</td>\n",
              "      <td>Blount County, Alabama</td>\n",
              "      <td>9</td>\n",
              "      <td>57645</td>\n",
              "      <td>89.40315</td>\n",
              "      <td>644.775905</td>\n",
              "      <td>44409</td>\n",
              "      <td>20501</td>\n",
              "      <td>1181780145</td>\n",
              "      <td>1009</td>\n",
              "      <td>13820</td>\n",
              "      <td>Birmingham-Hoover, AL (Metropolitan Statistica...</td>\n",
              "      <td>1009</td>\n",
              "      <td>Blount, AL</td>\n",
              "    </tr>\n",
              "    <tr>\n",
              "      <th>4</th>\n",
              "      <td>05000US01015</td>\n",
              "      <td>Calhoun County, Alabama</td>\n",
              "      <td>Calhoun County, Alabama</td>\n",
              "      <td>15</td>\n",
              "      <td>117186</td>\n",
              "      <td>193.41850</td>\n",
              "      <td>605.867678</td>\n",
              "      <td>40919</td>\n",
              "      <td>21306</td>\n",
              "      <td>2496764916</td>\n",
              "      <td>1015</td>\n",
              "      <td>11500</td>\n",
              "      <td>Anniston-Oxford-Jacksonville, AL (Metropolitan...</td>\n",
              "      <td>1015</td>\n",
              "      <td>Calhoun, AL</td>\n",
              "    </tr>\n",
              "  </tbody>\n",
              "</table>\n",
              "</div>"
            ],
            "text/plain": [
              "      Geo_GEOID                 Geo_NAME  ... Geo_FIPS       county\n",
              "0  05000US01001  Autauga County, Alabama  ...     1001  Autauga, AL\n",
              "1  05000US01003  Baldwin County, Alabama  ...     1003  Baldwin, AL\n",
              "2  05000US01007     Bibb County, Alabama  ...     1007     Bibb, AL\n",
              "3  05000US01009   Blount County, Alabama  ...     1009   Blount, AL\n",
              "4  05000US01015  Calhoun County, Alabama  ...     1015  Calhoun, AL\n",
              "\n",
              "[5 rows x 15 columns]"
            ]
          },
          "metadata": {
            "tags": []
          },
          "execution_count": 44
        }
      ]
    },
    {
      "cell_type": "code",
      "metadata": {
        "id": "mVV_JH-zY8OW",
        "colab_type": "code",
        "colab": {}
      },
      "source": [
        "msaDemo = demomsa.groupby(by='msa').sum().loc[:,[u'Population', u'Area', u'Income']]"
      ],
      "execution_count": 0,
      "outputs": []
    },
    {
      "cell_type": "code",
      "metadata": {
        "id": "xcGKr7cPmmhV",
        "colab_type": "code",
        "colab": {}
      },
      "source": [
        "crime2014 = pd.read_csv('/content/drive/My Drive/Untitled folder/R11460954_SL050.csv') "
      ],
      "execution_count": 0,
      "outputs": []
    },
    {
      "cell_type": "code",
      "metadata": {
        "id": "4fTae8MFZWcf",
        "colab_type": "code",
        "colab": {}
      },
      "source": [
        "crime2014.rename(columns = { u'SE_T001_001' : 'Population',\\\n",
        "                             u'SE_T002_001' : 'Crimes',\\\n",
        "                          u'SE_T002_002' : 'Violent Crimes', \\\n",
        "                          u'SE_T002_003' : 'Property Crimes' }, inplace=True)\n",
        "\n",
        "crime2014 = crime2014[[u'Geo_FIPS', u'Geo_NAME', u'Geo_QNAME', u'Geo_STATE', u'Geo_COUNTY', 'Population', 'Crimes' , 'Violent Crimes', 'Property Crimes']]"
      ],
      "execution_count": 0,
      "outputs": []
    },
    {
      "cell_type": "code",
      "metadata": {
        "id": "3W6PQ9avZbZv",
        "colab_type": "code",
        "colab": {
          "base_uri": "https://localhost:8080/",
          "height": 204
        },
        "outputId": "3e370ed3-ec32-4c48-f715-bd6bd92232fd"
      },
      "source": [
        "def num(s):\n",
        "    try:\n",
        "        return int(s)\n",
        "    except ValueError:\n",
        "        0\n",
        "\n",
        "demographics['ID'] = demographics.Geo_GEOID.apply(lambda x: num(x[7:]))\n",
        "crime2014['ID'] = crime2014.Geo_FIPS.apply(num)\n",
        "msa['ID'] = msa.Geo_FIPS.apply(num)\n",
        "\n",
        "demomsa = pd.merge(demographics, msa, on='ID', how='inner')\n",
        "crimemsa = pd.merge(crime2014, msa, on='ID', how='inner')\n",
        "crimemsa.head()"
      ],
      "execution_count": 48,
      "outputs": [
        {
          "output_type": "execute_result",
          "data": {
            "text/html": [
              "<div>\n",
              "<style scoped>\n",
              "    .dataframe tbody tr th:only-of-type {\n",
              "        vertical-align: middle;\n",
              "    }\n",
              "\n",
              "    .dataframe tbody tr th {\n",
              "        vertical-align: top;\n",
              "    }\n",
              "\n",
              "    .dataframe thead th {\n",
              "        text-align: right;\n",
              "    }\n",
              "</style>\n",
              "<table border=\"1\" class=\"dataframe\">\n",
              "  <thead>\n",
              "    <tr style=\"text-align: right;\">\n",
              "      <th></th>\n",
              "      <th>Geo_FIPS_x</th>\n",
              "      <th>Geo_NAME</th>\n",
              "      <th>Geo_QNAME</th>\n",
              "      <th>Geo_STATE</th>\n",
              "      <th>Geo_COUNTY</th>\n",
              "      <th>Population</th>\n",
              "      <th>Crimes</th>\n",
              "      <th>Violent Crimes</th>\n",
              "      <th>Property Crimes</th>\n",
              "      <th>ID</th>\n",
              "      <th>msa</th>\n",
              "      <th>msa_name</th>\n",
              "      <th>Geo_FIPS_y</th>\n",
              "      <th>county</th>\n",
              "    </tr>\n",
              "  </thead>\n",
              "  <tbody>\n",
              "    <tr>\n",
              "      <th>0</th>\n",
              "      <td>01001</td>\n",
              "      <td>Autauga County</td>\n",
              "      <td>Autauga County, Alabama</td>\n",
              "      <td>1</td>\n",
              "      <td>001</td>\n",
              "      <td>55395.0</td>\n",
              "      <td>482</td>\n",
              "      <td>68</td>\n",
              "      <td>414</td>\n",
              "      <td>1001.0</td>\n",
              "      <td>33860</td>\n",
              "      <td>Montgomery, AL (Metropolitan Statistical Area)</td>\n",
              "      <td>1001</td>\n",
              "      <td>Autauga, AL</td>\n",
              "    </tr>\n",
              "    <tr>\n",
              "      <th>1</th>\n",
              "      <td>01003</td>\n",
              "      <td>Baldwin County</td>\n",
              "      <td>Baldwin County, Alabama</td>\n",
              "      <td>1</td>\n",
              "      <td>003</td>\n",
              "      <td>200111.0</td>\n",
              "      <td>760</td>\n",
              "      <td>98</td>\n",
              "      <td>662</td>\n",
              "      <td>1003.0</td>\n",
              "      <td>19300</td>\n",
              "      <td>Daphne-Fairhope-Foley, AL (Metropolitan Statis...</td>\n",
              "      <td>1003</td>\n",
              "      <td>Baldwin, AL</td>\n",
              "    </tr>\n",
              "    <tr>\n",
              "      <th>2</th>\n",
              "      <td>01007</td>\n",
              "      <td>Bibb County</td>\n",
              "      <td>Bibb County, Alabama</td>\n",
              "      <td>1</td>\n",
              "      <td>007</td>\n",
              "      <td>22506.0</td>\n",
              "      <td>86</td>\n",
              "      <td>4</td>\n",
              "      <td>82</td>\n",
              "      <td>1007.0</td>\n",
              "      <td>13820</td>\n",
              "      <td>Birmingham-Hoover, AL (Metropolitan Statistica...</td>\n",
              "      <td>1007</td>\n",
              "      <td>Bibb, AL</td>\n",
              "    </tr>\n",
              "    <tr>\n",
              "      <th>3</th>\n",
              "      <td>01009</td>\n",
              "      <td>Blount County</td>\n",
              "      <td>Blount County, Alabama</td>\n",
              "      <td>1</td>\n",
              "      <td>009</td>\n",
              "      <td>57719.0</td>\n",
              "      <td>1013</td>\n",
              "      <td>90</td>\n",
              "      <td>923</td>\n",
              "      <td>1009.0</td>\n",
              "      <td>13820</td>\n",
              "      <td>Birmingham-Hoover, AL (Metropolitan Statistica...</td>\n",
              "      <td>1009</td>\n",
              "      <td>Blount, AL</td>\n",
              "    </tr>\n",
              "    <tr>\n",
              "      <th>4</th>\n",
              "      <td>01015</td>\n",
              "      <td>Calhoun County</td>\n",
              "      <td>Calhoun County, Alabama</td>\n",
              "      <td>1</td>\n",
              "      <td>015</td>\n",
              "      <td>115916.0</td>\n",
              "      <td>486</td>\n",
              "      <td>15</td>\n",
              "      <td>471</td>\n",
              "      <td>1015.0</td>\n",
              "      <td>11500</td>\n",
              "      <td>Anniston-Oxford-Jacksonville, AL (Metropolitan...</td>\n",
              "      <td>1015</td>\n",
              "      <td>Calhoun, AL</td>\n",
              "    </tr>\n",
              "  </tbody>\n",
              "</table>\n",
              "</div>"
            ],
            "text/plain": [
              "  Geo_FIPS_x        Geo_NAME  ... Geo_FIPS_y       county\n",
              "0      01001  Autauga County  ...       1001  Autauga, AL\n",
              "1      01003  Baldwin County  ...       1003  Baldwin, AL\n",
              "2      01007     Bibb County  ...       1007     Bibb, AL\n",
              "3      01009   Blount County  ...       1009   Blount, AL\n",
              "4      01015  Calhoun County  ...       1015  Calhoun, AL\n",
              "\n",
              "[5 rows x 14 columns]"
            ]
          },
          "metadata": {
            "tags": []
          },
          "execution_count": 48
        }
      ]
    },
    {
      "cell_type": "code",
      "metadata": {
        "id": "Q2Btif9zZbW-",
        "colab_type": "code",
        "colab": {
          "base_uri": "https://localhost:8080/",
          "height": 235
        },
        "outputId": "7df5f183-ba2e-4185-fbef-7c1fca45f434"
      },
      "source": [
        "msaCrime = crimemsa.groupby(by='msa').sum().loc[:,[u'Population', u'Crimes', u'Violent Crimes', u'Property Crimes']]\n",
        "msaCrime.head()"
      ],
      "execution_count": 49,
      "outputs": [
        {
          "output_type": "execute_result",
          "data": {
            "text/html": [
              "<div>\n",
              "<style scoped>\n",
              "    .dataframe tbody tr th:only-of-type {\n",
              "        vertical-align: middle;\n",
              "    }\n",
              "\n",
              "    .dataframe tbody tr th {\n",
              "        vertical-align: top;\n",
              "    }\n",
              "\n",
              "    .dataframe thead th {\n",
              "        text-align: right;\n",
              "    }\n",
              "</style>\n",
              "<table border=\"1\" class=\"dataframe\">\n",
              "  <thead>\n",
              "    <tr style=\"text-align: right;\">\n",
              "      <th></th>\n",
              "      <th>Population</th>\n",
              "      <th>Crimes</th>\n",
              "      <th>Violent Crimes</th>\n",
              "      <th>Property Crimes</th>\n",
              "    </tr>\n",
              "    <tr>\n",
              "      <th>msa</th>\n",
              "      <th></th>\n",
              "      <th></th>\n",
              "      <th></th>\n",
              "      <th></th>\n",
              "    </tr>\n",
              "  </thead>\n",
              "  <tbody>\n",
              "    <tr>\n",
              "      <th>10180</th>\n",
              "      <td>168592.0</td>\n",
              "      <td>492</td>\n",
              "      <td>62</td>\n",
              "      <td>430</td>\n",
              "    </tr>\n",
              "    <tr>\n",
              "      <th>10420</th>\n",
              "      <td>703825.0</td>\n",
              "      <td>2397</td>\n",
              "      <td>106</td>\n",
              "      <td>2291</td>\n",
              "    </tr>\n",
              "    <tr>\n",
              "      <th>10500</th>\n",
              "      <td>151670.0</td>\n",
              "      <td>1364</td>\n",
              "      <td>107</td>\n",
              "      <td>1257</td>\n",
              "    </tr>\n",
              "    <tr>\n",
              "      <th>10540</th>\n",
              "      <td>119356.0</td>\n",
              "      <td>1092</td>\n",
              "      <td>23</td>\n",
              "      <td>1069</td>\n",
              "    </tr>\n",
              "    <tr>\n",
              "      <th>10580</th>\n",
              "      <td>880167.0</td>\n",
              "      <td>1590</td>\n",
              "      <td>91</td>\n",
              "      <td>1499</td>\n",
              "    </tr>\n",
              "  </tbody>\n",
              "</table>\n",
              "</div>"
            ],
            "text/plain": [
              "       Population  Crimes  Violent Crimes  Property Crimes\n",
              "msa                                                       \n",
              "10180    168592.0     492              62              430\n",
              "10420    703825.0    2397             106             2291\n",
              "10500    151670.0    1364             107             1257\n",
              "10540    119356.0    1092              23             1069\n",
              "10580    880167.0    1590              91             1499"
            ]
          },
          "metadata": {
            "tags": []
          },
          "execution_count": 49
        }
      ]
    },
    {
      "cell_type": "code",
      "metadata": {
        "id": "H0Zx4oaDPF_2",
        "colab_type": "code",
        "colab": {}
      },
      "source": [
        "msaCrime = (msaCrime.where(msaCrime.Crimes>0))"
      ],
      "execution_count": 0,
      "outputs": []
    },
    {
      "cell_type": "code",
      "metadata": {
        "id": "5_nbhqzOfORc",
        "colab_type": "code",
        "colab": {
          "base_uri": "https://localhost:8080/",
          "height": 1000
        },
        "outputId": "821687a6-9c46-494b-8e4a-0965e65ff320"
      },
      "source": [
        "msaCrime.sort_values(by = 'Crimes', ascending = True)"
      ],
      "execution_count": 51,
      "outputs": [
        {
          "output_type": "execute_result",
          "data": {
            "text/html": [
              "<div>\n",
              "<style scoped>\n",
              "    .dataframe tbody tr th:only-of-type {\n",
              "        vertical-align: middle;\n",
              "    }\n",
              "\n",
              "    .dataframe tbody tr th {\n",
              "        vertical-align: top;\n",
              "    }\n",
              "\n",
              "    .dataframe thead th {\n",
              "        text-align: right;\n",
              "    }\n",
              "</style>\n",
              "<table border=\"1\" class=\"dataframe\">\n",
              "  <thead>\n",
              "    <tr style=\"text-align: right;\">\n",
              "      <th></th>\n",
              "      <th>Population</th>\n",
              "      <th>Crimes</th>\n",
              "      <th>Violent Crimes</th>\n",
              "      <th>Property Crimes</th>\n",
              "    </tr>\n",
              "    <tr>\n",
              "      <th>msa</th>\n",
              "      <th></th>\n",
              "      <th></th>\n",
              "      <th></th>\n",
              "      <th></th>\n",
              "    </tr>\n",
              "  </thead>\n",
              "  <tbody>\n",
              "    <tr>\n",
              "      <th>11020</th>\n",
              "      <td>125955.0</td>\n",
              "      <td>1.0</td>\n",
              "      <td>1.0</td>\n",
              "      <td>0.0</td>\n",
              "    </tr>\n",
              "    <tr>\n",
              "      <th>21500</th>\n",
              "      <td>278443.0</td>\n",
              "      <td>2.0</td>\n",
              "      <td>0.0</td>\n",
              "      <td>2.0</td>\n",
              "    </tr>\n",
              "    <tr>\n",
              "      <th>36140</th>\n",
              "      <td>95344.0</td>\n",
              "      <td>3.0</td>\n",
              "      <td>2.0</td>\n",
              "      <td>1.0</td>\n",
              "    </tr>\n",
              "    <tr>\n",
              "      <th>10900</th>\n",
              "      <td>407571.0</td>\n",
              "      <td>3.0</td>\n",
              "      <td>0.0</td>\n",
              "      <td>3.0</td>\n",
              "    </tr>\n",
              "    <tr>\n",
              "      <th>49620</th>\n",
              "      <td>440755.0</td>\n",
              "      <td>5.0</td>\n",
              "      <td>5.0</td>\n",
              "      <td>0.0</td>\n",
              "    </tr>\n",
              "    <tr>\n",
              "      <th>39740</th>\n",
              "      <td>413691.0</td>\n",
              "      <td>5.0</td>\n",
              "      <td>5.0</td>\n",
              "      <td>0.0</td>\n",
              "    </tr>\n",
              "    <tr>\n",
              "      <th>14460</th>\n",
              "      <td>300621.0</td>\n",
              "      <td>9.0</td>\n",
              "      <td>5.0</td>\n",
              "      <td>4.0</td>\n",
              "    </tr>\n",
              "    <tr>\n",
              "      <th>38300</th>\n",
              "      <td>2154097.0</td>\n",
              "      <td>17.0</td>\n",
              "      <td>12.0</td>\n",
              "      <td>5.0</td>\n",
              "    </tr>\n",
              "    <tr>\n",
              "      <th>38540</th>\n",
              "      <td>83347.0</td>\n",
              "      <td>65.0</td>\n",
              "      <td>7.0</td>\n",
              "      <td>58.0</td>\n",
              "    </tr>\n",
              "    <tr>\n",
              "      <th>40660</th>\n",
              "      <td>96063.0</td>\n",
              "      <td>97.0</td>\n",
              "      <td>17.0</td>\n",
              "      <td>80.0</td>\n",
              "    </tr>\n",
              "    <tr>\n",
              "      <th>49020</th>\n",
              "      <td>23483.0</td>\n",
              "      <td>109.0</td>\n",
              "      <td>41.0</td>\n",
              "      <td>68.0</td>\n",
              "    </tr>\n",
              "    <tr>\n",
              "      <th>41100</th>\n",
              "      <td>151948.0</td>\n",
              "      <td>144.0</td>\n",
              "      <td>18.0</td>\n",
              "      <td>126.0</td>\n",
              "    </tr>\n",
              "    <tr>\n",
              "      <th>15540</th>\n",
              "      <td>216167.0</td>\n",
              "      <td>165.0</td>\n",
              "      <td>15.0</td>\n",
              "      <td>150.0</td>\n",
              "    </tr>\n",
              "    <tr>\n",
              "      <th>38220</th>\n",
              "      <td>22419.0</td>\n",
              "      <td>167.0</td>\n",
              "      <td>4.0</td>\n",
              "      <td>163.0</td>\n",
              "    </tr>\n",
              "    <tr>\n",
              "      <th>11180</th>\n",
              "      <td>94073.0</td>\n",
              "      <td>190.0</td>\n",
              "      <td>22.0</td>\n",
              "      <td>168.0</td>\n",
              "    </tr>\n",
              "    <tr>\n",
              "      <th>20220</th>\n",
              "      <td>96370.0</td>\n",
              "      <td>191.0</td>\n",
              "      <td>20.0</td>\n",
              "      <td>171.0</td>\n",
              "    </tr>\n",
              "    <tr>\n",
              "      <th>21420</th>\n",
              "      <td>63091.0</td>\n",
              "      <td>192.0</td>\n",
              "      <td>10.0</td>\n",
              "      <td>182.0</td>\n",
              "    </tr>\n",
              "    <tr>\n",
              "      <th>30340</th>\n",
              "      <td>107440.0</td>\n",
              "      <td>194.0</td>\n",
              "      <td>15.0</td>\n",
              "      <td>179.0</td>\n",
              "    </tr>\n",
              "    <tr>\n",
              "      <th>41620</th>\n",
              "      <td>61598.0</td>\n",
              "      <td>198.0</td>\n",
              "      <td>24.0</td>\n",
              "      <td>174.0</td>\n",
              "    </tr>\n",
              "    <tr>\n",
              "      <th>24500</th>\n",
              "      <td>82344.0</td>\n",
              "      <td>204.0</td>\n",
              "      <td>43.0</td>\n",
              "      <td>161.0</td>\n",
              "    </tr>\n",
              "    <tr>\n",
              "      <th>48260</th>\n",
              "      <td>121336.0</td>\n",
              "      <td>209.0</td>\n",
              "      <td>21.0</td>\n",
              "      <td>188.0</td>\n",
              "    </tr>\n",
              "    <tr>\n",
              "      <th>18700</th>\n",
              "      <td>86316.0</td>\n",
              "      <td>216.0</td>\n",
              "      <td>27.0</td>\n",
              "      <td>189.0</td>\n",
              "    </tr>\n",
              "    <tr>\n",
              "      <th>31740</th>\n",
              "      <td>22897.0</td>\n",
              "      <td>221.0</td>\n",
              "      <td>37.0</td>\n",
              "      <td>184.0</td>\n",
              "    </tr>\n",
              "    <tr>\n",
              "      <th>16220</th>\n",
              "      <td>81624.0</td>\n",
              "      <td>223.0</td>\n",
              "      <td>40.0</td>\n",
              "      <td>183.0</td>\n",
              "    </tr>\n",
              "    <tr>\n",
              "      <th>29100</th>\n",
              "      <td>136749.0</td>\n",
              "      <td>230.0</td>\n",
              "      <td>18.0</td>\n",
              "      <td>212.0</td>\n",
              "    </tr>\n",
              "    <tr>\n",
              "      <th>22540</th>\n",
              "      <td>101759.0</td>\n",
              "      <td>236.0</td>\n",
              "      <td>40.0</td>\n",
              "      <td>196.0</td>\n",
              "    </tr>\n",
              "    <tr>\n",
              "      <th>14010</th>\n",
              "      <td>190345.0</td>\n",
              "      <td>240.0</td>\n",
              "      <td>30.0</td>\n",
              "      <td>210.0</td>\n",
              "    </tr>\n",
              "    <tr>\n",
              "      <th>22020</th>\n",
              "      <td>228291.0</td>\n",
              "      <td>249.0</td>\n",
              "      <td>21.0</td>\n",
              "      <td>228.0</td>\n",
              "    </tr>\n",
              "    <tr>\n",
              "      <th>48060</th>\n",
              "      <td>119103.0</td>\n",
              "      <td>252.0</td>\n",
              "      <td>13.0</td>\n",
              "      <td>239.0</td>\n",
              "    </tr>\n",
              "    <tr>\n",
              "      <th>31860</th>\n",
              "      <td>98478.0</td>\n",
              "      <td>265.0</td>\n",
              "      <td>27.0</td>\n",
              "      <td>238.0</td>\n",
              "    </tr>\n",
              "    <tr>\n",
              "      <th>...</th>\n",
              "      <td>...</td>\n",
              "      <td>...</td>\n",
              "      <td>...</td>\n",
              "      <td>...</td>\n",
              "    </tr>\n",
              "    <tr>\n",
              "      <th>31420</th>\n",
              "      <td>230450.0</td>\n",
              "      <td>10881.0</td>\n",
              "      <td>869.0</td>\n",
              "      <td>10012.0</td>\n",
              "    </tr>\n",
              "    <tr>\n",
              "      <th>12540</th>\n",
              "      <td>874589.0</td>\n",
              "      <td>11043.0</td>\n",
              "      <td>1982.0</td>\n",
              "      <td>9061.0</td>\n",
              "    </tr>\n",
              "    <tr>\n",
              "      <th>16740</th>\n",
              "      <td>1367775.0</td>\n",
              "      <td>12705.0</td>\n",
              "      <td>1532.0</td>\n",
              "      <td>11173.0</td>\n",
              "    </tr>\n",
              "    <tr>\n",
              "      <th>47900</th>\n",
              "      <td>3097778.0</td>\n",
              "      <td>13084.0</td>\n",
              "      <td>1431.0</td>\n",
              "      <td>11653.0</td>\n",
              "    </tr>\n",
              "    <tr>\n",
              "      <th>37860</th>\n",
              "      <td>474081.0</td>\n",
              "      <td>13234.0</td>\n",
              "      <td>1980.0</td>\n",
              "      <td>11254.0</td>\n",
              "    </tr>\n",
              "    <tr>\n",
              "      <th>40140</th>\n",
              "      <td>4441890.0</td>\n",
              "      <td>13645.0</td>\n",
              "      <td>1721.0</td>\n",
              "      <td>11924.0</td>\n",
              "    </tr>\n",
              "    <tr>\n",
              "      <th>35840</th>\n",
              "      <td>748708.0</td>\n",
              "      <td>14289.0</td>\n",
              "      <td>2033.0</td>\n",
              "      <td>12256.0</td>\n",
              "    </tr>\n",
              "    <tr>\n",
              "      <th>35620</th>\n",
              "      <td>9792873.0</td>\n",
              "      <td>14931.0</td>\n",
              "      <td>1632.0</td>\n",
              "      <td>13299.0</td>\n",
              "    </tr>\n",
              "    <tr>\n",
              "      <th>12940</th>\n",
              "      <td>825478.0</td>\n",
              "      <td>15076.0</td>\n",
              "      <td>1249.0</td>\n",
              "      <td>13827.0</td>\n",
              "    </tr>\n",
              "    <tr>\n",
              "      <th>17900</th>\n",
              "      <td>737334.0</td>\n",
              "      <td>16302.0</td>\n",
              "      <td>2712.0</td>\n",
              "      <td>13590.0</td>\n",
              "    </tr>\n",
              "    <tr>\n",
              "      <th>40900</th>\n",
              "      <td>2244397.0</td>\n",
              "      <td>18722.0</td>\n",
              "      <td>3581.0</td>\n",
              "      <td>15141.0</td>\n",
              "    </tr>\n",
              "    <tr>\n",
              "      <th>35380</th>\n",
              "      <td>867529.0</td>\n",
              "      <td>20326.0</td>\n",
              "      <td>2322.0</td>\n",
              "      <td>18004.0</td>\n",
              "    </tr>\n",
              "    <tr>\n",
              "      <th>31080</th>\n",
              "      <td>13262220.0</td>\n",
              "      <td>21906.0</td>\n",
              "      <td>5343.0</td>\n",
              "      <td>16563.0</td>\n",
              "    </tr>\n",
              "    <tr>\n",
              "      <th>42660</th>\n",
              "      <td>3671478.0</td>\n",
              "      <td>23193.0</td>\n",
              "      <td>1941.0</td>\n",
              "      <td>21252.0</td>\n",
              "    </tr>\n",
              "    <tr>\n",
              "      <th>12060</th>\n",
              "      <td>4398097.0</td>\n",
              "      <td>23354.0</td>\n",
              "      <td>2186.0</td>\n",
              "      <td>21168.0</td>\n",
              "    </tr>\n",
              "    <tr>\n",
              "      <th>24860</th>\n",
              "      <td>862463.0</td>\n",
              "      <td>24316.0</td>\n",
              "      <td>3316.0</td>\n",
              "      <td>21000.0</td>\n",
              "    </tr>\n",
              "    <tr>\n",
              "      <th>45300</th>\n",
              "      <td>2915582.0</td>\n",
              "      <td>38989.0</td>\n",
              "      <td>4330.0</td>\n",
              "      <td>34659.0</td>\n",
              "    </tr>\n",
              "    <tr>\n",
              "      <th>36740</th>\n",
              "      <td>2321418.0</td>\n",
              "      <td>43637.0</td>\n",
              "      <td>7202.0</td>\n",
              "      <td>36435.0</td>\n",
              "    </tr>\n",
              "    <tr>\n",
              "      <th>33100</th>\n",
              "      <td>5929819.0</td>\n",
              "      <td>61438.0</td>\n",
              "      <td>8873.0</td>\n",
              "      <td>52565.0</td>\n",
              "    </tr>\n",
              "    <tr>\n",
              "      <th>26420</th>\n",
              "      <td>6490180.0</td>\n",
              "      <td>73010.0</td>\n",
              "      <td>10805.0</td>\n",
              "      <td>62205.0</td>\n",
              "    </tr>\n",
              "    <tr>\n",
              "      <th>12100</th>\n",
              "      <td>NaN</td>\n",
              "      <td>NaN</td>\n",
              "      <td>NaN</td>\n",
              "      <td>NaN</td>\n",
              "    </tr>\n",
              "    <tr>\n",
              "      <th>16540</th>\n",
              "      <td>NaN</td>\n",
              "      <td>NaN</td>\n",
              "      <td>NaN</td>\n",
              "      <td>NaN</td>\n",
              "    </tr>\n",
              "    <tr>\n",
              "      <th>20700</th>\n",
              "      <td>NaN</td>\n",
              "      <td>NaN</td>\n",
              "      <td>NaN</td>\n",
              "      <td>NaN</td>\n",
              "    </tr>\n",
              "    <tr>\n",
              "      <th>23900</th>\n",
              "      <td>NaN</td>\n",
              "      <td>NaN</td>\n",
              "      <td>NaN</td>\n",
              "      <td>NaN</td>\n",
              "    </tr>\n",
              "    <tr>\n",
              "      <th>25420</th>\n",
              "      <td>NaN</td>\n",
              "      <td>NaN</td>\n",
              "      <td>NaN</td>\n",
              "      <td>NaN</td>\n",
              "    </tr>\n",
              "    <tr>\n",
              "      <th>29540</th>\n",
              "      <td>NaN</td>\n",
              "      <td>NaN</td>\n",
              "      <td>NaN</td>\n",
              "      <td>NaN</td>\n",
              "    </tr>\n",
              "    <tr>\n",
              "      <th>44300</th>\n",
              "      <td>NaN</td>\n",
              "      <td>NaN</td>\n",
              "      <td>NaN</td>\n",
              "      <td>NaN</td>\n",
              "    </tr>\n",
              "    <tr>\n",
              "      <th>45940</th>\n",
              "      <td>NaN</td>\n",
              "      <td>NaN</td>\n",
              "      <td>NaN</td>\n",
              "      <td>NaN</td>\n",
              "    </tr>\n",
              "    <tr>\n",
              "      <th>47220</th>\n",
              "      <td>NaN</td>\n",
              "      <td>NaN</td>\n",
              "      <td>NaN</td>\n",
              "      <td>NaN</td>\n",
              "    </tr>\n",
              "    <tr>\n",
              "      <th>48700</th>\n",
              "      <td>NaN</td>\n",
              "      <td>NaN</td>\n",
              "      <td>NaN</td>\n",
              "      <td>NaN</td>\n",
              "    </tr>\n",
              "  </tbody>\n",
              "</table>\n",
              "<p>347 rows × 4 columns</p>\n",
              "</div>"
            ],
            "text/plain": [
              "       Population   Crimes  Violent Crimes  Property Crimes\n",
              "msa                                                        \n",
              "11020    125955.0      1.0             1.0              0.0\n",
              "21500    278443.0      2.0             0.0              2.0\n",
              "36140     95344.0      3.0             2.0              1.0\n",
              "10900    407571.0      3.0             0.0              3.0\n",
              "49620    440755.0      5.0             5.0              0.0\n",
              "39740    413691.0      5.0             5.0              0.0\n",
              "14460    300621.0      9.0             5.0              4.0\n",
              "38300   2154097.0     17.0            12.0              5.0\n",
              "38540     83347.0     65.0             7.0             58.0\n",
              "40660     96063.0     97.0            17.0             80.0\n",
              "49020     23483.0    109.0            41.0             68.0\n",
              "41100    151948.0    144.0            18.0            126.0\n",
              "15540    216167.0    165.0            15.0            150.0\n",
              "38220     22419.0    167.0             4.0            163.0\n",
              "11180     94073.0    190.0            22.0            168.0\n",
              "20220     96370.0    191.0            20.0            171.0\n",
              "21420     63091.0    192.0            10.0            182.0\n",
              "30340    107440.0    194.0            15.0            179.0\n",
              "41620     61598.0    198.0            24.0            174.0\n",
              "24500     82344.0    204.0            43.0            161.0\n",
              "48260    121336.0    209.0            21.0            188.0\n",
              "18700     86316.0    216.0            27.0            189.0\n",
              "31740     22897.0    221.0            37.0            184.0\n",
              "16220     81624.0    223.0            40.0            183.0\n",
              "29100    136749.0    230.0            18.0            212.0\n",
              "22540    101759.0    236.0            40.0            196.0\n",
              "14010    190345.0    240.0            30.0            210.0\n",
              "22020    228291.0    249.0            21.0            228.0\n",
              "48060    119103.0    252.0            13.0            239.0\n",
              "31860     98478.0    265.0            27.0            238.0\n",
              "...           ...      ...             ...              ...\n",
              "31420    230450.0  10881.0           869.0          10012.0\n",
              "12540    874589.0  11043.0          1982.0           9061.0\n",
              "16740   1367775.0  12705.0          1532.0          11173.0\n",
              "47900   3097778.0  13084.0          1431.0          11653.0\n",
              "37860    474081.0  13234.0          1980.0          11254.0\n",
              "40140   4441890.0  13645.0          1721.0          11924.0\n",
              "35840    748708.0  14289.0          2033.0          12256.0\n",
              "35620   9792873.0  14931.0          1632.0          13299.0\n",
              "12940    825478.0  15076.0          1249.0          13827.0\n",
              "17900    737334.0  16302.0          2712.0          13590.0\n",
              "40900   2244397.0  18722.0          3581.0          15141.0\n",
              "35380    867529.0  20326.0          2322.0          18004.0\n",
              "31080  13262220.0  21906.0          5343.0          16563.0\n",
              "42660   3671478.0  23193.0          1941.0          21252.0\n",
              "12060   4398097.0  23354.0          2186.0          21168.0\n",
              "24860    862463.0  24316.0          3316.0          21000.0\n",
              "45300   2915582.0  38989.0          4330.0          34659.0\n",
              "36740   2321418.0  43637.0          7202.0          36435.0\n",
              "33100   5929819.0  61438.0          8873.0          52565.0\n",
              "26420   6490180.0  73010.0         10805.0          62205.0\n",
              "12100         NaN      NaN             NaN              NaN\n",
              "16540         NaN      NaN             NaN              NaN\n",
              "20700         NaN      NaN             NaN              NaN\n",
              "23900         NaN      NaN             NaN              NaN\n",
              "25420         NaN      NaN             NaN              NaN\n",
              "29540         NaN      NaN             NaN              NaN\n",
              "44300         NaN      NaN             NaN              NaN\n",
              "45940         NaN      NaN             NaN              NaN\n",
              "47220         NaN      NaN             NaN              NaN\n",
              "48700         NaN      NaN             NaN              NaN\n",
              "\n",
              "[347 rows x 4 columns]"
            ]
          },
          "metadata": {
            "tags": []
          },
          "execution_count": 51
        }
      ]
    },
    {
      "cell_type": "code",
      "metadata": {
        "id": "DjkTwUywle-T",
        "colab_type": "code",
        "colab": {}
      },
      "source": [
        "msaCrime.dropna(inplace = True, how = 'any')"
      ],
      "execution_count": 0,
      "outputs": []
    },
    {
      "cell_type": "code",
      "metadata": {
        "id": "T7N--bovbYFI",
        "colab_type": "code",
        "colab": {}
      },
      "source": [
        "msaCrime.rename(columns={'Violent Crimes':'Violent', 'Property Crimes':'Property'}, inplace = True)"
      ],
      "execution_count": 0,
      "outputs": []
    },
    {
      "cell_type": "code",
      "metadata": {
        "id": "uhnLvSrxbtf1",
        "colab_type": "code",
        "colab": {
          "base_uri": "https://localhost:8080/",
          "height": 235
        },
        "outputId": "14fe56a8-42cb-4ce7-f41b-d9517178b44b"
      },
      "source": [
        "population_log = np.log(msaCrime['Population'])\n",
        "crimes_log = np.log(msaCrime['Crimes'])\n",
        "violent_log = np.log(msaCrime['Violent'])\n",
        "property_log = np.log(msaCrime['Property'])\n",
        "\n",
        "final_data = pd.DataFrame(data=[crimes_log, population_log, violent_log, property_log]).T\n",
        "final_data.sort_values(by='Crimes', ascending=False, inplace=True) \n",
        "final_data.head()\n"
      ],
      "execution_count": 54,
      "outputs": [
        {
          "output_type": "execute_result",
          "data": {
            "text/html": [
              "<div>\n",
              "<style scoped>\n",
              "    .dataframe tbody tr th:only-of-type {\n",
              "        vertical-align: middle;\n",
              "    }\n",
              "\n",
              "    .dataframe tbody tr th {\n",
              "        vertical-align: top;\n",
              "    }\n",
              "\n",
              "    .dataframe thead th {\n",
              "        text-align: right;\n",
              "    }\n",
              "</style>\n",
              "<table border=\"1\" class=\"dataframe\">\n",
              "  <thead>\n",
              "    <tr style=\"text-align: right;\">\n",
              "      <th></th>\n",
              "      <th>Crimes</th>\n",
              "      <th>Population</th>\n",
              "      <th>Violent</th>\n",
              "      <th>Property</th>\n",
              "    </tr>\n",
              "    <tr>\n",
              "      <th>msa</th>\n",
              "      <th></th>\n",
              "      <th></th>\n",
              "      <th></th>\n",
              "      <th></th>\n",
              "    </tr>\n",
              "  </thead>\n",
              "  <tbody>\n",
              "    <tr>\n",
              "      <th>26420</th>\n",
              "      <td>11.198352</td>\n",
              "      <td>15.685801</td>\n",
              "      <td>9.287764</td>\n",
              "      <td>11.038191</td>\n",
              "    </tr>\n",
              "    <tr>\n",
              "      <th>33100</th>\n",
              "      <td>11.025784</td>\n",
              "      <td>15.595504</td>\n",
              "      <td>9.090768</td>\n",
              "      <td>10.869806</td>\n",
              "    </tr>\n",
              "    <tr>\n",
              "      <th>36740</th>\n",
              "      <td>10.683661</td>\n",
              "      <td>14.657689</td>\n",
              "      <td>8.882114</td>\n",
              "      <td>10.503285</td>\n",
              "    </tr>\n",
              "    <tr>\n",
              "      <th>45300</th>\n",
              "      <td>10.571035</td>\n",
              "      <td>14.885580</td>\n",
              "      <td>8.373323</td>\n",
              "      <td>10.453313</td>\n",
              "    </tr>\n",
              "    <tr>\n",
              "      <th>24860</th>\n",
              "      <td>10.098890</td>\n",
              "      <td>13.667548</td>\n",
              "      <td>8.106515</td>\n",
              "      <td>9.952278</td>\n",
              "    </tr>\n",
              "  </tbody>\n",
              "</table>\n",
              "</div>"
            ],
            "text/plain": [
              "          Crimes  Population   Violent   Property\n",
              "msa                                              \n",
              "26420  11.198352   15.685801  9.287764  11.038191\n",
              "33100  11.025784   15.595504  9.090768  10.869806\n",
              "36740  10.683661   14.657689  8.882114  10.503285\n",
              "45300  10.571035   14.885580  8.373323  10.453313\n",
              "24860  10.098890   13.667548  8.106515   9.952278"
            ]
          },
          "metadata": {
            "tags": []
          },
          "execution_count": 54
        }
      ]
    },
    {
      "cell_type": "markdown",
      "metadata": {
        "id": "A3ZViWNrS6yd",
        "colab_type": "text"
      },
      "source": [
        "># Note to Instructor, I removed ***-inf*** and ***NaNs*** from the Violent and Property columns of the table, so results may change for regression and correlation"
      ]
    },
    {
      "cell_type": "code",
      "metadata": {
        "id": "f_I53cCS_RYz",
        "colab_type": "code",
        "colab": {}
      },
      "source": [
        "final_data = final_data.where((final_data.Violent>0)&(final_data.Property>0))\n",
        "final_data.dropna(inplace = True, how= 'any')"
      ],
      "execution_count": 0,
      "outputs": []
    },
    {
      "cell_type": "code",
      "metadata": {
        "id": "WFQ0ktB5AzTE",
        "colab_type": "code",
        "colab": {
          "base_uri": "https://localhost:8080/",
          "height": 235
        },
        "outputId": "470ce865-781c-4471-a69d-2e77f5fb3e91"
      },
      "source": [
        "final_data.head()"
      ],
      "execution_count": 56,
      "outputs": [
        {
          "output_type": "execute_result",
          "data": {
            "text/html": [
              "<div>\n",
              "<style scoped>\n",
              "    .dataframe tbody tr th:only-of-type {\n",
              "        vertical-align: middle;\n",
              "    }\n",
              "\n",
              "    .dataframe tbody tr th {\n",
              "        vertical-align: top;\n",
              "    }\n",
              "\n",
              "    .dataframe thead th {\n",
              "        text-align: right;\n",
              "    }\n",
              "</style>\n",
              "<table border=\"1\" class=\"dataframe\">\n",
              "  <thead>\n",
              "    <tr style=\"text-align: right;\">\n",
              "      <th></th>\n",
              "      <th>Crimes</th>\n",
              "      <th>Population</th>\n",
              "      <th>Violent</th>\n",
              "      <th>Property</th>\n",
              "    </tr>\n",
              "    <tr>\n",
              "      <th>msa</th>\n",
              "      <th></th>\n",
              "      <th></th>\n",
              "      <th></th>\n",
              "      <th></th>\n",
              "    </tr>\n",
              "  </thead>\n",
              "  <tbody>\n",
              "    <tr>\n",
              "      <th>26420</th>\n",
              "      <td>11.198352</td>\n",
              "      <td>15.685801</td>\n",
              "      <td>9.287764</td>\n",
              "      <td>11.038191</td>\n",
              "    </tr>\n",
              "    <tr>\n",
              "      <th>33100</th>\n",
              "      <td>11.025784</td>\n",
              "      <td>15.595504</td>\n",
              "      <td>9.090768</td>\n",
              "      <td>10.869806</td>\n",
              "    </tr>\n",
              "    <tr>\n",
              "      <th>36740</th>\n",
              "      <td>10.683661</td>\n",
              "      <td>14.657689</td>\n",
              "      <td>8.882114</td>\n",
              "      <td>10.503285</td>\n",
              "    </tr>\n",
              "    <tr>\n",
              "      <th>45300</th>\n",
              "      <td>10.571035</td>\n",
              "      <td>14.885580</td>\n",
              "      <td>8.373323</td>\n",
              "      <td>10.453313</td>\n",
              "    </tr>\n",
              "    <tr>\n",
              "      <th>24860</th>\n",
              "      <td>10.098890</td>\n",
              "      <td>13.667548</td>\n",
              "      <td>8.106515</td>\n",
              "      <td>9.952278</td>\n",
              "    </tr>\n",
              "  </tbody>\n",
              "</table>\n",
              "</div>"
            ],
            "text/plain": [
              "          Crimes  Population   Violent   Property\n",
              "msa                                              \n",
              "26420  11.198352   15.685801  9.287764  11.038191\n",
              "33100  11.025784   15.595504  9.090768  10.869806\n",
              "36740  10.683661   14.657689  8.882114  10.503285\n",
              "45300  10.571035   14.885580  8.373323  10.453313\n",
              "24860  10.098890   13.667548  8.106515   9.952278"
            ]
          },
          "metadata": {
            "tags": []
          },
          "execution_count": 56
        }
      ]
    },
    {
      "cell_type": "code",
      "metadata": {
        "colab_type": "code",
        "id": "GNUDmKSdREzw",
        "colab": {
          "base_uri": "https://localhost:8080/",
          "height": 442
        },
        "outputId": "3fd43941-43cb-424e-c6e7-abdede52c215"
      },
      "source": [
        "reg = smf.ols(formula = 'Crimes~Population', data = final_data).fit()\n",
        "print(reg.summary())"
      ],
      "execution_count": 57,
      "outputs": [
        {
          "output_type": "stream",
          "text": [
            "                            OLS Regression Results                            \n",
            "==============================================================================\n",
            "Dep. Variable:                 Crimes   R-squared:                       0.491\n",
            "Model:                            OLS   Adj. R-squared:                  0.490\n",
            "Method:                 Least Squares   F-statistic:                     317.9\n",
            "Date:                Wed, 23 Oct 2019   Prob (F-statistic):           3.11e-50\n",
            "Time:                        02:36:34   Log-Likelihood:                -435.32\n",
            "No. Observations:                 331   AIC:                             874.6\n",
            "Df Residuals:                     329   BIC:                             882.2\n",
            "Df Model:                           1                                         \n",
            "Covariance Type:            nonrobust                                         \n",
            "==============================================================================\n",
            "                 coef    std err          t      P>|t|      [0.025      0.975]\n",
            "------------------------------------------------------------------------------\n",
            "Intercept     -2.9512      0.574     -5.140      0.000      -4.081      -1.822\n",
            "Population     0.8132      0.046     17.830      0.000       0.724       0.903\n",
            "==============================================================================\n",
            "Omnibus:                      132.035   Durbin-Watson:                   0.776\n",
            "Prob(Omnibus):                  0.000   Jarque-Bera (JB):             1001.579\n",
            "Skew:                          -1.453   Prob(JB):                    3.23e-218\n",
            "Kurtosis:                      11.011   Cond. No.                         146.\n",
            "==============================================================================\n",
            "\n",
            "Warnings:\n",
            "[1] Standard Errors assume that the covariance matrix of the errors is correctly specified.\n"
          ],
          "name": "stdout"
        }
      ]
    },
    {
      "cell_type": "markdown",
      "metadata": {
        "id": "rZFFmFR4A3mj",
        "colab_type": "text"
      },
      "source": [
        "$$log(Crimes)= 0.8132 log(Population) - 2.9512$$ \n",
        "\n"
      ]
    },
    {
      "cell_type": "code",
      "metadata": {
        "id": "61Gf--zQavLx",
        "colab_type": "code",
        "colab": {
          "base_uri": "https://localhost:8080/",
          "height": 34
        },
        "outputId": "32a89176-64da-4126-e8f6-521b60aa5881"
      },
      "source": [
        "'''cpr = smf.ols(formula = 'Crimes~Population', data = final_data).fit()\n",
        "print(cpr.summary())\n",
        "'''"
      ],
      "execution_count": 58,
      "outputs": [
        {
          "output_type": "execute_result",
          "data": {
            "text/plain": [
              "\"cpr = smf.ols(formula = 'Crimes~Population', data = final_data).fit()\\nprint(cpr.summary())\\n\""
            ]
          },
          "metadata": {
            "tags": []
          },
          "execution_count": 58
        }
      ]
    },
    {
      "cell_type": "code",
      "metadata": {
        "id": "jnzI35vb2BCA",
        "colab_type": "code",
        "colab": {
          "base_uri": "https://localhost:8080/",
          "height": 111
        },
        "outputId": "8471c20d-fb39-4451-adf0-2d4974fbc3fa"
      },
      "source": [
        "reg.conf_int(alpha=0.05)"
      ],
      "execution_count": 59,
      "outputs": [
        {
          "output_type": "execute_result",
          "data": {
            "text/html": [
              "<div>\n",
              "<style scoped>\n",
              "    .dataframe tbody tr th:only-of-type {\n",
              "        vertical-align: middle;\n",
              "    }\n",
              "\n",
              "    .dataframe tbody tr th {\n",
              "        vertical-align: top;\n",
              "    }\n",
              "\n",
              "    .dataframe thead th {\n",
              "        text-align: right;\n",
              "    }\n",
              "</style>\n",
              "<table border=\"1\" class=\"dataframe\">\n",
              "  <thead>\n",
              "    <tr style=\"text-align: right;\">\n",
              "      <th></th>\n",
              "      <th>0</th>\n",
              "      <th>1</th>\n",
              "    </tr>\n",
              "  </thead>\n",
              "  <tbody>\n",
              "    <tr>\n",
              "      <th>Intercept</th>\n",
              "      <td>-4.080686</td>\n",
              "      <td>-1.82172</td>\n",
              "    </tr>\n",
              "    <tr>\n",
              "      <th>Population</th>\n",
              "      <td>0.723514</td>\n",
              "      <td>0.90297</td>\n",
              "    </tr>\n",
              "  </tbody>\n",
              "</table>\n",
              "</div>"
            ],
            "text/plain": [
              "                   0        1\n",
              "Intercept  -4.080686 -1.82172\n",
              "Population  0.723514  0.90297"
            ]
          },
          "metadata": {
            "tags": []
          },
          "execution_count": 59
        }
      ]
    },
    {
      "cell_type": "code",
      "metadata": {
        "id": "t7DMUWBhwsiZ",
        "colab_type": "code",
        "colab": {
          "base_uri": "https://localhost:8080/",
          "height": 535
        },
        "outputId": "ee5d2f34-1f0e-4581-8911-a943bf1550df"
      },
      "source": [
        "plt.figure(figsize=(14,8))\n",
        "plt.plot(final_data.Crimes, reg.predict(), 'yo', markersize = 7)\n",
        "plt.title('Population vs Crime', fontsize = 15)\n",
        "ax.set(xlabel='Crimes', ylabel='Population')\n",
        "plt.plot(reg.predict(), reg.predict(), '-r')"
      ],
      "execution_count": 60,
      "outputs": [
        {
          "output_type": "execute_result",
          "data": {
            "text/plain": [
              "[<matplotlib.lines.Line2D at 0x7fdf61744898>]"
            ]
          },
          "metadata": {
            "tags": []
          },
          "execution_count": 60
        },
        {
          "output_type": "display_data",
          "data": {
            "image/png": "[encoded data removed]",
            "text/plain": [
              "<Figure size 1008x576 with 1 Axes>"
            ]
          },
          "metadata": {
            "tags": []
          }
        }
      ]
    },
    {
      "cell_type": "code",
      "metadata": {
        "id": "S3KboPJxDP05",
        "colab_type": "code",
        "colab": {
          "base_uri": "https://localhost:8080/",
          "height": 34
        },
        "outputId": "169b6ca2-6dd9-4db8-a30b-a034eccb4c59"
      },
      "source": [
        "'''final_data1 = final_data.copy()\n",
        "final_data1.drop(['Crimes', 'Property'], axis = 1, inplace = True)\n",
        "final_data1 = final_data1.where(final_data1['Violent']>0)\n",
        "final_data1.sort_values(by='Violent', ascending = True)'''"
      ],
      "execution_count": 61,
      "outputs": [
        {
          "output_type": "execute_result",
          "data": {
            "text/plain": [
              "\"final_data1 = final_data.copy()\\nfinal_data1.drop(['Crimes', 'Property'], axis = 1, inplace = True)\\nfinal_data1 = final_data1.where(final_data1['Violent']>0)\\nfinal_data1.sort_values(by='Violent', ascending = True)\""
            ]
          },
          "metadata": {
            "tags": []
          },
          "execution_count": 61
        }
      ]
    },
    {
      "cell_type": "code",
      "metadata": {
        "id": "zDtsknHAXAao",
        "colab_type": "code",
        "colab": {}
      },
      "source": [
        "#final_data1.dropna(inplace = True, how = 'any')"
      ],
      "execution_count": 0,
      "outputs": []
    },
    {
      "cell_type": "code",
      "metadata": {
        "id": "ERnj0LsN-yg0",
        "colab_type": "code",
        "colab": {}
      },
      "source": [
        "#acp = smf.ols(formula = 'Violent~Population', data = final_data1).fit()\n",
        "#print(vp.summary())"
      ],
      "execution_count": 0,
      "outputs": []
    },
    {
      "cell_type": "code",
      "metadata": {
        "id": "QHERsr-81jQn",
        "colab_type": "code",
        "colab": {}
      },
      "source": [
        "#vp = smf.ols(formula = 'Violent~Population', data = final_data1).fit()\n",
        "#print(vp.summary())"
      ],
      "execution_count": 0,
      "outputs": []
    },
    {
      "cell_type": "code",
      "metadata": {
        "colab_type": "code",
        "id": "LtkPGUqp2R0W",
        "colab": {}
      },
      "source": [
        "#vp.conf_int(alpha=0.05)"
      ],
      "execution_count": 0,
      "outputs": []
    },
    {
      "cell_type": "code",
      "metadata": {
        "colab_type": "code",
        "id": "9kxd3xeh2R0n",
        "colab": {}
      },
      "source": [
        "#3vp.conf_int(alpha=0.01)"
      ],
      "execution_count": 0,
      "outputs": []
    },
    {
      "cell_type": "code",
      "metadata": {
        "id": "JHFa4sUyGSSu",
        "colab_type": "code",
        "colab": {
          "base_uri": "https://localhost:8080/",
          "height": 54
        },
        "outputId": "efc7d0ba-7a00-434a-d3c6-96ff2c0338e7"
      },
      "source": [
        "'''plt.figure(figsize=(14,8))\n",
        "plt.plot(final_data1.Population, final_data1.Violent, 'go', markersize = 7)\n",
        "plt.title('Violent Crime vs Population', fontsize = 15)\n",
        "plt.plot(final_data1['Population'], vp.predict(), '-b')\n",
        "ax.set(xlabel='Population', ylabel='Violent Crimes')\n",
        "plt.legend()'''"
      ],
      "execution_count": 67,
      "outputs": [
        {
          "output_type": "execute_result",
          "data": {
            "text/plain": [
              "\"plt.figure(figsize=(14,8))\\nplt.plot(final_data1.Population, final_data1.Violent, 'go', markersize = 7)\\nplt.title('Violent Crime vs Population', fontsize = 15)\\nplt.plot(final_data1['Population'], vp.predict(), '-b')\\nax.set(xlabel='Population', ylabel='Violent Crimes')\\nplt.legend()\""
            ]
          },
          "metadata": {
            "tags": []
          },
          "execution_count": 67
        }
      ]
    },
    {
      "cell_type": "code",
      "metadata": {
        "id": "a59PQehhELVm",
        "colab_type": "code",
        "colab": {
          "base_uri": "https://localhost:8080/",
          "height": 54
        },
        "outputId": "e9e2ca90-492d-4933-cd45-af7d441218db"
      },
      "source": [
        "'''final_data2 = final_data.copy()\n",
        "final_data2.drop(['Crimes', 'Violent'], axis = 1, inplace = True)\n",
        "final_data2 = final_data2.where(final_data2['Property']>0)\n",
        "final_data2.sort_values(by='Property', ascending = True)\n",
        "final_data2.dropna(inplace = True, how = 'any')'''"
      ],
      "execution_count": 68,
      "outputs": [
        {
          "output_type": "execute_result",
          "data": {
            "text/plain": [
              "\"final_data2 = final_data.copy()\\nfinal_data2.drop(['Crimes', 'Violent'], axis = 1, inplace = True)\\nfinal_data2 = final_data2.where(final_data2['Property']>0)\\nfinal_data2.sort_values(by='Property', ascending = True)\\nfinal_data2.dropna(inplace = True, how = 'any')\""
            ]
          },
          "metadata": {
            "tags": []
          },
          "execution_count": 68
        }
      ]
    },
    {
      "cell_type": "code",
      "metadata": {
        "id": "HFlbNOifcxRu",
        "colab_type": "code",
        "colab": {}
      },
      "source": [
        "#pcpr = smf.ols(formula = 'Property~Population', data = final_data2).fit()\n",
        "#print(pcpr.summary())"
      ],
      "execution_count": 0,
      "outputs": []
    },
    {
      "cell_type": "code",
      "metadata": {
        "colab_type": "code",
        "id": "NSMl22E52mlF",
        "colab": {}
      },
      "source": [
        "#pcpr.conf_int(alpha=0.05)"
      ],
      "execution_count": 0,
      "outputs": []
    },
    {
      "cell_type": "code",
      "metadata": {
        "colab_type": "code",
        "id": "klTChPgF2mlI",
        "colab": {}
      },
      "source": [
        "#pcpr.conf_int(alpha=0.01)"
      ],
      "execution_count": 0,
      "outputs": []
    },
    {
      "cell_type": "code",
      "metadata": {
        "id": "91lubG6JGyS8",
        "colab_type": "code",
        "colab": {
          "base_uri": "https://localhost:8080/",
          "height": 54
        },
        "outputId": "6e8e14f3-244f-472e-cf29-a978e8ddabd4"
      },
      "source": [
        "'''plt.figure(figsize=(14,8))\n",
        "plt.plot(final_data2.Population, final_data2.Property, 'ro', markersize = 7)\n",
        "plt.title('Property Crime vs Population', fontsize = 15)\n",
        "ax.set(xlabel='Population', ylabel='Property Crime')\n",
        "plt.plot(final_data2['Population'], pcpr.predict(), '-y')\n",
        "plt.legend()'''"
      ],
      "execution_count": 72,
      "outputs": [
        {
          "output_type": "execute_result",
          "data": {
            "text/plain": [
              "\"plt.figure(figsize=(14,8))\\nplt.plot(final_data2.Population, final_data2.Property, 'ro', markersize = 7)\\nplt.title('Property Crime vs Population', fontsize = 15)\\nax.set(xlabel='Population', ylabel='Property Crime')\\nplt.plot(final_data2['Population'], pcpr.predict(), '-y')\\nplt.legend()\""
            ]
          },
          "metadata": {
            "tags": []
          },
          "execution_count": 72
        }
      ]
    },
    {
      "cell_type": "markdown",
      "metadata": {
        "id": "dLil57hgmuLC",
        "colab_type": "text"
      },
      "source": [
        "### Task 2: Find top 5 and last 5 cities by crime log-residual (difference between log-crime and above regression prediction)"
      ]
    },
    {
      "cell_type": "code",
      "metadata": {
        "id": "_wzo3QCNDLr4",
        "colab_type": "code",
        "colab": {
          "base_uri": "https://localhost:8080/",
          "height": 235
        },
        "outputId": "ccb075c6-2843-452c-c479-7e918b5c5296"
      },
      "source": [
        "final_data.head()"
      ],
      "execution_count": 73,
      "outputs": [
        {
          "output_type": "execute_result",
          "data": {
            "text/html": [
              "<div>\n",
              "<style scoped>\n",
              "    .dataframe tbody tr th:only-of-type {\n",
              "        vertical-align: middle;\n",
              "    }\n",
              "\n",
              "    .dataframe tbody tr th {\n",
              "        vertical-align: top;\n",
              "    }\n",
              "\n",
              "    .dataframe thead th {\n",
              "        text-align: right;\n",
              "    }\n",
              "</style>\n",
              "<table border=\"1\" class=\"dataframe\">\n",
              "  <thead>\n",
              "    <tr style=\"text-align: right;\">\n",
              "      <th></th>\n",
              "      <th>Crimes</th>\n",
              "      <th>Population</th>\n",
              "      <th>Violent</th>\n",
              "      <th>Property</th>\n",
              "    </tr>\n",
              "    <tr>\n",
              "      <th>msa</th>\n",
              "      <th></th>\n",
              "      <th></th>\n",
              "      <th></th>\n",
              "      <th></th>\n",
              "    </tr>\n",
              "  </thead>\n",
              "  <tbody>\n",
              "    <tr>\n",
              "      <th>26420</th>\n",
              "      <td>11.198352</td>\n",
              "      <td>15.685801</td>\n",
              "      <td>9.287764</td>\n",
              "      <td>11.038191</td>\n",
              "    </tr>\n",
              "    <tr>\n",
              "      <th>33100</th>\n",
              "      <td>11.025784</td>\n",
              "      <td>15.595504</td>\n",
              "      <td>9.090768</td>\n",
              "      <td>10.869806</td>\n",
              "    </tr>\n",
              "    <tr>\n",
              "      <th>36740</th>\n",
              "      <td>10.683661</td>\n",
              "      <td>14.657689</td>\n",
              "      <td>8.882114</td>\n",
              "      <td>10.503285</td>\n",
              "    </tr>\n",
              "    <tr>\n",
              "      <th>45300</th>\n",
              "      <td>10.571035</td>\n",
              "      <td>14.885580</td>\n",
              "      <td>8.373323</td>\n",
              "      <td>10.453313</td>\n",
              "    </tr>\n",
              "    <tr>\n",
              "      <th>24860</th>\n",
              "      <td>10.098890</td>\n",
              "      <td>13.667548</td>\n",
              "      <td>8.106515</td>\n",
              "      <td>9.952278</td>\n",
              "    </tr>\n",
              "  </tbody>\n",
              "</table>\n",
              "</div>"
            ],
            "text/plain": [
              "          Crimes  Population   Violent   Property\n",
              "msa                                              \n",
              "26420  11.198352   15.685801  9.287764  11.038191\n",
              "33100  11.025784   15.595504  9.090768  10.869806\n",
              "36740  10.683661   14.657689  8.882114  10.503285\n",
              "45300  10.571035   14.885580  8.373323  10.453313\n",
              "24860  10.098890   13.667548  8.106515   9.952278"
            ]
          },
          "metadata": {
            "tags": []
          },
          "execution_count": 73
        }
      ]
    },
    {
      "cell_type": "code",
      "metadata": {
        "id": "AgMrpEium3Hi",
        "colab_type": "code",
        "colab": {}
      },
      "source": [
        "final_data['msaName']=final_data.index.map(msaNames)\n",
        "final_data['Residual - Crime']=reg.predict()-final_data['Crimes']"
      ],
      "execution_count": 0,
      "outputs": []
    },
    {
      "cell_type": "code",
      "metadata": {
        "id": "aXXSyPtrbpj0",
        "colab_type": "code",
        "colab": {
          "base_uri": "https://localhost:8080/",
          "height": 391
        },
        "outputId": "6c84ca08-dd93-4869-b607-66fba1b71275"
      },
      "source": [
        "print(\"Top 5 cities by crime log-residual\")\n",
        "print(final_data.sort_values(by='Residual - Crime',ascending=False).head(5))\n",
        "print(\"\\n\\nLast 5 cities by crime log-residual\")\n",
        "print(final_data.sort_values(by='Residual - Crime',ascending=True).head(5))"
      ],
      "execution_count": 75,
      "outputs": [
        {
          "output_type": "stream",
          "text": [
            "Top 5 cities by crime log-residual\n",
            "         Crimes  ...  Residual - Crime\n",
            "msa              ...                  \n",
            "38300  2.833213  ...          6.074998\n",
            "14460  2.197225  ...          5.109488\n",
            "37980  6.622736  ...          2.243404\n",
            "38540  4.174387  ...          2.089067\n",
            "39340  5.768321  ...          2.060773\n",
            "\n",
            "[5 rows x 6 columns]\n",
            "\n",
            "\n",
            "Last 5 cities by crime log-residual\n",
            "          Crimes  ...  Residual - Crime\n",
            "msa               ...                  \n",
            "31420   9.294773  ...         -2.204234\n",
            "24860  10.098890  ...         -1.935068\n",
            "37860   9.490545  ...         -1.813378\n",
            "35380   9.919656  ...         -1.751071\n",
            "36740  10.683661  ...         -1.714614\n",
            "\n",
            "[5 rows x 6 columns]\n"
          ],
          "name": "stdout"
        }
      ]
    },
    {
      "cell_type": "markdown",
      "metadata": {
        "id": "K__NioPNm5g_",
        "colab_type": "text"
      },
      "source": [
        "### Task 3:Is there any correlation between residual by income and residual by crime?"
      ]
    },
    {
      "cell_type": "code",
      "metadata": {
        "id": "OLl9kHeknCHJ",
        "colab_type": "code",
        "colab": {
          "base_uri": "https://localhost:8080/",
          "height": 235
        },
        "outputId": "fad2c082-b0eb-4845-bfab-9cdb5851c998"
      },
      "source": [
        "msaDemo.head()"
      ],
      "execution_count": 76,
      "outputs": [
        {
          "output_type": "execute_result",
          "data": {
            "text/html": [
              "<div>\n",
              "<style scoped>\n",
              "    .dataframe tbody tr th:only-of-type {\n",
              "        vertical-align: middle;\n",
              "    }\n",
              "\n",
              "    .dataframe tbody tr th {\n",
              "        vertical-align: top;\n",
              "    }\n",
              "\n",
              "    .dataframe thead th {\n",
              "        text-align: right;\n",
              "    }\n",
              "</style>\n",
              "<table border=\"1\" class=\"dataframe\">\n",
              "  <thead>\n",
              "    <tr style=\"text-align: right;\">\n",
              "      <th></th>\n",
              "      <th>Population</th>\n",
              "      <th>Area</th>\n",
              "      <th>Income</th>\n",
              "    </tr>\n",
              "    <tr>\n",
              "      <th>msa</th>\n",
              "      <th></th>\n",
              "      <th></th>\n",
              "      <th></th>\n",
              "    </tr>\n",
              "  </thead>\n",
              "  <tbody>\n",
              "    <tr>\n",
              "      <th>10180</th>\n",
              "      <td>167171</td>\n",
              "      <td>2743.478027</td>\n",
              "      <td>3740034900</td>\n",
              "    </tr>\n",
              "    <tr>\n",
              "      <th>10420</th>\n",
              "      <td>703017</td>\n",
              "      <td>900.129156</td>\n",
              "      <td>19560044574</td>\n",
              "    </tr>\n",
              "    <tr>\n",
              "      <th>10500</th>\n",
              "      <td>156706</td>\n",
              "      <td>1932.557130</td>\n",
              "      <td>3172077530</td>\n",
              "    </tr>\n",
              "    <tr>\n",
              "      <th>10540</th>\n",
              "      <td>118270</td>\n",
              "      <td>2290.129282</td>\n",
              "      <td>2526602010</td>\n",
              "    </tr>\n",
              "    <tr>\n",
              "      <th>10580</th>\n",
              "      <td>875567</td>\n",
              "      <td>2811.554500</td>\n",
              "      <td>28078339939</td>\n",
              "    </tr>\n",
              "  </tbody>\n",
              "</table>\n",
              "</div>"
            ],
            "text/plain": [
              "       Population         Area       Income\n",
              "msa                                        \n",
              "10180      167171  2743.478027   3740034900\n",
              "10420      703017   900.129156  19560044574\n",
              "10500      156706  1932.557130   3172077530\n",
              "10540      118270  2290.129282   2526602010\n",
              "10580      875567  2811.554500  28078339939"
            ]
          },
          "metadata": {
            "tags": []
          },
          "execution_count": 76
        }
      ]
    },
    {
      "cell_type": "code",
      "metadata": {
        "id": "_aO-LwsfOYGQ",
        "colab_type": "code",
        "colab": {
          "base_uri": "https://localhost:8080/",
          "height": 235
        },
        "outputId": "e84d1132-7628-40fe-ef8a-c240531012e5"
      },
      "source": [
        "final_data.head()"
      ],
      "execution_count": 77,
      "outputs": [
        {
          "output_type": "execute_result",
          "data": {
            "text/html": [
              "<div>\n",
              "<style scoped>\n",
              "    .dataframe tbody tr th:only-of-type {\n",
              "        vertical-align: middle;\n",
              "    }\n",
              "\n",
              "    .dataframe tbody tr th {\n",
              "        vertical-align: top;\n",
              "    }\n",
              "\n",
              "    .dataframe thead th {\n",
              "        text-align: right;\n",
              "    }\n",
              "</style>\n",
              "<table border=\"1\" class=\"dataframe\">\n",
              "  <thead>\n",
              "    <tr style=\"text-align: right;\">\n",
              "      <th></th>\n",
              "      <th>Crimes</th>\n",
              "      <th>Population</th>\n",
              "      <th>Violent</th>\n",
              "      <th>Property</th>\n",
              "      <th>msaName</th>\n",
              "      <th>Residual - Crime</th>\n",
              "    </tr>\n",
              "    <tr>\n",
              "      <th>msa</th>\n",
              "      <th></th>\n",
              "      <th></th>\n",
              "      <th></th>\n",
              "      <th></th>\n",
              "      <th></th>\n",
              "      <th></th>\n",
              "    </tr>\n",
              "  </thead>\n",
              "  <tbody>\n",
              "    <tr>\n",
              "      <th>26420</th>\n",
              "      <td>11.198352</td>\n",
              "      <td>15.685801</td>\n",
              "      <td>9.287764</td>\n",
              "      <td>11.038191</td>\n",
              "      <td>Houston-The Woodlands-Sugar Land, TX (Metropol...</td>\n",
              "      <td>-1.393201</td>\n",
              "    </tr>\n",
              "    <tr>\n",
              "      <th>33100</th>\n",
              "      <td>11.025784</td>\n",
              "      <td>15.595504</td>\n",
              "      <td>9.090768</td>\n",
              "      <td>10.869806</td>\n",
              "      <td>Miami-Fort Lauderdale-West Palm Beach, FL (Met...</td>\n",
              "      <td>-1.294066</td>\n",
              "    </tr>\n",
              "    <tr>\n",
              "      <th>36740</th>\n",
              "      <td>10.683661</td>\n",
              "      <td>14.657689</td>\n",
              "      <td>8.882114</td>\n",
              "      <td>10.503285</td>\n",
              "      <td>Orlando-Kissimmee-Sanford, FL (Metropolitan St...</td>\n",
              "      <td>-1.714614</td>\n",
              "    </tr>\n",
              "    <tr>\n",
              "      <th>45300</th>\n",
              "      <td>10.571035</td>\n",
              "      <td>14.885580</td>\n",
              "      <td>8.373323</td>\n",
              "      <td>10.453313</td>\n",
              "      <td>Tampa-St. Petersburg-Clearwater, FL (Metropoli...</td>\n",
              "      <td>-1.416657</td>\n",
              "    </tr>\n",
              "    <tr>\n",
              "      <th>24860</th>\n",
              "      <td>10.098890</td>\n",
              "      <td>13.667548</td>\n",
              "      <td>8.106515</td>\n",
              "      <td>9.952278</td>\n",
              "      <td>Greenville-Anderson-Mauldin, SC (Metropolitan ...</td>\n",
              "      <td>-1.935068</td>\n",
              "    </tr>\n",
              "  </tbody>\n",
              "</table>\n",
              "</div>"
            ],
            "text/plain": [
              "          Crimes  ...  Residual - Crime\n",
              "msa               ...                  \n",
              "26420  11.198352  ...         -1.393201\n",
              "33100  11.025784  ...         -1.294066\n",
              "36740  10.683661  ...         -1.714614\n",
              "45300  10.571035  ...         -1.416657\n",
              "24860  10.098890  ...         -1.935068\n",
              "\n",
              "[5 rows x 6 columns]"
            ]
          },
          "metadata": {
            "tags": []
          },
          "execution_count": 77
        }
      ]
    },
    {
      "cell_type": "code",
      "metadata": {
        "id": "mMs5_mzGH50C",
        "colab_type": "code",
        "colab": {
          "base_uri": "https://localhost:8080/",
          "height": 235
        },
        "outputId": "538fceac-c328-4a26-bd61-a7f4bb39420a"
      },
      "source": [
        "msaDemo.head()"
      ],
      "execution_count": 78,
      "outputs": [
        {
          "output_type": "execute_result",
          "data": {
            "text/html": [
              "<div>\n",
              "<style scoped>\n",
              "    .dataframe tbody tr th:only-of-type {\n",
              "        vertical-align: middle;\n",
              "    }\n",
              "\n",
              "    .dataframe tbody tr th {\n",
              "        vertical-align: top;\n",
              "    }\n",
              "\n",
              "    .dataframe thead th {\n",
              "        text-align: right;\n",
              "    }\n",
              "</style>\n",
              "<table border=\"1\" class=\"dataframe\">\n",
              "  <thead>\n",
              "    <tr style=\"text-align: right;\">\n",
              "      <th></th>\n",
              "      <th>Population</th>\n",
              "      <th>Area</th>\n",
              "      <th>Income</th>\n",
              "    </tr>\n",
              "    <tr>\n",
              "      <th>msa</th>\n",
              "      <th></th>\n",
              "      <th></th>\n",
              "      <th></th>\n",
              "    </tr>\n",
              "  </thead>\n",
              "  <tbody>\n",
              "    <tr>\n",
              "      <th>10180</th>\n",
              "      <td>167171</td>\n",
              "      <td>2743.478027</td>\n",
              "      <td>3740034900</td>\n",
              "    </tr>\n",
              "    <tr>\n",
              "      <th>10420</th>\n",
              "      <td>703017</td>\n",
              "      <td>900.129156</td>\n",
              "      <td>19560044574</td>\n",
              "    </tr>\n",
              "    <tr>\n",
              "      <th>10500</th>\n",
              "      <td>156706</td>\n",
              "      <td>1932.557130</td>\n",
              "      <td>3172077530</td>\n",
              "    </tr>\n",
              "    <tr>\n",
              "      <th>10540</th>\n",
              "      <td>118270</td>\n",
              "      <td>2290.129282</td>\n",
              "      <td>2526602010</td>\n",
              "    </tr>\n",
              "    <tr>\n",
              "      <th>10580</th>\n",
              "      <td>875567</td>\n",
              "      <td>2811.554500</td>\n",
              "      <td>28078339939</td>\n",
              "    </tr>\n",
              "  </tbody>\n",
              "</table>\n",
              "</div>"
            ],
            "text/plain": [
              "       Population         Area       Income\n",
              "msa                                        \n",
              "10180      167171  2743.478027   3740034900\n",
              "10420      703017   900.129156  19560044574\n",
              "10500      156706  1932.557130   3172077530\n",
              "10540      118270  2290.129282   2526602010\n",
              "10580      875567  2811.554500  28078339939"
            ]
          },
          "metadata": {
            "tags": []
          },
          "execution_count": 78
        }
      ]
    },
    {
      "cell_type": "code",
      "metadata": {
        "id": "VLqptWjwOvD_",
        "colab_type": "code",
        "colab": {}
      },
      "source": [
        "nd = pd.DataFrame(data = [np.log(msaDemo.Income), np.log(msaDemo.Population)]).T\n",
        "nd.sort_values(by = 'Income', ascending= False, inplace = True)"
      ],
      "execution_count": 0,
      "outputs": []
    },
    {
      "cell_type": "code",
      "metadata": {
        "id": "XoLXRa9XIPPt",
        "colab_type": "code",
        "colab": {
          "base_uri": "https://localhost:8080/",
          "height": 235
        },
        "outputId": "469330bf-000d-441b-9b1e-661ca82b224f"
      },
      "source": [
        "nd.head()"
      ],
      "execution_count": 80,
      "outputs": [
        {
          "output_type": "execute_result",
          "data": {
            "text/html": [
              "<div>\n",
              "<style scoped>\n",
              "    .dataframe tbody tr th:only-of-type {\n",
              "        vertical-align: middle;\n",
              "    }\n",
              "\n",
              "    .dataframe tbody tr th {\n",
              "        vertical-align: top;\n",
              "    }\n",
              "\n",
              "    .dataframe thead th {\n",
              "        text-align: right;\n",
              "    }\n",
              "</style>\n",
              "<table border=\"1\" class=\"dataframe\">\n",
              "  <thead>\n",
              "    <tr style=\"text-align: right;\">\n",
              "      <th></th>\n",
              "      <th>Income</th>\n",
              "      <th>Population</th>\n",
              "    </tr>\n",
              "    <tr>\n",
              "      <th>msa</th>\n",
              "      <th></th>\n",
              "      <th></th>\n",
              "    </tr>\n",
              "  </thead>\n",
              "  <tbody>\n",
              "    <tr>\n",
              "      <th>35620</th>\n",
              "      <td>27.297920</td>\n",
              "      <td>16.804472</td>\n",
              "    </tr>\n",
              "    <tr>\n",
              "      <th>31080</th>\n",
              "      <td>26.677462</td>\n",
              "      <td>16.385106</td>\n",
              "    </tr>\n",
              "    <tr>\n",
              "      <th>16980</th>\n",
              "      <td>26.425884</td>\n",
              "      <td>16.068532</td>\n",
              "    </tr>\n",
              "    <tr>\n",
              "      <th>19100</th>\n",
              "      <td>26.019203</td>\n",
              "      <td>15.718069</td>\n",
              "    </tr>\n",
              "    <tr>\n",
              "      <th>37980</th>\n",
              "      <td>26.009518</td>\n",
              "      <td>15.609823</td>\n",
              "    </tr>\n",
              "  </tbody>\n",
              "</table>\n",
              "</div>"
            ],
            "text/plain": [
              "          Income  Population\n",
              "msa                         \n",
              "35620  27.297920   16.804472\n",
              "31080  26.677462   16.385106\n",
              "16980  26.425884   16.068532\n",
              "19100  26.019203   15.718069\n",
              "37980  26.009518   15.609823"
            ]
          },
          "metadata": {
            "tags": []
          },
          "execution_count": 80
        }
      ]
    },
    {
      "cell_type": "code",
      "metadata": {
        "id": "QIjMH5E9Wuex",
        "colab_type": "code",
        "colab": {
          "base_uri": "https://localhost:8080/",
          "height": 34
        },
        "outputId": "6a71aafb-9d8d-4887-9745-52c832470c3a"
      },
      "source": [
        "nd.Income.sum()"
      ],
      "execution_count": 81,
      "outputs": [
        {
          "output_type": "execute_result",
          "data": {
            "text/plain": [
              "8640.86153718504"
            ]
          },
          "metadata": {
            "tags": []
          },
          "execution_count": 81
        }
      ]
    },
    {
      "cell_type": "code",
      "metadata": {
        "id": "8OnWT9JrPMJn",
        "colab_type": "code",
        "colab": {
          "base_uri": "https://localhost:8080/",
          "height": 235
        },
        "outputId": "f7b4259a-2443-400c-c484-07f139fc4e46"
      },
      "source": [
        "mf = smf.ols(formula = 'Income~Population', data = nd).fit()\n",
        "mf_predict = mf.predict()\n",
        "msaDemo['Residual - Income'] = mf_predict-nd.Income\n",
        "msaDemo.head()"
      ],
      "execution_count": 82,
      "outputs": [
        {
          "output_type": "execute_result",
          "data": {
            "text/html": [
              "<div>\n",
              "<style scoped>\n",
              "    .dataframe tbody tr th:only-of-type {\n",
              "        vertical-align: middle;\n",
              "    }\n",
              "\n",
              "    .dataframe tbody tr th {\n",
              "        vertical-align: top;\n",
              "    }\n",
              "\n",
              "    .dataframe thead th {\n",
              "        text-align: right;\n",
              "    }\n",
              "</style>\n",
              "<table border=\"1\" class=\"dataframe\">\n",
              "  <thead>\n",
              "    <tr style=\"text-align: right;\">\n",
              "      <th></th>\n",
              "      <th>Population</th>\n",
              "      <th>Area</th>\n",
              "      <th>Income</th>\n",
              "      <th>Residual - Income</th>\n",
              "    </tr>\n",
              "    <tr>\n",
              "      <th>msa</th>\n",
              "      <th></th>\n",
              "      <th></th>\n",
              "      <th></th>\n",
              "      <th></th>\n",
              "    </tr>\n",
              "  </thead>\n",
              "  <tbody>\n",
              "    <tr>\n",
              "      <th>10180</th>\n",
              "      <td>167171</td>\n",
              "      <td>2743.478027</td>\n",
              "      <td>3740034900</td>\n",
              "      <td>0.101101</td>\n",
              "    </tr>\n",
              "    <tr>\n",
              "      <th>10420</th>\n",
              "      <td>703017</td>\n",
              "      <td>900.129156</td>\n",
              "      <td>19560044574</td>\n",
              "      <td>-0.025948</td>\n",
              "    </tr>\n",
              "    <tr>\n",
              "      <th>10500</th>\n",
              "      <td>156706</td>\n",
              "      <td>1932.557130</td>\n",
              "      <td>3172077530</td>\n",
              "      <td>0.197068</td>\n",
              "    </tr>\n",
              "    <tr>\n",
              "      <th>10540</th>\n",
              "      <td>118270</td>\n",
              "      <td>2290.129282</td>\n",
              "      <td>2526602010</td>\n",
              "      <td>0.125354</td>\n",
              "    </tr>\n",
              "    <tr>\n",
              "      <th>10580</th>\n",
              "      <td>875567</td>\n",
              "      <td>2811.554500</td>\n",
              "      <td>28078339939</td>\n",
              "      <td>-0.154064</td>\n",
              "    </tr>\n",
              "  </tbody>\n",
              "</table>\n",
              "</div>"
            ],
            "text/plain": [
              "       Population         Area       Income  Residual - Income\n",
              "msa                                                           \n",
              "10180      167171  2743.478027   3740034900           0.101101\n",
              "10420      703017   900.129156  19560044574          -0.025948\n",
              "10500      156706  1932.557130   3172077530           0.197068\n",
              "10540      118270  2290.129282   2526602010           0.125354\n",
              "10580      875567  2811.554500  28078339939          -0.154064"
            ]
          },
          "metadata": {
            "tags": []
          },
          "execution_count": 82
        }
      ]
    },
    {
      "cell_type": "code",
      "metadata": {
        "id": "6aH4xDwbPhZx",
        "colab_type": "code",
        "colab": {
          "base_uri": "https://localhost:8080/",
          "height": 235
        },
        "outputId": "a5fffd27-e348-4716-d561-b4c62d5252b0"
      },
      "source": [
        "temp_holder = msaDemo['Residual - Income']\n",
        "final_data['Residual - Income'] = final_data.index.map(temp_holder)\n",
        "final_data.corr()"
      ],
      "execution_count": 83,
      "outputs": [
        {
          "output_type": "execute_result",
          "data": {
            "text/html": [
              "<div>\n",
              "<style scoped>\n",
              "    .dataframe tbody tr th:only-of-type {\n",
              "        vertical-align: middle;\n",
              "    }\n",
              "\n",
              "    .dataframe tbody tr th {\n",
              "        vertical-align: top;\n",
              "    }\n",
              "\n",
              "    .dataframe thead th {\n",
              "        text-align: right;\n",
              "    }\n",
              "</style>\n",
              "<table border=\"1\" class=\"dataframe\">\n",
              "  <thead>\n",
              "    <tr style=\"text-align: right;\">\n",
              "      <th></th>\n",
              "      <th>Crimes</th>\n",
              "      <th>Population</th>\n",
              "      <th>Violent</th>\n",
              "      <th>Property</th>\n",
              "      <th>Residual - Crime</th>\n",
              "      <th>Residual - Income</th>\n",
              "    </tr>\n",
              "  </thead>\n",
              "  <tbody>\n",
              "    <tr>\n",
              "      <th>Crimes</th>\n",
              "      <td>1.000000</td>\n",
              "      <td>7.010103e-01</td>\n",
              "      <td>0.926145</td>\n",
              "      <td>0.997237</td>\n",
              "      <td>-7.131511e-01</td>\n",
              "      <td>0.140568</td>\n",
              "    </tr>\n",
              "    <tr>\n",
              "      <th>Population</th>\n",
              "      <td>0.701010</td>\n",
              "      <td>1.000000e+00</td>\n",
              "      <td>0.709107</td>\n",
              "      <td>0.680037</td>\n",
              "      <td>1.719812e-15</td>\n",
              "      <td>0.008566</td>\n",
              "    </tr>\n",
              "    <tr>\n",
              "      <th>Violent</th>\n",
              "      <td>0.926145</td>\n",
              "      <td>7.091070e-01</td>\n",
              "      <td>1.000000</td>\n",
              "      <td>0.900994</td>\n",
              "      <td>-6.016303e-01</td>\n",
              "      <td>0.125952</td>\n",
              "    </tr>\n",
              "    <tr>\n",
              "      <th>Property</th>\n",
              "      <td>0.997237</td>\n",
              "      <td>6.800369e-01</td>\n",
              "      <td>0.900994</td>\n",
              "      <td>1.000000</td>\n",
              "      <td>-7.298930e-01</td>\n",
              "      <td>0.138442</td>\n",
              "    </tr>\n",
              "    <tr>\n",
              "      <th>Residual - Crime</th>\n",
              "      <td>-0.713151</td>\n",
              "      <td>1.719812e-15</td>\n",
              "      <td>-0.601630</td>\n",
              "      <td>-0.729893</td>\n",
              "      <td>1.000000e+00</td>\n",
              "      <td>-0.188689</td>\n",
              "    </tr>\n",
              "    <tr>\n",
              "      <th>Residual - Income</th>\n",
              "      <td>0.140568</td>\n",
              "      <td>8.565747e-03</td>\n",
              "      <td>0.125952</td>\n",
              "      <td>0.138442</td>\n",
              "      <td>-1.886889e-01</td>\n",
              "      <td>1.000000</td>\n",
              "    </tr>\n",
              "  </tbody>\n",
              "</table>\n",
              "</div>"
            ],
            "text/plain": [
              "                     Crimes    Population  ...  Residual - Crime  Residual - Income\n",
              "Crimes             1.000000  7.010103e-01  ...     -7.131511e-01           0.140568\n",
              "Population         0.701010  1.000000e+00  ...      1.719812e-15           0.008566\n",
              "Violent            0.926145  7.091070e-01  ...     -6.016303e-01           0.125952\n",
              "Property           0.997237  6.800369e-01  ...     -7.298930e-01           0.138442\n",
              "Residual - Crime  -0.713151  1.719812e-15  ...      1.000000e+00          -0.188689\n",
              "Residual - Income  0.140568  8.565747e-03  ...     -1.886889e-01           1.000000\n",
              "\n",
              "[6 rows x 6 columns]"
            ]
          },
          "metadata": {
            "tags": []
          },
          "execution_count": 83
        }
      ]
    },
    {
      "cell_type": "markdown",
      "metadata": {
        "id": "KbdihSdHRW9J",
        "colab_type": "text"
      },
      "source": [
        "## Correlation between Residual - Crime and Residual Income is -0.188689. There exists an inverse relationship between Crime and Income, as one increases the other keeps decreases."
      ]
    }
  ]
}