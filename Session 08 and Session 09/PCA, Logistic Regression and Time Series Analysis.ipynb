{
  "nbformat": 4,
  "nbformat_minor": 0,
  "metadata": {
    "kernelspec": {
      "display_name": "Python 2",
      "language": "python",
      "name": "python2"
    },
    "language_info": {
      "codemirror_mode": {
        "name": "ipython",
        "version": 2
      },
      "file_extension": ".py",
      "mimetype": "text/x-python",
      "name": "python",
      "nbconvert_exporter": "python",
      "pygments_lexer": "ipython2",
      "version": "2.7.15"
    },
    "colab": {
      "name": "PCA, Logistic Regression and Time Series Analysis.ipynb",
      "provenance": [],
      "collapsed_sections": [],
      "include_colab_link": true
    }
  },
  "cells": [
    {
      "cell_type": "markdown",
      "metadata": {
        "id": "view-in-github",
        "colab_type": "text"
      },
      "source": [
        "<a href=\"https://colab.research.google.com/github/pratikwatwani/Applied-Data-Science/blob/master/Session%2008%20and%20Session%2009/PCA%2C%20Logistic%20Regression%20and%20Time%20Series%20Analysis.ipynb\" target=\"_parent\"><img src=\"https://colab.research.google.com/assets/colab-badge.svg\" alt=\"Open In Colab\"/></a>"
      ]
    },
    {
      "cell_type": "markdown",
      "metadata": {
        "id": "2ArqAvWn2V9F",
        "colab_type": "text"
      },
      "source": [
        "## Task 1. Visualization of Hand-Written Digits\n",
        "\n",
        "As one of the examples sklearn provides a dataset of handwritten digits. This data includes impages of 1787 digits. For each digit, we have 64 variables x1,x2,...x64, each one representing a pixel (grayscale from 0 to 16) on the 8x8 image. The label (y) for each image is the actual digit it represents from 0 to 9.  "
      ]
    },
    {
      "cell_type": "code",
      "metadata": {
        "id": "H4ssRmj82V9K",
        "colab_type": "code",
        "colab": {}
      },
      "source": [
        "import numpy as np\n",
        "import matplotlib.pyplot as plt\n",
        "import pandas as pd\n",
        "import matplotlib.pyplot as plt\n",
        "%matplotlib inline\n",
        "import statsmodels.formula.api as smf\n",
        "from scipy.stats import t\n",
        "from sklearn import preprocessing\n",
        "from matplotlib.dates import DateFormatter\n",
        "import statsmodels.api as sm\n",
        "from sklearn.preprocessing import StandardScaler\n",
        "from sklearn.decomposition import PCA"
      ],
      "execution_count": 0,
      "outputs": []
    },
    {
      "cell_type": "code",
      "metadata": {
        "id": "fWR20qN72V9a",
        "colab_type": "code",
        "outputId": "48c64dec-e785-4232-8a11-e0cf401d808c",
        "colab": {
          "base_uri": "https://localhost:8080/",
          "height": 290
        }
      },
      "source": [
        "#Load the data\n",
        "import numpy as np\n",
        "import pandas as pd\n",
        "from sklearn.datasets import load_digits\n",
        "digits = load_digits()\n",
        "X = digits.data # the digits data\n",
        "y = digits.target # the labels for the digits. This label is only used for coloring the points.\n",
        "#Make a dataframe\n",
        "data=pd.DataFrame(np.concatenate((y.reshape(len(y),1),X),axis=1))\n",
        "data.columns=[\"y\"]+[\"x{}\".format(i) for i in range(1,65)]\n",
        "data.head()"
      ],
      "execution_count": 387,
      "outputs": [
        {
          "output_type": "execute_result",
          "data": {
            "text/html": [
              "<div>\n",
              "<style scoped>\n",
              "    .dataframe tbody tr th:only-of-type {\n",
              "        vertical-align: middle;\n",
              "    }\n",
              "\n",
              "    .dataframe tbody tr th {\n",
              "        vertical-align: top;\n",
              "    }\n",
              "\n",
              "    .dataframe thead th {\n",
              "        text-align: right;\n",
              "    }\n",
              "</style>\n",
              "<table border=\"1\" class=\"dataframe\">\n",
              "  <thead>\n",
              "    <tr style=\"text-align: right;\">\n",
              "      <th></th>\n",
              "      <th>y</th>\n",
              "      <th>x1</th>\n",
              "      <th>x2</th>\n",
              "      <th>x3</th>\n",
              "      <th>x4</th>\n",
              "      <th>x5</th>\n",
              "      <th>x6</th>\n",
              "      <th>x7</th>\n",
              "      <th>x8</th>\n",
              "      <th>x9</th>\n",
              "      <th>x10</th>\n",
              "      <th>x11</th>\n",
              "      <th>x12</th>\n",
              "      <th>x13</th>\n",
              "      <th>x14</th>\n",
              "      <th>x15</th>\n",
              "      <th>x16</th>\n",
              "      <th>x17</th>\n",
              "      <th>x18</th>\n",
              "      <th>x19</th>\n",
              "      <th>x20</th>\n",
              "      <th>x21</th>\n",
              "      <th>x22</th>\n",
              "      <th>x23</th>\n",
              "      <th>x24</th>\n",
              "      <th>x25</th>\n",
              "      <th>x26</th>\n",
              "      <th>x27</th>\n",
              "      <th>x28</th>\n",
              "      <th>x29</th>\n",
              "      <th>x30</th>\n",
              "      <th>x31</th>\n",
              "      <th>x32</th>\n",
              "      <th>x33</th>\n",
              "      <th>x34</th>\n",
              "      <th>x35</th>\n",
              "      <th>x36</th>\n",
              "      <th>x37</th>\n",
              "      <th>x38</th>\n",
              "      <th>x39</th>\n",
              "      <th>x40</th>\n",
              "      <th>x41</th>\n",
              "      <th>x42</th>\n",
              "      <th>x43</th>\n",
              "      <th>x44</th>\n",
              "      <th>x45</th>\n",
              "      <th>x46</th>\n",
              "      <th>x47</th>\n",
              "      <th>x48</th>\n",
              "      <th>x49</th>\n",
              "      <th>x50</th>\n",
              "      <th>x51</th>\n",
              "      <th>x52</th>\n",
              "      <th>x53</th>\n",
              "      <th>x54</th>\n",
              "      <th>x55</th>\n",
              "      <th>x56</th>\n",
              "      <th>x57</th>\n",
              "      <th>x58</th>\n",
              "      <th>x59</th>\n",
              "      <th>x60</th>\n",
              "      <th>x61</th>\n",
              "      <th>x62</th>\n",
              "      <th>x63</th>\n",
              "      <th>x64</th>\n",
              "    </tr>\n",
              "  </thead>\n",
              "  <tbody>\n",
              "    <tr>\n",
              "      <th>0</th>\n",
              "      <td>0.0</td>\n",
              "      <td>0.0</td>\n",
              "      <td>0.0</td>\n",
              "      <td>5.0</td>\n",
              "      <td>13.0</td>\n",
              "      <td>9.0</td>\n",
              "      <td>1.0</td>\n",
              "      <td>0.0</td>\n",
              "      <td>0.0</td>\n",
              "      <td>0.0</td>\n",
              "      <td>0.0</td>\n",
              "      <td>13.0</td>\n",
              "      <td>15.0</td>\n",
              "      <td>10.0</td>\n",
              "      <td>15.0</td>\n",
              "      <td>5.0</td>\n",
              "      <td>0.0</td>\n",
              "      <td>0.0</td>\n",
              "      <td>3.0</td>\n",
              "      <td>15.0</td>\n",
              "      <td>2.0</td>\n",
              "      <td>0.0</td>\n",
              "      <td>11.0</td>\n",
              "      <td>8.0</td>\n",
              "      <td>0.0</td>\n",
              "      <td>0.0</td>\n",
              "      <td>4.0</td>\n",
              "      <td>12.0</td>\n",
              "      <td>0.0</td>\n",
              "      <td>0.0</td>\n",
              "      <td>8.0</td>\n",
              "      <td>8.0</td>\n",
              "      <td>0.0</td>\n",
              "      <td>0.0</td>\n",
              "      <td>5.0</td>\n",
              "      <td>8.0</td>\n",
              "      <td>0.0</td>\n",
              "      <td>0.0</td>\n",
              "      <td>9.0</td>\n",
              "      <td>8.0</td>\n",
              "      <td>0.0</td>\n",
              "      <td>0.0</td>\n",
              "      <td>4.0</td>\n",
              "      <td>11.0</td>\n",
              "      <td>0.0</td>\n",
              "      <td>1.0</td>\n",
              "      <td>12.0</td>\n",
              "      <td>7.0</td>\n",
              "      <td>0.0</td>\n",
              "      <td>0.0</td>\n",
              "      <td>2.0</td>\n",
              "      <td>14.0</td>\n",
              "      <td>5.0</td>\n",
              "      <td>10.0</td>\n",
              "      <td>12.0</td>\n",
              "      <td>0.0</td>\n",
              "      <td>0.0</td>\n",
              "      <td>0.0</td>\n",
              "      <td>0.0</td>\n",
              "      <td>6.0</td>\n",
              "      <td>13.0</td>\n",
              "      <td>10.0</td>\n",
              "      <td>0.0</td>\n",
              "      <td>0.0</td>\n",
              "      <td>0.0</td>\n",
              "    </tr>\n",
              "    <tr>\n",
              "      <th>1</th>\n",
              "      <td>1.0</td>\n",
              "      <td>0.0</td>\n",
              "      <td>0.0</td>\n",
              "      <td>0.0</td>\n",
              "      <td>12.0</td>\n",
              "      <td>13.0</td>\n",
              "      <td>5.0</td>\n",
              "      <td>0.0</td>\n",
              "      <td>0.0</td>\n",
              "      <td>0.0</td>\n",
              "      <td>0.0</td>\n",
              "      <td>0.0</td>\n",
              "      <td>11.0</td>\n",
              "      <td>16.0</td>\n",
              "      <td>9.0</td>\n",
              "      <td>0.0</td>\n",
              "      <td>0.0</td>\n",
              "      <td>0.0</td>\n",
              "      <td>0.0</td>\n",
              "      <td>3.0</td>\n",
              "      <td>15.0</td>\n",
              "      <td>16.0</td>\n",
              "      <td>6.0</td>\n",
              "      <td>0.0</td>\n",
              "      <td>0.0</td>\n",
              "      <td>0.0</td>\n",
              "      <td>7.0</td>\n",
              "      <td>15.0</td>\n",
              "      <td>16.0</td>\n",
              "      <td>16.0</td>\n",
              "      <td>2.0</td>\n",
              "      <td>0.0</td>\n",
              "      <td>0.0</td>\n",
              "      <td>0.0</td>\n",
              "      <td>0.0</td>\n",
              "      <td>1.0</td>\n",
              "      <td>16.0</td>\n",
              "      <td>16.0</td>\n",
              "      <td>3.0</td>\n",
              "      <td>0.0</td>\n",
              "      <td>0.0</td>\n",
              "      <td>0.0</td>\n",
              "      <td>0.0</td>\n",
              "      <td>1.0</td>\n",
              "      <td>16.0</td>\n",
              "      <td>16.0</td>\n",
              "      <td>6.0</td>\n",
              "      <td>0.0</td>\n",
              "      <td>0.0</td>\n",
              "      <td>0.0</td>\n",
              "      <td>0.0</td>\n",
              "      <td>1.0</td>\n",
              "      <td>16.0</td>\n",
              "      <td>16.0</td>\n",
              "      <td>6.0</td>\n",
              "      <td>0.0</td>\n",
              "      <td>0.0</td>\n",
              "      <td>0.0</td>\n",
              "      <td>0.0</td>\n",
              "      <td>0.0</td>\n",
              "      <td>11.0</td>\n",
              "      <td>16.0</td>\n",
              "      <td>10.0</td>\n",
              "      <td>0.0</td>\n",
              "      <td>0.0</td>\n",
              "    </tr>\n",
              "    <tr>\n",
              "      <th>2</th>\n",
              "      <td>2.0</td>\n",
              "      <td>0.0</td>\n",
              "      <td>0.0</td>\n",
              "      <td>0.0</td>\n",
              "      <td>4.0</td>\n",
              "      <td>15.0</td>\n",
              "      <td>12.0</td>\n",
              "      <td>0.0</td>\n",
              "      <td>0.0</td>\n",
              "      <td>0.0</td>\n",
              "      <td>0.0</td>\n",
              "      <td>3.0</td>\n",
              "      <td>16.0</td>\n",
              "      <td>15.0</td>\n",
              "      <td>14.0</td>\n",
              "      <td>0.0</td>\n",
              "      <td>0.0</td>\n",
              "      <td>0.0</td>\n",
              "      <td>0.0</td>\n",
              "      <td>8.0</td>\n",
              "      <td>13.0</td>\n",
              "      <td>8.0</td>\n",
              "      <td>16.0</td>\n",
              "      <td>0.0</td>\n",
              "      <td>0.0</td>\n",
              "      <td>0.0</td>\n",
              "      <td>0.0</td>\n",
              "      <td>1.0</td>\n",
              "      <td>6.0</td>\n",
              "      <td>15.0</td>\n",
              "      <td>11.0</td>\n",
              "      <td>0.0</td>\n",
              "      <td>0.0</td>\n",
              "      <td>0.0</td>\n",
              "      <td>1.0</td>\n",
              "      <td>8.0</td>\n",
              "      <td>13.0</td>\n",
              "      <td>15.0</td>\n",
              "      <td>1.0</td>\n",
              "      <td>0.0</td>\n",
              "      <td>0.0</td>\n",
              "      <td>0.0</td>\n",
              "      <td>9.0</td>\n",
              "      <td>16.0</td>\n",
              "      <td>16.0</td>\n",
              "      <td>5.0</td>\n",
              "      <td>0.0</td>\n",
              "      <td>0.0</td>\n",
              "      <td>0.0</td>\n",
              "      <td>0.0</td>\n",
              "      <td>3.0</td>\n",
              "      <td>13.0</td>\n",
              "      <td>16.0</td>\n",
              "      <td>16.0</td>\n",
              "      <td>11.0</td>\n",
              "      <td>5.0</td>\n",
              "      <td>0.0</td>\n",
              "      <td>0.0</td>\n",
              "      <td>0.0</td>\n",
              "      <td>0.0</td>\n",
              "      <td>3.0</td>\n",
              "      <td>11.0</td>\n",
              "      <td>16.0</td>\n",
              "      <td>9.0</td>\n",
              "      <td>0.0</td>\n",
              "    </tr>\n",
              "    <tr>\n",
              "      <th>3</th>\n",
              "      <td>3.0</td>\n",
              "      <td>0.0</td>\n",
              "      <td>0.0</td>\n",
              "      <td>7.0</td>\n",
              "      <td>15.0</td>\n",
              "      <td>13.0</td>\n",
              "      <td>1.0</td>\n",
              "      <td>0.0</td>\n",
              "      <td>0.0</td>\n",
              "      <td>0.0</td>\n",
              "      <td>8.0</td>\n",
              "      <td>13.0</td>\n",
              "      <td>6.0</td>\n",
              "      <td>15.0</td>\n",
              "      <td>4.0</td>\n",
              "      <td>0.0</td>\n",
              "      <td>0.0</td>\n",
              "      <td>0.0</td>\n",
              "      <td>2.0</td>\n",
              "      <td>1.0</td>\n",
              "      <td>13.0</td>\n",
              "      <td>13.0</td>\n",
              "      <td>0.0</td>\n",
              "      <td>0.0</td>\n",
              "      <td>0.0</td>\n",
              "      <td>0.0</td>\n",
              "      <td>0.0</td>\n",
              "      <td>2.0</td>\n",
              "      <td>15.0</td>\n",
              "      <td>11.0</td>\n",
              "      <td>1.0</td>\n",
              "      <td>0.0</td>\n",
              "      <td>0.0</td>\n",
              "      <td>0.0</td>\n",
              "      <td>0.0</td>\n",
              "      <td>0.0</td>\n",
              "      <td>1.0</td>\n",
              "      <td>12.0</td>\n",
              "      <td>12.0</td>\n",
              "      <td>1.0</td>\n",
              "      <td>0.0</td>\n",
              "      <td>0.0</td>\n",
              "      <td>0.0</td>\n",
              "      <td>0.0</td>\n",
              "      <td>0.0</td>\n",
              "      <td>1.0</td>\n",
              "      <td>10.0</td>\n",
              "      <td>8.0</td>\n",
              "      <td>0.0</td>\n",
              "      <td>0.0</td>\n",
              "      <td>0.0</td>\n",
              "      <td>8.0</td>\n",
              "      <td>4.0</td>\n",
              "      <td>5.0</td>\n",
              "      <td>14.0</td>\n",
              "      <td>9.0</td>\n",
              "      <td>0.0</td>\n",
              "      <td>0.0</td>\n",
              "      <td>0.0</td>\n",
              "      <td>7.0</td>\n",
              "      <td>13.0</td>\n",
              "      <td>13.0</td>\n",
              "      <td>9.0</td>\n",
              "      <td>0.0</td>\n",
              "      <td>0.0</td>\n",
              "    </tr>\n",
              "    <tr>\n",
              "      <th>4</th>\n",
              "      <td>4.0</td>\n",
              "      <td>0.0</td>\n",
              "      <td>0.0</td>\n",
              "      <td>0.0</td>\n",
              "      <td>1.0</td>\n",
              "      <td>11.0</td>\n",
              "      <td>0.0</td>\n",
              "      <td>0.0</td>\n",
              "      <td>0.0</td>\n",
              "      <td>0.0</td>\n",
              "      <td>0.0</td>\n",
              "      <td>0.0</td>\n",
              "      <td>7.0</td>\n",
              "      <td>8.0</td>\n",
              "      <td>0.0</td>\n",
              "      <td>0.0</td>\n",
              "      <td>0.0</td>\n",
              "      <td>0.0</td>\n",
              "      <td>0.0</td>\n",
              "      <td>1.0</td>\n",
              "      <td>13.0</td>\n",
              "      <td>6.0</td>\n",
              "      <td>2.0</td>\n",
              "      <td>2.0</td>\n",
              "      <td>0.0</td>\n",
              "      <td>0.0</td>\n",
              "      <td>0.0</td>\n",
              "      <td>7.0</td>\n",
              "      <td>15.0</td>\n",
              "      <td>0.0</td>\n",
              "      <td>9.0</td>\n",
              "      <td>8.0</td>\n",
              "      <td>0.0</td>\n",
              "      <td>0.0</td>\n",
              "      <td>5.0</td>\n",
              "      <td>16.0</td>\n",
              "      <td>10.0</td>\n",
              "      <td>0.0</td>\n",
              "      <td>16.0</td>\n",
              "      <td>6.0</td>\n",
              "      <td>0.0</td>\n",
              "      <td>0.0</td>\n",
              "      <td>4.0</td>\n",
              "      <td>15.0</td>\n",
              "      <td>16.0</td>\n",
              "      <td>13.0</td>\n",
              "      <td>16.0</td>\n",
              "      <td>1.0</td>\n",
              "      <td>0.0</td>\n",
              "      <td>0.0</td>\n",
              "      <td>0.0</td>\n",
              "      <td>0.0</td>\n",
              "      <td>3.0</td>\n",
              "      <td>15.0</td>\n",
              "      <td>10.0</td>\n",
              "      <td>0.0</td>\n",
              "      <td>0.0</td>\n",
              "      <td>0.0</td>\n",
              "      <td>0.0</td>\n",
              "      <td>0.0</td>\n",
              "      <td>2.0</td>\n",
              "      <td>16.0</td>\n",
              "      <td>4.0</td>\n",
              "      <td>0.0</td>\n",
              "      <td>0.0</td>\n",
              "    </tr>\n",
              "  </tbody>\n",
              "</table>\n",
              "</div>"
            ],
            "text/plain": [
              "     y   x1   x2   x3    x4    x5    x6  ...  x58  x59   x60   x61   x62  x63  x64\n",
              "0  0.0  0.0  0.0  5.0  13.0   9.0   1.0  ...  0.0  6.0  13.0  10.0   0.0  0.0  0.0\n",
              "1  1.0  0.0  0.0  0.0  12.0  13.0   5.0  ...  0.0  0.0  11.0  16.0  10.0  0.0  0.0\n",
              "2  2.0  0.0  0.0  0.0   4.0  15.0  12.0  ...  0.0  0.0   3.0  11.0  16.0  9.0  0.0\n",
              "3  3.0  0.0  0.0  7.0  15.0  13.0   1.0  ...  0.0  7.0  13.0  13.0   9.0  0.0  0.0\n",
              "4  4.0  0.0  0.0  0.0   1.0  11.0   0.0  ...  0.0  0.0   2.0  16.0   4.0  0.0  0.0\n",
              "\n",
              "[5 rows x 65 columns]"
            ]
          },
          "metadata": {
            "tags": []
          },
          "execution_count": 387
        }
      ]
    },
    {
      "cell_type": "code",
      "metadata": {
        "id": "GIcuanVr2V9p",
        "colab_type": "code",
        "outputId": "645783f2-f0f0-4ad3-dd91-700e92639b76",
        "colab": {
          "base_uri": "https://localhost:8080/",
          "height": 40
        }
      },
      "source": [
        "#original image data is a 2D array\n",
        "X.shape"
      ],
      "execution_count": 388,
      "outputs": [
        {
          "output_type": "execute_result",
          "data": {
            "text/plain": [
              "(1797, 64)"
            ]
          },
          "metadata": {
            "tags": []
          },
          "execution_count": 388
        }
      ]
    },
    {
      "cell_type": "code",
      "metadata": {
        "id": "m6tzMvTm2V95",
        "colab_type": "code",
        "colab": {}
      },
      "source": [
        "#split data into training, validation and test samples\n",
        "X1=X[:1000,:]; y1=y[:1000]\n",
        "X2=X[1000:-300,:]; y2=y[1000:-300]\n",
        "X3=X[-300:,:]; y3=y[-300:]"
      ],
      "execution_count": 0,
      "outputs": []
    },
    {
      "cell_type": "markdown",
      "metadata": {
        "id": "qZZTixY52V-C",
        "colab_type": "text"
      },
      "source": [
        "#### If we take the first 10 observations and reconstruct the graph and we could see:  "
      ]
    },
    {
      "cell_type": "code",
      "metadata": {
        "scrolled": true,
        "id": "8e-aU9342V-F",
        "colab_type": "code",
        "outputId": "c09389bd-3af7-4591-bf09-65d3bfcaef4d",
        "colab": {
          "base_uri": "https://localhost:8080/",
          "height": 122
        }
      },
      "source": [
        "#plot the digits using imshow from matplotlib\n",
        "plt.figure(figsize=(10,1))\n",
        "print(\"Label:{}\".format(list(y[:10])))\n",
        "for i in range(10):\n",
        "    plt.subplot(1,10,i+1)\n",
        "    plt.imshow(X[i].reshape(8,8), cmap=plt.cm.gray_r)\n",
        "plt.show()"
      ],
      "execution_count": 390,
      "outputs": [
        {
          "output_type": "stream",
          "text": [
            "Label:[0, 1, 2, 3, 4, 5, 6, 7, 8, 9]\n"
          ],
          "name": "stdout"
        },
        {
          "output_type": "display_data",
          "data": {
            "image/png": "[encoded data removed]",
            "text/plain": [
              "<Figure size 720x72 with 10 Axes>"
            ]
          },
          "metadata": {
            "tags": []
          }
        }
      ]
    },
    {
      "cell_type": "code",
      "metadata": {
        "id": "VQqawAseKdOq",
        "colab_type": "code",
        "outputId": "c8b5e656-15a0-4fc6-d643-f7b172b29e2d",
        "colab": {
          "base_uri": "https://localhost:8080/",
          "height": 40
        }
      },
      "source": [
        "print(\"{},{},{}\".format(X1.shape[0],X2.shape[0],X3.shape[0]))"
      ],
      "execution_count": 391,
      "outputs": [
        {
          "output_type": "stream",
          "text": [
            "1000,497,300\n"
          ],
          "name": "stdout"
        }
      ]
    },
    {
      "cell_type": "markdown",
      "metadata": {
        "id": "fExaCNiN2V-M",
        "colab_type": "text"
      },
      "source": [
        "Now apply PCA to see if we can describe the data with a smaller number of most significant features"
      ]
    },
    {
      "cell_type": "markdown",
      "metadata": {
        "id": "rPhB2ABO2V-Q",
        "colab_type": "text"
      },
      "source": [
        "### Q1. Use PCA to transform the first 1000 digit images (X1). How many leading principal components are needed to cover a)50%, b)80% of the information from the original dataset?\n",
        "Make sure to standardize the data beofe applying PCA"
      ]
    },
    {
      "cell_type": "code",
      "metadata": {
        "id": "1BsG-wYfCin1",
        "colab_type": "code",
        "colab": {}
      },
      "source": [
        "#X is the original data set with 1797 rows, and 64 features\n",
        "#X1 is the training set with 1000 rows\n",
        "#X2 is the validation set with 497 rows\n",
        "#X3 is the testing set with 300 rows "
      ],
      "execution_count": 0,
      "outputs": []
    },
    {
      "cell_type": "code",
      "metadata": {
        "id": "FwgDzoA6OdDT",
        "colab_type": "code",
        "colab": {}
      },
      "source": [
        "scaler = StandardScaler()\n",
        "X1 = scaler.fit_transform(X1)"
      ],
      "execution_count": 0,
      "outputs": []
    },
    {
      "cell_type": "code",
      "metadata": {
        "id": "M0Fxrf-FK_g_",
        "colab_type": "code",
        "colab": {}
      },
      "source": [
        "u,s,v = np.linalg.svd(X1)"
      ],
      "execution_count": 0,
      "outputs": []
    },
    {
      "cell_type": "code",
      "metadata": {
        "id": "f7Zg_-XdLFEY",
        "colab_type": "code",
        "colab": {}
      },
      "source": [
        "var_dict = {}\n",
        "for k in range(0, 64):\n",
        "  var_dict[k] = (s[k]/s.sum())*100"
      ],
      "execution_count": 0,
      "outputs": []
    },
    {
      "cell_type": "code",
      "metadata": {
        "id": "rMKIodqTCn9Z",
        "colab_type": "code",
        "colab": {
          "base_uri": "https://localhost:8080/",
          "height": 312
        },
        "outputId": "0303a611-d1ac-49ff-8315-97b3eda677f0"
      },
      "source": [
        "df = pd.DataFrame.from_dict(var_dict, orient = 'index', columns = ['Variance Retained'])\n",
        "df.index.name = 'Principal Component'\n",
        "df.head()"
      ],
      "execution_count": 396,
      "outputs": [
        {
          "output_type": "execute_result",
          "data": {
            "text/html": [
              "<div>\n",
              "<style scoped>\n",
              "    .dataframe tbody tr th:only-of-type {\n",
              "        vertical-align: middle;\n",
              "    }\n",
              "\n",
              "    .dataframe tbody tr th {\n",
              "        vertical-align: top;\n",
              "    }\n",
              "\n",
              "    .dataframe thead th {\n",
              "        text-align: right;\n",
              "    }\n",
              "</style>\n",
              "<table border=\"1\" class=\"dataframe\">\n",
              "  <thead>\n",
              "    <tr style=\"text-align: right;\">\n",
              "      <th></th>\n",
              "      <th>Variance Retained</th>\n",
              "    </tr>\n",
              "    <tr>\n",
              "      <th>Principal Component</th>\n",
              "      <th></th>\n",
              "    </tr>\n",
              "  </thead>\n",
              "  <tbody>\n",
              "    <tr>\n",
              "      <th>0</th>\n",
              "      <td>5.378238</td>\n",
              "    </tr>\n",
              "    <tr>\n",
              "      <th>1</th>\n",
              "      <td>4.818316</td>\n",
              "    </tr>\n",
              "    <tr>\n",
              "      <th>2</th>\n",
              "      <td>4.458901</td>\n",
              "    </tr>\n",
              "    <tr>\n",
              "      <th>3</th>\n",
              "      <td>4.123033</td>\n",
              "    </tr>\n",
              "    <tr>\n",
              "      <th>4</th>\n",
              "      <td>3.550910</td>\n",
              "    </tr>\n",
              "  </tbody>\n",
              "</table>\n",
              "</div>"
            ],
            "text/plain": [
              "                     Variance Retained\n",
              "Principal Component                   \n",
              "0                             5.378238\n",
              "1                             4.818316\n",
              "2                             4.458901\n",
              "3                             4.123033\n",
              "4                             3.550910"
            ]
          },
          "metadata": {
            "tags": []
          },
          "execution_count": 396
        }
      ]
    },
    {
      "cell_type": "code",
      "metadata": {
        "id": "4OQ4mJSOPBsv",
        "colab_type": "code",
        "colab": {}
      },
      "source": [
        "covar_matrix = PCA(n_components = 64)\n",
        "covar_matrix.fit(X1)\n",
        "variance = covar_matrix.explained_variance_ratio_ \n",
        "var=np.cumsum(np.round(covar_matrix.explained_variance_ratio_, decimals=2)*100)"
      ],
      "execution_count": 0,
      "outputs": []
    },
    {
      "cell_type": "code",
      "metadata": {
        "id": "dCZwg5gyPasx",
        "colab_type": "code",
        "outputId": "0fe86bb3-5cc6-4b9b-dc22-efac5d58dfc2",
        "colab": {
          "base_uri": "https://localhost:8080/",
          "height": 132
        }
      },
      "source": [
        "var"
      ],
      "execution_count": 398,
      "outputs": [
        {
          "output_type": "execute_result",
          "data": {
            "text/plain": [
              "array([12., 22., 30., 37., 42., 46., 50., 53., 56., 59., 62., 64., 66.,\n",
              "       68., 70., 72., 74., 76., 78., 80., 81., 82., 83., 84., 85., 86.,\n",
              "       87., 88., 89., 90., 91., 92., 93., 94., 95., 96., 96., 96., 96.,\n",
              "       96., 96., 96., 96., 96., 96., 96., 96., 96., 96., 96., 96., 96.,\n",
              "       96., 96., 96., 96., 96., 96., 96., 96., 96., 96., 96., 96.])"
            ]
          },
          "metadata": {
            "tags": []
          },
          "execution_count": 398
        }
      ]
    },
    {
      "cell_type": "code",
      "metadata": {
        "id": "l0aNTtUheMPC",
        "colab_type": "code",
        "outputId": "6ecb77d2-68ba-4461-f38c-083fbbeebcee",
        "colab": {
          "base_uri": "https://localhost:8080/",
          "height": 627
        }
      },
      "source": [
        "fig, ax = plt.subplots(figsize = (20,10))\n",
        "ax.grid()\n",
        "#ax.set_yticks(ticks = np.arange(0,200,10))\n",
        "\n",
        "plt.plot(var, linewidth = 5, color = 'magenta')\n",
        "plt.plot(np.where(var ==50)[0][0], 50, marker='x', mew = 6,markersize=20, color=\"k\")\n",
        "plt.plot(np.where(var ==80)[0][0], 80, marker='x', mew = 6, markersize=20, color='green')\n",
        "\n",
        "plt.text(np.where(var == 50)[0][0]-1, 50+1,'50%', verticalalignment = 'top', horizontalalignment = 'right', fontsize = 20)\n",
        "plt.text(np.where(var == 80)[0][0]-1, 80+1,'80%', verticalalignment = 'top', horizontalalignment = 'right', fontsize = 20)\n",
        "\n",
        "\n",
        "plt.text(np.where(var == 50)[0][0]-1, 50-40,str(np.where(var == 50)[0][0])+' Components', verticalalignment = 'bottom', horizontalalignment = 'right', fontsize = 12)\n",
        "plt.text(np.where(var == 80)[0][0]-1, 80-70,str(np.where(var == 80)[0][0])+' Components', verticalalignment = 'bottom', horizontalalignment = 'right', fontsize = 12)\n",
        "\n",
        "ax.axvline(np.where(var == 50)[0][0],ymax = 50, color ='red', linestyle ='--' )\n",
        "ax.axvline(np.where(var == 80)[0][0],ymax = 80,  color ='red', linestyle ='--' )\n",
        "\n",
        "plt.xlabel('Number of Features', fontsize = 12)\n",
        "plt.ylabel('Information retained', fontsize = 12)\n",
        "plt.title('Information on PCA analysis', fontsize =15)\n",
        "plt.show()"
      ],
      "execution_count": 399,
      "outputs": [
        {
          "output_type": "display_data",
          "data": {
            "image/png": "[encoded data removed]",
            "text/plain": [
              "<Figure size 1440x720 with 1 Axes>"
            ]
          },
          "metadata": {
            "tags": []
          }
        }
      ]
    },
    {
      "cell_type": "markdown",
      "metadata": {
        "id": "JnSAkN762V-T",
        "colab_type": "text"
      },
      "source": [
        "### Q2. Visualize digits 3, 6, 7 (y=3,6,7) using the first two principal components of X1  "
      ]
    },
    {
      "cell_type": "code",
      "metadata": {
        "id": "lBZcRRpLLEFf",
        "colab_type": "code",
        "outputId": "651a3d73-fcd9-4ff1-834d-a9dacb9450f0",
        "colab": {
          "base_uri": "https://localhost:8080/",
          "height": 313
        }
      },
      "source": [
        "digits = [3,6,7]\n",
        "count = 1\n",
        "\n",
        "plt.figure(figsize=(20,15))\n",
        "\n",
        "for digit in digits:\n",
        "  plt.subplot(1,4, count)\n",
        "  plt.xlabel('Digit=%i' %digit, fontsize =16)\n",
        "  plt.imshow(X1[digit][:].reshape(8,8), cmap=plt.cm.gray_r)\n",
        "  count+=1\n",
        "\n",
        "plt.show()\n",
        "\n"
      ],
      "execution_count": 400,
      "outputs": [
        {
          "output_type": "display_data",
          "data": {
            "image/png": "[encoded data removed]",
            "text/plain": [
              "<Figure size 1440x1080 with 3 Axes>"
            ]
          },
          "metadata": {
            "tags": []
          }
        }
      ]
    },
    {
      "cell_type": "markdown",
      "metadata": {
        "id": "oraGUw382V-V",
        "colab_type": "text"
      },
      "source": [
        "## Task 2. Classify the digits using leading principal components"
      ]
    },
    {
      "cell_type": "markdown",
      "metadata": {
        "id": "P2Bcn4Od2V-X",
        "colab_type": "text"
      },
      "source": [
        "### Q1. Train multi-class logistic regression over the first 1000 digits using first 5 leading principal components\n",
        "Report in-sample and out-of-sample (over X3, the last 300 digits) accuracy. \n",
        "\n",
        "You will need to apply the same scaler and PCA transform trained above to X3\n",
        "\n",
        "Here and further use regularization constant C=10000 in logistic regression to avoid regularization"
      ]
    },
    {
      "cell_type": "code",
      "metadata": {
        "id": "K4J5lgC8BtHX",
        "colab_type": "code",
        "colab": {
          "base_uri": "https://localhost:8080/",
          "height": 109
        },
        "outputId": "829e2c93-afe0-4e12-f304-833de599ca6f"
      },
      "source": [
        "print(\"X(Original) number of records: {},\\nX1(Training) number of records: {},\\nX2(Validation) number of records: {},\\nX3(Test) number of records: {}\".format(X.shape[0],X1.shape[0],X2.shape[0],X3.shape[0]))"
      ],
      "execution_count": 416,
      "outputs": [
        {
          "output_type": "stream",
          "text": [
            "X(Original) number of records: 1797,\n",
            "X1(Training) number of records: 1000,\n",
            "X2(Validation) number of records: 497,\n",
            "X3(Test) number of records: 300\n"
          ],
          "name": "stdout"
        }
      ]
    },
    {
      "cell_type": "code",
      "metadata": {
        "id": "f4ejOSxFGAee",
        "colab_type": "code",
        "colab": {}
      },
      "source": [
        ""
      ],
      "execution_count": 0,
      "outputs": []
    },
    {
      "cell_type": "code",
      "metadata": {
        "id": "cadpsP-EGAnl",
        "colab_type": "code",
        "colab": {}
      },
      "source": [
        ""
      ],
      "execution_count": 0,
      "outputs": []
    },
    {
      "cell_type": "code",
      "metadata": {
        "id": "CtFJnFmUGBJG",
        "colab_type": "code",
        "colab": {}
      },
      "source": [
        ""
      ],
      "execution_count": 0,
      "outputs": []
    },
    {
      "cell_type": "code",
      "metadata": {
        "id": "XPJ1DuK2GBoV",
        "colab_type": "code",
        "colab": {}
      },
      "source": [
        ""
      ],
      "execution_count": 0,
      "outputs": []
    },
    {
      "cell_type": "code",
      "metadata": {
        "id": "DDwrxAIIGBvg",
        "colab_type": "code",
        "colab": {}
      },
      "source": [
        ""
      ],
      "execution_count": 0,
      "outputs": []
    },
    {
      "cell_type": "code",
      "metadata": {
        "id": "Tl_ef2ViGB4C",
        "colab_type": "code",
        "colab": {}
      },
      "source": [
        ""
      ],
      "execution_count": 0,
      "outputs": []
    },
    {
      "cell_type": "code",
      "metadata": {
        "id": "Rp9IQTu4GCBJ",
        "colab_type": "code",
        "colab": {}
      },
      "source": [
        ""
      ],
      "execution_count": 0,
      "outputs": []
    },
    {
      "cell_type": "markdown",
      "metadata": {
        "id": "yqgvwFhB2V-Z",
        "colab_type": "text"
      },
      "source": [
        "### Q2. Select the optimal number of principal components for the classification above in terms of the out-of-sample accuracy measured over the validation sample X2. Report the performance of the classification after this feature selection over the test sample X3 of the last 300 digits."
      ]
    },
    {
      "cell_type": "markdown",
      "metadata": {
        "id": "5h3jq2UV2V-c",
        "colab_type": "text"
      },
      "source": [
        "## Task3. Time Series Analysis\n",
        "**Dataset Description**\n",
        "- Portland Oregon riders monthly data: It is a monthly count of riders for the Portland public transportation system. The website states that it is from January 1960 through June 1969\n",
        "\n",
        "**Tasks**:\n",
        "- Detect a trend\n",
        "- Decompose into trend + seasonality + residuals\n",
        "- Analyze residual distribution\n",
        "- Select the top 3-5 outliers based on absolute values of residuals "
      ]
    },
    {
      "cell_type": "code",
      "metadata": {
        "id": "xLdCDcKh2V-d",
        "colab_type": "code",
        "colab": {}
      },
      "source": [
        "# import dataset\n",
        "df = pd.read_csv(\"https://raw.githubusercontent.com/pratikwatwani/Applied-Data-Science/master/data/portland-oregon-average-monthly-.csv\")"
      ],
      "execution_count": 0,
      "outputs": []
    },
    {
      "cell_type": "code",
      "metadata": {
        "id": "21Ch5PsD2V-n",
        "colab_type": "code",
        "colab": {}
      },
      "source": [
        "# change column name to make it easier for your life\n",
        "df.columns = [\"month\", \"avgMonthlyRide\"]"
      ],
      "execution_count": 0,
      "outputs": []
    },
    {
      "cell_type": "code",
      "metadata": {
        "id": "7hJpb5ay2V-r",
        "colab_type": "code",
        "colab": {}
      },
      "source": [
        "# remove artifact data\n",
        "df = df.drop(df.index[df['avgMonthlyRide'] == ' n=114'])"
      ],
      "execution_count": 0,
      "outputs": []
    },
    {
      "cell_type": "code",
      "metadata": {
        "id": "agB4p20V2V-v",
        "colab_type": "code",
        "outputId": "6581d29c-ed49-4842-aea3-08a6955a9dcb",
        "colab": {
          "base_uri": "https://localhost:8080/",
          "height": 270
        }
      },
      "source": [
        "# type transfer: int32 for `avgMonthlyRide`, datetime for `month`\n",
        "df['avgMonthlyRide'] = df['avgMonthlyRide'].astype(np.int32)\n",
        "df['month'] = pd.to_datetime(df['month'], format = '%Y-%m')\n",
        "df.head()"
      ],
      "execution_count": 404,
      "outputs": [
        {
          "output_type": "execute_result",
          "data": {
            "text/html": [
              "<div>\n",
              "<style scoped>\n",
              "    .dataframe tbody tr th:only-of-type {\n",
              "        vertical-align: middle;\n",
              "    }\n",
              "\n",
              "    .dataframe tbody tr th {\n",
              "        vertical-align: top;\n",
              "    }\n",
              "\n",
              "    .dataframe thead th {\n",
              "        text-align: right;\n",
              "    }\n",
              "</style>\n",
              "<table border=\"1\" class=\"dataframe\">\n",
              "  <thead>\n",
              "    <tr style=\"text-align: right;\">\n",
              "      <th></th>\n",
              "      <th>month</th>\n",
              "      <th>avgMonthlyRide</th>\n",
              "    </tr>\n",
              "  </thead>\n",
              "  <tbody>\n",
              "    <tr>\n",
              "      <th>0</th>\n",
              "      <td>1960-01-01</td>\n",
              "      <td>648</td>\n",
              "    </tr>\n",
              "    <tr>\n",
              "      <th>1</th>\n",
              "      <td>1960-02-01</td>\n",
              "      <td>646</td>\n",
              "    </tr>\n",
              "    <tr>\n",
              "      <th>2</th>\n",
              "      <td>1960-03-01</td>\n",
              "      <td>639</td>\n",
              "    </tr>\n",
              "    <tr>\n",
              "      <th>3</th>\n",
              "      <td>1960-04-01</td>\n",
              "      <td>654</td>\n",
              "    </tr>\n",
              "    <tr>\n",
              "      <th>4</th>\n",
              "      <td>1960-05-01</td>\n",
              "      <td>630</td>\n",
              "    </tr>\n",
              "  </tbody>\n",
              "</table>\n",
              "</div>"
            ],
            "text/plain": [
              "       month  avgMonthlyRide\n",
              "0 1960-01-01             648\n",
              "1 1960-02-01             646\n",
              "2 1960-03-01             639\n",
              "3 1960-04-01             654\n",
              "4 1960-05-01             630"
            ]
          },
          "metadata": {
            "tags": []
          },
          "execution_count": 404
        }
      ]
    },
    {
      "cell_type": "code",
      "metadata": {
        "id": "vwKYj8l32V-0",
        "colab_type": "code",
        "outputId": "4426cc25-7bc6-4726-99d1-04acb23b3e8d",
        "colab": {
          "base_uri": "https://localhost:8080/",
          "height": 178
        }
      },
      "source": [
        "# get the info of the dataset\n",
        "df.info()"
      ],
      "execution_count": 405,
      "outputs": [
        {
          "output_type": "stream",
          "text": [
            "<class 'pandas.core.frame.DataFrame'>\n",
            "Int64Index: 114 entries, 0 to 113\n",
            "Data columns (total 2 columns):\n",
            "month             114 non-null datetime64[ns]\n",
            "avgMonthlyRide    114 non-null int32\n",
            "dtypes: datetime64[ns](1), int32(1)\n",
            "memory usage: 2.2 KB\n"
          ],
          "name": "stdout"
        }
      ]
    },
    {
      "cell_type": "code",
      "metadata": {
        "id": "qKCiMYuJ2V-5",
        "colab_type": "code",
        "outputId": "d7b3f48f-a202-416e-8e7a-5306b2ef18c2",
        "colab": {
          "base_uri": "https://localhost:8080/",
          "height": 396
        }
      },
      "source": [
        "# get the describe of the dataset\n",
        "df.describe()"
      ],
      "execution_count": 406,
      "outputs": [
        {
          "output_type": "execute_result",
          "data": {
            "text/html": [
              "<div>\n",
              "<style scoped>\n",
              "    .dataframe tbody tr th:only-of-type {\n",
              "        vertical-align: middle;\n",
              "    }\n",
              "\n",
              "    .dataframe tbody tr th {\n",
              "        vertical-align: top;\n",
              "    }\n",
              "\n",
              "    .dataframe thead th {\n",
              "        text-align: right;\n",
              "    }\n",
              "</style>\n",
              "<table border=\"1\" class=\"dataframe\">\n",
              "  <thead>\n",
              "    <tr style=\"text-align: right;\">\n",
              "      <th></th>\n",
              "      <th>avgMonthlyRide</th>\n",
              "    </tr>\n",
              "  </thead>\n",
              "  <tbody>\n",
              "    <tr>\n",
              "      <th>count</th>\n",
              "      <td>114.000000</td>\n",
              "    </tr>\n",
              "    <tr>\n",
              "      <th>mean</th>\n",
              "      <td>1120.543860</td>\n",
              "    </tr>\n",
              "    <tr>\n",
              "      <th>std</th>\n",
              "      <td>270.888317</td>\n",
              "    </tr>\n",
              "    <tr>\n",
              "      <th>min</th>\n",
              "      <td>613.000000</td>\n",
              "    </tr>\n",
              "    <tr>\n",
              "      <th>25%</th>\n",
              "      <td>885.000000</td>\n",
              "    </tr>\n",
              "    <tr>\n",
              "      <th>50%</th>\n",
              "      <td>1158.000000</td>\n",
              "    </tr>\n",
              "    <tr>\n",
              "      <th>75%</th>\n",
              "      <td>1340.000000</td>\n",
              "    </tr>\n",
              "    <tr>\n",
              "      <th>max</th>\n",
              "      <td>1558.000000</td>\n",
              "    </tr>\n",
              "  </tbody>\n",
              "</table>\n",
              "</div>"
            ],
            "text/plain": [
              "       avgMonthlyRide\n",
              "count      114.000000\n",
              "mean      1120.543860\n",
              "std        270.888317\n",
              "min        613.000000\n",
              "25%        885.000000\n",
              "50%       1158.000000\n",
              "75%       1340.000000\n",
              "max       1558.000000"
            ]
          },
          "metadata": {
            "tags": []
          },
          "execution_count": 406
        }
      ]
    },
    {
      "cell_type": "code",
      "metadata": {
        "id": "GvMjBVGW6Kvu",
        "colab_type": "code",
        "outputId": "c819fb75-4bc5-4f14-f80e-a2fbb7efba76",
        "colab": {
          "base_uri": "https://localhost:8080/",
          "height": 270
        }
      },
      "source": [
        "df['ym'] = pd.to_datetime(df['month'], format=\"%Y-%m\").dt.to_period('M')\n",
        "df.head()"
      ],
      "execution_count": 407,
      "outputs": [
        {
          "output_type": "execute_result",
          "data": {
            "text/html": [
              "<div>\n",
              "<style scoped>\n",
              "    .dataframe tbody tr th:only-of-type {\n",
              "        vertical-align: middle;\n",
              "    }\n",
              "\n",
              "    .dataframe tbody tr th {\n",
              "        vertical-align: top;\n",
              "    }\n",
              "\n",
              "    .dataframe thead th {\n",
              "        text-align: right;\n",
              "    }\n",
              "</style>\n",
              "<table border=\"1\" class=\"dataframe\">\n",
              "  <thead>\n",
              "    <tr style=\"text-align: right;\">\n",
              "      <th></th>\n",
              "      <th>month</th>\n",
              "      <th>avgMonthlyRide</th>\n",
              "      <th>ym</th>\n",
              "    </tr>\n",
              "  </thead>\n",
              "  <tbody>\n",
              "    <tr>\n",
              "      <th>0</th>\n",
              "      <td>1960-01-01</td>\n",
              "      <td>648</td>\n",
              "      <td>1960-01</td>\n",
              "    </tr>\n",
              "    <tr>\n",
              "      <th>1</th>\n",
              "      <td>1960-02-01</td>\n",
              "      <td>646</td>\n",
              "      <td>1960-02</td>\n",
              "    </tr>\n",
              "    <tr>\n",
              "      <th>2</th>\n",
              "      <td>1960-03-01</td>\n",
              "      <td>639</td>\n",
              "      <td>1960-03</td>\n",
              "    </tr>\n",
              "    <tr>\n",
              "      <th>3</th>\n",
              "      <td>1960-04-01</td>\n",
              "      <td>654</td>\n",
              "      <td>1960-04</td>\n",
              "    </tr>\n",
              "    <tr>\n",
              "      <th>4</th>\n",
              "      <td>1960-05-01</td>\n",
              "      <td>630</td>\n",
              "      <td>1960-05</td>\n",
              "    </tr>\n",
              "  </tbody>\n",
              "</table>\n",
              "</div>"
            ],
            "text/plain": [
              "       month  avgMonthlyRide       ym\n",
              "0 1960-01-01             648  1960-01\n",
              "1 1960-02-01             646  1960-02\n",
              "2 1960-03-01             639  1960-03\n",
              "3 1960-04-01             654  1960-04\n",
              "4 1960-05-01             630  1960-05"
            ]
          },
          "metadata": {
            "tags": []
          },
          "execution_count": 407
        }
      ]
    },
    {
      "cell_type": "code",
      "metadata": {
        "id": "vZUeI-St7aia",
        "colab_type": "code",
        "colab": {}
      },
      "source": [
        ""
      ],
      "execution_count": 0,
      "outputs": []
    },
    {
      "cell_type": "markdown",
      "metadata": {
        "colab_type": "text",
        "id": "qSGUnlGX59M3"
      },
      "source": [
        "### Q1. Visualize the time-series of monthly ridership"
      ]
    },
    {
      "cell_type": "code",
      "metadata": {
        "id": "S8wAh3Jx13W5",
        "colab_type": "code",
        "outputId": "edc2d5f1-0af1-443e-bd69-1b931f9d0e13",
        "colab": {
          "base_uri": "https://localhost:8080/",
          "height": 633
        }
      },
      "source": [
        "fig, ax = plt.subplots(figsize = (30,10))\n",
        "plt.plot(df.month,df.avgMonthlyRide, color='c',linewidth=5)\n",
        "ax.xaxis.set_major_formatter(DateFormatter(\"19%y-%m\"))\n",
        "plt.legend()\n",
        "plt.tick_params(labelsize=16)\n",
        "ax.grid(b=True, alpha = 0.2)\n",
        "plt.xlabel('Month', fontsize = 15)\n",
        "plt.ylabel('Avg Ride', fontsize = 15)\n",
        "plt.title('Avg Monthly Ride', fontsize = 15)\n",
        "plt.show()\n",
        "plt.close()"
      ],
      "execution_count": 408,
      "outputs": [
        {
          "output_type": "display_data",
          "data": {
            "image/png": "[encoded data removed]",
            "text/plain": [
              "<Figure size 2160x720 with 1 Axes>"
            ]
          },
          "metadata": {
            "tags": []
          }
        }
      ]
    },
    {
      "cell_type": "markdown",
      "metadata": {
        "id": "j_kawAMg2V_A",
        "colab_type": "text"
      },
      "source": [
        "### Q2. Visualize the 12-month moving average to assess the trend"
      ]
    },
    {
      "cell_type": "markdown",
      "metadata": {
        "id": "Y4MLVSps2V_B",
        "colab_type": "text"
      },
      "source": [
        "### Q3. Perform seasonal decomposition using 12 month period"
      ]
    },
    {
      "cell_type": "code",
      "metadata": {
        "id": "neSYWgx--biI",
        "colab_type": "code",
        "colab": {}
      },
      "source": [
        "df.drop('ym', axis = 1, inplace = True)"
      ],
      "execution_count": 0,
      "outputs": []
    },
    {
      "cell_type": "code",
      "metadata": {
        "id": "fU_0UVcm-kQ9",
        "colab_type": "code",
        "outputId": "fcbc3acb-bf89-40b7-fddd-7b23f22f6a91",
        "colab": {
          "base_uri": "https://localhost:8080/",
          "height": 178
        }
      },
      "source": [
        "df.info()"
      ],
      "execution_count": 410,
      "outputs": [
        {
          "output_type": "stream",
          "text": [
            "<class 'pandas.core.frame.DataFrame'>\n",
            "Int64Index: 114 entries, 0 to 113\n",
            "Data columns (total 2 columns):\n",
            "month             114 non-null datetime64[ns]\n",
            "avgMonthlyRide    114 non-null int32\n",
            "dtypes: datetime64[ns](1), int32(1)\n",
            "memory usage: 2.2 KB\n"
          ],
          "name": "stdout"
        }
      ]
    },
    {
      "cell_type": "code",
      "metadata": {
        "id": "gIHauFCaAsML",
        "colab_type": "code",
        "colab": {}
      },
      "source": [
        "df_copy =df.copy()\n",
        "df_copy.month = df.month.astype('str')"
      ],
      "execution_count": 0,
      "outputs": []
    },
    {
      "cell_type": "code",
      "metadata": {
        "id": "xbAPPIxeBSBK",
        "colab_type": "code",
        "outputId": "e95deb27-f2b5-44ac-ecb4-d534c977edf4",
        "colab": {
          "base_uri": "https://localhost:8080/",
          "height": 40
        }
      },
      "source": [
        "df.month[0].value"
      ],
      "execution_count": 412,
      "outputs": [
        {
          "output_type": "execute_result",
          "data": {
            "text/plain": [
              "-315619200000000000"
            ]
          },
          "metadata": {
            "tags": []
          },
          "execution_count": 412
        }
      ]
    },
    {
      "cell_type": "markdown",
      "metadata": {
        "id": "M-zT4V242V_C",
        "colab_type": "text"
      },
      "source": [
        "### Q4. Visualize the distribution of residues and visually compare it with normal distribution with the same mean and standard deviation"
      ]
    },
    {
      "cell_type": "code",
      "metadata": {
        "id": "Ye6ixKDSF91x",
        "colab_type": "code",
        "colab": {}
      },
      "source": [
        ""
      ],
      "execution_count": 0,
      "outputs": []
    },
    {
      "cell_type": "code",
      "metadata": {
        "id": "XcPI9fqqF_Aw",
        "colab_type": "code",
        "colab": {}
      },
      "source": [
        ""
      ],
      "execution_count": 0,
      "outputs": []
    },
    {
      "cell_type": "code",
      "metadata": {
        "id": "9fX0yOdeF_Hq",
        "colab_type": "code",
        "colab": {}
      },
      "source": [
        ""
      ],
      "execution_count": 0,
      "outputs": []
    },
    {
      "cell_type": "code",
      "metadata": {
        "id": "9rrKVOv6F_Mf",
        "colab_type": "code",
        "colab": {}
      },
      "source": [
        ""
      ],
      "execution_count": 0,
      "outputs": []
    },
    {
      "cell_type": "code",
      "metadata": {
        "id": "gva8hBMp-iOF",
        "colab_type": "code",
        "colab": {}
      },
      "source": [
        ""
      ],
      "execution_count": 0,
      "outputs": []
    },
    {
      "cell_type": "markdown",
      "metadata": {
        "id": "6ZPFt4x22V_D",
        "colab_type": "text"
      },
      "source": [
        "### Q5. Find the strongest lower/upper outliers (months with the smallest and largest residues)"
      ]
    },
    {
      "cell_type": "code",
      "metadata": {
        "id": "2-Q_ssnB2V_D",
        "colab_type": "code",
        "colab": {}
      },
      "source": [
        ""
      ],
      "execution_count": 0,
      "outputs": []
    }
  ]
}